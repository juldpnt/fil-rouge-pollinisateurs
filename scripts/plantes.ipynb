{
 "cells": [
  {
   "cell_type": "code",
   "execution_count": 106,
   "metadata": {},
   "outputs": [],
   "source": [
    "import pandas as pd\n",
    "\n",
    "import nltk\n",
    "from nltk import ngrams\n",
    "from nltk.corpus import stopwords\n",
    "from collections import Counter\n",
    "\n",
    "from tqdm import tqdm"
   ]
  },
  {
   "cell_type": "markdown",
   "metadata": {},
   "source": [
    "# Extracting a subset of spipoll.csv containing only relevant data"
   ]
  },
  {
   "cell_type": "code",
   "execution_count": 81,
   "metadata": {},
   "outputs": [],
   "source": [
    "# Import spipoll.csv as a pandas dataframe\n",
    "spipoll = pd.read_csv(\"../data/spipoll.csv\",low_memory=False)"
   ]
  },
  {
   "cell_type": "code",
   "execution_count": null,
   "metadata": {},
   "outputs": [],
   "source": [
    "# Display the first 5 rows of the dataframe\n",
    "display(spipoll.head())\n",
    "\n",
    "# Display the columns names of the dataframe\n",
    "spipoll.columns"
   ]
  },
  {
   "cell_type": "code",
   "execution_count": 82,
   "metadata": {},
   "outputs": [
    {
     "data": {
      "text/plain": [
       "(670744, 9)"
      ]
     },
     "execution_count": 82,
     "metadata": {},
     "output_type": "execute_result"
    }
   ],
   "source": [
    "# Extract relevant columns from the spipoll dataframe\n",
    "plantes = spipoll[['collection_id', 'plante_sc', 'plante_fr',\n",
    "       'plante_precision', 'plante_inconnue', 'plante_caractere',\n",
    "       'photo_fleur', 'photo_plante', 'photo_feuille']]\n",
    "\n",
    "# Shape of the dataframe\n",
    "plantes.shape"
   ]
  },
  {
   "cell_type": "markdown",
   "metadata": {},
   "source": [
    "## Group by collections id"
   ]
  },
  {
   "cell_type": "code",
   "execution_count": 83,
   "metadata": {},
   "outputs": [
    {
     "data": {
      "text/plain": [
       "(75372, 9)"
      ]
     },
     "execution_count": 83,
     "metadata": {},
     "output_type": "execute_result"
    }
   ],
   "source": [
    "# Keep only the first row for each unique value of collection_id\n",
    "plantes = plantes.drop_duplicates(subset='collection_id', keep='first')\n",
    "\n",
    "# Shape of the dataframe\n",
    "plantes.shape"
   ]
  },
  {
   "cell_type": "markdown",
   "metadata": {},
   "source": [
    "## Save the dataset as a .csv file"
   ]
  },
  {
   "cell_type": "code",
   "execution_count": 84,
   "metadata": {},
   "outputs": [],
   "source": [
    "# Save the extracted columns as a csv file\n",
    "plantes.to_csv(\"../data/plantes.csv\", index=False)"
   ]
  },
  {
   "cell_type": "markdown",
   "metadata": {},
   "source": [
    "# Analyzing relevant data for \"Plants\""
   ]
  },
  {
   "cell_type": "code",
   "execution_count": 85,
   "metadata": {},
   "outputs": [
    {
     "data": {
      "text/html": [
       "<div>\n",
       "<style scoped>\n",
       "    .dataframe tbody tr th:only-of-type {\n",
       "        vertical-align: middle;\n",
       "    }\n",
       "\n",
       "    .dataframe tbody tr th {\n",
       "        vertical-align: top;\n",
       "    }\n",
       "\n",
       "    .dataframe thead th {\n",
       "        text-align: right;\n",
       "    }\n",
       "</style>\n",
       "<table border=\"1\" class=\"dataframe\">\n",
       "  <thead>\n",
       "    <tr style=\"text-align: right;\">\n",
       "      <th></th>\n",
       "      <th>collection_id</th>\n",
       "      <th>plante_sc</th>\n",
       "      <th>plante_fr</th>\n",
       "      <th>plante_precision</th>\n",
       "      <th>plante_inconnue</th>\n",
       "      <th>plante_caractere</th>\n",
       "      <th>photo_fleur</th>\n",
       "      <th>photo_plante</th>\n",
       "      <th>photo_feuille</th>\n",
       "    </tr>\n",
       "  </thead>\n",
       "  <tbody>\n",
       "    <tr>\n",
       "      <th>0</th>\n",
       "      <td>1</td>\n",
       "      <td>Les Trèfles à fleurs blanches ou roses en boul...</td>\n",
       "      <td>NaN</td>\n",
       "      <td>NaN</td>\n",
       "      <td>0.0</td>\n",
       "      <td>spontanée</td>\n",
       "      <td>https://spgp-api.65mo.fr/api/containers/spgp/d...</td>\n",
       "      <td>https://spgp-api.65mo.fr/api/containers/spgp/d...</td>\n",
       "      <td>https://spgp-api.65mo.fr/api/containers/spgp/d...</td>\n",
       "    </tr>\n",
       "    <tr>\n",
       "      <th>2</th>\n",
       "      <td>2</td>\n",
       "      <td>Acanthus mollis</td>\n",
       "      <td>Acanthe molle</td>\n",
       "      <td>NaN</td>\n",
       "      <td>NaN</td>\n",
       "      <td>plantée</td>\n",
       "      <td>https://spgp-api.65mo.fr/api/containers/spgp/d...</td>\n",
       "      <td>https://spgp-api.65mo.fr/api/containers/spgp/d...</td>\n",
       "      <td>https://spgp-api.65mo.fr/api/containers/spgp/d...</td>\n",
       "    </tr>\n",
       "    <tr>\n",
       "      <th>5</th>\n",
       "      <td>3</td>\n",
       "      <td>Les Orchidées à fleurs blanches, jaunes ou ver...</td>\n",
       "      <td>NaN</td>\n",
       "      <td>orchis bouc - Himantoglossum hircinum</td>\n",
       "      <td>0.0</td>\n",
       "      <td>spontanée</td>\n",
       "      <td>https://spgp-api.65mo.fr/api/containers/spgp/d...</td>\n",
       "      <td>https://spgp-api.65mo.fr/api/containers/spgp/d...</td>\n",
       "      <td>https://spgp-api.65mo.fr/api/containers/spgp/d...</td>\n",
       "    </tr>\n",
       "    <tr>\n",
       "      <th>6</th>\n",
       "      <td>4</td>\n",
       "      <td>Les Vipérines à fleurs bleues-violacées (des e...</td>\n",
       "      <td>NaN</td>\n",
       "      <td>Theaceae</td>\n",
       "      <td>0.0</td>\n",
       "      <td>plantée</td>\n",
       "      <td>https://spgp-api.65mo.fr/api/containers/spgp/d...</td>\n",
       "      <td>https://spgp-api.65mo.fr/api/containers/spgp/d...</td>\n",
       "      <td>https://spgp-api.65mo.fr/api/containers/spgp/d...</td>\n",
       "    </tr>\n",
       "    <tr>\n",
       "      <th>10</th>\n",
       "      <td>5</td>\n",
       "      <td>Les Pâquerettes (Bellis sp)</td>\n",
       "      <td>NaN</td>\n",
       "      <td>NaN</td>\n",
       "      <td>0.0</td>\n",
       "      <td>spontanée</td>\n",
       "      <td>https://spgp-api.65mo.fr/api/containers/spgp/d...</td>\n",
       "      <td>https://spgp-api.65mo.fr/api/containers/spgp/d...</td>\n",
       "      <td>https://spgp-api.65mo.fr/api/containers/spgp/d...</td>\n",
       "    </tr>\n",
       "  </tbody>\n",
       "</table>\n",
       "</div>"
      ],
      "text/plain": [
       "   collection_id                                          plante_sc  \\\n",
       "0              1  Les Trèfles à fleurs blanches ou roses en boul...   \n",
       "2              2                                    Acanthus mollis   \n",
       "5              3  Les Orchidées à fleurs blanches, jaunes ou ver...   \n",
       "6              4  Les Vipérines à fleurs bleues-violacées (des e...   \n",
       "10             5                        Les Pâquerettes (Bellis sp)   \n",
       "\n",
       "        plante_fr                       plante_precision  plante_inconnue  \\\n",
       "0             NaN                                    NaN              0.0   \n",
       "2   Acanthe molle                                    NaN              NaN   \n",
       "5             NaN  orchis bouc - Himantoglossum hircinum              0.0   \n",
       "6             NaN                               Theaceae              0.0   \n",
       "10            NaN                                    NaN              0.0   \n",
       "\n",
       "   plante_caractere                                        photo_fleur  \\\n",
       "0         spontanée  https://spgp-api.65mo.fr/api/containers/spgp/d...   \n",
       "2           plantée  https://spgp-api.65mo.fr/api/containers/spgp/d...   \n",
       "5         spontanée  https://spgp-api.65mo.fr/api/containers/spgp/d...   \n",
       "6           plantée  https://spgp-api.65mo.fr/api/containers/spgp/d...   \n",
       "10        spontanée  https://spgp-api.65mo.fr/api/containers/spgp/d...   \n",
       "\n",
       "                                         photo_plante  \\\n",
       "0   https://spgp-api.65mo.fr/api/containers/spgp/d...   \n",
       "2   https://spgp-api.65mo.fr/api/containers/spgp/d...   \n",
       "5   https://spgp-api.65mo.fr/api/containers/spgp/d...   \n",
       "6   https://spgp-api.65mo.fr/api/containers/spgp/d...   \n",
       "10  https://spgp-api.65mo.fr/api/containers/spgp/d...   \n",
       "\n",
       "                                        photo_feuille  \n",
       "0   https://spgp-api.65mo.fr/api/containers/spgp/d...  \n",
       "2   https://spgp-api.65mo.fr/api/containers/spgp/d...  \n",
       "5   https://spgp-api.65mo.fr/api/containers/spgp/d...  \n",
       "6   https://spgp-api.65mo.fr/api/containers/spgp/d...  \n",
       "10  https://spgp-api.65mo.fr/api/containers/spgp/d...  "
      ]
     },
     "metadata": {},
     "output_type": "display_data"
    }
   ],
   "source": [
    "display(plantes.head())"
   ]
  },
  {
   "cell_type": "markdown",
   "metadata": {},
   "source": [
    "## Missing data in the plants dataset"
   ]
  },
  {
   "cell_type": "code",
   "execution_count": null,
   "metadata": {},
   "outputs": [],
   "source": [
    "# Missing values in plantes.csv\n",
    "missing_values = plantes.isnull().sum()\n",
    "\n",
    "print(missing_values)"
   ]
  },
  {
   "cell_type": "code",
   "execution_count": null,
   "metadata": {},
   "outputs": [],
   "source": [
    "# Total number of rows\n",
    "total_rows = plantes.shape[0]\n",
    "\n",
    "# Compute the ratio of missing values\n",
    "ratio_missing_values = missing_values / total_rows\n",
    "\n",
    "print(ratio_missing_values)"
   ]
  },
  {
   "cell_type": "markdown",
   "metadata": {},
   "source": [
    "## Checking the content of the pictures"
   ]
  },
  {
   "cell_type": "code",
   "execution_count": null,
   "metadata": {},
   "outputs": [],
   "source": [
    "# display columns photo_fleur, photo_plante and photo_feuille\n",
    "plantes[['photo_fleur', 'photo_plante', 'photo_feuille']]"
   ]
  },
  {
   "cell_type": "code",
   "execution_count": null,
   "metadata": {},
   "outputs": [],
   "source": [
    "# Display columns photo_fleur, photo_plante and photo_feuille\n",
    "plantes[['photo_fleur', 'photo_plante', 'photo_feuille']].values"
   ]
  },
  {
   "cell_type": "markdown",
   "metadata": {},
   "source": [
    "We will only use flower photos for the API calls, as it seems to be the most precise pictures."
   ]
  },
  {
   "cell_type": "markdown",
   "metadata": {},
   "source": [
    "## Histogram of the distribution of data for each column of the plants dataset"
   ]
  },
  {
   "cell_type": "code",
   "execution_count": null,
   "metadata": {},
   "outputs": [],
   "source": [
    "# Count unique values for each column\n",
    "plantes[['photo_fleur', 'photo_plante', 'photo_feuille']].nunique()"
   ]
  },
  {
   "cell_type": "code",
   "execution_count": null,
   "metadata": {},
   "outputs": [],
   "source": [
    "print(total_rows,\"\\n\")\n",
    "\n",
    "# Ratio of unique values for each column\n",
    "plantes[['photo_fleur', 'photo_plante', 'photo_feuille']].nunique() / total_rows"
   ]
  },
  {
   "cell_type": "code",
   "execution_count": null,
   "metadata": {},
   "outputs": [],
   "source": [
    "import matplotlib.pyplot as plt\n",
    "import pandas as pd\n",
    "\n",
    "# Load the data\n",
    "plantes = pd.read_csv(\"../data/plantes.csv\")\n",
    "\n",
    "# List of columns to plot\n",
    "columns = ['plante_sc', 'plante_fr', 'plante_precision', 'plante_inconnue', 'plante_caractere']\n",
    "\n",
    "# Plot a histogram for each column\n",
    "for column in columns:\n",
    "    plt.figure()  # Create a new figure\n",
    "    plantes[column].hist()  # Plot a histogram\n",
    "    plt.title(f'Histogram of {column}')  # Set the title\n",
    "    plt.show()  # Display the plot"
   ]
  },
  {
   "cell_type": "markdown",
   "metadata": {},
   "source": [
    "## NLP to extract common features from the plant names"
   ]
  },
  {
   "cell_type": "code",
   "execution_count": 97,
   "metadata": {},
   "outputs": [
    {
     "name": "stdout",
     "output_type": "stream",
     "text": [
      "Most common trigrams in plante_sc:\n",
      "                            Trigram  Count\n",
      "0            (fleurs, jaunes, port)   1799\n",
      "1            (jaunes, port, dressé)   1799\n",
      "2          (Les, Composées, fleurs)   1760\n",
      "5     (dressé, famille, Asteraceae)   1760\n",
      "3       (Composées, fleurs, jaunes)   1760\n",
      "..                              ...    ...\n",
      "648  (Gentianes, pourpres, espèces)      1\n",
      "647      (Les, Gentianes, pourpres)      1\n",
      "646      (fleurs, ombelle, espèces)      1\n",
      "644    (bleues, fleurs, solitaires)      1\n",
      "656     (italicum, Arum, maculatum)      1\n",
      "\n",
      "[657 rows x 2 columns]\n"
     ]
    }
   ],
   "source": [
    "# Function to calculate the most common trigrams\n",
    "def calculate_most_common_trigrams(column):\n",
    "    \n",
    "    trigrams = []\n",
    "    \n",
    "    stop_words = set(stopwords.words('french'))\n",
    "    \n",
    "    for text in column.dropna():\n",
    "        tokens = nltk.word_tokenize(text)\n",
    "        tokens = [token for token in tokens if token not in stop_words and len(token) > 2]\n",
    "        trigrams.extend(list(ngrams(tokens, 3)))\n",
    "    \n",
    "    # Convert the list of trigrams into a DataFrame\n",
    "    df_trigrams = pd.DataFrame(Counter(trigrams).most_common(), columns=['Trigram', 'Count'])\n",
    "    \n",
    "    return df_trigrams\n",
    "\n",
    "# Apply the function to 'plante_sc'\n",
    "df_trigrams = calculate_most_common_trigrams(plantes['plante_sc'])\n",
    "\n",
    "# Order the DataFrame by decreasing number of occurrences\n",
    "df_trigrams = df_trigrams.sort_values(by='Count', ascending=False)\n",
    "\n",
    "print(\"Most common trigrams in plante_sc:\")\n",
    "print(df_trigrams)"
   ]
  },
  {
   "cell_type": "code",
   "execution_count": 99,
   "metadata": {},
   "outputs": [
    {
     "name": "stdout",
     "output_type": "stream",
     "text": [
      "Most common monograms in plante_sc:\n",
      "         Monogram  Count\n",
      "0         espèces  14007\n",
      "1           genre  13055\n",
      "2          Plante  10651\n",
      "3        inconnue  10651\n",
      "4          fleurs   8625\n",
      "...           ...    ...\n",
      "2232    Sannantha      1\n",
      "2231  fenestralis      1\n",
      "2230       gratus      1\n",
      "2229       pictum      1\n",
      "2609      falcata      1\n",
      "\n",
      "[2610 rows x 2 columns]\n"
     ]
    }
   ],
   "source": [
    "# Function to calculate the most common monograms\n",
    "def calculate_most_common_monograms(column):\n",
    "    \n",
    "    monograms = []\n",
    "    \n",
    "    stop_words = set(stopwords.words('french'))\n",
    "    \n",
    "    for text in column.dropna():\n",
    "        tokens = nltk.word_tokenize(text)\n",
    "        tokens = [token for token in tokens if token not in stop_words and len(token) > 3]\n",
    "        monograms.extend(tokens)\n",
    "    \n",
    "    # Convert the list of monograms into a DataFrame\n",
    "    df_monograms = pd.DataFrame(Counter(monograms).most_common(), columns=['Monogram', 'Count'])\n",
    "    \n",
    "    return df_monograms\n",
    "\n",
    "# Apply the function to 'plante_sc'\n",
    "df_monograms = calculate_most_common_monograms(plantes['plante_sc'])\n",
    "\n",
    "# Order the DataFrame by decreasing number of occurrences\n",
    "df_monograms = df_monograms.sort_values(by='Count', ascending=False)\n",
    "\n",
    "print(\"Most common monograms in plante_sc:\")\n",
    "print(df_monograms)"
   ]
  },
  {
   "cell_type": "code",
   "execution_count": 100,
   "metadata": {},
   "outputs": [
    {
     "name": "stdout",
     "output_type": "stream",
     "text": [
      "         Monogram  Count\n",
      "2434      pygmaea      1\n",
      "2426    aquatilis      1\n",
      "2421     coulteri      1\n",
      "2422  vesiculosum      1\n",
      "2423     subovata      1\n",
      "...           ...    ...\n",
      "2232    Sannantha      1\n",
      "2231  fenestralis      1\n",
      "2230       gratus      1\n",
      "2229       pictum      1\n",
      "2609      falcata      1\n",
      "\n",
      "[556 rows x 2 columns]\n"
     ]
    }
   ],
   "source": [
    "# Filter the df_monograms dataframe to keep only unique values\n",
    "df_monograms_unique = df_monograms[df_monograms['Count'] == 1]\n",
    "\n",
    "print(df_monograms_unique)"
   ]
  },
  {
   "cell_type": "code",
   "execution_count": 94,
   "metadata": {},
   "outputs": [],
   "source": []
  },
  {
   "cell_type": "code",
   "execution_count": null,
   "metadata": {},
   "outputs": [],
   "source": []
  },
  {
   "cell_type": "markdown",
   "metadata": {},
   "source": [
    "## Data engineering"
   ]
  },
  {
   "cell_type": "code",
   "execution_count": 117,
   "metadata": {},
   "outputs": [],
   "source": [
    "# drop data_augmentation from plantes\n",
    "plantes.drop(columns=['data_augmentation'], inplace=True)"
   ]
  },
  {
   "cell_type": "code",
   "execution_count": 119,
   "metadata": {},
   "outputs": [
    {
     "data": {
      "text/html": [
       "<div>\n",
       "<style scoped>\n",
       "    .dataframe tbody tr th:only-of-type {\n",
       "        vertical-align: middle;\n",
       "    }\n",
       "\n",
       "    .dataframe tbody tr th {\n",
       "        vertical-align: top;\n",
       "    }\n",
       "\n",
       "    .dataframe thead th {\n",
       "        text-align: right;\n",
       "    }\n",
       "</style>\n",
       "<table border=\"1\" class=\"dataframe\">\n",
       "  <thead>\n",
       "    <tr style=\"text-align: right;\">\n",
       "      <th></th>\n",
       "      <th>collection_id</th>\n",
       "      <th>plante_sc</th>\n",
       "      <th>data_augmentation</th>\n",
       "      <th>plante_fr</th>\n",
       "      <th>plante_precision</th>\n",
       "      <th>plante_inconnue</th>\n",
       "      <th>plante_caractere</th>\n",
       "      <th>photo_fleur</th>\n",
       "      <th>photo_plante</th>\n",
       "      <th>photo_feuille</th>\n",
       "    </tr>\n",
       "  </thead>\n",
       "  <tbody>\n",
       "    <tr>\n",
       "      <th>0</th>\n",
       "      <td>1</td>\n",
       "      <td>Les Trèfles à fleurs blanches ou roses en boul...</td>\n",
       "      <td>Na</td>\n",
       "      <td>NaN</td>\n",
       "      <td>NaN</td>\n",
       "      <td>0.0</td>\n",
       "      <td>spontanée</td>\n",
       "      <td>https://spgp-api.65mo.fr/api/containers/spgp/d...</td>\n",
       "      <td>https://spgp-api.65mo.fr/api/containers/spgp/d...</td>\n",
       "      <td>https://spgp-api.65mo.fr/api/containers/spgp/d...</td>\n",
       "    </tr>\n",
       "    <tr>\n",
       "      <th>2</th>\n",
       "      <td>2</td>\n",
       "      <td>Acanthus mollis</td>\n",
       "      <td>Na</td>\n",
       "      <td>Acanthe molle</td>\n",
       "      <td>NaN</td>\n",
       "      <td>NaN</td>\n",
       "      <td>plantée</td>\n",
       "      <td>https://spgp-api.65mo.fr/api/containers/spgp/d...</td>\n",
       "      <td>https://spgp-api.65mo.fr/api/containers/spgp/d...</td>\n",
       "      <td>https://spgp-api.65mo.fr/api/containers/spgp/d...</td>\n",
       "    </tr>\n",
       "    <tr>\n",
       "      <th>5</th>\n",
       "      <td>3</td>\n",
       "      <td>Les Orchidées à fleurs blanches, jaunes ou ver...</td>\n",
       "      <td>Na</td>\n",
       "      <td>NaN</td>\n",
       "      <td>orchis bouc - Himantoglossum hircinum</td>\n",
       "      <td>0.0</td>\n",
       "      <td>spontanée</td>\n",
       "      <td>https://spgp-api.65mo.fr/api/containers/spgp/d...</td>\n",
       "      <td>https://spgp-api.65mo.fr/api/containers/spgp/d...</td>\n",
       "      <td>https://spgp-api.65mo.fr/api/containers/spgp/d...</td>\n",
       "    </tr>\n",
       "    <tr>\n",
       "      <th>6</th>\n",
       "      <td>4</td>\n",
       "      <td>Les Vipérines à fleurs bleues-violacées (des e...</td>\n",
       "      <td>Na</td>\n",
       "      <td>NaN</td>\n",
       "      <td>Theaceae</td>\n",
       "      <td>0.0</td>\n",
       "      <td>plantée</td>\n",
       "      <td>https://spgp-api.65mo.fr/api/containers/spgp/d...</td>\n",
       "      <td>https://spgp-api.65mo.fr/api/containers/spgp/d...</td>\n",
       "      <td>https://spgp-api.65mo.fr/api/containers/spgp/d...</td>\n",
       "    </tr>\n",
       "    <tr>\n",
       "      <th>10</th>\n",
       "      <td>5</td>\n",
       "      <td>Les Pâquerettes (Bellis sp)</td>\n",
       "      <td>Na</td>\n",
       "      <td>NaN</td>\n",
       "      <td>NaN</td>\n",
       "      <td>0.0</td>\n",
       "      <td>spontanée</td>\n",
       "      <td>https://spgp-api.65mo.fr/api/containers/spgp/d...</td>\n",
       "      <td>https://spgp-api.65mo.fr/api/containers/spgp/d...</td>\n",
       "      <td>https://spgp-api.65mo.fr/api/containers/spgp/d...</td>\n",
       "    </tr>\n",
       "  </tbody>\n",
       "</table>\n",
       "</div>"
      ],
      "text/plain": [
       "   collection_id                                          plante_sc  \\\n",
       "0              1  Les Trèfles à fleurs blanches ou roses en boul...   \n",
       "2              2                                    Acanthus mollis   \n",
       "5              3  Les Orchidées à fleurs blanches, jaunes ou ver...   \n",
       "6              4  Les Vipérines à fleurs bleues-violacées (des e...   \n",
       "10             5                        Les Pâquerettes (Bellis sp)   \n",
       "\n",
       "   data_augmentation      plante_fr                       plante_precision  \\\n",
       "0                 Na            NaN                                    NaN   \n",
       "2                 Na  Acanthe molle                                    NaN   \n",
       "5                 Na            NaN  orchis bouc - Himantoglossum hircinum   \n",
       "6                 Na            NaN                               Theaceae   \n",
       "10                Na            NaN                                    NaN   \n",
       "\n",
       "    plante_inconnue plante_caractere  \\\n",
       "0               0.0        spontanée   \n",
       "2               NaN          plantée   \n",
       "5               0.0        spontanée   \n",
       "6               0.0          plantée   \n",
       "10              0.0        spontanée   \n",
       "\n",
       "                                          photo_fleur  \\\n",
       "0   https://spgp-api.65mo.fr/api/containers/spgp/d...   \n",
       "2   https://spgp-api.65mo.fr/api/containers/spgp/d...   \n",
       "5   https://spgp-api.65mo.fr/api/containers/spgp/d...   \n",
       "6   https://spgp-api.65mo.fr/api/containers/spgp/d...   \n",
       "10  https://spgp-api.65mo.fr/api/containers/spgp/d...   \n",
       "\n",
       "                                         photo_plante  \\\n",
       "0   https://spgp-api.65mo.fr/api/containers/spgp/d...   \n",
       "2   https://spgp-api.65mo.fr/api/containers/spgp/d...   \n",
       "5   https://spgp-api.65mo.fr/api/containers/spgp/d...   \n",
       "6   https://spgp-api.65mo.fr/api/containers/spgp/d...   \n",
       "10  https://spgp-api.65mo.fr/api/containers/spgp/d...   \n",
       "\n",
       "                                        photo_feuille  \n",
       "0   https://spgp-api.65mo.fr/api/containers/spgp/d...  \n",
       "2   https://spgp-api.65mo.fr/api/containers/spgp/d...  \n",
       "5   https://spgp-api.65mo.fr/api/containers/spgp/d...  \n",
       "6   https://spgp-api.65mo.fr/api/containers/spgp/d...  \n",
       "10  https://spgp-api.65mo.fr/api/containers/spgp/d...  "
      ]
     },
     "metadata": {},
     "output_type": "display_data"
    },
    {
     "name": "stdout",
     "output_type": "stream",
     "text": [
      "Nombre de lignes vides dans data_augmentation : 0\n"
     ]
    }
   ],
   "source": [
    "# Check if 'data augmentation' column exists in the dataframe\n",
    "if 'data_augmentation' not in plantes.columns:\n",
    "    # If not, insert a new blank column 'data augmentation' between 'plante_sc' and 'plante_fr'\n",
    "    plantes.insert(2, 'data_augmentation', 'Na')\n",
    "\n",
    "display(plantes.head())\n",
    "\n",
    "# Display the number of cells containing 'Na' in the 'data augmentation' column\n",
    "plantes['data_augmentation'].value_counts()"
   ]
  },
  {
   "cell_type": "code",
   "execution_count": 112,
   "metadata": {},
   "outputs": [],
   "source": [
    "# Convert the df_monograms_unique dataframe into a set\n",
    "monograms_set = set(df_monograms_unique['Monogram'])"
   ]
  },
  {
   "cell_type": "code",
   "execution_count": 107,
   "metadata": {},
   "outputs": [
    {
     "name": "stderr",
     "output_type": "stream",
     "text": [
      "100%|██████████| 75372/75372 [00:13<00:00, 5644.50it/s]\n"
     ]
    }
   ],
   "source": [
    "# Fill the 'data augmentation' column with the monograms that are in the 'plante_sc' column\n",
    "\n",
    "for index, row in tqdm(plantes.iterrows(), total=plantes.shape[0]):\n",
    "    words = set(str(row['plante_sc']).split())\n",
    "    matching_words = words.intersection(monograms_set)\n",
    "    if matching_words:\n",
    "        plantes.loc[index, 'data augmentation'] = ' '.join(matching_words)\n",
    "    else:\n",
    "        plantes.loc[index, 'data augmentation'] = ''"
   ]
  },
  {
   "cell_type": "code",
   "execution_count": 110,
   "metadata": {},
   "outputs": [
    {
     "data": {
      "text/html": [
       "<div>\n",
       "<style scoped>\n",
       "    .dataframe tbody tr th:only-of-type {\n",
       "        vertical-align: middle;\n",
       "    }\n",
       "\n",
       "    .dataframe tbody tr th {\n",
       "        vertical-align: top;\n",
       "    }\n",
       "\n",
       "    .dataframe thead th {\n",
       "        text-align: right;\n",
       "    }\n",
       "</style>\n",
       "<table border=\"1\" class=\"dataframe\">\n",
       "  <thead>\n",
       "    <tr style=\"text-align: right;\">\n",
       "      <th></th>\n",
       "      <th>collection_id</th>\n",
       "      <th>plante_sc</th>\n",
       "      <th>data augmentation</th>\n",
       "      <th>plante_fr</th>\n",
       "      <th>plante_precision</th>\n",
       "      <th>plante_inconnue</th>\n",
       "      <th>plante_caractere</th>\n",
       "      <th>photo_fleur</th>\n",
       "      <th>photo_plante</th>\n",
       "      <th>photo_feuille</th>\n",
       "    </tr>\n",
       "  </thead>\n",
       "  <tbody>\n",
       "    <tr>\n",
       "      <th>0</th>\n",
       "      <td>1</td>\n",
       "      <td>Les Trèfles à fleurs blanches ou roses en boul...</td>\n",
       "      <td></td>\n",
       "      <td>NaN</td>\n",
       "      <td>NaN</td>\n",
       "      <td>0.0</td>\n",
       "      <td>spontanée</td>\n",
       "      <td>https://spgp-api.65mo.fr/api/containers/spgp/d...</td>\n",
       "      <td>https://spgp-api.65mo.fr/api/containers/spgp/d...</td>\n",
       "      <td>https://spgp-api.65mo.fr/api/containers/spgp/d...</td>\n",
       "    </tr>\n",
       "    <tr>\n",
       "      <th>2</th>\n",
       "      <td>2</td>\n",
       "      <td>Acanthus mollis</td>\n",
       "      <td></td>\n",
       "      <td>Acanthe molle</td>\n",
       "      <td>NaN</td>\n",
       "      <td>NaN</td>\n",
       "      <td>plantée</td>\n",
       "      <td>https://spgp-api.65mo.fr/api/containers/spgp/d...</td>\n",
       "      <td>https://spgp-api.65mo.fr/api/containers/spgp/d...</td>\n",
       "      <td>https://spgp-api.65mo.fr/api/containers/spgp/d...</td>\n",
       "    </tr>\n",
       "    <tr>\n",
       "      <th>5</th>\n",
       "      <td>3</td>\n",
       "      <td>Les Orchidées à fleurs blanches, jaunes ou ver...</td>\n",
       "      <td></td>\n",
       "      <td>NaN</td>\n",
       "      <td>orchis bouc - Himantoglossum hircinum</td>\n",
       "      <td>0.0</td>\n",
       "      <td>spontanée</td>\n",
       "      <td>https://spgp-api.65mo.fr/api/containers/spgp/d...</td>\n",
       "      <td>https://spgp-api.65mo.fr/api/containers/spgp/d...</td>\n",
       "      <td>https://spgp-api.65mo.fr/api/containers/spgp/d...</td>\n",
       "    </tr>\n",
       "    <tr>\n",
       "      <th>6</th>\n",
       "      <td>4</td>\n",
       "      <td>Les Vipérines à fleurs bleues-violacées (des e...</td>\n",
       "      <td></td>\n",
       "      <td>NaN</td>\n",
       "      <td>Theaceae</td>\n",
       "      <td>0.0</td>\n",
       "      <td>plantée</td>\n",
       "      <td>https://spgp-api.65mo.fr/api/containers/spgp/d...</td>\n",
       "      <td>https://spgp-api.65mo.fr/api/containers/spgp/d...</td>\n",
       "      <td>https://spgp-api.65mo.fr/api/containers/spgp/d...</td>\n",
       "    </tr>\n",
       "    <tr>\n",
       "      <th>10</th>\n",
       "      <td>5</td>\n",
       "      <td>Les Pâquerettes (Bellis sp)</td>\n",
       "      <td></td>\n",
       "      <td>NaN</td>\n",
       "      <td>NaN</td>\n",
       "      <td>0.0</td>\n",
       "      <td>spontanée</td>\n",
       "      <td>https://spgp-api.65mo.fr/api/containers/spgp/d...</td>\n",
       "      <td>https://spgp-api.65mo.fr/api/containers/spgp/d...</td>\n",
       "      <td>https://spgp-api.65mo.fr/api/containers/spgp/d...</td>\n",
       "    </tr>\n",
       "  </tbody>\n",
       "</table>\n",
       "</div>"
      ],
      "text/plain": [
       "   collection_id                                          plante_sc  \\\n",
       "0              1  Les Trèfles à fleurs blanches ou roses en boul...   \n",
       "2              2                                    Acanthus mollis   \n",
       "5              3  Les Orchidées à fleurs blanches, jaunes ou ver...   \n",
       "6              4  Les Vipérines à fleurs bleues-violacées (des e...   \n",
       "10             5                        Les Pâquerettes (Bellis sp)   \n",
       "\n",
       "   data augmentation      plante_fr                       plante_precision  \\\n",
       "0                               NaN                                    NaN   \n",
       "2                     Acanthe molle                                    NaN   \n",
       "5                               NaN  orchis bouc - Himantoglossum hircinum   \n",
       "6                               NaN                               Theaceae   \n",
       "10                              NaN                                    NaN   \n",
       "\n",
       "    plante_inconnue plante_caractere  \\\n",
       "0               0.0        spontanée   \n",
       "2               NaN          plantée   \n",
       "5               0.0        spontanée   \n",
       "6               0.0          plantée   \n",
       "10              0.0        spontanée   \n",
       "\n",
       "                                          photo_fleur  \\\n",
       "0   https://spgp-api.65mo.fr/api/containers/spgp/d...   \n",
       "2   https://spgp-api.65mo.fr/api/containers/spgp/d...   \n",
       "5   https://spgp-api.65mo.fr/api/containers/spgp/d...   \n",
       "6   https://spgp-api.65mo.fr/api/containers/spgp/d...   \n",
       "10  https://spgp-api.65mo.fr/api/containers/spgp/d...   \n",
       "\n",
       "                                         photo_plante  \\\n",
       "0   https://spgp-api.65mo.fr/api/containers/spgp/d...   \n",
       "2   https://spgp-api.65mo.fr/api/containers/spgp/d...   \n",
       "5   https://spgp-api.65mo.fr/api/containers/spgp/d...   \n",
       "6   https://spgp-api.65mo.fr/api/containers/spgp/d...   \n",
       "10  https://spgp-api.65mo.fr/api/containers/spgp/d...   \n",
       "\n",
       "                                        photo_feuille  \n",
       "0   https://spgp-api.65mo.fr/api/containers/spgp/d...  \n",
       "2   https://spgp-api.65mo.fr/api/containers/spgp/d...  \n",
       "5   https://spgp-api.65mo.fr/api/containers/spgp/d...  \n",
       "6   https://spgp-api.65mo.fr/api/containers/spgp/d...  \n",
       "10  https://spgp-api.65mo.fr/api/containers/spgp/d...  "
      ]
     },
     "metadata": {},
     "output_type": "display_data"
    },
    {
     "data": {
      "text/plain": [
       "0"
      ]
     },
     "execution_count": 110,
     "metadata": {},
     "output_type": "execute_result"
    }
   ],
   "source": [
    "# Display the dataframe\n",
    "display(plantes.head())"
   ]
  },
  {
   "cell_type": "markdown",
   "metadata": {},
   "source": [
    "# Call API on flower pictures to infer the missing data"
   ]
  },
  {
   "cell_type": "code",
   "execution_count": null,
   "metadata": {},
   "outputs": [],
   "source": [
    "import data_treatment.plantnet_api as plantnet_api"
   ]
  },
  {
   "cell_type": "code",
   "execution_count": null,
   "metadata": {},
   "outputs": [],
   "source": [
    "key_api = '2b10Me1HF0rfjoGWCseolNa8e'\n",
    "\n",
    "predictor = plantnet_api.PlantNetPredictor(key_api)"
   ]
  },
  {
   "cell_type": "code",
   "execution_count": null,
   "metadata": {},
   "outputs": [],
   "source": [
    "prediction = predictor.predict(plantes[['photo_fleur', 'photo_plante', 'photo_feuille']].values[0][0], 'flower',True)"
   ]
  },
  {
   "cell_type": "code",
   "execution_count": null,
   "metadata": {},
   "outputs": [],
   "source": [
    "prediction.keys()\n",
    "\n",
    "prediction['results'][0]['species']"
   ]
  },
  {
   "cell_type": "code",
   "execution_count": null,
   "metadata": {},
   "outputs": [],
   "source": []
  }
 ],
 "metadata": {
  "kernelspec": {
   "display_name": "Python 3",
   "language": "python",
   "name": "python3"
  },
  "language_info": {
   "codemirror_mode": {
    "name": "ipython",
    "version": 3
   },
   "file_extension": ".py",
   "mimetype": "text/x-python",
   "name": "python",
   "nbconvert_exporter": "python",
   "pygments_lexer": "ipython3",
   "version": "3.12.0"
  }
 },
 "nbformat": 4,
 "nbformat_minor": 2
}
