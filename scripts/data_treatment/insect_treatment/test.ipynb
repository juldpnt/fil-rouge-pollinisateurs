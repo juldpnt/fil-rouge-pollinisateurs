{
 "cells": [
  {
   "cell_type": "code",
   "execution_count": 1,
   "metadata": {},
   "outputs": [],
   "source": [
    "import pandas as pd"
   ]
  },
  {
   "cell_type": "code",
   "execution_count": 3,
   "metadata": {},
   "outputs": [
    {
     "data": {
      "text/html": [
       "<div>\n",
       "<style scoped>\n",
       "    .dataframe tbody tr th:only-of-type {\n",
       "        vertical-align: middle;\n",
       "    }\n",
       "\n",
       "    .dataframe tbody tr th {\n",
       "        vertical-align: top;\n",
       "    }\n",
       "\n",
       "    .dataframe thead th {\n",
       "        text-align: right;\n",
       "    }\n",
       "</style>\n",
       "<table border=\"1\" class=\"dataframe\">\n",
       "  <thead>\n",
       "    <tr style=\"text-align: right;\">\n",
       "      <th></th>\n",
       "      <th>x</th>\n",
       "    </tr>\n",
       "  </thead>\n",
       "  <tbody>\n",
       "    <tr>\n",
       "      <th>0</th>\n",
       "      <td>Apis mellifera</td>\n",
       "    </tr>\n",
       "    <tr>\n",
       "      <th>1</th>\n",
       "      <td>Bombus</td>\n",
       "    </tr>\n",
       "    <tr>\n",
       "      <th>2</th>\n",
       "      <td>Bombus</td>\n",
       "    </tr>\n",
       "    <tr>\n",
       "      <th>3</th>\n",
       "      <td>Sarcophaga</td>\n",
       "    </tr>\n",
       "    <tr>\n",
       "      <th>4</th>\n",
       "      <td>Apis mellifera</td>\n",
       "    </tr>\n",
       "  </tbody>\n",
       "</table>\n",
       "</div>"
      ],
      "text/plain": [
       "                x\n",
       "0  Apis mellifera\n",
       "1          Bombus\n",
       "2          Bombus\n",
       "3      Sarcophaga\n",
       "4  Apis mellifera"
      ]
     },
     "execution_count": 3,
     "metadata": {},
     "output_type": "execute_result"
    }
   ],
   "source": [
    "df = pd.read_csv('insect_sc.csv')\n",
    "df.head()"
   ]
  },
  {
   "cell_type": "code",
   "execution_count": 4,
   "metadata": {},
   "outputs": [
    {
     "data": {
      "text/html": [
       "<div>\n",
       "<style scoped>\n",
       "    .dataframe tbody tr th:only-of-type {\n",
       "        vertical-align: middle;\n",
       "    }\n",
       "\n",
       "    .dataframe tbody tr th {\n",
       "        vertical-align: top;\n",
       "    }\n",
       "\n",
       "    .dataframe thead th {\n",
       "        text-align: right;\n",
       "    }\n",
       "</style>\n",
       "<table border=\"1\" class=\"dataframe\">\n",
       "  <thead>\n",
       "    <tr style=\"text-align: right;\">\n",
       "      <th></th>\n",
       "      <th>x</th>\n",
       "    </tr>\n",
       "  </thead>\n",
       "  <tbody>\n",
       "    <tr>\n",
       "      <th>0</th>\n",
       "      <td>Apis mellifera</td>\n",
       "    </tr>\n",
       "    <tr>\n",
       "      <th>1</th>\n",
       "      <td>Bombus</td>\n",
       "    </tr>\n",
       "    <tr>\n",
       "      <th>2</th>\n",
       "      <td>Bombus</td>\n",
       "    </tr>\n",
       "    <tr>\n",
       "      <th>3</th>\n",
       "      <td>Sarcophaga</td>\n",
       "    </tr>\n",
       "    <tr>\n",
       "      <th>4</th>\n",
       "      <td>Apis mellifera</td>\n",
       "    </tr>\n",
       "    <tr>\n",
       "      <th>...</th>\n",
       "      <td>...</td>\n",
       "    </tr>\n",
       "    <tr>\n",
       "      <th>95</th>\n",
       "      <td>Neomyia, Calliphora et autres</td>\n",
       "    </tr>\n",
       "    <tr>\n",
       "      <th>96</th>\n",
       "      <td>Diptera</td>\n",
       "    </tr>\n",
       "    <tr>\n",
       "      <th>97</th>\n",
       "      <td>Bombus</td>\n",
       "    </tr>\n",
       "    <tr>\n",
       "      <th>98</th>\n",
       "      <td>Neomyia, Calliphora et autres</td>\n",
       "    </tr>\n",
       "    <tr>\n",
       "      <th>99</th>\n",
       "      <td>Meliscaeva et autres</td>\n",
       "    </tr>\n",
       "  </tbody>\n",
       "</table>\n",
       "<p>100 rows × 1 columns</p>\n",
       "</div>"
      ],
      "text/plain": [
       "                                x\n",
       "0                  Apis mellifera\n",
       "1                          Bombus\n",
       "2                          Bombus\n",
       "3                      Sarcophaga\n",
       "4                  Apis mellifera\n",
       "..                            ...\n",
       "95  Neomyia, Calliphora et autres\n",
       "96                        Diptera\n",
       "97                         Bombus\n",
       "98  Neomyia, Calliphora et autres\n",
       "99           Meliscaeva et autres\n",
       "\n",
       "[100 rows x 1 columns]"
      ]
     },
     "execution_count": 4,
     "metadata": {},
     "output_type": "execute_result"
    }
   ],
   "source": [
    "df = df[0:100]\n",
    "df"
   ]
  },
  {
   "cell_type": "code",
   "execution_count": 5,
   "metadata": {},
   "outputs": [
    {
     "name": "stdout",
     "output_type": "stream",
     "text": [
      "26\n"
     ]
    },
    {
     "data": {
      "text/plain": [
       "['Apis mellifera',\n",
       " 'Bombus',\n",
       " 'Sarcophaga',\n",
       " 'Tettigonoidea',\n",
       " 'Neomyia, Calliphora et autres',\n",
       " 'Diptera',\n",
       " 'Tephritidae et autres',\n",
       " 'Eupeodes, Scaeva',\n",
       " 'Episyrphus balteatus',\n",
       " 'Meliscaeva et autres',\n",
       " 'Eristalis',\n",
       " 'Coleoptera',\n",
       " 'Geomyza tripunctata',\n",
       " 'Nematocera',\n",
       " 'Chironomidae',\n",
       " 'Trichoceridae',\n",
       " 'Pyrrhocoris apterus',\n",
       " 'Thysanoptera',\n",
       " 'Piezodorus lituratus',\n",
       " 'Formicinae',\n",
       " 'Aphididae',\n",
       " 'Xylocopa violacea',\n",
       " 'Syrphus, Dasysyrphus et autres',\n",
       " 'Sepsidae',\n",
       " 'Pisaura mirabilis',\n",
       " 'Cucujidae, Cryptophagidae et autres']"
      ]
     },
     "execution_count": 5,
     "metadata": {},
     "output_type": "execute_result"
    }
   ],
   "source": [
    "# Valeurs uniques de df\n",
    "unique = df[\"x\"].unique()\n",
    "unique = list(unique)\n",
    "print(len(unique))\n",
    "unique"
   ]
  },
  {
   "cell_type": "code",
   "execution_count": 6,
   "metadata": {},
   "outputs": [
    {
     "data": {
      "text/plain": [
       "[['Apis mellifera'],\n",
       " ['Bombus'],\n",
       " ['Sarcophaga'],\n",
       " ['Tettigonoidea'],\n",
       " ['Neomyia', 'Calliphora'],\n",
       " ['Diptera'],\n",
       " ['Tephritidae'],\n",
       " ['Eupeodes', 'Scaeva'],\n",
       " ['Episyrphus balteatus'],\n",
       " ['Meliscaeva'],\n",
       " ['Eristalis'],\n",
       " ['Coleoptera'],\n",
       " ['Geomyza tripunctata'],\n",
       " ['Nematocera'],\n",
       " ['Chironomidae'],\n",
       " ['Trichoceridae'],\n",
       " ['Pyrrhocoris apterus'],\n",
       " ['Thysanoptera'],\n",
       " ['Piezodorus lituratus'],\n",
       " ['Formicinae'],\n",
       " ['Aphididae'],\n",
       " ['Xylocopa violacea'],\n",
       " ['Syrphus', 'Dasysyrphus'],\n",
       " ['Sepsidae'],\n",
       " ['Pisaura mirabilis'],\n",
       " ['Cucujidae', 'Cryptophagidae']]"
      ]
     },
     "execution_count": 6,
     "metadata": {},
     "output_type": "execute_result"
    }
   ],
   "source": [
    "for i in range(len(unique)):\n",
    "    unique[i] = unique[i].replace(' et autres', '')\n",
    "    unique[i] = unique[i].split(', ')\n",
    "unique"
   ]
  },
  {
   "cell_type": "code",
   "execution_count": 7,
   "metadata": {},
   "outputs": [],
   "source": [
    "def classif_1(insecte_1):\n",
    "    return insecte_1\n",
    "\n",
    "def classif_2(insecte_1, insecte_2):\n",
    "    return insecte_1, insecte_2"
   ]
  },
  {
   "cell_type": "code",
   "execution_count": 8,
   "metadata": {},
   "outputs": [
    {
     "name": "stdout",
     "output_type": "stream",
     "text": [
      "Apis mellifera\n",
      "Bombus\n",
      "Sarcophaga\n",
      "Tettigonoidea\n",
      "('Neomyia', 'Calliphora')\n",
      "Diptera\n",
      "Tephritidae\n",
      "('Eupeodes', 'Scaeva')\n",
      "Episyrphus balteatus\n",
      "Meliscaeva\n",
      "Eristalis\n",
      "Coleoptera\n",
      "Geomyza tripunctata\n",
      "Nematocera\n",
      "Chironomidae\n",
      "Trichoceridae\n",
      "Pyrrhocoris apterus\n",
      "Thysanoptera\n",
      "Piezodorus lituratus\n",
      "Formicinae\n",
      "Aphididae\n",
      "Xylocopa violacea\n",
      "('Syrphus', 'Dasysyrphus')\n",
      "Sepsidae\n",
      "Pisaura mirabilis\n",
      "('Cucujidae', 'Cryptophagidae')\n"
     ]
    }
   ],
   "source": [
    "for i in range (len(unique)):\n",
    "    length = len(unique[i])\n",
    "    if length == 1:\n",
    "        print(classif_1(unique[i][0]))\n",
    "    elif length == 2:\n",
    "        print(classif_2(unique[i][0], unique[i][1]))\n",
    "    else:\n",
    "        print(\"Erreur\")"
   ]
  },
  {
   "cell_type": "code",
   "execution_count": 9,
   "metadata": {},
   "outputs": [],
   "source": [
    "test = {'Apis mellifera' : {'a' : 1, 'b' : 2}, 'Bombus' : {'a' : 3, 'b' : 4}}"
   ]
  },
  {
   "cell_type": "code",
   "execution_count": 10,
   "metadata": {},
   "outputs": [],
   "source": [
    "df['New'] = df['x'].apply(lambda x: test[x] if x in test else None)"
   ]
  },
  {
   "cell_type": "code",
   "execution_count": 11,
   "metadata": {},
   "outputs": [
    {
     "data": {
      "text/html": [
       "<div>\n",
       "<style scoped>\n",
       "    .dataframe tbody tr th:only-of-type {\n",
       "        vertical-align: middle;\n",
       "    }\n",
       "\n",
       "    .dataframe tbody tr th {\n",
       "        vertical-align: top;\n",
       "    }\n",
       "\n",
       "    .dataframe thead th {\n",
       "        text-align: right;\n",
       "    }\n",
       "</style>\n",
       "<table border=\"1\" class=\"dataframe\">\n",
       "  <thead>\n",
       "    <tr style=\"text-align: right;\">\n",
       "      <th></th>\n",
       "      <th>x</th>\n",
       "      <th>New</th>\n",
       "      <th>a</th>\n",
       "      <th>b</th>\n",
       "    </tr>\n",
       "  </thead>\n",
       "  <tbody>\n",
       "    <tr>\n",
       "      <th>0</th>\n",
       "      <td>Apis mellifera</td>\n",
       "      <td>{'a': 1, 'b': 2}</td>\n",
       "      <td>1.0</td>\n",
       "      <td>2.0</td>\n",
       "    </tr>\n",
       "    <tr>\n",
       "      <th>1</th>\n",
       "      <td>Bombus</td>\n",
       "      <td>{'a': 3, 'b': 4}</td>\n",
       "      <td>3.0</td>\n",
       "      <td>4.0</td>\n",
       "    </tr>\n",
       "    <tr>\n",
       "      <th>2</th>\n",
       "      <td>Bombus</td>\n",
       "      <td>{'a': 3, 'b': 4}</td>\n",
       "      <td>3.0</td>\n",
       "      <td>4.0</td>\n",
       "    </tr>\n",
       "    <tr>\n",
       "      <th>3</th>\n",
       "      <td>Sarcophaga</td>\n",
       "      <td>None</td>\n",
       "      <td>NaN</td>\n",
       "      <td>NaN</td>\n",
       "    </tr>\n",
       "    <tr>\n",
       "      <th>4</th>\n",
       "      <td>Apis mellifera</td>\n",
       "      <td>{'a': 1, 'b': 2}</td>\n",
       "      <td>1.0</td>\n",
       "      <td>2.0</td>\n",
       "    </tr>\n",
       "    <tr>\n",
       "      <th>...</th>\n",
       "      <td>...</td>\n",
       "      <td>...</td>\n",
       "      <td>...</td>\n",
       "      <td>...</td>\n",
       "    </tr>\n",
       "    <tr>\n",
       "      <th>95</th>\n",
       "      <td>Neomyia, Calliphora et autres</td>\n",
       "      <td>None</td>\n",
       "      <td>NaN</td>\n",
       "      <td>NaN</td>\n",
       "    </tr>\n",
       "    <tr>\n",
       "      <th>96</th>\n",
       "      <td>Diptera</td>\n",
       "      <td>None</td>\n",
       "      <td>NaN</td>\n",
       "      <td>NaN</td>\n",
       "    </tr>\n",
       "    <tr>\n",
       "      <th>97</th>\n",
       "      <td>Bombus</td>\n",
       "      <td>{'a': 3, 'b': 4}</td>\n",
       "      <td>3.0</td>\n",
       "      <td>4.0</td>\n",
       "    </tr>\n",
       "    <tr>\n",
       "      <th>98</th>\n",
       "      <td>Neomyia, Calliphora et autres</td>\n",
       "      <td>None</td>\n",
       "      <td>NaN</td>\n",
       "      <td>NaN</td>\n",
       "    </tr>\n",
       "    <tr>\n",
       "      <th>99</th>\n",
       "      <td>Meliscaeva et autres</td>\n",
       "      <td>None</td>\n",
       "      <td>NaN</td>\n",
       "      <td>NaN</td>\n",
       "    </tr>\n",
       "  </tbody>\n",
       "</table>\n",
       "<p>100 rows × 4 columns</p>\n",
       "</div>"
      ],
      "text/plain": [
       "                                x               New    a    b\n",
       "0                  Apis mellifera  {'a': 1, 'b': 2}  1.0  2.0\n",
       "1                          Bombus  {'a': 3, 'b': 4}  3.0  4.0\n",
       "2                          Bombus  {'a': 3, 'b': 4}  3.0  4.0\n",
       "3                      Sarcophaga              None  NaN  NaN\n",
       "4                  Apis mellifera  {'a': 1, 'b': 2}  1.0  2.0\n",
       "..                            ...               ...  ...  ...\n",
       "95  Neomyia, Calliphora et autres              None  NaN  NaN\n",
       "96                        Diptera              None  NaN  NaN\n",
       "97                         Bombus  {'a': 3, 'b': 4}  3.0  4.0\n",
       "98  Neomyia, Calliphora et autres              None  NaN  NaN\n",
       "99           Meliscaeva et autres              None  NaN  NaN\n",
       "\n",
       "[100 rows x 4 columns]"
      ]
     },
     "execution_count": 11,
     "metadata": {},
     "output_type": "execute_result"
    }
   ],
   "source": [
    "df['a'] = df['New'].apply(lambda x: x['a'] if isinstance(x, dict) and 'a' in x else None)\n",
    "df['b'] = df['New'].apply(lambda x: x['b'] if isinstance(x, dict) and 'b' in x else None)\n",
    "df"
   ]
  }
 ],
 "metadata": {
  "kernelspec": {
   "display_name": "Python 3",
   "language": "python",
   "name": "python3"
  },
  "language_info": {
   "codemirror_mode": {
    "name": "ipython",
    "version": 3
   },
   "file_extension": ".py",
   "mimetype": "text/x-python",
   "name": "python",
   "nbconvert_exporter": "python",
   "pygments_lexer": "ipython3",
   "version": "3.11.5"
  }
 },
 "nbformat": 4,
 "nbformat_minor": 2
}
