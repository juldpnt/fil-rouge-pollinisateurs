{
 "cells": [
  {
   "cell_type": "markdown",
   "id": "400bc240",
   "metadata": {
    "jp-MarkdownHeadingCollapsed": true,
    "tags": []
   },
   "source": [
    "# Chargement des données"
   ]
  },
  {
   "cell_type": "code",
   "execution_count": 115,
   "id": "84b31ade-d54b-4515-9e59-0c3d08c41500",
   "metadata": {
    "tags": []
   },
   "outputs": [],
   "source": [
    "import pandas as pd"
   ]
  },
  {
   "cell_type": "markdown",
   "id": "c5af0a1e-3f26-4509-bc71-925f98a24d37",
   "metadata": {},
   "source": [
    "Décommentez la cellule suivante si vous avez besoin d'installer la librairie qui nous servira à la recherche de motifs fréquents."
   ]
  },
  {
   "cell_type": "code",
   "execution_count": 142,
   "id": "82f7fbd8-ca5a-47fd-92d5-65da7bd7fd42",
   "metadata": {
    "tags": []
   },
   "outputs": [],
   "source": [
    "# Installation de la librairie permettant la recherche de motifs fréquents \n",
    "#! pip install mlxtend"
   ]
  },
  {
   "cell_type": "code",
   "execution_count": 143,
   "id": "16070534-88d0-4e32-8780-c84855f38d65",
   "metadata": {
    "tags": []
   },
   "outputs": [],
   "source": [
    "from mlxtend.frequent_patterns import apriori\n",
    "from mlxtend.frequent_patterns import association_rules"
   ]
  },
  {
   "cell_type": "code",
   "execution_count": 116,
   "id": "dfb38197",
   "metadata": {
    "tags": []
   },
   "outputs": [],
   "source": [
    "df = pd.read_csv(\"./data_pretraitees_v2.csv\")"
   ]
  },
  {
   "cell_type": "code",
   "execution_count": 117,
   "id": "fec0691d-cc25-4587-ad73-dc0fde803101",
   "metadata": {
    "tags": []
   },
   "outputs": [],
   "source": [
    "df.drop(columns=['coordonnee_x', 'coordonnee_y'], inplace=True)"
   ]
  },
  {
   "cell_type": "code",
   "execution_count": 118,
   "id": "201450e5",
   "metadata": {
    "tags": []
   },
   "outputs": [
    {
     "name": "stdout",
     "output_type": "stream",
     "text": [
      "Index(['plante_sc', 'plante_fr', 'plante_precision', 'grande_culture',\n",
      "       'nebulosite', 'temperature', 'vent', 'insecte_sc', 'insecte_fr',\n",
      "       'insecte_denominationPlusPrecise', 'insecte_CdNomtaxref',\n",
      "       'bord de l'eau', 'bord de route', 'forêt', 'grande(s) culture(s)',\n",
      "       'jardin privé', 'littoral', 'parc ou jardin public', 'prairie',\n",
      "       'péri-urbain', 'rochers', 'rural', 'urbain'],\n",
      "      dtype='object')\n",
      "(675712, 23)\n"
     ]
    }
   ],
   "source": [
    "print(df.columns)\n",
    "print(df.shape)"
   ]
  },
  {
   "cell_type": "markdown",
   "id": "578af79c-85e9-4c9b-88d7-81ea27871d23",
   "metadata": {
    "jp-MarkdownHeadingCollapsed": true,
    "tags": []
   },
   "source": [
    "# Taxons de référence : plante_fr et insecte_sc"
   ]
  },
  {
   "cell_type": "markdown",
   "id": "bfaa2d87-072e-4e3e-a3ef-ae91f3ea7360",
   "metadata": {
    "jp-MarkdownHeadingCollapsed": true,
    "tags": []
   },
   "source": [
    "## Taxon Plantes"
   ]
  },
  {
   "cell_type": "code",
   "execution_count": 119,
   "id": "629e7b61-f8d7-4bcd-be43-5450afcca368",
   "metadata": {
    "tags": []
   },
   "outputs": [
    {
     "name": "stdout",
     "output_type": "stream",
     "text": [
      "Taxon 'plante_precision' :  7634\n",
      "Taxon 'plante_fr' :  2216\n",
      "Taxon 'plante_sc' :  2651\n"
     ]
    }
   ],
   "source": [
    "print(\"Taxon 'plante_precision' : \", df['plante_precision'].nunique())\n",
    "print(\"Taxon 'plante_fr' : \", df['plante_fr'].nunique())\n",
    "print(\"Taxon 'plante_sc' : \", df['plante_sc'].nunique())"
   ]
  },
  {
   "cell_type": "markdown",
   "id": "391b5c45-47d1-478c-994b-f0d0f165309d",
   "metadata": {
    "tags": []
   },
   "source": [
    "Dans un premier temps, on décide de travailler avec le taxon plante_fr qui semble être le plus général. Comme on cherche à faire ressortir notamment des associations insectes-plantes, on supprime les plantes sous-représentés pour la taxonomie plante_fr. On supprime alors les genres qui ont moins de 100 observations pour la taxonomie plante_fr."
   ]
  },
  {
   "cell_type": "code",
   "execution_count": 120,
   "id": "d43d3c5a-94fa-43b7-97a1-44b800e9dcd1",
   "metadata": {
    "tags": []
   },
   "outputs": [],
   "source": [
    "df1=df.copy()"
   ]
  },
  {
   "cell_type": "code",
   "execution_count": 121,
   "id": "c36832ff-1225-4195-8419-c36284cd6b32",
   "metadata": {
    "tags": []
   },
   "outputs": [],
   "source": [
    "# Suppression des 2 autres taxons de plantes\n",
    "df1.drop(columns=['plante_precision', 'plante_sc'], inplace=True)"
   ]
  },
  {
   "cell_type": "code",
   "execution_count": 122,
   "id": "b766ba88-c81a-4ad4-b0a3-7b18e160da25",
   "metadata": {
    "tags": []
   },
   "outputs": [
    {
     "data": {
      "text/plain": [
       "Index(['plante_fr', 'grande_culture', 'nebulosite', 'temperature', 'vent',\n",
       "       'insecte_sc', 'insecte_fr', 'insecte_denominationPlusPrecise',\n",
       "       'insecte_CdNomtaxref', 'bord de l'eau', 'bord de route', 'forêt',\n",
       "       'grande(s) culture(s)', 'jardin privé', 'littoral',\n",
       "       'parc ou jardin public', 'prairie', 'péri-urbain', 'rochers', 'rural',\n",
       "       'urbain'],\n",
       "      dtype='object')"
      ]
     },
     "execution_count": 122,
     "metadata": {},
     "output_type": "execute_result"
    }
   ],
   "source": [
    "df1.columns"
   ]
  },
  {
   "cell_type": "code",
   "execution_count": 123,
   "id": "0476e86f-fee9-48e0-b548-d828da0ae6c6",
   "metadata": {
    "tags": []
   },
   "outputs": [
    {
     "data": {
      "text/plain": [
       "Le Lierre grimpant                   19704\n",
       "Carotte sauvage                      15016\n",
       "Achillée millefeuille                 9703\n",
       "Berce des prés                        8821\n",
       "Le Buddléia de David                  7566\n",
       "                                     ...  \n",
       "Néottie nid d'oiseau                     1\n",
       "Orpin à feuilles spatulées               1\n",
       "Centaurée de Lyon                        1\n",
       "Ophrys brun                              1\n",
       "Cynoglosse à feuilles de Giroflée        1\n",
       "Name: plante_fr, Length: 2216, dtype: int64"
      ]
     },
     "execution_count": 123,
     "metadata": {},
     "output_type": "execute_result"
    }
   ],
   "source": [
    "df1['plante_fr'].value_counts()"
   ]
  },
  {
   "cell_type": "code",
   "execution_count": 124,
   "id": "85da2daf-585a-447f-87a0-99a953342c77",
   "metadata": {
    "tags": []
   },
   "outputs": [],
   "source": [
    "# Comptage des éléments des colonnes \n",
    "plante_fr_counts = df1['plante_fr'].value_counts()\n",
    "\n",
    "# Liste des éléments qui apparaissent au moins 100 fois\n",
    "plante_fr_100_plus = plante_fr_counts[plante_fr_counts >= 100].index\n",
    "\n",
    "#df=df.where(df['plante_sc'].isin(plante_sc_100_plus)).dropna(subset=['plante_sc'])\n",
    "\n",
    "df1.drop(df1[~df1['plante_fr'].isin(plante_fr_100_plus)].index, inplace=True)"
   ]
  },
  {
   "cell_type": "markdown",
   "id": "dc248282-35ae-462c-8e5e-445368ab2f5f",
   "metadata": {
    "jp-MarkdownHeadingCollapsed": true,
    "tags": []
   },
   "source": [
    "## Taxon Insectes"
   ]
  },
  {
   "cell_type": "code",
   "execution_count": 87,
   "id": "45f264ad-c257-426a-9077-a2b7e6768d0a",
   "metadata": {
    "tags": []
   },
   "outputs": [
    {
     "name": "stdout",
     "output_type": "stream",
     "text": [
      "Nombre de valeurs différentes pour les taxons suivants :\n",
      "Taxon 'insecte_denominationPlusPrecise' :  1359\n",
      "Taxon 'insecte_fr' :  559\n",
      "Taxon 'insecte_sc' :  500\n"
     ]
    }
   ],
   "source": [
    "print(\"Nombre de valeurs différentes pour les taxons suivants :\")\n",
    "print(\"Taxon 'insecte_denominationPlusPrecise' : \", df1['insecte_denominationPlusPrecise'].nunique())\n",
    "print(\"Taxon 'insecte_fr' : \", df1['insecte_fr'].nunique())\n",
    "print(\"Taxon 'insecte_sc' : \", df1['insecte_sc'].nunique())"
   ]
  },
  {
   "cell_type": "markdown",
   "id": "a56f077c-0714-4e77-b62a-68568545a855",
   "metadata": {},
   "source": [
    "On décide également de prendre comme taxon de référence insecte_sc dans un premier temps, afin de voir si l'on peut dégager des motifs et associations à un niveau plutôt général de taxonomie."
   ]
  },
  {
   "cell_type": "code",
   "execution_count": 125,
   "id": "e924499e-9c99-4d70-8101-81c0361e7647",
   "metadata": {
    "tags": []
   },
   "outputs": [],
   "source": [
    "# On ne retient que les insectes pour lesquels on a un certain nombre d'observations. \n",
    "\n",
    "# Comptage des éléments  \n",
    "insecte_sc_counts = df1['insecte_sc'].value_counts()\n",
    "\n",
    "# Liste des éléments qui apparaissent au moins 100 fois\n",
    "insecte_sc_100_plus = insecte_sc_counts[insecte_sc_counts >= 100].index\n",
    "\n",
    "#df=df.where(df['insecte_sc'].isin(insecte_sc_100_plus)).dropna(subset=['insecte_sc'])\n",
    "\n",
    "df1_sc=df1.copy()\n",
    "df1_sc.drop(df1[~df1['insecte_sc'].isin(insecte_sc_100_plus)].index, inplace=True)"
   ]
  },
  {
   "cell_type": "code",
   "execution_count": 140,
   "id": "8be4fbef-a76e-438f-8a2b-e48356bf6c4d",
   "metadata": {
    "tags": []
   },
   "outputs": [],
   "source": [
    "# Suppression des autres taxons insectes\n",
    "df1_sc.drop(columns=['insecte_fr', 'insecte_denominationPlusPrecise',\n",
    "       'insecte_CdNomtaxref'], inplace=True)"
   ]
  },
  {
   "cell_type": "code",
   "execution_count": 126,
   "id": "f578d6dc-3211-42ca-be4d-6d463faca605",
   "metadata": {
    "tags": []
   },
   "outputs": [
    {
     "data": {
      "text/plain": [
       "Bombus                              15468\n",
       "Apis mellifera                      14292\n",
       "Halictus, Lasioglossum et autres    13645\n",
       "Eristalis                           11562\n",
       "Neomyia, Calliphora et autres        9279\n",
       "                                    ...  \n",
       "Hemipenthes morio                     108\n",
       "Melitaea phoebe                       105\n",
       "Dinoptera collaris                    104\n",
       "Trichopoda pennipes                   104\n",
       "Sapigidae                             100\n",
       "Name: insecte_sc, Length: 252, dtype: int64"
      ]
     },
     "execution_count": 126,
     "metadata": {},
     "output_type": "execute_result"
    }
   ],
   "source": [
    "df1_sc['insecte_sc'].value_counts()"
   ]
  },
  {
   "cell_type": "markdown",
   "id": "2c507586-a7ba-4f6c-b133-b2f37491c3ac",
   "metadata": {
    "tags": []
   },
   "source": [
    "## Recherche de motifs fréquents "
   ]
  },
  {
   "cell_type": "markdown",
   "id": "e7eb8c96-7ac2-4e32-9646-5045e8612992",
   "metadata": {
    "jp-MarkdownHeadingCollapsed": true,
    "tags": []
   },
   "source": [
    "### Un exemple : MF pour le taxon 'insecte_sc' Bombus"
   ]
  },
  {
   "cell_type": "code",
   "execution_count": 144,
   "id": "1efe03eb-d58b-4810-9539-305518b22609",
   "metadata": {
    "tags": []
   },
   "outputs": [
    {
     "data": {
      "text/plain": [
       "Bombus                              15468\n",
       "Apis mellifera                      14292\n",
       "Halictus, Lasioglossum et autres    13645\n",
       "Eristalis                           11562\n",
       "Neomyia, Calliphora et autres        9279\n",
       "                                    ...  \n",
       "Hemipenthes morio                     108\n",
       "Melitaea phoebe                       105\n",
       "Dinoptera collaris                    104\n",
       "Trichopoda pennipes                   104\n",
       "Sapigidae                             100\n",
       "Name: insecte_sc, Length: 252, dtype: int64"
      ]
     },
     "execution_count": 144,
     "metadata": {},
     "output_type": "execute_result"
    }
   ],
   "source": [
    "df1_sc['insecte_sc'].value_counts()"
   ]
  },
  {
   "cell_type": "code",
   "execution_count": 145,
   "id": "d2440636-4eff-4b77-881d-b15417b75045",
   "metadata": {
    "tags": []
   },
   "outputs": [],
   "source": [
    "data_bombus=df1_sc.where(df1_sc['insecte_sc']=='Bombus').dropna(subset=['insecte_sc'])"
   ]
  },
  {
   "cell_type": "code",
   "execution_count": 146,
   "id": "3fe31b23-047d-41fb-8c86-74c008a36ca1",
   "metadata": {
    "tags": []
   },
   "outputs": [],
   "source": [
    "# One hot encoding\n",
    "df_encoded = pd.get_dummies(data_bombus)\n",
    "df_encoded = df_encoded.astype(bool)"
   ]
  },
  {
   "cell_type": "code",
   "execution_count": 147,
   "id": "cede4857-e06f-425e-a34c-38930007d12b",
   "metadata": {
    "tags": []
   },
   "outputs": [
    {
     "data": {
      "text/html": [
       "<div>\n",
       "<style scoped>\n",
       "    .dataframe tbody tr th:only-of-type {\n",
       "        vertical-align: middle;\n",
       "    }\n",
       "\n",
       "    .dataframe tbody tr th {\n",
       "        vertical-align: top;\n",
       "    }\n",
       "\n",
       "    .dataframe thead th {\n",
       "        text-align: right;\n",
       "    }\n",
       "</style>\n",
       "<table border=\"1\" class=\"dataframe\">\n",
       "  <thead>\n",
       "    <tr style=\"text-align: right;\">\n",
       "      <th></th>\n",
       "      <th>support</th>\n",
       "      <th>itemsets</th>\n",
       "    </tr>\n",
       "  </thead>\n",
       "  <tbody>\n",
       "    <tr>\n",
       "      <th>4</th>\n",
       "      <td>0.738169</td>\n",
       "      <td>(insecte_sc_Bombus, grande_culture_Non)</td>\n",
       "    </tr>\n",
       "    <tr>\n",
       "      <th>5</th>\n",
       "      <td>0.636346</td>\n",
       "      <td>(insecte_sc_Bombus, nebulosite_0-25%)</td>\n",
       "    </tr>\n",
       "    <tr>\n",
       "      <th>6</th>\n",
       "      <td>0.603181</td>\n",
       "      <td>(insecte_sc_Bombus, temperature_20-30ºC)</td>\n",
       "    </tr>\n",
       "  </tbody>\n",
       "</table>\n",
       "</div>"
      ],
      "text/plain": [
       "    support                                  itemsets\n",
       "4  0.738169   (insecte_sc_Bombus, grande_culture_Non)\n",
       "5  0.636346     (insecte_sc_Bombus, nebulosite_0-25%)\n",
       "6  0.603181  (insecte_sc_Bombus, temperature_20-30ºC)"
      ]
     },
     "execution_count": 147,
     "metadata": {},
     "output_type": "execute_result"
    }
   ],
   "source": [
    "# Recherche des motifs fréquents\n",
    "frequent_itemsets = apriori(df_encoded, min_support=0.5, use_colnames=True)\n",
    "\n",
    "# Filtrage des motifs fréquents de taille minimale égale à 2\n",
    "frequent_itemsets['length'] = frequent_itemsets['itemsets'].apply(lambda x: len(x))\n",
    "frequent_itemsets = frequent_itemsets[frequent_itemsets['length'] >= 2].drop(columns='length')\n",
    "\n",
    "# Classement par ordre décroissant de support \n",
    "frequent_itemsets = frequent_itemsets.sort_values(by='support', ascending=False)\n",
    "frequent_itemsets"
   ]
  },
  {
   "cell_type": "code",
   "execution_count": 148,
   "id": "a137840e-d591-472c-80d6-d0bda52ac794",
   "metadata": {
    "tags": []
   },
   "outputs": [
    {
     "data": {
      "text/plain": [
       "array([frozenset({'insecte_sc_Bombus', 'grande_culture_Non'}),\n",
       "       frozenset({'insecte_sc_Bombus', 'nebulosite_0-25%'}),\n",
       "       frozenset({'insecte_sc_Bombus', 'temperature_20-30ºC'})],\n",
       "      dtype=object)"
      ]
     },
     "execution_count": 148,
     "metadata": {},
     "output_type": "execute_result"
    }
   ],
   "source": [
    "frequent_itemsets['itemsets'].unique()"
   ]
  },
  {
   "cell_type": "code",
   "execution_count": 149,
   "id": "d7d5b7be-1d68-4d75-8c6b-d50f4f570452",
   "metadata": {
    "tags": []
   },
   "outputs": [
    {
     "data": {
      "text/plain": [
       "0-25%      9843\n",
       "25-50%     2415\n",
       "50-75%     1715\n",
       "75-100%    1495\n",
       "Name: nebulosite, dtype: int64"
      ]
     },
     "execution_count": 149,
     "metadata": {},
     "output_type": "execute_result"
    }
   ],
   "source": [
    "data_bombus['nebulosite'].value_counts()"
   ]
  },
  {
   "cell_type": "code",
   "execution_count": 150,
   "id": "9376618d-8100-4273-80f6-0d16dc924e87",
   "metadata": {
    "tags": []
   },
   "outputs": [
    {
     "data": {
      "text/plain": [
       "20-30ºC    9330\n",
       "10-20ºC    4952\n",
       ">30°C       983\n",
       "<10°C       203\n",
       "Name: temperature, dtype: int64"
      ]
     },
     "execution_count": 150,
     "metadata": {},
     "output_type": "execute_result"
    }
   ],
   "source": [
    "data_bombus['temperature'].value_counts()"
   ]
  },
  {
   "cell_type": "markdown",
   "id": "1c9fc312-6941-4438-896a-729a3e41a19b",
   "metadata": {},
   "source": [
    "La présence de Bombus d'une part avec une nébulosité de 0-25% et d'autre part avec une température de 20-30% ou une grande_culture sont des motifs fréquents. Toutefois, ces motifs n'apportent pas beaucoup d'informations nouvelles. Il n'est pas étonnant que des bombus soient visibles lors de beau temps. La fréquence des motifs est également renforcée par le fait que une nebulosité basse et la fourchette de température 20-30° sont celles les plus représentées dans le dataset. Par ailleurs, les bénévoles sont plus enclin à se livrer à l'exercice du SPIPOLL par beau temps : moins de personne ont pour passe-temps d'aller photographier des insectes sur des plantes lorsqu'il pleut ou que le ciel est couvert..."
   ]
  },
  {
   "cell_type": "code",
   "execution_count": 151,
   "id": "c692c119-4081-4571-9271-de2ba9f880d6",
   "metadata": {
    "tags": []
   },
   "outputs": [
    {
     "data": {
      "text/html": [
       "<div>\n",
       "<style scoped>\n",
       "    .dataframe tbody tr th:only-of-type {\n",
       "        vertical-align: middle;\n",
       "    }\n",
       "\n",
       "    .dataframe tbody tr th {\n",
       "        vertical-align: top;\n",
       "    }\n",
       "\n",
       "    .dataframe thead th {\n",
       "        text-align: right;\n",
       "    }\n",
       "</style>\n",
       "<table border=\"1\" class=\"dataframe\">\n",
       "  <thead>\n",
       "    <tr style=\"text-align: right;\">\n",
       "      <th></th>\n",
       "      <th>antecedents</th>\n",
       "      <th>consequents</th>\n",
       "      <th>antecedent support</th>\n",
       "      <th>consequent support</th>\n",
       "      <th>support</th>\n",
       "      <th>confidence</th>\n",
       "      <th>lift</th>\n",
       "      <th>leverage</th>\n",
       "      <th>conviction</th>\n",
       "      <th>zhangs_metric</th>\n",
       "    </tr>\n",
       "  </thead>\n",
       "  <tbody>\n",
       "  </tbody>\n",
       "</table>\n",
       "</div>"
      ],
      "text/plain": [
       "Empty DataFrame\n",
       "Columns: [antecedents, consequents, antecedent support, consequent support, support, confidence, lift, leverage, conviction, zhangs_metric]\n",
       "Index: []"
      ]
     },
     "execution_count": 151,
     "metadata": {},
     "output_type": "execute_result"
    }
   ],
   "source": [
    "# Recherche de règles d'associations importantes \n",
    "\n",
    "rules = association_rules(frequent_itemsets, metric=\"lift\", min_threshold=1.0, support_only=True)\n",
    "rules"
   ]
  },
  {
   "cell_type": "markdown",
   "id": "7bca99e7-4ea2-4abd-9b76-9b1ef1103cba",
   "metadata": {},
   "source": [
    "Aucune règle d'association importante."
   ]
  },
  {
   "cell_type": "markdown",
   "id": "d89d79b0-5141-45af-9d87-921ea0d32b5b",
   "metadata": {},
   "source": [
    "Choix de la métrique du lift pour évaluer l'importance de la règle d'association car : \n",
    "- échantillon de données grand pour le bombus \n",
    "- mesure la force de la dépendance entre deux éléments dans une règle d'association. Plus précisément, le lift compare la probabilité que les deux éléments apparaissent ensemble dans une transaction par rapport à la probabilité attendue s'ils étaient indépendants."
   ]
  },
  {
   "cell_type": "markdown",
   "id": "2f524499-4d8f-41e6-b343-dd25a161f1b3",
   "metadata": {
    "jp-MarkdownHeadingCollapsed": true,
    "tags": []
   },
   "source": [
    "### Avec les 15 insectes les plus fréquents dans le dataset "
   ]
  },
  {
   "cell_type": "code",
   "execution_count": 152,
   "id": "692e1951-e91e-4854-bd7e-754d403fb704",
   "metadata": {
    "tags": []
   },
   "outputs": [],
   "source": [
    "top_15_insects= df1_sc['insecte_sc'].value_counts().nlargest(15)\n",
    "list_of_top_insects = top_15_insects.index.tolist()"
   ]
  },
  {
   "cell_type": "code",
   "execution_count": 154,
   "id": "c8cd6790-bc68-41e2-b554-96abf88bc389",
   "metadata": {
    "tags": []
   },
   "outputs": [
    {
     "name": "stdout",
     "output_type": "stream",
     "text": [
      "Bombus  : \n",
      "Nombres de règles d'association intéressantes trouvées :  0\n",
      "Apis mellifera  : \n",
      "Nombres de règles d'association intéressantes trouvées :  0\n",
      "Halictus, Lasioglossum et autres  : \n",
      "Nombres de règles d'association intéressantes trouvées :  0\n",
      "Eristalis  : \n",
      "Nombres de règles d'association intéressantes trouvées :  0\n",
      "Neomyia, Calliphora et autres  : \n",
      "Nombres de règles d'association intéressantes trouvées :  0\n",
      "Halictidae  : \n",
      "Nombres de règles d'association intéressantes trouvées :  0\n",
      "Formicinae  : \n",
      "Nombres de règles d'association intéressantes trouvées :  0\n",
      "Ichneumonidae  : \n",
      "Nombres de règles d'association intéressantes trouvées :  0\n",
      "Sphaerophoria  : \n",
      "Nombres de règles d'association intéressantes trouvées :  0\n",
      "Oedemera  : \n",
      "Nombres de règles d'association intéressantes trouvées :  0\n",
      "Miridae  : \n",
      "Nombres de règles d'association intéressantes trouvées :  0\n",
      "Andrenidae  : \n",
      "Nombres de règles d'association intéressantes trouvées :  0\n",
      "Episyrphus balteatus  : \n",
      "Nombres de règles d'association intéressantes trouvées :  0\n",
      "Nitidulidae  : \n",
      "Nombres de règles d'association intéressantes trouvées :  0\n",
      "Sarcophaga  : \n",
      "Nombres de règles d'association intéressantes trouvées :  0\n"
     ]
    }
   ],
   "source": [
    "for insect in list_of_top_insects : \n",
    "\n",
    "    data_insect=df1_sc.where(df1_sc['insecte_sc']==insect).dropna(subset=['insecte_sc'])\n",
    "\n",
    "    # One hot encoding\n",
    "    df_encoded = pd.get_dummies(data_insect)\n",
    "    df_encoded = df_encoded.astype(bool)\n",
    "    \n",
    "    frequent_itemsets = apriori(df_encoded, min_support=0.5, use_colnames=True)\n",
    "\n",
    "    # Filtrer les motifs fréquents pour une taille minimale de 2\n",
    "    frequent_itemsets['length'] = frequent_itemsets['itemsets'].apply(lambda x: len(x))\n",
    "    frequent_itemsets = frequent_itemsets[frequent_itemsets['length'] >= 2].drop(columns='length')\n",
    "\n",
    "    # Classement par ordre décroissant de support \n",
    "    frequent_itemsets = frequent_itemsets.sort_values(by='support', ascending=False)\n",
    "    print(insect, \" : \")\n",
    "    #print(frequent_itemsets)\n",
    "    rules = association_rules(frequent_itemsets, metric=\"lift\", min_threshold=1, support_only=True)\n",
    "    print(\"Nombres de règles d'association intéressantes trouvées : \", len(rules))\n",
    "    if len(rules)>0 : \n",
    "        print(rules)"
   ]
  },
  {
   "cell_type": "markdown",
   "id": "7aa6b285-694c-4385-955c-47af58982b29",
   "metadata": {},
   "source": [
    "La plupart des motifs fréquents qu'on retrouve le plus souvent pour les 15 insectes ci-dessus inclut l'insecte en question et la température (la plupart du temps entre 20 et 30 degrés) et l'insecte et une nébulosite de 0-25% (support environ égal à 80% pour la plupart). On voit également des motifs fréquents (+50%) incluant l'insecte et la présence de grande_culture. \n",
    "En revanche, on ne trouve aucune règle d'association importante (avec un lift supérieur à 1)."
   ]
  },
  {
   "cell_type": "markdown",
   "id": "65265fc7-2952-45b3-9f74-2db54b1f7f2a",
   "metadata": {
    "jp-MarkdownHeadingCollapsed": true,
    "tags": []
   },
   "source": [
    "### Recherche sur toute la base "
   ]
  },
  {
   "cell_type": "code",
   "execution_count": 158,
   "id": "58efe328-2134-4048-a022-9dfa700128f3",
   "metadata": {
    "tags": []
   },
   "outputs": [
    {
     "name": "stdout",
     "output_type": "stream",
     "text": [
      "Nombre d'insectes (pour value_counts()>100) dans la base pour les taxons choisis :  252\n"
     ]
    }
   ],
   "source": [
    "print(\"Nombre d'insectes (pour value_counts()>100) dans la base pour les taxons choisis : \", df1_sc['insecte_sc'].nunique())"
   ]
  },
  {
   "cell_type": "code",
   "execution_count": 161,
   "id": "2fa7fccc-a6b0-4666-9972-3a209a1ce5e9",
   "metadata": {
    "tags": []
   },
   "outputs": [],
   "source": [
    "for insect in df1_sc['insecte_sc'].unique().tolist() : \n",
    "\n",
    "    data_insect=df1_sc.where(df1_sc['insecte_sc']==insect).dropna(subset=['insecte_sc'])\n",
    "\n",
    "    # One hot encoding\n",
    "    df_encoded = pd.get_dummies(data_insect)\n",
    "    df_encoded = df_encoded.astype(bool)\n",
    "    \n",
    "    frequent_itemsets = apriori(df_encoded, min_support=0.5, use_colnames=True)\n",
    "\n",
    "    # Filtrer les motifs fréquents pour une taille minimale de 2\n",
    "    frequent_itemsets['length'] = frequent_itemsets['itemsets'].apply(lambda x: len(x))\n",
    "    frequent_itemsets = frequent_itemsets[frequent_itemsets['length'] >= 2].drop(columns='length')\n",
    "\n",
    "    # Classement par ordre décroissant de support \n",
    "    frequent_itemsets = frequent_itemsets.sort_values(by='support', ascending=False)\n",
    "    \n",
    "    # Recherche de règles d'association avec un lift supérieur à 1 \n",
    "    rules = association_rules(frequent_itemsets, metric=\"lift\", min_threshold=1, support_only=True)\n",
    "    \n",
    "    # Affichage des règles d'association intéressantes\n",
    "    if len(rules)>0: \n",
    "        print(insect, \" : \", rules)"
   ]
  },
  {
   "cell_type": "markdown",
   "id": "33b75ca1-22d0-4f72-b669-cd8102600435",
   "metadata": {},
   "source": [
    "Pas de règles intéressantes trouvées."
   ]
  },
  {
   "cell_type": "markdown",
   "id": "72043270-1cc9-4f07-9b45-8317481f43da",
   "metadata": {
    "jp-MarkdownHeadingCollapsed": true,
    "tags": []
   },
   "source": [
    "# Conclusion intermédiaire"
   ]
  },
  {
   "cell_type": "markdown",
   "id": "f972cfc1-0071-472b-ac6b-6b79288c6e1c",
   "metadata": {},
   "source": [
    "Pas de motifs fréquents significatifs ou de règles d'association particulièrement intéressantes entre les espèces d'insectes (insectes_sc), de plantes (plantes_sc), de l'habitat et les conditions météorologiques."
   ]
  },
  {
   "cell_type": "markdown",
   "id": "2bee457c-b1e8-42dd-9ca8-6a1b5c120c09",
   "metadata": {
    "jp-MarkdownHeadingCollapsed": true,
    "tags": []
   },
   "source": [
    "# Approndissement : changement de granularité pour les taxons"
   ]
  },
  {
   "cell_type": "code",
   "execution_count": 209,
   "id": "79a63a3a-b59f-48a4-86a6-ae959120b628",
   "metadata": {
    "tags": []
   },
   "outputs": [],
   "source": [
    "df2=df.copy()"
   ]
  },
  {
   "cell_type": "markdown",
   "id": "5f8716ee-f3f4-409e-996e-1e51bcea964f",
   "metadata": {
    "jp-MarkdownHeadingCollapsed": true,
    "tags": []
   },
   "source": [
    "## Taxons Plante_precision et insecte_sc"
   ]
  },
  {
   "cell_type": "markdown",
   "id": "79310409-c15b-46fd-9204-14b401dfc2e4",
   "metadata": {
    "tags": []
   },
   "source": [
    "On a travaillé jusque-là avec les taxons les plus généraux, à savoir plante_fr et insecte_sc.\n",
    "A présent, on opte pour une taxonomie plus précise pour les plantes et on conserve d'abord le taxon généralise insecte_sc."
   ]
  },
  {
   "cell_type": "markdown",
   "id": "6a0176e1-0c16-44fa-9a65-0977e0ef26a4",
   "metadata": {
    "jp-MarkdownHeadingCollapsed": true,
    "tags": []
   },
   "source": [
    "### Taxon plante"
   ]
  },
  {
   "cell_type": "code",
   "execution_count": 180,
   "id": "0a381a80-d034-40ee-9e07-3f1875ab6f42",
   "metadata": {
    "tags": []
   },
   "outputs": [
    {
     "data": {
      "text/plain": [
       "7634"
      ]
     },
     "execution_count": 180,
     "metadata": {},
     "output_type": "execute_result"
    }
   ],
   "source": [
    "df['plante_precision'].nunique()"
   ]
  },
  {
   "cell_type": "code",
   "execution_count": 195,
   "id": "6eb470c0-5098-4466-bbd6-162113eecea3",
   "metadata": {
    "tags": []
   },
   "outputs": [
    {
     "data": {
      "text/plain": [
       "Grande marguerite (Leucanthemum vulgare)                   2529\n",
       ".                                                          2398\n",
       "Carotte sauvage (Daucus carota)                            2247\n",
       "Berce des prés (Heracleum sphondylium)                     1820\n",
       "Pissenlit (Taraxacum officinale)                           1474\n",
       "                                                           ... \n",
       "Lavande d'Afghanistan                                         1\n",
       "Menthe à feuille ronde                                        1\n",
       "Les Dahlias (Dahlia Cav. sp.) Dahlia arborea imperialis       1\n",
       "passiflore x belloti purple passion                           1\n",
       "Heuchera sanguinea Engelm.                                    1\n",
       "Name: plante_precision, Length: 7634, dtype: int64"
      ]
     },
     "execution_count": 195,
     "metadata": {},
     "output_type": "execute_result"
    }
   ],
   "source": [
    "df['plante_precision'].value_counts()"
   ]
  },
  {
   "cell_type": "code",
   "execution_count": 210,
   "id": "d09ef631-bf84-4387-8969-9a795b67fb7e",
   "metadata": {
    "tags": []
   },
   "outputs": [],
   "source": [
    "# Comptage des éléments des colonnes \n",
    "plante_precision_counts = df2['plante_precision'].value_counts()\n",
    "\n",
    "# Liste des éléments qui apparaissent au moins 100 fois\n",
    "plante_precision_100_plus = plante_precision_counts[plante_precision_counts >= 100].index\n",
    "\n",
    "#df=df.where(df['plante_precision'].isin(plante_precision_100_plus)).dropna(subset=['plante_precision'])\n",
    "df2.drop(df2[~df2['plante_precision'].isin(plante_precision_100_plus)].index, inplace=True)"
   ]
  },
  {
   "cell_type": "code",
   "execution_count": 211,
   "id": "db42e1cf-cde2-40f8-8654-78e5477d2ec3",
   "metadata": {
    "tags": []
   },
   "outputs": [
    {
     "data": {
      "text/plain": [
       "270"
      ]
     },
     "execution_count": 211,
     "metadata": {},
     "output_type": "execute_result"
    }
   ],
   "source": [
    "df2['plante_precision'].nunique()"
   ]
  },
  {
   "cell_type": "code",
   "execution_count": 212,
   "id": "7430111e-787a-4334-944b-6a29f2e752cb",
   "metadata": {
    "tags": []
   },
   "outputs": [],
   "source": [
    "df2.drop(columns=['plante_sc', 'plante_fr'], inplace=True)"
   ]
  },
  {
   "cell_type": "markdown",
   "id": "47706580-51b5-4554-a962-0382219843e8",
   "metadata": {
    "jp-MarkdownHeadingCollapsed": true,
    "tags": []
   },
   "source": [
    "### Taxon insecte"
   ]
  },
  {
   "cell_type": "markdown",
   "id": "332bc4e2-d97d-4312-95ce-c1f9ec9a54e3",
   "metadata": {},
   "source": [
    "On conserve dans un premier temps le taxon insecte_sc."
   ]
  },
  {
   "cell_type": "code",
   "execution_count": 186,
   "id": "f3e83d2a-7fab-4d6b-a2ae-3e8e0f1f8d45",
   "metadata": {
    "tags": []
   },
   "outputs": [
    {
     "name": "stdout",
     "output_type": "stream",
     "text": [
      "Nombre de valeurs différentes pour les taxons suivants :\n",
      "Taxon 'insecte_denominationPlusPrecise' :  749\n",
      "Taxon 'insecte_fr' :  485\n",
      "Taxon 'insecte_sc' :  432\n"
     ]
    }
   ],
   "source": [
    "print(\"Nombre de valeurs différentes pour les taxons suivants :\")\n",
    "print(\"Taxon 'insecte_denominationPlusPrecise' : \", df2['insecte_denominationPlusPrecise'].nunique())\n",
    "print(\"Taxon 'insecte_fr' : \", df2['insecte_fr'].nunique())\n",
    "print(\"Taxon 'insecte_sc' : \", df2['insecte_sc'].nunique())"
   ]
  },
  {
   "cell_type": "code",
   "execution_count": 187,
   "id": "b2769189-035d-4a1d-b51d-52ca41a0d847",
   "metadata": {
    "tags": []
   },
   "outputs": [],
   "source": [
    "# On ne retient que les insectes pour lesquels on a un certain nombre d'observations. \n",
    "\n",
    "# Comptage des éléments  \n",
    "insecte_sc_counts = df2['insecte_sc'].value_counts()\n",
    "\n",
    "# Liste des éléments qui apparaissent au moins 100 fois\n",
    "insecte_sc_100_plus = insecte_sc_counts[insecte_sc_counts >= 100].index\n",
    "\n",
    "#df=df.where(df['insecte_sc'].isin(insecte_sc_100_plus)).dropna(subset=['insecte_sc'])\n",
    "\n",
    "df2_sc=df2.copy()\n",
    "df2_sc.drop(df2[~df2['insecte_sc'].isin(insecte_sc_100_plus)].index, inplace=True)"
   ]
  },
  {
   "cell_type": "code",
   "execution_count": 189,
   "id": "8edfeb3e-8691-47de-8730-d41c6c06269e",
   "metadata": {
    "tags": []
   },
   "outputs": [],
   "source": [
    "df2_sc.drop(columns=['insecte_fr', 'insecte_denominationPlusPrecise',\n",
    "       'insecte_CdNomtaxref'], inplace=True)"
   ]
  },
  {
   "cell_type": "markdown",
   "id": "c6a89651-a434-4258-9d62-eb577193ee5a",
   "metadata": {
    "tags": []
   },
   "source": [
    "### Recherche de motifs fréquents sur tout le dataset"
   ]
  },
  {
   "cell_type": "code",
   "execution_count": 191,
   "id": "2badc8bd-b3df-4312-b6ed-e4a06e6d7021",
   "metadata": {
    "tags": []
   },
   "outputs": [
    {
     "name": "stdout",
     "output_type": "stream",
     "text": [
      "Nombre d'insectes (pour value_counts()>100) dans la base pour les taxons choisis :  119\n"
     ]
    }
   ],
   "source": [
    "print(\"Nombre d'insectes (pour value_counts()>100) dans la base pour les taxons choisis : \", df2_sc['insecte_sc'].nunique())"
   ]
  },
  {
   "cell_type": "code",
   "execution_count": 192,
   "id": "f60c81f2-71ef-4e56-a786-8745b06a80ee",
   "metadata": {
    "tags": []
   },
   "outputs": [
    {
     "name": "stdout",
     "output_type": "stream",
     "text": [
      "Andrena  :              antecedents           consequents  antecedent support  \\\n",
      "0    (nebulosite_0-25%)  (insecte_sc_Andrena)                 NaN   \n",
      "1  (insecte_sc_Andrena)    (nebulosite_0-25%)                 NaN   \n",
      "\n",
      "   consequent support  support  confidence  lift  leverage  conviction  \\\n",
      "0                 NaN      1.0         NaN   NaN       NaN         NaN   \n",
      "1                 NaN      1.0         NaN   NaN       NaN         NaN   \n",
      "\n",
      "   zhangs_metric  \n",
      "0            NaN  \n",
      "1            NaN  \n",
      "Gymnosoma  :                antecedents             consequents  antecedent support  \\\n",
      "0      (nebulosite_0-25%)  (insecte_sc_Gymnosoma)                 NaN   \n",
      "1  (insecte_sc_Gymnosoma)      (nebulosite_0-25%)                 NaN   \n",
      "\n",
      "   consequent support  support  confidence  lift  leverage  conviction  \\\n",
      "0                 NaN      1.0         NaN   NaN       NaN         NaN   \n",
      "1                 NaN      1.0         NaN   NaN       NaN         NaN   \n",
      "\n",
      "   zhangs_metric  \n",
      "0            NaN  \n",
      "1            NaN  \n",
      "Graphomya  :                antecedents             consequents  antecedent support  \\\n",
      "0      (nebulosite_0-25%)  (insecte_sc_Graphomya)                 NaN   \n",
      "1  (insecte_sc_Graphomya)      (nebulosite_0-25%)                 NaN   \n",
      "\n",
      "   consequent support  support  confidence  lift  leverage  conviction  \\\n",
      "0                 NaN      1.0         NaN   NaN       NaN         NaN   \n",
      "1                 NaN      1.0         NaN   NaN       NaN         NaN   \n",
      "\n",
      "   zhangs_metric  \n",
      "0            NaN  \n",
      "1            NaN  \n",
      "Myathropa florea  :                       antecedents                    consequents  \\\n",
      "0  (insecte_sc_Myathropa florea)             (nebulosite_0-25%)   \n",
      "1             (nebulosite_0-25%)  (insecte_sc_Myathropa florea)   \n",
      "\n",
      "   antecedent support  consequent support  support  confidence  lift  \\\n",
      "0                 NaN                 NaN      1.0         NaN   NaN   \n",
      "1                 NaN                 NaN      1.0         NaN   NaN   \n",
      "\n",
      "   leverage  conviction  zhangs_metric  \n",
      "0       NaN         NaN            NaN  \n",
      "1       NaN         NaN            NaN  \n",
      "Isodontia mexicana  :                         antecedents                      consequents  \\\n",
      "0  (insecte_sc_Isodontia mexicana)               (nebulosite_0-25%)   \n",
      "1               (nebulosite_0-25%)  (insecte_sc_Isodontia mexicana)   \n",
      "\n",
      "   antecedent support  consequent support  support  confidence  lift  \\\n",
      "0                 NaN                 NaN      1.0         NaN   NaN   \n",
      "1                 NaN                 NaN      1.0         NaN   NaN   \n",
      "\n",
      "   leverage  conviction  zhangs_metric  \n",
      "0       NaN         NaN            NaN  \n",
      "1       NaN         NaN            NaN  \n",
      "Argynnis paphia  :                      antecedents                   consequents  \\\n",
      "0            (nebulosite_0-25%)  (insecte_sc_Argynnis paphia)   \n",
      "1  (insecte_sc_Argynnis paphia)            (nebulosite_0-25%)   \n",
      "\n",
      "   antecedent support  consequent support  support  confidence  lift  \\\n",
      "0                 NaN                 NaN      1.0         NaN   NaN   \n",
      "1                 NaN                 NaN      1.0         NaN   NaN   \n",
      "\n",
      "   leverage  conviction  zhangs_metric  \n",
      "0       NaN         NaN            NaN  \n",
      "1       NaN         NaN            NaN  \n"
     ]
    }
   ],
   "source": [
    "for insect in df2_sc['insecte_sc'].unique().tolist() : \n",
    "\n",
    "    data_insect=df2_sc.where(df2_sc['insecte_sc']==insect).dropna(subset=['insecte_sc'])\n",
    "\n",
    "    # One hot encoding\n",
    "    df_encoded = pd.get_dummies(data_insect)\n",
    "    df_encoded = df_encoded.astype(bool)\n",
    "    \n",
    "    frequent_itemsets = apriori(df_encoded, min_support=0.5, use_colnames=True)\n",
    "\n",
    "    # Filtrer les motifs fréquents pour une taille minimale de 2\n",
    "    frequent_itemsets['length'] = frequent_itemsets['itemsets'].apply(lambda x: len(x))\n",
    "    frequent_itemsets = frequent_itemsets[frequent_itemsets['length'] >= 2].drop(columns='length')\n",
    "\n",
    "    # Classement par ordre décroissant de support \n",
    "    frequent_itemsets = frequent_itemsets.sort_values(by='support', ascending=False)\n",
    "    \n",
    "    # Recherche de règles d'association avec un lift supérieur à 1 \n",
    "    rules = association_rules(frequent_itemsets, metric=\"lift\", min_threshold=1, support_only=True)\n",
    "    \n",
    "    # Affichage des règles d'association intéressantes\n",
    "    if len(rules)>0: \n",
    "        print(insect, \" : \", rules)"
   ]
  },
  {
   "cell_type": "markdown",
   "id": "56069e85-d077-45b3-98d2-45b5c9cd1ecf",
   "metadata": {},
   "source": [
    "On obtient que des règles incluant la nébulosité, ce qui n'apporte pas de grande nouveauté..."
   ]
  },
  {
   "cell_type": "markdown",
   "id": "24fb1a4b-6761-43dc-af57-0f5c9db0227d",
   "metadata": {
    "jp-MarkdownHeadingCollapsed": true,
    "tags": []
   },
   "source": [
    "## Taxons Plante_precision et insecte_denominationPlusPrecise"
   ]
  },
  {
   "cell_type": "markdown",
   "id": "0784e61a-7e75-42a8-a6e0-fb8f41af7b12",
   "metadata": {
    "tags": []
   },
   "source": [
    "Cette fois-ci, on conserve le taxon \"plante_precision\" pour les genres de plantes mais on approfondit le niveau de granularité pour les insectes en choisissant la taxonomie la plus précise : insecte_denominationPlusPrecise.\n",
    "Avant cela, on supprime à nouveau les plantes et insectes sous-représentés pour les taxonomies choisies. "
   ]
  },
  {
   "cell_type": "markdown",
   "id": "cb10a79d-fc5d-4dcb-a3a0-8ac2995fb690",
   "metadata": {},
   "source": [
    "### Taxon insecte"
   ]
  },
  {
   "cell_type": "code",
   "execution_count": 217,
   "id": "075d0d5a-ae3d-4617-9d3e-4fe53f922914",
   "metadata": {
    "tags": []
   },
   "outputs": [
    {
     "name": "stdout",
     "output_type": "stream",
     "text": [
      "Nombre de valeurs différentes pour les taxons suivants :\n",
      "Taxon 'insecte_denominationPlusPrecise' :  749\n",
      "Taxon 'insecte_fr' :  485\n",
      "Taxon 'insecte_sc' :  432\n"
     ]
    }
   ],
   "source": [
    "print(\"Nombre de valeurs différentes pour les taxons suivants :\")\n",
    "print(\"Taxon 'insecte_denominationPlusPrecise' : \", df2['insecte_denominationPlusPrecise'].nunique())\n",
    "print(\"Taxon 'insecte_fr' : \", df2['insecte_fr'].nunique())\n",
    "print(\"Taxon 'insecte_sc' : \", df2['insecte_sc'].nunique())"
   ]
  },
  {
   "cell_type": "code",
   "execution_count": 224,
   "id": "3aaf66a7-1ac2-4ba2-b0f9-2af5031a1559",
   "metadata": {
    "tags": []
   },
   "outputs": [
    {
     "name": "stdout",
     "output_type": "stream",
     "text": [
      "Nombres d'insectes ayant plus de 100 observations :  11\n",
      "Nombres d'insectes ayant plus de 50 observations :  30\n",
      "Nombres d'insectes ayant plus de 30 observations :  58\n"
     ]
    }
   ],
   "source": [
    "# Comptage des éléments des colonnes \n",
    "insecte_precision_counts = df2['insecte_denominationPlusPrecise'].value_counts()\n",
    "\n",
    "# Liste des éléments qui apparaissent au moins 100 fois\n",
    "\n",
    "insecte_precision_100_plus = insecte_precision_counts[insecte_precision_counts >= 100].index.tolist()\n",
    "insecte_precision_50_plus = insecte_precision_counts[insecte_precision_counts >= 50].index.tolist()\n",
    "insecte_precision_30_plus = insecte_precision_counts[insecte_precision_counts >= 30].index.tolist()\n",
    "print(\"Nombres d'insectes ayant plus de 100 observations : \", len(insecte_precision_100_plus))\n",
    "print(\"Nombres d'insectes ayant plus de 50 observations : \",len(insecte_precision_50_plus))\n",
    "print(\"Nombres d'insectes ayant plus de 30 observations : \",len(insecte_precision_30_plus))"
   ]
  },
  {
   "cell_type": "code",
   "execution_count": 225,
   "id": "a06daa92-9a72-4992-aa7e-cc78a8a4d6ed",
   "metadata": {
    "tags": []
   },
   "outputs": [],
   "source": [
    "# On ne retient que les insectes pour lesquels on a un certain nombre d'observations. \n",
    "\n",
    "# Comptage des éléments  \n",
    "insecte_sc_counts = df2['insecte_denominationPlusPrecise'].value_counts()\n",
    "\n",
    "# Liste des éléments qui apparaissent au moins 50 fois\n",
    "insecte_sc__plus = insecte_sc_counts[insecte_sc_counts >= 100].index\n",
    "\n",
    "#df=df.where(df['insecte_sc'].isin(insecte_sc_100_plus)).dropna(subset=['insecte_sc'])\n",
    "\n",
    "df2_precis=df2.copy()\n",
    "df2_precis.drop(df2[~df2['insecte_denominationPlusPrecise'].isin(insecte_sc__plus)].index, inplace=True)"
   ]
  },
  {
   "cell_type": "code",
   "execution_count": 226,
   "id": "7927d04a-ede2-4815-9364-a98ce923eff8",
   "metadata": {
    "tags": []
   },
   "outputs": [],
   "source": [
    "df2_precis.drop(columns=['insecte_fr', 'insecte_sc', 'insecte_CdNomtaxref'], inplace=True)"
   ]
  },
  {
   "cell_type": "markdown",
   "id": "74e22103-bb21-4c12-94d3-7ad6870bdbe5",
   "metadata": {
    "tags": []
   },
   "source": [
    "### Recherche de motifs fréquents sur tout le dataset"
   ]
  },
  {
   "cell_type": "code",
   "execution_count": 227,
   "id": "fa7e51d1-e90d-431c-9a65-78f0390ddffe",
   "metadata": {
    "tags": []
   },
   "outputs": [
    {
     "name": "stdout",
     "output_type": "stream",
     "text": [
      "Nombre d'insectes (pour value_counts()>100) dans la base pour les taxons choisis :  11\n"
     ]
    }
   ],
   "source": [
    "print(\"Nombre d'insectes (pour value_counts()>100) dans la base pour les taxons choisis : \", df2_precis['insecte_denominationPlusPrecise'].nunique())"
   ]
  },
  {
   "cell_type": "code",
   "execution_count": 228,
   "id": "d7bd08bf-99c8-45a3-abe4-7e3e2dd6c427",
   "metadata": {
    "tags": []
   },
   "outputs": [
    {
     "name": "stdout",
     "output_type": "stream",
     "text": [
      "Musca autumnalis  :                                           antecedents  \\\n",
      "0                                 (nebulosite_0-25%)   \n",
      "1  (insecte_denominationPlusPrecise_Musca autumna...   \n",
      "\n",
      "                                         consequents  antecedent support  \\\n",
      "0  (insecte_denominationPlusPrecise_Musca autumna...                 NaN   \n",
      "1                                 (nebulosite_0-25%)                 NaN   \n",
      "\n",
      "   consequent support  support  confidence  lift  leverage  conviction  \\\n",
      "0                 NaN      1.0         NaN   NaN       NaN         NaN   \n",
      "1                 NaN      1.0         NaN   NaN       NaN         NaN   \n",
      "\n",
      "   zhangs_metric  \n",
      "0            NaN  \n",
      "1            NaN  \n"
     ]
    }
   ],
   "source": [
    "for insect in df2_precis['insecte_denominationPlusPrecise'].unique().tolist() : \n",
    "\n",
    "    data_insect=df2_precis.where(df2_precis['insecte_denominationPlusPrecise']==insect).dropna(subset=['insecte_denominationPlusPrecise'])\n",
    "\n",
    "    # One hot encoding\n",
    "    df_encoded = pd.get_dummies(data_insect)\n",
    "    df_encoded = df_encoded.astype(bool)\n",
    "    \n",
    "    frequent_itemsets = apriori(df_encoded, min_support=0.5, use_colnames=True)\n",
    "\n",
    "    # Filtrer les motifs fréquents pour une taille minimale de 2\n",
    "    frequent_itemsets['length'] = frequent_itemsets['itemsets'].apply(lambda x: len(x))\n",
    "    frequent_itemsets = frequent_itemsets[frequent_itemsets['length'] >= 2].drop(columns='length')\n",
    "\n",
    "    # Classement par ordre décroissant de support \n",
    "    frequent_itemsets = frequent_itemsets.sort_values(by='support', ascending=False)\n",
    "    \n",
    "    # Recherche de règles d'association avec un lift supérieur à 1 \n",
    "    rules = association_rules(frequent_itemsets, metric=\"lift\", min_threshold=1, support_only=True)\n",
    "    \n",
    "    # Affichage des règles d'association intéressantes\n",
    "    if len(rules)>0: \n",
    "        print(insect, \" : \", rules)"
   ]
  },
  {
   "cell_type": "markdown",
   "id": "0a21ac01-c6d4-4dcb-9c1b-ed10d1864602",
   "metadata": {
    "jp-MarkdownHeadingCollapsed": true,
    "tags": []
   },
   "source": [
    "# Conclusion "
   ]
  },
  {
   "cell_type": "markdown",
   "id": "7065ccf9-cd36-4073-9b46-a287f18916fd",
   "metadata": {},
   "source": [
    "On obtient toujours les mêmes résultats même pour des niveaux de granularité/taxonomie différents (ici, plus précis). Pas de motifs fréquents autre que des associations insectes-nébulosité 0-25%, ce qui n'apportent pas grand chose à l'analyse. \n",
    "\n",
    "Rappel : \n",
    "- seuls les insectes ayant plus de 100 enregistrements ont été conservés\n",
    "- seuil de support choisi pour les motifs : 50% \n",
    "- condition sur la métrique des règles d'associations : lift supérieur à 1."
   ]
  },
  {
   "cell_type": "markdown",
   "id": "dc452646-b2cd-4598-892e-3d8f2f2c5cd0",
   "metadata": {
    "jp-MarkdownHeadingCollapsed": true,
    "tags": []
   },
   "source": [
    "# Suppression des conditions climatiques et abaissement du seuil de support"
   ]
  },
  {
   "cell_type": "markdown",
   "id": "e376c2e7-af04-465d-9517-75ded655ebd4",
   "metadata": {},
   "source": [
    "Dans cette partie, on relance une recherche de motifs fréquents après avoir supprimé les colonnes relatives aux conditions météorologiques : vent, nébulosité et température. On cherche encore à mettre en lumière des associations plantes-insectes en abaissant le seuil de support de 0.5 à 0.3."
   ]
  },
  {
   "cell_type": "code",
   "execution_count": 10,
   "id": "0cec10d4-0c94-447c-afc2-a5b52e99113a",
   "metadata": {
    "tags": []
   },
   "outputs": [],
   "source": [
    "from mlxtend.frequent_patterns import apriori\n",
    "from mlxtend.frequent_patterns import association_rules"
   ]
  },
  {
   "cell_type": "code",
   "execution_count": 230,
   "id": "5e9b981b-aab7-4032-ae47-81604cf91f9c",
   "metadata": {
    "tags": []
   },
   "outputs": [],
   "source": [
    "df = pd.read_csv(\"./data_pretraitees_v2.csv\")"
   ]
  },
  {
   "cell_type": "code",
   "execution_count": 231,
   "id": "81871adf-a54d-41d4-8a28-37aace2a5006",
   "metadata": {
    "tags": []
   },
   "outputs": [
    {
     "data": {
      "text/plain": [
       "Index(['plante_sc', 'plante_fr', 'plante_precision', 'grande_culture',\n",
       "       'nebulosite', 'temperature', 'vent', 'insecte_sc', 'insecte_fr',\n",
       "       'insecte_denominationPlusPrecise', 'insecte_CdNomtaxref',\n",
       "       'coordonnee_x', 'coordonnee_y', 'bord de l'eau', 'bord de route',\n",
       "       'forêt', 'grande(s) culture(s)', 'jardin privé', 'littoral',\n",
       "       'parc ou jardin public', 'prairie', 'péri-urbain', 'rochers', 'rural',\n",
       "       'urbain'],\n",
       "      dtype='object')"
      ]
     },
     "execution_count": 231,
     "metadata": {},
     "output_type": "execute_result"
    }
   ],
   "source": [
    "df.columns"
   ]
  },
  {
   "cell_type": "code",
   "execution_count": 232,
   "id": "d1c226fc-5d66-4d5b-8934-82750246cb66",
   "metadata": {
    "tags": []
   },
   "outputs": [],
   "source": [
    "df.drop(columns=['nebulosite', 'temperature', 'vent', \n",
    "                 'coordonnee_x', 'coordonnee_y'], inplace=True)"
   ]
  },
  {
   "cell_type": "code",
   "execution_count": 233,
   "id": "d7870a7a-3311-4003-9c4b-b58e8b5b3cef",
   "metadata": {
    "tags": []
   },
   "outputs": [
    {
     "data": {
      "text/html": [
       "<div>\n",
       "<style scoped>\n",
       "    .dataframe tbody tr th:only-of-type {\n",
       "        vertical-align: middle;\n",
       "    }\n",
       "\n",
       "    .dataframe tbody tr th {\n",
       "        vertical-align: top;\n",
       "    }\n",
       "\n",
       "    .dataframe thead th {\n",
       "        text-align: right;\n",
       "    }\n",
       "</style>\n",
       "<table border=\"1\" class=\"dataframe\">\n",
       "  <thead>\n",
       "    <tr style=\"text-align: right;\">\n",
       "      <th></th>\n",
       "      <th>support</th>\n",
       "      <th>itemsets</th>\n",
       "    </tr>\n",
       "  </thead>\n",
       "  <tbody>\n",
       "    <tr>\n",
       "      <th>8</th>\n",
       "      <td>0.547136</td>\n",
       "      <td>(insecte_sc_Bombus, grande_culture_Oui)</td>\n",
       "    </tr>\n",
       "    <tr>\n",
       "      <th>6</th>\n",
       "      <td>0.449244</td>\n",
       "      <td>(insecte_sc_Bombus, rural)</td>\n",
       "    </tr>\n",
       "    <tr>\n",
       "      <th>9</th>\n",
       "      <td>0.402241</td>\n",
       "      <td>(insecte_sc_Bombus, insecte_fr_Les Bourdons no...</td>\n",
       "    </tr>\n",
       "    <tr>\n",
       "      <th>7</th>\n",
       "      <td>0.373762</td>\n",
       "      <td>(insecte_sc_Bombus, grande_culture_Non)</td>\n",
       "    </tr>\n",
       "    <tr>\n",
       "      <th>10</th>\n",
       "      <td>0.327105</td>\n",
       "      <td>(insecte_sc_Bombus, insecte_fr_Les Bourdons à ...</td>\n",
       "    </tr>\n",
       "  </tbody>\n",
       "</table>\n",
       "</div>"
      ],
      "text/plain": [
       "     support                                           itemsets\n",
       "8   0.547136            (insecte_sc_Bombus, grande_culture_Oui)\n",
       "6   0.449244                         (insecte_sc_Bombus, rural)\n",
       "9   0.402241  (insecte_sc_Bombus, insecte_fr_Les Bourdons no...\n",
       "7   0.373762            (insecte_sc_Bombus, grande_culture_Non)\n",
       "10  0.327105  (insecte_sc_Bombus, insecte_fr_Les Bourdons à ..."
      ]
     },
     "execution_count": 233,
     "metadata": {},
     "output_type": "execute_result"
    }
   ],
   "source": [
    "data_bombus=df.where(df['insecte_sc']==\"Bombus\").dropna(subset=['insecte_sc'])\n",
    "\n",
    "# One hot encoding\n",
    "df_encoded = pd.get_dummies(data_bombus)\n",
    "df_encoded = df_encoded.astype(bool)\n",
    "    \n",
    "frequent_itemsets = apriori(df_encoded, min_support=0.3, use_colnames=True)\n",
    "\n",
    "# Filtrer les motifs fréquents pour une taille minimale de 2\n",
    "frequent_itemsets['length'] = frequent_itemsets['itemsets'].apply(lambda x: len(x))\n",
    "frequent_itemsets = frequent_itemsets[frequent_itemsets['length'] >= 2].drop(columns='length')\n",
    "\n",
    "# Classement par ordre décroissant de support \n",
    "frequent_itemsets = frequent_itemsets.sort_values(by='support', ascending=False)\n",
    "\n",
    "frequent_itemsets"
   ]
  },
  {
   "cell_type": "markdown",
   "id": "ecfd96e0-34f7-4d93-b518-38e32aa3ae9b",
   "metadata": {},
   "source": [
    "Pour voir directement s'il y a des motifs fréquents qui associe une plante et un insecte en particulier, on décide de supprimer toutes les colonnes relatives aux habitats et de ne conserver que celles concernant les genres de plantes et d'insectes. "
   ]
  },
  {
   "cell_type": "markdown",
   "id": "7a708924-543e-4521-8107-1a5ac96df5a7",
   "metadata": {},
   "source": [
    "On supprime également les lignes dont la valeur est \"Plante inconnue\" et les lignes dont le compte de la plante renseignée est inférieur à 100 occurences."
   ]
  },
  {
   "cell_type": "code",
   "execution_count": 251,
   "id": "fe7c2f75-f1af-445f-ba16-ea13d424bd76",
   "metadata": {
    "tags": []
   },
   "outputs": [],
   "source": [
    "df_plantes_insectes=df.drop(columns=['grande_culture', \"bord de l'eau\",\n",
    "       'bord de route', 'forêt', 'grande(s) culture(s)', 'jardin privé',\n",
    "       'littoral', 'parc ou jardin public', 'prairie', 'péri-urbain',\n",
    "       'rochers', 'rural', 'urbain'])"
   ]
  },
  {
   "cell_type": "code",
   "execution_count": 252,
   "id": "288008ad-9d3d-4532-832f-81ab34038b7a",
   "metadata": {
    "tags": []
   },
   "outputs": [],
   "source": [
    "# Supprimer les lignes avec \"Plante inconnue\" dans la colonne \"plante_sc\"\n",
    "df_plantes_insectes = df_plantes_insectes[df_plantes_insectes['plante_sc'] != 'Plante inconnue']"
   ]
  },
  {
   "cell_type": "code",
   "execution_count": 253,
   "id": "5d5eca2e-f10e-4790-b7f6-b0ea179668a0",
   "metadata": {
    "tags": []
   },
   "outputs": [],
   "source": [
    "# Compter le nombre d'occurrences de chaque valeur dans la colonne 'plante_sc'\n",
    "value_counts = df_plantes_insectes['plante_sc'].value_counts()\n",
    "\n",
    "# Créer un masque pour filtrer les lignes dont la valeur apparaît au moins 50 fois\n",
    "masque = df_plantes_insectes['plante_sc'].map(value_counts) >= 100\n",
    "\n",
    "# Appliquer le masque pour obtenir le DataFrame final\n",
    "df_plantes_insectes = df_plantes_insectes[masque]"
   ]
  },
  {
   "cell_type": "code",
   "execution_count": 254,
   "id": "d4ce4059-c339-468c-a9c5-bcbc07a45480",
   "metadata": {
    "tags": []
   },
   "outputs": [
    {
     "data": {
      "text/plain": [
       "Hedera helix                                                            19704\n",
       "Les Composées à fleurs jaunes à port dressé (famille des Asteraceae)    16742\n",
       "Daucus carota                                                           15016\n",
       "Les Carottes (Daucus sp)                                                13311\n",
       "Les Chardons et Cirses (des espèces des genre Cirsium et Carduus)       13121\n",
       "                                                                        ...  \n",
       "Euphorbia verrucosa                                                       102\n",
       "Apium graveolens                                                          101\n",
       "Rudbeckia hirta                                                           101\n",
       "Hyacinthoides non-scripta                                                 100\n",
       "Melissa officinalis                                                       100\n",
       "Name: plante_sc, Length: 611, dtype: int64"
      ]
     },
     "execution_count": 254,
     "metadata": {},
     "output_type": "execute_result"
    }
   ],
   "source": [
    "df_plantes_insectes['plante_sc'].value_counts()"
   ]
  },
  {
   "cell_type": "code",
   "execution_count": 255,
   "id": "7fcd96b2-f984-4961-8593-667220e8406e",
   "metadata": {
    "tags": []
   },
   "outputs": [
    {
     "data": {
      "text/plain": [
       "Index(['plante_sc', 'plante_fr', 'plante_precision', 'insecte_sc',\n",
       "       'insecte_fr', 'insecte_denominationPlusPrecise', 'insecte_CdNomtaxref'],\n",
       "      dtype='object')"
      ]
     },
     "execution_count": 255,
     "metadata": {},
     "output_type": "execute_result"
    }
   ],
   "source": [
    "df_plantes_insectes.columns"
   ]
  },
  {
   "cell_type": "code",
   "execution_count": 256,
   "id": "ceb56e2c-c123-420e-be99-e1917235f06b",
   "metadata": {
    "tags": []
   },
   "outputs": [],
   "source": [
    "df_plantes_insectes.drop(columns=['plante_fr', 'plante_precision',  \n",
    "                                  'insecte_fr', 'insecte_denominationPlusPrecise', 'insecte_CdNomtaxref'], \n",
    "                         inplace=True)"
   ]
  },
  {
   "cell_type": "markdown",
   "id": "d21794a1-8a72-407b-9eb4-916d29e310cb",
   "metadata": {},
   "source": [
    "## Recherche de motifs fréquents plante-insecte dans la base"
   ]
  },
  {
   "cell_type": "markdown",
   "id": "77dae90f-28ae-48b5-a063-a8114c17b094",
   "metadata": {},
   "source": [
    "En utilisant les taxons insecte_sc et plante_sc."
   ]
  },
  {
   "cell_type": "code",
   "execution_count": 257,
   "id": "96b5cc37-959a-4b05-b3d1-91383751ee13",
   "metadata": {
    "tags": []
   },
   "outputs": [
    {
     "name": "stdout",
     "output_type": "stream",
     "text": [
      "Nombre d'insectes avec plus de 100 enregistrements dans la base :  291\n"
     ]
    }
   ],
   "source": [
    "# Insectes ayant plus de 100 enregistrements dans la base \n",
    "insects_counts = df_plantes_insectes['insecte_sc'].value_counts()\n",
    "\n",
    "# Filtre des genres d'insectes avec plus de 10 enregistrements\n",
    "plus_de_100_insectes = insects_counts[insects_counts > 100].index.tolist()\n",
    "print(\"Nombre d'insectes avec plus de 100 enregistrements dans la base : \", len(plus_de_100_insectes))"
   ]
  },
  {
   "cell_type": "code",
   "execution_count": 258,
   "id": "8e339156-49ab-42bf-97f3-d8d390e1512c",
   "metadata": {
    "tags": []
   },
   "outputs": [
    {
     "name": "stdout",
     "output_type": "stream",
     "text": [
      "Vespula, Dolichovespula  : \n",
      "   support                                           itemsets\n",
      "2  0.38177  (plante_sc_Hedera helix, insecte_sc_Vespula, D...\n",
      "Colletes hederae  : \n",
      "    support                                           itemsets\n",
      "2  0.992084  (insecte_sc_Colletes hederae, plante_sc_Hedera...\n",
      "Vespa velutina  : \n",
      "    support                                           itemsets\n",
      "2  0.462006  (plante_sc_Hedera helix, insecte_sc_Vespa velu...\n",
      "Vespa crabro  : \n",
      "    support                                           itemsets\n",
      "2  0.475232  (plante_sc_Hedera helix, insecte_sc_Vespa crabro)\n",
      "Villa  : \n",
      "    support                                    itemsets\n",
      "2  0.356322  (plante_sc_Hedera helix, insecte_sc_Villa)\n",
      "Chrysolina americana  : \n",
      "    support                                           itemsets\n",
      "2  0.503546  (insecte_sc_Chrysolina americana, plante_sc_Ro...\n",
      "Mesembrina  : \n",
      "    support                                         itemsets\n",
      "2  0.351351  (plante_sc_Hedera helix, insecte_sc_Mesembrina)\n",
      "Hemaris fuciformis  : \n",
      "    support                                           itemsets\n",
      "2  0.304167  (plante_sc_Buddleja davidii, insecte_sc_Hemari...\n",
      "Euplagia quadripunctaria  : \n",
      "    support                                           itemsets\n",
      "2  0.336283  (plante_sc_Buddleja davidii, insecte_sc_Euplag...\n",
      "Panurgus  : \n",
      "   support                                           itemsets\n",
      "2  0.32093  (insecte_sc_Panurgus, plante_sc_Les Composées ...\n",
      "Anthocharis cardamines  : \n",
      "    support                                           itemsets\n",
      "2  0.333333  (insecte_sc_Anthocharis cardamines, plante_sc_...\n",
      "Sargus et autres  : \n",
      "    support                                           itemsets\n",
      "2  0.402439  (plante_sc_Hedera helix, insecte_sc_Sargus et ...\n",
      "Heriaeus  : \n",
      "    support                                           itemsets\n",
      "2  0.335664  (insecte_sc_Heriaeus, plante_sc_Mentha suaveol...\n",
      "Graphosoma semipunctatum  : \n",
      "    support                                           itemsets\n",
      "2  0.302521  (insecte_sc_Graphosoma semipunctatum, plante_s...\n",
      "Eilema  : \n",
      "    support                                         itemsets\n",
      "2  0.333333  (plante_sc_Buddleja davidii, insecte_sc_Eilema)\n",
      "Agapanthia cardui  : \n",
      "    support                                           itemsets\n",
      "2  0.354545  (insecte_sc_Agapanthia cardui, plante_sc_Les M...\n"
     ]
    }
   ],
   "source": [
    "for insect in plus_de_100_insectes : \n",
    "\n",
    "    data_insect=df_plantes_insectes.where(df_plantes_insectes['insecte_sc']==insect).dropna(subset=['insecte_sc'])\n",
    "\n",
    "    # One hot encoding\n",
    "    df_encoded = pd.get_dummies(data_insect)\n",
    "    df_encoded = df_encoded.astype(bool)\n",
    "    \n",
    "    frequent_itemsets = apriori(df_encoded, min_support=0.3, use_colnames=True)\n",
    "\n",
    "    # Filtrer les motifs fréquents pour une taille minimale de 2\n",
    "    frequent_itemsets['length'] = frequent_itemsets['itemsets'].apply(lambda x: len(x))\n",
    "    frequent_itemsets = frequent_itemsets[frequent_itemsets['length'] >= 2].drop(columns='length')\n",
    "\n",
    "    # Classement par ordre décroissant de support \n",
    "    frequent_itemsets = frequent_itemsets.sort_values(by='support', ascending=False)\n",
    "    \n",
    "    # Affichage des motifs fréquents\n",
    "    if len(frequent_itemsets)>0:\n",
    "        print(insect, \" : \")\n",
    "        print(frequent_itemsets)\n",
    "        # Recherche de règles d'association avec un lift supérieur à 1 à partir des motifs fréquents relevés\n",
    "        rules = association_rules(frequent_itemsets, metric=\"lift\", min_threshold=1, support_only=True)\n",
    "        # Affichage des règles d'association intéressantes\n",
    "        if len(rules)>0: \n",
    "            print(insect, \" : \", rules)"
   ]
  },
  {
   "cell_type": "code",
   "execution_count": null,
   "id": "dc0d3d10-9794-440c-b5e7-46806051879a",
   "metadata": {},
   "outputs": [],
   "source": []
  }
 ],
 "metadata": {
  "kernelspec": {
   "display_name": "Python 3 (ipykernel)",
   "language": "python",
   "name": "python3"
  },
  "language_info": {
   "codemirror_mode": {
    "name": "ipython",
    "version": 3
   },
   "file_extension": ".py",
   "mimetype": "text/x-python",
   "name": "python",
   "nbconvert_exporter": "python",
   "pygments_lexer": "ipython3",
   "version": "3.11.4"
  }
 },
 "nbformat": 4,
 "nbformat_minor": 5
}
