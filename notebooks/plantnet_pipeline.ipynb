{
 "cells": [
  {
   "cell_type": "code",
   "execution_count": 416,
   "metadata": {},
   "outputs": [
    {
     "name": "stdout",
     "output_type": "stream",
     "text": [
      "Former working directory:  /Users/ambroisebertin/Desktop/prog/prog_abeilles/fil-rouge-pollinisateurs\n",
      "Current working directory:  /Users/ambroisebertin/Desktop/prog/prog_abeilles/fil-rouge-pollinisateurs\n",
      "The autoreload extension is already loaded. To reload it, use:\n",
      "  %reload_ext autoreload\n"
     ]
    }
   ],
   "source": [
    "from utils import setup_env_path\n",
    "\n",
    "setup_env_path()\n",
    "\n",
    "%load_ext autoreload\n",
    "%autoreload 2"
   ]
  },
  {
   "cell_type": "code",
   "execution_count": 417,
   "metadata": {},
   "outputs": [],
   "source": [
    "import pandas as pd\n",
    "import numpy as np\n",
    "from tqdm import tqdm\n",
    "import missingno as msno"
   ]
  },
  {
   "cell_type": "code",
   "execution_count": null,
   "metadata": {},
   "outputs": [],
   "source": [
    "API_keys = [\n",
    "    \"2b10Me1HF0rfjoGWCseolNa8e\",\n",
    "    \"2b10Xs7brWPuBdRTSeWx9V7HJu\",\n",
    "    \"2b10umm8L2jTYjlWrJKPfshJ0O\",\n",
    "    \"2b10sEg5pSsrtVT372XqlrzcLe\",\n",
    "    \"2b10LDWWlXJwuS6FleaqfK6Rke\",\n",
    "    \"2b10BoBZKV8WqZx9XCYulKvdu\",\n",
    "    \"2b10U9ilY13D9JvF70m7WjK1kO\",\n",
    "    \"2b101ARTX7UKqG1hqaeL9qav\",\n",
    "    \"2b10Aun0VZ0L3WxrRmMRtx6rsO\",\n",
    "    \"2b10PHd7xZZfWqzPghtBrYY6Me\",\n",
    "    \"2b10uRbRzoHPIDpZaY3ID9o4e\",\n",
    "    \"2b104GXJh341DO2S60qo3ABkI\",\n",
    "]"
   ]
  },
  {
   "cell_type": "markdown",
   "metadata": {},
   "source": [
    "On a 500 requêtes PlantNet par clef API chaque jour."
   ]
  },
  {
   "cell_type": "markdown",
   "metadata": {},
   "source": [
    "## Préparation des données\n",
    "\n",
    "### sauter cette partie si les fichiers csv existent déjà dans temporary_data/plantes"
   ]
  },
  {
   "cell_type": "markdown",
   "metadata": {},
   "source": [
    "A l'origine cette partie a été utilisée pour générer les datasets qui sont maintenant présents dans data/temporary_data/plantes. Ainsi, à moins de devoir recommencer de zéro, il n'est plus nécessaire d'executer ce code (mais il peut aider à comprendre le contenu des deux datasets construits)."
   ]
  },
  {
   "cell_type": "code",
   "execution_count": 473,
   "metadata": {},
   "outputs": [
    {
     "data": {
      "text/plain": [
       "(75372, 9)"
      ]
     },
     "execution_count": 473,
     "metadata": {},
     "output_type": "execute_result"
    }
   ],
   "source": [
    "# Import spipoll.csv as a pandas dataframe\n",
    "spipoll = pd.read_csv(\"././data/spipoll.csv\",low_memory=False)\n",
    "\n",
    "# Extract relevant columns from the spipoll dataframe\n",
    "plantes = spipoll[['collection_id', 'plante_sc', 'plante_fr',\n",
    "       'plante_precision', 'plante_inconnue', 'plante_caractere',\n",
    "       'photo_fleur', 'photo_plante', 'photo_feuille']]\n",
    "\n",
    "# Shrinking the data by grouping by collection_id\n",
    "# Keep only the first row for each unique value of collection_id\n",
    "plantes = plantes.drop_duplicates(subset='collection_id', keep='first')\n",
    "\n",
    "plantes.shape"
   ]
  },
  {
   "cell_type": "code",
   "execution_count": 474,
   "metadata": {},
   "outputs": [],
   "source": [
    "values_to_check = [\"Je ne sais pas\", \"Plante inconnue\"]"
   ]
  },
  {
   "cell_type": "code",
   "execution_count": 475,
   "metadata": {},
   "outputs": [
    {
     "data": {
      "text/plain": [
       "(63465, 9)"
      ]
     },
     "execution_count": 475,
     "metadata": {},
     "output_type": "execute_result"
    }
   ],
   "source": [
    "plantes_sc_unlabelled = plantes.loc[\n",
    "    (\n",
    "        (plantes[\"plante_sc\"].isna() | plantes[\"plante_sc\"].isin(values_to_check))\n",
    "    )\n",
    "    | ((plantes[\"plante_inconnue\"] == 1.0))\n",
    "]\n",
    "\n",
    "# creation du dataframe contenant les valeurs de plantes mais pas de plantes_sc_unlabelled\n",
    "plantes_sc_labelled = plantes[~plantes.index.isin(plantes_sc_unlabelled.index)]\n",
    "\n",
    "plantes_sc_labelled.shape"
   ]
  },
  {
   "cell_type": "code",
   "execution_count": 476,
   "metadata": {},
   "outputs": [
    {
     "data": {
      "text/plain": [
       "True"
      ]
     },
     "execution_count": 476,
     "metadata": {},
     "output_type": "execute_result"
    }
   ],
   "source": [
    "# verification des dimensions des deux df par rapport à la dim de plantes\n",
    "plantes_sc_labelled.shape[0] + plantes_sc_unlabelled.shape[0] == plantes.shape[0]"
   ]
  },
  {
   "cell_type": "code",
   "execution_count": 477,
   "metadata": {},
   "outputs": [
    {
     "data": {
      "text/plain": [
       "(9619, 9)"
      ]
     },
     "execution_count": 477,
     "metadata": {},
     "output_type": "execute_result"
    }
   ],
   "source": [
    "plantes_precision_unlabelled = plantes_sc_unlabelled.loc[\n",
    "    (\n",
    "        (plantes[\"plante_precision\"].isna() | plantes[\"plante_precision\"].isin(values_to_check))\n",
    "    )\n",
    "]\n",
    "\n",
    "# creation du dataframe contenant les valeurs de plantes_sc_unlabelled mais pas de plantes_precision_unlabelled\n",
    "plantes_precision_labelled = plantes_sc_unlabelled[~plantes_sc_unlabelled.index.isin(plantes_precision_unlabelled.index)]\n",
    "\n",
    "plantes_precision_labelled.shape"
   ]
  },
  {
   "cell_type": "code",
   "execution_count": 478,
   "metadata": {},
   "outputs": [
    {
     "data": {
      "text/plain": [
       "True"
      ]
     },
     "execution_count": 478,
     "metadata": {},
     "output_type": "execute_result"
    }
   ],
   "source": [
    "# verification des dimensions des deux df par rapport à la dim de plantes_sc_unlabelled\n",
    "plantes_precision_labelled.shape[0] + plantes_precision_unlabelled.shape[0] == plantes_sc_unlabelled.shape[0]"
   ]
  },
  {
   "cell_type": "markdown",
   "metadata": {},
   "source": [
    "Compression de l'information étiquettée redondante :"
   ]
  },
  {
   "cell_type": "code",
   "execution_count": null,
   "metadata": {},
   "outputs": [],
   "source": [
    "# group plantes_sc_labelled by unique values of plante_sc\n",
    "plantes_sc_labelled = plantes_sc_labelled.drop_duplicates(subset='plante_sc', keep='first')\n",
    "\n",
    "# display the dimension of the dataframe\n",
    "plantes_sc_labelled.shape"
   ]
  },
  {
   "cell_type": "code",
   "execution_count": null,
   "metadata": {},
   "outputs": [],
   "source": [
    "# group plantes_precision_labelled by unique values of plante_precision\n",
    "plantes_precision_labelled = plantes_precision_labelled.drop_duplicates(subset='plante_precision', keep='first')\n",
    "\n",
    "# display the dimension of the dataframe\n",
    "plantes_precision_labelled.shape"
   ]
  },
  {
   "cell_type": "code",
   "execution_count": null,
   "metadata": {},
   "outputs": [],
   "source": [
    "# ajoute trois colonnes après plante_sc dans le dataframe plantes_sc_labelled \"Famille\", \"Genre\" et \"Espèce\" entre la colonne plante_sc et plante_fr\n",
    "plantes_sc_labelled.insert(2, \"Famille\", \"\")\n",
    "plantes_sc_labelled.insert(3, \"Genre\", \"\")\n",
    "plantes_sc_labelled.insert(4, \"Espece\", \"\")\n",
    "\n",
    "# ajoute trois colonnes après plante_sc dans le dataframe plantes_precision_labelled \"Famille\", \"Genre\" et \"Espèce\" entre la colonne plante_sc et plante_fr\n",
    "plantes_precision_labelled.insert(2, \"Famille\", \"\")\n",
    "plantes_precision_labelled.insert(3, \"Genre\", \"\")\n",
    "plantes_precision_labelled.insert(4, \"Espece\", \"\")\n",
    "\n",
    "# ajoute trois colonnes après plante_sc dans le dataframe plantes_precision_unlabelled \"Famille\", \"Genre\" et \"Espèce\" entre la colonne plante_sc et plante_fr\n",
    "plantes_precision_unlabelled.insert(2, \"Famille\", \"\")\n",
    "plantes_precision_unlabelled.insert(3, \"Genre\", \"\")\n",
    "plantes_precision_unlabelled.insert(4, \"Espece\", \"\")"
   ]
  },
  {
   "cell_type": "markdown",
   "metadata": {},
   "source": [
    "## Appel à l'API"
   ]
  },
  {
   "cell_type": "code",
   "execution_count": null,
   "metadata": {},
   "outputs": [],
   "source": [
    "from data_quality.plant_treatment.plantnet_api import PlantNetPredictor\n",
    "\n",
    "def call_API(df, iloc, api_key_index=0):\n",
    "    \n",
    "    predictor = PlantNetPredictor(key = API_keys[api_key_index])\n",
    "    prediction = None\n",
    "\n",
    "    try:\n",
    "        prediction = predictor.predict(imageURL= df['photo_fleur'].iloc[iloc],\n",
    "                        organs = \"auto\",\n",
    "                        includeRelatedImages=False)\n",
    "    except Exception as e:\n",
    "        if api_key_index + 1 < len(API_keys):\n",
    "            return call_API(df, iloc, api_key_index + 1)\n",
    "        else:\n",
    "            print(f\"Error: {e}\")\n",
    "            return [\"erreur_API\", \"erreur_API\", \"erreur_API\"]\n",
    "\n",
    "    try:\n",
    "        famille = prediction[\"results\"][0][\"species\"][\"family\"][\"scientificNameWithoutAuthor\"] # famille\n",
    "        genre = prediction[\"results\"][0][\"species\"][\"genus\"][\"scientificNameWithoutAuthor\"] # genre\n",
    "        espece = prediction[\"results\"][0][\"species\"][\"scientificNameWithoutAuthor\"] # espece\n",
    "    \n",
    "    except IndexError:\n",
    "        print(\"IndexError: list index out of range\")\n",
    "        return [\"erreur_API\", \"erreur_API\", \"erreur_API\"]\n",
    "\n",
    "    return [famille, genre, espece]"
   ]
  },
  {
   "cell_type": "code",
   "execution_count": null,
   "metadata": {},
   "outputs": [],
   "source": [
    "def remplir_tableau(df, num):\n",
    "    \n",
    "    for i in tqdm(range(num)):\n",
    "        start_index = 0\n",
    "\n",
    "        for j, val in enumerate(df[\"Famille\"]):\n",
    "            if val == \"\":\n",
    "                start_index = j\n",
    "                break\n",
    "        else:\n",
    "            print(\"Le dataframe est déjà rempli.\")\n",
    "            return df\n",
    "\n",
    "        try:\n",
    "            df.iloc[start_index, 2:5] = call_API(df,start_index)\n",
    "        except Exception as e:\n",
    "            print(f\"Error: {e}\")\n",
    "\n",
    "    return df"
   ]
  },
  {
   "cell_type": "markdown",
   "metadata": {},
   "source": [
    "### Un petit POC (pas nécessaire pour la suite)\n",
    "\n",
    "### sauter cette partie si les fichiers csv existent déjà dans temporary_data/plantes"
   ]
  },
  {
   "cell_type": "code",
   "execution_count": null,
   "metadata": {},
   "outputs": [],
   "source": [
    "remplir_tableau(plantes_sc_labelled, 7)"
   ]
  },
  {
   "cell_type": "code",
   "execution_count": null,
   "metadata": {},
   "outputs": [],
   "source": [
    "plantes_sc_labelled.head(15) # verification des 7 premières lignes remplies et 3 suivantes non remplies"
   ]
  },
  {
   "cell_type": "code",
   "execution_count": null,
   "metadata": {},
   "outputs": [],
   "source": [
    "# (uniquement utile pour faire des tests) vide les colonnes \"Famille\", \"Genre\" et \"Espece\" du dataframe plantes_sc_labelled\n",
    "plantes_sc_labelled.iloc[:, 2:5] = \"\""
   ]
  },
  {
   "cell_type": "code",
   "execution_count": null,
   "metadata": {},
   "outputs": [],
   "source": [
    "plantes_sc_labelled.shape # verification du maintien de la dimension du dataframe : OK"
   ]
  },
  {
   "cell_type": "markdown",
   "metadata": {},
   "source": [
    "## Pipeline"
   ]
  },
  {
   "cell_type": "markdown",
   "metadata": {},
   "source": [
    "Il faut environ 3 secondes pour un call API, soit environ 2h10 pour les 2620 plantes à traiter dans plantes_sc_labelled.\n",
    "\n",
    "On va donc stocker le dataframe dans un csv entre chaque appel à l'API pour ne pas perdre le travail effectué."
   ]
  },
  {
   "cell_type": "code",
   "execution_count": null,
   "metadata": {},
   "outputs": [],
   "source": [
    "def save_dataframe(df, df_name):\n",
    "    df.to_csv(f\"data/temporary_data/plantes/{df_name}.csv\", index=False)"
   ]
  },
  {
   "cell_type": "code",
   "execution_count": null,
   "metadata": {},
   "outputs": [],
   "source": [
    "def import_dataframe(df_name):\n",
    "    return pd.read_csv(f\"data/temporary_data/plantes/{df_name}.csv\")"
   ]
  },
  {
   "cell_type": "code",
   "execution_count": null,
   "metadata": {},
   "outputs": [],
   "source": [
    "plantes_sc_labelled = import_dataframe(\"plantes_sc_labelled\")\n",
    "plantes_precision_labelled = import_dataframe(\"plantes_precision_labelled\")\n",
    "plantes_precision_unlabelled = import_dataframe(\"plantes_precision_unlabelled\")"
   ]
  },
  {
   "cell_type": "code",
   "execution_count": null,
   "metadata": {},
   "outputs": [],
   "source": [
    "def pipeline_remplissage(df_name, num):\n",
    "    df = import_dataframe(df_name)\n",
    "    df[[\"Famille\", \"Genre\", \"Espece\"]] = df[[\"Famille\", \"Genre\", \"Espece\"]].fillna(\"\")\n",
    "    remplir_tableau(df, num)\n",
    "    save_dataframe(df, df_name)"
   ]
  },
  {
   "cell_type": "code",
   "execution_count": null,
   "metadata": {},
   "outputs": [],
   "source": [
    "# POC\n",
    "# pipeline_remplissage(\"plantes_precision_unlabelled\", 10)"
   ]
  },
  {
   "cell_type": "markdown",
   "metadata": {},
   "source": [
    "### Sauvegarde progressive des calls API"
   ]
  },
  {
   "cell_type": "code",
   "execution_count": null,
   "metadata": {},
   "outputs": [],
   "source": [
    "def pipeline(df_name, n):\n",
    "    for i in range(n):\n",
    "        try:\n",
    "            pipeline_remplissage(df_name, 10) # une itération prend 30 secondes\n",
    "        except Exception as e:\n",
    "            print(f\"Error occurred after {i} successful runs: {e}\")\n",
    "            break   "
   ]
  },
  {
   "cell_type": "markdown",
   "metadata": {},
   "source": [
    "permet d'effectuer une sauvegarde des telechargements toutes les 10 occurences ie toutes les 30 secondes"
   ]
  },
  {
   "cell_type": "code",
   "execution_count": null,
   "metadata": {},
   "outputs": [],
   "source": [
    "pipeline('plantes_precision_unlabelled', 1)"
   ]
  },
  {
   "cell_type": "markdown",
   "metadata": {},
   "source": [
    "### Verification de la progression des téléchargements"
   ]
  },
  {
   "cell_type": "code",
   "execution_count": null,
   "metadata": {},
   "outputs": [],
   "source": [
    "def verification_progression(df_name):\n",
    "    # importe le dataframe plantes_sc_labelled depuis le fichier csv\n",
    "    df = pd.read_csv(f\"data/temporary_data/plantes/{df_name}.csv\")\n",
    "    # utilise missingno pour visualiser les valeurs manquantes dans le dataframe\n",
    "    msno.matrix(df)\n",
    "    \n",
    "    # estimation de la quantité de travail restante en téléchargement de données\n",
    "    num_nan = df[\"Famille\"].isna().sum()\n",
    "    percent_nan = round((num_nan / len(df)) * 100,2)\n",
    "    print(\"\\n\")\n",
    "    print(f\"Nombre de lignes dans 'Famille' restants à télécharger : {num_nan}\")\n",
    "    print(f\"Pourcentage de lignes dans 'Famille' restants à télécharger : {percent_nan} %\")"
   ]
  },
  {
   "cell_type": "code",
   "execution_count": null,
   "metadata": {},
   "outputs": [],
   "source": [
    "# importe plantes_precision_unlabelled depuis le fichier csv\n",
    "plantes_precision_unlabelled = import_dataframe(\"plantes_precision_unlabelled\")\n",
    "# toutes les lignes de famille genre espece conteant \"erreur_API\" doivent être vidées avec \"\"\n",
    "plantes_precision_unlabelled[[\"Famille\", \"Genre\", \"Espece\"]] = plantes_precision_unlabelled[[\"Famille\", \"Genre\", \"Espece\"]].replace(\"erreur_API\", \"\")\n",
    "# sauvegarde le dataprecisioname dans un fichier csv\n",
    "save_dataframe(plantes_precision_unlabelled, \"plantes_precision_unlabelled\")\n"
   ]
  },
  {
   "cell_type": "code",
   "execution_count": null,
   "metadata": {},
   "outputs": [],
   "source": [
    "verification_progression('plantes_precision_unlabelled')"
   ]
  },
  {
   "cell_type": "markdown",
   "metadata": {},
   "source": [
    "## Export des résultats"
   ]
  },
  {
   "cell_type": "code",
   "execution_count": null,
   "metadata": {},
   "outputs": [],
   "source": [
    "def export_plantes(nom_df):\n",
    "    # Importer le dataframe\n",
    "    df = pd.read_csv(f\"data/temporary_data/plantes/{nom_df}.csv\")\n",
    "\n",
    "    # Vérifier si la colonne \"Famille\" contient des valeurs NaN\n",
    "    if df[\"Famille\"].isna().any():\n",
    "        num_nan = df[\"Famille\"].isna().sum()\n",
    "        percent_nan = round((num_nan / len(df)) * 100,2)\n",
    "        print(\"Il reste\", percent_nan,\"% des données à télécharger, soit\", num_nan,\"lignes.\")\n",
    "        msno.matrix(df)\n",
    "    else:\n",
    "        # Sauvegarder le dataframe dans un fichier CSV\n",
    "        df.to_csv(f\"data/plantes/{nom_df}.csv\", index=False)"
   ]
  },
  {
   "cell_type": "code",
   "execution_count": null,
   "metadata": {},
   "outputs": [],
   "source": [
    "export_plantes('plantes_precision_unlabelled')"
   ]
  },
  {
   "cell_type": "markdown",
   "metadata": {},
   "source": [
    "## Décompression des données"
   ]
  },
  {
   "cell_type": "markdown",
   "metadata": {},
   "source": [
    "On a à l'origine un dataset spipoll (670 744 lignes), groupé par collection_id (75 372 lignes) scindé en la partition plantes_sc_labelled et plantes_sc_unlabelled (respectivement 63 465 et 11 907 lignes). plantes_sc_unlabelled est scindé en la partition plantes_precision_labelled et plantes_precision_unlabelled (respectivement 9619 et 2288 lignes).\n"
   ]
  },
  {
   "cell_type": "markdown",
   "metadata": {},
   "source": [
    "On avait compressé plantes_sc_labelled et plantes_precision_labelled en les groupant par valeur de plantes_sc et plantes_precision identiques (respectivement passé de 63 465 lignes à 2620 ; et passé de 9619 lignes à 4319). On va ici faire l'opération inverse pour compléter les lignes d'origine avec les valeurs obtenues par le traitement API."
   ]
  },
  {
   "cell_type": "code",
   "execution_count": 479,
   "metadata": {},
   "outputs": [
    {
     "name": "stdout",
     "output_type": "stream",
     "text": [
      "63465 9619\n"
     ]
    }
   ],
   "source": [
    "# on definit les deux dataframes à reconstruire\n",
    "plantes_sc_labelled_long = plantes_sc_labelled # issus des dataframes vierges du début du notebook avant compression ...\n",
    "plantes_precision_labelled_long = plantes_precision_labelled # ... pas des dataframes complétés par l'API !!\n",
    "\n",
    "print(plantes_sc_labelled_long.shape[0], plantes_precision_labelled_long.shape[0])"
   ]
  },
  {
   "cell_type": "code",
   "execution_count": 480,
   "metadata": {},
   "outputs": [],
   "source": [
    "# ajout des colonnes \"Famille\", \"Genre\" et \"Espece\" dans les dataframes longs\n",
    "plantes_sc_labelled_long.insert(2, \"Famille\", \"\")\n",
    "plantes_sc_labelled_long.insert(3, \"Genre\", \"\")\n",
    "plantes_sc_labelled_long.insert(4, \"Espece\", \"\")\n",
    "\n",
    "plantes_precision_labelled_long.insert(2, \"Famille\", \"\")\n",
    "plantes_precision_labelled_long.insert(3, \"Genre\", \"\")\n",
    "plantes_precision_labelled_long.insert(4, \"Espece\", \"\")"
   ]
  },
  {
   "cell_type": "code",
   "execution_count": 481,
   "metadata": {},
   "outputs": [],
   "source": [
    "# on trie les dataframes longs par plantes_sc et plantes_precision\n",
    "plantes_sc_labelled_long = plantes_sc_labelled_long.sort_values(by=\"plante_sc\")\n",
    "plantes_precision_labelled_long = plantes_precision_labelled_long.sort_values(by=\"plante_precision\")"
   ]
  },
  {
   "cell_type": "code",
   "execution_count": 482,
   "metadata": {},
   "outputs": [
    {
     "data": {
      "text/html": [
       "<div>\n",
       "<style scoped>\n",
       "    .dataframe tbody tr th:only-of-type {\n",
       "        vertical-align: middle;\n",
       "    }\n",
       "\n",
       "    .dataframe tbody tr th {\n",
       "        vertical-align: top;\n",
       "    }\n",
       "\n",
       "    .dataframe thead th {\n",
       "        text-align: right;\n",
       "    }\n",
       "</style>\n",
       "<table border=\"1\" class=\"dataframe\">\n",
       "  <thead>\n",
       "    <tr style=\"text-align: right;\">\n",
       "      <th></th>\n",
       "      <th>collection_id</th>\n",
       "      <th>plante_sc</th>\n",
       "      <th>Famille</th>\n",
       "      <th>Genre</th>\n",
       "      <th>Espece</th>\n",
       "      <th>plante_fr</th>\n",
       "      <th>plante_precision</th>\n",
       "      <th>plante_inconnue</th>\n",
       "      <th>plante_caractere</th>\n",
       "      <th>photo_fleur</th>\n",
       "      <th>photo_plante</th>\n",
       "      <th>photo_feuille</th>\n",
       "    </tr>\n",
       "  </thead>\n",
       "  <tbody>\n",
       "    <tr>\n",
       "      <th>535659</th>\n",
       "      <td>59 851</td>\n",
       "      <td>Abelia triflora</td>\n",
       "      <td></td>\n",
       "      <td></td>\n",
       "      <td></td>\n",
       "      <td>NaN</td>\n",
       "      <td>NaN</td>\n",
       "      <td>0.0</td>\n",
       "      <td>plantée</td>\n",
       "      <td>https://spgp-api.65mo.fr/api/containers/spgp/d...</td>\n",
       "      <td>https://spgp-api.65mo.fr/api/containers/spgp/d...</td>\n",
       "      <td>https://spgp-api.65mo.fr/api/containers/spgp/d...</td>\n",
       "    </tr>\n",
       "    <tr>\n",
       "      <th>670140</th>\n",
       "      <td>75 969</td>\n",
       "      <td>Abelia triflora</td>\n",
       "      <td></td>\n",
       "      <td></td>\n",
       "      <td></td>\n",
       "      <td>NaN</td>\n",
       "      <td>NaN</td>\n",
       "      <td>0.0</td>\n",
       "      <td>plantée</td>\n",
       "      <td>https://spgp-api.65mo.fr/api/containers/spgp/d...</td>\n",
       "      <td>https://spgp-api.65mo.fr/api/containers/spgp/d...</td>\n",
       "      <td>https://spgp-api.65mo.fr/api/containers/spgp/d...</td>\n",
       "    </tr>\n",
       "    <tr>\n",
       "      <th>472291</th>\n",
       "      <td>52 148</td>\n",
       "      <td>Abelia triflora</td>\n",
       "      <td></td>\n",
       "      <td></td>\n",
       "      <td></td>\n",
       "      <td>NaN</td>\n",
       "      <td>NaN</td>\n",
       "      <td>NaN</td>\n",
       "      <td>plantée</td>\n",
       "      <td>https://spgp-api.65mo.fr/api/containers/spgp/d...</td>\n",
       "      <td>https://spgp-api.65mo.fr/api/containers/spgp/d...</td>\n",
       "      <td>https://spgp-api.65mo.fr/api/containers/spgp/d...</td>\n",
       "    </tr>\n",
       "    <tr>\n",
       "      <th>472300</th>\n",
       "      <td>52 152</td>\n",
       "      <td>Abelia triflora</td>\n",
       "      <td></td>\n",
       "      <td></td>\n",
       "      <td></td>\n",
       "      <td>NaN</td>\n",
       "      <td>NaN</td>\n",
       "      <td>NaN</td>\n",
       "      <td>plantée</td>\n",
       "      <td>https://spgp-api.65mo.fr/api/containers/spgp/d...</td>\n",
       "      <td>https://spgp-api.65mo.fr/api/containers/spgp/d...</td>\n",
       "      <td>https://spgp-api.65mo.fr/api/containers/spgp/d...</td>\n",
       "    </tr>\n",
       "    <tr>\n",
       "      <th>50579</th>\n",
       "      <td>5 567</td>\n",
       "      <td>Abelia triflora</td>\n",
       "      <td></td>\n",
       "      <td></td>\n",
       "      <td></td>\n",
       "      <td>NaN</td>\n",
       "      <td>NaN</td>\n",
       "      <td>NaN</td>\n",
       "      <td>plantée</td>\n",
       "      <td>https://spgp-api.65mo.fr/api/containers/spgp/d...</td>\n",
       "      <td>https://spgp-api.65mo.fr/api/containers/spgp/d...</td>\n",
       "      <td>https://spgp-api.65mo.fr/api/containers/spgp/d...</td>\n",
       "    </tr>\n",
       "  </tbody>\n",
       "</table>\n",
       "</div>"
      ],
      "text/plain": [
       "       collection_id        plante_sc Famille Genre Espece plante_fr  \\\n",
       "535659        59 851  Abelia triflora                            NaN   \n",
       "670140        75 969  Abelia triflora                            NaN   \n",
       "472291        52 148  Abelia triflora                            NaN   \n",
       "472300        52 152  Abelia triflora                            NaN   \n",
       "50579          5 567  Abelia triflora                            NaN   \n",
       "\n",
       "       plante_precision  plante_inconnue plante_caractere  \\\n",
       "535659              NaN              0.0          plantée   \n",
       "670140              NaN              0.0          plantée   \n",
       "472291              NaN              NaN          plantée   \n",
       "472300              NaN              NaN          plantée   \n",
       "50579               NaN              NaN          plantée   \n",
       "\n",
       "                                              photo_fleur  \\\n",
       "535659  https://spgp-api.65mo.fr/api/containers/spgp/d...   \n",
       "670140  https://spgp-api.65mo.fr/api/containers/spgp/d...   \n",
       "472291  https://spgp-api.65mo.fr/api/containers/spgp/d...   \n",
       "472300  https://spgp-api.65mo.fr/api/containers/spgp/d...   \n",
       "50579   https://spgp-api.65mo.fr/api/containers/spgp/d...   \n",
       "\n",
       "                                             photo_plante  \\\n",
       "535659  https://spgp-api.65mo.fr/api/containers/spgp/d...   \n",
       "670140  https://spgp-api.65mo.fr/api/containers/spgp/d...   \n",
       "472291  https://spgp-api.65mo.fr/api/containers/spgp/d...   \n",
       "472300  https://spgp-api.65mo.fr/api/containers/spgp/d...   \n",
       "50579   https://spgp-api.65mo.fr/api/containers/spgp/d...   \n",
       "\n",
       "                                            photo_feuille  \n",
       "535659  https://spgp-api.65mo.fr/api/containers/spgp/d...  \n",
       "670140  https://spgp-api.65mo.fr/api/containers/spgp/d...  \n",
       "472291  https://spgp-api.65mo.fr/api/containers/spgp/d...  \n",
       "472300  https://spgp-api.65mo.fr/api/containers/spgp/d...  \n",
       "50579   https://spgp-api.65mo.fr/api/containers/spgp/d...  "
      ]
     },
     "execution_count": 482,
     "metadata": {},
     "output_type": "execute_result"
    }
   ],
   "source": [
    "plantes_sc_labelled_long.head()"
   ]
  },
  {
   "cell_type": "code",
   "execution_count": 483,
   "metadata": {},
   "outputs": [
    {
     "name": "stdout",
     "output_type": "stream",
     "text": [
      "63465 9619\n"
     ]
    }
   ],
   "source": [
    "print(plantes_sc_labelled_long.shape[0], plantes_precision_labelled_long.shape[0])"
   ]
  },
  {
   "cell_type": "code",
   "execution_count": 484,
   "metadata": {},
   "outputs": [
    {
     "name": "stdout",
     "output_type": "stream",
     "text": [
      "2620 4314\n"
     ]
    }
   ],
   "source": [
    "# on importe les petits dataframes qui ont été complétés avec l'API précédemment\n",
    "plantes_sc_labelled = pd.read_csv(f\"data/plantes/plantes_sc_labelled.csv\")\n",
    "plantes_precision_labelled = pd.read_csv(f\"data/plantes/plantes_precision_labelled.csv\")\n",
    "\n",
    "print(plantes_sc_labelled.shape[0], plantes_precision_labelled.shape[0])"
   ]
  },
  {
   "cell_type": "markdown",
   "metadata": {},
   "source": [
    "### Petit POC pour construire la fonction d'intérêt"
   ]
  },
  {
   "cell_type": "code",
   "execution_count": null,
   "metadata": {},
   "outputs": [],
   "source": [
    "# prend les 50 premières lignes du dataframe plantes_sc_labelled_long et mets les dans un df POC\n",
    "plantes_sc_labelled_long_POC = plantes_sc_labelled_long.head(50)\n",
    "plantes_sc_labelled_long_POC.shape"
   ]
  },
  {
   "cell_type": "code",
   "execution_count": 453,
   "metadata": {},
   "outputs": [],
   "source": [
    "# Get the values of \"Famille\", \"Genre\", and \"Espece\" from the row in `plantes_sc_labelled` where the index is 856\n",
    "famille, genre, espece = plantes_sc_labelled.loc[856, [\"Famille\", \"Genre\", \"Espece\"]]\n",
    "\n",
    "# Identify the rows in `plantes_sc_labelled_long_POC` where \"plante_sc\" equals `plantes_sc_labelled[\"plante_sc\"].iloc[856]`\n",
    "mask = plantes_sc_labelled_long_POC[\"plante_sc\"] == plantes_sc_labelled[\"plante_sc\"].iloc[856]\n",
    "\n",
    "# Replace the values of \"Famille\", \"Genre\", and \"Espece\" in these rows with the values from `plantes_sc_labelled`\n",
    "plantes_sc_labelled_long_POC.loc[mask, \"Famille\"] = famille\n",
    "plantes_sc_labelled_long_POC.loc[mask, \"Genre\"] = genre\n",
    "plantes_sc_labelled_long_POC.loc[mask, \"Espece\"] = espece"
   ]
  },
  {
   "cell_type": "code",
   "execution_count": null,
   "metadata": {},
   "outputs": [],
   "source": [
    "plantes_sc_labelled_long_POC.head(15)"
   ]
  },
  {
   "cell_type": "markdown",
   "metadata": {},
   "source": [
    "### Construction de la fonction de décompression"
   ]
  },
  {
   "cell_type": "code",
   "execution_count": 485,
   "metadata": {},
   "outputs": [],
   "source": [
    "def remplacer_valeurs(df_court, df_long, colonne_interet):\n",
    "    # Boucle sur chaque ligne dans `df_court`\n",
    "    for i in tqdm(range(len(df_court))):\n",
    "        # Obtient les valeurs de \"Famille\", \"Genre\", et \"Espece\" de la ligne dans `df_court` où l'index est i\n",
    "        famille, genre, espece = df_court.loc[i, [\"Famille\", \"Genre\", \"Espece\"]]\n",
    "\n",
    "        # Identifie les lignes dans `df_long` où \"plante_sc\" est égal à `df_court[\"plante_sc\"].iloc[i]`\n",
    "        masque = df_long[f\"{colonne_interet}\"] == df_court[f\"{colonne_interet}\"].iloc[i]\n",
    "\n",
    "        # Remplace les valeurs de \"Famille\", \"Genre\", et \"Espece\" dans ces lignes avec les valeurs de `df_court`\n",
    "        df_long.loc[masque, \"Famille\"] = famille\n",
    "        df_long.loc[masque, \"Genre\"] = genre\n",
    "        df_long.loc[masque, \"Espece\"] = espece"
   ]
  },
  {
   "cell_type": "code",
   "execution_count": null,
   "metadata": {},
   "outputs": [],
   "source": [
    "# Appelle la fonction avec `plantes_sc_labelled` comme `df_court` et `plantes_sc_labelled_long_POC` comme `df_long`\n",
    "remplacer_valeurs(plantes_sc_labelled, plantes_sc_labelled_long_POC, \"plante_sc\")"
   ]
  },
  {
   "cell_type": "code",
   "execution_count": null,
   "metadata": {},
   "outputs": [],
   "source": [
    "remplacer_valeurs(plantes_sc_labelled, plantes_sc_labelled_long, \"plante_sc\")"
   ]
  },
  {
   "cell_type": "code",
   "execution_count": null,
   "metadata": {},
   "outputs": [],
   "source": [
    "remplacer_valeurs(plantes_precision_labelled, plantes_precision_labelled_long, \"plante_precision\")"
   ]
  },
  {
   "cell_type": "code",
   "execution_count": 524,
   "metadata": {},
   "outputs": [],
   "source": [
    "# trie plantes_sc_labelled_long et plantes_precision_labelled_long par index croissant\n",
    "plantes_sc_labelled_long = plantes_sc_labelled_long.sort_index()\n",
    "plantes_precision_labelled_long = plantes_precision_labelled_long.sort_index()"
   ]
  },
  {
   "cell_type": "code",
   "execution_count": 533,
   "metadata": {},
   "outputs": [
    {
     "data": {
      "text/plain": [
       "(63465, 12)"
      ]
     },
     "execution_count": 533,
     "metadata": {},
     "output_type": "execute_result"
    }
   ],
   "source": [
    "plantes_sc_labelled_long.shape"
   ]
  },
  {
   "cell_type": "code",
   "execution_count": 534,
   "metadata": {},
   "outputs": [
    {
     "data": {
      "text/plain": [
       "(9619, 12)"
      ]
     },
     "execution_count": 534,
     "metadata": {},
     "output_type": "execute_result"
    }
   ],
   "source": [
    "plantes_precision_labelled_long.shape"
   ]
  },
  {
   "cell_type": "code",
   "execution_count": 527,
   "metadata": {},
   "outputs": [
    {
     "data": {
      "text/plain": [
       "(2288, 12)"
      ]
     },
     "execution_count": 527,
     "metadata": {},
     "output_type": "execute_result"
    }
   ],
   "source": [
    "plantes_precision_unlabelled = pd.read_csv(f\"data/plantes/plantes_precision_unlabelled.csv\")\n",
    "plantes_precision_unlabelled.shape"
   ]
  },
  {
   "cell_type": "code",
   "execution_count": 531,
   "metadata": {},
   "outputs": [
    {
     "data": {
      "text/plain": [
       "(75372, 12)"
      ]
     },
     "execution_count": 531,
     "metadata": {},
     "output_type": "execute_result"
    }
   ],
   "source": [
    "# merge les dataframes plantes_sc_labelled_long, plantes_precision_labelled_long et plantes_precision_unlabelled\n",
    "plantes_merged = pd.concat([plantes_sc_labelled_long, plantes_precision_labelled_long, plantes_precision_unlabelled])\n",
    "\n",
    "# trie le dataframe plantes_merged par collection_id croissants\n",
    "plantes_merged = plantes_merged.sort_values(by=\"collection_id\")\n",
    "\n",
    "# sauvegarde le dataframe plantes_merged dans le dossier temporary_data/plantes\n",
    "plantes_merged.to_csv(\"data/temporary_data/plantes/plantes_merged.csv\", index=False)\n",
    "\n",
    "plantes_merged.shape"
   ]
  },
  {
   "cell_type": "code",
   "execution_count": 532,
   "metadata": {},
   "outputs": [
    {
     "data": {
      "text/html": [
       "<div>\n",
       "<style scoped>\n",
       "    .dataframe tbody tr th:only-of-type {\n",
       "        vertical-align: middle;\n",
       "    }\n",
       "\n",
       "    .dataframe tbody tr th {\n",
       "        vertical-align: top;\n",
       "    }\n",
       "\n",
       "    .dataframe thead th {\n",
       "        text-align: right;\n",
       "    }\n",
       "</style>\n",
       "<table border=\"1\" class=\"dataframe\">\n",
       "  <thead>\n",
       "    <tr style=\"text-align: right;\">\n",
       "      <th></th>\n",
       "      <th>collection_id</th>\n",
       "      <th>plante_sc</th>\n",
       "      <th>Famille</th>\n",
       "      <th>Genre</th>\n",
       "      <th>Espece</th>\n",
       "      <th>plante_fr</th>\n",
       "      <th>plante_precision</th>\n",
       "      <th>plante_inconnue</th>\n",
       "      <th>plante_caractere</th>\n",
       "      <th>photo_fleur</th>\n",
       "      <th>photo_plante</th>\n",
       "      <th>photo_feuille</th>\n",
       "    </tr>\n",
       "  </thead>\n",
       "  <tbody>\n",
       "    <tr>\n",
       "      <th>0</th>\n",
       "      <td>1</td>\n",
       "      <td>Les Trèfles à fleurs blanches ou roses en boul...</td>\n",
       "      <td>Fabaceae</td>\n",
       "      <td>Trifolium</td>\n",
       "      <td>Trifolium pratense</td>\n",
       "      <td>NaN</td>\n",
       "      <td>NaN</td>\n",
       "      <td>0.0</td>\n",
       "      <td>spontanée</td>\n",
       "      <td>https://spgp-api.65mo.fr/api/containers/spgp/d...</td>\n",
       "      <td>https://spgp-api.65mo.fr/api/containers/spgp/d...</td>\n",
       "      <td>https://spgp-api.65mo.fr/api/containers/spgp/d...</td>\n",
       "    </tr>\n",
       "    <tr>\n",
       "      <th>9</th>\n",
       "      <td>10</td>\n",
       "      <td>Les Ajoncs (des espèces du genre Ulex)</td>\n",
       "      <td>Fabaceae</td>\n",
       "      <td>Adenocarpus</td>\n",
       "      <td>Adenocarpus foliolosus</td>\n",
       "      <td>NaN</td>\n",
       "      <td>Ajonc (Ulex europaeus)</td>\n",
       "      <td>0.0</td>\n",
       "      <td>ne se prononce pas</td>\n",
       "      <td>https://spgp-api.65mo.fr/api/containers/spgp/d...</td>\n",
       "      <td>https://spgp-api.65mo.fr/api/containers/spgp/d...</td>\n",
       "      <td>https://spgp-api.65mo.fr/api/containers/spgp/d...</td>\n",
       "    </tr>\n",
       "    <tr>\n",
       "      <th>65</th>\n",
       "      <td>100</td>\n",
       "      <td>Les Abricotiers, Pruniers et Amandiers (à fleu...</td>\n",
       "      <td>Rosaceae</td>\n",
       "      <td>Prunus</td>\n",
       "      <td>Prunus spinosa</td>\n",
       "      <td>NaN</td>\n",
       "      <td>NaN</td>\n",
       "      <td>0.0</td>\n",
       "      <td>spontanée</td>\n",
       "      <td>https://spgp-api.65mo.fr/api/containers/spgp/d...</td>\n",
       "      <td>https://spgp-api.65mo.fr/api/containers/spgp/d...</td>\n",
       "      <td>https://spgp-api.65mo.fr/api/containers/spgp/d...</td>\n",
       "    </tr>\n",
       "    <tr>\n",
       "      <th>66</th>\n",
       "      <td>101</td>\n",
       "      <td>Les Pissenlits (Taraxacum sp)</td>\n",
       "      <td>Asteraceae</td>\n",
       "      <td>Taraxacum</td>\n",
       "      <td>Taraxacum palustre</td>\n",
       "      <td>NaN</td>\n",
       "      <td>Pissenlit (Taraxacum officinale)</td>\n",
       "      <td>0.0</td>\n",
       "      <td>spontanée</td>\n",
       "      <td>https://spgp-api.65mo.fr/api/containers/spgp/d...</td>\n",
       "      <td>https://spgp-api.65mo.fr/api/containers/spgp/d...</td>\n",
       "      <td>https://spgp-api.65mo.fr/api/containers/spgp/d...</td>\n",
       "    </tr>\n",
       "    <tr>\n",
       "      <th>67</th>\n",
       "      <td>102</td>\n",
       "      <td>Les Véroniques à fleurs isolées le long de la ...</td>\n",
       "      <td>Plantaginaceae</td>\n",
       "      <td>Veronica</td>\n",
       "      <td>Veronica persica</td>\n",
       "      <td>NaN</td>\n",
       "      <td>Véronique de Perse (Veronica persica)</td>\n",
       "      <td>0.0</td>\n",
       "      <td>spontanée</td>\n",
       "      <td>https://spgp-api.65mo.fr/api/containers/spgp/d...</td>\n",
       "      <td>https://spgp-api.65mo.fr/api/containers/spgp/d...</td>\n",
       "      <td>https://spgp-api.65mo.fr/api/containers/spgp/d...</td>\n",
       "    </tr>\n",
       "    <tr>\n",
       "      <th>...</th>\n",
       "      <td>...</td>\n",
       "      <td>...</td>\n",
       "      <td>...</td>\n",
       "      <td>...</td>\n",
       "      <td>...</td>\n",
       "      <td>...</td>\n",
       "      <td>...</td>\n",
       "      <td>...</td>\n",
       "      <td>...</td>\n",
       "      <td>...</td>\n",
       "      <td>...</td>\n",
       "      <td>...</td>\n",
       "    </tr>\n",
       "    <tr>\n",
       "      <th>956</th>\n",
       "      <td>10 087</td>\n",
       "      <td>Plante inconnue</td>\n",
       "      <td>Rosaceae</td>\n",
       "      <td>Spiraea</td>\n",
       "      <td>Spiraea chamaedryfolia</td>\n",
       "      <td>NaN</td>\n",
       "      <td>Pyracantha</td>\n",
       "      <td>0.0</td>\n",
       "      <td>plantée</td>\n",
       "      <td>https://spgp-api.65mo.fr/api/containers/spgp/d...</td>\n",
       "      <td>https://spgp-api.65mo.fr/api/containers/spgp/d...</td>\n",
       "      <td>https://spgp-api.65mo.fr/api/containers/spgp/d...</td>\n",
       "    </tr>\n",
       "    <tr>\n",
       "      <th>8580</th>\n",
       "      <td>10 088</td>\n",
       "      <td>Borago officinalis</td>\n",
       "      <td>Boraginaceae</td>\n",
       "      <td>Borago</td>\n",
       "      <td>Borago officinalis</td>\n",
       "      <td>La Bourrache officinale</td>\n",
       "      <td>NaN</td>\n",
       "      <td>0.0</td>\n",
       "      <td>plantée</td>\n",
       "      <td>https://spgp-api.65mo.fr/api/containers/spgp/d...</td>\n",
       "      <td>https://spgp-api.65mo.fr/api/containers/spgp/d...</td>\n",
       "      <td>https://spgp-api.65mo.fr/api/containers/spgp/d...</td>\n",
       "    </tr>\n",
       "    <tr>\n",
       "      <th>957</th>\n",
       "      <td>10 090</td>\n",
       "      <td>Plante inconnue</td>\n",
       "      <td>Asteraceae</td>\n",
       "      <td>Cynara</td>\n",
       "      <td>Cynara cardunculus</td>\n",
       "      <td>NaN</td>\n",
       "      <td>Artichaud</td>\n",
       "      <td>0.0</td>\n",
       "      <td>plantée</td>\n",
       "      <td>https://spgp-api.65mo.fr/api/containers/spgp/d...</td>\n",
       "      <td>https://spgp-api.65mo.fr/api/containers/spgp/d...</td>\n",
       "      <td>https://spgp-api.65mo.fr/api/containers/spgp/d...</td>\n",
       "    </tr>\n",
       "    <tr>\n",
       "      <th>310</th>\n",
       "      <td>10 091</td>\n",
       "      <td>Plante inconnue</td>\n",
       "      <td>Lamiaceae</td>\n",
       "      <td>Mentha</td>\n",
       "      <td>Mentha suaveolens</td>\n",
       "      <td>NaN</td>\n",
       "      <td>NaN</td>\n",
       "      <td>0.0</td>\n",
       "      <td>spontanée</td>\n",
       "      <td>https://spgp-api.65mo.fr/api/containers/spgp/d...</td>\n",
       "      <td>https://spgp-api.65mo.fr/api/containers/spgp/d...</td>\n",
       "      <td>https://spgp-api.65mo.fr/api/containers/spgp/d...</td>\n",
       "    </tr>\n",
       "    <tr>\n",
       "      <th>8581</th>\n",
       "      <td>10 092</td>\n",
       "      <td>Peucedanum ostruthium</td>\n",
       "      <td>Apiaceae</td>\n",
       "      <td>Imperatoria</td>\n",
       "      <td>Imperatoria ostruthium</td>\n",
       "      <td>Impératoire, Benjoin</td>\n",
       "      <td>impératoire</td>\n",
       "      <td>0.0</td>\n",
       "      <td>spontanée</td>\n",
       "      <td>https://spgp-api.65mo.fr/api/containers/spgp/d...</td>\n",
       "      <td>https://spgp-api.65mo.fr/api/containers/spgp/d...</td>\n",
       "      <td>https://spgp-api.65mo.fr/api/containers/spgp/d...</td>\n",
       "    </tr>\n",
       "  </tbody>\n",
       "</table>\n",
       "<p>100 rows × 12 columns</p>\n",
       "</div>"
      ],
      "text/plain": [
       "     collection_id                                          plante_sc  \\\n",
       "0                1  Les Trèfles à fleurs blanches ou roses en boul...   \n",
       "9               10             Les Ajoncs (des espèces du genre Ulex)   \n",
       "65             100  Les Abricotiers, Pruniers et Amandiers (à fleu...   \n",
       "66             101                      Les Pissenlits (Taraxacum sp)   \n",
       "67             102  Les Véroniques à fleurs isolées le long de la ...   \n",
       "...            ...                                                ...   \n",
       "956         10 087                                    Plante inconnue   \n",
       "8580        10 088                                 Borago officinalis   \n",
       "957         10 090                                    Plante inconnue   \n",
       "310         10 091                                    Plante inconnue   \n",
       "8581        10 092                              Peucedanum ostruthium   \n",
       "\n",
       "             Famille        Genre                  Espece  \\\n",
       "0           Fabaceae    Trifolium      Trifolium pratense   \n",
       "9           Fabaceae  Adenocarpus  Adenocarpus foliolosus   \n",
       "65          Rosaceae       Prunus          Prunus spinosa   \n",
       "66        Asteraceae    Taraxacum      Taraxacum palustre   \n",
       "67    Plantaginaceae     Veronica        Veronica persica   \n",
       "...              ...          ...                     ...   \n",
       "956         Rosaceae      Spiraea  Spiraea chamaedryfolia   \n",
       "8580    Boraginaceae       Borago      Borago officinalis   \n",
       "957       Asteraceae       Cynara      Cynara cardunculus   \n",
       "310        Lamiaceae       Mentha       Mentha suaveolens   \n",
       "8581        Apiaceae  Imperatoria  Imperatoria ostruthium   \n",
       "\n",
       "                    plante_fr                       plante_precision  \\\n",
       "0                         NaN                                    NaN   \n",
       "9                         NaN                 Ajonc (Ulex europaeus)   \n",
       "65                        NaN                                    NaN   \n",
       "66                        NaN       Pissenlit (Taraxacum officinale)   \n",
       "67                        NaN  Véronique de Perse (Veronica persica)   \n",
       "...                       ...                                    ...   \n",
       "956                       NaN                             Pyracantha   \n",
       "8580  La Bourrache officinale                                    NaN   \n",
       "957                       NaN                              Artichaud   \n",
       "310                       NaN                                    NaN   \n",
       "8581     Impératoire, Benjoin                            impératoire   \n",
       "\n",
       "      plante_inconnue    plante_caractere  \\\n",
       "0                 0.0           spontanée   \n",
       "9                 0.0  ne se prononce pas   \n",
       "65                0.0           spontanée   \n",
       "66                0.0           spontanée   \n",
       "67                0.0           spontanée   \n",
       "...               ...                 ...   \n",
       "956               0.0             plantée   \n",
       "8580              0.0             plantée   \n",
       "957               0.0             plantée   \n",
       "310               0.0           spontanée   \n",
       "8581              0.0           spontanée   \n",
       "\n",
       "                                            photo_fleur  \\\n",
       "0     https://spgp-api.65mo.fr/api/containers/spgp/d...   \n",
       "9     https://spgp-api.65mo.fr/api/containers/spgp/d...   \n",
       "65    https://spgp-api.65mo.fr/api/containers/spgp/d...   \n",
       "66    https://spgp-api.65mo.fr/api/containers/spgp/d...   \n",
       "67    https://spgp-api.65mo.fr/api/containers/spgp/d...   \n",
       "...                                                 ...   \n",
       "956   https://spgp-api.65mo.fr/api/containers/spgp/d...   \n",
       "8580  https://spgp-api.65mo.fr/api/containers/spgp/d...   \n",
       "957   https://spgp-api.65mo.fr/api/containers/spgp/d...   \n",
       "310   https://spgp-api.65mo.fr/api/containers/spgp/d...   \n",
       "8581  https://spgp-api.65mo.fr/api/containers/spgp/d...   \n",
       "\n",
       "                                           photo_plante  \\\n",
       "0     https://spgp-api.65mo.fr/api/containers/spgp/d...   \n",
       "9     https://spgp-api.65mo.fr/api/containers/spgp/d...   \n",
       "65    https://spgp-api.65mo.fr/api/containers/spgp/d...   \n",
       "66    https://spgp-api.65mo.fr/api/containers/spgp/d...   \n",
       "67    https://spgp-api.65mo.fr/api/containers/spgp/d...   \n",
       "...                                                 ...   \n",
       "956   https://spgp-api.65mo.fr/api/containers/spgp/d...   \n",
       "8580  https://spgp-api.65mo.fr/api/containers/spgp/d...   \n",
       "957   https://spgp-api.65mo.fr/api/containers/spgp/d...   \n",
       "310   https://spgp-api.65mo.fr/api/containers/spgp/d...   \n",
       "8581  https://spgp-api.65mo.fr/api/containers/spgp/d...   \n",
       "\n",
       "                                          photo_feuille  \n",
       "0     https://spgp-api.65mo.fr/api/containers/spgp/d...  \n",
       "9     https://spgp-api.65mo.fr/api/containers/spgp/d...  \n",
       "65    https://spgp-api.65mo.fr/api/containers/spgp/d...  \n",
       "66    https://spgp-api.65mo.fr/api/containers/spgp/d...  \n",
       "67    https://spgp-api.65mo.fr/api/containers/spgp/d...  \n",
       "...                                                 ...  \n",
       "956   https://spgp-api.65mo.fr/api/containers/spgp/d...  \n",
       "8580  https://spgp-api.65mo.fr/api/containers/spgp/d...  \n",
       "957   https://spgp-api.65mo.fr/api/containers/spgp/d...  \n",
       "310   https://spgp-api.65mo.fr/api/containers/spgp/d...  \n",
       "8581  https://spgp-api.65mo.fr/api/containers/spgp/d...  \n",
       "\n",
       "[100 rows x 12 columns]"
      ]
     },
     "execution_count": 532,
     "metadata": {},
     "output_type": "execute_result"
    }
   ],
   "source": [
    "plantes_merged.head(100)"
   ]
  },
  {
   "cell_type": "markdown",
   "metadata": {},
   "source": [
    "## On va maintenant décompresser par collection_id"
   ]
  },
  {
   "cell_type": "code",
   "execution_count": 536,
   "metadata": {},
   "outputs": [],
   "source": [
    "# Import spipoll.csv as a pandas dataframe\n",
    "spipoll = pd.read_csv(\"././data/spipoll.csv\",low_memory=False)\n",
    "\n",
    "# Extract relevant columns from the spipoll dataframe\n",
    "plantes = spipoll[['collection_id', 'plante_sc', 'plante_fr',\n",
    "       'plante_precision', 'plante_inconnue', 'plante_caractere',\n",
    "       'photo_fleur', 'photo_plante', 'photo_feuille']]\n",
    "\n",
    "# ajout des colonnes \"Famille\", \"Genre\" et \"Espece\" dans le dataframe plantes\n",
    "plantes.insert(2, \"Famille\", \"\")\n",
    "plantes.insert(3, \"Genre\", \"\")\n",
    "plantes.insert(4, \"Espece\", \"\")"
   ]
  },
  {
   "cell_type": "code",
   "execution_count": 537,
   "metadata": {},
   "outputs": [
    {
     "data": {
      "text/plain": [
       "(670744, 12)"
      ]
     },
     "execution_count": 537,
     "metadata": {},
     "output_type": "execute_result"
    }
   ],
   "source": [
    "plantes.shape"
   ]
  },
  {
   "cell_type": "code",
   "execution_count": 539,
   "metadata": {},
   "outputs": [
    {
     "data": {
      "text/plain": [
       "(75372, 12)"
      ]
     },
     "execution_count": 539,
     "metadata": {},
     "output_type": "execute_result"
    }
   ],
   "source": [
    "# import de plantes_merged depuis le fichier csv\n",
    "plantes_merged = pd.read_csv(\"data/temporary_data/plantes/plantes_merged.csv\")\n",
    "plantes_merged.shape"
   ]
  },
  {
   "cell_type": "code",
   "execution_count": 541,
   "metadata": {},
   "outputs": [
    {
     "name": "stderr",
     "output_type": "stream",
     "text": [
      "100%|██████████| 75372/75372 [1:06:03<00:00, 19.02it/s]\n"
     ]
    }
   ],
   "source": [
    "remplacer_valeurs(plantes_merged, plantes, \"collection_id\")"
   ]
  },
  {
   "cell_type": "code",
   "execution_count": 542,
   "metadata": {},
   "outputs": [
    {
     "data": {
      "text/html": [
       "<div>\n",
       "<style scoped>\n",
       "    .dataframe tbody tr th:only-of-type {\n",
       "        vertical-align: middle;\n",
       "    }\n",
       "\n",
       "    .dataframe tbody tr th {\n",
       "        vertical-align: top;\n",
       "    }\n",
       "\n",
       "    .dataframe thead th {\n",
       "        text-align: right;\n",
       "    }\n",
       "</style>\n",
       "<table border=\"1\" class=\"dataframe\">\n",
       "  <thead>\n",
       "    <tr style=\"text-align: right;\">\n",
       "      <th></th>\n",
       "      <th>collection_id</th>\n",
       "      <th>plante_sc</th>\n",
       "      <th>Famille</th>\n",
       "      <th>Genre</th>\n",
       "      <th>Espece</th>\n",
       "      <th>plante_fr</th>\n",
       "      <th>plante_precision</th>\n",
       "      <th>plante_inconnue</th>\n",
       "      <th>plante_caractere</th>\n",
       "      <th>photo_fleur</th>\n",
       "      <th>photo_plante</th>\n",
       "      <th>photo_feuille</th>\n",
       "    </tr>\n",
       "  </thead>\n",
       "  <tbody>\n",
       "    <tr>\n",
       "      <th>0</th>\n",
       "      <td>1</td>\n",
       "      <td>Les Trèfles à fleurs blanches ou roses en boul...</td>\n",
       "      <td>Fabaceae</td>\n",
       "      <td>Trifolium</td>\n",
       "      <td>Trifolium pratense</td>\n",
       "      <td>NaN</td>\n",
       "      <td>NaN</td>\n",
       "      <td>0.0</td>\n",
       "      <td>spontanée</td>\n",
       "      <td>https://spgp-api.65mo.fr/api/containers/spgp/d...</td>\n",
       "      <td>https://spgp-api.65mo.fr/api/containers/spgp/d...</td>\n",
       "      <td>https://spgp-api.65mo.fr/api/containers/spgp/d...</td>\n",
       "    </tr>\n",
       "    <tr>\n",
       "      <th>1</th>\n",
       "      <td>1</td>\n",
       "      <td>Les Trèfles à fleurs blanches ou roses en boul...</td>\n",
       "      <td>Fabaceae</td>\n",
       "      <td>Trifolium</td>\n",
       "      <td>Trifolium pratense</td>\n",
       "      <td>NaN</td>\n",
       "      <td>NaN</td>\n",
       "      <td>0.0</td>\n",
       "      <td>spontanée</td>\n",
       "      <td>https://spgp-api.65mo.fr/api/containers/spgp/d...</td>\n",
       "      <td>https://spgp-api.65mo.fr/api/containers/spgp/d...</td>\n",
       "      <td>https://spgp-api.65mo.fr/api/containers/spgp/d...</td>\n",
       "    </tr>\n",
       "    <tr>\n",
       "      <th>2</th>\n",
       "      <td>2</td>\n",
       "      <td>Acanthus mollis</td>\n",
       "      <td>Acanthaceae</td>\n",
       "      <td>Acanthus</td>\n",
       "      <td>Acanthus spinosus</td>\n",
       "      <td>Acanthe molle</td>\n",
       "      <td>NaN</td>\n",
       "      <td>NaN</td>\n",
       "      <td>plantée</td>\n",
       "      <td>https://spgp-api.65mo.fr/api/containers/spgp/d...</td>\n",
       "      <td>https://spgp-api.65mo.fr/api/containers/spgp/d...</td>\n",
       "      <td>https://spgp-api.65mo.fr/api/containers/spgp/d...</td>\n",
       "    </tr>\n",
       "    <tr>\n",
       "      <th>3</th>\n",
       "      <td>2</td>\n",
       "      <td>Acanthus mollis</td>\n",
       "      <td>Acanthaceae</td>\n",
       "      <td>Acanthus</td>\n",
       "      <td>Acanthus spinosus</td>\n",
       "      <td>Acanthe molle</td>\n",
       "      <td>NaN</td>\n",
       "      <td>NaN</td>\n",
       "      <td>plantée</td>\n",
       "      <td>https://spgp-api.65mo.fr/api/containers/spgp/d...</td>\n",
       "      <td>https://spgp-api.65mo.fr/api/containers/spgp/d...</td>\n",
       "      <td>https://spgp-api.65mo.fr/api/containers/spgp/d...</td>\n",
       "    </tr>\n",
       "    <tr>\n",
       "      <th>4</th>\n",
       "      <td>2</td>\n",
       "      <td>Acanthus mollis</td>\n",
       "      <td>Acanthaceae</td>\n",
       "      <td>Acanthus</td>\n",
       "      <td>Acanthus spinosus</td>\n",
       "      <td>Acanthe molle</td>\n",
       "      <td>NaN</td>\n",
       "      <td>NaN</td>\n",
       "      <td>plantée</td>\n",
       "      <td>https://spgp-api.65mo.fr/api/containers/spgp/d...</td>\n",
       "      <td>https://spgp-api.65mo.fr/api/containers/spgp/d...</td>\n",
       "      <td>https://spgp-api.65mo.fr/api/containers/spgp/d...</td>\n",
       "    </tr>\n",
       "  </tbody>\n",
       "</table>\n",
       "</div>"
      ],
      "text/plain": [
       "  collection_id                                          plante_sc  \\\n",
       "0             1  Les Trèfles à fleurs blanches ou roses en boul...   \n",
       "1             1  Les Trèfles à fleurs blanches ou roses en boul...   \n",
       "2             2                                    Acanthus mollis   \n",
       "3             2                                    Acanthus mollis   \n",
       "4             2                                    Acanthus mollis   \n",
       "\n",
       "       Famille      Genre              Espece      plante_fr plante_precision  \\\n",
       "0     Fabaceae  Trifolium  Trifolium pratense            NaN              NaN   \n",
       "1     Fabaceae  Trifolium  Trifolium pratense            NaN              NaN   \n",
       "2  Acanthaceae   Acanthus   Acanthus spinosus  Acanthe molle              NaN   \n",
       "3  Acanthaceae   Acanthus   Acanthus spinosus  Acanthe molle              NaN   \n",
       "4  Acanthaceae   Acanthus   Acanthus spinosus  Acanthe molle              NaN   \n",
       "\n",
       "   plante_inconnue plante_caractere  \\\n",
       "0              0.0        spontanée   \n",
       "1              0.0        spontanée   \n",
       "2              NaN          plantée   \n",
       "3              NaN          plantée   \n",
       "4              NaN          plantée   \n",
       "\n",
       "                                         photo_fleur  \\\n",
       "0  https://spgp-api.65mo.fr/api/containers/spgp/d...   \n",
       "1  https://spgp-api.65mo.fr/api/containers/spgp/d...   \n",
       "2  https://spgp-api.65mo.fr/api/containers/spgp/d...   \n",
       "3  https://spgp-api.65mo.fr/api/containers/spgp/d...   \n",
       "4  https://spgp-api.65mo.fr/api/containers/spgp/d...   \n",
       "\n",
       "                                        photo_plante  \\\n",
       "0  https://spgp-api.65mo.fr/api/containers/spgp/d...   \n",
       "1  https://spgp-api.65mo.fr/api/containers/spgp/d...   \n",
       "2  https://spgp-api.65mo.fr/api/containers/spgp/d...   \n",
       "3  https://spgp-api.65mo.fr/api/containers/spgp/d...   \n",
       "4  https://spgp-api.65mo.fr/api/containers/spgp/d...   \n",
       "\n",
       "                                       photo_feuille  \n",
       "0  https://spgp-api.65mo.fr/api/containers/spgp/d...  \n",
       "1  https://spgp-api.65mo.fr/api/containers/spgp/d...  \n",
       "2  https://spgp-api.65mo.fr/api/containers/spgp/d...  \n",
       "3  https://spgp-api.65mo.fr/api/containers/spgp/d...  \n",
       "4  https://spgp-api.65mo.fr/api/containers/spgp/d...  "
      ]
     },
     "execution_count": 542,
     "metadata": {},
     "output_type": "execute_result"
    }
   ],
   "source": [
    "plantes.head()"
   ]
  },
  {
   "cell_type": "code",
   "execution_count": 543,
   "metadata": {},
   "outputs": [],
   "source": [
    "# save plantes in a csv file in data/plantes\n",
    "plantes.to_csv(\"data/plantes/plantes.csv\", index=False)"
   ]
  },
  {
   "cell_type": "code",
   "execution_count": null,
   "metadata": {},
   "outputs": [],
   "source": []
  }
 ],
 "metadata": {
  "kernelspec": {
   "display_name": "Python 3",
   "language": "python",
   "name": "python3"
  },
  "language_info": {
   "codemirror_mode": {
    "name": "ipython",
    "version": 3
   },
   "file_extension": ".py",
   "mimetype": "text/x-python",
   "name": "python",
   "nbconvert_exporter": "python",
   "pygments_lexer": "ipython3",
   "version": "3.12.0"
  }
 },
 "nbformat": 4,
 "nbformat_minor": 2
}
