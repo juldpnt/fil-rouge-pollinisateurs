{
 "cells": [
  {
   "cell_type": "code",
   "execution_count": 1,
   "metadata": {},
   "outputs": [
    {
     "name": "stdout",
     "output_type": "stream",
     "text": [
      "Former working directory:  /Users/ambroisebertin/Desktop/prog/prog_abeilles/fil-rouge-pollinisateurs/notebooks\n",
      "Current working directory:  /Users/ambroisebertin/Desktop/prog/prog_abeilles/fil-rouge-pollinisateurs\n"
     ]
    }
   ],
   "source": [
    "from utils import setup_env_path\n",
    "\n",
    "setup_env_path()\n",
    "\n",
    "%load_ext autoreload\n",
    "%autoreload 2"
   ]
  },
  {
   "cell_type": "code",
   "execution_count": 2,
   "metadata": {},
   "outputs": [],
   "source": [
    "import pandas as pd\n",
    "import numpy as np\n",
    "from tqdm import tqdm\n",
    "import missingno as msno"
   ]
  },
  {
   "cell_type": "code",
   "execution_count": 4,
   "metadata": {},
   "outputs": [],
   "source": [
    "API_keys = [\n",
    "    \"2b10Me1HF0rfjoGWCseolNa8e\",\n",
    "    \"2b10Xs7brWPuBdRTSeWx9V7HJu\",\n",
    "    \"2b10umm8L2jTYjlWrJKPfshJ0O\",\n",
    "    \"2b10sEg5pSsrtVT372XqlrzcLe\",\n",
    "    \"2b10LDWWlXJwuS6FleaqfK6Rke\",\n",
    "    \"2b10BoBZKV8WqZx9XCYulKvdu\",\n",
    "    \"2b10U9ilY13D9JvF70m7WjK1kO\",\n",
    "    \"2b101ARTX7UKqG1hqaeL9qav\",\n",
    "    \"2b10Aun0VZ0L3WxrRmMRtx6rsO\",\n",
    "    \"2b10PHd7xZZfWqzPghtBrYY6Me\",\n",
    "    \"2b10uRbRzoHPIDpZaY3ID9o4e\",\n",
    "    \"2b104GXJh341DO2S60qo3ABkI\",\n",
    "]"
   ]
  },
  {
   "cell_type": "markdown",
   "metadata": {},
   "source": [
    "On a 500 requêtes PlantNet par clef API chaque jour."
   ]
  },
  {
   "cell_type": "markdown",
   "metadata": {},
   "source": [
    "## Préparation des données\n",
    "\n",
    "### sauter cette partie si les fichiers csv existent déjà dans temporary_data/plantes"
   ]
  },
  {
   "cell_type": "markdown",
   "metadata": {},
   "source": [
    "A l'origine cette partie a été utilisée pour générer les datasets qui sont maintenant présents dans data/temporary_data/plantes. Ainsi, à moins de devoir recommencer de zéro, il n'est plus nécessaire d'executer ce code (mais il peut aider à comprendre le contenu des deux datasets construits)."
   ]
  },
  {
   "cell_type": "code",
   "execution_count": null,
   "metadata": {},
   "outputs": [],
   "source": [
    "# Import spipoll.csv as a pandas dataframe\n",
    "spipoll = pd.read_csv(\"././data/spipoll.csv\",low_memory=False)\n",
    "\n",
    "# Extract relevant columns from the spipoll dataframe\n",
    "plantes = spipoll[['collection_id', 'plante_sc', 'plante_fr',\n",
    "       'plante_precision', 'plante_inconnue', 'plante_caractere',\n",
    "       'photo_fleur', 'photo_plante', 'photo_feuille']]\n",
    "\n",
    "# Shrinking the data by grouping by collection_id\n",
    "# Keep only the first row for each unique value of collection_id\n",
    "plantes = plantes.drop_duplicates(subset='collection_id', keep='first')\n",
    "\n",
    "plantes.shape"
   ]
  },
  {
   "cell_type": "code",
   "execution_count": null,
   "metadata": {},
   "outputs": [],
   "source": [
    "values_to_check = [\"Je ne sais pas\", \"Plante inconnue\"]"
   ]
  },
  {
   "cell_type": "code",
   "execution_count": null,
   "metadata": {},
   "outputs": [],
   "source": [
    "plantes_sc_unlabelled = plantes.loc[\n",
    "    (\n",
    "        (plantes[\"plante_sc\"].isna() | plantes[\"plante_sc\"].isin(values_to_check))\n",
    "    )\n",
    "    | ((plantes[\"plante_inconnue\"] == 1.0))\n",
    "]\n",
    "\n",
    "# creation du dataframe contenant les valeurs de plantes mais pas de plantes_sc_unlabelled\n",
    "plantes_sc_labelled = plantes[~plantes.index.isin(plantes_sc_unlabelled.index)]\n",
    "\n",
    "plantes_sc_labelled.shape"
   ]
  },
  {
   "cell_type": "code",
   "execution_count": null,
   "metadata": {},
   "outputs": [],
   "source": [
    "# verification des dimensions des deux df par rapport à la dim de plantes\n",
    "plantes_sc_labelled.shape[0] + plantes_sc_unlabelled.shape[0] == plantes.shape[0]"
   ]
  },
  {
   "cell_type": "code",
   "execution_count": null,
   "metadata": {},
   "outputs": [],
   "source": [
    "plantes_precision_unlabelled = plantes_sc_unlabelled.loc[\n",
    "    (\n",
    "        (plantes[\"plante_precision\"].isna() | plantes[\"plante_precision\"].isin(values_to_check))\n",
    "    )\n",
    "]\n",
    "\n",
    "# creation du dataframe contenant les valeurs de plantes_sc_unlabelled mais pas de plantes_precision_unlabelled\n",
    "plantes_precision_labelled = plantes_sc_unlabelled[~plantes_sc_unlabelled.index.isin(plantes_precision_unlabelled.index)]\n",
    "\n",
    "plantes_precision_labelled.shape"
   ]
  },
  {
   "cell_type": "code",
   "execution_count": null,
   "metadata": {},
   "outputs": [],
   "source": [
    "# verification des dimensions des deux df par rapport à la dim de plantes_sc_unlabelled\n",
    "plantes_precision_labelled.shape[0] + plantes_precision_unlabelled.shape[0] == plantes_sc_unlabelled.shape[0]"
   ]
  },
  {
   "cell_type": "markdown",
   "metadata": {},
   "source": [
    "Compression de l'information étiquettée redondante :"
   ]
  },
  {
   "cell_type": "code",
   "execution_count": null,
   "metadata": {},
   "outputs": [],
   "source": [
    "# group plantes_sc_labelled by unique values of plante_sc\n",
    "plantes_sc_labelled = plantes_sc_labelled.drop_duplicates(subset='plante_sc', keep='first')\n",
    "\n",
    "# display the dimension of the dataframe\n",
    "plantes_sc_labelled.shape"
   ]
  },
  {
   "cell_type": "code",
   "execution_count": null,
   "metadata": {},
   "outputs": [],
   "source": [
    "# group plantes_precision_labelled by unique values of plante_precision\n",
    "plantes_precision_labelled = plantes_precision_labelled.drop_duplicates(subset='plante_precision', keep='first')\n",
    "\n",
    "# display the dimension of the dataframe\n",
    "plantes_precision_labelled.shape"
   ]
  },
  {
   "cell_type": "code",
   "execution_count": null,
   "metadata": {},
   "outputs": [],
   "source": [
    "# ajoute trois colonnes après plante_sc dans le dataframe plantes_sc_labelled \"Famille\", \"Genre\" et \"Espèce\" entre la colonne plante_sc et plante_fr\n",
    "plantes_sc_labelled.insert(2, \"Famille\", \"\")\n",
    "plantes_sc_labelled.insert(3, \"Genre\", \"\")\n",
    "plantes_sc_labelled.insert(4, \"Espece\", \"\")\n",
    "\n",
    "# ajoute trois colonnes après plante_sc dans le dataframe plantes_precision_labelled \"Famille\", \"Genre\" et \"Espèce\" entre la colonne plante_sc et plante_fr\n",
    "plantes_precision_labelled.insert(2, \"Famille\", \"\")\n",
    "plantes_precision_labelled.insert(3, \"Genre\", \"\")\n",
    "plantes_precision_labelled.insert(4, \"Espece\", \"\")\n",
    "\n",
    "# ajoute trois colonnes après plante_sc dans le dataframe plantes_precision_unlabelled \"Famille\", \"Genre\" et \"Espèce\" entre la colonne plante_sc et plante_fr\n",
    "plantes_precision_unlabelled.insert(2, \"Famille\", \"\")\n",
    "plantes_precision_unlabelled.insert(3, \"Genre\", \"\")\n",
    "plantes_precision_unlabelled.insert(4, \"Espece\", \"\")"
   ]
  },
  {
   "cell_type": "markdown",
   "metadata": {},
   "source": [
    "## Appel à l'API"
   ]
  },
  {
   "cell_type": "code",
   "execution_count": null,
   "metadata": {},
   "outputs": [],
   "source": [
    "from data_quality.plant_treatment.plantnet_api import PlantNetPredictor\n",
    "\n",
    "def call_API(df, iloc, api_key_index=0):\n",
    "    \n",
    "    predictor = PlantNetPredictor(key = API_keys[api_key_index])\n",
    "    prediction = None\n",
    "\n",
    "    try:\n",
    "        prediction = predictor.predict(imageURL= df['photo_fleur'].iloc[iloc],\n",
    "                        organs = \"auto\",\n",
    "                        includeRelatedImages=False)\n",
    "    except Exception as e:\n",
    "        if api_key_index + 1 < len(API_keys):\n",
    "            return call_API(df, iloc, api_key_index + 1)\n",
    "        else:\n",
    "            print(f\"Error: {e}\")\n",
    "            return [\"erreur_API\", \"erreur_API\", \"erreur_API\"]\n",
    "\n",
    "    try:\n",
    "        famille = prediction[\"results\"][0][\"species\"][\"family\"][\"scientificNameWithoutAuthor\"] # famille\n",
    "        genre = prediction[\"results\"][0][\"species\"][\"genus\"][\"scientificNameWithoutAuthor\"] # genre\n",
    "        espece = prediction[\"results\"][0][\"species\"][\"scientificNameWithoutAuthor\"] # espece\n",
    "    \n",
    "    except IndexError:\n",
    "        print(\"IndexError: list index out of range\")\n",
    "        return [\"erreur_API\", \"erreur_API\", \"erreur_API\"]\n",
    "\n",
    "    return [famille, genre, espece]"
   ]
  },
  {
   "cell_type": "code",
   "execution_count": null,
   "metadata": {},
   "outputs": [],
   "source": [
    "def remplir_tableau(df, num):\n",
    "    \n",
    "    for i in tqdm(range(num)):\n",
    "        start_index = 0\n",
    "\n",
    "        for j, val in enumerate(df[\"Famille\"]):\n",
    "            if val == \"\":\n",
    "                start_index = j\n",
    "                break\n",
    "        else:\n",
    "            print(\"Le dataframe est déjà rempli.\")\n",
    "            return df\n",
    "\n",
    "        try:\n",
    "            df.iloc[start_index, 2:5] = call_API(df,start_index)\n",
    "        except Exception as e:\n",
    "            print(f\"Error: {e}\")\n",
    "\n",
    "    return df"
   ]
  },
  {
   "cell_type": "markdown",
   "metadata": {},
   "source": [
    "## Pipeline"
   ]
  },
  {
   "cell_type": "markdown",
   "metadata": {},
   "source": [
    "Il faut environ 3 secondes pour un call API, soit environ 2h10 pour les 2620 plantes à traiter dans plantes_sc_labelled.\n",
    "\n",
    "On va donc stocker le dataframe dans un csv entre chaque appel à l'API pour ne pas perdre le travail effectué."
   ]
  },
  {
   "cell_type": "code",
   "execution_count": null,
   "metadata": {},
   "outputs": [],
   "source": [
    "def save_dataframe(df, df_name):\n",
    "    df.to_csv(f\"data/temporary_data/plantes/{df_name}.csv\", index=False)"
   ]
  },
  {
   "cell_type": "code",
   "execution_count": 5,
   "metadata": {},
   "outputs": [],
   "source": [
    "def import_dataframe(df_name):\n",
    "    return pd.read_csv(f\"data/temporary_data/plantes/{df_name}.csv\")"
   ]
  },
  {
   "cell_type": "code",
   "execution_count": 6,
   "metadata": {},
   "outputs": [],
   "source": [
    "plantes_sc_labelled = import_dataframe(\"plantes_sc_labelled\")\n",
    "plantes_precision_labelled = import_dataframe(\"plantes_precision_labelled\")\n",
    "plantes_precision_unlabelled = import_dataframe(\"plantes_precision_unlabelled\")"
   ]
  },
  {
   "cell_type": "code",
   "execution_count": null,
   "metadata": {},
   "outputs": [],
   "source": [
    "def pipeline_remplissage(df_name, num):\n",
    "    df = import_dataframe(df_name)\n",
    "    df[[\"Famille\", \"Genre\", \"Espece\"]] = df[[\"Famille\", \"Genre\", \"Espece\"]].fillna(\"\")\n",
    "    remplir_tableau(df, num)\n",
    "    save_dataframe(df, df_name)"
   ]
  },
  {
   "cell_type": "code",
   "execution_count": null,
   "metadata": {},
   "outputs": [],
   "source": [
    "# POC\n",
    "# pipeline_remplissage(\"plantes_precision_unlabelled\", 10)"
   ]
  },
  {
   "cell_type": "markdown",
   "metadata": {},
   "source": [
    "### Sauvegarde progressive des calls API"
   ]
  },
  {
   "cell_type": "code",
   "execution_count": null,
   "metadata": {},
   "outputs": [],
   "source": [
    "def pipeline(df_name, n):\n",
    "    for i in range(n):\n",
    "        try:\n",
    "            pipeline_remplissage(df_name, 10) # une itération prend 30 secondes\n",
    "        except Exception as e:\n",
    "            print(f\"Error occurred after {i} successful runs: {e}\")\n",
    "            break   "
   ]
  },
  {
   "cell_type": "markdown",
   "metadata": {},
   "source": [
    "permet d'effectuer une sauvegarde des telechargements toutes les 10 occurences ie toutes les 30 secondes"
   ]
  },
  {
   "cell_type": "code",
   "execution_count": null,
   "metadata": {},
   "outputs": [],
   "source": [
    "pipeline('plantes_precision_unlabelled', 1)"
   ]
  },
  {
   "cell_type": "markdown",
   "metadata": {},
   "source": [
    "### Verification de la progression des téléchargements"
   ]
  },
  {
   "cell_type": "code",
   "execution_count": null,
   "metadata": {},
   "outputs": [],
   "source": [
    "def verification_progression(df_name):\n",
    "    # importe le dataframe plantes_sc_labelled depuis le fichier csv\n",
    "    df = pd.read_csv(f\"data/temporary_data/plantes/{df_name}.csv\")\n",
    "    # utilise missingno pour visualiser les valeurs manquantes dans le dataframe\n",
    "    msno.matrix(df)\n",
    "    \n",
    "    # estimation de la quantité de travail restante en téléchargement de données\n",
    "    num_nan = df[\"Famille\"].isna().sum()\n",
    "    percent_nan = round((num_nan / len(df)) * 100,2)\n",
    "    print(\"\\n\")\n",
    "    print(f\"Nombre de lignes dans 'Famille' restants à télécharger : {num_nan}\")\n",
    "    print(f\"Pourcentage de lignes dans 'Famille' restants à télécharger : {percent_nan} %\")"
   ]
  },
  {
   "cell_type": "code",
   "execution_count": null,
   "metadata": {},
   "outputs": [],
   "source": [
    "# importe plantes_precision_unlabelled depuis le fichier csv\n",
    "plantes_precision_unlabelled = import_dataframe(\"plantes_precision_unlabelled\")\n",
    "# toutes les lignes de famille genre espece conteant \"erreur_API\" doivent être vidées avec \"\"\n",
    "plantes_precision_unlabelled[[\"Famille\", \"Genre\", \"Espece\"]] = plantes_precision_unlabelled[[\"Famille\", \"Genre\", \"Espece\"]].replace(\"erreur_API\", \"\")\n",
    "# sauvegarde le dataprecisioname dans un fichier csv\n",
    "save_dataframe(plantes_precision_unlabelled, \"plantes_precision_unlabelled\")\n"
   ]
  },
  {
   "cell_type": "code",
   "execution_count": null,
   "metadata": {},
   "outputs": [],
   "source": [
    "verification_progression('plantes_precision_unlabelled')"
   ]
  },
  {
   "cell_type": "markdown",
   "metadata": {},
   "source": [
    "## Export des résultats"
   ]
  },
  {
   "cell_type": "code",
   "execution_count": null,
   "metadata": {},
   "outputs": [],
   "source": [
    "def export_plantes(nom_df):\n",
    "    # Importer le dataframe\n",
    "    df = pd.read_csv(f\"data/temporary_data/plantes/{nom_df}.csv\")\n",
    "\n",
    "    # Vérifier si la colonne \"Famille\" contient des valeurs NaN\n",
    "    if df[\"Famille\"].isna().any():\n",
    "        num_nan = df[\"Famille\"].isna().sum()\n",
    "        percent_nan = round((num_nan / len(df)) * 100,2)\n",
    "        print(\"Il reste\", percent_nan,\"% des données à télécharger, soit\", num_nan,\"lignes.\")\n",
    "        msno.matrix(df)\n",
    "    else:\n",
    "        # Sauvegarder le dataframe dans un fichier CSV\n",
    "        df.to_csv(f\"data/plantes/{nom_df}.csv\", index=False)"
   ]
  },
  {
   "cell_type": "code",
   "execution_count": null,
   "metadata": {},
   "outputs": [],
   "source": [
    "export_plantes('plantes_precision_unlabelled')"
   ]
  },
  {
   "cell_type": "markdown",
   "metadata": {},
   "source": [
    "## Estimation de la qualité des réponses de PlantNet API"
   ]
  },
  {
   "cell_type": "code",
   "execution_count": 24,
   "metadata": {},
   "outputs": [
    {
     "data": {
      "text/html": [
       "<div>\n",
       "<style scoped>\n",
       "    .dataframe tbody tr th:only-of-type {\n",
       "        vertical-align: middle;\n",
       "    }\n",
       "\n",
       "    .dataframe tbody tr th {\n",
       "        vertical-align: top;\n",
       "    }\n",
       "\n",
       "    .dataframe thead th {\n",
       "        text-align: right;\n",
       "    }\n",
       "</style>\n",
       "<table border=\"1\" class=\"dataframe\">\n",
       "  <thead>\n",
       "    <tr style=\"text-align: right;\">\n",
       "      <th></th>\n",
       "      <th>collection_id</th>\n",
       "      <th>plante_sc</th>\n",
       "      <th>Espece</th>\n",
       "      <th>plante_sc_bis</th>\n",
       "      <th>espece_bis</th>\n",
       "    </tr>\n",
       "  </thead>\n",
       "  <tbody>\n",
       "    <tr>\n",
       "      <th>1</th>\n",
       "      <td>2</td>\n",
       "      <td>Acanthus mollis</td>\n",
       "      <td>Acanthus spinosus</td>\n",
       "      <td>mollis</td>\n",
       "      <td>spinosus</td>\n",
       "    </tr>\n",
       "    <tr>\n",
       "      <th>9</th>\n",
       "      <td>17</td>\n",
       "      <td>Senecio jacobaea</td>\n",
       "      <td>Senecio inaequidens</td>\n",
       "      <td>jacobaea</td>\n",
       "      <td>inaequidens</td>\n",
       "    </tr>\n",
       "    <tr>\n",
       "      <th>18</th>\n",
       "      <td>60</td>\n",
       "      <td>Euphorbia lathyris</td>\n",
       "      <td>Euphorbia characias</td>\n",
       "      <td>lathyris</td>\n",
       "      <td>characias</td>\n",
       "    </tr>\n",
       "    <tr>\n",
       "      <th>21</th>\n",
       "      <td>103</td>\n",
       "      <td>Ranunculus ficaria</td>\n",
       "      <td>Ficaria verna</td>\n",
       "      <td>ficaria</td>\n",
       "      <td>verna</td>\n",
       "    </tr>\n",
       "    <tr>\n",
       "      <th>28</th>\n",
       "      <td>206</td>\n",
       "      <td>Bergenia crassifolia</td>\n",
       "      <td>Bergenia cordifolia</td>\n",
       "      <td>crassifolia</td>\n",
       "      <td>cordifolia</td>\n",
       "    </tr>\n",
       "    <tr>\n",
       "      <th>...</th>\n",
       "      <td>...</td>\n",
       "      <td>...</td>\n",
       "      <td>...</td>\n",
       "      <td>...</td>\n",
       "      <td>...</td>\n",
       "    </tr>\n",
       "    <tr>\n",
       "      <th>2615</th>\n",
       "      <td>75 468</td>\n",
       "      <td>Arbutus andrachne</td>\n",
       "      <td>Arbutus unedo</td>\n",
       "      <td>andrachne</td>\n",
       "      <td>unedo</td>\n",
       "    </tr>\n",
       "    <tr>\n",
       "      <th>2616</th>\n",
       "      <td>75 525</td>\n",
       "      <td>Pavonia hastata</td>\n",
       "      <td>Hibiscus trionum</td>\n",
       "      <td>hastata</td>\n",
       "      <td>trionum</td>\n",
       "    </tr>\n",
       "    <tr>\n",
       "      <th>2617</th>\n",
       "      <td>75 554</td>\n",
       "      <td>Medicago falcata</td>\n",
       "      <td>Medicago sativa</td>\n",
       "      <td>falcata</td>\n",
       "      <td>sativa</td>\n",
       "    </tr>\n",
       "    <tr>\n",
       "      <th>2618</th>\n",
       "      <td>75 625</td>\n",
       "      <td>Helianthus divaricatus</td>\n",
       "      <td>Helianthus tuberosus</td>\n",
       "      <td>divaricatus</td>\n",
       "      <td>tuberosus</td>\n",
       "    </tr>\n",
       "    <tr>\n",
       "      <th>2619</th>\n",
       "      <td>75 657</td>\n",
       "      <td>Sideritis hirsuta</td>\n",
       "      <td>Sideritis hyssopifolia</td>\n",
       "      <td>hirsuta</td>\n",
       "      <td>hyssopifolia</td>\n",
       "    </tr>\n",
       "  </tbody>\n",
       "</table>\n",
       "<p>1314 rows × 5 columns</p>\n",
       "</div>"
      ],
      "text/plain": [
       "     collection_id               plante_sc                  Espece  \\\n",
       "1                2         Acanthus mollis       Acanthus spinosus   \n",
       "9               17        Senecio jacobaea     Senecio inaequidens   \n",
       "18              60      Euphorbia lathyris     Euphorbia characias   \n",
       "21             103      Ranunculus ficaria           Ficaria verna   \n",
       "28             206    Bergenia crassifolia     Bergenia cordifolia   \n",
       "...            ...                     ...                     ...   \n",
       "2615        75 468       Arbutus andrachne           Arbutus unedo   \n",
       "2616        75 525         Pavonia hastata        Hibiscus trionum   \n",
       "2617        75 554        Medicago falcata         Medicago sativa   \n",
       "2618        75 625  Helianthus divaricatus    Helianthus tuberosus   \n",
       "2619        75 657       Sideritis hirsuta  Sideritis hyssopifolia   \n",
       "\n",
       "     plante_sc_bis    espece_bis  \n",
       "1           mollis      spinosus  \n",
       "9         jacobaea   inaequidens  \n",
       "18        lathyris     characias  \n",
       "21         ficaria         verna  \n",
       "28     crassifolia    cordifolia  \n",
       "...            ...           ...  \n",
       "2615     andrachne         unedo  \n",
       "2616       hastata       trionum  \n",
       "2617       falcata        sativa  \n",
       "2618   divaricatus     tuberosus  \n",
       "2619       hirsuta  hyssopifolia  \n",
       "\n",
       "[1314 rows x 5 columns]"
      ]
     },
     "execution_count": 24,
     "metadata": {},
     "output_type": "execute_result"
    }
   ],
   "source": [
    "# compare les lignes des colonnes 'plante_sc'(en ne gardant que les strings de maximum trois mots inclus) et 'Espece' de plantes_sc_labelled\n",
    "lignes_differentes_sc = plantes_sc_labelled[plantes_sc_labelled['plante_sc'] != plantes_sc_labelled['Espece']]\n",
    "\n",
    "# ne garde que les colonnes 'collection_id', 'plante_sc' et 'Espece' dans lignes_differentes_sc\n",
    "lignes_differentes_sc = lignes_differentes_sc[['collection_id', 'plante_sc', 'Espece']]\n",
    "\n",
    "# supprime les lignes de lignes_differentes_sc où 'plante_sc' contient plus de deux fois ' ' dans la string\n",
    "lignes_differentes_sc = lignes_differentes_sc[lignes_differentes_sc['plante_sc'].str.count(' ') == 1]\n",
    "\n",
    "# sépare la colonne 'plante_sc' avec le séparateur ' ' et crée une nouvelle colonne 'plante_sc_bis' qui ne contient que le 2e mot\n",
    "lignes_differentes_sc['plante_sc_bis'] = lignes_differentes_sc['plante_sc'].str.split(' ').str[1]\n",
    "# sépare la colonne 'Espece' avec le séparateur ' ' et crée une nouvelle colonne 'espece_bis'\n",
    "lignes_differentes_sc['espece_bis'] = lignes_differentes_sc['Espece'].str.split(' ').str[1]\n",
    "\n",
    "# supprime les lignes de lignes_differentes_sc où plante_sc_bis est égal à espece_bis\n",
    "lignes_differentes_sc = lignes_differentes_sc[lignes_differentes_sc['plante_sc_bis'] != lignes_differentes_sc['espece_bis']]\n",
    "\n",
    "lignes_differentes_sc\n"
   ]
  },
  {
   "cell_type": "code",
   "execution_count": 25,
   "metadata": {},
   "outputs": [
    {
     "data": {
      "text/plain": [
       "0.5015267175572519"
      ]
     },
     "execution_count": 25,
     "metadata": {},
     "output_type": "execute_result"
    }
   ],
   "source": [
    "lignes_differentes_sc.shape[0] / plantes_sc_labelled.shape[0]"
   ]
  },
  {
   "cell_type": "code",
   "execution_count": 26,
   "metadata": {},
   "outputs": [
    {
     "data": {
      "text/html": [
       "<div>\n",
       "<style scoped>\n",
       "    .dataframe tbody tr th:only-of-type {\n",
       "        vertical-align: middle;\n",
       "    }\n",
       "\n",
       "    .dataframe tbody tr th {\n",
       "        vertical-align: top;\n",
       "    }\n",
       "\n",
       "    .dataframe thead th {\n",
       "        text-align: right;\n",
       "    }\n",
       "</style>\n",
       "<table border=\"1\" class=\"dataframe\">\n",
       "  <thead>\n",
       "    <tr style=\"text-align: right;\">\n",
       "      <th></th>\n",
       "      <th>collection_id</th>\n",
       "      <th>plante_precision</th>\n",
       "      <th>Espece</th>\n",
       "      <th>plante_precision_bis</th>\n",
       "      <th>espece_bis</th>\n",
       "    </tr>\n",
       "  </thead>\n",
       "  <tbody>\n",
       "    <tr>\n",
       "      <th>4</th>\n",
       "      <td>66</td>\n",
       "      <td>Alysson maritime</td>\n",
       "      <td>Lobularia maritima</td>\n",
       "      <td>maritime</td>\n",
       "      <td>maritima</td>\n",
       "    </tr>\n",
       "    <tr>\n",
       "      <th>10</th>\n",
       "      <td>87</td>\n",
       "      <td>Chimonanthus praecox</td>\n",
       "      <td>Chimonanthus fragrans</td>\n",
       "      <td>praecox</td>\n",
       "      <td>fragrans</td>\n",
       "    </tr>\n",
       "    <tr>\n",
       "      <th>11</th>\n",
       "      <td>89</td>\n",
       "      <td>jasmin d'hiver</td>\n",
       "      <td>Jasminum nudiflorum</td>\n",
       "      <td>d'hiver</td>\n",
       "      <td>nudiflorum</td>\n",
       "    </tr>\n",
       "    <tr>\n",
       "      <th>15</th>\n",
       "      <td>98</td>\n",
       "      <td>Jasmin d'hiver</td>\n",
       "      <td>Jasminum nudiflorum</td>\n",
       "      <td>d'hiver</td>\n",
       "      <td>nudiflorum</td>\n",
       "    </tr>\n",
       "    <tr>\n",
       "      <th>20</th>\n",
       "      <td>124</td>\n",
       "      <td>Mahonia Charity</td>\n",
       "      <td>Berberis japonica</td>\n",
       "      <td>Charity</td>\n",
       "      <td>japonica</td>\n",
       "    </tr>\n",
       "    <tr>\n",
       "      <th>...</th>\n",
       "      <td>...</td>\n",
       "      <td>...</td>\n",
       "      <td>...</td>\n",
       "      <td>...</td>\n",
       "      <td>...</td>\n",
       "    </tr>\n",
       "    <tr>\n",
       "      <th>4293</th>\n",
       "      <td>75 168</td>\n",
       "      <td>Olearia paniculata</td>\n",
       "      <td>Buxus sempervirens</td>\n",
       "      <td>paniculata</td>\n",
       "      <td>sempervirens</td>\n",
       "    </tr>\n",
       "    <tr>\n",
       "      <th>4294</th>\n",
       "      <td>75 169</td>\n",
       "      <td>Callistemon rugulosus</td>\n",
       "      <td>Callistemon citrinus</td>\n",
       "      <td>rugulosus</td>\n",
       "      <td>citrinus</td>\n",
       "    </tr>\n",
       "    <tr>\n",
       "      <th>4296</th>\n",
       "      <td>75 390</td>\n",
       "      <td>Orpin reprise</td>\n",
       "      <td>Hylotelephium telephium</td>\n",
       "      <td>reprise</td>\n",
       "      <td>telephium</td>\n",
       "    </tr>\n",
       "    <tr>\n",
       "      <th>4307</th>\n",
       "      <td>75 791</td>\n",
       "      <td>Rosa polyantha</td>\n",
       "      <td>Rosa x odorata</td>\n",
       "      <td>polyantha</td>\n",
       "      <td>x</td>\n",
       "    </tr>\n",
       "    <tr>\n",
       "      <th>4311</th>\n",
       "      <td>75 920</td>\n",
       "      <td>Lippia polystacha</td>\n",
       "      <td>Buddleja alternifolia</td>\n",
       "      <td>polystacha</td>\n",
       "      <td>alternifolia</td>\n",
       "    </tr>\n",
       "  </tbody>\n",
       "</table>\n",
       "<p>1153 rows × 5 columns</p>\n",
       "</div>"
      ],
      "text/plain": [
       "     collection_id       plante_precision                   Espece  \\\n",
       "4               66       Alysson maritime       Lobularia maritima   \n",
       "10              87   Chimonanthus praecox    Chimonanthus fragrans   \n",
       "11              89         jasmin d'hiver      Jasminum nudiflorum   \n",
       "15              98         Jasmin d'hiver      Jasminum nudiflorum   \n",
       "20             124        Mahonia Charity        Berberis japonica   \n",
       "...            ...                    ...                      ...   \n",
       "4293        75 168     Olearia paniculata       Buxus sempervirens   \n",
       "4294        75 169  Callistemon rugulosus     Callistemon citrinus   \n",
       "4296        75 390          Orpin reprise  Hylotelephium telephium   \n",
       "4307        75 791         Rosa polyantha           Rosa x odorata   \n",
       "4311        75 920      Lippia polystacha    Buddleja alternifolia   \n",
       "\n",
       "     plante_precision_bis    espece_bis  \n",
       "4                maritime      maritima  \n",
       "10                praecox      fragrans  \n",
       "11                d'hiver    nudiflorum  \n",
       "15                d'hiver    nudiflorum  \n",
       "20                Charity      japonica  \n",
       "...                   ...           ...  \n",
       "4293           paniculata  sempervirens  \n",
       "4294            rugulosus      citrinus  \n",
       "4296              reprise     telephium  \n",
       "4307            polyantha             x  \n",
       "4311           polystacha  alternifolia  \n",
       "\n",
       "[1153 rows x 5 columns]"
      ]
     },
     "execution_count": 26,
     "metadata": {},
     "output_type": "execute_result"
    }
   ],
   "source": [
    "# compare les lignes des colonnes 'plante_precision'(en ne gardant que les strings de maximum trois mots inclus) et 'Espece' de plantes_precision_labelled\n",
    "lignes_differentes_precision = plantes_precision_labelled[plantes_precision_labelled['plante_precision'] != plantes_precision_labelled['Espece']]\n",
    "\n",
    "# ne garde que les colonnes 'collection_id', 'plante_precision' et 'Espece' dans lignes_differentes_precision\n",
    "lignes_differentes_precision = lignes_differentes_precision[['collection_id', 'plante_precision', 'Espece']]\n",
    "\n",
    "# supprime les lignes de lignes_differentes_precision où 'plante_precision' contient plus de deux fois ' ' dans la string\n",
    "lignes_differentes_precision = lignes_differentes_precision[lignes_differentes_precision['plante_precision'].str.count(' ') == 1]\n",
    "\n",
    "# sépare la colonne 'plante_precision' avec le séparateur ' ' et crée une nouvelle colonne 'plante_precision_bis' qui ne contient que le 2e mot\n",
    "lignes_differentes_precision['plante_precision_bis'] = lignes_differentes_precision['plante_precision'].str.split(' ').str[1]\n",
    "# sépare la colonne 'Espece' avec le séparateur ' ' et crée une nouvelle colonne 'espece_bis'\n",
    "lignes_differentes_precision['espece_bis'] = lignes_differentes_precision['Espece'].str.split(' ').str[1]\n",
    "\n",
    "# supprime les lignes de lignes_differentes_precision où plante_precision_bis est égal à espece_bis\n",
    "lignes_differentes_precision = lignes_differentes_precision[lignes_differentes_precision['plante_precision_bis'] != lignes_differentes_precision['espece_bis']]\n",
    "\n",
    "lignes_differentes_precision"
   ]
  },
  {
   "cell_type": "code",
   "execution_count": 27,
   "metadata": {},
   "outputs": [
    {
     "data": {
      "text/plain": [
       "0.2672693555864627"
      ]
     },
     "execution_count": 27,
     "metadata": {},
     "output_type": "execute_result"
    }
   ],
   "source": [
    "lignes_differentes_precision.shape[0] / plantes_precision_labelled.shape[0]"
   ]
  },
  {
   "cell_type": "markdown",
   "metadata": {},
   "source": [
    "## Décompression des données"
   ]
  },
  {
   "cell_type": "markdown",
   "metadata": {},
   "source": [
    "On a à l'origine un dataset spipoll (670 744 lignes), groupé par collection_id (75 372 lignes) scindé en la partition plantes_sc_labelled et plantes_sc_unlabelled (respectivement 63 465 et 11 907 lignes). plantes_sc_unlabelled est scindé en la partition plantes_precision_labelled et plantes_precision_unlabelled (respectivement 9619 et 2288 lignes).\n"
   ]
  },
  {
   "cell_type": "markdown",
   "metadata": {},
   "source": [
    "On avait compressé plantes_sc_labelled et plantes_precision_labelled en les groupant par valeur de plantes_sc et plantes_precision identiques (respectivement passé de 63 465 lignes à 2620 ; et passé de 9619 lignes à 4319). On va ici faire l'opération inverse pour compléter les lignes d'origine avec les valeurs obtenues par le traitement API."
   ]
  },
  {
   "cell_type": "code",
   "execution_count": null,
   "metadata": {},
   "outputs": [],
   "source": [
    "# on definit les deux dataframes à reconstruire\n",
    "plantes_sc_labelled_long = plantes_sc_labelled # issus des dataframes vierges du début du notebook avant compression ...\n",
    "plantes_precision_labelled_long = plantes_precision_labelled # ... pas des dataframes complétés par l'API !!\n",
    "\n",
    "print(plantes_sc_labelled_long.shape[0], plantes_precision_labelled_long.shape[0])"
   ]
  },
  {
   "cell_type": "code",
   "execution_count": null,
   "metadata": {},
   "outputs": [],
   "source": [
    "# ajout des colonnes \"Famille\", \"Genre\" et \"Espece\" dans les dataframes longs\n",
    "plantes_sc_labelled_long.insert(2, \"Famille\", \"\")\n",
    "plantes_sc_labelled_long.insert(3, \"Genre\", \"\")\n",
    "plantes_sc_labelled_long.insert(4, \"Espece\", \"\")\n",
    "\n",
    "plantes_precision_labelled_long.insert(2, \"Famille\", \"\")\n",
    "plantes_precision_labelled_long.insert(3, \"Genre\", \"\")\n",
    "plantes_precision_labelled_long.insert(4, \"Espece\", \"\")"
   ]
  },
  {
   "cell_type": "code",
   "execution_count": null,
   "metadata": {},
   "outputs": [],
   "source": [
    "# on trie les dataframes longs par plantes_sc et plantes_precision\n",
    "plantes_sc_labelled_long = plantes_sc_labelled_long.sort_values(by=\"plante_sc\")\n",
    "plantes_precision_labelled_long = plantes_precision_labelled_long.sort_values(by=\"plante_precision\")"
   ]
  },
  {
   "cell_type": "code",
   "execution_count": null,
   "metadata": {},
   "outputs": [],
   "source": [
    "plantes_sc_labelled_long.head()"
   ]
  },
  {
   "cell_type": "code",
   "execution_count": null,
   "metadata": {},
   "outputs": [],
   "source": [
    "print(plantes_sc_labelled_long.shape[0], plantes_precision_labelled_long.shape[0])"
   ]
  },
  {
   "cell_type": "code",
   "execution_count": null,
   "metadata": {},
   "outputs": [],
   "source": [
    "# on importe les petits dataframes qui ont été complétés avec l'API précédemment\n",
    "plantes_sc_labelled = pd.read_csv(f\"data/plantes/plantes_sc_labelled.csv\")\n",
    "plantes_precision_labelled = pd.read_csv(f\"data/plantes/plantes_precision_labelled.csv\")\n",
    "\n",
    "print(plantes_sc_labelled.shape[0], plantes_precision_labelled.shape[0])"
   ]
  },
  {
   "cell_type": "markdown",
   "metadata": {},
   "source": [
    "### Petit POC pour construire la fonction d'intérêt"
   ]
  },
  {
   "cell_type": "code",
   "execution_count": null,
   "metadata": {},
   "outputs": [],
   "source": [
    "# prend les 50 premières lignes du dataframe plantes_sc_labelled_long et mets les dans un df POC\n",
    "plantes_sc_labelled_long_POC = plantes_sc_labelled_long.head(50)\n",
    "plantes_sc_labelled_long_POC.shape"
   ]
  },
  {
   "cell_type": "code",
   "execution_count": null,
   "metadata": {},
   "outputs": [],
   "source": [
    "# Get the values of \"Famille\", \"Genre\", and \"Espece\" from the row in `plantes_sc_labelled` where the index is 856\n",
    "famille, genre, espece = plantes_sc_labelled.loc[856, [\"Famille\", \"Genre\", \"Espece\"]]\n",
    "\n",
    "# Identify the rows in `plantes_sc_labelled_long_POC` where \"plante_sc\" equals `plantes_sc_labelled[\"plante_sc\"].iloc[856]`\n",
    "mask = plantes_sc_labelled_long_POC[\"plante_sc\"] == plantes_sc_labelled[\"plante_sc\"].iloc[856]\n",
    "\n",
    "# Replace the values of \"Famille\", \"Genre\", and \"Espece\" in these rows with the values from `plantes_sc_labelled`\n",
    "plantes_sc_labelled_long_POC.loc[mask, \"Famille\"] = famille\n",
    "plantes_sc_labelled_long_POC.loc[mask, \"Genre\"] = genre\n",
    "plantes_sc_labelled_long_POC.loc[mask, \"Espece\"] = espece"
   ]
  },
  {
   "cell_type": "code",
   "execution_count": null,
   "metadata": {},
   "outputs": [],
   "source": [
    "plantes_sc_labelled_long_POC.head(15)"
   ]
  },
  {
   "cell_type": "markdown",
   "metadata": {},
   "source": [
    "### Construction de la fonction de décompression"
   ]
  },
  {
   "cell_type": "code",
   "execution_count": null,
   "metadata": {},
   "outputs": [],
   "source": [
    "def remplacer_valeurs(df_court, df_long, colonne_interet):\n",
    "    # Boucle sur chaque ligne dans `df_court`\n",
    "    for i in tqdm(range(len(df_court))):\n",
    "        # Obtient les valeurs de \"Famille\", \"Genre\", et \"Espece\" de la ligne dans `df_court` où l'index est i\n",
    "        famille, genre, espece = df_court.loc[i, [\"Famille\", \"Genre\", \"Espece\"]]\n",
    "\n",
    "        # Identifie les lignes dans `df_long` où \"plante_sc\" est égal à `df_court[\"plante_sc\"].iloc[i]`\n",
    "        masque = df_long[f\"{colonne_interet}\"] == df_court[f\"{colonne_interet}\"].iloc[i]\n",
    "\n",
    "        # Remplace les valeurs de \"Famille\", \"Genre\", et \"Espece\" dans ces lignes avec les valeurs de `df_court`\n",
    "        df_long.loc[masque, \"Famille\"] = famille\n",
    "        df_long.loc[masque, \"Genre\"] = genre\n",
    "        df_long.loc[masque, \"Espece\"] = espece"
   ]
  },
  {
   "cell_type": "code",
   "execution_count": null,
   "metadata": {},
   "outputs": [],
   "source": [
    "# Appelle la fonction avec `plantes_sc_labelled` comme `df_court` et `plantes_sc_labelled_long_POC` comme `df_long`\n",
    "remplacer_valeurs(plantes_sc_labelled, plantes_sc_labelled_long_POC, \"plante_sc\")"
   ]
  },
  {
   "cell_type": "code",
   "execution_count": null,
   "metadata": {},
   "outputs": [],
   "source": [
    "remplacer_valeurs(plantes_sc_labelled, plantes_sc_labelled_long, \"plante_sc\")"
   ]
  },
  {
   "cell_type": "code",
   "execution_count": null,
   "metadata": {},
   "outputs": [],
   "source": [
    "remplacer_valeurs(plantes_precision_labelled, plantes_precision_labelled_long, \"plante_precision\")"
   ]
  },
  {
   "cell_type": "code",
   "execution_count": null,
   "metadata": {},
   "outputs": [],
   "source": [
    "# trie plantes_sc_labelled_long et plantes_precision_labelled_long par index croissant\n",
    "plantes_sc_labelled_long = plantes_sc_labelled_long.sort_index()\n",
    "plantes_precision_labelled_long = plantes_precision_labelled_long.sort_index()"
   ]
  },
  {
   "cell_type": "code",
   "execution_count": null,
   "metadata": {},
   "outputs": [],
   "source": [
    "plantes_sc_labelled_long.shape"
   ]
  },
  {
   "cell_type": "code",
   "execution_count": null,
   "metadata": {},
   "outputs": [],
   "source": [
    "plantes_precision_labelled_long.shape"
   ]
  },
  {
   "cell_type": "code",
   "execution_count": null,
   "metadata": {},
   "outputs": [],
   "source": [
    "plantes_precision_unlabelled = pd.read_csv(f\"data/plantes/plantes_precision_unlabelled.csv\")\n",
    "plantes_precision_unlabelled.shape"
   ]
  },
  {
   "cell_type": "code",
   "execution_count": null,
   "metadata": {},
   "outputs": [],
   "source": [
    "# merge les dataframes plantes_sc_labelled_long, plantes_precision_labelled_long et plantes_precision_unlabelled\n",
    "plantes_merged = pd.concat([plantes_sc_labelled_long, plantes_precision_labelled_long, plantes_precision_unlabelled])\n",
    "\n",
    "# trie le dataframe plantes_merged par collection_id croissants\n",
    "plantes_merged = plantes_merged.sort_values(by=\"collection_id\")\n",
    "\n",
    "# sauvegarde le dataframe plantes_merged dans le dossier temporary_data/plantes\n",
    "plantes_merged.to_csv(\"data/temporary_data/plantes/plantes_merged.csv\", index=False)\n",
    "\n",
    "plantes_merged.shape"
   ]
  },
  {
   "cell_type": "code",
   "execution_count": null,
   "metadata": {},
   "outputs": [],
   "source": [
    "plantes_merged.head(100)"
   ]
  },
  {
   "cell_type": "markdown",
   "metadata": {},
   "source": [
    "## On va maintenant décompresser par collection_id"
   ]
  },
  {
   "cell_type": "code",
   "execution_count": null,
   "metadata": {},
   "outputs": [],
   "source": [
    "# Import spipoll.csv as a pandas dataframe\n",
    "spipoll = pd.read_csv(\"././data/spipoll.csv\",low_memory=False)\n",
    "\n",
    "# Extract relevant columns from the spipoll dataframe\n",
    "plantes = spipoll[['collection_id', 'plante_sc', 'plante_fr',\n",
    "       'plante_precision', 'plante_inconnue', 'plante_caractere',\n",
    "       'photo_fleur', 'photo_plante', 'photo_feuille']]\n",
    "\n",
    "# ajout des colonnes \"Famille\", \"Genre\" et \"Espece\" dans le dataframe plantes\n",
    "plantes.insert(2, \"Famille\", \"\")\n",
    "plantes.insert(3, \"Genre\", \"\")\n",
    "plantes.insert(4, \"Espece\", \"\")"
   ]
  },
  {
   "cell_type": "code",
   "execution_count": null,
   "metadata": {},
   "outputs": [],
   "source": [
    "plantes.shape"
   ]
  },
  {
   "cell_type": "code",
   "execution_count": null,
   "metadata": {},
   "outputs": [],
   "source": [
    "# import de plantes_merged depuis le fichier csv\n",
    "plantes_merged = pd.read_csv(\"data/temporary_data/plantes/plantes_merged.csv\")\n",
    "plantes_merged.shape"
   ]
  },
  {
   "cell_type": "code",
   "execution_count": null,
   "metadata": {},
   "outputs": [],
   "source": [
    "remplacer_valeurs(plantes_merged, plantes, \"collection_id\")"
   ]
  },
  {
   "cell_type": "code",
   "execution_count": null,
   "metadata": {},
   "outputs": [],
   "source": [
    "plantes.head()"
   ]
  },
  {
   "cell_type": "code",
   "execution_count": null,
   "metadata": {},
   "outputs": [],
   "source": [
    "# save plantes in a csv file in data/plantes\n",
    "plantes.to_csv(\"data/plantes/plantes.csv\", index=False)"
   ]
  },
  {
   "cell_type": "code",
   "execution_count": null,
   "metadata": {},
   "outputs": [],
   "source": []
  }
 ],
 "metadata": {
  "kernelspec": {
   "display_name": "Python 3",
   "language": "python",
   "name": "python3"
  },
  "language_info": {
   "codemirror_mode": {
    "name": "ipython",
    "version": 3
   },
   "file_extension": ".py",
   "mimetype": "text/x-python",
   "name": "python",
   "nbconvert_exporter": "python",
   "pygments_lexer": "ipython3",
   "version": "3.12.0"
  }
 },
 "nbformat": 4,
 "nbformat_minor": 2
}
