{
 "cells": [
  {
   "cell_type": "code",
   "execution_count": 125,
   "metadata": {},
   "outputs": [
    {
     "name": "stdout",
     "output_type": "stream",
     "text": [
      "Former working directory:  /Users/ambroisebertin/Desktop/prog/prog_abeilles/fil-rouge-pollinisateurs\n",
      "Current working directory:  /Users/ambroisebertin/Desktop/prog/prog_abeilles/fil-rouge-pollinisateurs\n",
      "The autoreload extension is already loaded. To reload it, use:\n",
      "  %reload_ext autoreload\n"
     ]
    }
   ],
   "source": [
    "from utils import setup_env_path\n",
    "\n",
    "setup_env_path()\n",
    "\n",
    "%load_ext autoreload\n",
    "%autoreload 2"
   ]
  },
  {
   "cell_type": "code",
   "execution_count": 126,
   "metadata": {},
   "outputs": [],
   "source": [
    "import pandas as pd\n",
    "import numpy as np\n",
    "from tqdm import tqdm\n",
    "import missingno as msno"
   ]
  },
  {
   "cell_type": "code",
   "execution_count": 127,
   "metadata": {},
   "outputs": [
    {
     "name": "stderr",
     "output_type": "stream",
     "text": [
      "/var/folders/cj/gd9mq5b53w51g6wvzmjj8ymr0000gn/T/ipykernel_98780/912166828.py:1: DtypeWarning: Columns (27) have mixed types. Specify dtype option on import or set low_memory=False.\n",
      "  corineland = pd.read_csv('data/corineland/collection_genre_nouvelle_version.csv', encoding='latin1', sep=';')\n",
      "/var/folders/cj/gd9mq5b53w51g6wvzmjj8ymr0000gn/T/ipykernel_98780/912166828.py:2: DtypeWarning: Columns (15) have mixed types. Specify dtype option on import or set low_memory=False.\n",
      "  spipoll = pd.read_csv('data/spipoll.csv')\n"
     ]
    },
    {
     "data": {
      "text/plain": [
       "((47401, 188), (670744, 41))"
      ]
     },
     "execution_count": 127,
     "metadata": {},
     "output_type": "execute_result"
    }
   ],
   "source": [
    "corineland = pd.read_csv('data/corineland/collection_genre_nouvelle_version.csv', encoding='latin1', sep=';')\n",
    "spipoll = pd.read_csv('data/spipoll.csv')\n",
    "\n",
    "corineland = corineland.rename(columns={'nom_collection':'collection_nom','lat':'latitude','long':'longitude','heureDebut':'collection_heure_debut'})\n",
    "\n",
    "corineland.shape, spipoll.shape"
   ]
  },
  {
   "cell_type": "code",
   "execution_count": 128,
   "metadata": {},
   "outputs": [
    {
     "data": {
      "text/plain": [
       "['collection_nom',\n",
       " 'nb_validation',\n",
       " 'collection_heure_debut',\n",
       " 'latitude',\n",
       " 'vent',\n",
       " 'longitude',\n",
       " 'habitat']"
      ]
     },
     "execution_count": 128,
     "metadata": {},
     "output_type": "execute_result"
    }
   ],
   "source": [
    "# affiche les colonnes communes entre les deux jeux de données\n",
    "list(set(corineland.columns) & set(spipoll.columns))"
   ]
  },
  {
   "cell_type": "code",
   "execution_count": 129,
   "metadata": {},
   "outputs": [
    {
     "data": {
      "text/plain": [
       "latitude     True\n",
       "longitude    True\n",
       "Name: 0, dtype: bool"
      ]
     },
     "execution_count": 129,
     "metadata": {},
     "output_type": "execute_result"
    }
   ],
   "source": [
    "# teste l'homogénéité des colonnes longitudes et latitudes des deux jeux de données\n",
    "corineland[['latitude','longitude']].iloc[0] == spipoll[['latitude','longitude']].iloc[0]"
   ]
  },
  {
   "cell_type": "code",
   "execution_count": 155,
   "metadata": {},
   "outputs": [],
   "source": [
    "# convertit les dates 12/06/2019 00:00 en 2019-06-12 00:00 sans passer au format Timestamp\n",
    "corineland['collection_heure_debut'] = pd.to_datetime(corineland['collection_heure_debut'], format='%d/%m/%Y %H:%M')\n",
    "\n",
    "corineland['collection_heure_debut'] = pd.to_datetime(corineland['collection_heure_debut'], format='ISO8601')"
   ]
  },
  {
   "cell_type": "code",
   "execution_count": 156,
   "metadata": {},
   "outputs": [],
   "source": [
    "spipoll['collection_heure_debut'] = pd.to_datetime(spipoll['collection_heure_debut'], format='ISO8601')"
   ]
  },
  {
   "cell_type": "code",
   "execution_count": 157,
   "metadata": {},
   "outputs": [
    {
     "data": {
      "text/plain": [
       "True"
      ]
     },
     "execution_count": 157,
     "metadata": {},
     "output_type": "execute_result"
    }
   ],
   "source": [
    "# teste l'homogénéité de la colonne collection_heure_debut des deux jeux de données\n",
    "corineland['collection_heure_debut'].iloc[0] == spipoll['collection_heure_debut'].iloc[0]"
   ]
  },
  {
   "cell_type": "code",
   "execution_count": 159,
   "metadata": {},
   "outputs": [
    {
     "data": {
      "text/plain": [
       "((47401, 189), (670744, 42))"
      ]
     },
     "execution_count": 159,
     "metadata": {},
     "output_type": "execute_result"
    }
   ],
   "source": [
    "# ajoute une colonne \"clef_primaire\" au début de chaque jeu de données et qui contient la concaténation des colonnes \"collection_nom\", \"latitude\" et \"longitude\"\n",
    "corineland.insert(0, 'clef_primaire', corineland['collection_heure_debut'].astype(str) + corineland['latitude'].astype(str) + corineland['longitude'].astype(str))\n",
    "spipoll.insert(0, 'clef_primaire', spipoll['collection_heure_debut'].astype(str) + spipoll['latitude'].astype(str) + spipoll['longitude'].astype(str))\n",
    "\n",
    "corineland.shape, spipoll.shape"
   ]
  },
  {
   "cell_type": "code",
   "execution_count": 160,
   "metadata": {},
   "outputs": [
    {
     "data": {
      "text/plain": [
       "(47401, 75033)"
      ]
     },
     "execution_count": 160,
     "metadata": {},
     "output_type": "execute_result"
    }
   ],
   "source": [
    "corineland[\"clef_primaire\"].nunique(), spipoll[\"clef_primaire\"].nunique()"
   ]
  },
  {
   "cell_type": "code",
   "execution_count": 161,
   "metadata": {},
   "outputs": [
    {
     "data": {
      "text/plain": [
       "25385"
      ]
     },
     "execution_count": 161,
     "metadata": {},
     "output_type": "execute_result"
    }
   ],
   "source": [
    "# compte les clefs primaires qui sont communes aux deux jeux de données\n",
    "corineland[\"clef_primaire\"].isin(spipoll[\"clef_primaire\"]).sum()"
   ]
  },
  {
   "cell_type": "code",
   "execution_count": 162,
   "metadata": {},
   "outputs": [
    {
     "data": {
      "text/plain": [
       "158"
      ]
     },
     "execution_count": 162,
     "metadata": {},
     "output_type": "execute_result"
    }
   ],
   "source": [
    "colonnes_interet = ['colonne111_250',\n",
    "       'colonne112_250', 'colonne121_250', 'colonne122_250',\n",
    "       'colonne123_250', 'colonne124_250', 'colonne131_250',\n",
    "       'colonne132_250', 'colonne133_250', 'colonne141_250',\n",
    "       'colonne142_250', 'colonne211_250', 'colonne212_250',\n",
    "       'colonne213_250', 'colonne221_250', 'colonne222_250',\n",
    "       'colonne223_250', 'colonne231_250', 'colonne241_250',\n",
    "       'colonne242_250', 'colonne243_250', 'colonne244_250',\n",
    "       'colonne311_250', 'colonne312_250', 'colonne313_250',\n",
    "       'colonne321_250', 'colonne322_250', 'colonne323_250',\n",
    "       'colonne324_250', 'colonne331_250', 'colonne332_250',\n",
    "       'colonne333_250', 'colonne334_250', 'colonne335_250',\n",
    "       'colonne411_250', 'colonne412_250', 'colonne421_250',\n",
    "       'colonne422_250', 'colonne423_250', 'colonne511_250',\n",
    "       'colonne512_250', 'colonne521_250', 'colonne522_250',\n",
    "       'colonne523_250', 'colonne111_1000', 'colonne112_1000',\n",
    "       'colonne121_1000', 'colonne122_1000', 'colonne123_1000',\n",
    "       'colonne124_1000', 'colonne131_1000', 'colonne132_1000',\n",
    "       'colonne133_1000', 'colonne141_1000', 'colonne142_1000',\n",
    "       'colonne211_1000', 'colonne212_1000', 'colonne213_1000',\n",
    "       'colonne221_1000', 'colonne222_1000', 'colonne223_1000',\n",
    "       'colonne231_1000', 'colonne241_1000', 'colonne242_1000',\n",
    "       'colonne243_1000', 'colonne244_1000', 'colonne311_1000',\n",
    "       'colonne312_1000', 'colonne313_1000', 'colonne321_1000',\n",
    "       'colonne322_1000', 'colonne323_1000', 'colonne324_1000',\n",
    "       'colonne331_1000', 'colonne332_1000', 'colonne333_1000',\n",
    "       'colonne334_1000', 'colonne335_1000', 'colonne411_1000',\n",
    "       'colonne412_1000', 'colonne421_1000', 'colonne422_1000',\n",
    "       'colonne423_1000', 'colonne511_1000', 'colonne512_1000',\n",
    "       'colonne521_1000', 'colonne522_1000', 'colonne523_1000',\n",
    "       'Moyenne_bio1', 'Moyenne_bio2', 'Moyenne_bio3', 'Moyenne_bio4',\n",
    "       'Moyenne_bio5', 'Moyenne_bio6', 'Moyenne_bio7', 'Moyenne_bio8',\n",
    "       'Moyenne_bio9', 'Moyenne_bio10', 'Moyenne_bio11', 'Moyenne_bio12',\n",
    "       'Moyenne_bio13', 'Moyenne_bio14', 'Moyenne_bio15', 'Moyenne_bio16',\n",
    "       'Moyenne_bio17', 'Moyenne_bio18', 'Moyenne_bio19', 'classif',\n",
    "       'espece', 'genre', 'jour_julien', 'jour', 'mois', 'annee',\n",
    "       'quinzaine', 'temp_moy', 'prep', 'wind', 'ombre', 'col21_250',\n",
    "       'col21_1000', 'col22_250', 'col22_1000', 'col23_250', 'col23_1000',\n",
    "       'col24_250', 'col24_1000', 'col31_250', 'col31_1000', 'col32_250',\n",
    "       'col32_1000', 'col33_250', 'col33_1000', 'col4et5_250',\n",
    "       'col4et5_1000', 'impermeabilisÃ©_250', 'impermeabilisÃ©_1000',\n",
    "       'semi_impermeabilisÃ©_250', 'semi_impermeabilisÃ©_1000',\n",
    "       'position.3', 'digits', 'temp_mois_prev', 'temp_avril_prev',\n",
    "       'temp_avril_current', 'moyenne_avril', 'moyenne_hiver',\n",
    "       'temp_hiver', 'moyenne_mois', 'prep_mois_prev', 'prep_avril_prev',\n",
    "       'prep_avril_current', 'moyenne_prep_hiver', 'moyenne_prep_avril',\n",
    "       'moyenne_prep_mois', 'prep_hiver', 'temp_avril_current_test',\n",
    "       'prep_moyenne', 'temp_moyenne']\n",
    "\n",
    "len(colonnes_interet)"
   ]
  },
  {
   "cell_type": "code",
   "execution_count": 163,
   "metadata": {},
   "outputs": [
    {
     "data": {
      "text/plain": [
       "((47401, 159), (670744, 42))"
      ]
     },
     "execution_count": 163,
     "metadata": {},
     "output_type": "execute_result"
    }
   ],
   "source": [
    "# ne conserve que les colonnes d'intérêt dans le jeu de données corineland\n",
    "corineland = corineland[['clef_primaire'] + colonnes_interet]\n",
    "corineland.shape, spipoll.shape"
   ]
  },
  {
   "cell_type": "code",
   "execution_count": 164,
   "metadata": {},
   "outputs": [],
   "source": [
    "# merge des deux dataframe\n",
    "merged_df = spipoll.merge(corineland, how='left', on='clef_primaire')"
   ]
  },
  {
   "cell_type": "code",
   "execution_count": 165,
   "metadata": {},
   "outputs": [
    {
     "data": {
      "text/plain": [
       "(670744, 200)"
      ]
     },
     "execution_count": 165,
     "metadata": {},
     "output_type": "execute_result"
    }
   ],
   "source": [
    "merged_df.shape"
   ]
  },
  {
   "cell_type": "code",
   "execution_count": 166,
   "metadata": {},
   "outputs": [
    {
     "data": {
      "text/html": [
       "<div>\n",
       "<style scoped>\n",
       "    .dataframe tbody tr th:only-of-type {\n",
       "        vertical-align: middle;\n",
       "    }\n",
       "\n",
       "    .dataframe tbody tr th {\n",
       "        vertical-align: top;\n",
       "    }\n",
       "\n",
       "    .dataframe thead th {\n",
       "        text-align: right;\n",
       "    }\n",
       "</style>\n",
       "<table border=\"1\" class=\"dataframe\">\n",
       "  <thead>\n",
       "    <tr style=\"text-align: right;\">\n",
       "      <th></th>\n",
       "      <th>clef_primaire</th>\n",
       "      <th>collection_id</th>\n",
       "      <th>collection_nom</th>\n",
       "      <th>protocole_long</th>\n",
       "      <th>user_id</th>\n",
       "      <th>plante_famille</th>\n",
       "      <th>plante_genre</th>\n",
       "      <th>plante_espece</th>\n",
       "      <th>plante_sc</th>\n",
       "      <th>plante_fr</th>\n",
       "      <th>...</th>\n",
       "      <th>prep_mois_prev</th>\n",
       "      <th>prep_avril_prev</th>\n",
       "      <th>prep_avril_current</th>\n",
       "      <th>moyenne_prep_hiver</th>\n",
       "      <th>moyenne_prep_avril</th>\n",
       "      <th>moyenne_prep_mois</th>\n",
       "      <th>prep_hiver</th>\n",
       "      <th>temp_avril_current_test</th>\n",
       "      <th>prep_moyenne</th>\n",
       "      <th>temp_moyenne</th>\n",
       "    </tr>\n",
       "  </thead>\n",
       "  <tbody>\n",
       "    <tr>\n",
       "      <th>0</th>\n",
       "      <td>2019-06-12 12:20:0045.3638083333336.5149472222222</td>\n",
       "      <td>1</td>\n",
       "      <td>sentier ZH</td>\n",
       "      <td>NaN</td>\n",
       "      <td>12 657</td>\n",
       "      <td>Fabaceae</td>\n",
       "      <td>Trifolium</td>\n",
       "      <td>Trifolium pratense</td>\n",
       "      <td>Les Trèfles à fleurs blanches ou roses en boul...</td>\n",
       "      <td>NaN</td>\n",
       "      <td>...</td>\n",
       "      <td>1.020455</td>\n",
       "      <td>-0.562879</td>\n",
       "      <td>-0.306212</td>\n",
       "      <td>2.872094</td>\n",
       "      <td>2.431515</td>\n",
       "      <td>3.239697</td>\n",
       "      <td>0.322265</td>\n",
       "      <td>0.270667</td>\n",
       "      <td>2.922175</td>\n",
       "      <td>3.23472</td>\n",
       "    </tr>\n",
       "    <tr>\n",
       "      <th>1</th>\n",
       "      <td>2019-06-12 12:20:0045.3638083333336.5149472222222</td>\n",
       "      <td>1</td>\n",
       "      <td>sentier ZH</td>\n",
       "      <td>NaN</td>\n",
       "      <td>12 657</td>\n",
       "      <td>Fabaceae</td>\n",
       "      <td>Trifolium</td>\n",
       "      <td>Trifolium pratense</td>\n",
       "      <td>Les Trèfles à fleurs blanches ou roses en boul...</td>\n",
       "      <td>NaN</td>\n",
       "      <td>...</td>\n",
       "      <td>1.020455</td>\n",
       "      <td>-0.562879</td>\n",
       "      <td>-0.306212</td>\n",
       "      <td>2.872094</td>\n",
       "      <td>2.431515</td>\n",
       "      <td>3.239697</td>\n",
       "      <td>0.322265</td>\n",
       "      <td>0.270667</td>\n",
       "      <td>2.922175</td>\n",
       "      <td>3.23472</td>\n",
       "    </tr>\n",
       "    <tr>\n",
       "      <th>2</th>\n",
       "      <td>2019-06-20 10:50:0048.84497508441272.358312914...</td>\n",
       "      <td>2</td>\n",
       "      <td>Ma belle collection au jardin des plantes !</td>\n",
       "      <td>NaN</td>\n",
       "      <td>10 918</td>\n",
       "      <td>Acanthaceae</td>\n",
       "      <td>Acanthus</td>\n",
       "      <td>Acanthus spinosus</td>\n",
       "      <td>Acanthus mollis</td>\n",
       "      <td>Acanthe molle</td>\n",
       "      <td>...</td>\n",
       "      <td>NaN</td>\n",
       "      <td>NaN</td>\n",
       "      <td>NaN</td>\n",
       "      <td>NaN</td>\n",
       "      <td>NaN</td>\n",
       "      <td>NaN</td>\n",
       "      <td>NaN</td>\n",
       "      <td>NaN</td>\n",
       "      <td>NaN</td>\n",
       "      <td>NaN</td>\n",
       "    </tr>\n",
       "    <tr>\n",
       "      <th>3</th>\n",
       "      <td>2019-06-20 10:50:0048.84497508441272.358312914...</td>\n",
       "      <td>2</td>\n",
       "      <td>Ma belle collection au jardin des plantes !</td>\n",
       "      <td>NaN</td>\n",
       "      <td>10 918</td>\n",
       "      <td>Acanthaceae</td>\n",
       "      <td>Acanthus</td>\n",
       "      <td>Acanthus spinosus</td>\n",
       "      <td>Acanthus mollis</td>\n",
       "      <td>Acanthe molle</td>\n",
       "      <td>...</td>\n",
       "      <td>NaN</td>\n",
       "      <td>NaN</td>\n",
       "      <td>NaN</td>\n",
       "      <td>NaN</td>\n",
       "      <td>NaN</td>\n",
       "      <td>NaN</td>\n",
       "      <td>NaN</td>\n",
       "      <td>NaN</td>\n",
       "      <td>NaN</td>\n",
       "      <td>NaN</td>\n",
       "    </tr>\n",
       "    <tr>\n",
       "      <th>4</th>\n",
       "      <td>2019-06-20 10:50:0048.84497508441272.358312914...</td>\n",
       "      <td>2</td>\n",
       "      <td>Ma belle collection au jardin des plantes !</td>\n",
       "      <td>NaN</td>\n",
       "      <td>10 918</td>\n",
       "      <td>Acanthaceae</td>\n",
       "      <td>Acanthus</td>\n",
       "      <td>Acanthus spinosus</td>\n",
       "      <td>Acanthus mollis</td>\n",
       "      <td>Acanthe molle</td>\n",
       "      <td>...</td>\n",
       "      <td>NaN</td>\n",
       "      <td>NaN</td>\n",
       "      <td>NaN</td>\n",
       "      <td>NaN</td>\n",
       "      <td>NaN</td>\n",
       "      <td>NaN</td>\n",
       "      <td>NaN</td>\n",
       "      <td>NaN</td>\n",
       "      <td>NaN</td>\n",
       "      <td>NaN</td>\n",
       "    </tr>\n",
       "  </tbody>\n",
       "</table>\n",
       "<p>5 rows × 200 columns</p>\n",
       "</div>"
      ],
      "text/plain": [
       "                                       clef_primaire collection_id  \\\n",
       "0  2019-06-12 12:20:0045.3638083333336.5149472222222             1   \n",
       "1  2019-06-12 12:20:0045.3638083333336.5149472222222             1   \n",
       "2  2019-06-20 10:50:0048.84497508441272.358312914...             2   \n",
       "3  2019-06-20 10:50:0048.84497508441272.358312914...             2   \n",
       "4  2019-06-20 10:50:0048.84497508441272.358312914...             2   \n",
       "\n",
       "                                collection_nom  protocole_long user_id  \\\n",
       "0                                   sentier ZH             NaN  12 657   \n",
       "1                                   sentier ZH             NaN  12 657   \n",
       "2  Ma belle collection au jardin des plantes !             NaN  10 918   \n",
       "3  Ma belle collection au jardin des plantes !             NaN  10 918   \n",
       "4  Ma belle collection au jardin des plantes !             NaN  10 918   \n",
       "\n",
       "  plante_famille plante_genre       plante_espece  \\\n",
       "0       Fabaceae    Trifolium  Trifolium pratense   \n",
       "1       Fabaceae    Trifolium  Trifolium pratense   \n",
       "2    Acanthaceae     Acanthus   Acanthus spinosus   \n",
       "3    Acanthaceae     Acanthus   Acanthus spinosus   \n",
       "4    Acanthaceae     Acanthus   Acanthus spinosus   \n",
       "\n",
       "                                           plante_sc      plante_fr  ...  \\\n",
       "0  Les Trèfles à fleurs blanches ou roses en boul...            NaN  ...   \n",
       "1  Les Trèfles à fleurs blanches ou roses en boul...            NaN  ...   \n",
       "2                                    Acanthus mollis  Acanthe molle  ...   \n",
       "3                                    Acanthus mollis  Acanthe molle  ...   \n",
       "4                                    Acanthus mollis  Acanthe molle  ...   \n",
       "\n",
       "  prep_mois_prev  prep_avril_prev prep_avril_current moyenne_prep_hiver  \\\n",
       "0       1.020455        -0.562879          -0.306212           2.872094   \n",
       "1       1.020455        -0.562879          -0.306212           2.872094   \n",
       "2            NaN              NaN                NaN                NaN   \n",
       "3            NaN              NaN                NaN                NaN   \n",
       "4            NaN              NaN                NaN                NaN   \n",
       "\n",
       "  moyenne_prep_avril moyenne_prep_mois prep_hiver temp_avril_current_test  \\\n",
       "0           2.431515          3.239697   0.322265                0.270667   \n",
       "1           2.431515          3.239697   0.322265                0.270667   \n",
       "2                NaN               NaN        NaN                     NaN   \n",
       "3                NaN               NaN        NaN                     NaN   \n",
       "4                NaN               NaN        NaN                     NaN   \n",
       "\n",
       "  prep_moyenne temp_moyenne  \n",
       "0     2.922175      3.23472  \n",
       "1     2.922175      3.23472  \n",
       "2          NaN          NaN  \n",
       "3          NaN          NaN  \n",
       "4          NaN          NaN  \n",
       "\n",
       "[5 rows x 200 columns]"
      ]
     },
     "execution_count": 166,
     "metadata": {},
     "output_type": "execute_result"
    }
   ],
   "source": [
    "merged_df.head()"
   ]
  },
  {
   "cell_type": "code",
   "execution_count": 167,
   "metadata": {},
   "outputs": [
    {
     "data": {
      "text/plain": [
       "<Axes: >"
      ]
     },
     "execution_count": 167,
     "metadata": {},
     "output_type": "execute_result"
    },
    {
     "data": {
      "image/png": "[encoded data removed]",
      "text/plain": [
       "<Figure size 2500x1000 with 2 Axes>"
      ]
     },
     "metadata": {},
     "output_type": "display_data"
    }
   ],
   "source": [
    "msno.matrix(merged_df)"
   ]
  },
  {
   "cell_type": "code",
   "execution_count": null,
   "metadata": {},
   "outputs": [],
   "source": []
  },
  {
   "cell_type": "code",
   "execution_count": null,
   "metadata": {},
   "outputs": [],
   "source": []
  },
  {
   "cell_type": "code",
   "execution_count": null,
   "metadata": {},
   "outputs": [],
   "source": []
  }
 ],
 "metadata": {
  "kernelspec": {
   "display_name": "Python 3",
   "language": "python",
   "name": "python3"
  },
  "language_info": {
   "codemirror_mode": {
    "name": "ipython",
    "version": 3
   },
   "file_extension": ".py",
   "mimetype": "text/x-python",
   "name": "python",
   "nbconvert_exporter": "python",
   "pygments_lexer": "ipython3",
   "version": "3.12.0"
  }
 },
 "nbformat": 4,
 "nbformat_minor": 2
}
