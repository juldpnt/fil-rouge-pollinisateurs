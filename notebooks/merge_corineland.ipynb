{
 "cells": [
  {
   "cell_type": "code",
   "execution_count": 33,
   "metadata": {},
   "outputs": [
    {
     "name": "stdout",
     "output_type": "stream",
     "text": [
      "Former working directory:  /Users/ambroisebertin/Desktop/prog/prog_abeilles/fil-rouge-pollinisateurs\n",
      "Current working directory:  /Users/ambroisebertin/Desktop/prog/prog_abeilles/fil-rouge-pollinisateurs\n",
      "The autoreload extension is already loaded. To reload it, use:\n",
      "  %reload_ext autoreload\n"
     ]
    }
   ],
   "source": [
    "from utils import setup_env_path\n",
    "\n",
    "setup_env_path()\n",
    "\n",
    "%load_ext autoreload\n",
    "%autoreload 2"
   ]
  },
  {
   "cell_type": "code",
   "execution_count": 34,
   "metadata": {},
   "outputs": [],
   "source": [
    "import pandas as pd\n",
    "import numpy as np\n",
    "from tqdm import tqdm\n",
    "import missingno as msno"
   ]
  },
  {
   "cell_type": "code",
   "execution_count": 39,
   "metadata": {},
   "outputs": [
    {
     "name": "stderr",
     "output_type": "stream",
     "text": [
      "/var/folders/cj/gd9mq5b53w51g6wvzmjj8ymr0000gn/T/ipykernel_85454/2147278738.py:1: DtypeWarning: Columns (27) have mixed types. Specify dtype option on import or set low_memory=False.\n",
      "  corineland = pd.read_csv('data/corineland/collection_genre_nouvelle_version.csv', encoding='latin1', sep=';')\n",
      "/var/folders/cj/gd9mq5b53w51g6wvzmjj8ymr0000gn/T/ipykernel_85454/2147278738.py:2: DtypeWarning: Columns (15) have mixed types. Specify dtype option on import or set low_memory=False.\n",
      "  spipoll = pd.read_csv('data/spipoll.csv')\n"
     ]
    }
   ],
   "source": [
    "corineland = pd.read_csv('data/corineland/collection_genre_nouvelle_version.csv', encoding='latin1', sep=';')\n",
    "spipoll = pd.read_csv('data/spipoll.csv')"
   ]
  },
  {
   "cell_type": "code",
   "execution_count": 50,
   "metadata": {},
   "outputs": [
    {
     "data": {
      "text/plain": [
       "nom_collection\n",
       "Pissenlit                                                         89\n",
       "Achillée, Gournezou                                               77\n",
       "Pâquerette                                                        72\n",
       "pissenlit                                                         69\n",
       "berce                                                             48\n",
       "                                                                  ..\n",
       "Malva Rte de Laborie                                               1\n",
       "Centaurée Carrefour Rte de St Paul à Jallés et D361 3eme Année     1\n",
       "Berce Carrefour Rte de St Paul à Jallés et D361                    1\n",
       "Berce Marais de Cassan                                             1\n",
       "journée formation Parc naturel régional du Vexin français          1\n",
       "Name: count, Length: 42654, dtype: int64"
      ]
     },
     "execution_count": 50,
     "metadata": {},
     "output_type": "execute_result"
    }
   ],
   "source": [
    "corineland['nom_collection'].value_counts()"
   ]
  },
  {
   "cell_type": "code",
   "execution_count": 49,
   "metadata": {},
   "outputs": [
    {
     "data": {
      "text/plain": [
       "0                                          sentier ZH\n",
       "1                                          sentier ZH\n",
       "2         Ma belle collection au jardin des plantes !\n",
       "3         Ma belle collection au jardin des plantes !\n",
       "4         Ma belle collection au jardin des plantes !\n",
       "                             ...                     \n",
       "670739                        succise DCCC85 31/10/23\n",
       "670740                        succise DCCC85 31/10/23\n",
       "670741                        succise DCCC85 31/10/23\n",
       "670742                        succise DCCC85 31/10/23\n",
       "670743                        succise DCCC85 31/10/23\n",
       "Name: collection_nom, Length: 670744, dtype: object"
      ]
     },
     "execution_count": 49,
     "metadata": {},
     "output_type": "execute_result"
    }
   ],
   "source": [
    "spipoll['collection_nom'].value_counts()"
   ]
  },
  {
   "cell_type": "code",
   "execution_count": null,
   "metadata": {},
   "outputs": [],
   "source": []
  },
  {
   "cell_type": "code",
   "execution_count": null,
   "metadata": {},
   "outputs": [],
   "source": []
  },
  {
   "cell_type": "code",
   "execution_count": null,
   "metadata": {},
   "outputs": [],
   "source": []
  },
  {
   "cell_type": "code",
   "execution_count": null,
   "metadata": {},
   "outputs": [],
   "source": []
  },
  {
   "cell_type": "code",
   "execution_count": null,
   "metadata": {},
   "outputs": [],
   "source": []
  },
  {
   "cell_type": "code",
   "execution_count": null,
   "metadata": {},
   "outputs": [],
   "source": []
  },
  {
   "cell_type": "code",
   "execution_count": null,
   "metadata": {},
   "outputs": [],
   "source": []
  }
 ],
 "metadata": {
  "kernelspec": {
   "display_name": "Python 3",
   "language": "python",
   "name": "python3"
  },
  "language_info": {
   "codemirror_mode": {
    "name": "ipython",
    "version": 3
   },
   "file_extension": ".py",
   "mimetype": "text/x-python",
   "name": "python",
   "nbconvert_exporter": "python",
   "pygments_lexer": "ipython3",
   "version": "3.12.0"
  }
 },
 "nbformat": 4,
 "nbformat_minor": 2
}
