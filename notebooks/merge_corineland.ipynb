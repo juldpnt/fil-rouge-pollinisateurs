{
 "cells": [
  {
   "cell_type": "code",
   "execution_count": null,
   "metadata": {},
   "outputs": [],
   "source": [
    "from utils import setup_env_path\n",
    "\n",
    "setup_env_path()\n",
    "\n",
    "%load_ext autoreload\n",
    "%autoreload 2"
   ]
  },
  {
   "cell_type": "code",
   "execution_count": null,
   "metadata": {},
   "outputs": [],
   "source": [
    "import pandas as pd\n",
    "import numpy as np\n",
    "from tqdm import tqdm\n",
    "import missingno as msno"
   ]
  },
  {
   "cell_type": "markdown",
   "metadata": {},
   "source": [
    "### Objectifs de ce script :\n",
    "\n",
    "réaliser la jointure entre les tables spipoll.csv et la table contenant les données corineland, pour améliorer les performances de notre modèle supervisé."
   ]
  },
  {
   "cell_type": "markdown",
   "metadata": {},
   "source": [
    "# Importe les deux datasets d'intérêt"
   ]
  },
  {
   "cell_type": "code",
   "execution_count": null,
   "metadata": {},
   "outputs": [],
   "source": [
    "spipoll = pd.read_csv('data/spipoll.csv', low_memory=False)\n",
    "corineland = pd.read_csv('data/corineland/collection_genre_nouvelle_version.csv', encoding='latin1', sep=';', low_memory=False)\n",
    "\n",
    "spipoll.shape, corineland.shape"
   ]
  },
  {
   "cell_type": "code",
   "execution_count": null,
   "metadata": {},
   "outputs": [],
   "source": [
    "# renomme les colonnes d'intérêt pour les rendre compatibles d'une table à l'autre\n",
    "corineland = corineland.rename(columns={'nom_collection':'collection_nom','lat':'latitude','long':'longitude','heureDebut':'collection_heure_debut'})"
   ]
  },
  {
   "cell_type": "code",
   "execution_count": null,
   "metadata": {},
   "outputs": [],
   "source": [
    "# affiche les colonnes communes entre les deux jeux de données\n",
    "list(set(corineland.columns) & set(spipoll.columns))"
   ]
  },
  {
   "cell_type": "markdown",
   "metadata": {},
   "source": [
    "# Traitements sur les lignes"
   ]
  },
  {
   "cell_type": "markdown",
   "metadata": {},
   "source": [
    "### Retire les lignes où nb_validation est inférieur strict à 3"
   ]
  },
  {
   "cell_type": "code",
   "execution_count": null,
   "metadata": {},
   "outputs": [],
   "source": [
    "# retire les lignes de spipoll où nb_validation est strictement inférieur à 3\n",
    "spipoll = spipoll[spipoll['nb_validation'] >= 3]\n",
    "corineland = corineland[corineland['nb_validation'] >= 3]\n",
    "\n",
    "# affiche les dimensions des deux tables pour vérifier que les lignes ont bien été retirées\n",
    "spipoll.shape, corineland.shape"
   ]
  },
  {
   "cell_type": "markdown",
   "metadata": {},
   "source": [
    "### Retire les lignes correspondants aux mois de novembre, décembre, janvier, février"
   ]
  },
  {
   "cell_type": "code",
   "execution_count": null,
   "metadata": {},
   "outputs": [],
   "source": [
    "# conversion des dates de spipoll au format ISO8601\n",
    "spipoll['collection_heure_debut'] = pd.to_datetime(spipoll['collection_heure_debut'], format='ISO8601')\n",
    "\n",
    "# conversion des dates de corineland au format de spipoll (12/06/2019 00:00 en 2019-06-12 00:00) puis au format ISO8601\n",
    "corineland['collection_heure_debut'] = pd.to_datetime(corineland['collection_heure_debut'], format='%d/%m/%Y %H:%M')\n",
    "corineland['collection_heure_debut'] = pd.to_datetime(corineland['collection_heure_debut'], format='ISO8601')\n"
   ]
  },
  {
   "cell_type": "code",
   "execution_count": null,
   "metadata": {},
   "outputs": [],
   "source": [
    "# retire les lignes de spipoll et corineland où la date dans collection_heure_debut correspond au mois de novembre, décembre, janvier, février\n",
    "spipoll = spipoll[~spipoll['collection_heure_debut'].dt.month.isin([11, 12, 1, 2])]\n",
    "corineland = corineland[~corineland['collection_heure_debut'].dt.month.isin([11, 12, 1, 2])]\n",
    "\n",
    "spipoll.shape, corineland.shape"
   ]
  },
  {
   "cell_type": "markdown",
   "metadata": {},
   "source": [
    "# Création d'une clef primaire synthétique qui permettra de joindre les deux tables"
   ]
  },
  {
   "cell_type": "markdown",
   "metadata": {},
   "source": [
    "### Verification de l'homogénéité des colonnes utiles pour la crétaion de la clef primaire synthétique"
   ]
  },
  {
   "cell_type": "code",
   "execution_count": null,
   "metadata": {},
   "outputs": [],
   "source": [
    "# arrondit latitude et longitude dans spipoll et corineland à 10 chiffres après la virgule\n",
    "spipoll['latitude'] = spipoll['latitude'].round(10)\n",
    "spipoll['longitude'] = spipoll['longitude'].round(10)\n",
    "corineland['latitude'] = corineland['latitude'].round(10)\n",
    "corineland['longitude'] = corineland['longitude'].round(10)"
   ]
  },
  {
   "cell_type": "code",
   "execution_count": null,
   "metadata": {},
   "outputs": [],
   "source": [
    "# teste l'homogénéité des colonnes longitudes et latitudes des deux jeux de données\n",
    "spipoll[['latitude','longitude']].iloc[0] == corineland[['latitude','longitude']].iloc[0]"
   ]
  },
  {
   "cell_type": "code",
   "execution_count": null,
   "metadata": {},
   "outputs": [],
   "source": [
    "# teste l'homogénéité de la colonne collection_heure_debut des deux jeux de données\n",
    "corineland['collection_heure_debut'].iloc[0] == spipoll['collection_heure_debut'].iloc[0]"
   ]
  },
  {
   "cell_type": "markdown",
   "metadata": {},
   "source": [
    "### Création de la clef primaire"
   ]
  },
  {
   "cell_type": "code",
   "execution_count": null,
   "metadata": {},
   "outputs": [],
   "source": [
    "# Convertir 'collection_heure_debut' en datetime et supprimer la partie temps\n",
    "spipoll['collection_heure_debut'] = pd.to_datetime(spipoll['collection_heure_debut']).dt.date\n",
    "corineland['collection_heure_debut'] = pd.to_datetime(corineland['collection_heure_debut']).dt.date\n",
    "\n",
    "# Ajouter une nouvelle colonne 'clef_primaire' qui est une liste des trois variables\n",
    "spipoll['clef_primaire'] = spipoll[['collection_heure_debut', 'latitude', 'longitude']].apply(tuple, axis=1)\n",
    "corineland['clef_primaire'] = corineland[['collection_heure_debut', 'latitude', 'longitude']].apply(tuple, axis=1)\n",
    "\n",
    "spipoll.shape, corineland.shape"
   ]
  },
  {
   "cell_type": "markdown",
   "metadata": {},
   "source": [
    "### Vérifications sur les clefs crées"
   ]
  },
  {
   "cell_type": "code",
   "execution_count": null,
   "metadata": {},
   "outputs": [],
   "source": [
    "# verifie qu'on a bien autant de valeurs uniques que de lignes (preuve que c'est bien une clef primaire)\n",
    "corineland['clef_primaire'].nunique() == corineland.shape[0]"
   ]
  },
  {
   "cell_type": "markdown",
   "metadata": {},
   "source": [
    "## Préparation de la jointure"
   ]
  },
  {
   "cell_type": "markdown",
   "metadata": {},
   "source": [
    "### Traitement sur corineland pour ne garder que les colonnes d'intérêt"
   ]
  },
  {
   "cell_type": "code",
   "execution_count": null,
   "metadata": {},
   "outputs": [],
   "source": [
    "colonnes_interet = ['colonne111_250',\n",
    "       'colonne112_250', 'colonne121_250', 'colonne122_250',\n",
    "       'colonne123_250', 'colonne124_250', 'colonne131_250',\n",
    "       'colonne132_250', 'colonne133_250', 'colonne141_250',\n",
    "       'colonne142_250', 'colonne211_250', 'colonne212_250',\n",
    "       'colonne213_250', 'colonne221_250', 'colonne222_250',\n",
    "       'colonne223_250', 'colonne231_250', 'colonne241_250',\n",
    "       'colonne242_250', 'colonne243_250', 'colonne244_250',\n",
    "       'colonne311_250', 'colonne312_250', 'colonne313_250',\n",
    "       'colonne321_250', 'colonne322_250', 'colonne323_250',\n",
    "       'colonne324_250', 'colonne331_250', 'colonne332_250',\n",
    "       'colonne333_250', 'colonne334_250', 'colonne335_250',\n",
    "       'colonne411_250', 'colonne412_250', 'colonne421_250',\n",
    "       'colonne422_250', 'colonne423_250', 'colonne511_250',\n",
    "       'colonne512_250', 'colonne521_250', 'colonne522_250',\n",
    "       'colonne523_250', 'colonne111_1000', 'colonne112_1000',\n",
    "       'colonne121_1000', 'colonne122_1000', 'colonne123_1000',\n",
    "       'colonne124_1000', 'colonne131_1000', 'colonne132_1000',\n",
    "       'colonne133_1000', 'colonne141_1000', 'colonne142_1000',\n",
    "       'colonne211_1000', 'colonne212_1000', 'colonne213_1000',\n",
    "       'colonne221_1000', 'colonne222_1000', 'colonne223_1000',\n",
    "       'colonne231_1000', 'colonne241_1000', 'colonne242_1000',\n",
    "       'colonne243_1000', 'colonne244_1000', 'colonne311_1000',\n",
    "       'colonne312_1000', 'colonne313_1000', 'colonne321_1000',\n",
    "       'colonne322_1000', 'colonne323_1000', 'colonne324_1000',\n",
    "       'colonne331_1000', 'colonne332_1000', 'colonne333_1000',\n",
    "       'colonne334_1000', 'colonne335_1000', 'colonne411_1000',\n",
    "       'colonne412_1000', 'colonne421_1000', 'colonne422_1000',\n",
    "       'colonne423_1000', 'colonne511_1000', 'colonne512_1000',\n",
    "       'colonne521_1000', 'colonne522_1000', 'colonne523_1000',\n",
    "       'Moyenne_bio1', 'Moyenne_bio2', 'Moyenne_bio3', 'Moyenne_bio4',\n",
    "       'Moyenne_bio5', 'Moyenne_bio6', 'Moyenne_bio7', 'Moyenne_bio8',\n",
    "       'Moyenne_bio9', 'Moyenne_bio10', 'Moyenne_bio11', 'Moyenne_bio12',\n",
    "       'Moyenne_bio13', 'Moyenne_bio14', 'Moyenne_bio15', 'Moyenne_bio16',\n",
    "       'Moyenne_bio17', 'Moyenne_bio18', 'Moyenne_bio19', 'classif',\n",
    "       'espece', 'genre', 'jour_julien', 'jour', 'mois', 'annee',\n",
    "       'quinzaine', 'temp_moy', 'prep', 'wind', 'ombre', 'col21_250',\n",
    "       'col21_1000', 'col22_250', 'col22_1000', 'col23_250', 'col23_1000',\n",
    "       'col24_250', 'col24_1000', 'col31_250', 'col31_1000', 'col32_250',\n",
    "       'col32_1000', 'col33_250', 'col33_1000', 'col4et5_250',\n",
    "       'col4et5_1000', 'impermeabilisÃ©_250', 'impermeabilisÃ©_1000',\n",
    "       'semi_impermeabilisÃ©_250', 'semi_impermeabilisÃ©_1000',\n",
    "       'position.3', 'digits', 'temp_mois_prev', 'temp_avril_prev',\n",
    "       'temp_avril_current', 'moyenne_avril', 'moyenne_hiver',\n",
    "       'temp_hiver', 'moyenne_mois', 'prep_mois_prev', 'prep_avril_prev',\n",
    "       'prep_avril_current', 'moyenne_prep_hiver', 'moyenne_prep_avril',\n",
    "       'moyenne_prep_mois', 'prep_hiver', 'temp_avril_current_test',\n",
    "       'prep_moyenne', 'temp_moyenne']\n",
    "\n",
    "len(colonnes_interet)"
   ]
  },
  {
   "cell_type": "code",
   "execution_count": null,
   "metadata": {},
   "outputs": [],
   "source": [
    "# on ne conserve que les colonnes d'intérêt dans le jeu de données corineland\n",
    "corineland = corineland[['clef_primaire'] + colonnes_interet]\n",
    "\n",
    "spipoll.shape, corineland.shape"
   ]
  },
  {
   "cell_type": "markdown",
   "metadata": {},
   "source": [
    "## Jointure entre les deux tables"
   ]
  },
  {
   "cell_type": "code",
   "execution_count": null,
   "metadata": {},
   "outputs": [],
   "source": [
    "spipoll['clef_primaire'].iloc[0] == corineland['clef_primaire'].iloc[0]"
   ]
  },
  {
   "cell_type": "code",
   "execution_count": null,
   "metadata": {},
   "outputs": [],
   "source": [
    "# merge des deux dataframe\n",
    "merged_df = spipoll.merge(corineland, how='left', on='clef_primaire')\n",
    "\n",
    "merged_df.shape"
   ]
  },
  {
   "cell_type": "code",
   "execution_count": null,
   "metadata": {},
   "outputs": [],
   "source": [
    "msno.matrix(merged_df)"
   ]
  },
  {
   "cell_type": "code",
   "execution_count": null,
   "metadata": {},
   "outputs": [],
   "source": [
    "# affiche une ligne du dataframe merged_df où \"colonne111_250\" est non vide\n",
    "merged_df[merged_df['colonne111_250'].notnull()]"
   ]
  },
  {
   "cell_type": "code",
   "execution_count": null,
   "metadata": {},
   "outputs": [],
   "source": [
    "# compte le nb de valeurs non vides dans la colonne \"colonne111_250\"\n",
    "print('Le nombre de valeurs non vides dans la colonne \"colonne111_250\" est :', merged_df['colonne111_250'].notnull().sum())\n",
    "\n",
    "# affiche en pourcentage le nb de valeurs non vides dans la colonne \"colonne111_250\"\n",
    "print('Le pourcentage de valeurs non vides dans la colonne \"colonne111_250\" est :', merged_df['colonne111_250'].notnull().sum() / merged_df.shape[0])"
   ]
  },
  {
   "cell_type": "code",
   "execution_count": null,
   "metadata": {},
   "outputs": [],
   "source": []
  },
  {
   "cell_type": "code",
   "execution_count": null,
   "metadata": {},
   "outputs": [],
   "source": []
  }
 ],
 "metadata": {
  "kernelspec": {
   "display_name": "Python 3",
   "language": "python",
   "name": "python3"
  },
  "language_info": {
   "codemirror_mode": {
    "name": "ipython",
    "version": 3
   },
   "file_extension": ".py",
   "mimetype": "text/x-python",
   "name": "python",
   "nbconvert_exporter": "python",
   "pygments_lexer": "ipython3",
   "version": "3.12.0"
  }
 },
 "nbformat": 4,
 "nbformat_minor": 2
}
