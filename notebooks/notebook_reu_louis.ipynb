{
 "cells": [
  {
   "cell_type": "markdown",
   "metadata": {},
   "source": [
    "<div class=\"alert alert-block alert-info\">\n",
    "⚠️All notebooks should start with the following cell ⚠️.\n",
    "<br>\n",
    "<br>\n",
    "This will ensure that the notebook is set in the correct working directory and that all internal modules can be loaded without setting an entry point.\n",
    "</div>"
   ]
  },
  {
   "cell_type": "code",
   "execution_count": 1,
   "metadata": {},
   "outputs": [
    {
     "name": "stdout",
     "output_type": "stream",
     "text": [
      "Former working directory:  /workspaces/fil-rouge-pollinisateurs/notebooks\n",
      "Current working directory:  /workspaces/fil-rouge-pollinisateurs\n"
     ]
    }
   ],
   "source": [
    "from utils import setup_env_path\n",
    "\n",
    "setup_env_path()\n",
    "\n",
    "%load_ext autoreload\n",
    "%autoreload 2"
   ]
  },
  {
   "cell_type": "markdown",
   "metadata": {},
   "source": [
    "Setup notebook"
   ]
  },
  {
   "cell_type": "code",
   "execution_count": 2,
   "metadata": {},
   "outputs": [],
   "source": [
    "import pandas as pd\n",
    "import matplotlib.pyplot as plt\n",
    "import seaborn as sns\n",
    "import numpy as np\n",
    "import plotly.express as px"
   ]
  },
  {
   "cell_type": "code",
   "execution_count": 16,
   "metadata": {},
   "outputs": [],
   "source": [
    "path_observation = \"data/temporary_data/observation_genre_nouvelle_version.csv\"\n",
    "path_collection = \"data/temporary_data/collection_genre_nouvelle_version.csv\""
   ]
  },
  {
   "cell_type": "code",
   "execution_count": 60,
   "metadata": {},
   "outputs": [
    {
     "name": "stderr",
     "output_type": "stream",
     "text": [
      "/tmp/ipykernel_6400/464052685.py:1: DtypeWarning: Columns (27) have mixed types. Specify dtype option on import or set low_memory=False.\n",
      "  observation_df = pd.read_csv(path_observation, encoding=\"latin1\", sep=\";\")\n",
      "/tmp/ipykernel_6400/464052685.py:2: DtypeWarning: Columns (27) have mixed types. Specify dtype option on import or set low_memory=False.\n",
      "  collection_df = pd.read_csv(path_collection, encoding=\"latin1\", sep=\";\")\n"
     ]
    }
   ],
   "source": [
    "observation_df = pd.read_csv(path_observation, encoding=\"latin1\", sep=\";\")\n",
    "collection_df = pd.read_csv(path_collection, encoding=\"latin1\", sep=\";\")"
   ]
  },
  {
   "cell_type": "code",
   "execution_count": 61,
   "metadata": {},
   "outputs": [
    {
     "data": {
      "text/plain": [
       "insect_taxon\n",
       "Les Mouches difficiles Ã  dÃ©terminer                                   30233\n",
       "L_Abeille mellifÃ¨re (Apis mellifera)                                   18495\n",
       "Les Halictes (femelles) (Halictus, Lasioglossum et autres)              17441\n",
       "Les Eristales (autres) (Eristalis)                                      13047\n",
       "Les Mouches aux reflets mÃ©talliques (Neomyia, Calliphora et autres)     9736\n",
       "                                                                        ...  \n",
       "Les Syntomies (Amata)                                                       1\n",
       "Le PÃ©lopÃ©e Ã  pattes roussÃ¢tres (Sceliphron curvatum)                    1\n",
       "L_Ecaille alpine (Setina aurita)                                            1\n",
       "Le Damier de l_AlchÃ©mille (mÃ¢le) (Euphydryas cynthia)                     1\n",
       "L_Ecaille marbrÃ©e (Callimorpha dominula)                                   1\n",
       "Name: count, Length: 573, dtype: int64"
      ]
     },
     "execution_count": 61,
     "metadata": {},
     "output_type": "execute_result"
    }
   ],
   "source": [
    "observation_df[\"insect_taxon\"].value_counts()"
   ]
  },
  {
   "cell_type": "code",
   "execution_count": 66,
   "metadata": {},
   "outputs": [
    {
     "data": {
      "text/plain": [
       "Index(['id', 'nom_collection', 'protocoleLong', 'commentaire', 'lat', 'long',\n",
       "       'habitat', 'distanceRuche', 'X50m', 'username',\n",
       "       ...\n",
       "       'prep_mois_prev', 'prep_avril_prev', 'prep_avril_current',\n",
       "       'moyenne_prep_hiver', 'moyenne_prep_avril', 'moyenne_prep_mois',\n",
       "       'prep_hiver', 'temp_avril_current_test', 'prep_moyenne',\n",
       "       'temp_moyenne'],\n",
       "      dtype='object', length=188)"
      ]
     },
     "execution_count": 66,
     "metadata": {},
     "output_type": "execute_result"
    }
   ],
   "source": [
    "collection_df.columns"
   ]
  },
  {
   "cell_type": "markdown",
   "metadata": {},
   "source": [
    "On garde les collections de Mars à Octobre, sans les insectes inconnus, et au niveau du genre de la plante."
   ]
  },
  {
   "cell_type": "code",
   "execution_count": 48,
   "metadata": {},
   "outputs": [
    {
     "name": "stdout",
     "output_type": "stream",
     "text": [
      "annee\n",
      "2011    1965\n",
      "2012    1934\n",
      "2013    2936\n",
      "2014    2255\n",
      "2015    2937\n",
      "2016    3610\n",
      "2017    3162\n",
      "2018    3174\n",
      "2019    5793\n",
      "2020    7489\n",
      "2021    8144\n",
      "2022    4002\n",
      "Name: count, dtype: int64\n",
      "(47401, 188)\n"
     ]
    }
   ],
   "source": [
    "print(collection_df[\"annee\"].value_counts().sort_index())\n",
    "print(collection_df.shape)"
   ]
  },
  {
   "cell_type": "code",
   "execution_count": 22,
   "metadata": {},
   "outputs": [],
   "source": [
    "path_spipoll = \"data/temporary_data/spipoll.csv\""
   ]
  },
  {
   "cell_type": "code",
   "execution_count": 23,
   "metadata": {},
   "outputs": [
    {
     "name": "stderr",
     "output_type": "stream",
     "text": [
      "/tmp/ipykernel_6400/1153891327.py:1: DtypeWarning: Columns (11) have mixed types. Specify dtype option on import or set low_memory=False.\n",
      "  spipoll_df = pd.read_csv(path_spipoll)\n"
     ]
    }
   ],
   "source": [
    "spipoll_df = pd.read_csv(path_spipoll)"
   ]
  },
  {
   "cell_type": "code",
   "execution_count": 62,
   "metadata": {},
   "outputs": [
    {
     "data": {
      "text/html": [
       "<div>\n",
       "<style scoped>\n",
       "    .dataframe tbody tr th:only-of-type {\n",
       "        vertical-align: middle;\n",
       "    }\n",
       "\n",
       "    .dataframe tbody tr th {\n",
       "        vertical-align: top;\n",
       "    }\n",
       "\n",
       "    .dataframe thead th {\n",
       "        text-align: right;\n",
       "    }\n",
       "</style>\n",
       "<table border=\"1\" class=\"dataframe\">\n",
       "  <thead>\n",
       "    <tr style=\"text-align: right;\">\n",
       "      <th></th>\n",
       "      <th>collection_id</th>\n",
       "      <th>protocole_long</th>\n",
       "      <th>user_id</th>\n",
       "      <th>plante_sc</th>\n",
       "      <th>plante_fr</th>\n",
       "      <th>plante_precision</th>\n",
       "      <th>plante_inconnue</th>\n",
       "      <th>plante_caractere</th>\n",
       "      <th>photo_fleur</th>\n",
       "      <th>photo_plante</th>\n",
       "      <th>...</th>\n",
       "      <th>insecte_fr</th>\n",
       "      <th>insecte_denominationPlusPrecise</th>\n",
       "      <th>insecte_CdNomtaxref</th>\n",
       "      <th>insecte_abondance</th>\n",
       "      <th>insecte_commentaire</th>\n",
       "      <th>insecte_vu_sur_fleur</th>\n",
       "      <th>nb_validation</th>\n",
       "      <th>nb_suggestion</th>\n",
       "      <th>latitude</th>\n",
       "      <th>longitude</th>\n",
       "    </tr>\n",
       "  </thead>\n",
       "  <tbody>\n",
       "    <tr>\n",
       "      <th>0</th>\n",
       "      <td>1</td>\n",
       "      <td>NaN</td>\n",
       "      <td>12 657</td>\n",
       "      <td>Les Trèfles à fleurs blanches ou roses en boul...</td>\n",
       "      <td>NaN</td>\n",
       "      <td>NaN</td>\n",
       "      <td>0.0</td>\n",
       "      <td>spontanée</td>\n",
       "      <td>https://spgp-api.65mo.fr/api/containers/spgp/d...</td>\n",
       "      <td>https://spgp-api.65mo.fr/api/containers/spgp/d...</td>\n",
       "      <td>...</td>\n",
       "      <td>L'Abeille mellifère</td>\n",
       "      <td>NaN</td>\n",
       "      <td>NaN</td>\n",
       "      <td>plus de 5</td>\n",
       "      <td>NaN</td>\n",
       "      <td>0.0</td>\n",
       "      <td>3.0</td>\n",
       "      <td>NaN</td>\n",
       "      <td>45.363808</td>\n",
       "      <td>6.514947</td>\n",
       "    </tr>\n",
       "    <tr>\n",
       "      <th>1</th>\n",
       "      <td>1</td>\n",
       "      <td>NaN</td>\n",
       "      <td>12 657</td>\n",
       "      <td>Les Trèfles à fleurs blanches ou roses en boul...</td>\n",
       "      <td>NaN</td>\n",
       "      <td>NaN</td>\n",
       "      <td>0.0</td>\n",
       "      <td>spontanée</td>\n",
       "      <td>https://spgp-api.65mo.fr/api/containers/spgp/d...</td>\n",
       "      <td>https://spgp-api.65mo.fr/api/containers/spgp/d...</td>\n",
       "      <td>...</td>\n",
       "      <td>Les Bourdons noirs à bande(s) jaune(s) et cul ...</td>\n",
       "      <td>NaN</td>\n",
       "      <td>NaN</td>\n",
       "      <td>1</td>\n",
       "      <td>NaN</td>\n",
       "      <td>0.0</td>\n",
       "      <td>3.0</td>\n",
       "      <td>NaN</td>\n",
       "      <td>45.363808</td>\n",
       "      <td>6.514947</td>\n",
       "    </tr>\n",
       "    <tr>\n",
       "      <th>2</th>\n",
       "      <td>2</td>\n",
       "      <td>NaN</td>\n",
       "      <td>10 918</td>\n",
       "      <td>Acanthus mollis</td>\n",
       "      <td>Acanthe molle</td>\n",
       "      <td>NaN</td>\n",
       "      <td>NaN</td>\n",
       "      <td>plantée</td>\n",
       "      <td>https://spgp-api.65mo.fr/api/containers/spgp/d...</td>\n",
       "      <td>https://spgp-api.65mo.fr/api/containers/spgp/d...</td>\n",
       "      <td>...</td>\n",
       "      <td>Les Bourdons noirs à bande(s) jaune(s) et cul ...</td>\n",
       "      <td>NaN</td>\n",
       "      <td>NaN</td>\n",
       "      <td>je n'ai pas l'information</td>\n",
       "      <td>NaN</td>\n",
       "      <td>0.0</td>\n",
       "      <td>3.0</td>\n",
       "      <td>NaN</td>\n",
       "      <td>48.844975</td>\n",
       "      <td>2.358313</td>\n",
       "    </tr>\n",
       "    <tr>\n",
       "      <th>3</th>\n",
       "      <td>2</td>\n",
       "      <td>NaN</td>\n",
       "      <td>10 918</td>\n",
       "      <td>Acanthus mollis</td>\n",
       "      <td>Acanthe molle</td>\n",
       "      <td>NaN</td>\n",
       "      <td>NaN</td>\n",
       "      <td>plantée</td>\n",
       "      <td>https://spgp-api.65mo.fr/api/containers/spgp/d...</td>\n",
       "      <td>https://spgp-api.65mo.fr/api/containers/spgp/d...</td>\n",
       "      <td>...</td>\n",
       "      <td>Les Mouches à damier</td>\n",
       "      <td>NaN</td>\n",
       "      <td>NaN</td>\n",
       "      <td>entre 2 et 5</td>\n",
       "      <td>NaN</td>\n",
       "      <td>0.0</td>\n",
       "      <td>3.0</td>\n",
       "      <td>1.0</td>\n",
       "      <td>48.844975</td>\n",
       "      <td>2.358313</td>\n",
       "    </tr>\n",
       "    <tr>\n",
       "      <th>4</th>\n",
       "      <td>2</td>\n",
       "      <td>NaN</td>\n",
       "      <td>10 918</td>\n",
       "      <td>Acanthus mollis</td>\n",
       "      <td>Acanthe molle</td>\n",
       "      <td>NaN</td>\n",
       "      <td>NaN</td>\n",
       "      <td>plantée</td>\n",
       "      <td>https://spgp-api.65mo.fr/api/containers/spgp/d...</td>\n",
       "      <td>https://spgp-api.65mo.fr/api/containers/spgp/d...</td>\n",
       "      <td>...</td>\n",
       "      <td>L'Abeille mellifère</td>\n",
       "      <td>NaN</td>\n",
       "      <td>NaN</td>\n",
       "      <td>entre 2 et 5</td>\n",
       "      <td>NaN</td>\n",
       "      <td>0.0</td>\n",
       "      <td>3.0</td>\n",
       "      <td>NaN</td>\n",
       "      <td>48.844975</td>\n",
       "      <td>2.358313</td>\n",
       "    </tr>\n",
       "  </tbody>\n",
       "</table>\n",
       "<p>5 rows × 31 columns</p>\n",
       "</div>"
      ],
      "text/plain": [
       "  collection_id  protocole_long user_id  \\\n",
       "0             1             NaN  12 657   \n",
       "1             1             NaN  12 657   \n",
       "2             2             NaN  10 918   \n",
       "3             2             NaN  10 918   \n",
       "4             2             NaN  10 918   \n",
       "\n",
       "                                           plante_sc      plante_fr  \\\n",
       "0  Les Trèfles à fleurs blanches ou roses en boul...            NaN   \n",
       "1  Les Trèfles à fleurs blanches ou roses en boul...            NaN   \n",
       "2                                    Acanthus mollis  Acanthe molle   \n",
       "3                                    Acanthus mollis  Acanthe molle   \n",
       "4                                    Acanthus mollis  Acanthe molle   \n",
       "\n",
       "  plante_precision  plante_inconnue plante_caractere  \\\n",
       "0              NaN              0.0        spontanée   \n",
       "1              NaN              0.0        spontanée   \n",
       "2              NaN              NaN          plantée   \n",
       "3              NaN              NaN          plantée   \n",
       "4              NaN              NaN          plantée   \n",
       "\n",
       "                                         photo_fleur  \\\n",
       "0  https://spgp-api.65mo.fr/api/containers/spgp/d...   \n",
       "1  https://spgp-api.65mo.fr/api/containers/spgp/d...   \n",
       "2  https://spgp-api.65mo.fr/api/containers/spgp/d...   \n",
       "3  https://spgp-api.65mo.fr/api/containers/spgp/d...   \n",
       "4  https://spgp-api.65mo.fr/api/containers/spgp/d...   \n",
       "\n",
       "                                        photo_plante  ...  \\\n",
       "0  https://spgp-api.65mo.fr/api/containers/spgp/d...  ...   \n",
       "1  https://spgp-api.65mo.fr/api/containers/spgp/d...  ...   \n",
       "2  https://spgp-api.65mo.fr/api/containers/spgp/d...  ...   \n",
       "3  https://spgp-api.65mo.fr/api/containers/spgp/d...  ...   \n",
       "4  https://spgp-api.65mo.fr/api/containers/spgp/d...  ...   \n",
       "\n",
       "                                          insecte_fr  \\\n",
       "0                                L'Abeille mellifère   \n",
       "1  Les Bourdons noirs à bande(s) jaune(s) et cul ...   \n",
       "2  Les Bourdons noirs à bande(s) jaune(s) et cul ...   \n",
       "3                               Les Mouches à damier   \n",
       "4                                L'Abeille mellifère   \n",
       "\n",
       "  insecte_denominationPlusPrecise insecte_CdNomtaxref  \\\n",
       "0                             NaN                 NaN   \n",
       "1                             NaN                 NaN   \n",
       "2                             NaN                 NaN   \n",
       "3                             NaN                 NaN   \n",
       "4                             NaN                 NaN   \n",
       "\n",
       "           insecte_abondance insecte_commentaire insecte_vu_sur_fleur  \\\n",
       "0                  plus de 5                 NaN                  0.0   \n",
       "1                          1                 NaN                  0.0   \n",
       "2  je n'ai pas l'information                 NaN                  0.0   \n",
       "3               entre 2 et 5                 NaN                  0.0   \n",
       "4               entre 2 et 5                 NaN                  0.0   \n",
       "\n",
       "  nb_validation nb_suggestion   latitude  longitude  \n",
       "0           3.0           NaN  45.363808   6.514947  \n",
       "1           3.0           NaN  45.363808   6.514947  \n",
       "2           3.0           NaN  48.844975   2.358313  \n",
       "3           3.0           1.0  48.844975   2.358313  \n",
       "4           3.0           NaN  48.844975   2.358313  \n",
       "\n",
       "[5 rows x 31 columns]"
      ]
     },
     "execution_count": 62,
     "metadata": {},
     "output_type": "execute_result"
    }
   ],
   "source": [
    "spipoll_df.head()"
   ]
  },
  {
   "cell_type": "code",
   "execution_count": 45,
   "metadata": {},
   "outputs": [],
   "source": [
    "# extract year from date time pandas in collection_date\n",
    "\n",
    "spipoll_df[\"collection_date\"] = pd.to_datetime(spipoll_df[\"collection_date\"])"
   ]
  },
  {
   "cell_type": "code",
   "execution_count": 49,
   "metadata": {},
   "outputs": [
    {
     "data": {
      "text/plain": [
       "69176"
      ]
     },
     "execution_count": 49,
     "metadata": {},
     "output_type": "execute_result"
    }
   ],
   "source": [
    "# select only with year == 2010\n",
    "\n",
    "spipoll_2010_df = spipoll_df[spipoll_df[\"collection_date\"].dt.year != 2010]\n",
    "spipoll_2010_df = spipoll_df[spipoll_df[\"collection_date\"].dt.year != 2023]\n",
    "\n",
    "# count the number of collection_id\n",
    "\n",
    "spipoll_2010_df[\"collection_id\"].nunique()\n"
   ]
  },
  {
   "cell_type": "code",
   "execution_count": null,
   "metadata": {},
   "outputs": [],
   "source": []
  },
  {
   "cell_type": "markdown",
   "metadata": {},
   "source": [
    "Points:\n",
    "- données spipolls 2010 pour comparer les performances avec ou sans \n",
    "- Pas la même quantité de données"
   ]
  },
  {
   "cell_type": "code",
   "execution_count": null,
   "metadata": {},
   "outputs": [],
   "source": []
  }
 ],
 "metadata": {
  "kernelspec": {
   "display_name": "Python 3",
   "language": "python",
   "name": "python3"
  },
  "language_info": {
   "codemirror_mode": {
    "name": "ipython",
    "version": 3
   },
   "file_extension": ".py",
   "mimetype": "text/x-python",
   "name": "python",
   "nbconvert_exporter": "python",
   "pygments_lexer": "ipython3",
   "version": "3.0.0"
  }
 },
 "nbformat": 4,
 "nbformat_minor": 2
}
