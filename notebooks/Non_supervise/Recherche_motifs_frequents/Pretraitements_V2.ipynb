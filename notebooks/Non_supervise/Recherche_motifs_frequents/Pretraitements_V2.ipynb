{
 "cells": [
  {
   "cell_type": "markdown",
   "id": "6e585f2f-8cab-4b15-adae-4a1b5c827288",
   "metadata": {
    "tags": []
   },
   "source": [
    "# Prétraitements"
   ]
  },
  {
   "cell_type": "markdown",
   "id": "e5d4cc52-ec1a-40af-87e2-3f29c3f285b7",
   "metadata": {
    "tags": []
   },
   "source": [
    "## Chargement données"
   ]
  },
  {
   "cell_type": "code",
   "execution_count": 1,
   "id": "2823a4fd-b53a-49f0-93b9-f94a1eb9f011",
   "metadata": {
    "tags": []
   },
   "outputs": [],
   "source": [
    "import pandas as pd"
   ]
  },
  {
   "cell_type": "code",
   "execution_count": 2,
   "id": "5732f11e-22ae-4ba5-8e43-0b6b0e183aa9",
   "metadata": {
    "tags": []
   },
   "outputs": [
    {
     "name": "stderr",
     "output_type": "stream",
     "text": [
      "C:\\Users\\guilts0300\\AppData\\Local\\Temp\\ipykernel_21380\\304317065.py:1: DtypeWarning: Columns (7) have mixed types. Specify dtype option on import or set low_memory=False.\n",
      "  df = pd.read_csv(\"data_spipoll_suz.csv\")\n"
     ]
    }
   ],
   "source": [
    "df = pd.read_csv(\"data_spipoll_suz.csv\")"
   ]
  },
  {
   "cell_type": "code",
   "execution_count": 3,
   "id": "2499bc90-e65a-4fbd-8436-d612b65c58ef",
   "metadata": {
    "tags": []
   },
   "outputs": [],
   "source": [
    "df.drop(columns=['collection_id',\n",
    "       'plante_inconnue', 'plante_caractere', 'code_postal', 'collection_date',\n",
    "       'collection_heure_debut', 'fleur_ombre', \n",
    "       'insecte_abondance', 'nb_validation'], inplace=True)"
   ]
  },
  {
   "cell_type": "code",
   "execution_count": 4,
   "id": "49680e94-b0e1-469f-8c6d-d0cb64eb6118",
   "metadata": {
    "tags": []
   },
   "outputs": [
    {
     "data": {
      "text/plain": [
       "Index(['plante_sc', 'plante_fr', 'plante_precision', 'coordonnees_GPS',\n",
       "       'habitat', 'grande_culture', 'nebulosite', 'temperature', 'vent',\n",
       "       'insecte_sc', 'insecte_fr', 'insecte_denominationPlusPrecise',\n",
       "       'insecte_CdNomtaxref'],\n",
       "      dtype='object')"
      ]
     },
     "execution_count": 4,
     "metadata": {},
     "output_type": "execute_result"
    }
   ],
   "source": [
    "df.columns"
   ]
  },
  {
   "cell_type": "markdown",
   "id": "f63be343-a449-4259-88a8-b14fa09445b5",
   "metadata": {
    "tags": []
   },
   "source": [
    "## Coordonnées GPS"
   ]
  },
  {
   "cell_type": "code",
   "execution_count": 5,
   "id": "a054b0e4-4430-4f51-a3ff-dc512c71b8b7",
   "metadata": {
    "tags": []
   },
   "outputs": [
    {
     "data": {
      "text/plain": [
       "0              45.363808333333, 6.5149472222222\n",
       "1              45.363808333333, 6.5149472222222\n",
       "2          48.8449750844127, 2.3583129141479735\n",
       "3          48.8449750844127, 2.3583129141479735\n",
       "4          48.8449750844127, 2.3583129141479735\n",
       "                          ...                  \n",
       "675707    44.712617966266365, 4.568999226839301\n",
       "675708    44.712617966266365, 4.568999226839301\n",
       "675709    44.712617966266365, 4.568999226839301\n",
       "675710    44.712617966266365, 4.568999226839301\n",
       "675711    44.712617966266365, 4.568999226839301\n",
       "Name: coordonnees_GPS, Length: 675712, dtype: object"
      ]
     },
     "execution_count": 5,
     "metadata": {},
     "output_type": "execute_result"
    }
   ],
   "source": [
    "df['coordonnees_GPS']"
   ]
  },
  {
   "cell_type": "code",
   "execution_count": 6,
   "id": "101873bb-77d4-4238-8a4f-124f3adbb910",
   "metadata": {
    "tags": []
   },
   "outputs": [],
   "source": [
    "# Divisez la colonne 'coordonnées' en deux colonnes 'x' et 'y'\n",
    "df[['coordonnee_x', 'coordonnee_y']] = df['coordonnees_GPS'].str.split(',', expand=True).astype(float)"
   ]
  },
  {
   "cell_type": "code",
   "execution_count": 7,
   "id": "be97270f-72cf-4d15-9d8e-54947bc47e54",
   "metadata": {
    "tags": []
   },
   "outputs": [],
   "source": [
    "df.drop(columns='coordonnees_GPS', inplace=True)"
   ]
  },
  {
   "cell_type": "markdown",
   "id": "5a7351b1-3f57-4df5-9c48-9db39f91a650",
   "metadata": {
    "tags": []
   },
   "source": [
    "## Habitat"
   ]
  },
  {
   "cell_type": "markdown",
   "id": "7397daf0-d3cb-425d-9249-7dceade47d1d",
   "metadata": {},
   "source": [
    "Pour chacune des lignes de la colonne habitat, on crée autant de colonnes que d'habitats précisés.\n",
    "On obtient alors 6 colonnes habitats au total, avec pour chacune d'entre elle un seul habitat lorsque plusieurs étaient précisés dans la colonne initiale."
   ]
  },
  {
   "cell_type": "code",
   "execution_count": 8,
   "id": "698e1f0e-ffbf-4d78-ae0c-5bb832e680fa",
   "metadata": {
    "tags": []
   },
   "outputs": [],
   "source": [
    "# One hot encoding après création de nouvelles colonnes pour chacun des habitats spécifiés entre ','\n",
    "habitat_dummies = df['habitat'].str.get_dummies(',')\n",
    "\n",
    "# Concaténation les colonnes de dummies avec le DataFrame d'origine\n",
    "final_df=df.copy()\n",
    "final_df = pd.concat([df, habitat_dummies], axis=1)\n",
    "\n",
    "# Suppression de la colonne d'origine \"habitat\"\n",
    "final_df.drop(columns=['habitat'], inplace=True)"
   ]
  },
  {
   "cell_type": "code",
   "execution_count": 9,
   "id": "949b347a-aa7c-4388-8947-6da506148c25",
   "metadata": {
    "tags": []
   },
   "outputs": [
    {
     "data": {
      "text/plain": [
       "Index(['plante_sc', 'plante_fr', 'plante_precision', 'grande_culture',\n",
       "       'nebulosite', 'temperature', 'vent', 'insecte_sc', 'insecte_fr',\n",
       "       'insecte_denominationPlusPrecise', 'insecte_CdNomtaxref',\n",
       "       'coordonnee_x', 'coordonnee_y', 'bord de l'eau', 'bord de route',\n",
       "       'forêt', 'grande(s) culture(s)', 'jardin privé', 'littoral',\n",
       "       'parc ou jardin public', 'prairie', 'péri-urbain', 'rochers', 'rural',\n",
       "       'urbain'],\n",
       "      dtype='object')"
      ]
     },
     "execution_count": 9,
     "metadata": {},
     "output_type": "execute_result"
    }
   ],
   "source": [
    "final_df.columns"
   ]
  },
  {
   "cell_type": "code",
   "execution_count": 10,
   "id": "4de4ce88-e273-4cc5-9c4e-e2a94224b469",
   "metadata": {
    "tags": []
   },
   "outputs": [],
   "source": [
    "# Save the dataframe as a CSV file\n",
    "final_df.to_csv(\"./data_pretraitees_v2.csv\", index=False)"
   ]
  },
  {
   "cell_type": "markdown",
   "id": "77436a3e-4004-424e-af29-1f1c59a68706",
   "metadata": {
    "tags": []
   },
   "source": [
    "# Final df"
   ]
  },
  {
   "cell_type": "code",
   "execution_count": 11,
   "id": "c5d06ce2-7b37-4434-8c3c-54bdc824b96f",
   "metadata": {},
   "outputs": [],
   "source": [
    "df = pd.read_csv(\"data_pretraitees_v2.csv\")"
   ]
  },
  {
   "cell_type": "code",
   "execution_count": 12,
   "id": "e2884fb9-1a40-4318-ad3e-a18b443e6681",
   "metadata": {
    "tags": []
   },
   "outputs": [
    {
     "data": {
      "text/html": [
       "<div>\n",
       "<style scoped>\n",
       "    .dataframe tbody tr th:only-of-type {\n",
       "        vertical-align: middle;\n",
       "    }\n",
       "\n",
       "    .dataframe tbody tr th {\n",
       "        vertical-align: top;\n",
       "    }\n",
       "\n",
       "    .dataframe thead th {\n",
       "        text-align: right;\n",
       "    }\n",
       "</style>\n",
       "<table border=\"1\" class=\"dataframe\">\n",
       "  <thead>\n",
       "    <tr style=\"text-align: right;\">\n",
       "      <th></th>\n",
       "      <th>plante_sc</th>\n",
       "      <th>plante_fr</th>\n",
       "      <th>plante_precision</th>\n",
       "      <th>grande_culture</th>\n",
       "      <th>nebulosite</th>\n",
       "      <th>temperature</th>\n",
       "      <th>vent</th>\n",
       "      <th>insecte_sc</th>\n",
       "      <th>insecte_fr</th>\n",
       "      <th>insecte_denominationPlusPrecise</th>\n",
       "      <th>...</th>\n",
       "      <th>forêt</th>\n",
       "      <th>grande(s) culture(s)</th>\n",
       "      <th>jardin privé</th>\n",
       "      <th>littoral</th>\n",
       "      <th>parc ou jardin public</th>\n",
       "      <th>prairie</th>\n",
       "      <th>péri-urbain</th>\n",
       "      <th>rochers</th>\n",
       "      <th>rural</th>\n",
       "      <th>urbain</th>\n",
       "    </tr>\n",
       "  </thead>\n",
       "  <tbody>\n",
       "    <tr>\n",
       "      <th>0</th>\n",
       "      <td>Les Trèfles à fleurs blanches ou roses en boul...</td>\n",
       "      <td>NaN</td>\n",
       "      <td>NaN</td>\n",
       "      <td>Oui</td>\n",
       "      <td>0-25%</td>\n",
       "      <td>10-20ºC</td>\n",
       "      <td>faible, continu</td>\n",
       "      <td>Apis mellifera</td>\n",
       "      <td>L'Abeille mellifère</td>\n",
       "      <td>NaN</td>\n",
       "      <td>...</td>\n",
       "      <td>0</td>\n",
       "      <td>0</td>\n",
       "      <td>0</td>\n",
       "      <td>0</td>\n",
       "      <td>0</td>\n",
       "      <td>1</td>\n",
       "      <td>0</td>\n",
       "      <td>0</td>\n",
       "      <td>0</td>\n",
       "      <td>0</td>\n",
       "    </tr>\n",
       "    <tr>\n",
       "      <th>1</th>\n",
       "      <td>Les Trèfles à fleurs blanches ou roses en boul...</td>\n",
       "      <td>NaN</td>\n",
       "      <td>NaN</td>\n",
       "      <td>Oui</td>\n",
       "      <td>0-25%</td>\n",
       "      <td>10-20ºC</td>\n",
       "      <td>faible, continu</td>\n",
       "      <td>Bombus</td>\n",
       "      <td>Les Bourdons noirs à bande(s) jaune(s) et cul ...</td>\n",
       "      <td>NaN</td>\n",
       "      <td>...</td>\n",
       "      <td>0</td>\n",
       "      <td>0</td>\n",
       "      <td>0</td>\n",
       "      <td>0</td>\n",
       "      <td>0</td>\n",
       "      <td>1</td>\n",
       "      <td>0</td>\n",
       "      <td>0</td>\n",
       "      <td>0</td>\n",
       "      <td>0</td>\n",
       "    </tr>\n",
       "    <tr>\n",
       "      <th>2</th>\n",
       "      <td>Acanthus mollis</td>\n",
       "      <td>Acanthe molle</td>\n",
       "      <td>NaN</td>\n",
       "      <td>je ne sais pas</td>\n",
       "      <td>25-50%</td>\n",
       "      <td>20-30ºC</td>\n",
       "      <td>faible, irrégulier</td>\n",
       "      <td>Bombus</td>\n",
       "      <td>Les Bourdons noirs à bande(s) jaune(s) et cul ...</td>\n",
       "      <td>NaN</td>\n",
       "      <td>...</td>\n",
       "      <td>0</td>\n",
       "      <td>0</td>\n",
       "      <td>0</td>\n",
       "      <td>0</td>\n",
       "      <td>0</td>\n",
       "      <td>0</td>\n",
       "      <td>1</td>\n",
       "      <td>0</td>\n",
       "      <td>0</td>\n",
       "      <td>1</td>\n",
       "    </tr>\n",
       "    <tr>\n",
       "      <th>3</th>\n",
       "      <td>Acanthus mollis</td>\n",
       "      <td>Acanthe molle</td>\n",
       "      <td>NaN</td>\n",
       "      <td>je ne sais pas</td>\n",
       "      <td>25-50%</td>\n",
       "      <td>20-30ºC</td>\n",
       "      <td>faible, irrégulier</td>\n",
       "      <td>Sarcophaga</td>\n",
       "      <td>Les Mouches à damier</td>\n",
       "      <td>NaN</td>\n",
       "      <td>...</td>\n",
       "      <td>0</td>\n",
       "      <td>0</td>\n",
       "      <td>0</td>\n",
       "      <td>0</td>\n",
       "      <td>0</td>\n",
       "      <td>0</td>\n",
       "      <td>1</td>\n",
       "      <td>0</td>\n",
       "      <td>0</td>\n",
       "      <td>1</td>\n",
       "    </tr>\n",
       "    <tr>\n",
       "      <th>4</th>\n",
       "      <td>Acanthus mollis</td>\n",
       "      <td>Acanthe molle</td>\n",
       "      <td>NaN</td>\n",
       "      <td>je ne sais pas</td>\n",
       "      <td>25-50%</td>\n",
       "      <td>20-30ºC</td>\n",
       "      <td>faible, irrégulier</td>\n",
       "      <td>Apis mellifera</td>\n",
       "      <td>L'Abeille mellifère</td>\n",
       "      <td>NaN</td>\n",
       "      <td>...</td>\n",
       "      <td>0</td>\n",
       "      <td>0</td>\n",
       "      <td>0</td>\n",
       "      <td>0</td>\n",
       "      <td>0</td>\n",
       "      <td>0</td>\n",
       "      <td>1</td>\n",
       "      <td>0</td>\n",
       "      <td>0</td>\n",
       "      <td>1</td>\n",
       "    </tr>\n",
       "    <tr>\n",
       "      <th>...</th>\n",
       "      <td>...</td>\n",
       "      <td>...</td>\n",
       "      <td>...</td>\n",
       "      <td>...</td>\n",
       "      <td>...</td>\n",
       "      <td>...</td>\n",
       "      <td>...</td>\n",
       "      <td>...</td>\n",
       "      <td>...</td>\n",
       "      <td>...</td>\n",
       "      <td>...</td>\n",
       "      <td>...</td>\n",
       "      <td>...</td>\n",
       "      <td>...</td>\n",
       "      <td>...</td>\n",
       "      <td>...</td>\n",
       "      <td>...</td>\n",
       "      <td>...</td>\n",
       "      <td>...</td>\n",
       "      <td>...</td>\n",
       "      <td>...</td>\n",
       "    </tr>\n",
       "    <tr>\n",
       "      <th>675707</th>\n",
       "      <td>Succisa pratensis</td>\n",
       "      <td>Mors-du-diable</td>\n",
       "      <td>NaN</td>\n",
       "      <td>Non</td>\n",
       "      <td>50-75%</td>\n",
       "      <td>10-20ºC</td>\n",
       "      <td>faible, irrégulier</td>\n",
       "      <td>Thomisus</td>\n",
       "      <td>Les Araignées crabes Thomisus</td>\n",
       "      <td>NaN</td>\n",
       "      <td>...</td>\n",
       "      <td>0</td>\n",
       "      <td>0</td>\n",
       "      <td>0</td>\n",
       "      <td>0</td>\n",
       "      <td>0</td>\n",
       "      <td>1</td>\n",
       "      <td>0</td>\n",
       "      <td>0</td>\n",
       "      <td>1</td>\n",
       "      <td>0</td>\n",
       "    </tr>\n",
       "    <tr>\n",
       "      <th>675708</th>\n",
       "      <td>Succisa pratensis</td>\n",
       "      <td>Mors-du-diable</td>\n",
       "      <td>NaN</td>\n",
       "      <td>Non</td>\n",
       "      <td>50-75%</td>\n",
       "      <td>10-20ºC</td>\n",
       "      <td>faible, irrégulier</td>\n",
       "      <td>Bombus</td>\n",
       "      <td>Les Bourdons à pilosité fauve à grise</td>\n",
       "      <td>NaN</td>\n",
       "      <td>...</td>\n",
       "      <td>0</td>\n",
       "      <td>0</td>\n",
       "      <td>0</td>\n",
       "      <td>0</td>\n",
       "      <td>0</td>\n",
       "      <td>1</td>\n",
       "      <td>0</td>\n",
       "      <td>0</td>\n",
       "      <td>1</td>\n",
       "      <td>0</td>\n",
       "    </tr>\n",
       "    <tr>\n",
       "      <th>675709</th>\n",
       "      <td>Succisa pratensis</td>\n",
       "      <td>Mors-du-diable</td>\n",
       "      <td>NaN</td>\n",
       "      <td>Non</td>\n",
       "      <td>50-75%</td>\n",
       "      <td>10-20ºC</td>\n",
       "      <td>faible, irrégulier</td>\n",
       "      <td>Bombus</td>\n",
       "      <td>Les Bourdons noirs à bande(s) jaune(s) et cul ...</td>\n",
       "      <td>NaN</td>\n",
       "      <td>...</td>\n",
       "      <td>0</td>\n",
       "      <td>0</td>\n",
       "      <td>0</td>\n",
       "      <td>0</td>\n",
       "      <td>0</td>\n",
       "      <td>1</td>\n",
       "      <td>0</td>\n",
       "      <td>0</td>\n",
       "      <td>1</td>\n",
       "      <td>0</td>\n",
       "    </tr>\n",
       "    <tr>\n",
       "      <th>675710</th>\n",
       "      <td>Succisa pratensis</td>\n",
       "      <td>Mors-du-diable</td>\n",
       "      <td>NaN</td>\n",
       "      <td>Non</td>\n",
       "      <td>50-75%</td>\n",
       "      <td>10-20ºC</td>\n",
       "      <td>faible, irrégulier</td>\n",
       "      <td>Halictus, Lasioglossum et autres</td>\n",
       "      <td>Les Halictes (femelles)</td>\n",
       "      <td>NaN</td>\n",
       "      <td>...</td>\n",
       "      <td>0</td>\n",
       "      <td>0</td>\n",
       "      <td>0</td>\n",
       "      <td>0</td>\n",
       "      <td>0</td>\n",
       "      <td>1</td>\n",
       "      <td>0</td>\n",
       "      <td>0</td>\n",
       "      <td>1</td>\n",
       "      <td>0</td>\n",
       "    </tr>\n",
       "    <tr>\n",
       "      <th>675711</th>\n",
       "      <td>Succisa pratensis</td>\n",
       "      <td>Mors-du-diable</td>\n",
       "      <td>NaN</td>\n",
       "      <td>Non</td>\n",
       "      <td>50-75%</td>\n",
       "      <td>10-20ºC</td>\n",
       "      <td>faible, irrégulier</td>\n",
       "      <td>Lasiommata</td>\n",
       "      <td>Le Satyre et autres</td>\n",
       "      <td>Lasiommata megera</td>\n",
       "      <td>...</td>\n",
       "      <td>0</td>\n",
       "      <td>0</td>\n",
       "      <td>0</td>\n",
       "      <td>0</td>\n",
       "      <td>0</td>\n",
       "      <td>1</td>\n",
       "      <td>0</td>\n",
       "      <td>0</td>\n",
       "      <td>1</td>\n",
       "      <td>0</td>\n",
       "    </tr>\n",
       "  </tbody>\n",
       "</table>\n",
       "<p>675712 rows × 25 columns</p>\n",
       "</div>"
      ],
      "text/plain": [
       "                                                plante_sc       plante_fr  \\\n",
       "0       Les Trèfles à fleurs blanches ou roses en boul...             NaN   \n",
       "1       Les Trèfles à fleurs blanches ou roses en boul...             NaN   \n",
       "2                                         Acanthus mollis   Acanthe molle   \n",
       "3                                         Acanthus mollis   Acanthe molle   \n",
       "4                                         Acanthus mollis   Acanthe molle   \n",
       "...                                                   ...             ...   \n",
       "675707                                  Succisa pratensis  Mors-du-diable   \n",
       "675708                                  Succisa pratensis  Mors-du-diable   \n",
       "675709                                  Succisa pratensis  Mors-du-diable   \n",
       "675710                                  Succisa pratensis  Mors-du-diable   \n",
       "675711                                  Succisa pratensis  Mors-du-diable   \n",
       "\n",
       "       plante_precision  grande_culture nebulosite temperature  \\\n",
       "0                   NaN             Oui      0-25%     10-20ºC   \n",
       "1                   NaN             Oui      0-25%     10-20ºC   \n",
       "2                   NaN  je ne sais pas     25-50%     20-30ºC   \n",
       "3                   NaN  je ne sais pas     25-50%     20-30ºC   \n",
       "4                   NaN  je ne sais pas     25-50%     20-30ºC   \n",
       "...                 ...             ...        ...         ...   \n",
       "675707              NaN             Non     50-75%     10-20ºC   \n",
       "675708              NaN             Non     50-75%     10-20ºC   \n",
       "675709              NaN             Non     50-75%     10-20ºC   \n",
       "675710              NaN             Non     50-75%     10-20ºC   \n",
       "675711              NaN             Non     50-75%     10-20ºC   \n",
       "\n",
       "                      vent                        insecte_sc  \\\n",
       "0          faible, continu                    Apis mellifera   \n",
       "1          faible, continu                            Bombus   \n",
       "2       faible, irrégulier                            Bombus   \n",
       "3       faible, irrégulier                        Sarcophaga   \n",
       "4       faible, irrégulier                    Apis mellifera   \n",
       "...                    ...                               ...   \n",
       "675707  faible, irrégulier                          Thomisus   \n",
       "675708  faible, irrégulier                            Bombus   \n",
       "675709  faible, irrégulier                            Bombus   \n",
       "675710  faible, irrégulier  Halictus, Lasioglossum et autres   \n",
       "675711  faible, irrégulier                        Lasiommata   \n",
       "\n",
       "                                               insecte_fr  \\\n",
       "0                                     L'Abeille mellifère   \n",
       "1       Les Bourdons noirs à bande(s) jaune(s) et cul ...   \n",
       "2       Les Bourdons noirs à bande(s) jaune(s) et cul ...   \n",
       "3                                    Les Mouches à damier   \n",
       "4                                     L'Abeille mellifère   \n",
       "...                                                   ...   \n",
       "675707                      Les Araignées crabes Thomisus   \n",
       "675708              Les Bourdons à pilosité fauve à grise   \n",
       "675709  Les Bourdons noirs à bande(s) jaune(s) et cul ...   \n",
       "675710                            Les Halictes (femelles)   \n",
       "675711                                Le Satyre et autres   \n",
       "\n",
       "       insecte_denominationPlusPrecise  ... forêt  grande(s) culture(s)  \\\n",
       "0                                  NaN  ...     0                     0   \n",
       "1                                  NaN  ...     0                     0   \n",
       "2                                  NaN  ...     0                     0   \n",
       "3                                  NaN  ...     0                     0   \n",
       "4                                  NaN  ...     0                     0   \n",
       "...                                ...  ...   ...                   ...   \n",
       "675707                             NaN  ...     0                     0   \n",
       "675708                             NaN  ...     0                     0   \n",
       "675709                             NaN  ...     0                     0   \n",
       "675710                             NaN  ...     0                     0   \n",
       "675711               Lasiommata megera  ...     0                     0   \n",
       "\n",
       "        jardin privé  littoral  parc ou jardin public  prairie  péri-urbain  \\\n",
       "0                  0         0                      0        1            0   \n",
       "1                  0         0                      0        1            0   \n",
       "2                  0         0                      0        0            1   \n",
       "3                  0         0                      0        0            1   \n",
       "4                  0         0                      0        0            1   \n",
       "...              ...       ...                    ...      ...          ...   \n",
       "675707             0         0                      0        1            0   \n",
       "675708             0         0                      0        1            0   \n",
       "675709             0         0                      0        1            0   \n",
       "675710             0         0                      0        1            0   \n",
       "675711             0         0                      0        1            0   \n",
       "\n",
       "        rochers  rural  urbain  \n",
       "0             0      0       0  \n",
       "1             0      0       0  \n",
       "2             0      0       1  \n",
       "3             0      0       1  \n",
       "4             0      0       1  \n",
       "...         ...    ...     ...  \n",
       "675707        0      1       0  \n",
       "675708        0      1       0  \n",
       "675709        0      1       0  \n",
       "675710        0      1       0  \n",
       "675711        0      1       0  \n",
       "\n",
       "[675712 rows x 25 columns]"
      ]
     },
     "execution_count": 12,
     "metadata": {},
     "output_type": "execute_result"
    }
   ],
   "source": [
    "df"
   ]
  },
  {
   "cell_type": "code",
   "execution_count": null,
   "id": "95c08490-04ea-4f2c-a70b-ee29b1b234bd",
   "metadata": {},
   "outputs": [],
   "source": []
  }
 ],
 "metadata": {
  "kernelspec": {
   "display_name": "Python 3 (ipykernel)",
   "language": "python",
   "name": "python3"
  },
  "language_info": {
   "codemirror_mode": {
    "name": "ipython",
    "version": 3
   },
   "file_extension": ".py",
   "mimetype": "text/x-python",
   "name": "python",
   "nbconvert_exporter": "python",
   "pygments_lexer": "ipython3",
   "version": "3.11.4"
  }
 },
 "nbformat": 4,
 "nbformat_minor": 5
}
