{
 "cells": [
  {
   "cell_type": "markdown",
   "metadata": {},
   "source": [
    "<div class=\"alert alert-block alert-info\">\n",
    "⚠️All notebooks should start with the following cell ⚠️.\n",
    "<br>\n",
    "<br>\n",
    "This will ensure that the notebook is set in the correct working directory and that all internal modules can be loaded without setting an entry point.\n",
    "</div>"
   ]
  },
  {
   "cell_type": "code",
   "execution_count": 79,
   "metadata": {},
   "outputs": [
    {
     "name": "stdout",
     "output_type": "stream",
     "text": [
      "Former working directory:  /Users/ambroisebertin/Desktop/prog/prog_abeilles/fil-rouge-pollinisateurs\n",
      "Current working directory:  /Users/ambroisebertin/Desktop/prog/prog_abeilles/fil-rouge-pollinisateurs\n",
      "The autoreload extension is already loaded. To reload it, use:\n",
      "  %reload_ext autoreload\n"
     ]
    }
   ],
   "source": [
    "from utils import setup_env_path\n",
    "\n",
    "setup_env_path()\n",
    "\n",
    "%load_ext autoreload\n",
    "%autoreload 2"
   ]
  },
  {
   "cell_type": "markdown",
   "metadata": {},
   "source": [
    "<div class=\"alert alert-block alert-danger\">\n",
    "Put your API key in the following cell.<br><br>\n",
    "⚠️But DO NOT commit it to the repository, as it is a secret.⚠️\n",
    "</div>"
   ]
  },
  {
   "cell_type": "code",
   "execution_count": 80,
   "metadata": {},
   "outputs": [],
   "source": [
    "API_keys = [\n",
    "    \"2b10Me1HF0rfjoGWCseolNa8e\",\n",
    "    \"2b10Xs7brWPuBdRTSeWx9V7HJu\",\n",
    "    \"2b10umm8L2jTYjlWrJKPfshJ0O\",\n",
    "    \"2b10sEg5pSsrtVT372XqlrzcLe\",\n",
    "    \"2b10LDWWlXJwuS6FleaqfK6Rke\",\n",
    "]"
   ]
  },
  {
   "cell_type": "markdown",
   "metadata": {},
   "source": [
    "# Plantnet use case - Data quality"
   ]
  },
  {
   "cell_type": "markdown",
   "metadata": {},
   "source": [
    "## Data import "
   ]
  },
  {
   "cell_type": "code",
   "execution_count": 81,
   "metadata": {},
   "outputs": [],
   "source": [
    "import pandas as pd\n",
    "import numpy as np\n",
    "import matplotlib.pyplot as plt\n",
    "import seaborn as sns"
   ]
  },
  {
   "cell_type": "code",
   "execution_count": 139,
   "metadata": {},
   "outputs": [
    {
     "name": "stderr",
     "output_type": "stream",
     "text": [
      "/var/folders/cj/gd9mq5b53w51g6wvzmjj8ymr0000gn/T/ipykernel_67237/1749804913.py:1: DtypeWarning: Columns (11) have mixed types. Specify dtype option on import or set low_memory=False.\n",
      "  df = pd.read_csv('data/spipoll.csv')\n"
     ]
    }
   ],
   "source": [
    "df = pd.read_csv('data/spipoll.csv')"
   ]
  },
  {
   "cell_type": "markdown",
   "metadata": {},
   "source": [
    "## Data aggregation"
   ]
  },
  {
   "cell_type": "code",
   "execution_count": 140,
   "metadata": {},
   "outputs": [
    {
     "data": {
      "text/plain": [
       "(18249, 31)"
      ]
     },
     "execution_count": 140,
     "metadata": {},
     "output_type": "execute_result"
    }
   ],
   "source": [
    "values_to_check = [\"Je ne sais pas\", \"Plante inconnue\"]\n",
    "\n",
    "\n",
    "df_filtered = df.loc[\n",
    "    (\n",
    "        (df[\"plante_sc\"].isna() | df[\"plante_sc\"].isin(values_to_check))\n",
    "        & (df[\"plante_fr\"].isna() | df[\"plante_fr\"].isin(values_to_check))\n",
    "        & (df[\"plante_precision\"].isna() | df[\"plante_precision\"].isin(values_to_check))\n",
    "    )\n",
    "    | ((df[\"plante_inconnue\"] == 1.0))\n",
    "]\n",
    "df_filtered.shape"
   ]
  },
  {
   "cell_type": "code",
   "execution_count": 141,
   "metadata": {},
   "outputs": [
    {
     "name": "stdout",
     "output_type": "stream",
     "text": [
      "2.72 % of the data is missing all plant information\n"
     ]
    }
   ],
   "source": [
    "# group by collection_id and count the number of rows\n",
    "missing_plants = (df_filtered\n",
    "                    .drop_duplicates(subset='collection_id', keep='first')\n",
    "                    )\n",
    "missing_plants.shape\n",
    "print(f\"{(df_filtered.shape[0]/df.shape[0]*100):.2f} % of the data is missing all plant information\")"
   ]
  },
  {
   "cell_type": "code",
   "execution_count": 142,
   "metadata": {},
   "outputs": [
    {
     "data": {
      "text/plain": [
       "(2544, 31)"
      ]
     },
     "execution_count": 142,
     "metadata": {},
     "output_type": "execute_result"
    }
   ],
   "source": [
    "missing_plants.shape"
   ]
  },
  {
   "cell_type": "markdown",
   "metadata": {},
   "source": [
    "## Get data from API"
   ]
  },
  {
   "cell_type": "code",
   "execution_count": 143,
   "metadata": {},
   "outputs": [],
   "source": [
    "from data_quality.plant_treatment.plantnet_api import PlantNetPredictor\n",
    "predictor = PlantNetPredictor(key=API_keys[0])"
   ]
  },
  {
   "cell_type": "code",
   "execution_count": 144,
   "metadata": {},
   "outputs": [
    {
     "data": {
      "text/plain": [
       "'https://spgp-api.65mo.fr/api/containers/spgp/download/1546962826333.jpg'"
      ]
     },
     "execution_count": 144,
     "metadata": {},
     "output_type": "execute_result"
    }
   ],
   "source": [
    "missing_plants['photo_fleur'].iloc[0]"
   ]
  },
  {
   "cell_type": "code",
   "execution_count": 145,
   "metadata": {},
   "outputs": [
    {
     "data": {
      "text/html": [
       "<div>\n",
       "<style scoped>\n",
       "    .dataframe tbody tr th:only-of-type {\n",
       "        vertical-align: middle;\n",
       "    }\n",
       "\n",
       "    .dataframe tbody tr th {\n",
       "        vertical-align: top;\n",
       "    }\n",
       "\n",
       "    .dataframe thead th {\n",
       "        text-align: right;\n",
       "    }\n",
       "</style>\n",
       "<table border=\"1\" class=\"dataframe\">\n",
       "  <thead>\n",
       "    <tr style=\"text-align: right;\">\n",
       "      <th></th>\n",
       "      <th>collection_id</th>\n",
       "      <th>protocole_long</th>\n",
       "      <th>user_id</th>\n",
       "      <th>plante_sc</th>\n",
       "      <th>plante_fr</th>\n",
       "      <th>plante_precision</th>\n",
       "      <th>plante_inconnue</th>\n",
       "      <th>plante_caractere</th>\n",
       "      <th>photo_fleur</th>\n",
       "      <th>photo_plante</th>\n",
       "      <th>...</th>\n",
       "      <th>insecte_fr</th>\n",
       "      <th>insecte_denominationPlusPrecise</th>\n",
       "      <th>insecte_CdNomtaxref</th>\n",
       "      <th>insecte_abondance</th>\n",
       "      <th>insecte_commentaire</th>\n",
       "      <th>insecte_vu_sur_fleur</th>\n",
       "      <th>nb_validation</th>\n",
       "      <th>nb_suggestion</th>\n",
       "      <th>latitude</th>\n",
       "      <th>longitude</th>\n",
       "    </tr>\n",
       "  </thead>\n",
       "  <tbody>\n",
       "    <tr>\n",
       "      <th>46</th>\n",
       "      <td>14</td>\n",
       "      <td>NaN</td>\n",
       "      <td>11 784</td>\n",
       "      <td>Plante inconnue</td>\n",
       "      <td>NaN</td>\n",
       "      <td>NaN</td>\n",
       "      <td>0.0</td>\n",
       "      <td>spontanée</td>\n",
       "      <td>https://spgp-api.65mo.fr/api/containers/spgp/d...</td>\n",
       "      <td>https://spgp-api.65mo.fr/api/containers/spgp/d...</td>\n",
       "      <td>...</td>\n",
       "      <td>Les Mouches difficiles à déterminer</td>\n",
       "      <td>NaN</td>\n",
       "      <td>NaN</td>\n",
       "      <td>1</td>\n",
       "      <td>NaN</td>\n",
       "      <td>0.0</td>\n",
       "      <td>3.0</td>\n",
       "      <td>NaN</td>\n",
       "      <td>44.694536</td>\n",
       "      <td>4.662742</td>\n",
       "    </tr>\n",
       "    <tr>\n",
       "      <th>364</th>\n",
       "      <td>117</td>\n",
       "      <td>NaN</td>\n",
       "      <td>11 784</td>\n",
       "      <td>Plante inconnue</td>\n",
       "      <td>NaN</td>\n",
       "      <td>NaN</td>\n",
       "      <td>0.0</td>\n",
       "      <td>plantée</td>\n",
       "      <td>https://spgp-api.65mo.fr/api/containers/spgp/d...</td>\n",
       "      <td>https://spgp-api.65mo.fr/api/containers/spgp/d...</td>\n",
       "      <td>...</td>\n",
       "      <td>Les Mouches aux reflets métalliques</td>\n",
       "      <td>NaN</td>\n",
       "      <td>NaN</td>\n",
       "      <td>1</td>\n",
       "      <td>NaN</td>\n",
       "      <td>0.0</td>\n",
       "      <td>3.0</td>\n",
       "      <td>NaN</td>\n",
       "      <td>44.729200</td>\n",
       "      <td>4.574164</td>\n",
       "    </tr>\n",
       "    <tr>\n",
       "      <th>574</th>\n",
       "      <td>177</td>\n",
       "      <td>NaN</td>\n",
       "      <td>11 784</td>\n",
       "      <td>Plante inconnue</td>\n",
       "      <td>NaN</td>\n",
       "      <td>NaN</td>\n",
       "      <td>0.0</td>\n",
       "      <td>spontanée</td>\n",
       "      <td>https://spgp-api.65mo.fr/api/containers/spgp/d...</td>\n",
       "      <td>https://spgp-api.65mo.fr/api/containers/spgp/d...</td>\n",
       "      <td>...</td>\n",
       "      <td>Les Mouches difficiles à déterminer</td>\n",
       "      <td>NaN</td>\n",
       "      <td>NaN</td>\n",
       "      <td>1</td>\n",
       "      <td>NaN</td>\n",
       "      <td>0.0</td>\n",
       "      <td>3.0</td>\n",
       "      <td>NaN</td>\n",
       "      <td>44.719394</td>\n",
       "      <td>4.598397</td>\n",
       "    </tr>\n",
       "    <tr>\n",
       "      <th>730</th>\n",
       "      <td>215</td>\n",
       "      <td>NaN</td>\n",
       "      <td>8 868</td>\n",
       "      <td>NaN</td>\n",
       "      <td>NaN</td>\n",
       "      <td>NaN</td>\n",
       "      <td>1.0</td>\n",
       "      <td>spontanée</td>\n",
       "      <td>https://spgp-api.65mo.fr/api/containers/spgp/d...</td>\n",
       "      <td>https://spgp-api.65mo.fr/api/containers/spgp/d...</td>\n",
       "      <td>...</td>\n",
       "      <td>L'Abeille mellifère</td>\n",
       "      <td>NaN</td>\n",
       "      <td>NaN</td>\n",
       "      <td>1</td>\n",
       "      <td>NaN</td>\n",
       "      <td>0.0</td>\n",
       "      <td>3.0</td>\n",
       "      <td>NaN</td>\n",
       "      <td>42.674231</td>\n",
       "      <td>9.291175</td>\n",
       "    </tr>\n",
       "    <tr>\n",
       "      <th>731</th>\n",
       "      <td>216</td>\n",
       "      <td>NaN</td>\n",
       "      <td>8 868</td>\n",
       "      <td>NaN</td>\n",
       "      <td>NaN</td>\n",
       "      <td>NaN</td>\n",
       "      <td>1.0</td>\n",
       "      <td>spontanée</td>\n",
       "      <td>https://spgp-api.65mo.fr/api/containers/spgp/d...</td>\n",
       "      <td>https://spgp-api.65mo.fr/api/containers/spgp/d...</td>\n",
       "      <td>...</td>\n",
       "      <td>L'Abeille mellifère</td>\n",
       "      <td>NaN</td>\n",
       "      <td>NaN</td>\n",
       "      <td>1</td>\n",
       "      <td>NaN</td>\n",
       "      <td>0.0</td>\n",
       "      <td>3.0</td>\n",
       "      <td>NaN</td>\n",
       "      <td>42.674242</td>\n",
       "      <td>9.291344</td>\n",
       "    </tr>\n",
       "  </tbody>\n",
       "</table>\n",
       "<p>5 rows × 31 columns</p>\n",
       "</div>"
      ],
      "text/plain": [
       "    collection_id  protocole_long user_id        plante_sc plante_fr  \\\n",
       "46             14             NaN  11 784  Plante inconnue       NaN   \n",
       "364           117             NaN  11 784  Plante inconnue       NaN   \n",
       "574           177             NaN  11 784  Plante inconnue       NaN   \n",
       "730           215             NaN   8 868              NaN       NaN   \n",
       "731           216             NaN   8 868              NaN       NaN   \n",
       "\n",
       "    plante_precision  plante_inconnue plante_caractere  \\\n",
       "46               NaN              0.0        spontanée   \n",
       "364              NaN              0.0          plantée   \n",
       "574              NaN              0.0        spontanée   \n",
       "730              NaN              1.0        spontanée   \n",
       "731              NaN              1.0        spontanée   \n",
       "\n",
       "                                           photo_fleur  \\\n",
       "46   https://spgp-api.65mo.fr/api/containers/spgp/d...   \n",
       "364  https://spgp-api.65mo.fr/api/containers/spgp/d...   \n",
       "574  https://spgp-api.65mo.fr/api/containers/spgp/d...   \n",
       "730  https://spgp-api.65mo.fr/api/containers/spgp/d...   \n",
       "731  https://spgp-api.65mo.fr/api/containers/spgp/d...   \n",
       "\n",
       "                                          photo_plante  ...  \\\n",
       "46   https://spgp-api.65mo.fr/api/containers/spgp/d...  ...   \n",
       "364  https://spgp-api.65mo.fr/api/containers/spgp/d...  ...   \n",
       "574  https://spgp-api.65mo.fr/api/containers/spgp/d...  ...   \n",
       "730  https://spgp-api.65mo.fr/api/containers/spgp/d...  ...   \n",
       "731  https://spgp-api.65mo.fr/api/containers/spgp/d...  ...   \n",
       "\n",
       "                              insecte_fr insecte_denominationPlusPrecise  \\\n",
       "46   Les Mouches difficiles à déterminer                             NaN   \n",
       "364  Les Mouches aux reflets métalliques                             NaN   \n",
       "574  Les Mouches difficiles à déterminer                             NaN   \n",
       "730                  L'Abeille mellifère                             NaN   \n",
       "731                  L'Abeille mellifère                             NaN   \n",
       "\n",
       "    insecte_CdNomtaxref insecte_abondance insecte_commentaire  \\\n",
       "46                  NaN                 1                 NaN   \n",
       "364                 NaN                 1                 NaN   \n",
       "574                 NaN                 1                 NaN   \n",
       "730                 NaN                 1                 NaN   \n",
       "731                 NaN                 1                 NaN   \n",
       "\n",
       "    insecte_vu_sur_fleur nb_validation nb_suggestion   latitude  longitude  \n",
       "46                   0.0           3.0           NaN  44.694536   4.662742  \n",
       "364                  0.0           3.0           NaN  44.729200   4.574164  \n",
       "574                  0.0           3.0           NaN  44.719394   4.598397  \n",
       "730                  0.0           3.0           NaN  42.674231   9.291175  \n",
       "731                  0.0           3.0           NaN  42.674242   9.291344  \n",
       "\n",
       "[5 rows x 31 columns]"
      ]
     },
     "execution_count": 145,
     "metadata": {},
     "output_type": "execute_result"
    }
   ],
   "source": [
    "missing_plants.head()"
   ]
  },
  {
   "cell_type": "code",
   "execution_count": 146,
   "metadata": {},
   "outputs": [],
   "source": [
    "from data_quality.plant_treatment.plantnet_api import PlantNetPredictor\n",
    "\n",
    "predictor = PlantNetPredictor(key = API_keys[0])\n",
    "prediction = None\n",
    "\n",
    "try:\n",
    "    prediction = predictor.predict(imageURL= missing_plants['photo_fleur'].iloc[-1], \n",
    "                    organs = \"auto\",\n",
    "                    includeRelatedImages=False)\n",
    "except Exception as e:\n",
    "    print(f\"Error: {e}\")"
   ]
  },
  {
   "cell_type": "code",
   "execution_count": 147,
   "metadata": {},
   "outputs": [
    {
     "data": {
      "text/plain": [
       "'Asteraceae'"
      ]
     },
     "execution_count": 147,
     "metadata": {},
     "output_type": "execute_result"
    }
   ],
   "source": [
    "prediction[\"results\"][0][\"species\"][\"family\"][\"scientificNameWithoutAuthor\"]"
   ]
  },
  {
   "cell_type": "markdown",
   "metadata": {},
   "source": [
    "rappel : ordre > famille > genre > espèce\n",
    "\n",
    "nous en plus général on veut la famille 'family' ici exemple Asteraceae \n",
    "nous en plus précis on veut le genre voire l'espèce (ici 'scientificNameWithoutAuthor')\n",
    "\n",
    "ccl : on récupère 'family' > 'genus' > 'scientificNameWithoutAuthor'"
   ]
  },
  {
   "cell_type": "code",
   "execution_count": 148,
   "metadata": {},
   "outputs": [
    {
     "data": {
      "text/plain": [
       "{'scientificNameWithoutAuthor': 'Tolpis virgata',\n",
       " 'scientificNameAuthorship': 'Bertol.',\n",
       " 'genus': {'scientificNameWithoutAuthor': 'Tolpis',\n",
       "  'scientificNameAuthorship': 'Adanson',\n",
       "  'scientificName': 'Tolpis Adanson'},\n",
       " 'family': {'scientificNameWithoutAuthor': 'Asteraceae',\n",
       "  'scientificNameAuthorship': '',\n",
       "  'scientificName': 'Asteraceae'},\n",
       " 'commonNames': ['Trépane effilée'],\n",
       " 'scientificName': 'Tolpis virgata Bertol.'}"
      ]
     },
     "execution_count": 148,
     "metadata": {},
     "output_type": "execute_result"
    }
   ],
   "source": [
    "prediction[\"results\"][0][\"species\"]"
   ]
  },
  {
   "cell_type": "code",
   "execution_count": 149,
   "metadata": {},
   "outputs": [
    {
     "data": {
      "text/plain": [
       "{'query': {'project': 'weurope',\n",
       "  'images': ['https://spgp-api.65mo.fr/api/containers/spgp/download/65a9ef74-7840-451b-bd93-8677a52adcd7.jpg'],\n",
       "  'organs': ['auto'],\n",
       "  'includeRelatedImages': False,\n",
       "  'noReject': False},\n",
       " 'language': 'fr',\n",
       " 'preferedReferential': 'weurope',\n",
       " 'results': [{'score': 0.14201,\n",
       "   'species': {'scientificNameWithoutAuthor': 'Tolpis virgata',\n",
       "    'scientificNameAuthorship': 'Bertol.',\n",
       "    'genus': {'scientificNameWithoutAuthor': 'Tolpis',\n",
       "     'scientificNameAuthorship': 'Adanson',\n",
       "     'scientificName': 'Tolpis Adanson'},\n",
       "    'family': {'scientificNameWithoutAuthor': 'Asteraceae',\n",
       "     'scientificNameAuthorship': '',\n",
       "     'scientificName': 'Asteraceae'},\n",
       "    'commonNames': ['Trépane effilée'],\n",
       "    'scientificName': 'Tolpis virgata Bertol.'},\n",
       "   'gbif': {'id': '3097191'}},\n",
       "  {'score': 0.1416,\n",
       "   'species': {'scientificNameWithoutAuthor': 'Crepis micrantha',\n",
       "    'scientificNameAuthorship': 'Czerep.',\n",
       "    'genus': {'scientificNameWithoutAuthor': 'Crepis',\n",
       "     'scientificNameAuthorship': 'L.',\n",
       "     'scientificName': 'Crepis L.'},\n",
       "    'family': {'scientificNameWithoutAuthor': 'Asteraceae',\n",
       "     'scientificNameAuthorship': '',\n",
       "     'scientificName': 'Asteraceae'},\n",
       "    'commonNames': ['Crépide à petites fleurs',\n",
       "     'Crépis à petites fleurs',\n",
       "     'Crépide'],\n",
       "    'scientificName': 'Crepis micrantha Czerep.'},\n",
       "   'gbif': {'id': '5403290'},\n",
       "   'powo': {'id': '200052-1'}},\n",
       "  {'score': 0.04878,\n",
       "   'species': {'scientificNameWithoutAuthor': 'Crepis tectorum',\n",
       "    'scientificNameAuthorship': 'L.',\n",
       "    'genus': {'scientificNameWithoutAuthor': 'Crepis',\n",
       "     'scientificNameAuthorship': 'L.',\n",
       "     'scientificName': 'Crepis L.'},\n",
       "    'family': {'scientificNameWithoutAuthor': 'Asteraceae',\n",
       "     'scientificNameAuthorship': '',\n",
       "     'scientificName': 'Asteraceae'},\n",
       "    'commonNames': ['Crépide des toits',\n",
       "     'Crépis des toits',\n",
       "     'Crépis des troits'],\n",
       "    'scientificName': 'Crepis tectorum L.'},\n",
       "   'gbif': {'id': '5403508'},\n",
       "   'powo': {'id': '200321-1'}},\n",
       "  {'score': 0.02209,\n",
       "   'species': {'scientificNameWithoutAuthor': 'Crepis capillaris',\n",
       "    'scientificNameAuthorship': '(L.) Wallr.',\n",
       "    'genus': {'scientificNameWithoutAuthor': 'Crepis',\n",
       "     'scientificNameAuthorship': 'L.',\n",
       "     'scientificName': 'Crepis L.'},\n",
       "    'family': {'scientificNameWithoutAuthor': 'Asteraceae',\n",
       "     'scientificNameAuthorship': '',\n",
       "     'scientificName': 'Asteraceae'},\n",
       "    'commonNames': ['Crépide capillaire',\n",
       "     'Crépide à tiges capillaires',\n",
       "     'Crépide verdâtre'],\n",
       "    'scientificName': 'Crepis capillaris (L.) Wallr.'},\n",
       "   'gbif': {'id': '5403304'},\n",
       "   'powo': {'id': '199753-1'}},\n",
       "  {'score': 0.01555,\n",
       "   'species': {'scientificNameWithoutAuthor': 'Picris pauciflora',\n",
       "    'scientificNameAuthorship': 'Willd.',\n",
       "    'genus': {'scientificNameWithoutAuthor': 'Picris',\n",
       "     'scientificNameAuthorship': 'L.',\n",
       "     'scientificName': 'Picris L.'},\n",
       "    'family': {'scientificNameWithoutAuthor': 'Asteraceae',\n",
       "     'scientificNameAuthorship': '',\n",
       "     'scientificName': 'Asteraceae'},\n",
       "    'commonNames': ['Picride à fleurs peu nombreuses',\n",
       "     'Picris à fleurs peu nombreuses',\n",
       "     'Picride pauciflore'],\n",
       "    'scientificName': 'Picris pauciflora Willd.'},\n",
       "   'gbif': {'id': '3093309'},\n",
       "   'powo': {'id': '237894-1'}},\n",
       "  {'score': 0.01103,\n",
       "   'species': {'scientificNameWithoutAuthor': 'Tolpis succulenta',\n",
       "    'scientificNameAuthorship': 'Lowe',\n",
       "    'genus': {'scientificNameWithoutAuthor': 'Tolpis',\n",
       "     'scientificNameAuthorship': 'Adanson',\n",
       "     'scientificName': 'Tolpis Adanson'},\n",
       "    'family': {'scientificNameWithoutAuthor': 'Asteraceae',\n",
       "     'scientificNameAuthorship': '',\n",
       "     'scientificName': 'Asteraceae'},\n",
       "    'commonNames': [],\n",
       "    'scientificName': 'Tolpis succulenta Lowe'},\n",
       "   'gbif': {'id': '3097207'}},\n",
       "  {'score': 0.0096,\n",
       "   'species': {'scientificNameWithoutAuthor': 'Crepis bursifolia',\n",
       "    'scientificNameAuthorship': 'L.',\n",
       "    'genus': {'scientificNameWithoutAuthor': 'Crepis',\n",
       "     'scientificNameAuthorship': 'L.',\n",
       "     'scientificName': 'Crepis L.'},\n",
       "    'family': {'scientificNameWithoutAuthor': 'Asteraceae',\n",
       "     'scientificNameAuthorship': '',\n",
       "     'scientificName': 'Asteraceae'},\n",
       "    'commonNames': ['Fausse bourse à pasteur',\n",
       "     'Crépide à feuilles de capselle',\n",
       "     'Crépis à feuilles de capselle'],\n",
       "    'scientificName': 'Crepis bursifolia L.'},\n",
       "   'gbif': {'id': '5403541'},\n",
       "   'powo': {'id': '199744-1'}},\n",
       "  {'score': 0.00748,\n",
       "   'species': {'scientificNameWithoutAuthor': 'Launaea nudicaulis',\n",
       "    'scientificNameAuthorship': 'Hook.f.',\n",
       "    'genus': {'scientificNameWithoutAuthor': 'Launaea',\n",
       "     'scientificNameAuthorship': '',\n",
       "     'scientificName': 'Launaea'},\n",
       "    'family': {'scientificNameWithoutAuthor': 'Asteraceae',\n",
       "     'scientificNameAuthorship': '',\n",
       "     'scientificName': 'Asteraceae'},\n",
       "    'commonNames': [],\n",
       "    'scientificName': 'Launaea nudicaulis Hook.f.'},\n",
       "   'gbif': {'id': '3144742'}},\n",
       "  {'score': 0.00525,\n",
       "   'species': {'scientificNameWithoutAuthor': 'Crepis suffreniana',\n",
       "    'scientificNameAuthorship': '(DC.) J.Lloyd',\n",
       "    'genus': {'scientificNameWithoutAuthor': 'Crepis',\n",
       "     'scientificNameAuthorship': 'L.',\n",
       "     'scientificName': 'Crepis L.'},\n",
       "    'family': {'scientificNameWithoutAuthor': 'Asteraceae',\n",
       "     'scientificNameAuthorship': '',\n",
       "     'scientificName': 'Asteraceae'},\n",
       "    'commonNames': ['Crépide de Suffren', 'Crépis de Suffren'],\n",
       "    'scientificName': 'Crepis suffreniana (DC.) J.Lloyd'},\n",
       "   'gbif': {'id': '8312801'}},\n",
       "  {'score': 0.00446,\n",
       "   'species': {'scientificNameWithoutAuthor': 'Lactuca serriola',\n",
       "    'scientificNameAuthorship': 'L.',\n",
       "    'genus': {'scientificNameWithoutAuthor': 'Lactuca',\n",
       "     'scientificNameAuthorship': 'L.',\n",
       "     'scientificName': 'Lactuca L.'},\n",
       "    'family': {'scientificNameWithoutAuthor': 'Asteraceae',\n",
       "     'scientificNameAuthorship': '',\n",
       "     'scientificName': 'Asteraceae'},\n",
       "    'commonNames': ['Laitue sauvage', 'Laitue vireuse', 'Laitue scariole'],\n",
       "    'scientificName': 'Lactuca serriola L.'},\n",
       "   'gbif': {'id': '3140490'},\n",
       "   'powo': {'id': '228255-1'}},\n",
       "  {'score': 0.00434,\n",
       "   'species': {'scientificNameWithoutAuthor': 'Picris hieracioides',\n",
       "    'scientificNameAuthorship': 'L.',\n",
       "    'genus': {'scientificNameWithoutAuthor': 'Picris',\n",
       "     'scientificNameAuthorship': 'L.',\n",
       "     'scientificName': 'Picris L.'},\n",
       "    'family': {'scientificNameWithoutAuthor': 'Asteraceae',\n",
       "     'scientificNameAuthorship': '',\n",
       "     'scientificName': 'Asteraceae'},\n",
       "    'commonNames': ['Picride fausse épervière',\n",
       "     'Picris fausse épervière',\n",
       "     'Herbe aux vermisseaux'],\n",
       "    'scientificName': 'Picris hieracioides L.'},\n",
       "   'gbif': {'id': '3093337'},\n",
       "   'powo': {'id': '237848-1'}},\n",
       "  {'score': 0.00369,\n",
       "   'species': {'scientificNameWithoutAuthor': 'Crepis bellidifolia',\n",
       "    'scientificNameAuthorship': 'Loisel.',\n",
       "    'genus': {'scientificNameWithoutAuthor': 'Crepis',\n",
       "     'scientificNameAuthorship': 'L.',\n",
       "     'scientificName': 'Crepis L.'},\n",
       "    'family': {'scientificNameWithoutAuthor': 'Asteraceae',\n",
       "     'scientificNameAuthorship': '',\n",
       "     'scientificName': 'Asteraceae'},\n",
       "    'commonNames': ['Crépis à feuilles de pâquerette',\n",
       "     'Crépide à feuilles de pâquerette'],\n",
       "    'scientificName': 'Crepis bellidifolia Loisel.'},\n",
       "   'gbif': {'id': '7455538'},\n",
       "   'powo': {'id': '199709-1'}},\n",
       "  {'score': 0.00296,\n",
       "   'species': {'scientificNameWithoutAuthor': 'Reichardia picroides',\n",
       "    'scientificNameAuthorship': '(L.) Roth',\n",
       "    'genus': {'scientificNameWithoutAuthor': 'Reichardia',\n",
       "     'scientificNameAuthorship': 'Roth',\n",
       "     'scientificName': 'Reichardia Roth'},\n",
       "    'family': {'scientificNameWithoutAuthor': 'Asteraceae',\n",
       "     'scientificNameAuthorship': '',\n",
       "     'scientificName': 'Asteraceae'},\n",
       "    'commonNames': ['Cousteline', 'Reichardie', 'Reichardie faux picris'],\n",
       "    'scientificName': 'Reichardia picroides (L.) Roth'},\n",
       "   'gbif': {'id': '5385655'},\n",
       "   'powo': {'id': '241243-1'}},\n",
       "  {'score': 0.00282,\n",
       "   'species': {'scientificNameWithoutAuthor': 'Crepis setosa',\n",
       "    'scientificNameAuthorship': 'Haller f.',\n",
       "    'genus': {'scientificNameWithoutAuthor': 'Crepis',\n",
       "     'scientificNameAuthorship': 'L.',\n",
       "     'scientificName': 'Crepis L.'},\n",
       "    'family': {'scientificNameWithoutAuthor': 'Asteraceae',\n",
       "     'scientificNameAuthorship': '',\n",
       "     'scientificName': 'Asteraceae'},\n",
       "    'commonNames': ['Crépide hérissée',\n",
       "     'Crépis hérissé',\n",
       "     'Crépide hérissée de soies'],\n",
       "    'scientificName': 'Crepis setosa Haller f.'},\n",
       "   'gbif': {'id': '4245384'},\n",
       "   'powo': {'id': '200258-1'}},\n",
       "  {'score': 0.00261,\n",
       "   'species': {'scientificNameWithoutAuthor': 'Andryala glandulosa',\n",
       "    'scientificNameAuthorship': 'Lam.',\n",
       "    'genus': {'scientificNameWithoutAuthor': 'Andryala',\n",
       "     'scientificNameAuthorship': 'L.',\n",
       "     'scientificName': 'Andryala L.'},\n",
       "    'family': {'scientificNameWithoutAuthor': 'Asteraceae',\n",
       "     'scientificNameAuthorship': '',\n",
       "     'scientificName': 'Asteraceae'},\n",
       "    'commonNames': [],\n",
       "    'scientificName': 'Andryala glandulosa Lam.'},\n",
       "   'gbif': {'id': '3105483'},\n",
       "   'powo': {'id': '176635-1'}},\n",
       "  {'score': 0.00259,\n",
       "   'species': {'scientificNameWithoutAuthor': 'Crepis dioscoridis',\n",
       "    'scientificNameAuthorship': 'L.',\n",
       "    'genus': {'scientificNameWithoutAuthor': 'Crepis',\n",
       "     'scientificNameAuthorship': 'L.',\n",
       "     'scientificName': 'Crepis L.'},\n",
       "    'family': {'scientificNameWithoutAuthor': 'Asteraceae',\n",
       "     'scientificNameAuthorship': '',\n",
       "     'scientificName': 'Asteraceae'},\n",
       "    'commonNames': ['Crépide de Dioscoride',\n",
       "     'Crépis de Dioscoride',\n",
       "     'Crépide'],\n",
       "    'scientificName': 'Crepis dioscoridis L.'},\n",
       "   'gbif': {'id': '5403256'},\n",
       "   'powo': {'id': '199817-1'}},\n",
       "  {'score': 0.00232,\n",
       "   'species': {'scientificNameWithoutAuthor': 'Blackstonia grandiflora',\n",
       "    'scientificNameAuthorship': '(Viv.) Pau',\n",
       "    'genus': {'scientificNameWithoutAuthor': 'Blackstonia',\n",
       "     'scientificNameAuthorship': 'Hudson',\n",
       "     'scientificName': 'Blackstonia Hudson'},\n",
       "    'family': {'scientificNameWithoutAuthor': 'Gentianaceae',\n",
       "     'scientificNameAuthorship': '',\n",
       "     'scientificName': 'Gentianaceae'},\n",
       "    'commonNames': ['Chlore à grandes fleurs'],\n",
       "    'scientificName': 'Blackstonia grandiflora (Viv.) Pau'},\n",
       "   'gbif': {'id': '7577192'}},\n",
       "  {'score': 0.00226,\n",
       "   'species': {'scientificNameWithoutAuthor': 'Hieracium venascanum',\n",
       "    'scientificNameAuthorship': 'Arv.-Touv. & Gaut.',\n",
       "    'genus': {'scientificNameWithoutAuthor': 'Hieracium',\n",
       "     'scientificNameAuthorship': 'L.',\n",
       "     'scientificName': 'Hieracium L.'},\n",
       "    'family': {'scientificNameWithoutAuthor': 'Asteraceae',\n",
       "     'scientificNameAuthorship': '',\n",
       "     'scientificName': 'Asteraceae'},\n",
       "    'commonNames': ['Épervière'],\n",
       "    'scientificName': 'Hieracium venascanum Arv.-Touv. & Gaut.'},\n",
       "   'gbif': {'id': '4237105'}},\n",
       "  {'score': 0.00211,\n",
       "   'species': {'scientificNameWithoutAuthor': 'Sonchus tenerrimus',\n",
       "    'scientificNameAuthorship': 'L.',\n",
       "    'genus': {'scientificNameWithoutAuthor': 'Sonchus',\n",
       "     'scientificNameAuthorship': 'L.',\n",
       "     'scientificName': 'Sonchus L.'},\n",
       "    'family': {'scientificNameWithoutAuthor': 'Asteraceae',\n",
       "     'scientificNameAuthorship': '',\n",
       "     'scientificName': 'Asteraceae'},\n",
       "    'commonNames': ['Laiteron délicat'],\n",
       "    'scientificName': 'Sonchus tenerrimus L.'},\n",
       "   'gbif': {'id': '3105768'},\n",
       "   'powo': {'id': '250373-1'}},\n",
       "  {'score': 0.0021,\n",
       "   'species': {'scientificNameWithoutAuthor': 'Reichardia ligulata',\n",
       "    'scientificNameAuthorship': '(Vent.) G.Kunkel & Sunding',\n",
       "    'genus': {'scientificNameWithoutAuthor': 'Reichardia',\n",
       "     'scientificNameAuthorship': 'Roth',\n",
       "     'scientificName': 'Reichardia Roth'},\n",
       "    'family': {'scientificNameWithoutAuthor': 'Asteraceae',\n",
       "     'scientificNameAuthorship': '',\n",
       "     'scientificName': 'Asteraceae'},\n",
       "    'commonNames': [],\n",
       "    'scientificName': 'Reichardia ligulata (Vent.) G.Kunkel & Sunding'},\n",
       "   'gbif': {'id': '5385647'},\n",
       "   'powo': {'id': '241239-1'}},\n",
       "  {'score': 0.00209,\n",
       "   'species': {'scientificNameWithoutAuthor': 'Hieracium sabaudum',\n",
       "    'scientificNameAuthorship': 'L.',\n",
       "    'genus': {'scientificNameWithoutAuthor': 'Hieracium',\n",
       "     'scientificNameAuthorship': 'L.',\n",
       "     'scientificName': 'Hieracium L.'},\n",
       "    'family': {'scientificNameWithoutAuthor': 'Asteraceae',\n",
       "     'scientificNameAuthorship': '',\n",
       "     'scientificName': 'Asteraceae'},\n",
       "    'commonNames': ['Épervière de Savoie', 'Epervière de savoie'],\n",
       "    'scientificName': 'Hieracium sabaudum L.'},\n",
       "   'gbif': {'id': '3136606'},\n",
       "   'powo': {'id': '222584-1'}},\n",
       "  {'score': 0.00207,\n",
       "   'species': {'scientificNameWithoutAuthor': 'Cichorium pumilum',\n",
       "    'scientificNameAuthorship': 'Jacq.',\n",
       "    'genus': {'scientificNameWithoutAuthor': 'Cichorium',\n",
       "     'scientificNameAuthorship': 'L.',\n",
       "     'scientificName': 'Cichorium L.'},\n",
       "    'family': {'scientificNameWithoutAuthor': 'Asteraceae',\n",
       "     'scientificNameAuthorship': '',\n",
       "     'scientificName': 'Asteraceae'},\n",
       "    'commonNames': ['Endive sauvage', 'Chicorée naine'],\n",
       "    'scientificName': 'Cichorium pumilum Jacq.'},\n",
       "   'gbif': {'id': '5392270'},\n",
       "   'powo': {'id': '194540-1'}},\n",
       "  {'score': 0.00205,\n",
       "   'species': {'scientificNameWithoutAuthor': 'Pulicaria arabica',\n",
       "    'scientificNameAuthorship': '(L.) Cass.',\n",
       "    'genus': {'scientificNameWithoutAuthor': 'Pulicaria',\n",
       "     'scientificNameAuthorship': 'Gaertner',\n",
       "     'scientificName': 'Pulicaria Gaertner'},\n",
       "    'family': {'scientificNameWithoutAuthor': 'Asteraceae',\n",
       "     'scientificNameAuthorship': '',\n",
       "     'scientificName': 'Asteraceae'},\n",
       "    'commonNames': [\"Pulicaire d'Arabie\"],\n",
       "    'scientificName': 'Pulicaria arabica (L.) Cass.'},\n",
       "   'gbif': {'id': '3095531'},\n",
       "   'powo': {'id': '240490-1'},\n",
       "   'iucn': {'id': '164013', 'category': 'LC'}},\n",
       "  {'score': 0.00198,\n",
       "   'species': {'scientificNameWithoutAuthor': 'Andryala ragusina',\n",
       "    'scientificNameAuthorship': 'L.',\n",
       "    'genus': {'scientificNameWithoutAuthor': 'Andryala',\n",
       "     'scientificNameAuthorship': 'L.',\n",
       "     'scientificName': 'Andryala L.'},\n",
       "    'family': {'scientificNameWithoutAuthor': 'Asteraceae',\n",
       "     'scientificNameAuthorship': '',\n",
       "     'scientificName': 'Asteraceae'},\n",
       "    'commonNames': ['Andryale de Raguse'],\n",
       "    'scientificName': 'Andryala ragusina L.'},\n",
       "   'gbif': {'id': '3105533'},\n",
       "   'powo': {'id': '176666-1'}},\n",
       "  {'score': 0.00187,\n",
       "   'species': {'scientificNameWithoutAuthor': 'Andryala integrifolia',\n",
       "    'scientificNameAuthorship': 'L.',\n",
       "    'genus': {'scientificNameWithoutAuthor': 'Andryala',\n",
       "     'scientificNameAuthorship': 'L.',\n",
       "     'scientificName': 'Andryala L.'},\n",
       "    'family': {'scientificNameWithoutAuthor': 'Asteraceae',\n",
       "     'scientificNameAuthorship': '',\n",
       "     'scientificName': 'Asteraceae'},\n",
       "    'commonNames': ['Andryale à feuilles entières',\n",
       "     'Andryale sinuée',\n",
       "     'Andryale sinueuse'],\n",
       "    'scientificName': 'Andryala integrifolia L.'},\n",
       "   'gbif': {'id': '3105508'},\n",
       "   'powo': {'id': '176642-1'}},\n",
       "  {'score': 0.00174,\n",
       "   'species': {'scientificNameWithoutAuthor': 'Hypochaeris radicata',\n",
       "    'scientificNameAuthorship': 'L.',\n",
       "    'genus': {'scientificNameWithoutAuthor': 'Hypochaeris',\n",
       "     'scientificNameAuthorship': 'L.',\n",
       "     'scientificName': 'Hypochaeris L.'},\n",
       "    'family': {'scientificNameWithoutAuthor': 'Asteraceae',\n",
       "     'scientificNameAuthorship': '',\n",
       "     'scientificName': 'Asteraceae'},\n",
       "    'commonNames': ['Porcelle enracinée',\n",
       "     'Porcelle à forte racine',\n",
       "     'Salade de porc'],\n",
       "    'scientificName': 'Hypochaeris radicata L.'},\n",
       "   'gbif': {'id': '3093702'},\n",
       "   'powo': {'id': '225575-1'}},\n",
       "  {'score': 0.00163,\n",
       "   'species': {'scientificNameWithoutAuthor': 'Hypochaeris cretensis',\n",
       "    'scientificNameAuthorship': '(L.) Bory & Chaub.',\n",
       "    'genus': {'scientificNameWithoutAuthor': 'Hypochaeris',\n",
       "     'scientificNameAuthorship': 'L.',\n",
       "     'scientificName': 'Hypochaeris L.'},\n",
       "    'family': {'scientificNameWithoutAuthor': 'Asteraceae',\n",
       "     'scientificNameAuthorship': '',\n",
       "     'scientificName': 'Asteraceae'},\n",
       "    'commonNames': ['Porcelle de Crète',\n",
       "     'Porcelle glabre',\n",
       "     'Porcelle des sables'],\n",
       "    'scientificName': 'Hypochaeris cretensis (L.) Bory & Chaub.'},\n",
       "   'gbif': {'id': '3093742'},\n",
       "   'powo': {'id': '60454833-2'}},\n",
       "  {'score': 0.00145,\n",
       "   'species': {'scientificNameWithoutAuthor': 'Hieracium laevigatum',\n",
       "    'scientificNameAuthorship': 'Willd.',\n",
       "    'genus': {'scientificNameWithoutAuthor': 'Hieracium',\n",
       "     'scientificNameAuthorship': 'L.',\n",
       "     'scientificName': 'Hieracium L.'},\n",
       "    'family': {'scientificNameWithoutAuthor': 'Asteraceae',\n",
       "     'scientificNameAuthorship': '',\n",
       "     'scientificName': 'Asteraceae'},\n",
       "    'commonNames': ['Épervière lisse', 'Epervière lisse'],\n",
       "    'scientificName': 'Hieracium laevigatum Willd.'},\n",
       "   'gbif': {'id': '3135064'},\n",
       "   'powo': {'id': '219052-1'}},\n",
       "  {'score': 0.00138,\n",
       "   'species': {'scientificNameWithoutAuthor': 'Hieracium lactucifolium',\n",
       "    'scientificNameAuthorship': 'Arv.-Touv.',\n",
       "    'genus': {'scientificNameWithoutAuthor': 'Hieracium',\n",
       "     'scientificNameAuthorship': 'L.',\n",
       "     'scientificName': 'Hieracium L.'},\n",
       "    'family': {'scientificNameWithoutAuthor': 'Asteraceae',\n",
       "     'scientificNameAuthorship': '',\n",
       "     'scientificName': 'Asteraceae'},\n",
       "    'commonNames': ['Épervière à feuilles de laitue'],\n",
       "    'scientificName': 'Hieracium lactucifolium Arv.-Touv.'},\n",
       "   'gbif': {'id': '4212863'}},\n",
       "  {'score': 0.00138,\n",
       "   'species': {'scientificNameWithoutAuthor': 'Helminthotheca echioides',\n",
       "    'scientificNameAuthorship': '(L.) Holub',\n",
       "    'genus': {'scientificNameWithoutAuthor': 'Helminthotheca',\n",
       "     'scientificNameAuthorship': 'Zinn',\n",
       "     'scientificName': 'Helminthotheca Zinn'},\n",
       "    'family': {'scientificNameWithoutAuthor': 'Asteraceae',\n",
       "     'scientificNameAuthorship': '',\n",
       "     'scientificName': 'Asteraceae'},\n",
       "    'commonNames': ['Picride fausse vipérine',\n",
       "     'Picris fausse vipérine',\n",
       "     'Helminthie'],\n",
       "    'scientificName': 'Helminthotheca echioides (L.) Holub'},\n",
       "   'gbif': {'id': '3141855'},\n",
       "   'powo': {'id': '213702-1'}},\n",
       "  {'score': 0.00106,\n",
       "   'species': {'scientificNameWithoutAuthor': 'Hieracium virgultorum',\n",
       "    'scientificNameAuthorship': 'Jord.',\n",
       "    'genus': {'scientificNameWithoutAuthor': 'Hieracium',\n",
       "     'scientificNameAuthorship': 'L.',\n",
       "     'scientificName': 'Hieracium L.'},\n",
       "    'family': {'scientificNameWithoutAuthor': 'Asteraceae',\n",
       "     'scientificNameAuthorship': '',\n",
       "     'scientificName': 'Asteraceae'},\n",
       "    'commonNames': ['Épervière'],\n",
       "    'scientificName': 'Hieracium virgultorum Jord.'},\n",
       "   'gbif': {'id': '4236454'}},\n",
       "  {'score': 0.00104,\n",
       "   'species': {'scientificNameWithoutAuthor': 'Hieracium amplexicaule',\n",
       "    'scientificNameAuthorship': 'L.',\n",
       "    'genus': {'scientificNameWithoutAuthor': 'Hieracium',\n",
       "     'scientificNameAuthorship': 'L.',\n",
       "     'scientificName': 'Hieracium L.'},\n",
       "    'family': {'scientificNameWithoutAuthor': 'Asteraceae',\n",
       "     'scientificNameAuthorship': '',\n",
       "     'scientificName': 'Asteraceae'},\n",
       "    'commonNames': ['Épervière à feuilles embrassantes',\n",
       "     'Épervière embrassante',\n",
       "     'Épervière amplexicaule'],\n",
       "    'scientificName': 'Hieracium amplexicaule L.'},\n",
       "   'gbif': {'id': '3136320'},\n",
       "   'powo': {'id': '214716-1'}},\n",
       "  {'score': 0.00103,\n",
       "   'species': {'scientificNameWithoutAuthor': 'Hieracium picroides',\n",
       "    'scientificNameAuthorship': 'Vill.',\n",
       "    'genus': {'scientificNameWithoutAuthor': 'Hieracium',\n",
       "     'scientificNameAuthorship': 'L.',\n",
       "     'scientificName': 'Hieracium L.'},\n",
       "    'family': {'scientificNameWithoutAuthor': 'Asteraceae',\n",
       "     'scientificNameAuthorship': '',\n",
       "     'scientificName': 'Asteraceae'},\n",
       "    'commonNames': ['Épervière jaune pâle'],\n",
       "    'scientificName': 'Hieracium picroides Vill.'},\n",
       "   'gbif': {'id': '3136030'},\n",
       "   'powo': {'id': '221288-1'}},\n",
       "  {'score': 0.00102,\n",
       "   'species': {'scientificNameWithoutAuthor': 'Hieracium tridentatum',\n",
       "    'scientificNameAuthorship': 'Fr.',\n",
       "    'genus': {'scientificNameWithoutAuthor': 'Hieracium',\n",
       "     'scientificNameAuthorship': 'L.',\n",
       "     'scientificName': 'Hieracium L.'},\n",
       "    'family': {'scientificNameWithoutAuthor': 'Asteraceae',\n",
       "     'scientificNameAuthorship': '',\n",
       "     'scientificName': 'Asteraceae'},\n",
       "    'commonNames': ['Épervière'],\n",
       "    'scientificName': 'Hieracium tridentatum Fr.'},\n",
       "   'gbif': {'id': '3136145'}},\n",
       "  {'score': 0.001,\n",
       "   'species': {'scientificNameWithoutAuthor': 'Hedypnois rhagadioloides',\n",
       "    'scientificNameAuthorship': '(L.) F.W.Schmidt',\n",
       "    'genus': {'scientificNameWithoutAuthor': 'Hedypnois',\n",
       "     'scientificNameAuthorship': '',\n",
       "     'scientificName': 'Hedypnois'},\n",
       "    'family': {'scientificNameWithoutAuthor': 'Asteraceae',\n",
       "     'scientificNameAuthorship': '',\n",
       "     'scientificName': 'Asteraceae'},\n",
       "    'commonNames': ['Hédipnoïs polymorphe',\n",
       "     'Bonne-nuit-les-petits',\n",
       "     'Hedypnois faux rhagadiole'],\n",
       "    'scientificName': 'Hedypnois rhagadioloides (L.) F.W.Schmidt'},\n",
       "   'gbif': {'id': '5394841'},\n",
       "   'powo': {'id': '211686-1'}}],\n",
       " 'version': '2022-10-24 (7.1)',\n",
       " 'remainingIdentificationRequests': 498}"
      ]
     },
     "execution_count": 149,
     "metadata": {},
     "output_type": "execute_result"
    }
   ],
   "source": [
    "prediction"
   ]
  },
  {
   "cell_type": "code",
   "execution_count": null,
   "metadata": {},
   "outputs": [],
   "source": []
  },
  {
   "cell_type": "markdown",
   "metadata": {},
   "source": [
    "## Suite"
   ]
  },
  {
   "cell_type": "markdown",
   "metadata": {},
   "source": [
    "### creation des datasets"
   ]
  },
  {
   "cell_type": "code",
   "execution_count": 107,
   "metadata": {},
   "outputs": [],
   "source": [
    "# Import spipoll.csv as a pandas dataframe\n",
    "spipoll = pd.read_csv(\"././data/spipoll.csv\",low_memory=False)\n",
    "\n",
    "# Extract relevant columns from the spipoll dataframe\n",
    "plantes = spipoll[['collection_id', 'plante_sc', 'plante_fr',\n",
    "       'plante_precision', 'plante_inconnue', 'plante_caractere',\n",
    "       'photo_fleur', 'photo_plante', 'photo_feuille']]\n",
    "\n",
    "# Shrinking the data by grouping by collection_id\n",
    "# Keep only the first row for each unique value of collection_id\n",
    "plantes = plantes.drop_duplicates(subset='collection_id', keep='first')"
   ]
  },
  {
   "cell_type": "code",
   "execution_count": 108,
   "metadata": {},
   "outputs": [],
   "source": [
    "# add three columns to the dataframe named \"group\"\n",
    "plantes['group'] = np.nan"
   ]
  },
  {
   "cell_type": "code",
   "execution_count": 109,
   "metadata": {},
   "outputs": [
    {
     "data": {
      "text/plain": [
       "(75372, 10)"
      ]
     },
     "execution_count": 109,
     "metadata": {},
     "output_type": "execute_result"
    }
   ],
   "source": [
    "plantes.shape"
   ]
  },
  {
   "cell_type": "markdown",
   "metadata": {},
   "source": [
    "#### description des 3 différents datsets à extraire\n",
    "\n",
    "1. plante_sc et qui ne contient pas NA ou données vides dans plante_sc\n",
    "2. plante_fr et qui ne contient pas NA ou données vides dans plante_fr\n",
    "3. le reste (plantes -1 -2)(qui normalement doit être de la même taille que missing_plants dans l'idéal)\n",
    "\n",
    "quantifier la taille des différents df"
   ]
  },
  {
   "cell_type": "code",
   "execution_count": 110,
   "metadata": {},
   "outputs": [],
   "source": [
    "values_to_check = [\"Je ne sais pas\", \"Plante inconnue\"]"
   ]
  },
  {
   "cell_type": "markdown",
   "metadata": {},
   "source": [
    "### datset 1"
   ]
  },
  {
   "cell_type": "code",
   "execution_count": 124,
   "metadata": {},
   "outputs": [
    {
     "data": {
      "text/plain": [
       "(63465, 10)"
      ]
     },
     "execution_count": 124,
     "metadata": {},
     "output_type": "execute_result"
    }
   ],
   "source": [
    "# creation du 1er dataframe decrit ci dessus\n",
    "\n",
    "plantes_to_remove_sc = plantes.loc[ #renommer en plantes_unlabelled_sc pour plus de clarté ??\n",
    "    (\n",
    "        (plantes[\"plante_sc\"].isna() | plantes[\"plante_sc\"].isin(values_to_check))\n",
    "    )\n",
    "    | ((plantes[\"plante_inconnue\"] == 1.0))\n",
    "]\n",
    "\n",
    "# creation du dataframe contenant les valeurs de plantes mais pas de plantes_to_remove_sc\n",
    "plantes_filtered_sc = plantes[~plantes.index.isin(plantes_to_remove_sc.index)]\n",
    "\n",
    "# in plante add \"1\" to the column group for each row that is in plantes_filtered_sc\n",
    "plantes.loc[plantes_filtered_sc.index, 'group'] = 1\n",
    "\n",
    "plantes_filtered_sc.shape"
   ]
  },
  {
   "cell_type": "code",
   "execution_count": 125,
   "metadata": {},
   "outputs": [
    {
     "data": {
      "text/plain": [
       "(11907, 10)"
      ]
     },
     "execution_count": 125,
     "metadata": {},
     "output_type": "execute_result"
    }
   ],
   "source": [
    "plantes_to_remove_sc.shape"
   ]
  },
  {
   "cell_type": "code",
   "execution_count": 126,
   "metadata": {},
   "outputs": [
    {
     "data": {
      "text/html": [
       "<div>\n",
       "<style scoped>\n",
       "    .dataframe tbody tr th:only-of-type {\n",
       "        vertical-align: middle;\n",
       "    }\n",
       "\n",
       "    .dataframe tbody tr th {\n",
       "        vertical-align: top;\n",
       "    }\n",
       "\n",
       "    .dataframe thead th {\n",
       "        text-align: right;\n",
       "    }\n",
       "</style>\n",
       "<table border=\"1\" class=\"dataframe\">\n",
       "  <thead>\n",
       "    <tr style=\"text-align: right;\">\n",
       "      <th></th>\n",
       "      <th>collection_id</th>\n",
       "      <th>plante_sc</th>\n",
       "      <th>plante_fr</th>\n",
       "      <th>plante_precision</th>\n",
       "      <th>plante_inconnue</th>\n",
       "      <th>plante_caractere</th>\n",
       "      <th>photo_fleur</th>\n",
       "      <th>photo_plante</th>\n",
       "      <th>photo_feuille</th>\n",
       "      <th>group</th>\n",
       "    </tr>\n",
       "  </thead>\n",
       "  <tbody>\n",
       "    <tr>\n",
       "      <th>39</th>\n",
       "      <td>11</td>\n",
       "      <td>Plante inconnue</td>\n",
       "      <td>NaN</td>\n",
       "      <td>Mahonia faux-houx (Berberis aquifolium)</td>\n",
       "      <td>0.0</td>\n",
       "      <td>plantée</td>\n",
       "      <td>https://spgp-api.65mo.fr/api/containers/spgp/d...</td>\n",
       "      <td>https://spgp-api.65mo.fr/api/containers/spgp/d...</td>\n",
       "      <td>https://spgp-api.65mo.fr/api/containers/spgp/d...</td>\n",
       "      <td>NaN</td>\n",
       "    </tr>\n",
       "    <tr>\n",
       "      <th>46</th>\n",
       "      <td>14</td>\n",
       "      <td>Plante inconnue</td>\n",
       "      <td>NaN</td>\n",
       "      <td>NaN</td>\n",
       "      <td>0.0</td>\n",
       "      <td>spontanée</td>\n",
       "      <td>https://spgp-api.65mo.fr/api/containers/spgp/d...</td>\n",
       "      <td>https://spgp-api.65mo.fr/api/containers/spgp/d...</td>\n",
       "      <td>https://spgp-api.65mo.fr/api/containers/spgp/d...</td>\n",
       "      <td>NaN</td>\n",
       "    </tr>\n",
       "    <tr>\n",
       "      <th>78</th>\n",
       "      <td>25</td>\n",
       "      <td>Plante inconnue</td>\n",
       "      <td>NaN</td>\n",
       "      <td>Camélia du Japon (Camellia japonica)</td>\n",
       "      <td>0.0</td>\n",
       "      <td>plantée</td>\n",
       "      <td>https://spgp-api.65mo.fr/api/containers/spgp/d...</td>\n",
       "      <td>https://spgp-api.65mo.fr/api/containers/spgp/d...</td>\n",
       "      <td>https://spgp-api.65mo.fr/api/containers/spgp/d...</td>\n",
       "      <td>NaN</td>\n",
       "    </tr>\n",
       "    <tr>\n",
       "      <th>96</th>\n",
       "      <td>32</td>\n",
       "      <td>Plante inconnue</td>\n",
       "      <td>NaN</td>\n",
       "      <td>Jasmin d'hiver (Jasminum nudiflorum)</td>\n",
       "      <td>0.0</td>\n",
       "      <td>plantée</td>\n",
       "      <td>https://spgp-api.65mo.fr/api/containers/spgp/d...</td>\n",
       "      <td>https://spgp-api.65mo.fr/api/containers/spgp/d...</td>\n",
       "      <td>https://spgp-api.65mo.fr/api/containers/spgp/d...</td>\n",
       "      <td>NaN</td>\n",
       "    </tr>\n",
       "    <tr>\n",
       "      <th>168</th>\n",
       "      <td>62</td>\n",
       "      <td>Plante inconnue</td>\n",
       "      <td>NaN</td>\n",
       "      <td>polygala myrtifolia</td>\n",
       "      <td>0.0</td>\n",
       "      <td>plantée</td>\n",
       "      <td>https://spgp-api.65mo.fr/api/containers/spgp/d...</td>\n",
       "      <td>https://spgp-api.65mo.fr/api/containers/spgp/d...</td>\n",
       "      <td>https://spgp-api.65mo.fr/api/containers/spgp/d...</td>\n",
       "      <td>NaN</td>\n",
       "    </tr>\n",
       "  </tbody>\n",
       "</table>\n",
       "</div>"
      ],
      "text/plain": [
       "    collection_id        plante_sc plante_fr  \\\n",
       "39             11  Plante inconnue       NaN   \n",
       "46             14  Plante inconnue       NaN   \n",
       "78             25  Plante inconnue       NaN   \n",
       "96             32  Plante inconnue       NaN   \n",
       "168            62  Plante inconnue       NaN   \n",
       "\n",
       "                            plante_precision  plante_inconnue  \\\n",
       "39   Mahonia faux-houx (Berberis aquifolium)              0.0   \n",
       "46                                       NaN              0.0   \n",
       "78      Camélia du Japon (Camellia japonica)              0.0   \n",
       "96      Jasmin d'hiver (Jasminum nudiflorum)              0.0   \n",
       "168                      polygala myrtifolia              0.0   \n",
       "\n",
       "    plante_caractere                                        photo_fleur  \\\n",
       "39           plantée  https://spgp-api.65mo.fr/api/containers/spgp/d...   \n",
       "46         spontanée  https://spgp-api.65mo.fr/api/containers/spgp/d...   \n",
       "78           plantée  https://spgp-api.65mo.fr/api/containers/spgp/d...   \n",
       "96           plantée  https://spgp-api.65mo.fr/api/containers/spgp/d...   \n",
       "168          plantée  https://spgp-api.65mo.fr/api/containers/spgp/d...   \n",
       "\n",
       "                                          photo_plante  \\\n",
       "39   https://spgp-api.65mo.fr/api/containers/spgp/d...   \n",
       "46   https://spgp-api.65mo.fr/api/containers/spgp/d...   \n",
       "78   https://spgp-api.65mo.fr/api/containers/spgp/d...   \n",
       "96   https://spgp-api.65mo.fr/api/containers/spgp/d...   \n",
       "168  https://spgp-api.65mo.fr/api/containers/spgp/d...   \n",
       "\n",
       "                                         photo_feuille  group  \n",
       "39   https://spgp-api.65mo.fr/api/containers/spgp/d...    NaN  \n",
       "46   https://spgp-api.65mo.fr/api/containers/spgp/d...    NaN  \n",
       "78   https://spgp-api.65mo.fr/api/containers/spgp/d...    NaN  \n",
       "96   https://spgp-api.65mo.fr/api/containers/spgp/d...    NaN  \n",
       "168  https://spgp-api.65mo.fr/api/containers/spgp/d...    NaN  "
      ]
     },
     "execution_count": 126,
     "metadata": {},
     "output_type": "execute_result"
    }
   ],
   "source": [
    "plantes_to_remove_sc.head()"
   ]
  },
  {
   "cell_type": "code",
   "execution_count": 127,
   "metadata": {},
   "outputs": [
    {
     "data": {
      "text/html": [
       "<div>\n",
       "<style scoped>\n",
       "    .dataframe tbody tr th:only-of-type {\n",
       "        vertical-align: middle;\n",
       "    }\n",
       "\n",
       "    .dataframe tbody tr th {\n",
       "        vertical-align: top;\n",
       "    }\n",
       "\n",
       "    .dataframe thead th {\n",
       "        text-align: right;\n",
       "    }\n",
       "</style>\n",
       "<table border=\"1\" class=\"dataframe\">\n",
       "  <thead>\n",
       "    <tr style=\"text-align: right;\">\n",
       "      <th></th>\n",
       "      <th>collection_id</th>\n",
       "      <th>plante_sc</th>\n",
       "      <th>plante_fr</th>\n",
       "      <th>plante_precision</th>\n",
       "      <th>plante_inconnue</th>\n",
       "      <th>plante_caractere</th>\n",
       "      <th>photo_fleur</th>\n",
       "      <th>photo_plante</th>\n",
       "      <th>photo_feuille</th>\n",
       "      <th>group</th>\n",
       "    </tr>\n",
       "  </thead>\n",
       "  <tbody>\n",
       "    <tr>\n",
       "      <th>0</th>\n",
       "      <td>1</td>\n",
       "      <td>Les Trèfles à fleurs blanches ou roses en boul...</td>\n",
       "      <td>NaN</td>\n",
       "      <td>NaN</td>\n",
       "      <td>0.0</td>\n",
       "      <td>spontanée</td>\n",
       "      <td>https://spgp-api.65mo.fr/api/containers/spgp/d...</td>\n",
       "      <td>https://spgp-api.65mo.fr/api/containers/spgp/d...</td>\n",
       "      <td>https://spgp-api.65mo.fr/api/containers/spgp/d...</td>\n",
       "      <td>1.0</td>\n",
       "    </tr>\n",
       "    <tr>\n",
       "      <th>2</th>\n",
       "      <td>2</td>\n",
       "      <td>Acanthus mollis</td>\n",
       "      <td>Acanthe molle</td>\n",
       "      <td>NaN</td>\n",
       "      <td>NaN</td>\n",
       "      <td>plantée</td>\n",
       "      <td>https://spgp-api.65mo.fr/api/containers/spgp/d...</td>\n",
       "      <td>https://spgp-api.65mo.fr/api/containers/spgp/d...</td>\n",
       "      <td>https://spgp-api.65mo.fr/api/containers/spgp/d...</td>\n",
       "      <td>1.0</td>\n",
       "    </tr>\n",
       "    <tr>\n",
       "      <th>5</th>\n",
       "      <td>3</td>\n",
       "      <td>Les Orchidées à fleurs blanches, jaunes ou ver...</td>\n",
       "      <td>NaN</td>\n",
       "      <td>orchis bouc - Himantoglossum hircinum</td>\n",
       "      <td>0.0</td>\n",
       "      <td>spontanée</td>\n",
       "      <td>https://spgp-api.65mo.fr/api/containers/spgp/d...</td>\n",
       "      <td>https://spgp-api.65mo.fr/api/containers/spgp/d...</td>\n",
       "      <td>https://spgp-api.65mo.fr/api/containers/spgp/d...</td>\n",
       "      <td>1.0</td>\n",
       "    </tr>\n",
       "    <tr>\n",
       "      <th>6</th>\n",
       "      <td>4</td>\n",
       "      <td>Les Vipérines à fleurs bleues-violacées (des e...</td>\n",
       "      <td>NaN</td>\n",
       "      <td>Theaceae</td>\n",
       "      <td>0.0</td>\n",
       "      <td>plantée</td>\n",
       "      <td>https://spgp-api.65mo.fr/api/containers/spgp/d...</td>\n",
       "      <td>https://spgp-api.65mo.fr/api/containers/spgp/d...</td>\n",
       "      <td>https://spgp-api.65mo.fr/api/containers/spgp/d...</td>\n",
       "      <td>1.0</td>\n",
       "    </tr>\n",
       "    <tr>\n",
       "      <th>10</th>\n",
       "      <td>5</td>\n",
       "      <td>Les Pâquerettes (Bellis sp)</td>\n",
       "      <td>NaN</td>\n",
       "      <td>NaN</td>\n",
       "      <td>0.0</td>\n",
       "      <td>spontanée</td>\n",
       "      <td>https://spgp-api.65mo.fr/api/containers/spgp/d...</td>\n",
       "      <td>https://spgp-api.65mo.fr/api/containers/spgp/d...</td>\n",
       "      <td>https://spgp-api.65mo.fr/api/containers/spgp/d...</td>\n",
       "      <td>1.0</td>\n",
       "    </tr>\n",
       "  </tbody>\n",
       "</table>\n",
       "</div>"
      ],
      "text/plain": [
       "   collection_id                                          plante_sc  \\\n",
       "0              1  Les Trèfles à fleurs blanches ou roses en boul...   \n",
       "2              2                                    Acanthus mollis   \n",
       "5              3  Les Orchidées à fleurs blanches, jaunes ou ver...   \n",
       "6              4  Les Vipérines à fleurs bleues-violacées (des e...   \n",
       "10             5                        Les Pâquerettes (Bellis sp)   \n",
       "\n",
       "        plante_fr                       plante_precision  plante_inconnue  \\\n",
       "0             NaN                                    NaN              0.0   \n",
       "2   Acanthe molle                                    NaN              NaN   \n",
       "5             NaN  orchis bouc - Himantoglossum hircinum              0.0   \n",
       "6             NaN                               Theaceae              0.0   \n",
       "10            NaN                                    NaN              0.0   \n",
       "\n",
       "   plante_caractere                                        photo_fleur  \\\n",
       "0         spontanée  https://spgp-api.65mo.fr/api/containers/spgp/d...   \n",
       "2           plantée  https://spgp-api.65mo.fr/api/containers/spgp/d...   \n",
       "5         spontanée  https://spgp-api.65mo.fr/api/containers/spgp/d...   \n",
       "6           plantée  https://spgp-api.65mo.fr/api/containers/spgp/d...   \n",
       "10        spontanée  https://spgp-api.65mo.fr/api/containers/spgp/d...   \n",
       "\n",
       "                                         photo_plante  \\\n",
       "0   https://spgp-api.65mo.fr/api/containers/spgp/d...   \n",
       "2   https://spgp-api.65mo.fr/api/containers/spgp/d...   \n",
       "5   https://spgp-api.65mo.fr/api/containers/spgp/d...   \n",
       "6   https://spgp-api.65mo.fr/api/containers/spgp/d...   \n",
       "10  https://spgp-api.65mo.fr/api/containers/spgp/d...   \n",
       "\n",
       "                                        photo_feuille  group  \n",
       "0   https://spgp-api.65mo.fr/api/containers/spgp/d...    1.0  \n",
       "2   https://spgp-api.65mo.fr/api/containers/spgp/d...    1.0  \n",
       "5   https://spgp-api.65mo.fr/api/containers/spgp/d...    1.0  \n",
       "6   https://spgp-api.65mo.fr/api/containers/spgp/d...    1.0  \n",
       "10  https://spgp-api.65mo.fr/api/containers/spgp/d...    1.0  "
      ]
     },
     "execution_count": 127,
     "metadata": {},
     "output_type": "execute_result"
    }
   ],
   "source": [
    "plantes.head()"
   ]
  },
  {
   "cell_type": "code",
   "execution_count": 128,
   "metadata": {},
   "outputs": [
    {
     "data": {
      "text/html": [
       "<div>\n",
       "<style scoped>\n",
       "    .dataframe tbody tr th:only-of-type {\n",
       "        vertical-align: middle;\n",
       "    }\n",
       "\n",
       "    .dataframe tbody tr th {\n",
       "        vertical-align: top;\n",
       "    }\n",
       "\n",
       "    .dataframe thead th {\n",
       "        text-align: right;\n",
       "    }\n",
       "</style>\n",
       "<table border=\"1\" class=\"dataframe\">\n",
       "  <thead>\n",
       "    <tr style=\"text-align: right;\">\n",
       "      <th></th>\n",
       "      <th>collection_id</th>\n",
       "      <th>plante_sc</th>\n",
       "      <th>plante_fr</th>\n",
       "      <th>plante_precision</th>\n",
       "      <th>plante_inconnue</th>\n",
       "      <th>plante_caractere</th>\n",
       "      <th>photo_fleur</th>\n",
       "      <th>photo_plante</th>\n",
       "      <th>photo_feuille</th>\n",
       "      <th>group</th>\n",
       "    </tr>\n",
       "  </thead>\n",
       "  <tbody>\n",
       "    <tr>\n",
       "      <th>39</th>\n",
       "      <td>11</td>\n",
       "      <td>Plante inconnue</td>\n",
       "      <td>NaN</td>\n",
       "      <td>Mahonia faux-houx (Berberis aquifolium)</td>\n",
       "      <td>0.0</td>\n",
       "      <td>plantée</td>\n",
       "      <td>https://spgp-api.65mo.fr/api/containers/spgp/d...</td>\n",
       "      <td>https://spgp-api.65mo.fr/api/containers/spgp/d...</td>\n",
       "      <td>https://spgp-api.65mo.fr/api/containers/spgp/d...</td>\n",
       "      <td>NaN</td>\n",
       "    </tr>\n",
       "    <tr>\n",
       "      <th>46</th>\n",
       "      <td>14</td>\n",
       "      <td>Plante inconnue</td>\n",
       "      <td>NaN</td>\n",
       "      <td>NaN</td>\n",
       "      <td>0.0</td>\n",
       "      <td>spontanée</td>\n",
       "      <td>https://spgp-api.65mo.fr/api/containers/spgp/d...</td>\n",
       "      <td>https://spgp-api.65mo.fr/api/containers/spgp/d...</td>\n",
       "      <td>https://spgp-api.65mo.fr/api/containers/spgp/d...</td>\n",
       "      <td>NaN</td>\n",
       "    </tr>\n",
       "    <tr>\n",
       "      <th>78</th>\n",
       "      <td>25</td>\n",
       "      <td>Plante inconnue</td>\n",
       "      <td>NaN</td>\n",
       "      <td>Camélia du Japon (Camellia japonica)</td>\n",
       "      <td>0.0</td>\n",
       "      <td>plantée</td>\n",
       "      <td>https://spgp-api.65mo.fr/api/containers/spgp/d...</td>\n",
       "      <td>https://spgp-api.65mo.fr/api/containers/spgp/d...</td>\n",
       "      <td>https://spgp-api.65mo.fr/api/containers/spgp/d...</td>\n",
       "      <td>NaN</td>\n",
       "    </tr>\n",
       "    <tr>\n",
       "      <th>96</th>\n",
       "      <td>32</td>\n",
       "      <td>Plante inconnue</td>\n",
       "      <td>NaN</td>\n",
       "      <td>Jasmin d'hiver (Jasminum nudiflorum)</td>\n",
       "      <td>0.0</td>\n",
       "      <td>plantée</td>\n",
       "      <td>https://spgp-api.65mo.fr/api/containers/spgp/d...</td>\n",
       "      <td>https://spgp-api.65mo.fr/api/containers/spgp/d...</td>\n",
       "      <td>https://spgp-api.65mo.fr/api/containers/spgp/d...</td>\n",
       "      <td>NaN</td>\n",
       "    </tr>\n",
       "    <tr>\n",
       "      <th>168</th>\n",
       "      <td>62</td>\n",
       "      <td>Plante inconnue</td>\n",
       "      <td>NaN</td>\n",
       "      <td>polygala myrtifolia</td>\n",
       "      <td>0.0</td>\n",
       "      <td>plantée</td>\n",
       "      <td>https://spgp-api.65mo.fr/api/containers/spgp/d...</td>\n",
       "      <td>https://spgp-api.65mo.fr/api/containers/spgp/d...</td>\n",
       "      <td>https://spgp-api.65mo.fr/api/containers/spgp/d...</td>\n",
       "      <td>NaN</td>\n",
       "    </tr>\n",
       "  </tbody>\n",
       "</table>\n",
       "</div>"
      ],
      "text/plain": [
       "    collection_id        plante_sc plante_fr  \\\n",
       "39             11  Plante inconnue       NaN   \n",
       "46             14  Plante inconnue       NaN   \n",
       "78             25  Plante inconnue       NaN   \n",
       "96             32  Plante inconnue       NaN   \n",
       "168            62  Plante inconnue       NaN   \n",
       "\n",
       "                            plante_precision  plante_inconnue  \\\n",
       "39   Mahonia faux-houx (Berberis aquifolium)              0.0   \n",
       "46                                       NaN              0.0   \n",
       "78      Camélia du Japon (Camellia japonica)              0.0   \n",
       "96      Jasmin d'hiver (Jasminum nudiflorum)              0.0   \n",
       "168                      polygala myrtifolia              0.0   \n",
       "\n",
       "    plante_caractere                                        photo_fleur  \\\n",
       "39           plantée  https://spgp-api.65mo.fr/api/containers/spgp/d...   \n",
       "46         spontanée  https://spgp-api.65mo.fr/api/containers/spgp/d...   \n",
       "78           plantée  https://spgp-api.65mo.fr/api/containers/spgp/d...   \n",
       "96           plantée  https://spgp-api.65mo.fr/api/containers/spgp/d...   \n",
       "168          plantée  https://spgp-api.65mo.fr/api/containers/spgp/d...   \n",
       "\n",
       "                                          photo_plante  \\\n",
       "39   https://spgp-api.65mo.fr/api/containers/spgp/d...   \n",
       "46   https://spgp-api.65mo.fr/api/containers/spgp/d...   \n",
       "78   https://spgp-api.65mo.fr/api/containers/spgp/d...   \n",
       "96   https://spgp-api.65mo.fr/api/containers/spgp/d...   \n",
       "168  https://spgp-api.65mo.fr/api/containers/spgp/d...   \n",
       "\n",
       "                                         photo_feuille  group  \n",
       "39   https://spgp-api.65mo.fr/api/containers/spgp/d...    NaN  \n",
       "46   https://spgp-api.65mo.fr/api/containers/spgp/d...    NaN  \n",
       "78   https://spgp-api.65mo.fr/api/containers/spgp/d...    NaN  \n",
       "96   https://spgp-api.65mo.fr/api/containers/spgp/d...    NaN  \n",
       "168  https://spgp-api.65mo.fr/api/containers/spgp/d...    NaN  "
      ]
     },
     "execution_count": 128,
     "metadata": {},
     "output_type": "execute_result"
    }
   ],
   "source": [
    "# affiche plantes.head où group != 1\n",
    "plantes[plantes['group'] != 1].head()"
   ]
  },
  {
   "cell_type": "code",
   "execution_count": 129,
   "metadata": {},
   "outputs": [
    {
     "data": {
      "text/plain": [
       "(11907, 10)"
      ]
     },
     "execution_count": 129,
     "metadata": {},
     "output_type": "execute_result"
    }
   ],
   "source": [
    "# compte plantes où group != 1\n",
    "plantes[plantes['group'] != 1].shape"
   ]
  },
  {
   "cell_type": "markdown",
   "metadata": {},
   "source": [
    "### dataset 2"
   ]
  },
  {
   "cell_type": "code",
   "execution_count": 130,
   "metadata": {},
   "outputs": [
    {
     "data": {
      "text/plain": [
       "(0, 10)"
      ]
     },
     "execution_count": 130,
     "metadata": {},
     "output_type": "execute_result"
    }
   ],
   "source": [
    "# creation du 2eme dataframe decrit ci dessus\n",
    "\n",
    "plantes_to_remove_fr = plantes_to_remove_sc.loc[\n",
    "    (\n",
    "       (plantes_to_remove_sc[\"plante_fr\"].isna() | plantes_to_remove_sc[\"plante_fr\"].isin(values_to_check))\n",
    "    )\n",
    "    | ((plantes_to_remove_sc[\"plante_inconnue\"] == 1.0))\n",
    "]\n",
    "\n",
    "# creation du dataframe contenant les valeurs de plantes_sc vides étiquettées dans plantes_fr\n",
    "plantes_filtered_fr = plantes_to_remove_sc[~plantes_to_remove_sc.index.isin(plantes_to_remove_fr.index)]\n",
    "\n",
    "# in plante add \"1\" to the column group for each row that is in plantes_filtered_sc\n",
    "plantes.loc[plantes_filtered_sc.index, 'group'] = 1\n",
    "\n",
    "plantes_filtered_fr.shape"
   ]
  },
  {
   "cell_type": "code",
   "execution_count": 131,
   "metadata": {},
   "outputs": [
    {
     "data": {
      "text/plain": [
       "(11907, 10)"
      ]
     },
     "execution_count": 131,
     "metadata": {},
     "output_type": "execute_result"
    }
   ],
   "source": [
    "plantes_to_remove_fr.shape"
   ]
  },
  {
   "cell_type": "markdown",
   "metadata": {},
   "source": [
    "il semblerait que toutes les lignes qui contiennent de l'info utile sur plante_fr soient egalement decrites par plante_sc"
   ]
  },
  {
   "cell_type": "code",
   "execution_count": 132,
   "metadata": {},
   "outputs": [
    {
     "data": {
      "text/html": [
       "<div>\n",
       "<style scoped>\n",
       "    .dataframe tbody tr th:only-of-type {\n",
       "        vertical-align: middle;\n",
       "    }\n",
       "\n",
       "    .dataframe tbody tr th {\n",
       "        vertical-align: top;\n",
       "    }\n",
       "\n",
       "    .dataframe thead th {\n",
       "        text-align: right;\n",
       "    }\n",
       "</style>\n",
       "<table border=\"1\" class=\"dataframe\">\n",
       "  <thead>\n",
       "    <tr style=\"text-align: right;\">\n",
       "      <th></th>\n",
       "      <th>collection_id</th>\n",
       "      <th>plante_sc</th>\n",
       "      <th>plante_fr</th>\n",
       "      <th>plante_precision</th>\n",
       "      <th>plante_inconnue</th>\n",
       "      <th>plante_caractere</th>\n",
       "      <th>photo_fleur</th>\n",
       "      <th>photo_plante</th>\n",
       "      <th>photo_feuille</th>\n",
       "      <th>group</th>\n",
       "    </tr>\n",
       "  </thead>\n",
       "  <tbody>\n",
       "  </tbody>\n",
       "</table>\n",
       "</div>"
      ],
      "text/plain": [
       "Empty DataFrame\n",
       "Columns: [collection_id, plante_sc, plante_fr, plante_precision, plante_inconnue, plante_caractere, photo_fleur, photo_plante, photo_feuille, group]\n",
       "Index: []"
      ]
     },
     "execution_count": 132,
     "metadata": {},
     "output_type": "execute_result"
    }
   ],
   "source": [
    "# display the rows of plantes_to_remove_sc where plant_fr is not null and not in values_to_check\n",
    "plantes_to_remove_sc.loc[~(plantes_to_remove_sc[\"plante_fr\"].isna() | plantes_to_remove_sc[\"plante_fr\"].isin(values_to_check))]"
   ]
  },
  {
   "cell_type": "markdown",
   "metadata": {},
   "source": [
    "C'est bien le cas d'après cette ligne de code également."
   ]
  },
  {
   "cell_type": "markdown",
   "metadata": {},
   "source": [
    "### restructuration des deux datasets"
   ]
  },
  {
   "cell_type": "markdown",
   "metadata": {},
   "source": [
    "On ne garde donc que les deux df plantes_filtered_sc et plantes_to_remove_sc. On va les renommer plus explicitement et grouper les plantes étiquettées par valeurs uniques."
   ]
  },
  {
   "cell_type": "code",
   "execution_count": 133,
   "metadata": {},
   "outputs": [
    {
     "data": {
      "text/plain": [
       "True"
      ]
     },
     "execution_count": 133,
     "metadata": {},
     "output_type": "execute_result"
    }
   ],
   "source": [
    "plantes_sc_labelled = plantes_filtered_sc\n",
    "plantes_sc_unlabelled = plantes_to_remove_sc\n",
    "\n",
    "# verification des dimensions des deux df par rapport à la dim de plantes\n",
    "plantes_sc_labelled.shape[0] + plantes_sc_unlabelled.shape[0] == plantes.shape[0]"
   ]
  },
  {
   "cell_type": "code",
   "execution_count": 134,
   "metadata": {},
   "outputs": [
    {
     "data": {
      "text/plain": [
       "(2620, 10)"
      ]
     },
     "execution_count": 134,
     "metadata": {},
     "output_type": "execute_result"
    }
   ],
   "source": [
    "# group plantes_sc_labelled by unique values of plante_sc\n",
    "plantes_sc_labelled = plantes_sc_labelled.drop_duplicates(subset='plante_sc', keep='first')\n",
    "\n",
    "# display the dimension of the dataframe\n",
    "plantes_sc_labelled.shape"
   ]
  },
  {
   "cell_type": "markdown",
   "metadata": {},
   "source": [
    "On a donc un df avec 2620 plantes dont le nom est spécifié dans plante_sc et 11.907 (~1.8% des données d'origine, spipoll.csv) dont le nom n'est pas spécifié dans plante_sc."
   ]
  },
  {
   "cell_type": "code",
   "execution_count": 136,
   "metadata": {},
   "outputs": [
    {
     "data": {
      "text/plain": [
       "0.017751929201006645"
      ]
     },
     "execution_count": 136,
     "metadata": {},
     "output_type": "execute_result"
    }
   ],
   "source": [
    "plantes_sc_unlabelled.shape[0] / df.shape[0]"
   ]
  },
  {
   "cell_type": "markdown",
   "metadata": {},
   "source": [
    "## Suite du projet : appel à l'API"
   ]
  },
  {
   "cell_type": "code",
   "execution_count": null,
   "metadata": {},
   "outputs": [],
   "source": []
  },
  {
   "cell_type": "code",
   "execution_count": null,
   "metadata": {},
   "outputs": [],
   "source": []
  },
  {
   "cell_type": "code",
   "execution_count": null,
   "metadata": {},
   "outputs": [],
   "source": []
  },
  {
   "cell_type": "markdown",
   "metadata": {},
   "source": [
    "### appel à l'API"
   ]
  },
  {
   "cell_type": "code",
   "execution_count": 150,
   "metadata": {},
   "outputs": [],
   "source": [
    "from data_quality.plant_treatment.plantnet_api import PlantNetPredictor\n",
    "\n",
    "predictor = PlantNetPredictor(key = API_keys[0])\n",
    "prediction = None\n",
    "\n",
    "try:\n",
    "    prediction = predictor.predict(imageURL= plantes_sc_labelled['photo_fleur'].iloc[0], # modifier cette ligne pour qu'elle traite chaque ligne de plantes_sc_labelled\n",
    "                    organs = \"auto\",\n",
    "                    includeRelatedImages=False)\n",
    "except Exception as e:\n",
    "    print(f\"Error: {e}\")"
   ]
  },
  {
   "cell_type": "code",
   "execution_count": null,
   "metadata": {},
   "outputs": [],
   "source": [
    "for row in plantes_sc_labelled.iterrows(): #remplacer df par le nom du dataframe voulu\n",
    "    print(row)\n",
    "    break"
   ]
  },
  {
   "cell_type": "code",
   "execution_count": 151,
   "metadata": {},
   "outputs": [
    {
     "data": {
      "text/html": [
       "<div>\n",
       "<style scoped>\n",
       "    .dataframe tbody tr th:only-of-type {\n",
       "        vertical-align: middle;\n",
       "    }\n",
       "\n",
       "    .dataframe tbody tr th {\n",
       "        vertical-align: top;\n",
       "    }\n",
       "\n",
       "    .dataframe thead th {\n",
       "        text-align: right;\n",
       "    }\n",
       "</style>\n",
       "<table border=\"1\" class=\"dataframe\">\n",
       "  <thead>\n",
       "    <tr style=\"text-align: right;\">\n",
       "      <th></th>\n",
       "      <th>collection_id</th>\n",
       "      <th>plante_sc</th>\n",
       "      <th>plante_fr</th>\n",
       "      <th>plante_precision</th>\n",
       "      <th>plante_inconnue</th>\n",
       "      <th>plante_caractere</th>\n",
       "      <th>photo_fleur</th>\n",
       "      <th>photo_plante</th>\n",
       "      <th>photo_feuille</th>\n",
       "      <th>group</th>\n",
       "    </tr>\n",
       "  </thead>\n",
       "  <tbody>\n",
       "    <tr>\n",
       "      <th>0</th>\n",
       "      <td>1</td>\n",
       "      <td>Les Trèfles à fleurs blanches ou roses en boul...</td>\n",
       "      <td>NaN</td>\n",
       "      <td>NaN</td>\n",
       "      <td>0.0</td>\n",
       "      <td>spontanée</td>\n",
       "      <td>https://spgp-api.65mo.fr/api/containers/spgp/d...</td>\n",
       "      <td>https://spgp-api.65mo.fr/api/containers/spgp/d...</td>\n",
       "      <td>https://spgp-api.65mo.fr/api/containers/spgp/d...</td>\n",
       "      <td>1.0</td>\n",
       "    </tr>\n",
       "    <tr>\n",
       "      <th>2</th>\n",
       "      <td>2</td>\n",
       "      <td>Acanthus mollis</td>\n",
       "      <td>Acanthe molle</td>\n",
       "      <td>NaN</td>\n",
       "      <td>NaN</td>\n",
       "      <td>plantée</td>\n",
       "      <td>https://spgp-api.65mo.fr/api/containers/spgp/d...</td>\n",
       "      <td>https://spgp-api.65mo.fr/api/containers/spgp/d...</td>\n",
       "      <td>https://spgp-api.65mo.fr/api/containers/spgp/d...</td>\n",
       "      <td>1.0</td>\n",
       "    </tr>\n",
       "    <tr>\n",
       "      <th>5</th>\n",
       "      <td>3</td>\n",
       "      <td>Les Orchidées à fleurs blanches, jaunes ou ver...</td>\n",
       "      <td>NaN</td>\n",
       "      <td>orchis bouc - Himantoglossum hircinum</td>\n",
       "      <td>0.0</td>\n",
       "      <td>spontanée</td>\n",
       "      <td>https://spgp-api.65mo.fr/api/containers/spgp/d...</td>\n",
       "      <td>https://spgp-api.65mo.fr/api/containers/spgp/d...</td>\n",
       "      <td>https://spgp-api.65mo.fr/api/containers/spgp/d...</td>\n",
       "      <td>1.0</td>\n",
       "    </tr>\n",
       "    <tr>\n",
       "      <th>6</th>\n",
       "      <td>4</td>\n",
       "      <td>Les Vipérines à fleurs bleues-violacées (des e...</td>\n",
       "      <td>NaN</td>\n",
       "      <td>Theaceae</td>\n",
       "      <td>0.0</td>\n",
       "      <td>plantée</td>\n",
       "      <td>https://spgp-api.65mo.fr/api/containers/spgp/d...</td>\n",
       "      <td>https://spgp-api.65mo.fr/api/containers/spgp/d...</td>\n",
       "      <td>https://spgp-api.65mo.fr/api/containers/spgp/d...</td>\n",
       "      <td>1.0</td>\n",
       "    </tr>\n",
       "    <tr>\n",
       "      <th>10</th>\n",
       "      <td>5</td>\n",
       "      <td>Les Pâquerettes (Bellis sp)</td>\n",
       "      <td>NaN</td>\n",
       "      <td>NaN</td>\n",
       "      <td>0.0</td>\n",
       "      <td>spontanée</td>\n",
       "      <td>https://spgp-api.65mo.fr/api/containers/spgp/d...</td>\n",
       "      <td>https://spgp-api.65mo.fr/api/containers/spgp/d...</td>\n",
       "      <td>https://spgp-api.65mo.fr/api/containers/spgp/d...</td>\n",
       "      <td>1.0</td>\n",
       "    </tr>\n",
       "  </tbody>\n",
       "</table>\n",
       "</div>"
      ],
      "text/plain": [
       "   collection_id                                          plante_sc  \\\n",
       "0              1  Les Trèfles à fleurs blanches ou roses en boul...   \n",
       "2              2                                    Acanthus mollis   \n",
       "5              3  Les Orchidées à fleurs blanches, jaunes ou ver...   \n",
       "6              4  Les Vipérines à fleurs bleues-violacées (des e...   \n",
       "10             5                        Les Pâquerettes (Bellis sp)   \n",
       "\n",
       "        plante_fr                       plante_precision  plante_inconnue  \\\n",
       "0             NaN                                    NaN              0.0   \n",
       "2   Acanthe molle                                    NaN              NaN   \n",
       "5             NaN  orchis bouc - Himantoglossum hircinum              0.0   \n",
       "6             NaN                               Theaceae              0.0   \n",
       "10            NaN                                    NaN              0.0   \n",
       "\n",
       "   plante_caractere                                        photo_fleur  \\\n",
       "0         spontanée  https://spgp-api.65mo.fr/api/containers/spgp/d...   \n",
       "2           plantée  https://spgp-api.65mo.fr/api/containers/spgp/d...   \n",
       "5         spontanée  https://spgp-api.65mo.fr/api/containers/spgp/d...   \n",
       "6           plantée  https://spgp-api.65mo.fr/api/containers/spgp/d...   \n",
       "10        spontanée  https://spgp-api.65mo.fr/api/containers/spgp/d...   \n",
       "\n",
       "                                         photo_plante  \\\n",
       "0   https://spgp-api.65mo.fr/api/containers/spgp/d...   \n",
       "2   https://spgp-api.65mo.fr/api/containers/spgp/d...   \n",
       "5   https://spgp-api.65mo.fr/api/containers/spgp/d...   \n",
       "6   https://spgp-api.65mo.fr/api/containers/spgp/d...   \n",
       "10  https://spgp-api.65mo.fr/api/containers/spgp/d...   \n",
       "\n",
       "                                        photo_feuille  group  \n",
       "0   https://spgp-api.65mo.fr/api/containers/spgp/d...    1.0  \n",
       "2   https://spgp-api.65mo.fr/api/containers/spgp/d...    1.0  \n",
       "5   https://spgp-api.65mo.fr/api/containers/spgp/d...    1.0  \n",
       "6   https://spgp-api.65mo.fr/api/containers/spgp/d...    1.0  \n",
       "10  https://spgp-api.65mo.fr/api/containers/spgp/d...    1.0  "
      ]
     },
     "execution_count": 151,
     "metadata": {},
     "output_type": "execute_result"
    }
   ],
   "source": [
    "plantes_sc_labelled.head()"
   ]
  },
  {
   "cell_type": "code",
   "execution_count": 162,
   "metadata": {},
   "outputs": [
    {
     "data": {
      "text/plain": [
       "{'scientificNameWithoutAuthor': 'Trifolium pratense',\n",
       " 'scientificNameAuthorship': 'L.',\n",
       " 'genus': {'scientificNameWithoutAuthor': 'Trifolium',\n",
       "  'scientificNameAuthorship': 'L.',\n",
       "  'scientificName': 'Trifolium L.'},\n",
       " 'family': {'scientificNameWithoutAuthor': 'Fabaceae',\n",
       "  'scientificNameAuthorship': '',\n",
       "  'scientificName': 'Fabaceae'},\n",
       " 'commonNames': ['Trèfle des prés', 'Trèfle rouge', 'Trèfle commun'],\n",
       " 'scientificName': 'Trifolium pratense L.'}"
      ]
     },
     "execution_count": 162,
     "metadata": {},
     "output_type": "execute_result"
    }
   ],
   "source": [
    "prediction[\"results\"][0][\"species\"]"
   ]
  },
  {
   "cell_type": "markdown",
   "metadata": {},
   "source": [
    "rappel : ordre > famille > genre > espèce\n",
    "\n",
    "on récupère tout sauf l'ordre"
   ]
  },
  {
   "cell_type": "code",
   "execution_count": 168,
   "metadata": {},
   "outputs": [
    {
     "data": {
      "text/plain": [
       "'Fabaceae'"
      ]
     },
     "execution_count": 168,
     "metadata": {},
     "output_type": "execute_result"
    }
   ],
   "source": [
    "prediction[\"results\"][0][\"species\"][\"family\"][\"scientificNameWithoutAuthor\"] # famille"
   ]
  },
  {
   "cell_type": "code",
   "execution_count": 169,
   "metadata": {},
   "outputs": [
    {
     "data": {
      "text/plain": [
       "'Trifolium'"
      ]
     },
     "execution_count": 169,
     "metadata": {},
     "output_type": "execute_result"
    }
   ],
   "source": [
    "prediction[\"results\"][0][\"species\"][\"genus\"][\"scientificNameWithoutAuthor\"] # genre"
   ]
  },
  {
   "cell_type": "code",
   "execution_count": 170,
   "metadata": {},
   "outputs": [
    {
     "data": {
      "text/plain": [
       "'Trifolium pratense'"
      ]
     },
     "execution_count": 170,
     "metadata": {},
     "output_type": "execute_result"
    }
   ],
   "source": [
    "prediction[\"results\"][0][\"species\"][\"scientificNameWithoutAuthor\"] # espece"
   ]
  },
  {
   "cell_type": "code",
   "execution_count": null,
   "metadata": {},
   "outputs": [],
   "source": []
  },
  {
   "cell_type": "code",
   "execution_count": null,
   "metadata": {},
   "outputs": [],
   "source": []
  },
  {
   "cell_type": "code",
   "execution_count": null,
   "metadata": {},
   "outputs": [],
   "source": []
  },
  {
   "cell_type": "code",
   "execution_count": null,
   "metadata": {},
   "outputs": [],
   "source": []
  },
  {
   "cell_type": "markdown",
   "metadata": {},
   "source": []
  }
 ],
 "metadata": {
  "kernelspec": {
   "display_name": "Python 3",
   "language": "python",
   "name": "python3"
  },
  "language_info": {
   "codemirror_mode": {
    "name": "ipython",
    "version": 3
   },
   "file_extension": ".py",
   "mimetype": "text/x-python",
   "name": "python",
   "nbconvert_exporter": "python",
   "pygments_lexer": "ipython3",
   "version": "3.12.0"
  }
 },
 "nbformat": 4,
 "nbformat_minor": 2
}
