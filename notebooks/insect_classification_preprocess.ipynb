{
 "cells": [
  {
   "cell_type": "code",
   "execution_count": 2,
   "metadata": {},
   "outputs": [
    {
     "name": "stdout",
     "output_type": "stream",
     "text": [
      "Former working directory:  c:\\Users\\corne\\Documents\\2-Scolarite\\1-AgroParisTech\\4-Cursus\\3-3A\\5-Cours\\14-Fil_Rouge\\fil-rouge-pollinisateurs\\notebooks\n",
      "Current working directory:  c:\\Users\\corne\\Documents\\2-Scolarite\\1-AgroParisTech\\4-Cursus\\3-3A\\5-Cours\\14-Fil_Rouge\\fil-rouge-pollinisateurs\n"
     ]
    }
   ],
   "source": [
    "from utils import setup_env_path\n",
    "\n",
    "setup_env_path()"
   ]
  },
  {
   "cell_type": "code",
   "execution_count": 3,
   "metadata": {},
   "outputs": [
    {
     "name": "stderr",
     "output_type": "stream",
     "text": [
      "C:\\Users\\corne\\AppData\\Local\\Temp\\ipykernel_12260\\3249413620.py:2: DeprecationWarning: \n",
      "Pyarrow will become a required dependency of pandas in the next major release of pandas (pandas 3.0),\n",
      "(to allow more performant data types, such as the Arrow string type, and better interoperability with other libraries)\n",
      "but was not found to be installed on your system.\n",
      "If this would cause problems for you,\n",
      "please provide us feedback at https://github.com/pandas-dev/pandas/issues/54466\n",
      "        \n",
      "  import pandas as pd\n"
     ]
    }
   ],
   "source": [
    "# Chargement des librairies\n",
    "import pandas as pd\n",
    "import data_quality.insect_treatment.insect_classification_functions as classification_functions"
   ]
  },
  {
   "cell_type": "markdown",
   "metadata": {},
   "source": [
    "# Préparation des données \n",
    "\n",
    "L'objectif est d'obtenir un dataset avec uniquement les colonnes insecte_sc et insecte_fr.  \n",
    "\n",
    "De plus, toutes les lignes où il y a soit NA, soit \"je ne sais pas\", soit \"autres\" dans ces deux colonnes seront supprimées.\n",
    "\n",
    "Une attention particulière ser apportée aux lignes possédant une valeur dans leur colonne insecte_fr mais pas dans insecte_sc. En effet, une analyse préliminaire a montré que ce cas existe pour exactement 12 valeurs de insecte_fr, qui sont :\n",
    "- \"Les Mouches difficiles à déterminer\",\n",
    "- \"Les Coléoptères difficiles à déterminer\",\n",
    "- \"Les Moustiques, Tipules et autres diptères Nématocères\",\n",
    "- \"Les Chenilles et fausses-Chenilles\",\n",
    "- \"Les Syrphes difficiles à déterminer\",\n",
    "- \"Les Terebrants Chalcidiens et autres\",\n",
    "- \"Les Epeires et autres Araneidae\",\n",
    "- \"Les Punaises difficiles à déterminer\",\n",
    "- \"Les Syrphes aux fémurs enflés\",\n",
    "- \"Les Tachinaires difficiles à déterminer\",\n",
    "- \"Les Punaises prédatrices ternes\".  \n",
    "\n",
    "Cette liste comprend des termes englobant des groupes assez larges d'insectes. Nous allons donc leur attribuer une valeur de insecte_sc qui pourra au mieux les englober d'après nos recherches et connaissances. Les *Punaises prédatrices ternes* n'ayant pas été identifié dans la littérature, nous les remplacerons par le nom scientifique des *Punaises ternes*.\n",
    "- \"Diptera\", \n",
    "- \"Coleoptera\", \n",
    "- \"Nematocera\",\n",
    "- \"Lepidoptera\", \n",
    "- \"Syrphinae\", \n",
    "- \"Chalcidoidea\",\n",
    "- \"Araneidae\", \n",
    "- \"Heteroptera\", \n",
    "- \"Syrphinae\",\n",
    "- \"Tachinidae\",\n",
    "- \"Lygus lineolaris\".\n",
    "\n",
    "Nous sélectionnerons les lignes où ces pairs insecte_sc/insecte_fr sont uniques."
   ]
  },
  {
   "cell_type": "code",
   "execution_count": 4,
   "metadata": {},
   "outputs": [
    {
     "data": {
      "text/plain": [
       "(670744, 2)"
      ]
     },
     "execution_count": 4,
     "metadata": {},
     "output_type": "execute_result"
    }
   ],
   "source": [
    "# Import spipoll.csv as a pandas dataframe\n",
    "spipoll = pd.read_csv(\"data/spipoll.csv\", low_memory=False)\n",
    "\n",
    "# Extract relevant columns from the spipoll dataframe\n",
    "insect = spipoll[['insecte_sc', 'insecte_fr']]\n",
    "insect.shape # (670744, 2)"
   ]
  },
  {
   "cell_type": "code",
   "execution_count": 5,
   "metadata": {},
   "outputs": [
    {
     "data": {
      "text/plain": [
       "(11667, 2)"
      ]
     },
     "execution_count": 5,
     "metadata": {},
     "output_type": "execute_result"
    }
   ],
   "source": [
    "values_to_check = [\"Je ne sais pas\", \"Insecte inconnu\"]\n",
    "\n",
    "# Suppression des lignes ayant NA ou les values_to_check dans insecte_sc et dans insecte_fr\n",
    "insect_no_info = insect.loc[\n",
    "    (\n",
    "        (insect[\"insecte_sc\"].isna() | insect[\"insecte_sc\"].isin(values_to_check)) &\n",
    "        (insect[\"insecte_fr\"].isna() | insect[\"insecte_fr\"].isin(values_to_check))\n",
    "    )\n",
    "]\n",
    "insect_no_info.shape # (11667, 2)"
   ]
  },
  {
   "cell_type": "code",
   "execution_count": 6,
   "metadata": {},
   "outputs": [
    {
     "data": {
      "text/html": [
       "<div>\n",
       "<style scoped>\n",
       "    .dataframe tbody tr th:only-of-type {\n",
       "        vertical-align: middle;\n",
       "    }\n",
       "\n",
       "    .dataframe tbody tr th {\n",
       "        vertical-align: top;\n",
       "    }\n",
       "\n",
       "    .dataframe thead th {\n",
       "        text-align: right;\n",
       "    }\n",
       "</style>\n",
       "<table border=\"1\" class=\"dataframe\">\n",
       "  <thead>\n",
       "    <tr style=\"text-align: right;\">\n",
       "      <th></th>\n",
       "      <th>insecte_sc</th>\n",
       "      <th>insecte_fr</th>\n",
       "    </tr>\n",
       "  </thead>\n",
       "  <tbody>\n",
       "    <tr>\n",
       "      <th>10</th>\n",
       "      <td>Insecte inconnu</td>\n",
       "      <td>Insecte inconnu</td>\n",
       "    </tr>\n",
       "    <tr>\n",
       "      <th>21</th>\n",
       "      <td>Insecte inconnu</td>\n",
       "      <td>Insecte inconnu</td>\n",
       "    </tr>\n",
       "    <tr>\n",
       "      <th>35</th>\n",
       "      <td>Insecte inconnu</td>\n",
       "      <td>Insecte inconnu</td>\n",
       "    </tr>\n",
       "    <tr>\n",
       "      <th>45</th>\n",
       "      <td>Insecte inconnu</td>\n",
       "      <td>Insecte inconnu</td>\n",
       "    </tr>\n",
       "    <tr>\n",
       "      <th>53</th>\n",
       "      <td>Insecte inconnu</td>\n",
       "      <td>Insecte inconnu</td>\n",
       "    </tr>\n",
       "    <tr>\n",
       "      <th>89</th>\n",
       "      <td>Insecte inconnu</td>\n",
       "      <td>Insecte inconnu</td>\n",
       "    </tr>\n",
       "    <tr>\n",
       "      <th>106</th>\n",
       "      <td>Insecte inconnu</td>\n",
       "      <td>Insecte inconnu</td>\n",
       "    </tr>\n",
       "    <tr>\n",
       "      <th>126</th>\n",
       "      <td>Insecte inconnu</td>\n",
       "      <td>Insecte inconnu</td>\n",
       "    </tr>\n",
       "    <tr>\n",
       "      <th>147</th>\n",
       "      <td>Insecte inconnu</td>\n",
       "      <td>Insecte inconnu</td>\n",
       "    </tr>\n",
       "    <tr>\n",
       "      <th>278</th>\n",
       "      <td>Insecte inconnu</td>\n",
       "      <td>Insecte inconnu</td>\n",
       "    </tr>\n",
       "    <tr>\n",
       "      <th>356</th>\n",
       "      <td>Insecte inconnu</td>\n",
       "      <td>Insecte inconnu</td>\n",
       "    </tr>\n",
       "    <tr>\n",
       "      <th>448</th>\n",
       "      <td>Insecte inconnu</td>\n",
       "      <td>Insecte inconnu</td>\n",
       "    </tr>\n",
       "    <tr>\n",
       "      <th>502</th>\n",
       "      <td>Insecte inconnu</td>\n",
       "      <td>Insecte inconnu</td>\n",
       "    </tr>\n",
       "    <tr>\n",
       "      <th>971</th>\n",
       "      <td>Insecte inconnu</td>\n",
       "      <td>Insecte inconnu</td>\n",
       "    </tr>\n",
       "    <tr>\n",
       "      <th>1177</th>\n",
       "      <td>Insecte inconnu</td>\n",
       "      <td>Insecte inconnu</td>\n",
       "    </tr>\n",
       "    <tr>\n",
       "      <th>1517</th>\n",
       "      <td>NaN</td>\n",
       "      <td>NaN</td>\n",
       "    </tr>\n",
       "    <tr>\n",
       "      <th>1593</th>\n",
       "      <td>Insecte inconnu</td>\n",
       "      <td>Insecte inconnu</td>\n",
       "    </tr>\n",
       "    <tr>\n",
       "      <th>1714</th>\n",
       "      <td>Insecte inconnu</td>\n",
       "      <td>Insecte inconnu</td>\n",
       "    </tr>\n",
       "    <tr>\n",
       "      <th>1954</th>\n",
       "      <td>Insecte inconnu</td>\n",
       "      <td>Insecte inconnu</td>\n",
       "    </tr>\n",
       "    <tr>\n",
       "      <th>2085</th>\n",
       "      <td>Insecte inconnu</td>\n",
       "      <td>Insecte inconnu</td>\n",
       "    </tr>\n",
       "    <tr>\n",
       "      <th>2242</th>\n",
       "      <td>Insecte inconnu</td>\n",
       "      <td>Insecte inconnu</td>\n",
       "    </tr>\n",
       "    <tr>\n",
       "      <th>2307</th>\n",
       "      <td>NaN</td>\n",
       "      <td>NaN</td>\n",
       "    </tr>\n",
       "    <tr>\n",
       "      <th>2476</th>\n",
       "      <td>NaN</td>\n",
       "      <td>NaN</td>\n",
       "    </tr>\n",
       "    <tr>\n",
       "      <th>2753</th>\n",
       "      <td>Insecte inconnu</td>\n",
       "      <td>Insecte inconnu</td>\n",
       "    </tr>\n",
       "    <tr>\n",
       "      <th>2998</th>\n",
       "      <td>Insecte inconnu</td>\n",
       "      <td>Insecte inconnu</td>\n",
       "    </tr>\n",
       "    <tr>\n",
       "      <th>3049</th>\n",
       "      <td>Je ne sais pas</td>\n",
       "      <td>Je ne sais pas</td>\n",
       "    </tr>\n",
       "    <tr>\n",
       "      <th>3214</th>\n",
       "      <td>Insecte inconnu</td>\n",
       "      <td>Insecte inconnu</td>\n",
       "    </tr>\n",
       "    <tr>\n",
       "      <th>3443</th>\n",
       "      <td>Insecte inconnu</td>\n",
       "      <td>Insecte inconnu</td>\n",
       "    </tr>\n",
       "    <tr>\n",
       "      <th>3725</th>\n",
       "      <td>Insecte inconnu</td>\n",
       "      <td>Insecte inconnu</td>\n",
       "    </tr>\n",
       "    <tr>\n",
       "      <th>3768</th>\n",
       "      <td>NaN</td>\n",
       "      <td>NaN</td>\n",
       "    </tr>\n",
       "  </tbody>\n",
       "</table>\n",
       "</div>"
      ],
      "text/plain": [
       "           insecte_sc       insecte_fr\n",
       "10    Insecte inconnu  Insecte inconnu\n",
       "21    Insecte inconnu  Insecte inconnu\n",
       "35    Insecte inconnu  Insecte inconnu\n",
       "45    Insecte inconnu  Insecte inconnu\n",
       "53    Insecte inconnu  Insecte inconnu\n",
       "89    Insecte inconnu  Insecte inconnu\n",
       "106   Insecte inconnu  Insecte inconnu\n",
       "126   Insecte inconnu  Insecte inconnu\n",
       "147   Insecte inconnu  Insecte inconnu\n",
       "278   Insecte inconnu  Insecte inconnu\n",
       "356   Insecte inconnu  Insecte inconnu\n",
       "448   Insecte inconnu  Insecte inconnu\n",
       "502   Insecte inconnu  Insecte inconnu\n",
       "971   Insecte inconnu  Insecte inconnu\n",
       "1177  Insecte inconnu  Insecte inconnu\n",
       "1517              NaN              NaN\n",
       "1593  Insecte inconnu  Insecte inconnu\n",
       "1714  Insecte inconnu  Insecte inconnu\n",
       "1954  Insecte inconnu  Insecte inconnu\n",
       "2085  Insecte inconnu  Insecte inconnu\n",
       "2242  Insecte inconnu  Insecte inconnu\n",
       "2307              NaN              NaN\n",
       "2476              NaN              NaN\n",
       "2753  Insecte inconnu  Insecte inconnu\n",
       "2998  Insecte inconnu  Insecte inconnu\n",
       "3049   Je ne sais pas   Je ne sais pas\n",
       "3214  Insecte inconnu  Insecte inconnu\n",
       "3443  Insecte inconnu  Insecte inconnu\n",
       "3725  Insecte inconnu  Insecte inconnu\n",
       "3768              NaN              NaN"
      ]
     },
     "execution_count": 6,
     "metadata": {},
     "output_type": "execute_result"
    }
   ],
   "source": [
    "insect_no_info.head(30) # la sélection s'est bien passée si on retrouve des NA, \"Je ne sais pas\" et \"Insecte inconnu\""
   ]
  },
  {
   "cell_type": "code",
   "execution_count": 7,
   "metadata": {},
   "outputs": [
    {
     "data": {
      "text/plain": [
       "(659077, 2)"
      ]
     },
     "execution_count": 7,
     "metadata": {},
     "output_type": "execute_result"
    }
   ],
   "source": [
    "# Get the indices of the rows to be removed\n",
    "indices_to_remove = insect_no_info.index\n",
    "\n",
    "# Remove the rows\n",
    "insect = insect.drop(indices_to_remove)\n",
    "insect.shape # (659077, 2)"
   ]
  },
  {
   "cell_type": "code",
   "execution_count": 8,
   "metadata": {},
   "outputs": [
    {
     "data": {
      "text/plain": [
       "(577, 2)"
      ]
     },
     "execution_count": 8,
     "metadata": {},
     "output_type": "execute_result"
    }
   ],
   "source": [
    "# Duplicates deletion\n",
    "insect = insect.drop_duplicates()\n",
    "insect.shape # (577, 2)"
   ]
  },
  {
   "cell_type": "code",
   "execution_count": 9,
   "metadata": {},
   "outputs": [
    {
     "data": {
      "text/plain": [
       "(577, 2)"
      ]
     },
     "execution_count": 9,
     "metadata": {},
     "output_type": "execute_result"
    }
   ],
   "source": [
    "# Complete the insecte_sc column with the insecte_fr column information\n",
    "original = [\"Les Mouches difficiles à déterminer\",\n",
    "            \"Les Coléoptères difficiles à déterminer\",\n",
    "            \"Les Moustiques, Tipules et autres diptères Nématocères\",\n",
    "            \"Les Chenilles et fausses-Chenilles\",\n",
    "            \"Les Syrphes difficiles à déterminer\",\n",
    "            \"Les Terebrants Chalcidiens et autres\",\n",
    "            \"Les Epeires et autres Araneidae\",\n",
    "            \"Les Punaises difficiles à déterminer\",\n",
    "            \"Les Syrphes aux fémurs enflés\",\n",
    "            \"Les Tachinaires difficiles à déterminer\",\n",
    "            \"Les Punaises prédatrices ternes\"]\n",
    "replacement = [\"Diptera\", \"Coleoptera\", \"Nematocera\",\n",
    "               \"Lepidoptera\", \"Syrphinae\", \"Chalcidoidea\",\n",
    "               \"Araneidae\", \"Heteroptera\", \"Syrphinae\",\n",
    "               \"Tachinidae\", \"Lygus lineolaris\"]\n",
    "\n",
    "def replace_insecte_sc(row):\n",
    "    if pd.isna(row[\"insecte_sc\"]) and row[\"insecte_fr\"] in original:\n",
    "        index = original.index(row[\"insecte_fr\"])\n",
    "        return replacement[index]\n",
    "    else:\n",
    "        return row[\"insecte_sc\"]\n",
    "\n",
    "insect[\"insecte_sc\"] = insect.apply(replace_insecte_sc, axis=1)\n",
    "insect.shape # (577, 2)"
   ]
  },
  {
   "cell_type": "code",
   "execution_count": 10,
   "metadata": {},
   "outputs": [
    {
     "data": {
      "text/html": [
       "<div>\n",
       "<style scoped>\n",
       "    .dataframe tbody tr th:only-of-type {\n",
       "        vertical-align: middle;\n",
       "    }\n",
       "\n",
       "    .dataframe tbody tr th {\n",
       "        vertical-align: top;\n",
       "    }\n",
       "\n",
       "    .dataframe thead th {\n",
       "        text-align: right;\n",
       "    }\n",
       "</style>\n",
       "<table border=\"1\" class=\"dataframe\">\n",
       "  <thead>\n",
       "    <tr style=\"text-align: right;\">\n",
       "      <th></th>\n",
       "      <th>insecte_sc</th>\n",
       "      <th>insecte_fr</th>\n",
       "    </tr>\n",
       "  </thead>\n",
       "  <tbody>\n",
       "    <tr>\n",
       "      <th>0</th>\n",
       "      <td>Apis mellifera</td>\n",
       "      <td>L'Abeille mellifère</td>\n",
       "    </tr>\n",
       "    <tr>\n",
       "      <th>1</th>\n",
       "      <td>Bombus</td>\n",
       "      <td>Les Bourdons noirs à bande(s) jaune(s) et cul ...</td>\n",
       "    </tr>\n",
       "    <tr>\n",
       "      <th>3</th>\n",
       "      <td>Sarcophaga</td>\n",
       "      <td>Les Mouches à damier</td>\n",
       "    </tr>\n",
       "    <tr>\n",
       "      <th>5</th>\n",
       "      <td>Tettigonoidea</td>\n",
       "      <td>Les Sauterelles</td>\n",
       "    </tr>\n",
       "    <tr>\n",
       "      <th>6</th>\n",
       "      <td>Neomyia, Calliphora et autres</td>\n",
       "      <td>Les Mouches aux reflets métalliques</td>\n",
       "    </tr>\n",
       "    <tr>\n",
       "      <th>7</th>\n",
       "      <td>Diptera</td>\n",
       "      <td>Les Mouches difficiles à déterminer</td>\n",
       "    </tr>\n",
       "    <tr>\n",
       "      <th>13</th>\n",
       "      <td>Tephritidae et autres</td>\n",
       "      <td>Les Téphritides et autres</td>\n",
       "    </tr>\n",
       "    <tr>\n",
       "      <th>16</th>\n",
       "      <td>Eupeodes, Scaeva</td>\n",
       "      <td>Les Syrphes à taches en virgules</td>\n",
       "    </tr>\n",
       "    <tr>\n",
       "      <th>18</th>\n",
       "      <td>Episyrphus balteatus</td>\n",
       "      <td>Le Syrphe ceinturé</td>\n",
       "    </tr>\n",
       "    <tr>\n",
       "      <th>19</th>\n",
       "      <td>Meliscaeva et autres</td>\n",
       "      <td>Les Syrphes à abdomen fin</td>\n",
       "    </tr>\n",
       "  </tbody>\n",
       "</table>\n",
       "</div>"
      ],
      "text/plain": [
       "                       insecte_sc  \\\n",
       "0                  Apis mellifera   \n",
       "1                          Bombus   \n",
       "3                      Sarcophaga   \n",
       "5                   Tettigonoidea   \n",
       "6   Neomyia, Calliphora et autres   \n",
       "7                         Diptera   \n",
       "13          Tephritidae et autres   \n",
       "16               Eupeodes, Scaeva   \n",
       "18           Episyrphus balteatus   \n",
       "19           Meliscaeva et autres   \n",
       "\n",
       "                                           insecte_fr  \n",
       "0                                 L'Abeille mellifère  \n",
       "1   Les Bourdons noirs à bande(s) jaune(s) et cul ...  \n",
       "3                                Les Mouches à damier  \n",
       "5                                     Les Sauterelles  \n",
       "6                 Les Mouches aux reflets métalliques  \n",
       "7                 Les Mouches difficiles à déterminer  \n",
       "13                          Les Téphritides et autres  \n",
       "16                   Les Syrphes à taches en virgules  \n",
       "18                                 Le Syrphe ceinturé  \n",
       "19                          Les Syrphes à abdomen fin  "
      ]
     },
     "execution_count": 10,
     "metadata": {},
     "output_type": "execute_result"
    }
   ],
   "source": [
    "insect.head(10) # la sélection s'est bien passée si on retrouve des valeurs remplacées"
   ]
  },
  {
   "cell_type": "code",
   "execution_count": 11,
   "metadata": {},
   "outputs": [
    {
     "data": {
      "text/plain": [
       "0"
      ]
     },
     "execution_count": 11,
     "metadata": {},
     "output_type": "execute_result"
    }
   ],
   "source": [
    "# Verification that the replacement happened on the whole dataset\n",
    "insect['insecte_sc'].isna().sum() # 0"
   ]
  },
  {
   "cell_type": "code",
   "execution_count": 12,
   "metadata": {},
   "outputs": [],
   "source": [
    "# If insecte_sc is \"autres\", delete the value of insect_sc and keep the value of insect_fr\n",
    "for i in range(len(insect)):\n",
    "    if insect.iloc[i, 0] == \"autres\":\n",
    "        insect.iloc[i, 0] = None"
   ]
  },
  {
   "cell_type": "code",
   "execution_count": 13,
   "metadata": {},
   "outputs": [
    {
     "data": {
      "text/html": [
       "<div>\n",
       "<style scoped>\n",
       "    .dataframe tbody tr th:only-of-type {\n",
       "        vertical-align: middle;\n",
       "    }\n",
       "\n",
       "    .dataframe tbody tr th {\n",
       "        vertical-align: top;\n",
       "    }\n",
       "\n",
       "    .dataframe thead th {\n",
       "        text-align: right;\n",
       "    }\n",
       "</style>\n",
       "<table border=\"1\" class=\"dataframe\">\n",
       "  <thead>\n",
       "    <tr style=\"text-align: right;\">\n",
       "      <th></th>\n",
       "      <th>insecte_sc</th>\n",
       "      <th>insecte_fr</th>\n",
       "    </tr>\n",
       "  </thead>\n",
       "  <tbody>\n",
       "    <tr>\n",
       "      <th>133</th>\n",
       "      <td>None</td>\n",
       "      <td>Les Araignées</td>\n",
       "    </tr>\n",
       "    <tr>\n",
       "      <th>891</th>\n",
       "      <td>None</td>\n",
       "      <td>Les Osmies</td>\n",
       "    </tr>\n",
       "    <tr>\n",
       "      <th>1701</th>\n",
       "      <td>None</td>\n",
       "      <td>Les Tenthrèdes</td>\n",
       "    </tr>\n",
       "    <tr>\n",
       "      <th>7989</th>\n",
       "      <td>None</td>\n",
       "      <td>Les Taupins</td>\n",
       "    </tr>\n",
       "  </tbody>\n",
       "</table>\n",
       "</div>"
      ],
      "text/plain": [
       "     insecte_sc      insecte_fr\n",
       "133        None   Les Araignées\n",
       "891        None      Les Osmies\n",
       "1701       None  Les Tenthrèdes\n",
       "7989       None     Les Taupins"
      ]
     },
     "execution_count": 13,
     "metadata": {},
     "output_type": "execute_result"
    }
   ],
   "source": [
    "# Print the value of insecte_fr if insecte_sc is None\n",
    "insect[insect[\"insecte_sc\"].isna()]"
   ]
  },
  {
   "cell_type": "code",
   "execution_count": 14,
   "metadata": {},
   "outputs": [
    {
     "data": {
      "text/plain": [
       "(577, 2)"
      ]
     },
     "execution_count": 14,
     "metadata": {},
     "output_type": "execute_result"
    }
   ],
   "source": [
    "original = [\"Les Araignées\", \"Les Osmies\", \"Les Tenthrèdes\", \"Les Taupins\"]\n",
    "replacement = [\"Araneae\", \"Osmia\", \"Tenthredinidae\", \"Elateridae\"]\n",
    "\n",
    "def replace_insecte_sc(row):\n",
    "    if pd.isna(row[\"insecte_sc\"]) and row[\"insecte_fr\"] in original:\n",
    "        index = original.index(row[\"insecte_fr\"])\n",
    "        return replacement[index]\n",
    "    else:\n",
    "        return row[\"insecte_sc\"]\n",
    "\n",
    "insect[\"insecte_sc\"] = insect.apply(replace_insecte_sc, axis=1)\n",
    "insect.shape # (577, 2)"
   ]
  },
  {
   "cell_type": "code",
   "execution_count": 15,
   "metadata": {},
   "outputs": [],
   "source": [
    "# Ortograph correction\n",
    "insect.replace(\"Tettigonoidea\", \"Tettigonioidea\", inplace=True)"
   ]
  },
  {
   "cell_type": "code",
   "execution_count": 16,
   "metadata": {},
   "outputs": [],
   "source": [
    "# Save the insect dataframe to a csv file\n",
    "insect.to_csv(\"data/insect/insect.csv\", index=False)"
   ]
  },
  {
   "cell_type": "markdown",
   "metadata": {},
   "source": [
    "# Classification des insectes\n",
    "\n",
    "La classification ci-dessous est réalisée à l'aide de la **base de donnée de ITIS**. ITIS (Integrated Taxonomic Information System) est un programme dont l'objectif est de rassembler des données taxonomiques sur les plantes, les animaux, les champignons et autres micro-organismes.\n",
    "\n",
    "Elle n'a **pas renvoyé de résultats assez satisfaisants** : sur les 519 valeurs uniques existantes dans la colonne *insecte_sc* du dataset spipoll, seules 272 étaient identifiées. On ne pouvait donc pas obtenir la classification d'une moitié d'entre elles environ.\n",
    "\n",
    "Une autre base de données a donc été utilisée pour réaliser la classification : celle du **NCBI**.\n",
    "\n",
    "Ce notebook sera conservé pour pour les pré-traitements apportés au dataset initial nous permettant d'obtenir le document *insect.csv*. Il sera réutilisé dans le prochain notebook *insect_classification_ncbi.ipynb*."
   ]
  },
  {
   "cell_type": "code",
   "execution_count": null,
   "metadata": {},
   "outputs": [],
   "source": [
    "# Chargement du jeu de données\n",
    "df = pd.read_csv('data/insect/insect.csv')"
   ]
  },
  {
   "cell_type": "code",
   "execution_count": null,
   "metadata": {},
   "outputs": [],
   "source": [
    "# Identification des espèces non présentes dans les databases de pytaxize\n",
    "unknown = classification_functions.find_unknown(df, 'insecte_sc')"
   ]
  },
  {
   "cell_type": "code",
   "execution_count": null,
   "metadata": {},
   "outputs": [],
   "source": [
    "# Enregistrement des espèces inconnues\n",
    "unknown_df = pd.DataFrame(unknown, columns=['Unknown'])\n",
    "unknown_df.to_csv('data/insect/insects_unknown.csv', index=False)"
   ]
  },
  {
   "cell_type": "code",
   "execution_count": null,
   "metadata": {},
   "outputs": [],
   "source": [
    "unknown = pd.read_csv('data/insect/insects_unknown.csv')\n",
    "unknown = unknown['Unknown'].tolist()\n",
    "unknown[:10]"
   ]
  },
  {
   "cell_type": "code",
   "execution_count": null,
   "metadata": {},
   "outputs": [],
   "source": [
    "# Suppression des lignes contenant des noms non retrouvés \n",
    "df = df[~df['insecte_sc'].isin(unknown)]\n",
    "len(df) # 309"
   ]
  },
  {
   "cell_type": "code",
   "execution_count": null,
   "metadata": {},
   "outputs": [],
   "source": [
    "# Remplacement de certaines valeurs qui bloquent\n",
    "# Après avoir fait tourné le bloc ci-dessous\n",
    "df = df.replace('Stelis, Heriades', 'Heriades')\n",
    "df = df.replace('Ammophila, Hoplammophila', 'Hoplammophila')\n",
    "df = df.replace('Allantus, Macrophya et autres', 'Allantus')\n",
    "df = df.replace('Tibellus, Paratibellus', 'Tibellus')\n",
    "df = df.replace('Tenthredo, Rhogogaster', 'Tenthredo')\n",
    "df = df.replace('Nomioides, Celhalictus', 'Nomioides')"
   ]
  },
  {
   "cell_type": "code",
   "execution_count": null,
   "metadata": {},
   "outputs": [],
   "source": [
    "len(df['insecte_sc'].unique()) # 275    "
   ]
  },
  {
   "cell_type": "code",
   "execution_count": null,
   "metadata": {},
   "outputs": [],
   "source": [
    "classif = classification_functions.get_classification_df(df, 'insecte_sc')"
   ]
  },
  {
   "cell_type": "code",
   "execution_count": null,
   "metadata": {},
   "outputs": [],
   "source": [
    "# Création des colonnes Ordre, Super famille, Famille, Sous famille, Genre, Espèce\n",
    "df['classification'] = df['insecte_sc'].apply(lambda x: classif[x] if x in classif else None)\n",
    "\n",
    "df['Ordre'] = df['classification'].apply(lambda x: x['Ordre'] if isinstance(x, dict) and 'Ordre' in x else None)\n",
    "df['Super famille'] = df['classification'].apply(lambda x: x['Super famille'] if isinstance(x, dict) and 'Super famille' in x else None)\n",
    "df['Famille'] = df['classification'].apply(lambda x: x['Famille'] if isinstance(x, dict) and 'Famille' in x else None)\n",
    "df['Sous famille'] = df['classification'].apply(lambda x: x['Sous famille'] if isinstance(x, dict) and 'Sous famille' in x else None)\n",
    "df['Genre'] = df['classification'].apply(lambda x: x['Genre'] if isinstance(x, dict) and 'Genre' in x else None)\n",
    "df['Espèce'] = df['classification'].apply(lambda x: x['Espèce'] if isinstance(x, dict) and 'Espèce' in x else None)\n",
    "\n",
    "df.head(30)"
   ]
  },
  {
   "cell_type": "code",
   "execution_count": null,
   "metadata": {},
   "outputs": [],
   "source": [
    "# Enregistrement du nouveau dataframe\n",
    "df = df.rename(columns={'x': 'Insecte'})\n",
    "df_classif = df[['Insecte', 'Ordre', 'Super famille', 'Famille', 'Sous famille', 'Genre', 'Espèce']]\n",
    "df_classif.to_csv('data_insects/insect_classification_without_pp.csv', index=False)\n",
    "df_classif.head()"
   ]
  }
 ],
 "metadata": {
  "kernelspec": {
   "display_name": "Python 3",
   "language": "python",
   "name": "python3"
  },
  "language_info": {
   "codemirror_mode": {
    "name": "ipython",
    "version": 3
   },
   "file_extension": ".py",
   "mimetype": "text/x-python",
   "name": "python",
   "nbconvert_exporter": "python",
   "pygments_lexer": "ipython3",
   "version": "3.12.1"
  }
 },
 "nbformat": 4,
 "nbformat_minor": 2
}
