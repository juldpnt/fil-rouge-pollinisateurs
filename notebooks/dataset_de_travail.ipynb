{
 "cells": [
  {
   "cell_type": "markdown",
   "id": "20b40e83-1156-4d5e-8a2d-bcf87de2cf25",
   "metadata": {},
   "source": [
    "# Concaténation des datasets séparés"
   ]
  },
  {
   "cell_type": "code",
   "execution_count": 17,
   "id": "6fcf0174-136f-4176-9697-a7329cc87c35",
   "metadata": {
    "tags": []
   },
   "outputs": [],
   "source": [
    "import pandas as pd"
   ]
  },
  {
   "cell_type": "code",
   "execution_count": 18,
   "id": "f58afcc0-d748-424e-a6d0-cd6ef3d27d77",
   "metadata": {
    "tags": []
   },
   "outputs": [
    {
     "name": "stderr",
     "output_type": "stream",
     "text": [
      "C:\\Users\\guilts0300\\AppData\\Local\\Temp\\ipykernel_21500\\3775777796.py:9: DtypeWarning: Columns (17,35) have mixed types. Specify dtype option on import or set low_memory=False.\n",
      "  dfs = [pd.read_csv(file, sep='\\t') for file in file_paths]\n",
      "C:\\Users\\guilts0300\\AppData\\Local\\Temp\\ipykernel_21500\\3775777796.py:9: DtypeWarning: Columns (33) have mixed types. Specify dtype option on import or set low_memory=False.\n",
      "  dfs = [pd.read_csv(file, sep='\\t') for file in file_paths]\n",
      "C:\\Users\\guilts0300\\AppData\\Local\\Temp\\ipykernel_21500\\3775777796.py:9: DtypeWarning: Columns (17) have mixed types. Specify dtype option on import or set low_memory=False.\n",
      "  dfs = [pd.read_csv(file, sep='\\t') for file in file_paths]\n"
     ]
    }
   ],
   "source": [
    "# Chargement des fichiers txt \n",
    "file_paths = [\n",
    "    \"./spipoll_1_200k_202311130947.txt\",\n",
    "    \"./spipoll_200k_400k_202311130949.txt\",\n",
    "    \"./spipoll_400k_200k_202311130959.txt\",\n",
    "    \"./spipoll_600k_75k_202311131020.txt\"\n",
    "]\n",
    "\n",
    "dfs = [pd.read_csv(file, sep='\\t') for file in file_paths]\n",
    "\n",
    "# Concaténation des dataframes en un seul\n",
    "df = pd.concat(dfs, ignore_index=True)"
   ]
  },
  {
   "cell_type": "code",
   "execution_count": 19,
   "id": "cc8729fb-5a87-4c48-812a-915200c4fe6a",
   "metadata": {
    "tags": []
   },
   "outputs": [],
   "source": [
    "# Suppression des colonnes inutilisées\n",
    "unused_columns = ['collection_nom', 'protocole_long', 'user_id',\n",
    "       'user_pseudo', 'user_email', 'commentaire', \n",
    "       'photo_fleur', 'photo_plante', 'photo_feuille', 'photo_lieu',\n",
    "       'distance_ruche','collection_heure_fin', 'insecte_commentaire', 'insecte_photo_1',\n",
    "       'insecte_photo_2', 'insecte_vu_sur_fleur',\n",
    "       'nb_suggestion', 'date_creation_bdd', 'date_update_bdd']"
   ]
  },
  {
   "cell_type": "code",
   "execution_count": 20,
   "id": "b5c7cf1c-49bb-440b-a7a6-c24ec2ec9031",
   "metadata": {
    "tags": []
   },
   "outputs": [],
   "source": [
    "df.drop(columns=unused_columns, inplace=True)"
   ]
  },
  {
   "cell_type": "code",
   "execution_count": null,
   "id": "97564116-a5e4-499b-b955-9258f791cae4",
   "metadata": {},
   "outputs": [],
   "source": [
    "# Sauvegarder le dataframe au format CSV\n",
    "df.to_csv(\"data_spipoll_suz.csv\", index=False)"
   ]
  }
 ],
 "metadata": {
  "kernelspec": {
   "display_name": "Python 3 (ipykernel)",
   "language": "python",
   "name": "python3"
  },
  "language_info": {
   "codemirror_mode": {
    "name": "ipython",
    "version": 3
   },
   "file_extension": ".py",
   "mimetype": "text/x-python",
   "name": "python",
   "nbconvert_exporter": "python",
   "pygments_lexer": "ipython3",
   "version": "3.11.4"
  }
 },
 "nbformat": 4,
 "nbformat_minor": 5
}
