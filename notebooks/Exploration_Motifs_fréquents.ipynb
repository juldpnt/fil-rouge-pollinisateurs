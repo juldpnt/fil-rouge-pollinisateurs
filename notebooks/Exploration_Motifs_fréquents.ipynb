{
 "cells": [
  {
   "cell_type": "markdown",
   "id": "400bc240",
   "metadata": {
    "jp-MarkdownHeadingCollapsed": true,
    "tags": []
   },
   "source": [
    "# Chargement des données"
   ]
  },
  {
   "cell_type": "markdown",
   "id": "8abb6665-d711-4b99-9507-90d6c84e9d0b",
   "metadata": {},
   "source": [
    "On fusionne les 4 datasets des données du SPIPOLL et supprime les colonnes jugées inutiles. On obtient alors le jeu \"data\" avec plus que 22 variables au lieu de 41 initialement."
   ]
  },
  {
   "cell_type": "code",
   "execution_count": 2,
   "id": "84b31ade-d54b-4515-9e59-0c3d08c41500",
   "metadata": {
    "tags": []
   },
   "outputs": [],
   "source": [
    "import pandas as pd"
   ]
  },
  {
   "cell_type": "code",
   "execution_count": 110,
   "id": "73e9ebfd-fe9d-4c5c-90e5-0eb243dced3f",
   "metadata": {
    "tags": []
   },
   "outputs": [
    {
     "name": "stderr",
     "output_type": "stream",
     "text": [
      "C:\\Users\\guilts0300\\AppData\\Local\\Temp\\ipykernel_10524\\2029406657.py:2: DtypeWarning: Columns (17,35) have mixed types. Specify dtype option on import or set low_memory=False.\n",
      "  df1 = pd.read_csv(\"./spipoll_1_200k_202311130947.txt\", sep=\"\\t\")\n",
      "C:\\Users\\guilts0300\\AppData\\Local\\Temp\\ipykernel_10524\\2029406657.py:3: DtypeWarning: Columns (33) have mixed types. Specify dtype option on import or set low_memory=False.\n",
      "  df2 = pd.read_csv(\"./spipoll_200k_400k_202311130949.txt\", sep=\"\\t\")\n",
      "C:\\Users\\guilts0300\\AppData\\Local\\Temp\\ipykernel_10524\\2029406657.py:4: DtypeWarning: Columns (17) have mixed types. Specify dtype option on import or set low_memory=False.\n",
      "  df3 = pd.read_csv(\"./spipoll_400k_200k_202311130959.txt\", sep=\"\\t\")\n"
     ]
    }
   ],
   "source": [
    "# Read data\n",
    "df1 = pd.read_csv(\"./spipoll_1_200k_202311130947.txt\", sep=\"\\t\")\n",
    "df2 = pd.read_csv(\"./spipoll_200k_400k_202311130949.txt\", sep=\"\\t\")\n",
    "df3 = pd.read_csv(\"./spipoll_400k_200k_202311130959.txt\", sep=\"\\t\")\n",
    "df4 = pd.read_csv(\"./spipoll_600k_75k_202311131020.txt\", sep=\"\\t\")\n",
    "\n",
    "# Merge dataframes\n",
    "df = pd.concat([df1, df2, df3, df4])"
   ]
  },
  {
   "cell_type": "code",
   "execution_count": 111,
   "id": "f91a0e2e-8ab3-47bf-89c1-ed33f4e7a0ea",
   "metadata": {
    "tags": []
   },
   "outputs": [
    {
     "data": {
      "text/plain": [
       "Index(['collection_id', 'collection_nom', 'protocole_long', 'user_id',\n",
       "       'user_pseudo', 'user_email', 'commentaire', 'plante_sc', 'plante_fr',\n",
       "       'plante_precision', 'plante_inconnue', 'plante_caractere',\n",
       "       'photo_fleur', 'photo_plante', 'photo_feuille', 'photo_lieu',\n",
       "       'coordonnees_GPS', 'code_postal', 'habitat', 'distance_ruche',\n",
       "       'grande_culture', 'collection_date', 'collection_heure_debut',\n",
       "       'collection_heure_fin', 'nebulosite', 'temperature', 'vent',\n",
       "       'fleur_ombre', 'insecte_sc', 'insecte_fr',\n",
       "       'insecte_denominationPlusPrecise', 'insecte_CdNomtaxref',\n",
       "       'insecte_abondance', 'insecte_commentaire', 'insecte_photo_1',\n",
       "       'insecte_photo_2', 'insecte_vu_sur_fleur', 'nb_validation',\n",
       "       'nb_suggestion', 'date_creation_bdd', 'date_update_bdd'],\n",
       "      dtype='object')"
      ]
     },
     "execution_count": 111,
     "metadata": {},
     "output_type": "execute_result"
    }
   ],
   "source": [
    "df.columns"
   ]
  },
  {
   "cell_type": "code",
   "execution_count": 112,
   "id": "c0944524-5507-4ec5-a318-0602548c019e",
   "metadata": {
    "tags": []
   },
   "outputs": [],
   "source": [
    "# List of unused variables\n",
    "unused_vars = ['collection_nom', 'user_pseudo', 'user_email', 'commentaire', 'protocole_long', 'user_id',\n",
    "              'photo_lieu', 'photo_fleur', 'photo_plante', 'photo_feuille', 'photo_lieu',\n",
    "              'distance_ruche', 'collection_heure_fin', \n",
    "              'insecte_commentaire', 'insecte_photo_1','insecte_photo_2', 'insecte_vu_sur_fleur',\n",
    "              'insecte_photo_2', 'nb_suggestion',              \n",
    "              'date_creation_bdd', 'date_update_bdd']"
   ]
  },
  {
   "cell_type": "code",
   "execution_count": 113,
   "id": "1fe30174-cab5-4f86-acb7-21c0bd31b924",
   "metadata": {
    "tags": []
   },
   "outputs": [],
   "source": [
    "# Remove unused variables\n",
    "df.drop(columns=unused_vars, inplace=True)"
   ]
  },
  {
   "cell_type": "code",
   "execution_count": 114,
   "id": "e282b42c-d898-4a70-b606-297277225190",
   "metadata": {
    "tags": []
   },
   "outputs": [],
   "source": [
    "# Save the dataframe as a CSV file\n",
    "df.to_csv(\"./data_spipoll_suz.csv\", index=False)"
   ]
  },
  {
   "cell_type": "markdown",
   "id": "f9d0c766",
   "metadata": {
    "jp-MarkdownHeadingCollapsed": true,
    "tags": []
   },
   "source": [
    "# Transformation de 'habitat'"
   ]
  },
  {
   "cell_type": "markdown",
   "id": "8815cb6b-dc68-4521-9214-3fcc92fd6207",
   "metadata": {},
   "source": [
    "Pour chacune des lignes de la colonne habitat, on crée autant de colonnes que d'habitats précisés.\n",
    "On obtient alors 6 colonnes habitats au total, avec pour chacune d'entre elle un seul habitat lorsque plusieurs étaient précisés dans la colonne initiale.\n",
    "On obtient le dataset data_2 ."
   ]
  },
  {
   "cell_type": "code",
   "execution_count": 71,
   "id": "dfb38197",
   "metadata": {
    "tags": []
   },
   "outputs": [
    {
     "name": "stderr",
     "output_type": "stream",
     "text": [
      "C:\\Users\\guilts0300\\AppData\\Local\\Temp\\ipykernel_9896\\2372223454.py:1: DtypeWarning: Columns (7) have mixed types. Specify dtype option on import or set low_memory=False.\n",
      "  data = pd.read_csv(\"./data_spipoll_suz.csv\")\n"
     ]
    }
   ],
   "source": [
    "data = pd.read_csv(\"./data_spipoll_suz.csv\")"
   ]
  },
  {
   "cell_type": "code",
   "execution_count": 72,
   "id": "201450e5",
   "metadata": {
    "tags": []
   },
   "outputs": [
    {
     "name": "stdout",
     "output_type": "stream",
     "text": [
      "Index(['collection_id', 'plante_sc', 'plante_fr', 'plante_precision',\n",
      "       'plante_inconnue', 'plante_caractere', 'coordonnees_GPS', 'code_postal',\n",
      "       'habitat', 'grande_culture', 'collection_date',\n",
      "       'collection_heure_debut', 'nebulosite', 'temperature', 'vent',\n",
      "       'fleur_ombre', 'insecte_sc', 'insecte_fr',\n",
      "       'insecte_denominationPlusPrecise', 'insecte_CdNomtaxref',\n",
      "       'insecte_abondance', 'nb_validation'],\n",
      "      dtype='object')\n",
      "(675712, 22)\n"
     ]
    }
   ],
   "source": [
    "print(data.columns)\n",
    "print(data.shape)"
   ]
  },
  {
   "cell_type": "code",
   "execution_count": 73,
   "id": "7e92fd03-7a10-490a-8189-2fd33efb61ca",
   "metadata": {
    "tags": []
   },
   "outputs": [],
   "source": [
    "# One hot encoding après création de nouvelles colonnes pour chacun des habitats spécifiés entre ','\n",
    "habitat_dummies = data['habitat'].str.get_dummies(',')\n",
    "\n",
    "# Concaténation les colonnes de dummies avec le DataFrame d'origine\n",
    "data = pd.concat([data, habitat_dummies], axis=1)\n",
    "\n",
    "# Suppression de la colonne d'origine \"habitat\"\n",
    "data.drop(columns=['habitat'], inplace=True)"
   ]
  },
  {
   "cell_type": "code",
   "execution_count": 75,
   "id": "0a953f79-d71b-4088-8fa0-805aec6554f9",
   "metadata": {
    "tags": []
   },
   "outputs": [],
   "source": [
    "# Save the dataframe as a CSV file\n",
    "data.to_csv(\"./fulldata_habitats.csv\", index=False)"
   ]
  },
  {
   "cell_type": "markdown",
   "id": "2c507586-a7ba-4f6c-b133-b2f37491c3ac",
   "metadata": {
    "jp-MarkdownHeadingCollapsed": true,
    "tags": []
   },
   "source": [
    "# Sélection de variables pour la recherche de motifs fréquents "
   ]
  },
  {
   "cell_type": "code",
   "execution_count": 76,
   "id": "e09bc275-94a2-4803-91ca-03db56857c66",
   "metadata": {
    "tags": []
   },
   "outputs": [
    {
     "name": "stderr",
     "output_type": "stream",
     "text": [
      "C:\\Users\\guilts0300\\AppData\\Local\\Temp\\ipykernel_9896\\1412197100.py:2: DtypeWarning: Columns (7) have mixed types. Specify dtype option on import or set low_memory=False.\n",
      "  data_2 = pd.read_csv(\"./fulldata_habitats.csv\")\n"
     ]
    }
   ],
   "source": [
    "import pandas as pd\n",
    "data_2 = pd.read_csv(\"./fulldata_habitats.csv\")"
   ]
  },
  {
   "cell_type": "code",
   "execution_count": 77,
   "id": "5831af94-78f4-4d1b-b578-904acebf5a41",
   "metadata": {
    "tags": []
   },
   "outputs": [
    {
     "data": {
      "text/plain": [
       "collection_id                      76005\n",
       "plante_sc                           2651\n",
       "plante_fr                           2216\n",
       "plante_precision                    7634\n",
       "plante_inconnue                        2\n",
       "plante_caractere                       3\n",
       "coordonnees_GPS                    73052\n",
       "code_postal                         4534\n",
       "grande_culture                         3\n",
       "collection_date                     4520\n",
       "collection_heure_debut             70010\n",
       "nebulosite                             4\n",
       "temperature                            4\n",
       "vent                                   5\n",
       "fleur_ombre                            2\n",
       "insecte_sc                           520\n",
       "insecte_fr                           580\n",
       "insecte_denominationPlusPrecise     1736\n",
       "insecte_CdNomtaxref                 1754\n",
       "insecte_abondance                      4\n",
       "nb_validation                          4\n",
       "bord de l'eau                          2\n",
       "bord de route                          2\n",
       "forêt                                  2\n",
       "grande(s) culture(s)                   2\n",
       "jardin privé                           2\n",
       "littoral                               2\n",
       "parc ou jardin public                  2\n",
       "prairie                                2\n",
       "péri-urbain                            2\n",
       "rochers                                2\n",
       "rural                                  2\n",
       "urbain                                 2\n",
       "dtype: int64"
      ]
     },
     "execution_count": 77,
     "metadata": {},
     "output_type": "execute_result"
    }
   ],
   "source": [
    "data_2.nunique()"
   ]
  },
  {
   "cell_type": "code",
   "execution_count": 78,
   "id": "9317ba1e-01a2-499e-8959-9c300f4662f5",
   "metadata": {
    "tags": []
   },
   "outputs": [
    {
     "data": {
      "text/plain": [
       "Index(['collection_id', 'plante_sc', 'plante_fr', 'plante_precision',\n",
       "       'plante_inconnue', 'plante_caractere', 'coordonnees_GPS', 'code_postal',\n",
       "       'grande_culture', 'collection_date', 'collection_heure_debut',\n",
       "       'nebulosite', 'temperature', 'vent', 'fleur_ombre', 'insecte_sc',\n",
       "       'insecte_fr', 'insecte_denominationPlusPrecise', 'insecte_CdNomtaxref',\n",
       "       'insecte_abondance', 'nb_validation', 'bord de l'eau', 'bord de route',\n",
       "       'forêt', 'grande(s) culture(s)', 'jardin privé', 'littoral',\n",
       "       'parc ou jardin public', 'prairie', 'péri-urbain', 'rochers', 'rural',\n",
       "       'urbain'],\n",
       "      dtype='object')"
      ]
     },
     "execution_count": 78,
     "metadata": {},
     "output_type": "execute_result"
    }
   ],
   "source": [
    "data_2.columns"
   ]
  },
  {
   "cell_type": "code",
   "execution_count": 79,
   "id": "b4643f1d-0c42-4e98-bdb3-75362a16501f",
   "metadata": {
    "tags": []
   },
   "outputs": [],
   "source": [
    "data_3 = data_2.drop(columns=['collection_id', 'plante_fr', 'plante_precision',\n",
    "       'plante_inconnue', 'plante_caractere', 'coordonnees_GPS', 'code_postal',\n",
    "        'collection_date', 'collection_heure_debut',\n",
    "       'fleur_ombre', 'insecte_fr', 'insecte_denominationPlusPrecise', 'insecte_CdNomtaxref',\n",
    "       'insecte_abondance', 'nb_validation'], inplace=False)"
   ]
  },
  {
   "cell_type": "code",
   "execution_count": 80,
   "id": "68d0b508-461d-4a95-9f83-e8a87f6a721f",
   "metadata": {
    "tags": []
   },
   "outputs": [
    {
     "data": {
      "text/plain": [
       "Index(['plante_sc', 'grande_culture', 'nebulosite', 'temperature', 'vent',\n",
       "       'insecte_sc', 'bord de l'eau', 'bord de route', 'forêt',\n",
       "       'grande(s) culture(s)', 'jardin privé', 'littoral',\n",
       "       'parc ou jardin public', 'prairie', 'péri-urbain', 'rochers', 'rural',\n",
       "       'urbain'],\n",
       "      dtype='object')"
      ]
     },
     "execution_count": 80,
     "metadata": {},
     "output_type": "execute_result"
    }
   ],
   "source": [
    "data_3.columns"
   ]
  },
  {
   "cell_type": "code",
   "execution_count": 81,
   "id": "3670098c-bbfa-4947-9848-eeb56559e79a",
   "metadata": {
    "tags": []
   },
   "outputs": [
    {
     "data": {
      "text/plain": [
       "Bombus                              37572\n",
       "Apis mellifera                      30438\n",
       "Halictus, Lasioglossum et autres    28149\n",
       "Eristalis                           22193\n",
       "Neomyia, Calliphora et autres       16937\n",
       "Halictidae                          11215\n",
       "Formicinae                          10580\n",
       "Oedemera                             9644\n",
       "Sphaerophoria                        9622\n",
       "Ichneumonidae                        9169\n",
       "Miridae                              8695\n",
       "Episyrphus balteatus                 8233\n",
       "Andrenidae                           7679\n",
       "Andrenidae et autres                 7435\n",
       "Sarcophaga                           7370\n",
       "Empis et autres                      6713\n",
       "Nitidulidae                          6690\n",
       "Hylaeus                              6172\n",
       "Tettigonoidea                        5824\n",
       "Coccinellidae                        5780\n",
       "Apidae et autres                     5210\n",
       "Meliscaeva et autres                 5206\n",
       "Syrphus, Dasysyrphus et autres       5170\n",
       "Polistes                             5151\n",
       "Pieris                               5063\n",
       "Megachile                            4948\n",
       "autres                               4775\n",
       "Crabronidae                          4277\n",
       "Insecte inconnu                      4272\n",
       "Oxythyrea funesta                    4258\n",
       "Name: insecte_sc, dtype: int64"
      ]
     },
     "execution_count": 81,
     "metadata": {},
     "output_type": "execute_result"
    }
   ],
   "source": [
    "data_3['insecte_sc'].value_counts().head(30)"
   ]
  },
  {
   "cell_type": "code",
   "execution_count": 82,
   "id": "a49b3c90-c638-4229-ac00-e2c6434930e4",
   "metadata": {
    "tags": []
   },
   "outputs": [],
   "source": [
    "# Save the dataframe as a CSV file\n",
    "data_3.to_csv(\"./data_plantes&insectes&habitats.csv\", index=False)"
   ]
  },
  {
   "cell_type": "markdown",
   "id": "15a37dd0-487b-48da-b832-e030b298e917",
   "metadata": {},
   "source": [
    "# Recherche de motifs fréquents "
   ]
  },
  {
   "cell_type": "markdown",
   "id": "1c4b9a0a-02fa-4b54-8d20-048dd41d80de",
   "metadata": {
    "tags": []
   },
   "source": [
    "## Librairies"
   ]
  },
  {
   "cell_type": "code",
   "execution_count": 142,
   "id": "82f7fbd8-ca5a-47fd-92d5-65da7bd7fd42",
   "metadata": {
    "tags": []
   },
   "outputs": [
    {
     "name": "stdout",
     "output_type": "stream",
     "text": [
      "Collecting mlxtend\n",
      "  Obtaining dependency information for mlxtend from https://files.pythonhosted.org/packages/1c/07/512f6a780239ad6ce06ce2aa7b4067583f5ddcfc7703a964a082c706a070/mlxtend-0.23.1-py3-none-any.whl.metadata\n",
      "  Downloading mlxtend-0.23.1-py3-none-any.whl.metadata (7.3 kB)\n",
      "Requirement already satisfied: scipy>=1.2.1 in c:\\users\\guilts0300\\appdata\\local\\anaconda3\\lib\\site-packages (from mlxtend) (1.10.1)\n",
      "Requirement already satisfied: numpy>=1.16.2 in c:\\users\\guilts0300\\appdata\\local\\anaconda3\\lib\\site-packages (from mlxtend) (1.24.3)\n",
      "Requirement already satisfied: pandas>=0.24.2 in c:\\users\\guilts0300\\appdata\\local\\anaconda3\\lib\\site-packages (from mlxtend) (1.5.3)\n",
      "Requirement already satisfied: scikit-learn>=1.0.2 in c:\\users\\guilts0300\\appdata\\local\\anaconda3\\lib\\site-packages (from mlxtend) (1.3.0)\n",
      "Requirement already satisfied: matplotlib>=3.0.0 in c:\\users\\guilts0300\\appdata\\roaming\\python\\python311\\site-packages (from mlxtend) (3.8.2)\n",
      "Requirement already satisfied: joblib>=0.13.2 in c:\\users\\guilts0300\\appdata\\local\\anaconda3\\lib\\site-packages (from mlxtend) (1.2.0)\n",
      "Requirement already satisfied: contourpy>=1.0.1 in c:\\users\\guilts0300\\appdata\\local\\anaconda3\\lib\\site-packages (from matplotlib>=3.0.0->mlxtend) (1.0.5)\n",
      "Requirement already satisfied: cycler>=0.10 in c:\\users\\guilts0300\\appdata\\local\\anaconda3\\lib\\site-packages (from matplotlib>=3.0.0->mlxtend) (0.11.0)\n",
      "Requirement already satisfied: fonttools>=4.22.0 in c:\\users\\guilts0300\\appdata\\local\\anaconda3\\lib\\site-packages (from matplotlib>=3.0.0->mlxtend) (4.25.0)\n",
      "Requirement already satisfied: kiwisolver>=1.3.1 in c:\\users\\guilts0300\\appdata\\local\\anaconda3\\lib\\site-packages (from matplotlib>=3.0.0->mlxtend) (1.4.4)\n",
      "Requirement already satisfied: packaging>=20.0 in c:\\users\\guilts0300\\appdata\\local\\anaconda3\\lib\\site-packages (from matplotlib>=3.0.0->mlxtend) (23.0)\n",
      "Requirement already satisfied: pillow>=8 in c:\\users\\guilts0300\\appdata\\local\\anaconda3\\lib\\site-packages (from matplotlib>=3.0.0->mlxtend) (9.4.0)\n",
      "Requirement already satisfied: pyparsing>=2.3.1 in c:\\users\\guilts0300\\appdata\\local\\anaconda3\\lib\\site-packages (from matplotlib>=3.0.0->mlxtend) (3.0.9)\n",
      "Requirement already satisfied: python-dateutil>=2.7 in c:\\users\\guilts0300\\appdata\\local\\anaconda3\\lib\\site-packages (from matplotlib>=3.0.0->mlxtend) (2.8.2)\n",
      "Requirement already satisfied: pytz>=2020.1 in c:\\users\\guilts0300\\appdata\\local\\anaconda3\\lib\\site-packages (from pandas>=0.24.2->mlxtend) (2022.7)\n",
      "Requirement already satisfied: threadpoolctl>=2.0.0 in c:\\users\\guilts0300\\appdata\\local\\anaconda3\\lib\\site-packages (from scikit-learn>=1.0.2->mlxtend) (2.2.0)\n",
      "Requirement already satisfied: six>=1.5 in c:\\users\\guilts0300\\appdata\\local\\anaconda3\\lib\\site-packages (from python-dateutil>=2.7->matplotlib>=3.0.0->mlxtend) (1.16.0)\n",
      "Downloading mlxtend-0.23.1-py3-none-any.whl (1.4 MB)\n",
      "   ---------------------------------------- 0.0/1.4 MB ? eta -:--:--\n",
      "   ---------- ----------------------------- 0.4/1.4 MB 11.6 MB/s eta 0:00:01\n",
      "   --------------------- ------------------ 0.8/1.4 MB 12.4 MB/s eta 0:00:01\n",
      "   ---------------------------- ----------- 1.0/1.4 MB 9.3 MB/s eta 0:00:01\n",
      "   -------------------------------------- - 1.4/1.4 MB 8.1 MB/s eta 0:00:01\n",
      "   ---------------------------------------  1.4/1.4 MB 8.3 MB/s eta 0:00:01\n",
      "   ---------------------------------------- 1.4/1.4 MB 6.6 MB/s eta 0:00:00\n",
      "Installing collected packages: mlxtend\n",
      "Successfully installed mlxtend-0.23.1\n"
     ]
    }
   ],
   "source": [
    "# Installation de la librairie permettant la recherche de motifs fréquents \n",
    "! pip install mlxtend"
   ]
  },
  {
   "cell_type": "code",
   "execution_count": 9,
   "id": "16070534-88d0-4e32-8780-c84855f38d65",
   "metadata": {
    "tags": []
   },
   "outputs": [],
   "source": [
    "from mlxtend.frequent_patterns import apriori\n",
    "from mlxtend.frequent_patterns import association_rules"
   ]
  },
  {
   "cell_type": "markdown",
   "id": "01a7a09f-0598-4252-b2f8-8a51036816b6",
   "metadata": {},
   "source": [
    "## Exemple pour le genre d'insecte Bombus"
   ]
  },
  {
   "cell_type": "code",
   "execution_count": 129,
   "id": "d2440636-4eff-4b77-881d-b15417b75045",
   "metadata": {
    "tags": []
   },
   "outputs": [],
   "source": [
    "data_bombus=data_3.where(data_3['insecte_sc']=='Bombus').dropna(subset=['insecte_sc'])"
   ]
  },
  {
   "cell_type": "code",
   "execution_count": 130,
   "id": "eb9a3bc4-153f-4b56-866e-c2a7dc53cedb",
   "metadata": {
    "tags": []
   },
   "outputs": [
    {
     "data": {
      "text/plain": [
       "1486"
      ]
     },
     "execution_count": 130,
     "metadata": {},
     "output_type": "execute_result"
    }
   ],
   "source": [
    "data_bombus.nunique().sum()"
   ]
  },
  {
   "cell_type": "code",
   "execution_count": 131,
   "id": "3fe31b23-047d-41fb-8c86-74c008a36ca1",
   "metadata": {
    "tags": []
   },
   "outputs": [],
   "source": [
    "# One hot encoding\n",
    "df_encoded = pd.get_dummies(data_bombus)\n",
    "df_encoded = df_encoded.astype(bool)"
   ]
  },
  {
   "cell_type": "code",
   "execution_count": 133,
   "id": "cede4857-e06f-425e-a34c-38930007d12b",
   "metadata": {
    "tags": []
   },
   "outputs": [
    {
     "data": {
      "text/html": [
       "<div>\n",
       "<style scoped>\n",
       "    .dataframe tbody tr th:only-of-type {\n",
       "        vertical-align: middle;\n",
       "    }\n",
       "\n",
       "    .dataframe tbody tr th {\n",
       "        vertical-align: top;\n",
       "    }\n",
       "\n",
       "    .dataframe thead th {\n",
       "        text-align: right;\n",
       "    }\n",
       "</style>\n",
       "<table border=\"1\" class=\"dataframe\">\n",
       "  <thead>\n",
       "    <tr style=\"text-align: right;\">\n",
       "      <th></th>\n",
       "      <th>support</th>\n",
       "      <th>itemsets</th>\n",
       "    </tr>\n",
       "  </thead>\n",
       "  <tbody>\n",
       "    <tr>\n",
       "      <th>6</th>\n",
       "      <td>0.815102</td>\n",
       "      <td>(nebulosite_0-25%, insecte_sc_Bombus)</td>\n",
       "    </tr>\n",
       "    <tr>\n",
       "      <th>7</th>\n",
       "      <td>0.601858</td>\n",
       "      <td>(temperature_20-30ºC, insecte_sc_Bombus)</td>\n",
       "    </tr>\n",
       "    <tr>\n",
       "      <th>5</th>\n",
       "      <td>0.547136</td>\n",
       "      <td>(insecte_sc_Bombus, grande_culture_Oui)</td>\n",
       "    </tr>\n",
       "    <tr>\n",
       "      <th>4</th>\n",
       "      <td>0.541840</td>\n",
       "      <td>(nebulosite_0-25%, grande_culture_Oui)</td>\n",
       "    </tr>\n",
       "    <tr>\n",
       "      <th>8</th>\n",
       "      <td>0.541840</td>\n",
       "      <td>(nebulosite_0-25%, insecte_sc_Bombus, grande_c...</td>\n",
       "    </tr>\n",
       "  </tbody>\n",
       "</table>\n",
       "</div>"
      ],
      "text/plain": [
       "    support                                           itemsets\n",
       "6  0.815102              (nebulosite_0-25%, insecte_sc_Bombus)\n",
       "7  0.601858           (temperature_20-30ºC, insecte_sc_Bombus)\n",
       "5  0.547136            (insecte_sc_Bombus, grande_culture_Oui)\n",
       "4  0.541840             (nebulosite_0-25%, grande_culture_Oui)\n",
       "8  0.541840  (nebulosite_0-25%, insecte_sc_Bombus, grande_c..."
      ]
     },
     "execution_count": 133,
     "metadata": {},
     "output_type": "execute_result"
    }
   ],
   "source": [
    "frequent_itemsets = apriori(df_encoded, min_support=0.5, use_colnames=True)\n",
    "\n",
    "# Filtrer les motifs fréquents pour une taille minimale de 2\n",
    "frequent_itemsets['length'] = frequent_itemsets['itemsets'].apply(lambda x: len(x))\n",
    "frequent_itemsets = frequent_itemsets[frequent_itemsets['length'] >= 2].drop(columns='length')\n",
    "\n",
    "# Classement par ordre décroissant de support \n",
    "frequent_itemsets = frequent_itemsets.sort_values(by='support', ascending=False)\n",
    "frequent_itemsets"
   ]
  },
  {
   "cell_type": "code",
   "execution_count": 95,
   "id": "a137840e-d591-472c-80d6-d0bda52ac794",
   "metadata": {
    "tags": []
   },
   "outputs": [
    {
     "data": {
      "text/plain": [
       "array([frozenset({'nebulosite_0-25%', 'insecte_sc_Bombus'}),\n",
       "       frozenset({'temperature_20-30ºC', 'insecte_sc_Bombus'}),\n",
       "       frozenset({'insecte_sc_Bombus', 'grande_culture_Oui'}),\n",
       "       frozenset({'nebulosite_0-25%', 'grande_culture_Oui'}),\n",
       "       frozenset({'nebulosite_0-25%', 'insecte_sc_Bombus', 'grande_culture_Oui'})],\n",
       "      dtype=object)"
      ]
     },
     "execution_count": 95,
     "metadata": {},
     "output_type": "execute_result"
    }
   ],
   "source": [
    "frequent_itemsets['itemsets'].unique()"
   ]
  },
  {
   "cell_type": "code",
   "execution_count": 96,
   "id": "d7d5b7be-1d68-4d75-8c6b-d50f4f570452",
   "metadata": {
    "tags": []
   },
   "outputs": [
    {
     "data": {
      "text/plain": [
       "0-25%      30625\n",
       "25-50%      2990\n",
       "50-75%      2103\n",
       "75-100%     1854\n",
       "Name: nebulosite, dtype: int64"
      ]
     },
     "execution_count": 96,
     "metadata": {},
     "output_type": "execute_result"
    }
   ],
   "source": [
    "data_bombus['nebulosite'].value_counts()"
   ]
  },
  {
   "cell_type": "code",
   "execution_count": 97,
   "id": "c692c119-4081-4571-9271-de2ba9f880d6",
   "metadata": {
    "tags": []
   },
   "outputs": [
    {
     "data": {
      "text/html": [
       "<div>\n",
       "<style scoped>\n",
       "    .dataframe tbody tr th:only-of-type {\n",
       "        vertical-align: middle;\n",
       "    }\n",
       "\n",
       "    .dataframe tbody tr th {\n",
       "        vertical-align: top;\n",
       "    }\n",
       "\n",
       "    .dataframe thead th {\n",
       "        text-align: right;\n",
       "    }\n",
       "</style>\n",
       "<table border=\"1\" class=\"dataframe\">\n",
       "  <thead>\n",
       "    <tr style=\"text-align: right;\">\n",
       "      <th></th>\n",
       "      <th>antecedents</th>\n",
       "      <th>consequents</th>\n",
       "      <th>antecedent support</th>\n",
       "      <th>consequent support</th>\n",
       "      <th>support</th>\n",
       "      <th>confidence</th>\n",
       "      <th>lift</th>\n",
       "      <th>leverage</th>\n",
       "      <th>conviction</th>\n",
       "      <th>zhangs_metric</th>\n",
       "    </tr>\n",
       "  </thead>\n",
       "  <tbody>\n",
       "  </tbody>\n",
       "</table>\n",
       "</div>"
      ],
      "text/plain": [
       "Empty DataFrame\n",
       "Columns: [antecedents, consequents, antecedent support, consequent support, support, confidence, lift, leverage, conviction, zhangs_metric]\n",
       "Index: []"
      ]
     },
     "execution_count": 97,
     "metadata": {},
     "output_type": "execute_result"
    }
   ],
   "source": [
    "# Recherche de règles d'associations importantes \n",
    "\n",
    "rules = association_rules(frequent_itemsets, metric=\"lift\", min_threshold=1.0, support_only=True)\n",
    "rules"
   ]
  },
  {
   "cell_type": "markdown",
   "id": "710aebcb-5e35-48ed-83e6-3bb3a7a7514c",
   "metadata": {},
   "source": [
    "Choix de la métrique du lift pour évaluer l'importance de la règle d'association car : \n",
    "- échantillon de données grand pour le bombus \n",
    "- mesure la force de la dépendance entre deux éléments dans une règle d'association. Plus précisément, le lift compare la probabilité que les deux éléments apparaissent ensemble dans une transaction par rapport à la probabilité attendue s'ils étaient indépendants."
   ]
  },
  {
   "cell_type": "markdown",
   "id": "e0553499-245d-4732-8625-3bd357ec1236",
   "metadata": {},
   "source": [
    "## Avec les 15 insectes les plus fréquents dans le dataset "
   ]
  },
  {
   "cell_type": "code",
   "execution_count": 99,
   "id": "692e1951-e91e-4854-bd7e-754d403fb704",
   "metadata": {
    "tags": []
   },
   "outputs": [],
   "source": [
    "top_15_insects= data_3['insecte_sc'].value_counts().nlargest(15)\n",
    "list_of_top_insects = top_15_insects.index.tolist()"
   ]
  },
  {
   "cell_type": "code",
   "execution_count": 100,
   "id": "9b74fbd1-fe56-4100-830c-7550dc942ea2",
   "metadata": {
    "tags": []
   },
   "outputs": [
    {
     "data": {
      "text/plain": [
       "['Bombus',\n",
       " 'Apis mellifera',\n",
       " 'Halictus, Lasioglossum et autres',\n",
       " 'Eristalis',\n",
       " 'Neomyia, Calliphora et autres',\n",
       " 'Halictidae',\n",
       " 'Formicinae',\n",
       " 'Oedemera',\n",
       " 'Sphaerophoria',\n",
       " 'Ichneumonidae',\n",
       " 'Miridae',\n",
       " 'Episyrphus balteatus',\n",
       " 'Andrenidae',\n",
       " 'Andrenidae et autres',\n",
       " 'Sarcophaga']"
      ]
     },
     "execution_count": 100,
     "metadata": {},
     "output_type": "execute_result"
    }
   ],
   "source": [
    "list_of_top_insects"
   ]
  },
  {
   "cell_type": "code",
   "execution_count": 134,
   "id": "c8cd6790-bc68-41e2-b554-96abf88bc389",
   "metadata": {
    "tags": []
   },
   "outputs": [
    {
     "name": "stdout",
     "output_type": "stream",
     "text": [
      "Bombus  : \n",
      "0\n",
      "Apis mellifera  : \n",
      "0\n",
      "Halictus, Lasioglossum et autres  : \n",
      "0\n",
      "Eristalis  : \n",
      "0\n",
      "Neomyia, Calliphora et autres  : \n",
      "0\n",
      "Halictidae  : \n",
      "0\n",
      "Formicinae  : \n",
      "0\n",
      "Oedemera  : \n",
      "0\n",
      "Sphaerophoria  : \n",
      "0\n",
      "Ichneumonidae  : \n",
      "0\n",
      "Miridae  : \n",
      "0\n",
      "Episyrphus balteatus  : \n",
      "0\n",
      "Andrenidae  : \n",
      "0\n",
      "Andrenidae et autres  : \n",
      "0\n",
      "Sarcophaga  : \n",
      "0\n"
     ]
    }
   ],
   "source": [
    "for insect in list_of_top_insects : \n",
    "\n",
    "    data_insect=data_3.where(data_3['insecte_sc']==insect).dropna(subset=['insecte_sc'])\n",
    "\n",
    "    # One hot encoding\n",
    "    df_encoded = pd.get_dummies(data_insect)\n",
    "    df_encoded = df_encoded.astype(bool)\n",
    "    \n",
    "    frequent_itemsets = apriori(df_encoded, min_support=0.5, use_colnames=True)\n",
    "\n",
    "    # Filtrer les motifs fréquents pour une taille minimale de 2\n",
    "    frequent_itemsets['length'] = frequent_itemsets['itemsets'].apply(lambda x: len(x))\n",
    "    frequent_itemsets = frequent_itemsets[frequent_itemsets['length'] >= 2].drop(columns='length')\n",
    "\n",
    "    # Classement par ordre décroissant de support \n",
    "    frequent_itemsets = frequent_itemsets.sort_values(by='support', ascending=False)\n",
    "    print(insect, \" : \")\n",
    "    #print(frequent_itemsets)\n",
    "    rules = association_rules(frequent_itemsets, metric=\"lift\", min_threshold=1, support_only=True)\n",
    "    print(len(rules))"
   ]
  },
  {
   "cell_type": "markdown",
   "id": "311d85d6-d15b-4942-ad35-63edd7ce2da0",
   "metadata": {},
   "source": [
    "La plupart des motifs fréquents qu'on retrouve le plus souvent pour les 15 insectes ci-dessus inclut l'insecte en question et la température (la plupart du temps entre 20 et 30 degrés) et l'insecte et une nébulosite de 0-25% (support environ égal à 80% pour la plupart). On voit également des motifs fréquents (+50%) incluant l'insecte et la présence de grande_culture. \n",
    "En revanche, on ne trouve aucune règle d'association importante (avec un lift supérieur à 1)."
   ]
  },
  {
   "cell_type": "markdown",
   "id": "603a8aef-596d-4efd-98fb-1a1a9ef64598",
   "metadata": {},
   "source": [
    "## Recherche sur toute la base "
   ]
  },
  {
   "cell_type": "code",
   "execution_count": 135,
   "id": "ddb6d31d-5600-4704-89c2-11b364e52b78",
   "metadata": {
    "tags": []
   },
   "outputs": [
    {
     "data": {
      "text/plain": [
       "437"
      ]
     },
     "execution_count": 135,
     "metadata": {},
     "output_type": "execute_result"
    }
   ],
   "source": [
    "# Construction d'une liste d'insectes ayant plus de 10 enregistrements dans la base \n",
    "\n",
    "insects_counts = data_3['insecte_sc'].value_counts()\n",
    "\n",
    "# Filtre des genres d'insectes avec plus de 10 enregistrements\n",
    "plus_de_10_insectes = insects_counts[insects_counts > 10].index.tolist()\n",
    "len(plus_de_10_insectes)"
   ]
  },
  {
   "cell_type": "code",
   "execution_count": 136,
   "id": "2fa7fccc-a6b0-4666-9972-3a209a1ce5e9",
   "metadata": {
    "tags": []
   },
   "outputs": [
    {
     "name": "stdout",
     "output_type": "stream",
     "text": [
      "Callophrys  :                 antecedents              consequents  antecedent support  \\\n",
      "0       (nebulosite_0-25%)  (insecte_sc_Callophrys)                 NaN   \n",
      "1  (insecte_sc_Callophrys)       (nebulosite_0-25%)                 NaN   \n",
      "\n",
      "   consequent support  support  confidence  lift  leverage  conviction  \\\n",
      "0                 NaN      1.0         NaN   NaN       NaN         NaN   \n",
      "1                 NaN      1.0         NaN   NaN       NaN         NaN   \n",
      "\n",
      "   zhangs_metric  \n",
      "0            NaN  \n",
      "1            NaN  \n",
      "Argynnis pandora  :                       antecedents                    consequents  \\\n",
      "0  (insecte_sc_Argynnis pandora)             (nebulosite_0-25%)   \n",
      "1             (nebulosite_0-25%)  (insecte_sc_Argynnis pandora)   \n",
      "\n",
      "   antecedent support  consequent support  support  confidence  lift  \\\n",
      "0                 NaN                 NaN      1.0         NaN   NaN   \n",
      "1                 NaN                 NaN      1.0         NaN   NaN   \n",
      "\n",
      "   leverage  conviction  zhangs_metric  \n",
      "0       NaN         NaN            NaN  \n",
      "1       NaN         NaN            NaN  \n",
      "Mutillidae  :                 antecedents              consequents  antecedent support  \\\n",
      "0       (nebulosite_0-25%)  (insecte_sc_Mutillidae)                 NaN   \n",
      "1  (insecte_sc_Mutillidae)       (nebulosite_0-25%)                 NaN   \n",
      "\n",
      "   consequent support  support  confidence  lift  leverage  conviction  \\\n",
      "0                 NaN      1.0         NaN   NaN       NaN         NaN   \n",
      "1                 NaN      1.0         NaN   NaN       NaN         NaN   \n",
      "\n",
      "   zhangs_metric  \n",
      "0            NaN  \n",
      "1            NaN  \n",
      "Melanargia occitanica  :                            antecedents                         consequents  \\\n",
      "0  (insecte_sc_Melanargia occitanica)                  (nebulosite_0-25%)   \n",
      "1                  (nebulosite_0-25%)  (insecte_sc_Melanargia occitanica)   \n",
      "\n",
      "   antecedent support  consequent support  support  confidence  lift  \\\n",
      "0                 NaN                 NaN      1.0         NaN   NaN   \n",
      "1                 NaN                 NaN      1.0         NaN   NaN   \n",
      "\n",
      "   leverage  conviction  zhangs_metric  \n",
      "0       NaN         NaN            NaN  \n",
      "1       NaN         NaN            NaN  \n",
      "Dascillus cervinus  :                         antecedents                      consequents  \\\n",
      "0               (nebulosite_0-25%)  (insecte_sc_Dascillus cervinus)   \n",
      "1  (insecte_sc_Dascillus cervinus)               (nebulosite_0-25%)   \n",
      "\n",
      "   antecedent support  consequent support  support  confidence  lift  \\\n",
      "0                 NaN                 NaN      1.0         NaN   NaN   \n",
      "1                 NaN                 NaN      1.0         NaN   NaN   \n",
      "\n",
      "   leverage  conviction  zhangs_metric  \n",
      "0       NaN         NaN            NaN  \n",
      "1       NaN         NaN            NaN  \n",
      "Hemipenthes maura  :                        antecedents                     consequents  \\\n",
      "0              (nebulosite_0-25%)  (insecte_sc_Hemipenthes maura)   \n",
      "1  (insecte_sc_Hemipenthes maura)              (nebulosite_0-25%)   \n",
      "\n",
      "   antecedent support  consequent support  support  confidence  lift  \\\n",
      "0                 NaN                 NaN      1.0         NaN   NaN   \n",
      "1                 NaN                 NaN      1.0         NaN   NaN   \n",
      "\n",
      "   leverage  conviction  zhangs_metric  \n",
      "0       NaN         NaN            NaN  \n",
      "1       NaN         NaN            NaN  \n",
      "Laeosopis roboris  :                        antecedents                     consequents  \\\n",
      "0  (insecte_sc_Laeosopis roboris)       (vent_faible, irrégulier)   \n",
      "1       (vent_faible, irrégulier)  (insecte_sc_Laeosopis roboris)   \n",
      "\n",
      "   antecedent support  consequent support  support  confidence  lift  \\\n",
      "0                 NaN                 NaN      1.0         NaN   NaN   \n",
      "1                 NaN                 NaN      1.0         NaN   NaN   \n",
      "\n",
      "   leverage  conviction  zhangs_metric  \n",
      "0       NaN         NaN            NaN  \n",
      "1       NaN         NaN            NaN  \n",
      "Sceliphron  :                 antecedents              consequents  antecedent support  \\\n",
      "0       (nebulosite_0-25%)  (insecte_sc_Sceliphron)                 NaN   \n",
      "1  (insecte_sc_Sceliphron)       (nebulosite_0-25%)                 NaN   \n",
      "\n",
      "   consequent support  support  confidence  lift  leverage  conviction  \\\n",
      "0                 NaN      1.0         NaN   NaN       NaN         NaN   \n",
      "1                 NaN      1.0         NaN   NaN       NaN         NaN   \n",
      "\n",
      "   zhangs_metric  \n",
      "0            NaN  \n",
      "1            NaN  \n"
     ]
    }
   ],
   "source": [
    "for insect in plus_de_10_insectes : \n",
    "\n",
    "    data_insect=data_3.where(data_3['insecte_sc']==insect).dropna(subset=['insecte_sc'])\n",
    "\n",
    "    # One hot encoding\n",
    "    df_encoded = pd.get_dummies(data_insect)\n",
    "    df_encoded = df_encoded.astype(bool)\n",
    "    \n",
    "    frequent_itemsets = apriori(df_encoded, min_support=0.5, use_colnames=True)\n",
    "\n",
    "    # Filtrer les motifs fréquents pour une taille minimale de 2\n",
    "    frequent_itemsets['length'] = frequent_itemsets['itemsets'].apply(lambda x: len(x))\n",
    "    frequent_itemsets = frequent_itemsets[frequent_itemsets['length'] >= 2].drop(columns='length')\n",
    "\n",
    "    # Classement par ordre décroissant de support \n",
    "    frequent_itemsets = frequent_itemsets.sort_values(by='support', ascending=False)\n",
    "    \n",
    "    # Recherche de règles d'association avec un lift supérieur à 1 \n",
    "    rules = association_rules(frequent_itemsets, metric=\"lift\", min_threshold=1, support_only=True)\n",
    "    \n",
    "    # Affichage des règles d'association intéressantes\n",
    "    if len(rules)>0: \n",
    "        print(insect, \" : \", rules)"
   ]
  },
  {
   "cell_type": "code",
   "execution_count": 142,
   "id": "657c2d89-8fc0-4a5d-9370-11bc7f0af9bb",
   "metadata": {
    "tags": []
   },
   "outputs": [
    {
     "name": "stdout",
     "output_type": "stream",
     "text": [
      "Nombre d'enregistrements pour  Callophrys  :  53\n",
      "[frozenset({'nebulosite_0-25%', 'insecte_sc_Callophrys'})]\n",
      "Nombre d'enregistrements pour  Argynnis pandora  :  27\n",
      "[frozenset({'insecte_sc_Argynnis pandora', 'nebulosite_0-25%'})]\n",
      "Nombre d'enregistrements pour  Mutillidae  :  19\n",
      "[frozenset({'nebulosite_0-25%', 'insecte_sc_Mutillidae'})]\n",
      "Nombre d'enregistrements pour  Sceliphron  :  11\n",
      "[frozenset({'nebulosite_0-25%', 'insecte_sc_Sceliphron'})]\n",
      "Nombre d'enregistrements pour  Laeosopis roboris  :  11\n",
      "[frozenset({'insecte_sc_Laeosopis roboris', 'vent_faible, irrégulier'})]\n",
      "Nombre d'enregistrements pour  Hemipenthes maura  :  14\n",
      "[frozenset({'nebulosite_0-25%', 'insecte_sc_Hemipenthes maura'})]\n",
      "Nombre d'enregistrements pour  Melanargia occitanica  :  15\n",
      "[frozenset({'insecte_sc_Melanargia occitanica', 'nebulosite_0-25%'})]\n",
      "Nombre d'enregistrements pour  Dascillus cervinus  :  14\n",
      "[frozenset({'nebulosite_0-25%', 'insecte_sc_Dascillus cervinus'})]\n"
     ]
    }
   ],
   "source": [
    "insects_interesting_rules = ['Callophrys', 'Argynnis pandora', 'Mutillidae', 'Sceliphron', \n",
    "                             'Laeosopis roboris', 'Hemipenthes maura', 'Melanargia occitanica', \n",
    "                             'Dascillus cervinus']\n",
    "\n",
    "for insect in insects_interesting_rules : \n",
    "\n",
    "    data_insect=data_3.where(data_3['insecte_sc']==insect).dropna(subset=['insecte_sc'])\n",
    "    print(\"Nombre d'enregistrements pour \", insect, \" : \", len(data_insect))\n",
    "          \n",
    "    # One hot encoding\n",
    "    df_encoded = pd.get_dummies(data_insect)\n",
    "    df_encoded = df_encoded.astype(bool)\n",
    "    \n",
    "    frequent_itemsets = apriori(df_encoded, min_support=1, use_colnames=True) #Les règles intéressantes \n",
    "                                                            # trouvées ont toutes un support de 1 \n",
    "\n",
    "    # Filtrer les motifs fréquents pour une taille minimale de 2\n",
    "    frequent_itemsets['length'] = frequent_itemsets['itemsets'].apply(lambda x: len(x))\n",
    "    frequent_itemsets = frequent_itemsets[frequent_itemsets['length'] >= 2].drop(columns='length')\n",
    "\n",
    "    # Classement par ordre décroissant de support \n",
    "    frequent_itemsets = frequent_itemsets.sort_values(by='support', ascending=False)\n",
    "    print(frequent_itemsets['itemsets'].unique())"
   ]
  },
  {
   "cell_type": "markdown",
   "id": "b6bec9be-b28e-49d6-a23e-be76ea2d343e",
   "metadata": {},
   "source": [
    "De ces règles, on voit qu'une nébulosité de 0 à 25% et les insectes ci-dessus sont fortement liés mais cela n'est pas une conclusion forte que de savoir que ces insectes sont toujours présents par ciel clair. Cela ne signifie pas qu'ils sont absents par temps davantage nébuleux."
   ]
  },
  {
   "cell_type": "markdown",
   "id": "72043270-1cc9-4f07-9b45-8317481f43da",
   "metadata": {},
   "source": [
    "# Conclusion"
   ]
  },
  {
   "cell_type": "markdown",
   "id": "f972cfc1-0071-472b-ac6b-6b79288c6e1c",
   "metadata": {},
   "source": [
    "Pas de motifs fréquents significatifs ou de règles d'association particulièrement intéressantes entre les espèces d'insectes (insectes_sc), de plantes (plantes_sc), de l'habitat et les conditions météorologiques."
   ]
  }
 ],
 "metadata": {
  "kernelspec": {
   "display_name": "Python 3 (ipykernel)",
   "language": "python",
   "name": "python3"
  },
  "language_info": {
   "codemirror_mode": {
    "name": "ipython",
    "version": 3
   },
   "file_extension": ".py",
   "mimetype": "text/x-python",
   "name": "python",
   "nbconvert_exporter": "python",
   "pygments_lexer": "ipython3",
   "version": "3.11.4"
  }
 },
 "nbformat": 4,
 "nbformat_minor": 5
}
