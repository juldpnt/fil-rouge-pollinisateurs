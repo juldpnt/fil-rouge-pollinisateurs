{
 "cells": [
  {
   "cell_type": "markdown",
   "metadata": {},
   "source": [
    "<div class=\"alert alert-block alert-info\">\n",
    "⚠️All notebooks should start with the following cell ⚠️.\n",
    "<br>\n",
    "<br>\n",
    "This will ensure that the notebook is set in the correct working directory and that all internal modules can be loaded without setting an entry point.\n",
    "</div>"
   ]
  },
  {
   "cell_type": "code",
   "execution_count": 2,
   "metadata": {},
   "outputs": [
    {
     "name": "stdout",
     "output_type": "stream",
     "text": [
      "Former working directory:  /workspaces/fil-rouge-pollinisateurs/notebooks\n",
      "Current working directory:  /workspaces/fil-rouge-pollinisateurs\n"
     ]
    }
   ],
   "source": [
    "from utils import setup_env_path\n",
    "\n",
    "setup_env_path()\n",
    "\n",
    "%load_ext autoreload\n",
    "%autoreload 2"
   ]
  },
  {
   "cell_type": "markdown",
   "metadata": {},
   "source": [
    "Setup notebook"
   ]
  },
  {
   "cell_type": "code",
   "execution_count": 3,
   "metadata": {},
   "outputs": [],
   "source": [
    "import pandas as pd\n",
    "import matplotlib.pyplot as plt\n",
    "import seaborn as sns\n",
    "import numpy as np\n",
    "import plotly.express as px"
   ]
  },
  {
   "cell_type": "code",
   "execution_count": 4,
   "metadata": {},
   "outputs": [],
   "source": [
    "path = \"data/temporary_data/spipoll.csv\""
   ]
  },
  {
   "cell_type": "code",
   "execution_count": 5,
   "metadata": {},
   "outputs": [
    {
     "name": "stderr",
     "output_type": "stream",
     "text": [
      "/tmp/ipykernel_48532/822284616.py:1: DtypeWarning: Columns (11) have mixed types. Specify dtype option on import or set low_memory=False.\n",
      "  data = pd.read_csv(path)\n"
     ]
    }
   ],
   "source": [
    "data = pd.read_csv(path)"
   ]
  },
  {
   "cell_type": "code",
   "execution_count": 6,
   "metadata": {},
   "outputs": [],
   "source": [
    "restricted_vars = [\n",
    "    \"collection_id\",\n",
    "    \"plante_sc\",\n",
    "    \"plante_fr\",\n",
    "    \"insecte_sc\",\n",
    "    \"insecte_fr\",\n",
    "    \"temperature\",\n",
    "    \"vent\",\n",
    "    \"latitude\",\n",
    "    \"longitude\",\n",
    "    \"nebulosite\",\n",
    "    \"collection_heure_debut\",\n",
    "]\n",
    "df = data[restricted_vars].copy()"
   ]
  },
  {
   "cell_type": "markdown",
   "metadata": {},
   "source": [
    "# Mise en place du modèle\n",
    "\n"
   ]
  },
  {
   "cell_type": "markdown",
   "metadata": {},
   "source": [
    "## Compréhension des variables d'intérêt"
   ]
  },
  {
   "cell_type": "code",
   "execution_count": null,
   "metadata": {},
   "outputs": [],
   "source": [
    "var_interet = df[\"insecte_fr\"]"
   ]
  },
  {
   "cell_type": "code",
   "execution_count": null,
   "metadata": {},
   "outputs": [],
   "source": [
    "df.head()"
   ]
  },
  {
   "cell_type": "code",
   "execution_count": null,
   "metadata": {},
   "outputs": [],
   "source": [
    "plt.figure(figsize=(10, 10))\n",
    "x_values = var_interet.dropna().value_counts().index\n",
    "y_values = var_interet.dropna().value_counts().values[::-1]\n",
    "sns.lineplot(x=x_values, y=y_values)\n",
    "\n",
    "# Fill the area under the curve\n",
    "plt.fill_between(x_values, y_values, color=\"skyblue\", alpha=0.4)\n",
    "\n",
    "# Put an xtick each 1000 unique values\n",
    "plt.xticks(range(0, len(var_interet.value_counts()), 50))\n",
    "# Instead of the label of the xtick, put the position of the xtick\n",
    "plt.gca().set_xticklabels(range(0, len(var_interet.value_counts()), 50))\n",
    "\n",
    "# Put a line on the quartiles\n",
    "plt.axhline(y=var_interet.value_counts().quantile(0.25), color=\"red\", linestyle=\"--\")\n",
    "plt.axhline(y=var_interet.value_counts().quantile(0.50), color=\"red\", linestyle=\":\")\n",
    "plt.axhline(y=var_interet.value_counts().quantile(0.75), color=\"red\", linestyle=\"--\")\n",
    "\n",
    "plt.ylim(0, 30000)\n",
    "plt.xlim(0, len(var_interet.value_counts()))\n",
    "plt.yscale(\"symlog\")\n",
    "plt.ylabel(\"log(count)\")\n",
    "plt.xlabel(\"Count rank Insecte\")\n",
    "plt.tight_layout()\n",
    "plt.show()"
   ]
  },
  {
   "cell_type": "code",
   "execution_count": null,
   "metadata": {},
   "outputs": [],
   "source": [
    "counts = df[\"insecte_sc\"].dropna().value_counts().sort_index()"
   ]
  },
  {
   "cell_type": "markdown",
   "metadata": {},
   "source": [
    "1/4 des données est très peu représenté sur l'attribut `insecte_sc` `insecte_fr` "
   ]
  },
  {
   "cell_type": "code",
   "execution_count": null,
   "metadata": {},
   "outputs": [],
   "source": [
    "print(\"insecte_sc\")\n",
    "display(df[\"insecte_sc\"].value_counts().describe())\n",
    "print(\"insecte_fr\")\n",
    "display(df[\"insecte_fr\"].value_counts().describe())\n",
    "print(\n",
    "    f\"Proportion NA insecte_SC: {df['insecte_sc'].isna().sum() / len(df['insecte_sc']) * 100:.2f}%\"\n",
    ")\n",
    "print(\n",
    "    f\"Proportion NA insecte_FR: {df['insecte_fr'].isna().sum() / len(df['insecte_fr']) * 100:.2f}%\"\n",
    ")"
   ]
  },
  {
   "cell_type": "code",
   "execution_count": null,
   "metadata": {},
   "outputs": [],
   "source": [
    "print(df[\"insecte_sc\"].value_counts().head(100).to_dict())"
   ]
  },
  {
   "cell_type": "markdown",
   "metadata": {},
   "source": [
    "Visualisation de l'importance de la temporalité"
   ]
  },
  {
   "cell_type": "code",
   "execution_count": null,
   "metadata": {},
   "outputs": [],
   "source": [
    "# get samples where collection_heure_debut is between 18 and 08\n",
    "# knowing data is in this shape  2019-06-12 12:20:00\n",
    "\n",
    "\n",
    "df[\"collection_heure_debut\"] = pd.to_datetime(df[\"collection_heure_debut\"])\n",
    "\n",
    "# plot the distribution of the collection_heure_debut avec les minutes et les heures en x\n",
    "# Aggreger collection_id\n",
    "\n",
    "sns.distplot(\n",
    "    df[\"collection_heure_debut\"].dt.hour + df[\"collection_heure_debut\"].dt.minute / 60\n",
    ")"
   ]
  },
  {
   "cell_type": "code",
   "execution_count": null,
   "metadata": {},
   "outputs": [],
   "source": [
    "mask = (df[\"collection_heure_debut\"].dt.hour >= 18) | (\n",
    "    df[\"collection_heure_debut\"].dt.hour <= 7\n",
    ")\n",
    "tmp_df = df[mask].copy()"
   ]
  },
  {
   "cell_type": "code",
   "execution_count": null,
   "metadata": {},
   "outputs": [],
   "source": [
    "tmp_df.shape"
   ]
  },
  {
   "cell_type": "code",
   "execution_count": null,
   "metadata": {},
   "outputs": [],
   "source": [
    "# get the intersection of list nunique values of insecte_fr of df and tmp_df\n",
    "\n",
    "unique_insecte_fr = df[\"insecte_fr\"].dropna().unique()\n",
    "unique_insecte_fr_tmp = tmp_df[\"insecte_fr\"].dropna().unique()\n",
    "\n",
    "# get the intersection of list nunique values of insecte_fr of df and tmp_df\n",
    "intersection = set(unique_insecte_fr).intersection(set(unique_insecte_fr_tmp))"
   ]
  },
  {
   "cell_type": "markdown",
   "metadata": {},
   "source": [
    "Pour la suite, le jeu de donnée est trop grand pour être traité en local. Il faut donc sous échantilloner."
   ]
  },
  {
   "cell_type": "code",
   "execution_count": null,
   "metadata": {},
   "outputs": [],
   "source": [
    "df = df.dropna(subset=[\"insecte_fr\"])"
   ]
  },
  {
   "cell_type": "code",
   "execution_count": null,
   "metadata": {},
   "outputs": [],
   "source": [
    "df = df.sample(frac=0.01, random_state=1)"
   ]
  },
  {
   "cell_type": "markdown",
   "metadata": {},
   "source": [
    "La variable cible n'existe pas dans le jeu de données. Il faut la créer à partir de `insecte_sc` ou `insecte_fr` (ou autre dans le futur).\n",
    "\n",
    "Pour ça on va regarder autour de chaque observation (wrt. latitude et longitude) si il y a des observations similaires (même `insecte_sc` ou `insecte_fr`). La classe cible sera la quantité d'`insecte_sc` ou `insecte_fr` différents autour de l'observation considérée.\n"
   ]
  },
  {
   "cell_type": "code",
   "execution_count": null,
   "metadata": {},
   "outputs": [],
   "source": [
    "df.shape"
   ]
  },
  {
   "cell_type": "code",
   "execution_count": null,
   "metadata": {},
   "outputs": [],
   "source": [
    "distance = 0.5"
   ]
  },
  {
   "cell_type": "markdown",
   "metadata": {},
   "source": [
    "Première intuition"
   ]
  },
  {
   "cell_type": "code",
   "execution_count": null,
   "metadata": {
    "tags": []
   },
   "outputs": [],
   "source": [
    "def calculate_unique_insects(row):\n",
    "    lat = row[\"latitude\"]\n",
    "    lon = row[\"longitude\"]\n",
    "    return df[\n",
    "        (np.abs(df[\"latitude\"] - lat) <= distance)\n",
    "        & (np.abs(df[\"longitude\"] - lon) <= distance)\n",
    "    ][\"insecte_fr\"].nunique()\n",
    "\n",
    "\n",
    "# add tqdm to see the progress of the loop in the pandas apply\n",
    "from tqdm import tqdm\n",
    "\n",
    "tqdm.pandas()\n",
    "\n",
    "df[\"target\"] = df.progress_apply(calculate_unique_insects, axis=1)"
   ]
  },
  {
   "cell_type": "markdown",
   "metadata": {},
   "source": [
    "Deuxième intuition: il faut gagner en vitesse de calcul"
   ]
  },
  {
   "cell_type": "code",
   "execution_count": null,
   "metadata": {},
   "outputs": [],
   "source": [
    "from scipy.spatial import KDTree\n",
    "from tqdm import tqdm\n",
    "\n",
    "# Create a KDTree from the latitude and longitude\n",
    "tree = KDTree(df[[\"latitude\", \"longitude\"]].values)\n",
    "\n",
    "\n",
    "# Define a function to calculate the unique insects within the distance\n",
    "def calculate_unique_insects(row):\n",
    "    indices = tree.query_ball_point([row[\"latitude\"], row[\"longitude\"]], distance)\n",
    "    return df.iloc[indices][\"insecte_fr\"].nunique()\n",
    "\n",
    "\n",
    "# Apply the function to each row\n",
    "# use tqdm to display a progress bar\n",
    "tqdm.pandas()\n",
    "\n",
    "df[\"Richesse spécifique\"] = df.progress_apply(calculate_unique_insects, axis=1)"
   ]
  },
  {
   "cell_type": "markdown",
   "metadata": {},
   "source": [
    "Carte de France avec uniquement la richesse spécifique autour de chaque observation. "
   ]
  },
  {
   "cell_type": "code",
   "execution_count": null,
   "metadata": {},
   "outputs": [],
   "source": [
    "import plotly.express as px\n",
    "\n",
    "fig = px.scatter_geo(df, lat=\"latitude\", lon=\"longitude\", color=\"Richesse spécifique\")\n",
    "fig.update_geos(fitbounds=\"locations\", visible=True)\n",
    "fig.show()"
   ]
  },
  {
   "cell_type": "markdown",
   "metadata": {},
   "source": [
    "On peut supposer que cette carte ne traduit en réalité que la densité de population humaine: s'il y a beaucoup d'espèces différentes proche des observations c'est peut-être juste qu'il y a beaucoup d'observations. On va comparer avec une carte de la densité d'échantillonnage."
   ]
  },
  {
   "cell_type": "code",
   "execution_count": null,
   "metadata": {},
   "outputs": [],
   "source": [
    "def calculate_density(row):\n",
    "    lat = row[\"latitude\"]\n",
    "    lon = row[\"longitude\"]\n",
    "    return df[\n",
    "        (np.abs(df[\"latitude\"] - lat) <= distance)\n",
    "        & (np.abs(df[\"longitude\"] - lon) <= distance)\n",
    "    ].shape[0]\n",
    "\n",
    "\n",
    "df[\"Densité\"] = df.progress_apply(calculate_density, axis=1)"
   ]
  },
  {
   "cell_type": "code",
   "execution_count": null,
   "metadata": {},
   "outputs": [],
   "source": [
    "fig = px.scatter_geo(df, lat=\"latitude\", lon=\"longitude\", color=\"Densité\")\n",
    "fig.update_geos(fitbounds=\"locations\", visible=True)\n",
    "fig.show()"
   ]
  },
  {
   "cell_type": "code",
   "execution_count": null,
   "metadata": {},
   "outputs": [],
   "source": [
    "df[\"Richesse spécifique pondérée\"] = df[\"Richesse spécifique\"] / df[\"Densité\"]"
   ]
  },
  {
   "cell_type": "markdown",
   "metadata": {},
   "source": [
    "En pondérant la target par la densité d'échantillonnage, on devrait avoir une carte plus signficiative de la richesse spécifique. En revanche, la pondération est peut-être trop en défaveur des zones denses: Il y a un nombre d'espèces maximum qui peut se faire effacer par la densité d'échantillonnage."
   ]
  },
  {
   "cell_type": "code",
   "execution_count": null,
   "metadata": {},
   "outputs": [],
   "source": [
    "fig = px.scatter_geo(\n",
    "    df, lat=\"latitude\", lon=\"longitude\", color=\"Richesse spécifique pondérée\"\n",
    ")\n",
    "fig.update_geos(fitbounds=\"locations\", visible=True)\n",
    "fig.show()"
   ]
  },
  {
   "cell_type": "markdown",
   "metadata": {},
   "source": [
    "On va comparer en pondérant plutôt par la densité de collection"
   ]
  },
  {
   "cell_type": "code",
   "execution_count": null,
   "metadata": {},
   "outputs": [],
   "source": [
    "# calcule la densité de collection_id, sachant qu'il peut y avoir un même\n",
    "# collection_id pour plusieurs lignes\n",
    "def compute_collection_id_density(row):\n",
    "    lat = row[\"latitude\"]\n",
    "    lon = row[\"longitude\"]\n",
    "    return df[\n",
    "        (np.abs(df[\"latitude\"] - lat) <= distance)\n",
    "        & (np.abs(df[\"longitude\"] - lon) <= distance)\n",
    "    ][\"collection_id\"].nunique()\n",
    "\n",
    "\n",
    "# calcule unique insects weighted en divisant target par la quantité d'id collection\n",
    "df[\"collection_id density\"] = df.progress_apply(compute_collection_id_density, axis=1)\n",
    "\n",
    "df[\"Richesse spécifique pondérée par collection\"] = (\n",
    "    df[\"Richesse spécifique\"] / df[\"collection_id density\"]\n",
    ")"
   ]
  },
  {
   "cell_type": "code",
   "execution_count": null,
   "metadata": {},
   "outputs": [],
   "source": [
    "# plot unique insects weighted coll, and add in the interactive labels the target and the collection_id density\n",
    "fig = px.scatter_geo(\n",
    "    df,\n",
    "    lat=\"latitude\",\n",
    "    lon=\"longitude\",\n",
    "    color=\"Richesse spécifique pondérée par collection\",\n",
    "    hover_data=[\"target\", \"collection_id density\"],\n",
    ")\n",
    "fig.update_geos(fitbounds=\"locations\", visible=True)\n",
    "fig.show()"
   ]
  },
  {
   "cell_type": "markdown",
   "metadata": {},
   "source": [
    "## Pipeline de modélisation"
   ]
  },
  {
   "cell_type": "code",
   "execution_count": 36,
   "metadata": {},
   "outputs": [
    {
     "data": {
      "text/plain": [
       "(6757, 11)"
      ]
     },
     "execution_count": 36,
     "metadata": {},
     "output_type": "execute_result"
    }
   ],
   "source": [
    "df = data[restricted_vars].copy().sample(frac=0.01, random_state=1)\n",
    "df.shape"
   ]
  },
  {
   "cell_type": "code",
   "execution_count": 37,
   "metadata": {},
   "outputs": [
    {
     "name": "stdout",
     "output_type": "stream",
     "text": [
      "Calculating metrics...\n"
     ]
    },
    {
     "name": "stderr",
     "output_type": "stream",
     "text": [
      "  2%|▏         | 118/6757 [00:00<00:12, 538.75it/s]"
     ]
    },
    {
     "name": "stderr",
     "output_type": "stream",
     "text": [
      "100%|██████████| 6757/6757 [00:11<00:00, 571.02it/s]\n"
     ]
    }
   ],
   "source": [
    "from models.supervised.preprocessors import MetricsCalculatorNaive as MetricsCalculator\n",
    "\n",
    "distance = 0.5\n",
    "\n",
    "calculator = MetricsCalculator(distance=distance)\n",
    "calculator.fit(df)\n",
    "df_transformed = calculator.transform(df)"
   ]
  },
  {
   "cell_type": "code",
   "execution_count": 38,
   "metadata": {},
   "outputs": [
    {
     "data": {
      "text/plain": [
       "Index(['collection_id', 'plante_sc', 'plante_fr', 'insecte_sc', 'insecte_fr',\n",
       "       'temperature', 'vent', 'latitude', 'longitude', 'nebulosite',\n",
       "       'collection_heure_debut', 'specific_richness', 'density',\n",
       "       'collection_id_density', 'weighted_specific_richness'],\n",
       "      dtype='object')"
      ]
     },
     "execution_count": 38,
     "metadata": {},
     "output_type": "execute_result"
    }
   ],
   "source": [
    "df_transformed.columns"
   ]
  },
  {
   "cell_type": "code",
   "execution_count": 39,
   "metadata": {},
   "outputs": [],
   "source": [
    "X = df_transformed.drop(\n",
    "    columns=[\n",
    "        \"collection_id\",\n",
    "        \"insecte_sc\",\n",
    "        \"insecte_fr\",\n",
    "        \"specific_richness\",\n",
    "        \"weighted_specific_richness\",\n",
    "    ]\n",
    ")\n",
    "y = df_transformed[\"weighted_specific_richness\"]"
   ]
  },
  {
   "cell_type": "markdown",
   "metadata": {},
   "source": [
    "Il FAUT gérer les données manquantes. Pour ça on va utiliser un KNN qui va chercher les observations les plus proches pour compléter les données manquantes !"
   ]
  },
  {
   "cell_type": "markdown",
   "metadata": {},
   "source": [
    "https://scikit-learn.org/stable/auto_examples/impute/plot_missing_values.html#sphx-glr-auto-examples-impute-plot-missing-values-py"
   ]
  },
  {
   "cell_type": "code",
   "execution_count": 43,
   "metadata": {},
   "outputs": [],
   "source": [
    "from models.supervised.preprocessors import HourToCos\n",
    "\n",
    "hour_transformer = HourToCos(time_col=\"collection_heure_debut\").fit(df_transformed)\n",
    "df_transformed = hour_transformer.transform(df_transformed)\n",
    "df_transformed[[\"collection_heure_debut\", \"collection_heure_debut_cos\"]].head()"
   ]
  },
  {
   "cell_type": "code",
   "execution_count": 22,
   "metadata": {},
   "outputs": [],
   "source": [
    "numeric_features = [\n",
    "    \"temperature\",\n",
    "    \"latitude\",\n",
    "    \"longitude\",\n",
    "]\n",
    "\n",
    "temporal_features = [\"collection_heure_debut\"]\n",
    "\n",
    "ordinal_features = [\n",
    "    \"vent\",\n",
    "    \"nebulosite\",\n",
    "]\n",
    "\n",
    "nominal_features = [\n",
    "    \"plante_sc\",\n",
    "    # ....\n",
    "]\n",
    "\n",
    "categorical_features = ordinal_features + nominal_features\n",
    "\n",
    "print(\n",
    "    len(numeric_features)\n",
    "    + len(temporal_features)\n",
    "    + len(ordinal_features)\n",
    "    + len(nominal_features)\n",
    ")"
   ]
  },
  {
   "cell_type": "code",
   "execution_count": 23,
   "metadata": {
    "tags": []
   },
   "outputs": [
    {
     "data": {
      "text/html": [
       "<style>#sk-container-id-1 {color: black;}#sk-container-id-1 pre{padding: 0;}#sk-container-id-1 div.sk-toggleable {background-color: white;}#sk-container-id-1 label.sk-toggleable__label {cursor: pointer;display: block;width: 100%;margin-bottom: 0;padding: 0.3em;box-sizing: border-box;text-align: center;}#sk-container-id-1 label.sk-toggleable__label-arrow:before {content: \"▸\";float: left;margin-right: 0.25em;color: #696969;}#sk-container-id-1 label.sk-toggleable__label-arrow:hover:before {color: black;}#sk-container-id-1 div.sk-estimator:hover label.sk-toggleable__label-arrow:before {color: black;}#sk-container-id-1 div.sk-toggleable__content {max-height: 0;max-width: 0;overflow: hidden;text-align: left;background-color: #f0f8ff;}#sk-container-id-1 div.sk-toggleable__content pre {margin: 0.2em;color: black;border-radius: 0.25em;background-color: #f0f8ff;}#sk-container-id-1 input.sk-toggleable__control:checked~div.sk-toggleable__content {max-height: 200px;max-width: 100%;overflow: auto;}#sk-container-id-1 input.sk-toggleable__control:checked~label.sk-toggleable__label-arrow:before {content: \"▾\";}#sk-container-id-1 div.sk-estimator input.sk-toggleable__control:checked~label.sk-toggleable__label {background-color: #d4ebff;}#sk-container-id-1 div.sk-label input.sk-toggleable__control:checked~label.sk-toggleable__label {background-color: #d4ebff;}#sk-container-id-1 input.sk-hidden--visually {border: 0;clip: rect(1px 1px 1px 1px);clip: rect(1px, 1px, 1px, 1px);height: 1px;margin: -1px;overflow: hidden;padding: 0;position: absolute;width: 1px;}#sk-container-id-1 div.sk-estimator {font-family: monospace;background-color: #f0f8ff;border: 1px dotted black;border-radius: 0.25em;box-sizing: border-box;margin-bottom: 0.5em;}#sk-container-id-1 div.sk-estimator:hover {background-color: #d4ebff;}#sk-container-id-1 div.sk-parallel-item::after {content: \"\";width: 100%;border-bottom: 1px solid gray;flex-grow: 1;}#sk-container-id-1 div.sk-label:hover label.sk-toggleable__label {background-color: #d4ebff;}#sk-container-id-1 div.sk-serial::before {content: \"\";position: absolute;border-left: 1px solid gray;box-sizing: border-box;top: 0;bottom: 0;left: 50%;z-index: 0;}#sk-container-id-1 div.sk-serial {display: flex;flex-direction: column;align-items: center;background-color: white;padding-right: 0.2em;padding-left: 0.2em;position: relative;}#sk-container-id-1 div.sk-item {position: relative;z-index: 1;}#sk-container-id-1 div.sk-parallel {display: flex;align-items: stretch;justify-content: center;background-color: white;position: relative;}#sk-container-id-1 div.sk-item::before, #sk-container-id-1 div.sk-parallel-item::before {content: \"\";position: absolute;border-left: 1px solid gray;box-sizing: border-box;top: 0;bottom: 0;left: 50%;z-index: -1;}#sk-container-id-1 div.sk-parallel-item {display: flex;flex-direction: column;z-index: 1;position: relative;background-color: white;}#sk-container-id-1 div.sk-parallel-item:first-child::after {align-self: flex-end;width: 50%;}#sk-container-id-1 div.sk-parallel-item:last-child::after {align-self: flex-start;width: 50%;}#sk-container-id-1 div.sk-parallel-item:only-child::after {width: 0;}#sk-container-id-1 div.sk-dashed-wrapped {border: 1px dashed gray;margin: 0 0.4em 0.5em 0.4em;box-sizing: border-box;padding-bottom: 0.4em;background-color: white;}#sk-container-id-1 div.sk-label label {font-family: monospace;font-weight: bold;display: inline-block;line-height: 1.2em;}#sk-container-id-1 div.sk-label-container {text-align: center;}#sk-container-id-1 div.sk-container {/* jupyter's `normalize.less` sets `[hidden] { display: none; }` but bootstrap.min.css set `[hidden] { display: none !important; }` so we also need the `!important` here to be able to override the default hidden behavior on the sphinx rendered scikit-learn.org. See: https://github.com/scikit-learn/scikit-learn/issues/21755 */display: inline-block !important;position: relative;}#sk-container-id-1 div.sk-text-repr-fallback {display: none;}</style><div id=\"sk-container-id-1\" class=\"sk-top-container\"><div class=\"sk-text-repr-fallback\"><pre>Pipeline(steps=[(&#x27;preprocessor&#x27;,\n",
       "                 ColumnTransformer(transformers=[(&#x27;num&#x27;, StandardScaler(),\n",
       "                                                  [&#x27;temperature&#x27;]),\n",
       "                                                 (&#x27;ord&#x27;, OrdinalEncoder(),\n",
       "                                                  [&#x27;vent&#x27;]),\n",
       "                                                 (&#x27;nom&#x27;,\n",
       "                                                  OneHotEncoder(handle_unknown=&#x27;ignore&#x27;),\n",
       "                                                  [&#x27;plante_sc&#x27;])])),\n",
       "                (&#x27;estimator&#x27;, RandomForestRegressor(random_state=1))])</pre><b>In a Jupyter environment, please rerun this cell to show the HTML representation or trust the notebook. <br />On GitHub, the HTML representation is unable to render, please try loading this page with nbviewer.org.</b></div><div class=\"sk-container\" hidden><div class=\"sk-item sk-dashed-wrapped\"><div class=\"sk-label-container\"><div class=\"sk-label sk-toggleable\"><input class=\"sk-toggleable__control sk-hidden--visually\" id=\"sk-estimator-id-1\" type=\"checkbox\" ><label for=\"sk-estimator-id-1\" class=\"sk-toggleable__label sk-toggleable__label-arrow\">Pipeline</label><div class=\"sk-toggleable__content\"><pre>Pipeline(steps=[(&#x27;preprocessor&#x27;,\n",
       "                 ColumnTransformer(transformers=[(&#x27;num&#x27;, StandardScaler(),\n",
       "                                                  [&#x27;temperature&#x27;]),\n",
       "                                                 (&#x27;ord&#x27;, OrdinalEncoder(),\n",
       "                                                  [&#x27;vent&#x27;]),\n",
       "                                                 (&#x27;nom&#x27;,\n",
       "                                                  OneHotEncoder(handle_unknown=&#x27;ignore&#x27;),\n",
       "                                                  [&#x27;plante_sc&#x27;])])),\n",
       "                (&#x27;estimator&#x27;, RandomForestRegressor(random_state=1))])</pre></div></div></div><div class=\"sk-serial\"><div class=\"sk-item sk-dashed-wrapped\"><div class=\"sk-label-container\"><div class=\"sk-label sk-toggleable\"><input class=\"sk-toggleable__control sk-hidden--visually\" id=\"sk-estimator-id-2\" type=\"checkbox\" ><label for=\"sk-estimator-id-2\" class=\"sk-toggleable__label sk-toggleable__label-arrow\">preprocessor: ColumnTransformer</label><div class=\"sk-toggleable__content\"><pre>ColumnTransformer(transformers=[(&#x27;num&#x27;, StandardScaler(), [&#x27;temperature&#x27;]),\n",
       "                                (&#x27;ord&#x27;, OrdinalEncoder(), [&#x27;vent&#x27;]),\n",
       "                                (&#x27;nom&#x27;, OneHotEncoder(handle_unknown=&#x27;ignore&#x27;),\n",
       "                                 [&#x27;plante_sc&#x27;])])</pre></div></div></div><div class=\"sk-parallel\"><div class=\"sk-parallel-item\"><div class=\"sk-item\"><div class=\"sk-label-container\"><div class=\"sk-label sk-toggleable\"><input class=\"sk-toggleable__control sk-hidden--visually\" id=\"sk-estimator-id-3\" type=\"checkbox\" ><label for=\"sk-estimator-id-3\" class=\"sk-toggleable__label sk-toggleable__label-arrow\">num</label><div class=\"sk-toggleable__content\"><pre>[&#x27;temperature&#x27;]</pre></div></div></div><div class=\"sk-serial\"><div class=\"sk-item\"><div class=\"sk-estimator sk-toggleable\"><input class=\"sk-toggleable__control sk-hidden--visually\" id=\"sk-estimator-id-4\" type=\"checkbox\" ><label for=\"sk-estimator-id-4\" class=\"sk-toggleable__label sk-toggleable__label-arrow\">StandardScaler</label><div class=\"sk-toggleable__content\"><pre>StandardScaler()</pre></div></div></div></div></div></div><div class=\"sk-parallel-item\"><div class=\"sk-item\"><div class=\"sk-label-container\"><div class=\"sk-label sk-toggleable\"><input class=\"sk-toggleable__control sk-hidden--visually\" id=\"sk-estimator-id-5\" type=\"checkbox\" ><label for=\"sk-estimator-id-5\" class=\"sk-toggleable__label sk-toggleable__label-arrow\">ord</label><div class=\"sk-toggleable__content\"><pre>[&#x27;vent&#x27;]</pre></div></div></div><div class=\"sk-serial\"><div class=\"sk-item\"><div class=\"sk-estimator sk-toggleable\"><input class=\"sk-toggleable__control sk-hidden--visually\" id=\"sk-estimator-id-6\" type=\"checkbox\" ><label for=\"sk-estimator-id-6\" class=\"sk-toggleable__label sk-toggleable__label-arrow\">OrdinalEncoder</label><div class=\"sk-toggleable__content\"><pre>OrdinalEncoder()</pre></div></div></div></div></div></div><div class=\"sk-parallel-item\"><div class=\"sk-item\"><div class=\"sk-label-container\"><div class=\"sk-label sk-toggleable\"><input class=\"sk-toggleable__control sk-hidden--visually\" id=\"sk-estimator-id-7\" type=\"checkbox\" ><label for=\"sk-estimator-id-7\" class=\"sk-toggleable__label sk-toggleable__label-arrow\">nom</label><div class=\"sk-toggleable__content\"><pre>[&#x27;plante_sc&#x27;]</pre></div></div></div><div class=\"sk-serial\"><div class=\"sk-item\"><div class=\"sk-estimator sk-toggleable\"><input class=\"sk-toggleable__control sk-hidden--visually\" id=\"sk-estimator-id-8\" type=\"checkbox\" ><label for=\"sk-estimator-id-8\" class=\"sk-toggleable__label sk-toggleable__label-arrow\">OneHotEncoder</label><div class=\"sk-toggleable__content\"><pre>OneHotEncoder(handle_unknown=&#x27;ignore&#x27;)</pre></div></div></div></div></div></div></div></div><div class=\"sk-item\"><div class=\"sk-estimator sk-toggleable\"><input class=\"sk-toggleable__control sk-hidden--visually\" id=\"sk-estimator-id-9\" type=\"checkbox\" ><label for=\"sk-estimator-id-9\" class=\"sk-toggleable__label sk-toggleable__label-arrow\">RandomForestRegressor</label><div class=\"sk-toggleable__content\"><pre>RandomForestRegressor(random_state=1)</pre></div></div></div></div></div></div></div>"
      ],
      "text/plain": [
       "Pipeline(steps=[('preprocessor',\n",
       "                 ColumnTransformer(transformers=[('num', StandardScaler(),\n",
       "                                                  ['temperature']),\n",
       "                                                 ('ord', OrdinalEncoder(),\n",
       "                                                  ['vent']),\n",
       "                                                 ('nom',\n",
       "                                                  OneHotEncoder(handle_unknown='ignore'),\n",
       "                                                  ['plante_sc'])])),\n",
       "                ('estimator', RandomForestRegressor(random_state=1))])"
      ]
     },
     "execution_count": 23,
     "metadata": {},
     "output_type": "execute_result"
    }
   ],
   "source": [
    "from sklearn.pipeline import Pipeline\n",
    "from sklearn.preprocessing import StandardScaler, OneHotEncoder, OrdinalEncoder\n",
    "from sklearn.compose import ColumnTransformer\n",
    "from sklearn.impute import SimpleImputer, KNNImputer\n",
    "from sklearn.ensemble import RandomForestRegressor\n",
    "\n",
    "imputer = KNNImputer(n_neighbors=5)\n",
    "\n",
    "preprocessor = ColumnTransformer(\n",
    "    transformers=[\n",
    "        (\"num\", StandardScaler(), numeric_features),\n",
    "        (\"ord\", OrdinalEncoder(), ordinal_features),\n",
    "        (\"nom\", OneHotEncoder(handle_unknown=\"ignore\"), nominal_features),\n",
    "    ]\n",
    ")\n",
    "\n",
    "estimator = RandomForestRegressor(random_state=1)\n",
    "\n",
    "Pipeline(steps=[(\"preprocessor\", preprocessor), (\"estimator\", estimator)])"
   ]
  },
  {
   "cell_type": "code",
   "execution_count": null,
   "metadata": {},
   "outputs": [],
   "source": [
    "from sklearn.model_selection import train_test_split\n",
    "\n",
    "X_train, X_test, y_train, y_test = train_test_split(X, y, test_size=0.2, random_state=1)"
   ]
  }
 ],
 "metadata": {
  "kernelspec": {
   "display_name": "Python 3",
   "language": "python",
   "name": "python3"
  },
  "language_info": {
   "codemirror_mode": {
    "name": "ipython",
    "version": 3
   },
   "file_extension": ".py",
   "mimetype": "text/x-python",
   "name": "python",
   "nbconvert_exporter": "python",
   "pygments_lexer": "ipython3",
   "version": "3.0.0"
  }
 },
 "nbformat": 4,
 "nbformat_minor": 2
}
