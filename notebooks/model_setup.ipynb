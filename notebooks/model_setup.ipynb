{
 "cells": [
  {
   "cell_type": "markdown",
   "metadata": {},
   "source": [
    "<div class=\"alert alert-block alert-info\">\n",
    "⚠️All notebooks should start with the following cell ⚠️.\n",
    "<br>\n",
    "<br>\n",
    "This will ensure that the notebook is set in the correct working directory and that all internal modules can be loaded without setting an entry point.\n",
    "</div>"
   ]
  },
  {
   "cell_type": "code",
   "execution_count": 1,
   "metadata": {},
   "outputs": [
    {
     "name": "stdout",
     "output_type": "stream",
     "text": [
      "Former working directory:  /workspaces/fil-rouge-pollinisateurs/notebooks\n",
      "Current working directory:  /workspaces/fil-rouge-pollinisateurs\n"
     ]
    }
   ],
   "source": [
    "from utils import setup_env_path\n",
    "\n",
    "setup_env_path()\n",
    "\n",
    "%load_ext autoreload\n",
    "%autoreload 2"
   ]
  },
  {
   "cell_type": "markdown",
   "metadata": {},
   "source": [
    "Setup notebook"
   ]
  },
  {
   "cell_type": "code",
   "execution_count": 2,
   "metadata": {},
   "outputs": [],
   "source": [
    "import pandas as pd\n",
    "import matplotlib.pyplot as plt\n",
    "import seaborn as sns\n",
    "import numpy as np\n",
    "import plotly.express as px"
   ]
  },
  {
   "cell_type": "code",
   "execution_count": 3,
   "metadata": {},
   "outputs": [],
   "source": [
    "path = \"data/temporary_data/spipoll.csv\""
   ]
  },
  {
   "cell_type": "code",
   "execution_count": 4,
   "metadata": {},
   "outputs": [
    {
     "name": "stderr",
     "output_type": "stream",
     "text": [
      "/tmp/ipykernel_1063/822284616.py:1: DtypeWarning: Columns (11) have mixed types. Specify dtype option on import or set low_memory=False.\n",
      "  data = pd.read_csv(path)\n"
     ]
    }
   ],
   "source": [
    "data = pd.read_csv(path)"
   ]
  },
  {
   "cell_type": "code",
   "execution_count": 5,
   "metadata": {},
   "outputs": [],
   "source": [
    "restricted_vars = [\n",
    "    \"collection_id\",\n",
    "    \"plante_sc\",\n",
    "    \"plante_fr\",\n",
    "    \"insecte_sc\",\n",
    "    \"insecte_fr\",\n",
    "    \"temperature\",\n",
    "    \"vent\",\n",
    "    \"latitude\",\n",
    "    \"longitude\",\n",
    "    \"nebulosite\",\n",
    "    \"collection_heure_debut\",\n",
    "]\n",
    "df = data[restricted_vars].copy()"
   ]
  },
  {
   "cell_type": "markdown",
   "metadata": {},
   "source": [
    "# Mise en place du modèle\n",
    "\n"
   ]
  },
  {
   "cell_type": "markdown",
   "metadata": {},
   "source": [
    "## Compréhension des variables d'intérêt"
   ]
  },
  {
   "cell_type": "code",
   "execution_count": null,
   "metadata": {},
   "outputs": [],
   "source": [
    "var_interet = df[\"insecte_fr\"]"
   ]
  },
  {
   "cell_type": "code",
   "execution_count": null,
   "metadata": {},
   "outputs": [],
   "source": [
    "df.head()"
   ]
  },
  {
   "cell_type": "code",
   "execution_count": null,
   "metadata": {},
   "outputs": [],
   "source": [
    "plt.figure(figsize=(10, 10))\n",
    "x_values = var_interet.dropna().value_counts().index\n",
    "y_values = var_interet.dropna().value_counts().values[::-1]\n",
    "sns.lineplot(x=x_values, y=y_values)\n",
    "\n",
    "# Fill the area under the curve\n",
    "plt.fill_between(x_values, y_values, color=\"skyblue\", alpha=0.4)\n",
    "\n",
    "# Put an xtick each 1000 unique values\n",
    "plt.xticks(range(0, len(var_interet.value_counts()), 50))\n",
    "# Instead of the label of the xtick, put the position of the xtick\n",
    "plt.gca().set_xticklabels(range(0, len(var_interet.value_counts()), 50))\n",
    "\n",
    "# Put a line on the quartiles\n",
    "plt.axhline(y=var_interet.value_counts().quantile(0.25), color=\"red\", linestyle=\"--\")\n",
    "plt.axhline(y=var_interet.value_counts().quantile(0.50), color=\"red\", linestyle=\":\")\n",
    "plt.axhline(y=var_interet.value_counts().quantile(0.75), color=\"red\", linestyle=\"--\")\n",
    "\n",
    "plt.ylim(0, 30000)\n",
    "plt.xlim(0, len(var_interet.value_counts()))\n",
    "plt.yscale(\"symlog\")\n",
    "plt.ylabel(\"log(count)\")\n",
    "plt.xlabel(\"Count rank Insecte\")\n",
    "plt.tight_layout()\n",
    "plt.show()"
   ]
  },
  {
   "cell_type": "code",
   "execution_count": null,
   "metadata": {},
   "outputs": [],
   "source": [
    "counts = df[\"insecte_sc\"].dropna().value_counts().sort_index()"
   ]
  },
  {
   "cell_type": "markdown",
   "metadata": {},
   "source": [
    "1/4 des données est très peu représenté sur l'attribut `insecte_sc` `insecte_fr` "
   ]
  },
  {
   "cell_type": "code",
   "execution_count": null,
   "metadata": {},
   "outputs": [],
   "source": [
    "print(\"insecte_sc\")\n",
    "display(df[\"insecte_sc\"].value_counts().describe())\n",
    "print(\"insecte_fr\")\n",
    "display(df[\"insecte_fr\"].value_counts().describe())\n",
    "print(\n",
    "    f\"Proportion NA insecte_SC: {df['insecte_sc'].isna().sum() / len(df['insecte_sc']) * 100:.2f}%\"\n",
    ")\n",
    "print(\n",
    "    f\"Proportion NA insecte_FR: {df['insecte_fr'].isna().sum() / len(df['insecte_fr']) * 100:.2f}%\"\n",
    ")"
   ]
  },
  {
   "cell_type": "code",
   "execution_count": null,
   "metadata": {},
   "outputs": [],
   "source": [
    "print(df[\"insecte_sc\"].value_counts().head(100).to_dict())"
   ]
  },
  {
   "cell_type": "markdown",
   "metadata": {},
   "source": [
    "Visualisation de l'importance de la temporalité"
   ]
  },
  {
   "cell_type": "code",
   "execution_count": null,
   "metadata": {},
   "outputs": [],
   "source": [
    "# get samples where collection_heure_debut is between 18 and 08\n",
    "# knowing data is in this shape  2019-06-12 12:20:00\n",
    "\n",
    "\n",
    "df[\"collection_heure_debut\"] = pd.to_datetime(df[\"collection_heure_debut\"])\n",
    "\n",
    "# plot the distribution of the collection_heure_debut avec les minutes et les heures en x\n",
    "# Aggreger collection_id\n",
    "\n",
    "sns.distplot(\n",
    "    df[\"collection_heure_debut\"].dt.hour + df[\"collection_heure_debut\"].dt.minute / 60\n",
    ")"
   ]
  },
  {
   "cell_type": "code",
   "execution_count": null,
   "metadata": {},
   "outputs": [],
   "source": [
    "mask = (df[\"collection_heure_debut\"].dt.hour >= 18) | (\n",
    "    df[\"collection_heure_debut\"].dt.hour <= 7\n",
    ")\n",
    "tmp_df = df[mask].copy()"
   ]
  },
  {
   "cell_type": "code",
   "execution_count": null,
   "metadata": {},
   "outputs": [],
   "source": [
    "tmp_df.shape"
   ]
  },
  {
   "cell_type": "code",
   "execution_count": null,
   "metadata": {},
   "outputs": [],
   "source": [
    "# get the intersection of list nunique values of insecte_fr of df and tmp_df\n",
    "\n",
    "unique_insecte_fr = df[\"insecte_fr\"].dropna().unique()\n",
    "unique_insecte_fr_tmp = tmp_df[\"insecte_fr\"].dropna().unique()\n",
    "\n",
    "# get the intersection of list nunique values of insecte_fr of df and tmp_df\n",
    "intersection = set(unique_insecte_fr).intersection(set(unique_insecte_fr_tmp))"
   ]
  },
  {
   "cell_type": "markdown",
   "metadata": {},
   "source": [
    "Pour la suite, le jeu de donnée est trop grand pour être traité en local. Il faut donc sous échantilloner."
   ]
  },
  {
   "cell_type": "code",
   "execution_count": null,
   "metadata": {},
   "outputs": [],
   "source": [
    "df = df.dropna(subset=[\"insecte_fr\"])"
   ]
  },
  {
   "cell_type": "code",
   "execution_count": null,
   "metadata": {},
   "outputs": [],
   "source": [
    "df = df.sample(frac=0.01, random_state=1)"
   ]
  },
  {
   "cell_type": "markdown",
   "metadata": {},
   "source": [
    "La variable cible n'existe pas dans le jeu de données. Il faut la créer à partir de `insecte_sc` ou `insecte_fr` (ou autre dans le futur).\n",
    "\n",
    "Pour ça on va regarder autour de chaque observation (wrt. latitude et longitude) si il y a des observations similaires (même `insecte_sc` ou `insecte_fr`). La classe cible sera la quantité d'`insecte_sc` ou `insecte_fr` différents autour de l'observation considérée.\n"
   ]
  },
  {
   "cell_type": "code",
   "execution_count": null,
   "metadata": {},
   "outputs": [],
   "source": [
    "df.shape"
   ]
  },
  {
   "cell_type": "code",
   "execution_count": null,
   "metadata": {},
   "outputs": [],
   "source": [
    "distance = 0.5"
   ]
  },
  {
   "cell_type": "markdown",
   "metadata": {},
   "source": [
    "Première intuition"
   ]
  },
  {
   "cell_type": "code",
   "execution_count": null,
   "metadata": {
    "tags": []
   },
   "outputs": [],
   "source": [
    "def calculate_unique_insects(row):\n",
    "    lat = row[\"latitude\"]\n",
    "    lon = row[\"longitude\"]\n",
    "    return df[\n",
    "        (np.abs(df[\"latitude\"] - lat) <= distance)\n",
    "        & (np.abs(df[\"longitude\"] - lon) <= distance)\n",
    "    ][\"insecte_fr\"].nunique()\n",
    "\n",
    "\n",
    "# add tqdm to see the progress of the loop in the pandas apply\n",
    "from tqdm import tqdm\n",
    "\n",
    "tqdm.pandas()\n",
    "\n",
    "df[\"target\"] = df.progress_apply(calculate_unique_insects, axis=1)"
   ]
  },
  {
   "cell_type": "markdown",
   "metadata": {},
   "source": [
    "Deuxième intuition: il faut gagner en vitesse de calcul"
   ]
  },
  {
   "cell_type": "code",
   "execution_count": null,
   "metadata": {},
   "outputs": [],
   "source": [
    "from scipy.spatial import KDTree\n",
    "from tqdm import tqdm\n",
    "\n",
    "# Create a KDTree from the latitude and longitude\n",
    "tree = KDTree(df[[\"latitude\", \"longitude\"]].values)\n",
    "\n",
    "\n",
    "# Define a function to calculate the unique insects within the distance\n",
    "def calculate_unique_insects(row):\n",
    "    indices = tree.query_ball_point([row[\"latitude\"], row[\"longitude\"]], distance)\n",
    "    return df.iloc[indices][\"insecte_fr\"].nunique()\n",
    "\n",
    "\n",
    "# Apply the function to each row\n",
    "# use tqdm to display a progress bar\n",
    "tqdm.pandas()\n",
    "\n",
    "df[\"Richesse spécifique\"] = df.progress_apply(calculate_unique_insects, axis=1)"
   ]
  },
  {
   "cell_type": "markdown",
   "metadata": {},
   "source": [
    "Carte de France avec uniquement la richesse spécifique autour de chaque observation. "
   ]
  },
  {
   "cell_type": "code",
   "execution_count": null,
   "metadata": {},
   "outputs": [],
   "source": [
    "import plotly.express as px\n",
    "\n",
    "fig = px.scatter_geo(df, lat=\"latitude\", lon=\"longitude\", color=\"Richesse spécifique\")\n",
    "fig.update_geos(fitbounds=\"locations\", visible=True)\n",
    "fig.show()"
   ]
  },
  {
   "cell_type": "markdown",
   "metadata": {},
   "source": [
    "On peut supposer que cette carte ne traduit en réalité que la densité de population humaine: s'il y a beaucoup d'espèces différentes proche des observations c'est peut-être juste qu'il y a beaucoup d'observations. On va comparer avec une carte de la densité d'échantillonnage."
   ]
  },
  {
   "cell_type": "code",
   "execution_count": null,
   "metadata": {},
   "outputs": [],
   "source": [
    "def calculate_density(row):\n",
    "    lat = row[\"latitude\"]\n",
    "    lon = row[\"longitude\"]\n",
    "    return df[\n",
    "        (np.abs(df[\"latitude\"] - lat) <= distance)\n",
    "        & (np.abs(df[\"longitude\"] - lon) <= distance)\n",
    "    ].shape[0]\n",
    "\n",
    "\n",
    "df[\"Densité\"] = df.progress_apply(calculate_density, axis=1)"
   ]
  },
  {
   "cell_type": "code",
   "execution_count": null,
   "metadata": {},
   "outputs": [],
   "source": [
    "fig = px.scatter_geo(df, lat=\"latitude\", lon=\"longitude\", color=\"Densité\")\n",
    "fig.update_geos(fitbounds=\"locations\", visible=True)\n",
    "fig.show()"
   ]
  },
  {
   "cell_type": "code",
   "execution_count": null,
   "metadata": {},
   "outputs": [],
   "source": [
    "df[\"Richesse spécifique pondérée\"] = df[\"Richesse spécifique\"] / df[\"Densité\"]"
   ]
  },
  {
   "cell_type": "markdown",
   "metadata": {},
   "source": [
    "En pondérant la target par la densité d'échantillonnage, on devrait avoir une carte plus signficiative de la richesse spécifique. En revanche, la pondération est peut-être trop en défaveur des zones denses: Il y a un nombre d'espèces maximum qui peut se faire effacer par la densité d'échantillonnage."
   ]
  },
  {
   "cell_type": "code",
   "execution_count": null,
   "metadata": {},
   "outputs": [],
   "source": [
    "fig = px.scatter_geo(\n",
    "    df, lat=\"latitude\", lon=\"longitude\", color=\"Richesse spécifique pondérée\"\n",
    ")\n",
    "fig.update_geos(fitbounds=\"locations\", visible=True)\n",
    "fig.show()"
   ]
  },
  {
   "cell_type": "markdown",
   "metadata": {},
   "source": [
    "On va comparer en pondérant plutôt par la densité de collection"
   ]
  },
  {
   "cell_type": "code",
   "execution_count": null,
   "metadata": {},
   "outputs": [],
   "source": [
    "# calcule la densité de collection_id, sachant qu'il peut y avoir un même\n",
    "# collection_id pour plusieurs lignes\n",
    "def compute_collection_id_density(row):\n",
    "    lat = row[\"latitude\"]\n",
    "    lon = row[\"longitude\"]\n",
    "    return df[\n",
    "        (np.abs(df[\"latitude\"] - lat) <= distance)\n",
    "        & (np.abs(df[\"longitude\"] - lon) <= distance)\n",
    "    ][\"collection_id\"].nunique()\n",
    "\n",
    "\n",
    "# calcule unique insects weighted en divisant target par la quantité d'id collection\n",
    "df[\"collection_id density\"] = df.progress_apply(compute_collection_id_density, axis=1)\n",
    "\n",
    "df[\"Richesse spécifique pondérée par collection\"] = (\n",
    "    df[\"Richesse spécifique\"] / df[\"collection_id density\"]\n",
    ")"
   ]
  },
  {
   "cell_type": "code",
   "execution_count": null,
   "metadata": {},
   "outputs": [],
   "source": [
    "# plot unique insects weighted coll, and add in the interactive labels the target and the collection_id density\n",
    "fig = px.scatter_geo(\n",
    "    df,\n",
    "    lat=\"latitude\",\n",
    "    lon=\"longitude\",\n",
    "    color=\"Richesse spécifique pondérée par collection\",\n",
    "    hover_data=[\"target\", \"collection_id density\"],\n",
    ")\n",
    "fig.update_geos(fitbounds=\"locations\", visible=True)\n",
    "fig.show()"
   ]
  },
  {
   "cell_type": "markdown",
   "metadata": {},
   "source": [
    "## Pipeline de modélisation"
   ]
  },
  {
   "cell_type": "code",
   "execution_count": 64,
   "metadata": {},
   "outputs": [
    {
     "data": {
      "text/plain": [
       "(67571, 11)"
      ]
     },
     "execution_count": 64,
     "metadata": {},
     "output_type": "execute_result"
    }
   ],
   "source": [
    "df = data[restricted_vars].copy().sample(frac=0.1, random_state=1)\n",
    "df.shape"
   ]
  },
  {
   "cell_type": "code",
   "execution_count": 65,
   "metadata": {},
   "outputs": [
    {
     "name": "stdout",
     "output_type": "stream",
     "text": [
      "Calculating metrics...\n"
     ]
    },
    {
     "name": "stderr",
     "output_type": "stream",
     "text": [
      "  0%|          | 0/67571 [00:00<?, ?it/s]"
     ]
    },
    {
     "name": "stderr",
     "output_type": "stream",
     "text": [
      "100%|██████████| 67571/67571 [03:55<00:00, 287.11it/s]\n"
     ]
    }
   ],
   "source": [
    "from models.supervised.preprocessors import MetricsCalculatorNaive as MetricsCalculator\n",
    "\n",
    "# Add the target variable to the dataframe\n",
    "\n",
    "distance = 0.5\n",
    "calculator = MetricsCalculator(distance=distance, clear_intermediate_steps=True)\n",
    "calculator.fit(df)\n",
    "df_transformed = calculator.transform(df)"
   ]
  },
  {
   "cell_type": "code",
   "execution_count": 66,
   "metadata": {},
   "outputs": [],
   "source": [
    "from models.supervised.preprocessors import HourToCos, DateToJulian\n",
    "\n",
    "# Add hour to cos tranformation and date to julian day transformation\n",
    "df_transformed = HourToCos(hour_col=\"collection_heure_debut\").fit_transform(\n",
    "    df_transformed\n",
    ")\n",
    "df_transformed = DateToJulian(date_col=\"collection_heure_debut\").fit_transform(\n",
    "    df_transformed\n",
    ")"
   ]
  },
  {
   "cell_type": "code",
   "execution_count": 67,
   "metadata": {},
   "outputs": [
    {
     "data": {
      "text/html": [
       "<div>\n",
       "<style scoped>\n",
       "    .dataframe tbody tr th:only-of-type {\n",
       "        vertical-align: middle;\n",
       "    }\n",
       "\n",
       "    .dataframe tbody tr th {\n",
       "        vertical-align: top;\n",
       "    }\n",
       "\n",
       "    .dataframe thead th {\n",
       "        text-align: right;\n",
       "    }\n",
       "</style>\n",
       "<table border=\"1\" class=\"dataframe\">\n",
       "  <thead>\n",
       "    <tr style=\"text-align: right;\">\n",
       "      <th></th>\n",
       "      <th>collection_id</th>\n",
       "      <th>plante_sc</th>\n",
       "      <th>plante_fr</th>\n",
       "      <th>insecte_sc</th>\n",
       "      <th>insecte_fr</th>\n",
       "      <th>temperature</th>\n",
       "      <th>vent</th>\n",
       "      <th>latitude</th>\n",
       "      <th>longitude</th>\n",
       "      <th>nebulosite</th>\n",
       "      <th>collection_heure_debut</th>\n",
       "      <th>weighted_specific_richness</th>\n",
       "      <th>collection_heure_debut_cos</th>\n",
       "      <th>collection_heure_debut_julian</th>\n",
       "    </tr>\n",
       "  </thead>\n",
       "  <tbody>\n",
       "    <tr>\n",
       "      <th>172218</th>\n",
       "      <td>19 068</td>\n",
       "      <td>Les Angéliques (Angelica sp)</td>\n",
       "      <td>NaN</td>\n",
       "      <td>NaN</td>\n",
       "      <td>Les Mouches difficiles à déterminer</td>\n",
       "      <td>20-30ºC</td>\n",
       "      <td>faible, irrégulier</td>\n",
       "      <td>48.841331</td>\n",
       "      <td>2.358497</td>\n",
       "      <td>0-25%</td>\n",
       "      <td>2016-05-02 11:30:00.000</td>\n",
       "      <td>0.058677</td>\n",
       "      <td>-0.991445</td>\n",
       "      <td>2.457511e+06</td>\n",
       "    </tr>\n",
       "    <tr>\n",
       "      <th>37176</th>\n",
       "      <td>4 091</td>\n",
       "      <td>Daucus carota</td>\n",
       "      <td>Carotte sauvage</td>\n",
       "      <td>Hylaeus</td>\n",
       "      <td>Les Abeilles Hylaeus à taches blanches</td>\n",
       "      <td>20-30ºC</td>\n",
       "      <td>faible, irrégulier</td>\n",
       "      <td>48.213400</td>\n",
       "      <td>-1.693901</td>\n",
       "      <td>0-25%</td>\n",
       "      <td>2019-07-24 09:30:00.000</td>\n",
       "      <td>0.060071</td>\n",
       "      <td>-0.793353</td>\n",
       "      <td>2.458689e+06</td>\n",
       "    </tr>\n",
       "  </tbody>\n",
       "</table>\n",
       "</div>"
      ],
      "text/plain": [
       "       collection_id                     plante_sc        plante_fr  \\\n",
       "172218        19 068  Les Angéliques (Angelica sp)              NaN   \n",
       "37176          4 091                 Daucus carota  Carotte sauvage   \n",
       "\n",
       "       insecte_sc                              insecte_fr temperature  \\\n",
       "172218        NaN     Les Mouches difficiles à déterminer     20-30ºC   \n",
       "37176     Hylaeus  Les Abeilles Hylaeus à taches blanches     20-30ºC   \n",
       "\n",
       "                      vent   latitude  longitude nebulosite  \\\n",
       "172218  faible, irrégulier  48.841331   2.358497      0-25%   \n",
       "37176   faible, irrégulier  48.213400  -1.693901      0-25%   \n",
       "\n",
       "         collection_heure_debut  weighted_specific_richness  \\\n",
       "172218  2016-05-02 11:30:00.000                    0.058677   \n",
       "37176   2019-07-24 09:30:00.000                    0.060071   \n",
       "\n",
       "        collection_heure_debut_cos  collection_heure_debut_julian  \n",
       "172218                   -0.991445                   2.457511e+06  \n",
       "37176                    -0.793353                   2.458689e+06  "
      ]
     },
     "execution_count": 67,
     "metadata": {},
     "output_type": "execute_result"
    }
   ],
   "source": [
    "# check that all transformations have been applied\n",
    "df_transformed.head(2)"
   ]
  },
  {
   "cell_type": "code",
   "execution_count": 68,
   "metadata": {},
   "outputs": [
    {
     "data": {
      "text/plain": [
       "Index(['collection_id', 'plante_sc', 'plante_fr', 'insecte_sc', 'insecte_fr',\n",
       "       'temperature', 'vent', 'latitude', 'longitude', 'nebulosite',\n",
       "       'collection_heure_debut', 'weighted_specific_richness',\n",
       "       'collection_heure_debut_cos', 'collection_heure_debut_julian'],\n",
       "      dtype='object')"
      ]
     },
     "execution_count": 68,
     "metadata": {},
     "output_type": "execute_result"
    }
   ],
   "source": [
    "df_transformed.columns"
   ]
  },
  {
   "cell_type": "code",
   "execution_count": 69,
   "metadata": {},
   "outputs": [],
   "source": [
    "numeric_features = [\n",
    "    \"latitude\",\n",
    "    \"longitude\",\n",
    "    \"collection_heure_debut_cos\",\n",
    "    \"collection_heure_debut_julian\",\n",
    "]\n",
    "\n",
    "ordinal_features = [\"vent\", \"nebulosite\", \"temperature\"]\n",
    "\n",
    "nominal_features = [\n",
    "    \"plante_fr\",\n",
    "    # ....\n",
    "]\n",
    "\n",
    "categorical_features = ordinal_features + nominal_features\n",
    "\n",
    "used_features = numeric_features + ordinal_features + nominal_features"
   ]
  },
  {
   "cell_type": "code",
   "execution_count": 70,
   "metadata": {},
   "outputs": [],
   "source": [
    "X = df_transformed[used_features]\n",
    "y = df_transformed[\"weighted_specific_richness\"]"
   ]
  },
  {
   "cell_type": "code",
   "execution_count": 71,
   "metadata": {},
   "outputs": [
    {
     "data": {
      "text/html": [
       "<div>\n",
       "<style scoped>\n",
       "    .dataframe tbody tr th:only-of-type {\n",
       "        vertical-align: middle;\n",
       "    }\n",
       "\n",
       "    .dataframe tbody tr th {\n",
       "        vertical-align: top;\n",
       "    }\n",
       "\n",
       "    .dataframe thead th {\n",
       "        text-align: right;\n",
       "    }\n",
       "</style>\n",
       "<table border=\"1\" class=\"dataframe\">\n",
       "  <thead>\n",
       "    <tr style=\"text-align: right;\">\n",
       "      <th></th>\n",
       "      <th>latitude</th>\n",
       "      <th>longitude</th>\n",
       "      <th>collection_heure_debut_cos</th>\n",
       "      <th>collection_heure_debut_julian</th>\n",
       "      <th>vent</th>\n",
       "      <th>nebulosite</th>\n",
       "      <th>temperature</th>\n",
       "      <th>plante_fr</th>\n",
       "    </tr>\n",
       "  </thead>\n",
       "  <tbody>\n",
       "    <tr>\n",
       "      <th>172218</th>\n",
       "      <td>48.841331</td>\n",
       "      <td>2.358497</td>\n",
       "      <td>-0.991445</td>\n",
       "      <td>2.457511e+06</td>\n",
       "      <td>faible, irrégulier</td>\n",
       "      <td>0-25%</td>\n",
       "      <td>20-30ºC</td>\n",
       "      <td>NaN</td>\n",
       "    </tr>\n",
       "    <tr>\n",
       "      <th>37176</th>\n",
       "      <td>48.213400</td>\n",
       "      <td>-1.693901</td>\n",
       "      <td>-0.793353</td>\n",
       "      <td>2.458689e+06</td>\n",
       "      <td>faible, irrégulier</td>\n",
       "      <td>0-25%</td>\n",
       "      <td>20-30ºC</td>\n",
       "      <td>Carotte sauvage</td>\n",
       "    </tr>\n",
       "    <tr>\n",
       "      <th>618860</th>\n",
       "      <td>44.717569</td>\n",
       "      <td>4.547003</td>\n",
       "      <td>-0.854912</td>\n",
       "      <td>2.459992e+06</td>\n",
       "      <td>faible, irrégulier</td>\n",
       "      <td>0-25%</td>\n",
       "      <td>10-20ºC</td>\n",
       "      <td>Laurier tin</td>\n",
       "    </tr>\n",
       "    <tr>\n",
       "      <th>316812</th>\n",
       "      <td>46.810336</td>\n",
       "      <td>6.382778</td>\n",
       "      <td>-0.999048</td>\n",
       "      <td>2.456499e+06</td>\n",
       "      <td>faible, irrégulier</td>\n",
       "      <td>0-25%</td>\n",
       "      <td>20-30ºC</td>\n",
       "      <td>NaN</td>\n",
       "    </tr>\n",
       "    <tr>\n",
       "      <th>92345</th>\n",
       "      <td>48.135764</td>\n",
       "      <td>-1.697600</td>\n",
       "      <td>-0.790690</td>\n",
       "      <td>2.458332e+06</td>\n",
       "      <td>faible, irrégulier</td>\n",
       "      <td>0-25%</td>\n",
       "      <td>20-30ºC</td>\n",
       "      <td>NaN</td>\n",
       "    </tr>\n",
       "  </tbody>\n",
       "</table>\n",
       "</div>"
      ],
      "text/plain": [
       "         latitude  longitude  collection_heure_debut_cos  \\\n",
       "172218  48.841331   2.358497                   -0.991445   \n",
       "37176   48.213400  -1.693901                   -0.793353   \n",
       "618860  44.717569   4.547003                   -0.854912   \n",
       "316812  46.810336   6.382778                   -0.999048   \n",
       "92345   48.135764  -1.697600                   -0.790690   \n",
       "\n",
       "        collection_heure_debut_julian                vent nebulosite  \\\n",
       "172218                   2.457511e+06  faible, irrégulier      0-25%   \n",
       "37176                    2.458689e+06  faible, irrégulier      0-25%   \n",
       "618860                   2.459992e+06  faible, irrégulier      0-25%   \n",
       "316812                   2.456499e+06  faible, irrégulier      0-25%   \n",
       "92345                    2.458332e+06  faible, irrégulier      0-25%   \n",
       "\n",
       "       temperature        plante_fr  \n",
       "172218     20-30ºC              NaN  \n",
       "37176      20-30ºC  Carotte sauvage  \n",
       "618860     10-20ºC      Laurier tin  \n",
       "316812     20-30ºC              NaN  \n",
       "92345      20-30ºC              NaN  "
      ]
     },
     "execution_count": 71,
     "metadata": {},
     "output_type": "execute_result"
    }
   ],
   "source": [
    "X.head()"
   ]
  },
  {
   "cell_type": "markdown",
   "metadata": {},
   "source": [
    "Il FAUT gérer les données manquantes. Pour ça on va utiliser un KNN qui va chercher les observations les plus proches pour compléter les données manquantes !"
   ]
  },
  {
   "cell_type": "markdown",
   "metadata": {},
   "source": [
    "https://scikit-learn.org/stable/auto_examples/impute/plot_missing_values.html#sphx-glr-auto-examples-impute-plot-missing-values-py"
   ]
  },
  {
   "cell_type": "code",
   "execution_count": 24,
   "metadata": {},
   "outputs": [],
   "source": [
    "# idée: utiliser un KNN modifié pour remplacer les données par les plus proches spatialement !"
   ]
  },
  {
   "cell_type": "code",
   "execution_count": 129,
   "metadata": {
    "tags": []
   },
   "outputs": [
    {
     "data": {
      "text/html": [
       "<style>#sk-container-id-32 {color: black;}#sk-container-id-32 pre{padding: 0;}#sk-container-id-32 div.sk-toggleable {background-color: white;}#sk-container-id-32 label.sk-toggleable__label {cursor: pointer;display: block;width: 100%;margin-bottom: 0;padding: 0.3em;box-sizing: border-box;text-align: center;}#sk-container-id-32 label.sk-toggleable__label-arrow:before {content: \"▸\";float: left;margin-right: 0.25em;color: #696969;}#sk-container-id-32 label.sk-toggleable__label-arrow:hover:before {color: black;}#sk-container-id-32 div.sk-estimator:hover label.sk-toggleable__label-arrow:before {color: black;}#sk-container-id-32 div.sk-toggleable__content {max-height: 0;max-width: 0;overflow: hidden;text-align: left;background-color: #f0f8ff;}#sk-container-id-32 div.sk-toggleable__content pre {margin: 0.2em;color: black;border-radius: 0.25em;background-color: #f0f8ff;}#sk-container-id-32 input.sk-toggleable__control:checked~div.sk-toggleable__content {max-height: 200px;max-width: 100%;overflow: auto;}#sk-container-id-32 input.sk-toggleable__control:checked~label.sk-toggleable__label-arrow:before {content: \"▾\";}#sk-container-id-32 div.sk-estimator input.sk-toggleable__control:checked~label.sk-toggleable__label {background-color: #d4ebff;}#sk-container-id-32 div.sk-label input.sk-toggleable__control:checked~label.sk-toggleable__label {background-color: #d4ebff;}#sk-container-id-32 input.sk-hidden--visually {border: 0;clip: rect(1px 1px 1px 1px);clip: rect(1px, 1px, 1px, 1px);height: 1px;margin: -1px;overflow: hidden;padding: 0;position: absolute;width: 1px;}#sk-container-id-32 div.sk-estimator {font-family: monospace;background-color: #f0f8ff;border: 1px dotted black;border-radius: 0.25em;box-sizing: border-box;margin-bottom: 0.5em;}#sk-container-id-32 div.sk-estimator:hover {background-color: #d4ebff;}#sk-container-id-32 div.sk-parallel-item::after {content: \"\";width: 100%;border-bottom: 1px solid gray;flex-grow: 1;}#sk-container-id-32 div.sk-label:hover label.sk-toggleable__label {background-color: #d4ebff;}#sk-container-id-32 div.sk-serial::before {content: \"\";position: absolute;border-left: 1px solid gray;box-sizing: border-box;top: 0;bottom: 0;left: 50%;z-index: 0;}#sk-container-id-32 div.sk-serial {display: flex;flex-direction: column;align-items: center;background-color: white;padding-right: 0.2em;padding-left: 0.2em;position: relative;}#sk-container-id-32 div.sk-item {position: relative;z-index: 1;}#sk-container-id-32 div.sk-parallel {display: flex;align-items: stretch;justify-content: center;background-color: white;position: relative;}#sk-container-id-32 div.sk-item::before, #sk-container-id-32 div.sk-parallel-item::before {content: \"\";position: absolute;border-left: 1px solid gray;box-sizing: border-box;top: 0;bottom: 0;left: 50%;z-index: -1;}#sk-container-id-32 div.sk-parallel-item {display: flex;flex-direction: column;z-index: 1;position: relative;background-color: white;}#sk-container-id-32 div.sk-parallel-item:first-child::after {align-self: flex-end;width: 50%;}#sk-container-id-32 div.sk-parallel-item:last-child::after {align-self: flex-start;width: 50%;}#sk-container-id-32 div.sk-parallel-item:only-child::after {width: 0;}#sk-container-id-32 div.sk-dashed-wrapped {border: 1px dashed gray;margin: 0 0.4em 0.5em 0.4em;box-sizing: border-box;padding-bottom: 0.4em;background-color: white;}#sk-container-id-32 div.sk-label label {font-family: monospace;font-weight: bold;display: inline-block;line-height: 1.2em;}#sk-container-id-32 div.sk-label-container {text-align: center;}#sk-container-id-32 div.sk-container {/* jupyter's `normalize.less` sets `[hidden] { display: none; }` but bootstrap.min.css set `[hidden] { display: none !important; }` so we also need the `!important` here to be able to override the default hidden behavior on the sphinx rendered scikit-learn.org. See: https://github.com/scikit-learn/scikit-learn/issues/21755 */display: inline-block !important;position: relative;}#sk-container-id-32 div.sk-text-repr-fallback {display: none;}</style><div id=\"sk-container-id-32\" class=\"sk-top-container\"><div class=\"sk-text-repr-fallback\"><pre>Pipeline(steps=[(&#x27;preprocessor&#x27;,\n",
       "                 ColumnTransformer(transformers=[(&#x27;numerical&#x27;,\n",
       "                                                  Pipeline(steps=[(&#x27;scaler&#x27;,\n",
       "                                                                   StandardScaler()),\n",
       "                                                                  (&#x27;imputer&#x27;,\n",
       "                                                                   KNNImputer())]),\n",
       "                                                  [&#x27;latitude&#x27;, &#x27;longitude&#x27;,\n",
       "                                                   &#x27;collection_heure_debut_cos&#x27;,\n",
       "                                                   &#x27;collection_heure_debut_julian&#x27;]),\n",
       "                                                 (&#x27;categorical&#x27;,\n",
       "                                                  Pipeline(steps=[(&#x27;encoding&#x27;,\n",
       "                                                                   ColumnTransformer(transformers=[(&#x27;ordinal&#x27;,\n",
       "                                                                                                    OrdinalEncoder(),\n",
       "                                                                                                    [&#x27;vent&#x27;,\n",
       "                                                                                                     &#x27;nebulosite&#x27;,\n",
       "                                                                                                     &#x27;temperature&#x27;]),\n",
       "                                                                                                   (&#x27;nominal&#x27;,\n",
       "                                                                                                    OneHotEncoder(handle_unknown=&#x27;ignore&#x27;),\n",
       "                                                                                                    [&#x27;plante_fr&#x27;])])),\n",
       "                                                                  (&#x27;imputer&#x27;,\n",
       "                                                                   SimpleImputer(strategy=&#x27;most_frequent&#x27;))]),\n",
       "                                                  [&#x27;vent&#x27;, &#x27;nebulosite&#x27;,\n",
       "                                                   &#x27;temperature&#x27;,\n",
       "                                                   &#x27;plante_fr&#x27;])])),\n",
       "                (&#x27;passthrough&#x27;, &#x27;passthrough&#x27;),\n",
       "                (&#x27;estimator&#x27;, RandomForestRegressor(random_state=1))])</pre><b>In a Jupyter environment, please rerun this cell to show the HTML representation or trust the notebook. <br />On GitHub, the HTML representation is unable to render, please try loading this page with nbviewer.org.</b></div><div class=\"sk-container\" hidden><div class=\"sk-item sk-dashed-wrapped\"><div class=\"sk-label-container\"><div class=\"sk-label sk-toggleable\"><input class=\"sk-toggleable__control sk-hidden--visually\" id=\"sk-estimator-id-338\" type=\"checkbox\" ><label for=\"sk-estimator-id-338\" class=\"sk-toggleable__label sk-toggleable__label-arrow\">Pipeline</label><div class=\"sk-toggleable__content\"><pre>Pipeline(steps=[(&#x27;preprocessor&#x27;,\n",
       "                 ColumnTransformer(transformers=[(&#x27;numerical&#x27;,\n",
       "                                                  Pipeline(steps=[(&#x27;scaler&#x27;,\n",
       "                                                                   StandardScaler()),\n",
       "                                                                  (&#x27;imputer&#x27;,\n",
       "                                                                   KNNImputer())]),\n",
       "                                                  [&#x27;latitude&#x27;, &#x27;longitude&#x27;,\n",
       "                                                   &#x27;collection_heure_debut_cos&#x27;,\n",
       "                                                   &#x27;collection_heure_debut_julian&#x27;]),\n",
       "                                                 (&#x27;categorical&#x27;,\n",
       "                                                  Pipeline(steps=[(&#x27;encoding&#x27;,\n",
       "                                                                   ColumnTransformer(transformers=[(&#x27;ordinal&#x27;,\n",
       "                                                                                                    OrdinalEncoder(),\n",
       "                                                                                                    [&#x27;vent&#x27;,\n",
       "                                                                                                     &#x27;nebulosite&#x27;,\n",
       "                                                                                                     &#x27;temperature&#x27;]),\n",
       "                                                                                                   (&#x27;nominal&#x27;,\n",
       "                                                                                                    OneHotEncoder(handle_unknown=&#x27;ignore&#x27;),\n",
       "                                                                                                    [&#x27;plante_fr&#x27;])])),\n",
       "                                                                  (&#x27;imputer&#x27;,\n",
       "                                                                   SimpleImputer(strategy=&#x27;most_frequent&#x27;))]),\n",
       "                                                  [&#x27;vent&#x27;, &#x27;nebulosite&#x27;,\n",
       "                                                   &#x27;temperature&#x27;,\n",
       "                                                   &#x27;plante_fr&#x27;])])),\n",
       "                (&#x27;passthrough&#x27;, &#x27;passthrough&#x27;),\n",
       "                (&#x27;estimator&#x27;, RandomForestRegressor(random_state=1))])</pre></div></div></div><div class=\"sk-serial\"><div class=\"sk-item sk-dashed-wrapped\"><div class=\"sk-label-container\"><div class=\"sk-label sk-toggleable\"><input class=\"sk-toggleable__control sk-hidden--visually\" id=\"sk-estimator-id-339\" type=\"checkbox\" ><label for=\"sk-estimator-id-339\" class=\"sk-toggleable__label sk-toggleable__label-arrow\">preprocessor: ColumnTransformer</label><div class=\"sk-toggleable__content\"><pre>ColumnTransformer(transformers=[(&#x27;numerical&#x27;,\n",
       "                                 Pipeline(steps=[(&#x27;scaler&#x27;, StandardScaler()),\n",
       "                                                 (&#x27;imputer&#x27;, KNNImputer())]),\n",
       "                                 [&#x27;latitude&#x27;, &#x27;longitude&#x27;,\n",
       "                                  &#x27;collection_heure_debut_cos&#x27;,\n",
       "                                  &#x27;collection_heure_debut_julian&#x27;]),\n",
       "                                (&#x27;categorical&#x27;,\n",
       "                                 Pipeline(steps=[(&#x27;encoding&#x27;,\n",
       "                                                  ColumnTransformer(transformers=[(&#x27;ordinal&#x27;,\n",
       "                                                                                   OrdinalEncoder(),\n",
       "                                                                                   [&#x27;vent&#x27;,\n",
       "                                                                                    &#x27;nebulosite&#x27;,\n",
       "                                                                                    &#x27;temperature&#x27;]),\n",
       "                                                                                  (&#x27;nominal&#x27;,\n",
       "                                                                                   OneHotEncoder(handle_unknown=&#x27;ignore&#x27;),\n",
       "                                                                                   [&#x27;plante_fr&#x27;])])),\n",
       "                                                 (&#x27;imputer&#x27;,\n",
       "                                                  SimpleImputer(strategy=&#x27;most_frequent&#x27;))]),\n",
       "                                 [&#x27;vent&#x27;, &#x27;nebulosite&#x27;, &#x27;temperature&#x27;,\n",
       "                                  &#x27;plante_fr&#x27;])])</pre></div></div></div><div class=\"sk-parallel\"><div class=\"sk-parallel-item\"><div class=\"sk-item\"><div class=\"sk-label-container\"><div class=\"sk-label sk-toggleable\"><input class=\"sk-toggleable__control sk-hidden--visually\" id=\"sk-estimator-id-340\" type=\"checkbox\" ><label for=\"sk-estimator-id-340\" class=\"sk-toggleable__label sk-toggleable__label-arrow\">numerical</label><div class=\"sk-toggleable__content\"><pre>[&#x27;latitude&#x27;, &#x27;longitude&#x27;, &#x27;collection_heure_debut_cos&#x27;, &#x27;collection_heure_debut_julian&#x27;]</pre></div></div></div><div class=\"sk-serial\"><div class=\"sk-item\"><div class=\"sk-serial\"><div class=\"sk-item\"><div class=\"sk-estimator sk-toggleable\"><input class=\"sk-toggleable__control sk-hidden--visually\" id=\"sk-estimator-id-341\" type=\"checkbox\" ><label for=\"sk-estimator-id-341\" class=\"sk-toggleable__label sk-toggleable__label-arrow\">StandardScaler</label><div class=\"sk-toggleable__content\"><pre>StandardScaler()</pre></div></div></div><div class=\"sk-item\"><div class=\"sk-estimator sk-toggleable\"><input class=\"sk-toggleable__control sk-hidden--visually\" id=\"sk-estimator-id-342\" type=\"checkbox\" ><label for=\"sk-estimator-id-342\" class=\"sk-toggleable__label sk-toggleable__label-arrow\">KNNImputer</label><div class=\"sk-toggleable__content\"><pre>KNNImputer()</pre></div></div></div></div></div></div></div></div><div class=\"sk-parallel-item\"><div class=\"sk-item\"><div class=\"sk-label-container\"><div class=\"sk-label sk-toggleable\"><input class=\"sk-toggleable__control sk-hidden--visually\" id=\"sk-estimator-id-343\" type=\"checkbox\" ><label for=\"sk-estimator-id-343\" class=\"sk-toggleable__label sk-toggleable__label-arrow\">categorical</label><div class=\"sk-toggleable__content\"><pre>[&#x27;vent&#x27;, &#x27;nebulosite&#x27;, &#x27;temperature&#x27;, &#x27;plante_fr&#x27;]</pre></div></div></div><div class=\"sk-serial\"><div class=\"sk-item\"><div class=\"sk-serial\"><div class=\"sk-item sk-dashed-wrapped\"><div class=\"sk-label-container\"><div class=\"sk-label sk-toggleable\"><input class=\"sk-toggleable__control sk-hidden--visually\" id=\"sk-estimator-id-344\" type=\"checkbox\" ><label for=\"sk-estimator-id-344\" class=\"sk-toggleable__label sk-toggleable__label-arrow\">encoding: ColumnTransformer</label><div class=\"sk-toggleable__content\"><pre>ColumnTransformer(transformers=[(&#x27;ordinal&#x27;, OrdinalEncoder(),\n",
       "                                 [&#x27;vent&#x27;, &#x27;nebulosite&#x27;, &#x27;temperature&#x27;]),\n",
       "                                (&#x27;nominal&#x27;,\n",
       "                                 OneHotEncoder(handle_unknown=&#x27;ignore&#x27;),\n",
       "                                 [&#x27;plante_fr&#x27;])])</pre></div></div></div><div class=\"sk-parallel\"><div class=\"sk-parallel-item\"><div class=\"sk-item\"><div class=\"sk-label-container\"><div class=\"sk-label sk-toggleable\"><input class=\"sk-toggleable__control sk-hidden--visually\" id=\"sk-estimator-id-345\" type=\"checkbox\" ><label for=\"sk-estimator-id-345\" class=\"sk-toggleable__label sk-toggleable__label-arrow\">ordinal</label><div class=\"sk-toggleable__content\"><pre>[&#x27;vent&#x27;, &#x27;nebulosite&#x27;, &#x27;temperature&#x27;]</pre></div></div></div><div class=\"sk-serial\"><div class=\"sk-item\"><div class=\"sk-estimator sk-toggleable\"><input class=\"sk-toggleable__control sk-hidden--visually\" id=\"sk-estimator-id-346\" type=\"checkbox\" ><label for=\"sk-estimator-id-346\" class=\"sk-toggleable__label sk-toggleable__label-arrow\">OrdinalEncoder</label><div class=\"sk-toggleable__content\"><pre>OrdinalEncoder()</pre></div></div></div></div></div></div><div class=\"sk-parallel-item\"><div class=\"sk-item\"><div class=\"sk-label-container\"><div class=\"sk-label sk-toggleable\"><input class=\"sk-toggleable__control sk-hidden--visually\" id=\"sk-estimator-id-347\" type=\"checkbox\" ><label for=\"sk-estimator-id-347\" class=\"sk-toggleable__label sk-toggleable__label-arrow\">nominal</label><div class=\"sk-toggleable__content\"><pre>[&#x27;plante_fr&#x27;]</pre></div></div></div><div class=\"sk-serial\"><div class=\"sk-item\"><div class=\"sk-estimator sk-toggleable\"><input class=\"sk-toggleable__control sk-hidden--visually\" id=\"sk-estimator-id-348\" type=\"checkbox\" ><label for=\"sk-estimator-id-348\" class=\"sk-toggleable__label sk-toggleable__label-arrow\">OneHotEncoder</label><div class=\"sk-toggleable__content\"><pre>OneHotEncoder(handle_unknown=&#x27;ignore&#x27;)</pre></div></div></div></div></div></div></div></div><div class=\"sk-item\"><div class=\"sk-estimator sk-toggleable\"><input class=\"sk-toggleable__control sk-hidden--visually\" id=\"sk-estimator-id-349\" type=\"checkbox\" ><label for=\"sk-estimator-id-349\" class=\"sk-toggleable__label sk-toggleable__label-arrow\">SimpleImputer</label><div class=\"sk-toggleable__content\"><pre>SimpleImputer(strategy=&#x27;most_frequent&#x27;)</pre></div></div></div></div></div></div></div></div></div></div><div class=\"sk-item\"><div class=\"sk-estimator sk-toggleable\"><input class=\"sk-toggleable__control sk-hidden--visually\" id=\"sk-estimator-id-350\" type=\"checkbox\" ><label for=\"sk-estimator-id-350\" class=\"sk-toggleable__label sk-toggleable__label-arrow\">passthrough</label><div class=\"sk-toggleable__content\"><pre>passthrough</pre></div></div></div><div class=\"sk-item\"><div class=\"sk-estimator sk-toggleable\"><input class=\"sk-toggleable__control sk-hidden--visually\" id=\"sk-estimator-id-351\" type=\"checkbox\" ><label for=\"sk-estimator-id-351\" class=\"sk-toggleable__label sk-toggleable__label-arrow\">RandomForestRegressor</label><div class=\"sk-toggleable__content\"><pre>RandomForestRegressor(random_state=1)</pre></div></div></div></div></div></div></div>"
      ],
      "text/plain": [
       "Pipeline(steps=[('preprocessor',\n",
       "                 ColumnTransformer(transformers=[('numerical',\n",
       "                                                  Pipeline(steps=[('scaler',\n",
       "                                                                   StandardScaler()),\n",
       "                                                                  ('imputer',\n",
       "                                                                   KNNImputer())]),\n",
       "                                                  ['latitude', 'longitude',\n",
       "                                                   'collection_heure_debut_cos',\n",
       "                                                   'collection_heure_debut_julian']),\n",
       "                                                 ('categorical',\n",
       "                                                  Pipeline(steps=[('encoding',\n",
       "                                                                   ColumnTransformer(transformers=[('ordinal',\n",
       "                                                                                                    OrdinalEncoder(),\n",
       "                                                                                                    ['vent',\n",
       "                                                                                                     'nebulosite',\n",
       "                                                                                                     'temperature']),\n",
       "                                                                                                   ('nominal',\n",
       "                                                                                                    OneHotEncoder(handle_unknown='ignore'),\n",
       "                                                                                                    ['plante_fr'])])),\n",
       "                                                                  ('imputer',\n",
       "                                                                   SimpleImputer(strategy='most_frequent'))]),\n",
       "                                                  ['vent', 'nebulosite',\n",
       "                                                   'temperature',\n",
       "                                                   'plante_fr'])])),\n",
       "                ('passthrough', 'passthrough'),\n",
       "                ('estimator', RandomForestRegressor(random_state=1))])"
      ]
     },
     "execution_count": 129,
     "metadata": {},
     "output_type": "execute_result"
    }
   ],
   "source": [
    "from sklearn.pipeline import Pipeline, FeatureUnion\n",
    "from sklearn.preprocessing import StandardScaler, OneHotEncoder, OrdinalEncoder\n",
    "from sklearn.compose import ColumnTransformer\n",
    "\n",
    "from sklearn.experimental import enable_iterative_imputer\n",
    "from sklearn.impute import SimpleImputer, KNNImputer, IterativeImputer\n",
    "\n",
    "from sklearn.ensemble import RandomForestRegressor\n",
    "from sklearn.linear_model import LinearRegression\n",
    "from models.supervised.preprocessors import HourToCos, DateToJulian\n",
    "\n",
    "numeric_pipeline = Pipeline(\n",
    "    steps=[\n",
    "        (\"scaler\", StandardScaler()),\n",
    "        (\"imputer\", KNNImputer(n_neighbors=5)),\n",
    "    ]\n",
    ")\n",
    "\n",
    "# make a pipeline for the categorical features (that combines ordinal and nominal)\n",
    "categorical_pipeline = Pipeline(\n",
    "    steps=[\n",
    "        (\n",
    "            \"encoding\",\n",
    "            ColumnTransformer(\n",
    "                transformers=[\n",
    "                    (\"ordinal\", OrdinalEncoder(), ordinal_features),\n",
    "                    (\n",
    "                        \"nominal\",\n",
    "                        OneHotEncoder(handle_unknown=\"ignore\"),\n",
    "                        nominal_features,\n",
    "                    ),\n",
    "                ],\n",
    "                remainder=\"drop\",\n",
    "            ),\n",
    "        ),\n",
    "        (\"imputer\", SimpleImputer(strategy=\"most_frequent\")),\n",
    "    ]\n",
    ")\n",
    "\n",
    "\n",
    "preprocessor = ColumnTransformer(\n",
    "    transformers=[\n",
    "        (\"numerical\", numeric_pipeline, numeric_features),\n",
    "        (\"categorical\", categorical_pipeline, categorical_features),\n",
    "    ],\n",
    "    remainder=\"drop\",\n",
    ")\n",
    "\n",
    "estimator = RandomForestRegressor(random_state=1)\n",
    "\n",
    "# estimator = LinearRegression()\n",
    "\n",
    "pipe = Pipeline(\n",
    "    steps=[\n",
    "        (\"preprocessor\", preprocessor),\n",
    "        (\"passthrough\", \"passthrough\"),\n",
    "        (\"estimator\", estimator),\n",
    "    ]\n",
    ")\n",
    "pipe"
   ]
  },
  {
   "cell_type": "code",
   "execution_count": 130,
   "metadata": {},
   "outputs": [],
   "source": [
    "from sklearn.model_selection import train_test_split\n",
    "\n",
    "X_train, X_test, y_train, y_test = train_test_split(X, y, test_size=0.2, random_state=1)"
   ]
  },
  {
   "cell_type": "code",
   "execution_count": 131,
   "metadata": {},
   "outputs": [
    {
     "data": {
      "text/html": [
       "<style>#sk-container-id-33 {color: black;}#sk-container-id-33 pre{padding: 0;}#sk-container-id-33 div.sk-toggleable {background-color: white;}#sk-container-id-33 label.sk-toggleable__label {cursor: pointer;display: block;width: 100%;margin-bottom: 0;padding: 0.3em;box-sizing: border-box;text-align: center;}#sk-container-id-33 label.sk-toggleable__label-arrow:before {content: \"▸\";float: left;margin-right: 0.25em;color: #696969;}#sk-container-id-33 label.sk-toggleable__label-arrow:hover:before {color: black;}#sk-container-id-33 div.sk-estimator:hover label.sk-toggleable__label-arrow:before {color: black;}#sk-container-id-33 div.sk-toggleable__content {max-height: 0;max-width: 0;overflow: hidden;text-align: left;background-color: #f0f8ff;}#sk-container-id-33 div.sk-toggleable__content pre {margin: 0.2em;color: black;border-radius: 0.25em;background-color: #f0f8ff;}#sk-container-id-33 input.sk-toggleable__control:checked~div.sk-toggleable__content {max-height: 200px;max-width: 100%;overflow: auto;}#sk-container-id-33 input.sk-toggleable__control:checked~label.sk-toggleable__label-arrow:before {content: \"▾\";}#sk-container-id-33 div.sk-estimator input.sk-toggleable__control:checked~label.sk-toggleable__label {background-color: #d4ebff;}#sk-container-id-33 div.sk-label input.sk-toggleable__control:checked~label.sk-toggleable__label {background-color: #d4ebff;}#sk-container-id-33 input.sk-hidden--visually {border: 0;clip: rect(1px 1px 1px 1px);clip: rect(1px, 1px, 1px, 1px);height: 1px;margin: -1px;overflow: hidden;padding: 0;position: absolute;width: 1px;}#sk-container-id-33 div.sk-estimator {font-family: monospace;background-color: #f0f8ff;border: 1px dotted black;border-radius: 0.25em;box-sizing: border-box;margin-bottom: 0.5em;}#sk-container-id-33 div.sk-estimator:hover {background-color: #d4ebff;}#sk-container-id-33 div.sk-parallel-item::after {content: \"\";width: 100%;border-bottom: 1px solid gray;flex-grow: 1;}#sk-container-id-33 div.sk-label:hover label.sk-toggleable__label {background-color: #d4ebff;}#sk-container-id-33 div.sk-serial::before {content: \"\";position: absolute;border-left: 1px solid gray;box-sizing: border-box;top: 0;bottom: 0;left: 50%;z-index: 0;}#sk-container-id-33 div.sk-serial {display: flex;flex-direction: column;align-items: center;background-color: white;padding-right: 0.2em;padding-left: 0.2em;position: relative;}#sk-container-id-33 div.sk-item {position: relative;z-index: 1;}#sk-container-id-33 div.sk-parallel {display: flex;align-items: stretch;justify-content: center;background-color: white;position: relative;}#sk-container-id-33 div.sk-item::before, #sk-container-id-33 div.sk-parallel-item::before {content: \"\";position: absolute;border-left: 1px solid gray;box-sizing: border-box;top: 0;bottom: 0;left: 50%;z-index: -1;}#sk-container-id-33 div.sk-parallel-item {display: flex;flex-direction: column;z-index: 1;position: relative;background-color: white;}#sk-container-id-33 div.sk-parallel-item:first-child::after {align-self: flex-end;width: 50%;}#sk-container-id-33 div.sk-parallel-item:last-child::after {align-self: flex-start;width: 50%;}#sk-container-id-33 div.sk-parallel-item:only-child::after {width: 0;}#sk-container-id-33 div.sk-dashed-wrapped {border: 1px dashed gray;margin: 0 0.4em 0.5em 0.4em;box-sizing: border-box;padding-bottom: 0.4em;background-color: white;}#sk-container-id-33 div.sk-label label {font-family: monospace;font-weight: bold;display: inline-block;line-height: 1.2em;}#sk-container-id-33 div.sk-label-container {text-align: center;}#sk-container-id-33 div.sk-container {/* jupyter's `normalize.less` sets `[hidden] { display: none; }` but bootstrap.min.css set `[hidden] { display: none !important; }` so we also need the `!important` here to be able to override the default hidden behavior on the sphinx rendered scikit-learn.org. See: https://github.com/scikit-learn/scikit-learn/issues/21755 */display: inline-block !important;position: relative;}#sk-container-id-33 div.sk-text-repr-fallback {display: none;}</style><div id=\"sk-container-id-33\" class=\"sk-top-container\"><div class=\"sk-text-repr-fallback\"><pre>Pipeline(steps=[(&#x27;preprocessor&#x27;,\n",
       "                 ColumnTransformer(transformers=[(&#x27;numerical&#x27;,\n",
       "                                                  Pipeline(steps=[(&#x27;scaler&#x27;,\n",
       "                                                                   StandardScaler()),\n",
       "                                                                  (&#x27;imputer&#x27;,\n",
       "                                                                   KNNImputer())]),\n",
       "                                                  [&#x27;latitude&#x27;, &#x27;longitude&#x27;,\n",
       "                                                   &#x27;collection_heure_debut_cos&#x27;,\n",
       "                                                   &#x27;collection_heure_debut_julian&#x27;]),\n",
       "                                                 (&#x27;categorical&#x27;,\n",
       "                                                  Pipeline(steps=[(&#x27;encoding&#x27;,\n",
       "                                                                   ColumnTransformer(transformers=[(&#x27;ordinal&#x27;,\n",
       "                                                                                                    OrdinalEncoder(),\n",
       "                                                                                                    [&#x27;vent&#x27;,\n",
       "                                                                                                     &#x27;nebulosite&#x27;,\n",
       "                                                                                                     &#x27;temperature&#x27;]),\n",
       "                                                                                                   (&#x27;nominal&#x27;,\n",
       "                                                                                                    OneHotEncoder(handle_unknown=&#x27;ignore&#x27;),\n",
       "                                                                                                    [&#x27;plante_fr&#x27;])])),\n",
       "                                                                  (&#x27;imputer&#x27;,\n",
       "                                                                   SimpleImputer(strategy=&#x27;most_frequent&#x27;))]),\n",
       "                                                  [&#x27;vent&#x27;, &#x27;nebulosite&#x27;,\n",
       "                                                   &#x27;temperature&#x27;,\n",
       "                                                   &#x27;plante_fr&#x27;])])),\n",
       "                (&#x27;passthrough&#x27;, &#x27;passthrough&#x27;),\n",
       "                (&#x27;estimator&#x27;, RandomForestRegressor(random_state=1))])</pre><b>In a Jupyter environment, please rerun this cell to show the HTML representation or trust the notebook. <br />On GitHub, the HTML representation is unable to render, please try loading this page with nbviewer.org.</b></div><div class=\"sk-container\" hidden><div class=\"sk-item sk-dashed-wrapped\"><div class=\"sk-label-container\"><div class=\"sk-label sk-toggleable\"><input class=\"sk-toggleable__control sk-hidden--visually\" id=\"sk-estimator-id-352\" type=\"checkbox\" ><label for=\"sk-estimator-id-352\" class=\"sk-toggleable__label sk-toggleable__label-arrow\">Pipeline</label><div class=\"sk-toggleable__content\"><pre>Pipeline(steps=[(&#x27;preprocessor&#x27;,\n",
       "                 ColumnTransformer(transformers=[(&#x27;numerical&#x27;,\n",
       "                                                  Pipeline(steps=[(&#x27;scaler&#x27;,\n",
       "                                                                   StandardScaler()),\n",
       "                                                                  (&#x27;imputer&#x27;,\n",
       "                                                                   KNNImputer())]),\n",
       "                                                  [&#x27;latitude&#x27;, &#x27;longitude&#x27;,\n",
       "                                                   &#x27;collection_heure_debut_cos&#x27;,\n",
       "                                                   &#x27;collection_heure_debut_julian&#x27;]),\n",
       "                                                 (&#x27;categorical&#x27;,\n",
       "                                                  Pipeline(steps=[(&#x27;encoding&#x27;,\n",
       "                                                                   ColumnTransformer(transformers=[(&#x27;ordinal&#x27;,\n",
       "                                                                                                    OrdinalEncoder(),\n",
       "                                                                                                    [&#x27;vent&#x27;,\n",
       "                                                                                                     &#x27;nebulosite&#x27;,\n",
       "                                                                                                     &#x27;temperature&#x27;]),\n",
       "                                                                                                   (&#x27;nominal&#x27;,\n",
       "                                                                                                    OneHotEncoder(handle_unknown=&#x27;ignore&#x27;),\n",
       "                                                                                                    [&#x27;plante_fr&#x27;])])),\n",
       "                                                                  (&#x27;imputer&#x27;,\n",
       "                                                                   SimpleImputer(strategy=&#x27;most_frequent&#x27;))]),\n",
       "                                                  [&#x27;vent&#x27;, &#x27;nebulosite&#x27;,\n",
       "                                                   &#x27;temperature&#x27;,\n",
       "                                                   &#x27;plante_fr&#x27;])])),\n",
       "                (&#x27;passthrough&#x27;, &#x27;passthrough&#x27;),\n",
       "                (&#x27;estimator&#x27;, RandomForestRegressor(random_state=1))])</pre></div></div></div><div class=\"sk-serial\"><div class=\"sk-item sk-dashed-wrapped\"><div class=\"sk-label-container\"><div class=\"sk-label sk-toggleable\"><input class=\"sk-toggleable__control sk-hidden--visually\" id=\"sk-estimator-id-353\" type=\"checkbox\" ><label for=\"sk-estimator-id-353\" class=\"sk-toggleable__label sk-toggleable__label-arrow\">preprocessor: ColumnTransformer</label><div class=\"sk-toggleable__content\"><pre>ColumnTransformer(transformers=[(&#x27;numerical&#x27;,\n",
       "                                 Pipeline(steps=[(&#x27;scaler&#x27;, StandardScaler()),\n",
       "                                                 (&#x27;imputer&#x27;, KNNImputer())]),\n",
       "                                 [&#x27;latitude&#x27;, &#x27;longitude&#x27;,\n",
       "                                  &#x27;collection_heure_debut_cos&#x27;,\n",
       "                                  &#x27;collection_heure_debut_julian&#x27;]),\n",
       "                                (&#x27;categorical&#x27;,\n",
       "                                 Pipeline(steps=[(&#x27;encoding&#x27;,\n",
       "                                                  ColumnTransformer(transformers=[(&#x27;ordinal&#x27;,\n",
       "                                                                                   OrdinalEncoder(),\n",
       "                                                                                   [&#x27;vent&#x27;,\n",
       "                                                                                    &#x27;nebulosite&#x27;,\n",
       "                                                                                    &#x27;temperature&#x27;]),\n",
       "                                                                                  (&#x27;nominal&#x27;,\n",
       "                                                                                   OneHotEncoder(handle_unknown=&#x27;ignore&#x27;),\n",
       "                                                                                   [&#x27;plante_fr&#x27;])])),\n",
       "                                                 (&#x27;imputer&#x27;,\n",
       "                                                  SimpleImputer(strategy=&#x27;most_frequent&#x27;))]),\n",
       "                                 [&#x27;vent&#x27;, &#x27;nebulosite&#x27;, &#x27;temperature&#x27;,\n",
       "                                  &#x27;plante_fr&#x27;])])</pre></div></div></div><div class=\"sk-parallel\"><div class=\"sk-parallel-item\"><div class=\"sk-item\"><div class=\"sk-label-container\"><div class=\"sk-label sk-toggleable\"><input class=\"sk-toggleable__control sk-hidden--visually\" id=\"sk-estimator-id-354\" type=\"checkbox\" ><label for=\"sk-estimator-id-354\" class=\"sk-toggleable__label sk-toggleable__label-arrow\">numerical</label><div class=\"sk-toggleable__content\"><pre>[&#x27;latitude&#x27;, &#x27;longitude&#x27;, &#x27;collection_heure_debut_cos&#x27;, &#x27;collection_heure_debut_julian&#x27;]</pre></div></div></div><div class=\"sk-serial\"><div class=\"sk-item\"><div class=\"sk-serial\"><div class=\"sk-item\"><div class=\"sk-estimator sk-toggleable\"><input class=\"sk-toggleable__control sk-hidden--visually\" id=\"sk-estimator-id-355\" type=\"checkbox\" ><label for=\"sk-estimator-id-355\" class=\"sk-toggleable__label sk-toggleable__label-arrow\">StandardScaler</label><div class=\"sk-toggleable__content\"><pre>StandardScaler()</pre></div></div></div><div class=\"sk-item\"><div class=\"sk-estimator sk-toggleable\"><input class=\"sk-toggleable__control sk-hidden--visually\" id=\"sk-estimator-id-356\" type=\"checkbox\" ><label for=\"sk-estimator-id-356\" class=\"sk-toggleable__label sk-toggleable__label-arrow\">KNNImputer</label><div class=\"sk-toggleable__content\"><pre>KNNImputer()</pre></div></div></div></div></div></div></div></div><div class=\"sk-parallel-item\"><div class=\"sk-item\"><div class=\"sk-label-container\"><div class=\"sk-label sk-toggleable\"><input class=\"sk-toggleable__control sk-hidden--visually\" id=\"sk-estimator-id-357\" type=\"checkbox\" ><label for=\"sk-estimator-id-357\" class=\"sk-toggleable__label sk-toggleable__label-arrow\">categorical</label><div class=\"sk-toggleable__content\"><pre>[&#x27;vent&#x27;, &#x27;nebulosite&#x27;, &#x27;temperature&#x27;, &#x27;plante_fr&#x27;]</pre></div></div></div><div class=\"sk-serial\"><div class=\"sk-item\"><div class=\"sk-serial\"><div class=\"sk-item sk-dashed-wrapped\"><div class=\"sk-label-container\"><div class=\"sk-label sk-toggleable\"><input class=\"sk-toggleable__control sk-hidden--visually\" id=\"sk-estimator-id-358\" type=\"checkbox\" ><label for=\"sk-estimator-id-358\" class=\"sk-toggleable__label sk-toggleable__label-arrow\">encoding: ColumnTransformer</label><div class=\"sk-toggleable__content\"><pre>ColumnTransformer(transformers=[(&#x27;ordinal&#x27;, OrdinalEncoder(),\n",
       "                                 [&#x27;vent&#x27;, &#x27;nebulosite&#x27;, &#x27;temperature&#x27;]),\n",
       "                                (&#x27;nominal&#x27;,\n",
       "                                 OneHotEncoder(handle_unknown=&#x27;ignore&#x27;),\n",
       "                                 [&#x27;plante_fr&#x27;])])</pre></div></div></div><div class=\"sk-parallel\"><div class=\"sk-parallel-item\"><div class=\"sk-item\"><div class=\"sk-label-container\"><div class=\"sk-label sk-toggleable\"><input class=\"sk-toggleable__control sk-hidden--visually\" id=\"sk-estimator-id-359\" type=\"checkbox\" ><label for=\"sk-estimator-id-359\" class=\"sk-toggleable__label sk-toggleable__label-arrow\">ordinal</label><div class=\"sk-toggleable__content\"><pre>[&#x27;vent&#x27;, &#x27;nebulosite&#x27;, &#x27;temperature&#x27;]</pre></div></div></div><div class=\"sk-serial\"><div class=\"sk-item\"><div class=\"sk-estimator sk-toggleable\"><input class=\"sk-toggleable__control sk-hidden--visually\" id=\"sk-estimator-id-360\" type=\"checkbox\" ><label for=\"sk-estimator-id-360\" class=\"sk-toggleable__label sk-toggleable__label-arrow\">OrdinalEncoder</label><div class=\"sk-toggleable__content\"><pre>OrdinalEncoder()</pre></div></div></div></div></div></div><div class=\"sk-parallel-item\"><div class=\"sk-item\"><div class=\"sk-label-container\"><div class=\"sk-label sk-toggleable\"><input class=\"sk-toggleable__control sk-hidden--visually\" id=\"sk-estimator-id-361\" type=\"checkbox\" ><label for=\"sk-estimator-id-361\" class=\"sk-toggleable__label sk-toggleable__label-arrow\">nominal</label><div class=\"sk-toggleable__content\"><pre>[&#x27;plante_fr&#x27;]</pre></div></div></div><div class=\"sk-serial\"><div class=\"sk-item\"><div class=\"sk-estimator sk-toggleable\"><input class=\"sk-toggleable__control sk-hidden--visually\" id=\"sk-estimator-id-362\" type=\"checkbox\" ><label for=\"sk-estimator-id-362\" class=\"sk-toggleable__label sk-toggleable__label-arrow\">OneHotEncoder</label><div class=\"sk-toggleable__content\"><pre>OneHotEncoder(handle_unknown=&#x27;ignore&#x27;)</pre></div></div></div></div></div></div></div></div><div class=\"sk-item\"><div class=\"sk-estimator sk-toggleable\"><input class=\"sk-toggleable__control sk-hidden--visually\" id=\"sk-estimator-id-363\" type=\"checkbox\" ><label for=\"sk-estimator-id-363\" class=\"sk-toggleable__label sk-toggleable__label-arrow\">SimpleImputer</label><div class=\"sk-toggleable__content\"><pre>SimpleImputer(strategy=&#x27;most_frequent&#x27;)</pre></div></div></div></div></div></div></div></div></div></div><div class=\"sk-item\"><div class=\"sk-estimator sk-toggleable\"><input class=\"sk-toggleable__control sk-hidden--visually\" id=\"sk-estimator-id-364\" type=\"checkbox\" ><label for=\"sk-estimator-id-364\" class=\"sk-toggleable__label sk-toggleable__label-arrow\">passthrough</label><div class=\"sk-toggleable__content\"><pre>passthrough</pre></div></div></div><div class=\"sk-item\"><div class=\"sk-estimator sk-toggleable\"><input class=\"sk-toggleable__control sk-hidden--visually\" id=\"sk-estimator-id-365\" type=\"checkbox\" ><label for=\"sk-estimator-id-365\" class=\"sk-toggleable__label sk-toggleable__label-arrow\">RandomForestRegressor</label><div class=\"sk-toggleable__content\"><pre>RandomForestRegressor(random_state=1)</pre></div></div></div></div></div></div></div>"
      ],
      "text/plain": [
       "Pipeline(steps=[('preprocessor',\n",
       "                 ColumnTransformer(transformers=[('numerical',\n",
       "                                                  Pipeline(steps=[('scaler',\n",
       "                                                                   StandardScaler()),\n",
       "                                                                  ('imputer',\n",
       "                                                                   KNNImputer())]),\n",
       "                                                  ['latitude', 'longitude',\n",
       "                                                   'collection_heure_debut_cos',\n",
       "                                                   'collection_heure_debut_julian']),\n",
       "                                                 ('categorical',\n",
       "                                                  Pipeline(steps=[('encoding',\n",
       "                                                                   ColumnTransformer(transformers=[('ordinal',\n",
       "                                                                                                    OrdinalEncoder(),\n",
       "                                                                                                    ['vent',\n",
       "                                                                                                     'nebulosite',\n",
       "                                                                                                     'temperature']),\n",
       "                                                                                                   ('nominal',\n",
       "                                                                                                    OneHotEncoder(handle_unknown='ignore'),\n",
       "                                                                                                    ['plante_fr'])])),\n",
       "                                                                  ('imputer',\n",
       "                                                                   SimpleImputer(strategy='most_frequent'))]),\n",
       "                                                  ['vent', 'nebulosite',\n",
       "                                                   'temperature',\n",
       "                                                   'plante_fr'])])),\n",
       "                ('passthrough', 'passthrough'),\n",
       "                ('estimator', RandomForestRegressor(random_state=1))])"
      ]
     },
     "execution_count": 131,
     "metadata": {},
     "output_type": "execute_result"
    }
   ],
   "source": [
    "pipe.fit(X_train, y_train)"
   ]
  },
  {
   "cell_type": "code",
   "execution_count": 94,
   "metadata": {},
   "outputs": [
    {
     "data": {
      "text/plain": [
       "array([0.28182804, 0.0744868 , 0.22727273, ..., 0.07271852, 0.27791563,\n",
       "       0.15056818])"
      ]
     },
     "execution_count": 94,
     "metadata": {},
     "output_type": "execute_result"
    }
   ],
   "source": [
    "pipe.predict(X_test)"
   ]
  },
  {
   "cell_type": "code",
   "execution_count": 95,
   "metadata": {},
   "outputs": [
    {
     "name": "stdout",
     "output_type": "stream",
     "text": [
      "Mean squared error: 0.00\n",
      "Mean absolute error: 0.00\n",
      "R2 score: 0.99\n"
     ]
    }
   ],
   "source": [
    "# make all the scores for regression\n",
    "from sklearn.metrics import mean_squared_error, mean_absolute_error, r2_score\n",
    "\n",
    "y_pred = pipe.predict(X_test)\n",
    "\n",
    "print(f\"Mean squared error: {mean_squared_error(y_test, y_pred):.2f}\")\n",
    "print(f\"Mean absolute error: {mean_absolute_error(y_test, y_pred):.2f}\")\n",
    "print(f\"R2 score: {r2_score(y_test, y_pred):.2f}\")"
   ]
  },
  {
   "cell_type": "code",
   "execution_count": 133,
   "metadata": {},
   "outputs": [
    {
     "data": {
      "text/plain": [
       "'passthrough'"
      ]
     },
     "execution_count": 133,
     "metadata": {},
     "output_type": "execute_result"
    }
   ],
   "source": [
    "importance = pipe.named_steps[\"estimator\"].feature_importances_\n",
    "# use passthrough step to get the features names\n",
    "features = pipe.named_steps\n",
    "features"
   ]
  },
  {
   "cell_type": "code",
   "execution_count": 122,
   "metadata": {},
   "outputs": [
    {
     "data": {
      "image/png": "[encoded data removed]",
      "text/plain": [
       "<Figure size 640x480 with 1 Axes>"
      ]
     },
     "metadata": {},
     "output_type": "display_data"
    }
   ],
   "source": [
    "# plot y_test vs y_pred\n",
    "plt.scatter(y_test, y_pred )\n",
    "plt.xlabel(\"True Values\")\n",
    "plt.ylabel(\"Predictions\")\n",
    "plt.axis(\"square\")\n",
    "_ = plt.plot([-100, 100], [-100, 100])"
   ]
  },
  {
   "cell_type": "code",
   "execution_count": null,
   "metadata": {},
   "outputs": [],
   "source": []
  }
 ],
 "metadata": {
  "kernelspec": {
   "display_name": "Python 3",
   "language": "python",
   "name": "python3"
  },
  "language_info": {
   "codemirror_mode": {
    "name": "ipython",
    "version": 3
   },
   "file_extension": ".py",
   "mimetype": "text/x-python",
   "name": "python",
   "nbconvert_exporter": "python",
   "pygments_lexer": "ipython3",
   "version": "3.0.0"
  }
 },
 "nbformat": 4,
 "nbformat_minor": 2
}
