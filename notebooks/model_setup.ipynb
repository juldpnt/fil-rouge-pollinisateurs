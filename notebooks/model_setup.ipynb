{
 "cells": [
  {
   "cell_type": "markdown",
   "metadata": {},
   "source": [
    "Setup notebook"
   ]
  },
  {
   "cell_type": "code",
   "execution_count": 1,
   "metadata": {},
   "outputs": [
    {
     "name": "stdout",
     "output_type": "stream",
     "text": [
      "Former working directory:  /home/juldpnt/APT/fil-rouge-pollinisateurs/models\n",
      "Current working directory:  /home/juldpnt/APT/fil-rouge-pollinisateurs\n"
     ]
    }
   ],
   "source": [
    "import os\n",
    "import sys\n",
    "\n",
    "# Add parent directory to working directory\n",
    "# Allows for loading data from parent directory\n",
    "# Allows for loading modules from parent directory\n",
    "print(\"Former working directory: \", os.getcwd())\n",
    "if os.path.basename(os.getcwd()) == \"models\":\n",
    "    os.chdir(\"../\")\n",
    "    sys.path.append(os.getcwd())\n",
    "print(\"Current working directory: \", os.getcwd())"
   ]
  },
  {
   "cell_type": "markdown",
   "metadata": {},
   "source": [
    "# Chargement données"
   ]
  },
  {
   "cell_type": "code",
   "execution_count": 2,
   "metadata": {},
   "outputs": [],
   "source": [
    "import pandas as pd\n",
    "import matplotlib.pyplot as plt\n",
    "import seaborn as sns\n",
    "import numpy as np"
   ]
  },
  {
   "cell_type": "code",
   "execution_count": 3,
   "metadata": {},
   "outputs": [],
   "source": [
    "path = \"data/spipoll.csv\""
   ]
  },
  {
   "cell_type": "code",
   "execution_count": 4,
   "metadata": {},
   "outputs": [
    {
     "name": "stderr",
     "output_type": "stream",
     "text": [
      "/tmp/ipykernel_23714/822284616.py:1: DtypeWarning: Columns (11) have mixed types. Specify dtype option on import or set low_memory=False.\n",
      "  data = pd.read_csv(path)\n"
     ]
    }
   ],
   "source": [
    "data = pd.read_csv(path)"
   ]
  },
  {
   "cell_type": "code",
   "execution_count": 5,
   "metadata": {},
   "outputs": [
    {
     "data": {
      "text/html": [
       "<div>\n",
       "<style scoped>\n",
       "    .dataframe tbody tr th:only-of-type {\n",
       "        vertical-align: middle;\n",
       "    }\n",
       "\n",
       "    .dataframe tbody tr th {\n",
       "        vertical-align: top;\n",
       "    }\n",
       "\n",
       "    .dataframe thead th {\n",
       "        text-align: right;\n",
       "    }\n",
       "</style>\n",
       "<table border=\"1\" class=\"dataframe\">\n",
       "  <thead>\n",
       "    <tr style=\"text-align: right;\">\n",
       "      <th></th>\n",
       "      <th>collection_id</th>\n",
       "      <th>protocole_long</th>\n",
       "      <th>user_id</th>\n",
       "      <th>plante_sc</th>\n",
       "      <th>plante_fr</th>\n",
       "      <th>plante_precision</th>\n",
       "      <th>plante_inconnue</th>\n",
       "      <th>plante_caractere</th>\n",
       "      <th>photo_fleur</th>\n",
       "      <th>photo_plante</th>\n",
       "      <th>...</th>\n",
       "      <th>insecte_fr</th>\n",
       "      <th>insecte_denominationPlusPrecise</th>\n",
       "      <th>insecte_CdNomtaxref</th>\n",
       "      <th>insecte_abondance</th>\n",
       "      <th>insecte_commentaire</th>\n",
       "      <th>insecte_vu_sur_fleur</th>\n",
       "      <th>nb_validation</th>\n",
       "      <th>nb_suggestion</th>\n",
       "      <th>latitude</th>\n",
       "      <th>longitude</th>\n",
       "    </tr>\n",
       "  </thead>\n",
       "  <tbody>\n",
       "    <tr>\n",
       "      <th>0</th>\n",
       "      <td>1</td>\n",
       "      <td>NaN</td>\n",
       "      <td>12 657</td>\n",
       "      <td>Les Trèfles à fleurs blanches ou roses en boul...</td>\n",
       "      <td>NaN</td>\n",
       "      <td>NaN</td>\n",
       "      <td>0.0</td>\n",
       "      <td>spontanée</td>\n",
       "      <td>https://spgp-api.65mo.fr/api/containers/spgp/d...</td>\n",
       "      <td>https://spgp-api.65mo.fr/api/containers/spgp/d...</td>\n",
       "      <td>...</td>\n",
       "      <td>L'Abeille mellifère</td>\n",
       "      <td>NaN</td>\n",
       "      <td>NaN</td>\n",
       "      <td>plus de 5</td>\n",
       "      <td>NaN</td>\n",
       "      <td>0.0</td>\n",
       "      <td>3.0</td>\n",
       "      <td>NaN</td>\n",
       "      <td>45.363808</td>\n",
       "      <td>6.514947</td>\n",
       "    </tr>\n",
       "    <tr>\n",
       "      <th>1</th>\n",
       "      <td>1</td>\n",
       "      <td>NaN</td>\n",
       "      <td>12 657</td>\n",
       "      <td>Les Trèfles à fleurs blanches ou roses en boul...</td>\n",
       "      <td>NaN</td>\n",
       "      <td>NaN</td>\n",
       "      <td>0.0</td>\n",
       "      <td>spontanée</td>\n",
       "      <td>https://spgp-api.65mo.fr/api/containers/spgp/d...</td>\n",
       "      <td>https://spgp-api.65mo.fr/api/containers/spgp/d...</td>\n",
       "      <td>...</td>\n",
       "      <td>Les Bourdons noirs à bande(s) jaune(s) et cul ...</td>\n",
       "      <td>NaN</td>\n",
       "      <td>NaN</td>\n",
       "      <td>1</td>\n",
       "      <td>NaN</td>\n",
       "      <td>0.0</td>\n",
       "      <td>3.0</td>\n",
       "      <td>NaN</td>\n",
       "      <td>45.363808</td>\n",
       "      <td>6.514947</td>\n",
       "    </tr>\n",
       "    <tr>\n",
       "      <th>2</th>\n",
       "      <td>2</td>\n",
       "      <td>NaN</td>\n",
       "      <td>10 918</td>\n",
       "      <td>Acanthus mollis</td>\n",
       "      <td>Acanthe molle</td>\n",
       "      <td>NaN</td>\n",
       "      <td>NaN</td>\n",
       "      <td>plantée</td>\n",
       "      <td>https://spgp-api.65mo.fr/api/containers/spgp/d...</td>\n",
       "      <td>https://spgp-api.65mo.fr/api/containers/spgp/d...</td>\n",
       "      <td>...</td>\n",
       "      <td>Les Bourdons noirs à bande(s) jaune(s) et cul ...</td>\n",
       "      <td>NaN</td>\n",
       "      <td>NaN</td>\n",
       "      <td>je n'ai pas l'information</td>\n",
       "      <td>NaN</td>\n",
       "      <td>0.0</td>\n",
       "      <td>3.0</td>\n",
       "      <td>NaN</td>\n",
       "      <td>48.844975</td>\n",
       "      <td>2.358313</td>\n",
       "    </tr>\n",
       "    <tr>\n",
       "      <th>3</th>\n",
       "      <td>2</td>\n",
       "      <td>NaN</td>\n",
       "      <td>10 918</td>\n",
       "      <td>Acanthus mollis</td>\n",
       "      <td>Acanthe molle</td>\n",
       "      <td>NaN</td>\n",
       "      <td>NaN</td>\n",
       "      <td>plantée</td>\n",
       "      <td>https://spgp-api.65mo.fr/api/containers/spgp/d...</td>\n",
       "      <td>https://spgp-api.65mo.fr/api/containers/spgp/d...</td>\n",
       "      <td>...</td>\n",
       "      <td>Les Mouches à damier</td>\n",
       "      <td>NaN</td>\n",
       "      <td>NaN</td>\n",
       "      <td>entre 2 et 5</td>\n",
       "      <td>NaN</td>\n",
       "      <td>0.0</td>\n",
       "      <td>3.0</td>\n",
       "      <td>1.0</td>\n",
       "      <td>48.844975</td>\n",
       "      <td>2.358313</td>\n",
       "    </tr>\n",
       "    <tr>\n",
       "      <th>4</th>\n",
       "      <td>2</td>\n",
       "      <td>NaN</td>\n",
       "      <td>10 918</td>\n",
       "      <td>Acanthus mollis</td>\n",
       "      <td>Acanthe molle</td>\n",
       "      <td>NaN</td>\n",
       "      <td>NaN</td>\n",
       "      <td>plantée</td>\n",
       "      <td>https://spgp-api.65mo.fr/api/containers/spgp/d...</td>\n",
       "      <td>https://spgp-api.65mo.fr/api/containers/spgp/d...</td>\n",
       "      <td>...</td>\n",
       "      <td>L'Abeille mellifère</td>\n",
       "      <td>NaN</td>\n",
       "      <td>NaN</td>\n",
       "      <td>entre 2 et 5</td>\n",
       "      <td>NaN</td>\n",
       "      <td>0.0</td>\n",
       "      <td>3.0</td>\n",
       "      <td>NaN</td>\n",
       "      <td>48.844975</td>\n",
       "      <td>2.358313</td>\n",
       "    </tr>\n",
       "  </tbody>\n",
       "</table>\n",
       "<p>5 rows × 31 columns</p>\n",
       "</div>"
      ],
      "text/plain": [
       "  collection_id  protocole_long user_id  \\\n",
       "0             1             NaN  12 657   \n",
       "1             1             NaN  12 657   \n",
       "2             2             NaN  10 918   \n",
       "3             2             NaN  10 918   \n",
       "4             2             NaN  10 918   \n",
       "\n",
       "                                           plante_sc      plante_fr  \\\n",
       "0  Les Trèfles à fleurs blanches ou roses en boul...            NaN   \n",
       "1  Les Trèfles à fleurs blanches ou roses en boul...            NaN   \n",
       "2                                    Acanthus mollis  Acanthe molle   \n",
       "3                                    Acanthus mollis  Acanthe molle   \n",
       "4                                    Acanthus mollis  Acanthe molle   \n",
       "\n",
       "  plante_precision  plante_inconnue plante_caractere  \\\n",
       "0              NaN              0.0        spontanée   \n",
       "1              NaN              0.0        spontanée   \n",
       "2              NaN              NaN          plantée   \n",
       "3              NaN              NaN          plantée   \n",
       "4              NaN              NaN          plantée   \n",
       "\n",
       "                                         photo_fleur  \\\n",
       "0  https://spgp-api.65mo.fr/api/containers/spgp/d...   \n",
       "1  https://spgp-api.65mo.fr/api/containers/spgp/d...   \n",
       "2  https://spgp-api.65mo.fr/api/containers/spgp/d...   \n",
       "3  https://spgp-api.65mo.fr/api/containers/spgp/d...   \n",
       "4  https://spgp-api.65mo.fr/api/containers/spgp/d...   \n",
       "\n",
       "                                        photo_plante  ...  \\\n",
       "0  https://spgp-api.65mo.fr/api/containers/spgp/d...  ...   \n",
       "1  https://spgp-api.65mo.fr/api/containers/spgp/d...  ...   \n",
       "2  https://spgp-api.65mo.fr/api/containers/spgp/d...  ...   \n",
       "3  https://spgp-api.65mo.fr/api/containers/spgp/d...  ...   \n",
       "4  https://spgp-api.65mo.fr/api/containers/spgp/d...  ...   \n",
       "\n",
       "                                          insecte_fr  \\\n",
       "0                                L'Abeille mellifère   \n",
       "1  Les Bourdons noirs à bande(s) jaune(s) et cul ...   \n",
       "2  Les Bourdons noirs à bande(s) jaune(s) et cul ...   \n",
       "3                               Les Mouches à damier   \n",
       "4                                L'Abeille mellifère   \n",
       "\n",
       "  insecte_denominationPlusPrecise insecte_CdNomtaxref  \\\n",
       "0                             NaN                 NaN   \n",
       "1                             NaN                 NaN   \n",
       "2                             NaN                 NaN   \n",
       "3                             NaN                 NaN   \n",
       "4                             NaN                 NaN   \n",
       "\n",
       "           insecte_abondance insecte_commentaire insecte_vu_sur_fleur  \\\n",
       "0                  plus de 5                 NaN                  0.0   \n",
       "1                          1                 NaN                  0.0   \n",
       "2  je n'ai pas l'information                 NaN                  0.0   \n",
       "3               entre 2 et 5                 NaN                  0.0   \n",
       "4               entre 2 et 5                 NaN                  0.0   \n",
       "\n",
       "  nb_validation nb_suggestion   latitude  longitude  \n",
       "0           3.0           NaN  45.363808   6.514947  \n",
       "1           3.0           NaN  45.363808   6.514947  \n",
       "2           3.0           NaN  48.844975   2.358313  \n",
       "3           3.0           1.0  48.844975   2.358313  \n",
       "4           3.0           NaN  48.844975   2.358313  \n",
       "\n",
       "[5 rows x 31 columns]"
      ]
     },
     "execution_count": 5,
     "metadata": {},
     "output_type": "execute_result"
    }
   ],
   "source": [
    "data.head()"
   ]
  },
  {
   "cell_type": "code",
   "execution_count": 6,
   "metadata": {},
   "outputs": [
    {
     "data": {
      "text/plain": [
       "Index(['collection_id', 'protocole_long', 'user_id', 'plante_sc', 'plante_fr',\n",
       "       'plante_precision', 'plante_inconnue', 'plante_caractere',\n",
       "       'photo_fleur', 'photo_plante', 'photo_feuille', 'code_postal',\n",
       "       'habitat', 'grande_culture', 'collection_date',\n",
       "       'collection_heure_debut', 'nebulosite', 'temperature', 'vent',\n",
       "       'fleur_ombre', 'insecte_sc', 'insecte_fr',\n",
       "       'insecte_denominationPlusPrecise', 'insecte_CdNomtaxref',\n",
       "       'insecte_abondance', 'insecte_commentaire', 'insecte_vu_sur_fleur',\n",
       "       'nb_validation', 'nb_suggestion', 'latitude', 'longitude'],\n",
       "      dtype='object')"
      ]
     },
     "execution_count": 6,
     "metadata": {},
     "output_type": "execute_result"
    }
   ],
   "source": [
    "data.columns"
   ]
  },
  {
   "cell_type": "code",
   "execution_count": 27,
   "metadata": {},
   "outputs": [],
   "source": [
    "restricted_vars = [\n",
    "    \"collection_id\",\n",
    "    \"plante_sc\",\n",
    "    \"plante_fr\",\n",
    "    \"insecte_sc\",\n",
    "    \"insecte_fr\",\n",
    "    \"temperature\",\n",
    "    \"vent\",\n",
    "    \"latitude\",\n",
    "    \"longitude\",\n",
    "    \"nebulosite\",\n",
    "]\n",
    "df = data[restricted_vars].copy()"
   ]
  },
  {
   "cell_type": "markdown",
   "metadata": {},
   "source": [
    "# Mise en place du modèle\n",
    "\n"
   ]
  },
  {
   "cell_type": "markdown",
   "metadata": {},
   "source": [
    "## Compréhension des variables d'intérêt"
   ]
  },
  {
   "cell_type": "code",
   "execution_count": 46,
   "metadata": {},
   "outputs": [
    {
     "data": {
      "image/png": "[encoded data removed]",
      "text/plain": [
       "<Figure size 1000x1000 with 1 Axes>"
      ]
     },
     "metadata": {},
     "output_type": "display_data"
    }
   ],
   "source": [
    "plt.figure(figsize=(10, 10))\n",
    "x_values = df[\"insecte_sc\"].dropna().value_counts().index\n",
    "y_values = df[\"insecte_sc\"].dropna().value_counts().values[::-1]\n",
    "sns.lineplot(x = x_values, y = y_values)\n",
    "\n",
    "# Fill the area under the curve\n",
    "plt.fill_between(x_values, y_values, color=\"skyblue\", alpha=0.4)\n",
    "\n",
    "# Put an xtick each 1000 unique values\n",
    "plt.xticks(range(0, len(df[\"insecte_sc\"].value_counts()), 50))\n",
    "# Instead of the label of the xtick, put the position of the xtick\n",
    "plt.gca().set_xticklabels(range(0, len(df[\"insecte_sc\"].value_counts()), 50))\n",
    "\n",
    "# Put a line on the quartiles\n",
    "plt.axhline(y = df[\"insecte_sc\"].value_counts().quantile(0.25), color = \"red\", linestyle = \"--\")\n",
    "plt.axhline(y = df[\"insecte_sc\"].value_counts().quantile(0.50), color = \"red\", linestyle = \":\")\n",
    "plt.axhline(y = df[\"insecte_sc\"].value_counts().quantile(0.75), color = \"red\", linestyle = \"--\")\n",
    "\n",
    "plt.ylim(0, 30000)\n",
    "plt.xlim(0, len(df[\"insecte_sc\"].value_counts()))\n",
    "plt.yscale(\"symlog\")\n",
    "plt.ylabel(\"log(count)\")\n",
    "plt.xlabel(\"Count rank Insecte\")\n",
    "plt.tight_layout()\n",
    "plt.show()"
   ]
  },
  {
   "cell_type": "code",
   "execution_count": 41,
   "metadata": {},
   "outputs": [
    {
     "data": {
      "text/plain": [
       "1"
      ]
     },
     "execution_count": 41,
     "metadata": {},
     "output_type": "execute_result"
    }
   ],
   "source": [
    "counts = df[\"insecte_sc\"].dropna().value_counts().sort_index()\n",
    "counts.min()"
   ]
  },
  {
   "cell_type": "markdown",
   "metadata": {},
   "source": [
    "1/4 des données est très peu représenté sur l'attribut `insecte_sc` `insecte_fr` "
   ]
  },
  {
   "cell_type": "code",
   "execution_count": 33,
   "metadata": {},
   "outputs": [
    {
     "name": "stdout",
     "output_type": "stream",
     "text": [
      "insecte_sc\n"
     ]
    },
    {
     "data": {
      "text/plain": [
       "count      519.000000\n",
       "mean      1118.512524\n",
       "std       3112.357440\n",
       "min          1.000000\n",
       "25%         31.000000\n",
       "50%        190.000000\n",
       "75%        867.000000\n",
       "max      37429.000000\n",
       "Name: count, dtype: float64"
      ]
     },
     "metadata": {},
     "output_type": "display_data"
    },
    {
     "name": "stdout",
     "output_type": "stream",
     "text": [
      "insecte_fr\n"
     ]
    },
    {
     "data": {
      "text/plain": [
       "count      579.000000\n",
       "mean      1149.117444\n",
       "std       3301.689957\n",
       "min          1.000000\n",
       "25%         33.500000\n",
       "50%        187.000000\n",
       "75%        886.000000\n",
       "max      48134.000000\n",
       "Name: count, dtype: float64"
      ]
     },
     "metadata": {},
     "output_type": "display_data"
    },
    {
     "name": "stdout",
     "output_type": "stream",
     "text": [
      "Proportion NA insecte_SC: 13.45%\n",
      "Proportion NA insecte_FR: 0.81%\n"
     ]
    }
   ],
   "source": [
    "print(\"insecte_sc\")\n",
    "display(df[\"insecte_sc\"].value_counts().describe())\n",
    "print(\"insecte_fr\")\n",
    "display(df[\"insecte_fr\"].value_counts().describe())\n",
    "print(f\"Proportion NA insecte_SC: {df['insecte_sc'].isna().sum() / len(df['insecte_sc']) * 100:.2f}%\")\n",
    "print(f\"Proportion NA insecte_FR: {df['insecte_fr'].isna().sum() / len(df['insecte_fr']) * 100:.2f}%\")"
   ]
  },
  {
   "cell_type": "markdown",
   "metadata": {},
   "source": [
    "Pour la suite, le jeu de donnée est trop grand pour être traité en local. Il faut donc sous échantilloner."
   ]
  },
  {
   "cell_type": "code",
   "execution_count": 10,
   "metadata": {},
   "outputs": [],
   "source": [
    "df = df.dropna(subset=['insecte_fr'])"
   ]
  },
  {
   "cell_type": "code",
   "execution_count": 11,
   "metadata": {},
   "outputs": [],
   "source": [
    "df = df.sample(frac=0.01, random_state=1)\n"
   ]
  },
  {
   "cell_type": "markdown",
   "metadata": {},
   "source": [
    "La variable cible n'existe pas dans le jeu de données. Il faut la créer à partir de `insecte_sc` ou `insecte_fr` (ou autre dans le futur).\n",
    "\n",
    "Pour ça on va regarder autour de chaque observation (wrt. latitude et longitude) si il y a des observations similaires (même `insecte_sc` ou `insecte_fr`). La classe cible sera la quantité d'`insecte_sc` ou `insecte_fr` différents autour de l'observation considérée.\n"
   ]
  },
  {
   "cell_type": "code",
   "execution_count": 12,
   "metadata": {},
   "outputs": [
    {
     "data": {
      "text/plain": [
       "(6653, 10)"
      ]
     },
     "execution_count": 12,
     "metadata": {},
     "output_type": "execute_result"
    }
   ],
   "source": [
    "df.shape"
   ]
  },
  {
   "cell_type": "code",
   "execution_count": 13,
   "metadata": {},
   "outputs": [],
   "source": [
    "distance = 0.5"
   ]
  },
  {
   "cell_type": "markdown",
   "metadata": {},
   "source": [
    "Première intuition"
   ]
  },
  {
   "cell_type": "code",
   "execution_count": 14,
   "metadata": {
    "tags": []
   },
   "outputs": [
    {
     "name": "stderr",
     "output_type": "stream",
     "text": [
      "100%|██████████| 6653/6653 [00:15<00:00, 428.36it/s] \n"
     ]
    }
   ],
   "source": [
    "def calculate_unique_insects(row):\n",
    "    lat = row[\"latitude\"]\n",
    "    lon = row[\"longitude\"]\n",
    "    return df[\n",
    "        (np.abs(df[\"latitude\"] - lat) <= distance) \n",
    "        & (np.abs(df[\"longitude\"] - lon) <= distance)\n",
    "    ][\"insecte_fr\"].nunique()\n",
    "\n",
    "# add tqdm to see the progress of the loop in the pandas apply\n",
    "from tqdm import tqdm\n",
    "tqdm.pandas()\n",
    "\n",
    "df[\"target\"] = df.progress_apply(calculate_unique_insects, axis=1)"
   ]
  },
  {
   "cell_type": "markdown",
   "metadata": {},
   "source": [
    "Deuxième intuition: il faut gagner en vitesse de calcul"
   ]
  },
  {
   "cell_type": "code",
   "execution_count": 15,
   "metadata": {},
   "outputs": [
    {
     "name": "stderr",
     "output_type": "stream",
     "text": [
      "100%|██████████| 6653/6653 [00:11<00:00, 563.81it/s]\n"
     ]
    }
   ],
   "source": [
    "from scipy.spatial import cKDTree\n",
    "\n",
    "# Create a cKDTree from the latitude and longitude\n",
    "tree = cKDTree(df[['latitude', 'longitude']])\n",
    "\n",
    "# Define a function to calculate the unique insects within the distance\n",
    "def calculate_unique_insects(index):\n",
    "    indices = tree.query_ball_point([df.iloc[index]['latitude'], df.iloc[index]['longitude']], distance)\n",
    "    return df.iloc[indices]['insecte_fr'].nunique()\n",
    "\n",
    "# Apply the function to each row\n",
    "# use tqdm to display a progress bar\n",
    "from tqdm import tqdm\n",
    "\n",
    "tqdm.pandas()\n",
    "\n",
    "df['target'] = [calculate_unique_insects(i) for i in tqdm(range(len(df)))]"
   ]
  },
  {
   "cell_type": "code",
   "execution_count": null,
   "metadata": {},
   "outputs": [],
   "source": [
    "!pip install plotly"
   ]
  },
  {
   "cell_type": "markdown",
   "metadata": {},
   "source": [
    "Carte de France avec uniquement la richesse spécifique autour de chaque observation. "
   ]
  },
  {
   "cell_type": "code",
   "execution_count": null,
   "metadata": {},
   "outputs": [],
   "source": [
    "import plotly.express as px\n",
    "fig = px.scatter_geo(df, lat='latitude', lon='longitude', color='target')\n",
    "fig.update_geos(fitbounds=\"locations\", visible=True)\n",
    "fig.show()"
   ]
  },
  {
   "cell_type": "markdown",
   "metadata": {},
   "source": [
    "On peut supposer que cette carte ne traduit en réalité que la densité de population humaine: s'il y a beaucoup d'espèces différentes proche des observations c'est peut-être juste qu'il y a beaucoup d'observations. On va comparer avec une carte de la densité d'échantillonnage."
   ]
  },
  {
   "cell_type": "code",
   "execution_count": 17,
   "metadata": {},
   "outputs": [],
   "source": [
    "def calculate_density(row):\n",
    "    lat = row[\"latitude\"]\n",
    "    lon = row[\"longitude\"]\n",
    "    return df[\n",
    "        (np.abs(df[\"latitude\"] - lat) <= distance) \n",
    "        & (np.abs(df[\"longitude\"] - lon) <= distance)\n",
    "    ].shape[0]\n",
    "\n",
    "df[\"density\"] = df.apply(calculate_density, axis=1)"
   ]
  },
  {
   "cell_type": "code",
   "execution_count": null,
   "metadata": {},
   "outputs": [],
   "source": [
    "fig = px.scatter_geo(df, lat='latitude', lon='longitude', color='density')\n",
    "fig.update_geos(fitbounds=\"locations\", visible=True)\n",
    "fig.show()"
   ]
  },
  {
   "cell_type": "code",
   "execution_count": 18,
   "metadata": {},
   "outputs": [],
   "source": [
    "df[\"unique insects weighted\"] = df[\"target\"]/df[\"density\"]"
   ]
  },
  {
   "cell_type": "code",
   "execution_count": 19,
   "metadata": {},
   "outputs": [
    {
     "data": {
      "text/plain": [
       "count    6653.000000\n",
       "mean      444.918232\n",
       "std       351.840530\n",
       "min         2.000000\n",
       "25%       118.000000\n",
       "50%       339.000000\n",
       "75%       838.000000\n",
       "max       964.000000\n",
       "Name: density, dtype: float64"
      ]
     },
     "execution_count": 19,
     "metadata": {},
     "output_type": "execute_result"
    }
   ],
   "source": [
    "df.density.describe()"
   ]
  },
  {
   "cell_type": "markdown",
   "metadata": {},
   "source": [
    "En pondérant la target par la densité d'échantillonnage, on devrait avoir une carte plus signficiative de la richesse spécifique. En revanche, la pondération est peut-être trop en défaveur des zones denses: Il y a un nombre d'espèces maximum qui peut se faire effacer par la densité d'échantillonnage."
   ]
  },
  {
   "cell_type": "code",
   "execution_count": null,
   "metadata": {},
   "outputs": [],
   "source": [
    "fig = px.scatter_geo(df, lat='latitude', lon='longitude', color='unique insects weighted')\n",
    "fig.update_geos(fitbounds=\"locations\", visible=True)\n",
    "fig.show()"
   ]
  },
  {
   "cell_type": "markdown",
   "metadata": {},
   "source": [
    "On va comparer en pondérant plutôt par la densité de collection"
   ]
  },
  {
   "cell_type": "code",
   "execution_count": 20,
   "metadata": {},
   "outputs": [],
   "source": [
    "# calcule la densité de collection_id, sachant qu'il peut y avoir un même \n",
    "# collection_id pour plusieurs lignes\n",
    "def compute_collection_id_density(row):\n",
    "    lat = row[\"latitude\"]\n",
    "    lon = row[\"longitude\"]\n",
    "    return df[\n",
    "        (np.abs(df[\"latitude\"] - lat) <= distance) \n",
    "        & (np.abs(df[\"longitude\"] - lon) <= distance)\n",
    "    ][\"collection_id\"].nunique()\n",
    "    \n",
    "# calcule unique insects weighted en divisant target par la quantité d'id collection\n",
    "df[\"collection_id density\"] = df.progress_apply(compute_collection_id_density, axis=1)\n",
    "\n",
    "df[\"unique insects weighted coll\"] = df[\"target\"]/df[\"collection_id density\"]"
   ]
  },
  {
   "cell_type": "code",
   "execution_count": null,
   "metadata": {},
   "outputs": [],
   "source": [
    "# plot unique insects weighted coll, and add in the interactive labels the target and the collection_id density\n",
    "fig = px.scatter_geo(df, lat='latitude', lon='longitude', color='unique insects weighted coll', hover_data=['target', 'collection_id density'])\n",
    "fig.update_geos(fitbounds=\"locations\", visible=True)\n",
    "fig.show()"
   ]
  },
  {
   "cell_type": "markdown",
   "metadata": {},
   "source": [
    "## Pipeline de modélisation"
   ]
  },
  {
   "cell_type": "code",
   "execution_count": 21,
   "metadata": {
    "tags": []
   },
   "outputs": [],
   "source": [
    "from sklearn.pipeline import Pipeline\n",
    "from sklearn.preprocessing import StandardScaler\n",
    "from sklearn.preprocessing import OneHotEncoder\n",
    "from sklearn.compose import ColumnTransformer\n",
    "from sklearn.impute import SimpleImputer\n",
    "from sklearn.model_selection import train_test_split\n",
    "\n",
    "from sklearn.ensemble import RandomForestRegressor"
   ]
  },
  {
   "cell_type": "code",
   "execution_count": 23,
   "metadata": {},
   "outputs": [],
   "source": [
    "X = df[\n",
    "    [\n",
    "        \"plante_sc\",\n",
    "        \"plante_fr\",\n",
    "        \"insecte_sc\",\n",
    "        \"insecte_fr\",\n",
    "        \"temperature\",\n",
    "        \"vent\",\n",
    "        \"latitude\",\n",
    "        \"longitude\",\n",
    "        \"nebulosite\",\n",
    "    ]\n",
    "].copy()\n",
    "Y = df[\"unique insects weighted coll\"].copy()"
   ]
  },
  {
   "cell_type": "markdown",
   "metadata": {},
   "source": [
    "Pour gérer les données manquantes, on va utiliser un SimpleImputer qui va remplacer en fonction du KDTree des observations similaires. Cela renforcera la composante spatiale de la target."
   ]
  },
  {
   "cell_type": "code",
   "execution_count": null,
   "metadata": {},
   "outputs": [],
   "source": [
    "pipeline1 = ColumnTransformer(\n",
    "    [\n",
    "        (\"num\", StandardScaler(), [\"temperature\", \"vent\", \"latitude\", \"longitude\", \"nebulosite\"]),\n",
    "        (\"cat\", OneHotEncoder(handle_unknown=\"ignore\"), [\"plante_fr\", \"insecte_fr\"]),\n",
    "    ]\n",
    ")\n",
    "\n",
    "# add a simple imputer to fill the missing values using the KDtree wrt the latitude and longitude\n",
    "pipeline2 = Pipeline(\n",
    "    [\n",
    "        (\"imputer\", SimpleImputer(strategy=\"constant\", fill_value=-1)),\n",
    "        (\"model\", RandomForestRegressor()),\n",
    "    ]\n",
    ")\n",
    "\n",
    "pipeline = Pipeline(\n",
    "    [\n",
    "        (\"preprocessing\", pipeline1),\n",
    "        (\"model\", pipeline2),\n",
    "    ]\n",
    ")\n"
   ]
  }
 ],
 "metadata": {
  "kernelspec": {
   "display_name": "Python 3",
   "language": "python",
   "name": "python3"
  },
  "language_info": {
   "codemirror_mode": {
    "name": "ipython",
    "version": 3
   },
   "file_extension": ".py",
   "mimetype": "text/x-python",
   "name": "python",
   "nbconvert_exporter": "python",
   "pygments_lexer": "ipython3",
   "version": "3.12.0"
  }
 },
 "nbformat": 4,
 "nbformat_minor": 2
}
