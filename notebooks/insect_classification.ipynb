{
 "cells": [
  {
   "cell_type": "code",
   "execution_count": 1,
   "metadata": {},
   "outputs": [
    {
     "name": "stdout",
     "output_type": "stream",
     "text": [
      "Former working directory:  c:\\Users\\corne\\Documents\\2-Scolarite\\1-AgroParisTech\\4-Cursus\\3-3A\\5-Cours\\14-Fil_Rouge\\fil-rouge-pollinisateurs\\notebooks\n",
      "Current working directory:  c:\\Users\\corne\\Documents\\2-Scolarite\\1-AgroParisTech\\4-Cursus\\3-3A\\5-Cours\\14-Fil_Rouge\\fil-rouge-pollinisateurs\n"
     ]
    }
   ],
   "source": [
    "from utils import setup_env_path\n",
    "\n",
    "setup_env_path()"
   ]
  },
  {
   "cell_type": "code",
   "execution_count": 2,
   "metadata": {},
   "outputs": [],
   "source": [
    "# Chargement des librairies\n",
    "import pandas as pd\n",
    "import data_quality.insect_treatment.insect_classification_functions as classification_functions"
   ]
  },
  {
   "cell_type": "markdown",
   "metadata": {},
   "source": [
    "# I. Préparation des données \n",
    "\n",
    "L'objectif est d'obtenir un dataset avec uniquement les colonnes insecte_sc et insecte_fr.  \n",
    "\n",
    "De plus, toutes les lignes où il y a soit NA, soit \"je ne sais pas\", soit \"autres\" dans ces deux colonnes seront supprimées.\n",
    "\n",
    "Une attention particulière ser apportée aux lignes possédant une valeur dans leur colonne insecte_fr mais pas dans insecte_sc. En effet, une analyse préliminaire a montré que ce cas existe pour exactement 12 valeurs de insecte_fr, qui sont :\n",
    "- \"Les Mouches difficiles à déterminer\",\n",
    "- \"Les Coléoptères difficiles à déterminer\",\n",
    "- \"Les Moustiques, Tipules et autres diptères Nématocères\",\n",
    "- \"Les Chenilles et fausses-Chenilles\",\n",
    "- \"Les Syrphes difficiles à déterminer\",\n",
    "- \"Les Terebrants Chalcidiens et autres\",\n",
    "- \"Les Epeires et autres Araneidae\",\n",
    "- \"Les Punaises difficiles à déterminer\",\n",
    "- \"Les Syrphes aux fémurs enflés\",\n",
    "- \"Les Tachinaires difficiles à déterminer\",\n",
    "- \"Les Punaises prédatrices ternes\".  \n",
    "\n",
    "Cette liste comprend des termes englobant des groupes assez larges d'insectes. Nous allons donc leur attribuer une valeur de insecte_sc qui pourra au mieux les englober d'après nos recherches et connaissances. Les *Punaises prédatrices ternes* n'ayant pas été identifié dans la littérature, nous les remplacerons par le nom scientifique des *Punaises ternes*.\n",
    "- \"Diptera\", \n",
    "- \"Coleoptera\", \n",
    "- \"Nematocera\",\n",
    "- \"Lepidoptera\", \n",
    "- \"Syrphinae\", \n",
    "- \"Chalcidoidea\",\n",
    "- \"Araneidae\", \n",
    "- \"Heteroptera\", \n",
    "- \"Syrphinae\",\n",
    "- \"Tachinidae\",\n",
    "- \"Lygus lineolaris\".\n",
    "\n",
    "Nous sélectionnerons les lignes où ces pairs insecte_sc/insecte_fr sont uniques."
   ]
  },
  {
   "cell_type": "markdown",
   "metadata": {},
   "source": [
    "## 1. Sélection des colonnes d'intérêt"
   ]
  },
  {
   "cell_type": "code",
   "execution_count": 3,
   "metadata": {},
   "outputs": [
    {
     "data": {
      "text/plain": [
       "(670744, 2)"
      ]
     },
     "execution_count": 3,
     "metadata": {},
     "output_type": "execute_result"
    }
   ],
   "source": [
    "# Import spipoll.csv as a pandas dataframe\n",
    "spipoll = pd.read_csv(\"data/spipoll.csv\", low_memory=False)\n",
    "\n",
    "# Extract relevant columns from the spipoll dataframe\n",
    "insect = spipoll[['insecte_sc', 'insecte_fr']]\n",
    "insect.shape # (670744, 2)"
   ]
  },
  {
   "cell_type": "markdown",
   "metadata": {},
   "source": [
    "## 2. Suppression des lignes sans information"
   ]
  },
  {
   "cell_type": "code",
   "execution_count": 4,
   "metadata": {},
   "outputs": [
    {
     "data": {
      "text/plain": [
       "(11667, 2)"
      ]
     },
     "execution_count": 4,
     "metadata": {},
     "output_type": "execute_result"
    }
   ],
   "source": [
    "values_to_check = [\"Je ne sais pas\", \"Insecte inconnu\"]\n",
    "\n",
    "# Suppression des lignes ayant NA ou les values_to_check dans insecte_sc et dans insecte_fr\n",
    "insect_no_info = insect.loc[\n",
    "    (\n",
    "        (insect[\"insecte_sc\"].isna() | insect[\"insecte_sc\"].isin(values_to_check)) &\n",
    "        (insect[\"insecte_fr\"].isna() | insect[\"insecte_fr\"].isin(values_to_check))\n",
    "    )\n",
    "]\n",
    "insect_no_info.shape # (11667, 2)"
   ]
  },
  {
   "cell_type": "code",
   "execution_count": 5,
   "metadata": {},
   "outputs": [
    {
     "data": {
      "text/html": [
       "<div>\n",
       "<style scoped>\n",
       "    .dataframe tbody tr th:only-of-type {\n",
       "        vertical-align: middle;\n",
       "    }\n",
       "\n",
       "    .dataframe tbody tr th {\n",
       "        vertical-align: top;\n",
       "    }\n",
       "\n",
       "    .dataframe thead th {\n",
       "        text-align: right;\n",
       "    }\n",
       "</style>\n",
       "<table border=\"1\" class=\"dataframe\">\n",
       "  <thead>\n",
       "    <tr style=\"text-align: right;\">\n",
       "      <th></th>\n",
       "      <th>insecte_sc</th>\n",
       "      <th>insecte_fr</th>\n",
       "    </tr>\n",
       "  </thead>\n",
       "  <tbody>\n",
       "    <tr>\n",
       "      <th>10</th>\n",
       "      <td>Insecte inconnu</td>\n",
       "      <td>Insecte inconnu</td>\n",
       "    </tr>\n",
       "    <tr>\n",
       "      <th>21</th>\n",
       "      <td>Insecte inconnu</td>\n",
       "      <td>Insecte inconnu</td>\n",
       "    </tr>\n",
       "    <tr>\n",
       "      <th>35</th>\n",
       "      <td>Insecte inconnu</td>\n",
       "      <td>Insecte inconnu</td>\n",
       "    </tr>\n",
       "    <tr>\n",
       "      <th>45</th>\n",
       "      <td>Insecte inconnu</td>\n",
       "      <td>Insecte inconnu</td>\n",
       "    </tr>\n",
       "    <tr>\n",
       "      <th>53</th>\n",
       "      <td>Insecte inconnu</td>\n",
       "      <td>Insecte inconnu</td>\n",
       "    </tr>\n",
       "    <tr>\n",
       "      <th>89</th>\n",
       "      <td>Insecte inconnu</td>\n",
       "      <td>Insecte inconnu</td>\n",
       "    </tr>\n",
       "    <tr>\n",
       "      <th>106</th>\n",
       "      <td>Insecte inconnu</td>\n",
       "      <td>Insecte inconnu</td>\n",
       "    </tr>\n",
       "    <tr>\n",
       "      <th>126</th>\n",
       "      <td>Insecte inconnu</td>\n",
       "      <td>Insecte inconnu</td>\n",
       "    </tr>\n",
       "    <tr>\n",
       "      <th>147</th>\n",
       "      <td>Insecte inconnu</td>\n",
       "      <td>Insecte inconnu</td>\n",
       "    </tr>\n",
       "    <tr>\n",
       "      <th>278</th>\n",
       "      <td>Insecte inconnu</td>\n",
       "      <td>Insecte inconnu</td>\n",
       "    </tr>\n",
       "    <tr>\n",
       "      <th>356</th>\n",
       "      <td>Insecte inconnu</td>\n",
       "      <td>Insecte inconnu</td>\n",
       "    </tr>\n",
       "    <tr>\n",
       "      <th>448</th>\n",
       "      <td>Insecte inconnu</td>\n",
       "      <td>Insecte inconnu</td>\n",
       "    </tr>\n",
       "    <tr>\n",
       "      <th>502</th>\n",
       "      <td>Insecte inconnu</td>\n",
       "      <td>Insecte inconnu</td>\n",
       "    </tr>\n",
       "    <tr>\n",
       "      <th>971</th>\n",
       "      <td>Insecte inconnu</td>\n",
       "      <td>Insecte inconnu</td>\n",
       "    </tr>\n",
       "    <tr>\n",
       "      <th>1177</th>\n",
       "      <td>Insecte inconnu</td>\n",
       "      <td>Insecte inconnu</td>\n",
       "    </tr>\n",
       "    <tr>\n",
       "      <th>1517</th>\n",
       "      <td>NaN</td>\n",
       "      <td>NaN</td>\n",
       "    </tr>\n",
       "    <tr>\n",
       "      <th>1593</th>\n",
       "      <td>Insecte inconnu</td>\n",
       "      <td>Insecte inconnu</td>\n",
       "    </tr>\n",
       "    <tr>\n",
       "      <th>1714</th>\n",
       "      <td>Insecte inconnu</td>\n",
       "      <td>Insecte inconnu</td>\n",
       "    </tr>\n",
       "    <tr>\n",
       "      <th>1954</th>\n",
       "      <td>Insecte inconnu</td>\n",
       "      <td>Insecte inconnu</td>\n",
       "    </tr>\n",
       "    <tr>\n",
       "      <th>2085</th>\n",
       "      <td>Insecte inconnu</td>\n",
       "      <td>Insecte inconnu</td>\n",
       "    </tr>\n",
       "    <tr>\n",
       "      <th>2242</th>\n",
       "      <td>Insecte inconnu</td>\n",
       "      <td>Insecte inconnu</td>\n",
       "    </tr>\n",
       "    <tr>\n",
       "      <th>2307</th>\n",
       "      <td>NaN</td>\n",
       "      <td>NaN</td>\n",
       "    </tr>\n",
       "    <tr>\n",
       "      <th>2476</th>\n",
       "      <td>NaN</td>\n",
       "      <td>NaN</td>\n",
       "    </tr>\n",
       "    <tr>\n",
       "      <th>2753</th>\n",
       "      <td>Insecte inconnu</td>\n",
       "      <td>Insecte inconnu</td>\n",
       "    </tr>\n",
       "    <tr>\n",
       "      <th>2998</th>\n",
       "      <td>Insecte inconnu</td>\n",
       "      <td>Insecte inconnu</td>\n",
       "    </tr>\n",
       "    <tr>\n",
       "      <th>3049</th>\n",
       "      <td>Je ne sais pas</td>\n",
       "      <td>Je ne sais pas</td>\n",
       "    </tr>\n",
       "    <tr>\n",
       "      <th>3214</th>\n",
       "      <td>Insecte inconnu</td>\n",
       "      <td>Insecte inconnu</td>\n",
       "    </tr>\n",
       "    <tr>\n",
       "      <th>3443</th>\n",
       "      <td>Insecte inconnu</td>\n",
       "      <td>Insecte inconnu</td>\n",
       "    </tr>\n",
       "    <tr>\n",
       "      <th>3725</th>\n",
       "      <td>Insecte inconnu</td>\n",
       "      <td>Insecte inconnu</td>\n",
       "    </tr>\n",
       "    <tr>\n",
       "      <th>3768</th>\n",
       "      <td>NaN</td>\n",
       "      <td>NaN</td>\n",
       "    </tr>\n",
       "  </tbody>\n",
       "</table>\n",
       "</div>"
      ],
      "text/plain": [
       "           insecte_sc       insecte_fr\n",
       "10    Insecte inconnu  Insecte inconnu\n",
       "21    Insecte inconnu  Insecte inconnu\n",
       "35    Insecte inconnu  Insecte inconnu\n",
       "45    Insecte inconnu  Insecte inconnu\n",
       "53    Insecte inconnu  Insecte inconnu\n",
       "89    Insecte inconnu  Insecte inconnu\n",
       "106   Insecte inconnu  Insecte inconnu\n",
       "126   Insecte inconnu  Insecte inconnu\n",
       "147   Insecte inconnu  Insecte inconnu\n",
       "278   Insecte inconnu  Insecte inconnu\n",
       "356   Insecte inconnu  Insecte inconnu\n",
       "448   Insecte inconnu  Insecte inconnu\n",
       "502   Insecte inconnu  Insecte inconnu\n",
       "971   Insecte inconnu  Insecte inconnu\n",
       "1177  Insecte inconnu  Insecte inconnu\n",
       "1517              NaN              NaN\n",
       "1593  Insecte inconnu  Insecte inconnu\n",
       "1714  Insecte inconnu  Insecte inconnu\n",
       "1954  Insecte inconnu  Insecte inconnu\n",
       "2085  Insecte inconnu  Insecte inconnu\n",
       "2242  Insecte inconnu  Insecte inconnu\n",
       "2307              NaN              NaN\n",
       "2476              NaN              NaN\n",
       "2753  Insecte inconnu  Insecte inconnu\n",
       "2998  Insecte inconnu  Insecte inconnu\n",
       "3049   Je ne sais pas   Je ne sais pas\n",
       "3214  Insecte inconnu  Insecte inconnu\n",
       "3443  Insecte inconnu  Insecte inconnu\n",
       "3725  Insecte inconnu  Insecte inconnu\n",
       "3768              NaN              NaN"
      ]
     },
     "execution_count": 5,
     "metadata": {},
     "output_type": "execute_result"
    }
   ],
   "source": [
    "insect_no_info.head(30) # la sélection s'est bien passée si on retrouve des NA, \"Je ne sais pas\" et \"Insecte inconnu\""
   ]
  },
  {
   "cell_type": "code",
   "execution_count": 6,
   "metadata": {},
   "outputs": [
    {
     "data": {
      "text/plain": [
       "(659077, 2)"
      ]
     },
     "execution_count": 6,
     "metadata": {},
     "output_type": "execute_result"
    }
   ],
   "source": [
    "# Get the indices of the rows to be removed\n",
    "indices_to_remove = insect_no_info.index\n",
    "\n",
    "# Remove the rows\n",
    "insect = insect.drop(indices_to_remove)\n",
    "insect.shape # (659077, 2)"
   ]
  },
  {
   "cell_type": "markdown",
   "metadata": {},
   "source": [
    "## 3. Suppression des doublons"
   ]
  },
  {
   "cell_type": "code",
   "execution_count": 7,
   "metadata": {},
   "outputs": [
    {
     "data": {
      "text/plain": [
       "(577, 2)"
      ]
     },
     "execution_count": 7,
     "metadata": {},
     "output_type": "execute_result"
    }
   ],
   "source": [
    "# Duplicates deletion\n",
    "insect = insect.drop_duplicates()\n",
    "insect.shape # (577, 2)"
   ]
  },
  {
   "cell_type": "markdown",
   "metadata": {},
   "source": [
    "## 4. Enrichissement des données de colonne_sc\n",
    "\n",
    "### A. Cas où insecte_sc est vide"
   ]
  },
  {
   "cell_type": "code",
   "execution_count": 8,
   "metadata": {},
   "outputs": [
    {
     "data": {
      "text/plain": [
       "(577, 2)"
      ]
     },
     "execution_count": 8,
     "metadata": {},
     "output_type": "execute_result"
    }
   ],
   "source": [
    "# Complete the insecte_sc column with the insecte_fr column information\n",
    "original = [\"Les Mouches difficiles à déterminer\",\n",
    "            \"Les Coléoptères difficiles à déterminer\",\n",
    "            \"Les Moustiques, Tipules et autres diptères Nématocères\",\n",
    "            \"Les Chenilles et fausses-Chenilles\",\n",
    "            \"Les Syrphes difficiles à déterminer\",\n",
    "            \"Les Terebrants Chalcidiens et autres\",\n",
    "            \"Les Epeires et autres Araneidae\",\n",
    "            \"Les Punaises difficiles à déterminer\",\n",
    "            \"Les Syrphes aux fémurs enflés\",\n",
    "            \"Les Tachinaires difficiles à déterminer\",\n",
    "            \"Les Punaises prédatrices ternes\"]\n",
    "replacement = [\"Diptera\", \"Coleoptera\", \"Nematocera\",\n",
    "               \"Lepidoptera\", \"Syrphinae\", \"Chalcidoidea\",\n",
    "               \"Araneidae\", \"Heteroptera\", \"Syrphinae\",\n",
    "               \"Tachinidae\", \"Lygus lineolaris\"]\n",
    "\n",
    "def replace_insecte_sc(row):\n",
    "    if pd.isna(row[\"insecte_sc\"]) and row[\"insecte_fr\"] in original:\n",
    "        index = original.index(row[\"insecte_fr\"])\n",
    "        return replacement[index]\n",
    "    else:\n",
    "        return row[\"insecte_sc\"]\n",
    "\n",
    "insect[\"insecte_sc\"] = insect.apply(replace_insecte_sc, axis=1)\n",
    "insect.shape # (577, 2)"
   ]
  },
  {
   "cell_type": "code",
   "execution_count": 9,
   "metadata": {},
   "outputs": [
    {
     "data": {
      "text/html": [
       "<div>\n",
       "<style scoped>\n",
       "    .dataframe tbody tr th:only-of-type {\n",
       "        vertical-align: middle;\n",
       "    }\n",
       "\n",
       "    .dataframe tbody tr th {\n",
       "        vertical-align: top;\n",
       "    }\n",
       "\n",
       "    .dataframe thead th {\n",
       "        text-align: right;\n",
       "    }\n",
       "</style>\n",
       "<table border=\"1\" class=\"dataframe\">\n",
       "  <thead>\n",
       "    <tr style=\"text-align: right;\">\n",
       "      <th></th>\n",
       "      <th>insecte_sc</th>\n",
       "      <th>insecte_fr</th>\n",
       "    </tr>\n",
       "  </thead>\n",
       "  <tbody>\n",
       "    <tr>\n",
       "      <th>0</th>\n",
       "      <td>Apis mellifera</td>\n",
       "      <td>L'Abeille mellifère</td>\n",
       "    </tr>\n",
       "    <tr>\n",
       "      <th>1</th>\n",
       "      <td>Bombus</td>\n",
       "      <td>Les Bourdons noirs à bande(s) jaune(s) et cul ...</td>\n",
       "    </tr>\n",
       "    <tr>\n",
       "      <th>3</th>\n",
       "      <td>Sarcophaga</td>\n",
       "      <td>Les Mouches à damier</td>\n",
       "    </tr>\n",
       "    <tr>\n",
       "      <th>5</th>\n",
       "      <td>Tettigonoidea</td>\n",
       "      <td>Les Sauterelles</td>\n",
       "    </tr>\n",
       "    <tr>\n",
       "      <th>6</th>\n",
       "      <td>Neomyia, Calliphora et autres</td>\n",
       "      <td>Les Mouches aux reflets métalliques</td>\n",
       "    </tr>\n",
       "    <tr>\n",
       "      <th>7</th>\n",
       "      <td>Diptera</td>\n",
       "      <td>Les Mouches difficiles à déterminer</td>\n",
       "    </tr>\n",
       "    <tr>\n",
       "      <th>13</th>\n",
       "      <td>Tephritidae et autres</td>\n",
       "      <td>Les Téphritides et autres</td>\n",
       "    </tr>\n",
       "    <tr>\n",
       "      <th>16</th>\n",
       "      <td>Eupeodes, Scaeva</td>\n",
       "      <td>Les Syrphes à taches en virgules</td>\n",
       "    </tr>\n",
       "    <tr>\n",
       "      <th>18</th>\n",
       "      <td>Episyrphus balteatus</td>\n",
       "      <td>Le Syrphe ceinturé</td>\n",
       "    </tr>\n",
       "    <tr>\n",
       "      <th>19</th>\n",
       "      <td>Meliscaeva et autres</td>\n",
       "      <td>Les Syrphes à abdomen fin</td>\n",
       "    </tr>\n",
       "  </tbody>\n",
       "</table>\n",
       "</div>"
      ],
      "text/plain": [
       "                       insecte_sc  \\\n",
       "0                  Apis mellifera   \n",
       "1                          Bombus   \n",
       "3                      Sarcophaga   \n",
       "5                   Tettigonoidea   \n",
       "6   Neomyia, Calliphora et autres   \n",
       "7                         Diptera   \n",
       "13          Tephritidae et autres   \n",
       "16               Eupeodes, Scaeva   \n",
       "18           Episyrphus balteatus   \n",
       "19           Meliscaeva et autres   \n",
       "\n",
       "                                           insecte_fr  \n",
       "0                                 L'Abeille mellifère  \n",
       "1   Les Bourdons noirs à bande(s) jaune(s) et cul ...  \n",
       "3                                Les Mouches à damier  \n",
       "5                                     Les Sauterelles  \n",
       "6                 Les Mouches aux reflets métalliques  \n",
       "7                 Les Mouches difficiles à déterminer  \n",
       "13                          Les Téphritides et autres  \n",
       "16                   Les Syrphes à taches en virgules  \n",
       "18                                 Le Syrphe ceinturé  \n",
       "19                          Les Syrphes à abdomen fin  "
      ]
     },
     "execution_count": 9,
     "metadata": {},
     "output_type": "execute_result"
    }
   ],
   "source": [
    "insect.head(10) # la sélection s'est bien passée si on retrouve des valeurs remplacées"
   ]
  },
  {
   "cell_type": "code",
   "execution_count": 10,
   "metadata": {},
   "outputs": [
    {
     "data": {
      "text/plain": [
       "0"
      ]
     },
     "execution_count": 10,
     "metadata": {},
     "output_type": "execute_result"
    }
   ],
   "source": [
    "# Verification that the replacement happened on the whole dataset\n",
    "insect['insecte_sc'].isna().sum() # 0"
   ]
  },
  {
   "cell_type": "markdown",
   "metadata": {},
   "source": [
    "### B. Cas où insecte_sc est \"autres\""
   ]
  },
  {
   "cell_type": "code",
   "execution_count": 11,
   "metadata": {},
   "outputs": [],
   "source": [
    "# If insecte_sc is \"autres\", delete the value of insect_sc and keep the value of insect_fr\n",
    "for i in range(len(insect)):\n",
    "    if insect.iloc[i, 0] == \"autres\":\n",
    "        insect.iloc[i, 0] = None"
   ]
  },
  {
   "cell_type": "code",
   "execution_count": 12,
   "metadata": {},
   "outputs": [
    {
     "data": {
      "text/html": [
       "<div>\n",
       "<style scoped>\n",
       "    .dataframe tbody tr th:only-of-type {\n",
       "        vertical-align: middle;\n",
       "    }\n",
       "\n",
       "    .dataframe tbody tr th {\n",
       "        vertical-align: top;\n",
       "    }\n",
       "\n",
       "    .dataframe thead th {\n",
       "        text-align: right;\n",
       "    }\n",
       "</style>\n",
       "<table border=\"1\" class=\"dataframe\">\n",
       "  <thead>\n",
       "    <tr style=\"text-align: right;\">\n",
       "      <th></th>\n",
       "      <th>insecte_sc</th>\n",
       "      <th>insecte_fr</th>\n",
       "    </tr>\n",
       "  </thead>\n",
       "  <tbody>\n",
       "    <tr>\n",
       "      <th>133</th>\n",
       "      <td>None</td>\n",
       "      <td>Les Araignées</td>\n",
       "    </tr>\n",
       "    <tr>\n",
       "      <th>891</th>\n",
       "      <td>None</td>\n",
       "      <td>Les Osmies</td>\n",
       "    </tr>\n",
       "    <tr>\n",
       "      <th>1701</th>\n",
       "      <td>None</td>\n",
       "      <td>Les Tenthrèdes</td>\n",
       "    </tr>\n",
       "    <tr>\n",
       "      <th>7989</th>\n",
       "      <td>None</td>\n",
       "      <td>Les Taupins</td>\n",
       "    </tr>\n",
       "  </tbody>\n",
       "</table>\n",
       "</div>"
      ],
      "text/plain": [
       "     insecte_sc      insecte_fr\n",
       "133        None   Les Araignées\n",
       "891        None      Les Osmies\n",
       "1701       None  Les Tenthrèdes\n",
       "7989       None     Les Taupins"
      ]
     },
     "execution_count": 12,
     "metadata": {},
     "output_type": "execute_result"
    }
   ],
   "source": [
    "# Print the value of insecte_fr if insecte_sc is None\n",
    "insect[insect[\"insecte_sc\"].isna()]"
   ]
  },
  {
   "cell_type": "code",
   "execution_count": 13,
   "metadata": {},
   "outputs": [
    {
     "data": {
      "text/plain": [
       "(577, 2)"
      ]
     },
     "execution_count": 13,
     "metadata": {},
     "output_type": "execute_result"
    }
   ],
   "source": [
    "original = [\"Les Araignées\", \"Les Osmies\", \"Les Tenthrèdes\", \"Les Taupins\"]\n",
    "replacement = [\"Araneae\", \"Osmia\", \"Tenthredinidae\", \"Elateridae\"]\n",
    "\n",
    "insect[\"insecte_sc\"] = insect.apply(replace_insecte_sc, axis=1)\n",
    "insect.shape # (577, 2)"
   ]
  },
  {
   "cell_type": "markdown",
   "metadata": {},
   "source": [
    "## 5. Correction des fautes d'orthographe"
   ]
  },
  {
   "cell_type": "code",
   "execution_count": 14,
   "metadata": {},
   "outputs": [],
   "source": [
    "# Ortograph correction\n",
    "insect.replace(\"Tettigonoidea\", \"Tettigonioidea\", inplace=True)\n",
    "insect.replace(\"Sapigidae\", \"Sapygidae\", inplace=True)\n",
    "insect.replace(\"Aricias nicias\", \"Aricia nicias\", inplace=True)"
   ]
  },
  {
   "cell_type": "markdown",
   "metadata": {},
   "source": [
    "## 6. Enregistrement du dataset obtenu"
   ]
  },
  {
   "cell_type": "code",
   "execution_count": 15,
   "metadata": {},
   "outputs": [
    {
     "data": {
      "text/plain": [
       "527"
      ]
     },
     "execution_count": 15,
     "metadata": {},
     "output_type": "execute_result"
    }
   ],
   "source": [
    "len(insect[\"insecte_sc\"].unique())"
   ]
  },
  {
   "cell_type": "code",
   "execution_count": 16,
   "metadata": {},
   "outputs": [
    {
     "data": {
      "text/plain": [
       "577"
      ]
     },
     "execution_count": 16,
     "metadata": {},
     "output_type": "execute_result"
    }
   ],
   "source": [
    "len(insect[\"insecte_fr\"].unique())"
   ]
  },
  {
   "cell_type": "code",
   "execution_count": 17,
   "metadata": {},
   "outputs": [],
   "source": [
    "# Save the insect dataframe to a csv file\n",
    "insect.to_csv(\"data/insect/insect.csv\", index=False)"
   ]
  },
  {
   "cell_type": "markdown",
   "metadata": {},
   "source": [
    "# II. Classification des insectes (ITIS)\n",
    "\n",
    "La classification ci-dessous est réalisée à l'aide de la **base de donnée de ITIS**. ITIS (Integrated Taxonomic Information System) est un programme dont l'objectif est de rassembler des données taxonomiques sur les plantes, les animaux, les champignons et autres micro-organismes.\n",
    "\n",
    "Elle n'a **pas renvoyé de résultats assez satisfaisants** : sur les 527 valeurs uniques existantes dans la colonne *insecte_sc* du dataset spipoll (\"autres\" n'avaient pas été corrigé), seules 272 étaient identifiées. On ne pouvait donc pas obtenir la classification d'une moitié d'entre elles environ.\n",
    "\n",
    "Une autre base de données a donc été utilisée pour réaliser la classification : celle du **NCBI**.\n",
    "\n",
    "Ce notebook sera conservé pour les pré-traitements apportés au dataset initial nous permettant d'obtenir le document *insect.csv*. Il sera réutilisé dans le prochain notebook *insect_classification_ncbi.ipynb*."
   ]
  },
  {
   "cell_type": "code",
   "execution_count": 18,
   "metadata": {},
   "outputs": [],
   "source": [
    "# # Chargement du jeu de données\n",
    "# df = pd.read_csv('data/insect/insect.csv')"
   ]
  },
  {
   "cell_type": "code",
   "execution_count": 19,
   "metadata": {},
   "outputs": [],
   "source": [
    "# # Identification des espèces non présentes dans les databases de pytaxize\n",
    "# unknown = classification_functions.find_unknown(df, 'insecte_sc')"
   ]
  },
  {
   "cell_type": "code",
   "execution_count": 20,
   "metadata": {},
   "outputs": [],
   "source": [
    "# # Enregistrement des espèces inconnues\n",
    "# unknown_df = pd.DataFrame(unknown, columns=['Unknown'])\n",
    "# unknown_df.to_csv('data/insect/insects_unknown.csv', index=False)"
   ]
  },
  {
   "cell_type": "code",
   "execution_count": 21,
   "metadata": {},
   "outputs": [],
   "source": [
    "# unknown = pd.read_csv('data/insect/insects_unknown.csv')\n",
    "# unknown = unknown['Unknown'].tolist()\n",
    "# unknown[:10]"
   ]
  },
  {
   "cell_type": "code",
   "execution_count": 22,
   "metadata": {},
   "outputs": [],
   "source": [
    "# # Suppression des lignes contenant des noms non retrouvés \n",
    "# df = df[~df['insecte_sc'].isin(unknown)]\n",
    "# len(df) # 309"
   ]
  },
  {
   "cell_type": "code",
   "execution_count": 23,
   "metadata": {},
   "outputs": [],
   "source": [
    "# # Remplacement de certaines valeurs qui bloquent\n",
    "# # Après avoir fait tourné le bloc ci-dessous\n",
    "# df = df.replace('Stelis, Heriades', 'Heriades')\n",
    "# df = df.replace('Ammophila, Hoplammophila', 'Hoplammophila')\n",
    "# df = df.replace('Allantus, Macrophya et autres', 'Allantus')\n",
    "# df = df.replace('Tibellus, Paratibellus', 'Tibellus')\n",
    "# df = df.replace('Tenthredo, Rhogogaster', 'Tenthredo')\n",
    "# df = df.replace('Nomioides, Celhalictus', 'Nomioides')"
   ]
  },
  {
   "cell_type": "code",
   "execution_count": 24,
   "metadata": {},
   "outputs": [],
   "source": [
    "# len(df['insecte_sc'].unique()) # 275    "
   ]
  },
  {
   "cell_type": "code",
   "execution_count": 25,
   "metadata": {},
   "outputs": [],
   "source": [
    "# classif = classification_functions.get_classification_df(df, 'insecte_sc')"
   ]
  },
  {
   "cell_type": "code",
   "execution_count": 26,
   "metadata": {},
   "outputs": [],
   "source": [
    "# # Création des colonnes Ordre, Super famille, Famille, Sous famille, Genre, Espèce\n",
    "# df['classification'] = df['insecte_sc'].apply(lambda x: classif[x] if x in classif else None)\n",
    "\n",
    "# df['Ordre'] = df['classification'].apply(lambda x: x['Ordre'] if isinstance(x, dict) and 'Ordre' in x else None)\n",
    "# df['Super famille'] = df['classification'].apply(lambda x: x['Super famille'] if isinstance(x, dict) and 'Super famille' in x else None)\n",
    "# df['Famille'] = df['classification'].apply(lambda x: x['Famille'] if isinstance(x, dict) and 'Famille' in x else None)\n",
    "# df['Sous famille'] = df['classification'].apply(lambda x: x['Sous famille'] if isinstance(x, dict) and 'Sous famille' in x else None)\n",
    "# df['Genre'] = df['classification'].apply(lambda x: x['Genre'] if isinstance(x, dict) and 'Genre' in x else None)\n",
    "# df['Espèce'] = df['classification'].apply(lambda x: x['Espèce'] if isinstance(x, dict) and 'Espèce' in x else None)\n",
    "\n",
    "# df.head(30)"
   ]
  },
  {
   "cell_type": "code",
   "execution_count": 27,
   "metadata": {},
   "outputs": [],
   "source": [
    "# # Enregistrement du nouveau dataframe\n",
    "# df = df.rename(columns={'x': 'Insecte'})\n",
    "# df_classif = df[['Insecte', 'Ordre', 'Super famille', 'Famille', 'Sous famille', 'Genre', 'Espèce']]\n",
    "# df_classif.to_csv('data_insects/insect_classification_without_pp.csv', index=False)\n",
    "# df_classif.head()"
   ]
  },
  {
   "cell_type": "markdown",
   "metadata": {},
   "source": [
    "# III. Classification des insectes (NCBI)"
   ]
  },
  {
   "cell_type": "code",
   "execution_count": 52,
   "metadata": {},
   "outputs": [],
   "source": [
    "import os\n",
    "import pandas as pd\n",
    "import warnings\n",
    "from pytaxize.itis import hierarchy_full\n",
    "from pytaxize.refactor import Refactor\n",
    "from pytaxize import ncbi\n",
    "import matplotlib.pyplot as plt\n",
    "\n",
    "os.environ['ENTREZ_KEY'] = \"8c5e06834ba59d32554e4ee00d59a3a6e008\""
   ]
  },
  {
   "cell_type": "code",
   "execution_count": 29,
   "metadata": {},
   "outputs": [],
   "source": [
    "# Les fonctions ci-dessous devraient être accessibles directement avec pytaxize\n",
    "# Mais il y a des problèmes lors de l'importation\n",
    "# Les recopier ici résoud ce problème \n",
    "\n",
    "def hierarchy(ids):\n",
    "    \"\"\"\n",
    "    Get a full taxonomic hierarchy from NCBI\n",
    "\n",
    "    :param ids: one or more NCBI taxonomy ids\n",
    "\n",
    "    :note: Remember to set your Entrez API key as `ENTREZ_KEY`\n",
    "\n",
    "    :return: dict, named with ids given to `ids`, \n",
    "        where each value in the dict is a list of taxa, each\n",
    "        a dict with the fields ``ScientificName``, ``Rank``, and ``TaxId``\n",
    "\n",
    "    Usage::\n",
    "\n",
    "        from pytaxize import ncbi\n",
    "        ncbi.hierarchy(ids=9606)\n",
    "        ncbi.hierarchy(ids=[9606,55062,4231])\n",
    "    \"\"\"\n",
    "    toget = [\"ScientificName\", \"Rank\", \"TaxId\"]\n",
    "    key = os.environ.get(\"ENTREZ_KEY\")\n",
    "    if key is None:\n",
    "        raise Exception(\"ENTREZ_KEY is not defined\")\n",
    "    if not isinstance(ids, list):\n",
    "        ids = [ids]\n",
    "    idz = \",\".join([str(x) for x in ids])\n",
    "    args = {\"db\": \"taxonomy\", \"ID\": idz, \"api_key\": key}\n",
    "    res = _entrez(\"efetch\", args)\n",
    "    taxa = res.xpath(\"//TaxaSet/Taxon\")\n",
    "    out = []\n",
    "    for x in range(len(taxa)):\n",
    "        nodes = taxa[x].xpath(\".//LineageEx/Taxon\")\n",
    "        tmp = [\n",
    "            dict(zip(toget, [node.xpath(w)[0].text for w in toget])) for node in nodes\n",
    "        ]\n",
    "        tmp.append(dict(zip(toget, [taxa[x].xpath(w)[0].text for w in toget])))\n",
    "        out.append(tmp)\n",
    "    return dict(zip(ids, out))\n",
    "\n",
    "\n",
    "class Classification(object):\n",
    "    \"\"\"\n",
    "    Classification: Retrieve taxonomic hierarchy for taxonomic IDs\n",
    "\n",
    "    Usage::\n",
    "\n",
    "        from pytaxize import Classification\n",
    "        \n",
    "        # ITIS\n",
    "        ## one id\n",
    "        x = Classification(99208)\n",
    "        x\n",
    "        x.ids\n",
    "        res = x.itis()\n",
    "        res[99208]\n",
    "        \n",
    "        ## many ids - with one invalid id\n",
    "        x = Classification([99208, 129313, 9999999])\n",
    "        x\n",
    "        x.ids\n",
    "        res = x.itis()\n",
    "        res[99208]\n",
    "        res[129313]\n",
    "        res[9999999]\n",
    "\n",
    "        # NCBI\n",
    "        x = Classification(9606)\n",
    "        x\n",
    "        x.ids\n",
    "        x.ncbi()\n",
    "    \"\"\"\n",
    "\n",
    "    def __init__(self, ids):\n",
    "        if isinstance(ids, int):\n",
    "            ids = [ids]\n",
    "        self.ids = ids\n",
    "\n",
    "    def __repr__(self):\n",
    "        x = \"\"\"<%s>\\n\"\"\" % type(self).__name__\n",
    "        y = \"\"\"  ids: %s\"\"\" % \",\".join([str(w) for w in self.ids[:10]])\n",
    "        return x + y\n",
    "\n",
    "    def itis(self):\n",
    "        out = []\n",
    "        for i in range(len(self.ids)):\n",
    "            id = self.ids[i]\n",
    "            res = hierarchy_full(id)\n",
    "            if res[0] is None:\n",
    "                warnings.warn(\"No results for taxon '\" + str(id) + \"'\")\n",
    "                res = {}\n",
    "            out.append(res)\n",
    "        out = dict(zip(self.ids, out))\n",
    "        return out\n",
    "\n",
    "    def ncbi(self):\n",
    "        res = hierarchy(self.ids)\n",
    "        # out = []\n",
    "        # for i in range(len(self.ids)):\n",
    "        #     id = self.ids[i]\n",
    "            # if res[0] is None:\n",
    "            #     warnings.warn(\"No results for taxon '\" + str(id) + \"'\")\n",
    "            #     res = {}\n",
    "            # out.append(res)\n",
    "        # out = dict(zip(self.ids, out))\n",
    "        return res\n",
    "\n",
    "def _entrez(path=\"esearch\", args={}):\n",
    "    url = \"https://eutils.ncbi.nlm.nih.gov/entrez/eutils/%s.fcgi\" % path\n",
    "    tt = Refactor(url, args, request=\"get\").xml()\n",
    "    return tt"
   ]
  },
  {
   "cell_type": "markdown",
   "metadata": {},
   "source": [
    "## 1. Chargement des données"
   ]
  },
  {
   "cell_type": "code",
   "execution_count": 30,
   "metadata": {},
   "outputs": [],
   "source": [
    "df = pd.read_csv('data/insect/insect.csv')"
   ]
  },
  {
   "cell_type": "markdown",
   "metadata": {},
   "source": [
    "## 2. Classification des insectes"
   ]
  },
  {
   "cell_type": "code",
   "execution_count": 53,
   "metadata": {},
   "outputs": [
    {
     "name": "stdout",
     "output_type": "stream",
     "text": [
      "Une erreur s'est produite : 400 Client Error: Bad Request for url: https://eutils.ncbi.nlm.nih.gov/entrez/eutils/efetch.fcgi?db=taxonomy&ID=7460&api_key=8c5e06834ba59d32554e4ee00d59a3a6e008\n",
      "Une erreur s'est produite : 400 Client Error: Bad Request for url: https://eutils.ncbi.nlm.nih.gov/entrez/eutils/efetch.fcgi?db=taxonomy&ID=7148&api_key=8c5e06834ba59d32554e4ee00d59a3a6e008\n",
      "{'cicadelles, cercopes': []}\n",
      "Une erreur s'est produite : 400 Client Error: Bad Request for url: https://eutils.ncbi.nlm.nih.gov/entrez/eutils/efetch.fcgi?db=taxonomy&ID=94017&api_key=8c5e06834ba59d32554e4ee00d59a3a6e008\n",
      "Une erreur s'est produite : 400 Client Error: Bad Request for url: https://eutils.ncbi.nlm.nih.gov/entrez/eutils/efetch.fcgi?db=taxonomy&ID=7088&api_key=8c5e06834ba59d32554e4ee00d59a3a6e008\n",
      "Une erreur s'est produite : 400 Client Error: Bad Request for url: https://eutils.ncbi.nlm.nih.gov/entrez/eutils/efetch.fcgi?db=taxonomy&ID=116150&api_key=8c5e06834ba59d32554e4ee00d59a3a6e008\n",
      "{'Aglais io': []}\n",
      "Une erreur s'est produite : 400 Client Error: Bad Request for url: https://eutils.ncbi.nlm.nih.gov/entrez/eutils/efetch.fcgi?db=taxonomy&ID=219520&api_key=8c5e06834ba59d32554e4ee00d59a3a6e008\n",
      "Une erreur s'est produite : 400 Client Error: Bad Request for url: https://eutils.ncbi.nlm.nih.gov/entrez/eutils/efetch.fcgi?db=taxonomy&ID=36668&api_key=8c5e06834ba59d32554e4ee00d59a3a6e008\n",
      "Une erreur s'est produite : 400 Client Error: Bad Request for url: https://eutils.ncbi.nlm.nih.gov/entrez/eutils/efetch.fcgi?db=taxonomy&ID=265382&api_key=8c5e06834ba59d32554e4ee00d59a3a6e008\n",
      "Une erreur s'est produite : 400 Client Error: Bad Request for url: https://eutils.ncbi.nlm.nih.gov/entrez/eutils/efetch.fcgi?db=taxonomy&ID=115263&api_key=8c5e06834ba59d32554e4ee00d59a3a6e008\n",
      "Une erreur s'est produite : 400 Client Error: Bad Request for url: https://eutils.ncbi.nlm.nih.gov/entrez/eutils/efetch.fcgi?db=taxonomy&ID=227532&api_key=8c5e06834ba59d32554e4ee00d59a3a6e008\n",
      "Une erreur s'est produite : 400 Client Error: Bad Request for url: https://eutils.ncbi.nlm.nih.gov/entrez/eutils/efetch.fcgi?db=taxonomy&ID=50650&api_key=8c5e06834ba59d32554e4ee00d59a3a6e008\n",
      "Une erreur s'est produite : 400 Client Error: Bad Request for url: https://eutils.ncbi.nlm.nih.gov/entrez/eutils/efetch.fcgi?db=taxonomy&ID=703258&api_key=8c5e06834ba59d32554e4ee00d59a3a6e008\n",
      "{'Tibellus, Paratibellus': []}\n",
      "Une erreur s'est produite : 400 Client Error: Bad Request for url: https://eutils.ncbi.nlm.nih.gov/entrez/eutils/efetch.fcgi?db=taxonomy&ID=34750&api_key=8c5e06834ba59d32554e4ee00d59a3a6e008\n",
      "{'Dasytidae': []}\n",
      "Une erreur s'est produite : 400 Client Error: Bad Request for url: https://eutils.ncbi.nlm.nih.gov/entrez/eutils/efetch.fcgi?db=taxonomy&ID=347354&api_key=8c5e06834ba59d32554e4ee00d59a3a6e008\n",
      "Une erreur s'est produite : 400 Client Error: Bad Request for url: https://eutils.ncbi.nlm.nih.gov/entrez/eutils/efetch.fcgi?db=taxonomy&ID=85775&api_key=8c5e06834ba59d32554e4ee00d59a3a6e008\n",
      "{'Polyommatus, Plebeius': []}\n",
      "{'Nomioides, Celhalictus': []}\n",
      "{'Bibio hortulanus': []}\n",
      "Une erreur s'est produite : 400 Client Error: Bad Request for url: https://eutils.ncbi.nlm.nih.gov/entrez/eutils/efetch.fcgi?db=taxonomy&ID=1545268&api_key=8c5e06834ba59d32554e4ee00d59a3a6e008\n",
      "Une erreur s'est produite : 400 Client Error: Bad Request for url: https://eutils.ncbi.nlm.nih.gov/entrez/eutils/efetch.fcgi?db=taxonomy&ID=131573&api_key=8c5e06834ba59d32554e4ee00d59a3a6e008\n",
      "{'Opsilia coerulescens': []}\n",
      "{'Bombylella atra': []}\n",
      "Une erreur s'est produite : 400 Client Error: Bad Request for url: https://eutils.ncbi.nlm.nih.gov/entrez/eutils/efetch.fcgi?db=taxonomy&ID=1445688&api_key=8c5e06834ba59d32554e4ee00d59a3a6e008\n",
      "Une erreur s'est produite : 400 Client Error: Bad Request for url: https://eutils.ncbi.nlm.nih.gov/entrez/eutils/efetch.fcgi?db=taxonomy&ID=222800&api_key=8c5e06834ba59d32554e4ee00d59a3a6e008\n",
      "{'Glaphyra': []}\n",
      "Une erreur s'est produite : 400 Client Error: Bad Request for url: https://eutils.ncbi.nlm.nih.gov/entrez/eutils/efetch.fcgi?db=taxonomy&ID=1007708&api_key=8c5e06834ba59d32554e4ee00d59a3a6e008\n",
      "{'Hoplia coerulea': []}\n",
      "Une erreur s'est produite : 400 Client Error: Bad Request for url: https://eutils.ncbi.nlm.nih.gov/entrez/eutils/efetch.fcgi?db=taxonomy&ID=268452&api_key=8c5e06834ba59d32554e4ee00d59a3a6e008\n",
      "Une erreur s'est produite : 400 Client Error: Bad Request for url: https://eutils.ncbi.nlm.nih.gov/entrez/eutils/efetch.fcgi?db=taxonomy&ID=1871468&api_key=8c5e06834ba59d32554e4ee00d59a3a6e008\n",
      "Une erreur s'est produite : 400 Client Error: Bad Request for url: https://eutils.ncbi.nlm.nih.gov/entrez/eutils/efetch.fcgi?db=taxonomy&ID=253855&api_key=8c5e06834ba59d32554e4ee00d59a3a6e008\n",
      "Une erreur s'est produite : (\"Connection broken: InvalidChunkLength(got length b'', 0 bytes read)\", InvalidChunkLength(got length b'', 0 bytes read))\n",
      "{'Hemipenthes maura': []}\n",
      "Une erreur s'est produite : 400 Client Error: Bad Request for url: https://eutils.ncbi.nlm.nih.gov/entrez/eutils/efetch.fcgi?db=taxonomy&ID=295985&api_key=8c5e06834ba59d32554e4ee00d59a3a6e008\n",
      "{'Hemipenthes velutina': []}\n",
      "Une erreur s'est produite : 400 Client Error: Bad Request for url: https://eutils.ncbi.nlm.nih.gov/entrez/eutils/efetch.fcgi?db=taxonomy&ID=1141323&api_key=8c5e06834ba59d32554e4ee00d59a3a6e008\n",
      "Une erreur s'est produite : 400 Client Error: Bad Request for url: https://eutils.ncbi.nlm.nih.gov/entrez/eutils/efetch.fcgi?db=taxonomy&ID=214137&api_key=8c5e06834ba59d32554e4ee00d59a3a6e008\n",
      "Une erreur s'est produite : 400 Client Error: Bad Request for url: https://eutils.ncbi.nlm.nih.gov/entrez/eutils/efetch.fcgi?db=taxonomy&ID=336574&api_key=8c5e06834ba59d32554e4ee00d59a3a6e008\n",
      "Une erreur s'est produite : 400 Client Error: Bad Request for url: https://eutils.ncbi.nlm.nih.gov/entrez/eutils/efetch.fcgi?db=taxonomy&ID=1545298&api_key=8c5e06834ba59d32554e4ee00d59a3a6e008\n",
      "Une erreur s'est produite : (\"Connection broken: InvalidChunkLength(got length b'', 0 bytes read)\", InvalidChunkLength(got length b'', 0 bytes read))\n",
      "Une erreur s'est produite : 400 Client Error: Bad Request for url: https://eutils.ncbi.nlm.nih.gov/entrez/eutils/efetch.fcgi?db=taxonomy&ID=679100&api_key=8c5e06834ba59d32554e4ee00d59a3a6e008\n",
      "Une erreur s'est produite : 400 Client Error: Bad Request for url: https://eutils.ncbi.nlm.nih.gov/entrez/eutils/efetch.fcgi?db=taxonomy&ID=1660689&api_key=8c5e06834ba59d32554e4ee00d59a3a6e008\n",
      "{'Usia': []}\n",
      "{'Vadonia unipunctata': []}\n",
      "{'Chlorophorus pilosus': []}\n",
      "Une erreur s'est produite : 400 Client Error: Bad Request for url: https://eutils.ncbi.nlm.nih.gov/entrez/eutils/efetch.fcgi?db=taxonomy&ID=116135&api_key=8c5e06834ba59d32554e4ee00d59a3a6e008\n",
      "Une erreur s'est produite : 400 Client Error: Bad Request for url: https://eutils.ncbi.nlm.nih.gov/entrez/eutils/efetch.fcgi?db=taxonomy&ID=644661&api_key=8c5e06834ba59d32554e4ee00d59a3a6e008\n",
      "{'Eclimus gracilis': []}\n",
      "{'Oberea erythrocephala': []}\n"
     ]
    }
   ],
   "source": [
    "dictionary = {}\n",
    "insect_unknown = []\n",
    "\n",
    "def classification(insects_names):\n",
    "    \n",
    "    insect_error = []\n",
    "            \n",
    "    for insect in insects_names:\n",
    "        \n",
    "        # Cleaning of insects names\n",
    "        insect_process = insect.replace(' et autres', '')          # on passe de 31 really unknown\n",
    "        insect_process = insect_process.replace('plusieurs ', '')  # à ... avec ces deux commandes\n",
    "        \n",
    "        # Search if the insect is present in the ncbi database \n",
    "        search = ncbi.search(sci_com = insect_process)\n",
    "        \n",
    "        # If it is not present we put it in a list for ulterior treatment\n",
    "        if len(search[insect_process]) == 0:\n",
    "            insect_unknown.append(insect)\n",
    "            print(search)\n",
    "        \n",
    "        # If it is present we search is classification\n",
    "        else: \n",
    "            # Find the insect ID and have its classification\n",
    "            id = int(search[insect_process][0]['TaxId'])\n",
    "            x = Classification(id)\n",
    "            x.ids\n",
    "            try:\n",
    "                classif = x.ncbi()\n",
    "            except Exception as e:\n",
    "                print(\"Une erreur s'est produite :\", e)\n",
    "                insect_error.append(insect)\n",
    "            else:\n",
    "                # Define the ranks we are interested in\n",
    "                ranks = {'order': 'Ordre',\n",
    "                        'superfamily': 'Super famille',\n",
    "                        'family': 'Famille',\n",
    "                        'subfamily': 'Sous famille',\n",
    "                        'genus': 'Genre',\n",
    "                        'species': 'Espèce'}\n",
    "                # Extract the scientific names based on the rank\n",
    "                names = {}\n",
    "                for item in classif[id]:\n",
    "                    if item['Rank'] in ranks.keys():\n",
    "                        names[ranks[item['Rank']]] = item['ScientificName']\n",
    "                dictionary[insect] = names\n",
    "    return insect_error\n",
    "\n",
    "insect_error = classification(df['insecte_sc'].unique())"
   ]
  },
  {
   "cell_type": "markdown",
   "metadata": {},
   "source": [
    "### A. Traitement des valeurs ayant renvoyées des erreurs\n",
    "\n",
    "Il est courant pour pytaxize de renvoyer une erreur (*Bad Request for url*). La même requête répétée permet en général d'obtenir la réponse attendue."
   ]
  },
  {
   "cell_type": "code",
   "execution_count": 56,
   "metadata": {},
   "outputs": [
    {
     "data": {
      "text/plain": [
       "['Apis mellifera',\n",
       " 'Nematocera',\n",
       " 'Salticidae',\n",
       " 'Lepidoptera',\n",
       " 'Pararge aegeria',\n",
       " 'Stratiomys',\n",
       " 'Formicidae',\n",
       " 'Polyommatus et autres',\n",
       " 'Conopidae',\n",
       " 'Anthocharis cardamines',\n",
       " 'Lygus lineolaris',\n",
       " 'Trichodes alvearius',\n",
       " 'Meloe',\n",
       " 'Grammoptera et autres',\n",
       " 'Cimbicidae',\n",
       " 'Tropidothorax leucopterus',\n",
       " 'Acmaeops et autres',\n",
       " 'Trichodes leucopsideus',\n",
       " 'Megalodontes',\n",
       " 'Pseudopanthera macularia',\n",
       " 'Mylabris et autres',\n",
       " 'Graphosoma semipunctatum',\n",
       " 'Sceliphron caementarium',\n",
       " 'Maculinea',\n",
       " 'Pyrochroa coccinea',\n",
       " 'Abia fasciata',\n",
       " 'Eupithecia et autres',\n",
       " 'Thanatus',\n",
       " 'Chorosoma schillingii',\n",
       " 'Conophorus',\n",
       " 'Melanargia occitanica',\n",
       " 'Setina aurita',\n",
       " 'Quercusia quercus',\n",
       " 'Deilephila porcellus']"
      ]
     },
     "execution_count": 56,
     "metadata": {},
     "output_type": "execute_result"
    }
   ],
   "source": [
    "insect_error"
   ]
  },
  {
   "cell_type": "code",
   "execution_count": 59,
   "metadata": {},
   "outputs": [
    {
     "name": "stdout",
     "output_type": "stream",
     "text": [
      "[]\n"
     ]
    }
   ],
   "source": [
    "while len(insect_error) > 0:\n",
    "    insect_error = classification(insect_error)\n",
    "    print(insect_error)"
   ]
  },
  {
   "cell_type": "code",
   "execution_count": 60,
   "metadata": {},
   "outputs": [
    {
     "name": "stdout",
     "output_type": "stream",
     "text": [
      "509\n",
      "18\n",
      "527\n"
     ]
    }
   ],
   "source": [
    "print(len(dictionary))\n",
    "print(len(insect_unknown)) # 2 times Dasytidae\n",
    "print(len(df['insecte_sc'].unique()))"
   ]
  },
  {
   "cell_type": "markdown",
   "metadata": {},
   "source": [
    "### B. Traitement des valeurs inconnues\n",
    "\n",
    "Il y a peu de valeurs inconnues (18) en utilisant la base de donnée du NCBI plutôt que celle de ITIS.\n",
    "\n",
    "Nous n'avons cependant plus aucun moyen d'obtenir la classification de ces insectes de manière automatique. \n",
    "\n",
    "Nous pouvons essayer d'obtenir leur classification par une revue de la littérature ([site de l'INPN](https://inpn.mnhn.fr/accueil/recherche-de-donnees/especes/), Inventaire National du Patrimoine Naturel), mais ce n'est pas idéal."
   ]
  },
  {
   "cell_type": "code",
   "execution_count": 61,
   "metadata": {},
   "outputs": [
    {
     "data": {
      "text/plain": [
       "['cicadelles, cercopes et autres',\n",
       " 'Aglais io',\n",
       " 'Tibellus, Paratibellus',\n",
       " 'plusieurs Dasytidae',\n",
       " 'Polyommatus, Plebeius et autres',\n",
       " 'Nomioides, Celhalictus',\n",
       " 'Bibio hortulanus',\n",
       " 'Opsilia coerulescens',\n",
       " 'Bombylella atra',\n",
       " 'Glaphyra et autres',\n",
       " 'Hoplia coerulea',\n",
       " 'Hemipenthes maura',\n",
       " 'Hemipenthes velutina',\n",
       " 'Usia',\n",
       " 'Vadonia unipunctata',\n",
       " 'Chlorophorus pilosus',\n",
       " 'Eclimus gracilis',\n",
       " 'Oberea erythrocephala']"
      ]
     },
     "execution_count": 61,
     "metadata": {},
     "output_type": "execute_result"
    }
   ],
   "source": [
    "insect_unknown"
   ]
  },
  {
   "cell_type": "code",
   "execution_count": 63,
   "metadata": {},
   "outputs": [],
   "source": [
    "dictionary['cicadelles, cercopes et autres'] = {'Ordre': 'Hemiptera'}\n",
    "dictionary['Aglais io'] = {'Ordre': 'Lepidoptera', 'Super famille': 'Papilionoidea', 'Famille': 'Nymphalidae', 'Sous famille': 'Nymphalinae', 'Genre': 'Aglais', 'Espèce': 'Aglais io'}\n",
    "dictionary['Tibellus, Paratibellus'] = {'Ordre': 'Araneae', 'Super famille': 'Araneoidea', 'Famille': 'Philodromidae'}\n",
    "dictionary['plusieurs Dasytidae'] = {'Ordre': 'Coleoptera', 'Super famille': 'Cleroidea', 'Famille': 'Melyridae'}\n",
    "dictionary['Polyommatus, Plebeius et autres'] = {'Ordre': 'Lepidoptera', 'Super famille': 'Papilionoidea', 'Famille': 'Lycaenidae'}\n",
    "dictionary['Nomioides, Celhalictus'] = {'Ordre': 'Hymenoptera', 'Super famille': 'Apoidea', 'Famille': 'Halictidae'}\n",
    "dictionary['Bibio hortulanus'] = {'Ordre': 'Diptera', 'Super famille': 'Bibionoidea', 'Famille': 'Bibionidae', 'Sous famille': 'Bibioninae', 'Genre': 'Bibio', 'Espèce': 'Bibio hortulanus'}\n",
    "dictionary['Opsilia coerulescens'] = {'Ordre': 'Coleoptera', 'Super famille': 'Chrysomeloidea', 'Famille': 'Cerambycidae', 'Sous famille': 'Lamiinae', 'Genre': 'Opsilia', 'Espèce': 'Opsilia coerulescens'}\n",
    "dictionary['Bombylella atra'] = {'Ordre': 'Diptera', 'Super famille': 'Asiloidea', 'Famille': 'Bombyliidae', 'Genre': 'Bombylella', 'Espèce': 'Bombylella atra'}\n",
    "dictionary['Glaphyra et autres'] = {'Ordre': 'Coleoptera', 'Super famille': 'Chrysomeloidea', 'Famille': 'Cerambycidae', 'Sous famille': 'Cerambycinae', 'Genre': 'Glaphyra'}\n",
    "dictionary['Hoplia coerulea'] = {'Ordre': 'Coleoptera', 'Super famille': 'Scarabaeoidea', 'Famille': 'Scarabaeidea', 'Sous famille': 'Melolonthinae','Genre': 'Hoplia', 'Espèce': 'Hoplia coerulea'}\n",
    "dictionary['Hemipenthes maura'] = {'Ordre': 'Diptera', 'Super famille': 'Asiloidea', 'Famille': 'Bombyliidae', 'Genre': 'Hemipenthes', 'Espèce': 'Hemipenthes maura'}\n",
    "dictionary['Hemipenthes velutina'] = {'Ordre': 'Diptera', 'Super famille': 'Asiloidea', 'Famille': 'Bombyliidae', 'Genre': 'Hemipenthes', 'Espèce': 'Hemipenthes velutina'}\n",
    "dictionary['Usia'] = {'Ordre': 'Diptera', 'Super famille': 'Asiloidea', 'Famille': 'Bombyliidae', 'Genre': 'Usia'}\n",
    "dictionary['Vadonia unipunctata'] = {'Ordre': 'Coleoptera', 'Super famille': 'Chrysomeloidea', 'Famille': 'Cerambycidae', 'Sous famille': 'Lepturinae', 'Genre': 'Vadonia', 'Espèce': 'Vadonia unipunctata'}\n",
    "dictionary['Chlorophorus pilosus'] = {'Ordre': 'Coleoptera', 'Super famille': 'Chrysomeloidea', 'Famille': 'Cerambycidae', 'Sous famille': 'Cerambycinae', 'Genre': 'Chlorophorus', 'Espèce': 'Chlorophorus pilosus'}\n",
    "dictionary['Eclimus gracilis'] = {'Ordre': 'Diptera', 'Super famille': 'Asiloidea', 'Famille': 'Bombyliidae', 'Genre': 'Eclimus', 'Espèce': 'Eclimus gracilis'}\n",
    "dictionary['Oberea erythrocephala'] = {'Ordre': 'Coleoptera', 'Super famille': 'Chrysomeloidea', 'Famille': 'Cerambycidae', 'Sous famille': 'Lamiinae', 'Genre': 'Oberea', 'Espèce': 'Oberea erythrocephala'}"
   ]
  },
  {
   "cell_type": "code",
   "execution_count": 64,
   "metadata": {},
   "outputs": [
    {
     "name": "stdout",
     "output_type": "stream",
     "text": [
      "527\n",
      "527\n"
     ]
    }
   ],
   "source": [
    "print(len(dictionary))\n",
    "print(len(df['insecte_sc'].unique()))"
   ]
  },
  {
   "cell_type": "markdown",
   "metadata": {},
   "source": [
    "## 3. Enregistrement de la classification de chaque valeur unique de insecte_sc"
   ]
  },
  {
   "cell_type": "code",
   "execution_count": 65,
   "metadata": {},
   "outputs": [],
   "source": [
    "with pd.option_context('mode.chained_assignment', None):\n",
    "    # Création des colonnes Ordre, Super famille, Famille, Sous famille, Genre, Espèce\n",
    "    df['classification'] = df['insecte_sc'].apply(lambda x: dictionary[x] if x in dictionary else None)\n",
    "\n",
    "    df['Ordre'] = df['classification'].apply(lambda x: x['Ordre'] if isinstance(x, dict) and 'Ordre' in x else None)\n",
    "    df['Super famille'] = df['classification'].apply(lambda x: x['Super famille'] if isinstance(x, dict) and 'Super famille' in x else None)\n",
    "    df['Famille'] = df['classification'].apply(lambda x: x['Famille'] if isinstance(x, dict) and 'Famille' in x else None)\n",
    "    df['Sous famille'] = df['classification'].apply(lambda x: x['Sous famille'] if isinstance(x, dict) and 'Sous famille' in x else None)\n",
    "    df['Genre'] = df['classification'].apply(lambda x: x['Genre'] if isinstance(x, dict) and 'Genre' in x else None)\n",
    "    df['Espèce'] = df['classification'].apply(lambda x: x['Espèce'] if isinstance(x, dict) and 'Espèce' in x else None)\n",
    "\n",
    "    df.drop(columns=['classification'], inplace=True)"
   ]
  },
  {
   "cell_type": "code",
   "execution_count": 66,
   "metadata": {},
   "outputs": [
    {
     "data": {
      "text/html": [
       "<div>\n",
       "<style scoped>\n",
       "    .dataframe tbody tr th:only-of-type {\n",
       "        vertical-align: middle;\n",
       "    }\n",
       "\n",
       "    .dataframe tbody tr th {\n",
       "        vertical-align: top;\n",
       "    }\n",
       "\n",
       "    .dataframe thead th {\n",
       "        text-align: right;\n",
       "    }\n",
       "</style>\n",
       "<table border=\"1\" class=\"dataframe\">\n",
       "  <thead>\n",
       "    <tr style=\"text-align: right;\">\n",
       "      <th></th>\n",
       "      <th>insecte_sc</th>\n",
       "      <th>insecte_fr</th>\n",
       "      <th>Ordre</th>\n",
       "      <th>Super famille</th>\n",
       "      <th>Famille</th>\n",
       "      <th>Sous famille</th>\n",
       "      <th>Genre</th>\n",
       "      <th>Espèce</th>\n",
       "    </tr>\n",
       "  </thead>\n",
       "  <tbody>\n",
       "    <tr>\n",
       "      <th>0</th>\n",
       "      <td>Apis mellifera</td>\n",
       "      <td>L'Abeille mellifère</td>\n",
       "      <td>Hymenoptera</td>\n",
       "      <td>Apoidea</td>\n",
       "      <td>Apidae</td>\n",
       "      <td>Apinae</td>\n",
       "      <td>Apis</td>\n",
       "      <td>Apis mellifera</td>\n",
       "    </tr>\n",
       "    <tr>\n",
       "      <th>1</th>\n",
       "      <td>Bombus</td>\n",
       "      <td>Les Bourdons noirs à bande(s) jaune(s) et cul ...</td>\n",
       "      <td>Hymenoptera</td>\n",
       "      <td>Apoidea</td>\n",
       "      <td>Apidae</td>\n",
       "      <td>Apinae</td>\n",
       "      <td>Bombus</td>\n",
       "      <td>None</td>\n",
       "    </tr>\n",
       "    <tr>\n",
       "      <th>2</th>\n",
       "      <td>Sarcophaga</td>\n",
       "      <td>Les Mouches à damier</td>\n",
       "      <td>Diptera</td>\n",
       "      <td>Oestroidea</td>\n",
       "      <td>Sarcophagidae</td>\n",
       "      <td>Sarcophaginae</td>\n",
       "      <td>Sarcophaga</td>\n",
       "      <td>None</td>\n",
       "    </tr>\n",
       "    <tr>\n",
       "      <th>3</th>\n",
       "      <td>Tettigonioidea</td>\n",
       "      <td>Les Sauterelles</td>\n",
       "      <td>Orthoptera</td>\n",
       "      <td>Tettigonioidea</td>\n",
       "      <td>None</td>\n",
       "      <td>None</td>\n",
       "      <td>None</td>\n",
       "      <td>None</td>\n",
       "    </tr>\n",
       "    <tr>\n",
       "      <th>4</th>\n",
       "      <td>Neomyia, Calliphora et autres</td>\n",
       "      <td>Les Mouches aux reflets métalliques</td>\n",
       "      <td>Diptera</td>\n",
       "      <td>Oestroidea</td>\n",
       "      <td>Calliphoridae</td>\n",
       "      <td>Calliphorinae</td>\n",
       "      <td>Calliphora</td>\n",
       "      <td>None</td>\n",
       "    </tr>\n",
       "    <tr>\n",
       "      <th>5</th>\n",
       "      <td>Diptera</td>\n",
       "      <td>Les Mouches difficiles à déterminer</td>\n",
       "      <td>Diptera</td>\n",
       "      <td>None</td>\n",
       "      <td>None</td>\n",
       "      <td>None</td>\n",
       "      <td>None</td>\n",
       "      <td>None</td>\n",
       "    </tr>\n",
       "    <tr>\n",
       "      <th>6</th>\n",
       "      <td>Tephritidae et autres</td>\n",
       "      <td>Les Téphritides et autres</td>\n",
       "      <td>Diptera</td>\n",
       "      <td>Tephritoidea</td>\n",
       "      <td>Tephritidae</td>\n",
       "      <td>None</td>\n",
       "      <td>None</td>\n",
       "      <td>None</td>\n",
       "    </tr>\n",
       "    <tr>\n",
       "      <th>7</th>\n",
       "      <td>Eupeodes, Scaeva</td>\n",
       "      <td>Les Syrphes à taches en virgules</td>\n",
       "      <td>Diptera</td>\n",
       "      <td>Syrphoidea</td>\n",
       "      <td>Syrphidae</td>\n",
       "      <td>Syrphinae</td>\n",
       "      <td>Scaeva</td>\n",
       "      <td>None</td>\n",
       "    </tr>\n",
       "    <tr>\n",
       "      <th>8</th>\n",
       "      <td>Episyrphus balteatus</td>\n",
       "      <td>Le Syrphe ceinturé</td>\n",
       "      <td>Diptera</td>\n",
       "      <td>Syrphoidea</td>\n",
       "      <td>Syrphidae</td>\n",
       "      <td>Syrphinae</td>\n",
       "      <td>Episyrphus</td>\n",
       "      <td>Episyrphus balteatus</td>\n",
       "    </tr>\n",
       "    <tr>\n",
       "      <th>9</th>\n",
       "      <td>Meliscaeva et autres</td>\n",
       "      <td>Les Syrphes à abdomen fin</td>\n",
       "      <td>Diptera</td>\n",
       "      <td>Syrphoidea</td>\n",
       "      <td>Syrphidae</td>\n",
       "      <td>Syrphinae</td>\n",
       "      <td>Meliscaeva</td>\n",
       "      <td>None</td>\n",
       "    </tr>\n",
       "  </tbody>\n",
       "</table>\n",
       "</div>"
      ],
      "text/plain": [
       "                      insecte_sc  \\\n",
       "0                 Apis mellifera   \n",
       "1                         Bombus   \n",
       "2                     Sarcophaga   \n",
       "3                 Tettigonioidea   \n",
       "4  Neomyia, Calliphora et autres   \n",
       "5                        Diptera   \n",
       "6          Tephritidae et autres   \n",
       "7               Eupeodes, Scaeva   \n",
       "8           Episyrphus balteatus   \n",
       "9           Meliscaeva et autres   \n",
       "\n",
       "                                          insecte_fr        Ordre  \\\n",
       "0                                L'Abeille mellifère  Hymenoptera   \n",
       "1  Les Bourdons noirs à bande(s) jaune(s) et cul ...  Hymenoptera   \n",
       "2                               Les Mouches à damier      Diptera   \n",
       "3                                    Les Sauterelles   Orthoptera   \n",
       "4                Les Mouches aux reflets métalliques      Diptera   \n",
       "5                Les Mouches difficiles à déterminer      Diptera   \n",
       "6                          Les Téphritides et autres      Diptera   \n",
       "7                   Les Syrphes à taches en virgules      Diptera   \n",
       "8                                 Le Syrphe ceinturé      Diptera   \n",
       "9                          Les Syrphes à abdomen fin      Diptera   \n",
       "\n",
       "    Super famille        Famille   Sous famille       Genre  \\\n",
       "0         Apoidea         Apidae         Apinae        Apis   \n",
       "1         Apoidea         Apidae         Apinae      Bombus   \n",
       "2      Oestroidea  Sarcophagidae  Sarcophaginae  Sarcophaga   \n",
       "3  Tettigonioidea           None           None        None   \n",
       "4      Oestroidea  Calliphoridae  Calliphorinae  Calliphora   \n",
       "5            None           None           None        None   \n",
       "6    Tephritoidea    Tephritidae           None        None   \n",
       "7      Syrphoidea      Syrphidae      Syrphinae      Scaeva   \n",
       "8      Syrphoidea      Syrphidae      Syrphinae  Episyrphus   \n",
       "9      Syrphoidea      Syrphidae      Syrphinae  Meliscaeva   \n",
       "\n",
       "                 Espèce  \n",
       "0        Apis mellifera  \n",
       "1                  None  \n",
       "2                  None  \n",
       "3                  None  \n",
       "4                  None  \n",
       "5                  None  \n",
       "6                  None  \n",
       "7                  None  \n",
       "8  Episyrphus balteatus  \n",
       "9                  None  "
      ]
     },
     "execution_count": 66,
     "metadata": {},
     "output_type": "execute_result"
    }
   ],
   "source": [
    "df.head(10)"
   ]
  },
  {
   "cell_type": "code",
   "execution_count": 67,
   "metadata": {},
   "outputs": [],
   "source": [
    "df.to_csv('data/insect/insect_classif_unique.csv', index=False)"
   ]
  },
  {
   "cell_type": "markdown",
   "metadata": {},
   "source": [
    "## 4. Enregistrement de la classification de toutes les lignes "
   ]
  },
  {
   "cell_type": "code",
   "execution_count": 68,
   "metadata": {},
   "outputs": [],
   "source": [
    "df_unique = pd.read_csv('data/insect/insect_classif_unique.csv')"
   ]
  },
  {
   "cell_type": "code",
   "execution_count": 69,
   "metadata": {},
   "outputs": [
    {
     "data": {
      "text/plain": [
       "(670744, 3)"
      ]
     },
     "execution_count": 69,
     "metadata": {},
     "output_type": "execute_result"
    }
   ],
   "source": [
    "# Import spipoll.csv as a pandas dataframe\n",
    "spipoll = pd.read_csv(\"data/spipoll.csv\", low_memory=False)\n",
    "\n",
    "# Extract relevant columns from the spipoll dataframe\n",
    "df_collection = spipoll[['collection_id', 'insecte_sc', 'insecte_fr']]\n",
    "df_collection.shape # (670744, 3)"
   ]
  },
  {
   "cell_type": "code",
   "execution_count": 70,
   "metadata": {},
   "outputs": [
    {
     "data": {
      "text/plain": [
       "(670744, 10)"
      ]
     },
     "execution_count": 70,
     "metadata": {},
     "output_type": "execute_result"
    }
   ],
   "source": [
    "merged_df = pd.merge(df_collection, df_unique, on='insecte_fr', how='left')\n",
    "merged_df.shape # (670744, 9)"
   ]
  },
  {
   "cell_type": "code",
   "execution_count": 71,
   "metadata": {},
   "outputs": [
    {
     "data": {
      "text/html": [
       "<div>\n",
       "<style scoped>\n",
       "    .dataframe tbody tr th:only-of-type {\n",
       "        vertical-align: middle;\n",
       "    }\n",
       "\n",
       "    .dataframe tbody tr th {\n",
       "        vertical-align: top;\n",
       "    }\n",
       "\n",
       "    .dataframe thead th {\n",
       "        text-align: right;\n",
       "    }\n",
       "</style>\n",
       "<table border=\"1\" class=\"dataframe\">\n",
       "  <thead>\n",
       "    <tr style=\"text-align: right;\">\n",
       "      <th></th>\n",
       "      <th>collection_id</th>\n",
       "      <th>insecte_sc_x</th>\n",
       "      <th>insecte_fr</th>\n",
       "      <th>insecte_sc_y</th>\n",
       "      <th>Ordre</th>\n",
       "      <th>Super famille</th>\n",
       "      <th>Famille</th>\n",
       "      <th>Sous famille</th>\n",
       "      <th>Genre</th>\n",
       "      <th>Espèce</th>\n",
       "    </tr>\n",
       "  </thead>\n",
       "  <tbody>\n",
       "    <tr>\n",
       "      <th>0</th>\n",
       "      <td>1</td>\n",
       "      <td>Apis mellifera</td>\n",
       "      <td>L'Abeille mellifère</td>\n",
       "      <td>Apis mellifera</td>\n",
       "      <td>Hymenoptera</td>\n",
       "      <td>Apoidea</td>\n",
       "      <td>Apidae</td>\n",
       "      <td>Apinae</td>\n",
       "      <td>Apis</td>\n",
       "      <td>Apis mellifera</td>\n",
       "    </tr>\n",
       "    <tr>\n",
       "      <th>1</th>\n",
       "      <td>1</td>\n",
       "      <td>Bombus</td>\n",
       "      <td>Les Bourdons noirs à bande(s) jaune(s) et cul ...</td>\n",
       "      <td>Bombus</td>\n",
       "      <td>Hymenoptera</td>\n",
       "      <td>Apoidea</td>\n",
       "      <td>Apidae</td>\n",
       "      <td>Apinae</td>\n",
       "      <td>Bombus</td>\n",
       "      <td>NaN</td>\n",
       "    </tr>\n",
       "    <tr>\n",
       "      <th>2</th>\n",
       "      <td>2</td>\n",
       "      <td>Bombus</td>\n",
       "      <td>Les Bourdons noirs à bande(s) jaune(s) et cul ...</td>\n",
       "      <td>Bombus</td>\n",
       "      <td>Hymenoptera</td>\n",
       "      <td>Apoidea</td>\n",
       "      <td>Apidae</td>\n",
       "      <td>Apinae</td>\n",
       "      <td>Bombus</td>\n",
       "      <td>NaN</td>\n",
       "    </tr>\n",
       "    <tr>\n",
       "      <th>3</th>\n",
       "      <td>2</td>\n",
       "      <td>Sarcophaga</td>\n",
       "      <td>Les Mouches à damier</td>\n",
       "      <td>Sarcophaga</td>\n",
       "      <td>Diptera</td>\n",
       "      <td>Oestroidea</td>\n",
       "      <td>Sarcophagidae</td>\n",
       "      <td>Sarcophaginae</td>\n",
       "      <td>Sarcophaga</td>\n",
       "      <td>NaN</td>\n",
       "    </tr>\n",
       "    <tr>\n",
       "      <th>4</th>\n",
       "      <td>2</td>\n",
       "      <td>Apis mellifera</td>\n",
       "      <td>L'Abeille mellifère</td>\n",
       "      <td>Apis mellifera</td>\n",
       "      <td>Hymenoptera</td>\n",
       "      <td>Apoidea</td>\n",
       "      <td>Apidae</td>\n",
       "      <td>Apinae</td>\n",
       "      <td>Apis</td>\n",
       "      <td>Apis mellifera</td>\n",
       "    </tr>\n",
       "    <tr>\n",
       "      <th>5</th>\n",
       "      <td>3</td>\n",
       "      <td>Tettigonoidea</td>\n",
       "      <td>Les Sauterelles</td>\n",
       "      <td>Tettigonioidea</td>\n",
       "      <td>Orthoptera</td>\n",
       "      <td>Tettigonioidea</td>\n",
       "      <td>NaN</td>\n",
       "      <td>NaN</td>\n",
       "      <td>NaN</td>\n",
       "      <td>NaN</td>\n",
       "    </tr>\n",
       "    <tr>\n",
       "      <th>6</th>\n",
       "      <td>4</td>\n",
       "      <td>Neomyia, Calliphora et autres</td>\n",
       "      <td>Les Mouches aux reflets métalliques</td>\n",
       "      <td>Neomyia, Calliphora et autres</td>\n",
       "      <td>Diptera</td>\n",
       "      <td>Oestroidea</td>\n",
       "      <td>Calliphoridae</td>\n",
       "      <td>Calliphorinae</td>\n",
       "      <td>Calliphora</td>\n",
       "      <td>NaN</td>\n",
       "    </tr>\n",
       "    <tr>\n",
       "      <th>7</th>\n",
       "      <td>4</td>\n",
       "      <td>NaN</td>\n",
       "      <td>Les Mouches difficiles à déterminer</td>\n",
       "      <td>Diptera</td>\n",
       "      <td>Diptera</td>\n",
       "      <td>NaN</td>\n",
       "      <td>NaN</td>\n",
       "      <td>NaN</td>\n",
       "      <td>NaN</td>\n",
       "      <td>NaN</td>\n",
       "    </tr>\n",
       "    <tr>\n",
       "      <th>8</th>\n",
       "      <td>4</td>\n",
       "      <td>Apis mellifera</td>\n",
       "      <td>L'Abeille mellifère</td>\n",
       "      <td>Apis mellifera</td>\n",
       "      <td>Hymenoptera</td>\n",
       "      <td>Apoidea</td>\n",
       "      <td>Apidae</td>\n",
       "      <td>Apinae</td>\n",
       "      <td>Apis</td>\n",
       "      <td>Apis mellifera</td>\n",
       "    </tr>\n",
       "    <tr>\n",
       "      <th>9</th>\n",
       "      <td>4</td>\n",
       "      <td>NaN</td>\n",
       "      <td>Les Mouches difficiles à déterminer</td>\n",
       "      <td>Diptera</td>\n",
       "      <td>Diptera</td>\n",
       "      <td>NaN</td>\n",
       "      <td>NaN</td>\n",
       "      <td>NaN</td>\n",
       "      <td>NaN</td>\n",
       "      <td>NaN</td>\n",
       "    </tr>\n",
       "  </tbody>\n",
       "</table>\n",
       "</div>"
      ],
      "text/plain": [
       "  collection_id                   insecte_sc_x  \\\n",
       "0             1                 Apis mellifera   \n",
       "1             1                         Bombus   \n",
       "2             2                         Bombus   \n",
       "3             2                     Sarcophaga   \n",
       "4             2                 Apis mellifera   \n",
       "5             3                  Tettigonoidea   \n",
       "6             4  Neomyia, Calliphora et autres   \n",
       "7             4                            NaN   \n",
       "8             4                 Apis mellifera   \n",
       "9             4                            NaN   \n",
       "\n",
       "                                          insecte_fr  \\\n",
       "0                                L'Abeille mellifère   \n",
       "1  Les Bourdons noirs à bande(s) jaune(s) et cul ...   \n",
       "2  Les Bourdons noirs à bande(s) jaune(s) et cul ...   \n",
       "3                               Les Mouches à damier   \n",
       "4                                L'Abeille mellifère   \n",
       "5                                    Les Sauterelles   \n",
       "6                Les Mouches aux reflets métalliques   \n",
       "7                Les Mouches difficiles à déterminer   \n",
       "8                                L'Abeille mellifère   \n",
       "9                Les Mouches difficiles à déterminer   \n",
       "\n",
       "                    insecte_sc_y        Ordre   Super famille        Famille  \\\n",
       "0                 Apis mellifera  Hymenoptera         Apoidea         Apidae   \n",
       "1                         Bombus  Hymenoptera         Apoidea         Apidae   \n",
       "2                         Bombus  Hymenoptera         Apoidea         Apidae   \n",
       "3                     Sarcophaga      Diptera      Oestroidea  Sarcophagidae   \n",
       "4                 Apis mellifera  Hymenoptera         Apoidea         Apidae   \n",
       "5                 Tettigonioidea   Orthoptera  Tettigonioidea            NaN   \n",
       "6  Neomyia, Calliphora et autres      Diptera      Oestroidea  Calliphoridae   \n",
       "7                        Diptera      Diptera             NaN            NaN   \n",
       "8                 Apis mellifera  Hymenoptera         Apoidea         Apidae   \n",
       "9                        Diptera      Diptera             NaN            NaN   \n",
       "\n",
       "    Sous famille       Genre          Espèce  \n",
       "0         Apinae        Apis  Apis mellifera  \n",
       "1         Apinae      Bombus             NaN  \n",
       "2         Apinae      Bombus             NaN  \n",
       "3  Sarcophaginae  Sarcophaga             NaN  \n",
       "4         Apinae        Apis  Apis mellifera  \n",
       "5            NaN         NaN             NaN  \n",
       "6  Calliphorinae  Calliphora             NaN  \n",
       "7            NaN         NaN             NaN  \n",
       "8         Apinae        Apis  Apis mellifera  \n",
       "9            NaN         NaN             NaN  "
      ]
     },
     "execution_count": 71,
     "metadata": {},
     "output_type": "execute_result"
    }
   ],
   "source": [
    "merged_df.head(10)"
   ]
  },
  {
   "cell_type": "code",
   "execution_count": 72,
   "metadata": {},
   "outputs": [],
   "source": [
    "merged_df.rename(columns={'insecte_sc_x': 'insecte_sc'}, inplace=True)\n",
    "merged_df.drop(columns=['insecte_sc_y'], inplace=True)"
   ]
  },
  {
   "cell_type": "code",
   "execution_count": 73,
   "metadata": {},
   "outputs": [
    {
     "data": {
      "text/html": [
       "<div>\n",
       "<style scoped>\n",
       "    .dataframe tbody tr th:only-of-type {\n",
       "        vertical-align: middle;\n",
       "    }\n",
       "\n",
       "    .dataframe tbody tr th {\n",
       "        vertical-align: top;\n",
       "    }\n",
       "\n",
       "    .dataframe thead th {\n",
       "        text-align: right;\n",
       "    }\n",
       "</style>\n",
       "<table border=\"1\" class=\"dataframe\">\n",
       "  <thead>\n",
       "    <tr style=\"text-align: right;\">\n",
       "      <th></th>\n",
       "      <th>collection_id</th>\n",
       "      <th>insecte_sc</th>\n",
       "      <th>insecte_fr</th>\n",
       "      <th>Ordre</th>\n",
       "      <th>Super famille</th>\n",
       "      <th>Famille</th>\n",
       "      <th>Sous famille</th>\n",
       "      <th>Genre</th>\n",
       "      <th>Espèce</th>\n",
       "    </tr>\n",
       "  </thead>\n",
       "  <tbody>\n",
       "    <tr>\n",
       "      <th>0</th>\n",
       "      <td>1</td>\n",
       "      <td>Apis mellifera</td>\n",
       "      <td>L'Abeille mellifère</td>\n",
       "      <td>Hymenoptera</td>\n",
       "      <td>Apoidea</td>\n",
       "      <td>Apidae</td>\n",
       "      <td>Apinae</td>\n",
       "      <td>Apis</td>\n",
       "      <td>Apis mellifera</td>\n",
       "    </tr>\n",
       "    <tr>\n",
       "      <th>1</th>\n",
       "      <td>1</td>\n",
       "      <td>Bombus</td>\n",
       "      <td>Les Bourdons noirs à bande(s) jaune(s) et cul ...</td>\n",
       "      <td>Hymenoptera</td>\n",
       "      <td>Apoidea</td>\n",
       "      <td>Apidae</td>\n",
       "      <td>Apinae</td>\n",
       "      <td>Bombus</td>\n",
       "      <td>NaN</td>\n",
       "    </tr>\n",
       "    <tr>\n",
       "      <th>2</th>\n",
       "      <td>2</td>\n",
       "      <td>Bombus</td>\n",
       "      <td>Les Bourdons noirs à bande(s) jaune(s) et cul ...</td>\n",
       "      <td>Hymenoptera</td>\n",
       "      <td>Apoidea</td>\n",
       "      <td>Apidae</td>\n",
       "      <td>Apinae</td>\n",
       "      <td>Bombus</td>\n",
       "      <td>NaN</td>\n",
       "    </tr>\n",
       "    <tr>\n",
       "      <th>3</th>\n",
       "      <td>2</td>\n",
       "      <td>Sarcophaga</td>\n",
       "      <td>Les Mouches à damier</td>\n",
       "      <td>Diptera</td>\n",
       "      <td>Oestroidea</td>\n",
       "      <td>Sarcophagidae</td>\n",
       "      <td>Sarcophaginae</td>\n",
       "      <td>Sarcophaga</td>\n",
       "      <td>NaN</td>\n",
       "    </tr>\n",
       "    <tr>\n",
       "      <th>4</th>\n",
       "      <td>2</td>\n",
       "      <td>Apis mellifera</td>\n",
       "      <td>L'Abeille mellifère</td>\n",
       "      <td>Hymenoptera</td>\n",
       "      <td>Apoidea</td>\n",
       "      <td>Apidae</td>\n",
       "      <td>Apinae</td>\n",
       "      <td>Apis</td>\n",
       "      <td>Apis mellifera</td>\n",
       "    </tr>\n",
       "    <tr>\n",
       "      <th>5</th>\n",
       "      <td>3</td>\n",
       "      <td>Tettigonoidea</td>\n",
       "      <td>Les Sauterelles</td>\n",
       "      <td>Orthoptera</td>\n",
       "      <td>Tettigonioidea</td>\n",
       "      <td>NaN</td>\n",
       "      <td>NaN</td>\n",
       "      <td>NaN</td>\n",
       "      <td>NaN</td>\n",
       "    </tr>\n",
       "    <tr>\n",
       "      <th>6</th>\n",
       "      <td>4</td>\n",
       "      <td>Neomyia, Calliphora et autres</td>\n",
       "      <td>Les Mouches aux reflets métalliques</td>\n",
       "      <td>Diptera</td>\n",
       "      <td>Oestroidea</td>\n",
       "      <td>Calliphoridae</td>\n",
       "      <td>Calliphorinae</td>\n",
       "      <td>Calliphora</td>\n",
       "      <td>NaN</td>\n",
       "    </tr>\n",
       "    <tr>\n",
       "      <th>7</th>\n",
       "      <td>4</td>\n",
       "      <td>NaN</td>\n",
       "      <td>Les Mouches difficiles à déterminer</td>\n",
       "      <td>Diptera</td>\n",
       "      <td>NaN</td>\n",
       "      <td>NaN</td>\n",
       "      <td>NaN</td>\n",
       "      <td>NaN</td>\n",
       "      <td>NaN</td>\n",
       "    </tr>\n",
       "    <tr>\n",
       "      <th>8</th>\n",
       "      <td>4</td>\n",
       "      <td>Apis mellifera</td>\n",
       "      <td>L'Abeille mellifère</td>\n",
       "      <td>Hymenoptera</td>\n",
       "      <td>Apoidea</td>\n",
       "      <td>Apidae</td>\n",
       "      <td>Apinae</td>\n",
       "      <td>Apis</td>\n",
       "      <td>Apis mellifera</td>\n",
       "    </tr>\n",
       "    <tr>\n",
       "      <th>9</th>\n",
       "      <td>4</td>\n",
       "      <td>NaN</td>\n",
       "      <td>Les Mouches difficiles à déterminer</td>\n",
       "      <td>Diptera</td>\n",
       "      <td>NaN</td>\n",
       "      <td>NaN</td>\n",
       "      <td>NaN</td>\n",
       "      <td>NaN</td>\n",
       "      <td>NaN</td>\n",
       "    </tr>\n",
       "  </tbody>\n",
       "</table>\n",
       "</div>"
      ],
      "text/plain": [
       "  collection_id                     insecte_sc  \\\n",
       "0             1                 Apis mellifera   \n",
       "1             1                         Bombus   \n",
       "2             2                         Bombus   \n",
       "3             2                     Sarcophaga   \n",
       "4             2                 Apis mellifera   \n",
       "5             3                  Tettigonoidea   \n",
       "6             4  Neomyia, Calliphora et autres   \n",
       "7             4                            NaN   \n",
       "8             4                 Apis mellifera   \n",
       "9             4                            NaN   \n",
       "\n",
       "                                          insecte_fr        Ordre  \\\n",
       "0                                L'Abeille mellifère  Hymenoptera   \n",
       "1  Les Bourdons noirs à bande(s) jaune(s) et cul ...  Hymenoptera   \n",
       "2  Les Bourdons noirs à bande(s) jaune(s) et cul ...  Hymenoptera   \n",
       "3                               Les Mouches à damier      Diptera   \n",
       "4                                L'Abeille mellifère  Hymenoptera   \n",
       "5                                    Les Sauterelles   Orthoptera   \n",
       "6                Les Mouches aux reflets métalliques      Diptera   \n",
       "7                Les Mouches difficiles à déterminer      Diptera   \n",
       "8                                L'Abeille mellifère  Hymenoptera   \n",
       "9                Les Mouches difficiles à déterminer      Diptera   \n",
       "\n",
       "    Super famille        Famille   Sous famille       Genre          Espèce  \n",
       "0         Apoidea         Apidae         Apinae        Apis  Apis mellifera  \n",
       "1         Apoidea         Apidae         Apinae      Bombus             NaN  \n",
       "2         Apoidea         Apidae         Apinae      Bombus             NaN  \n",
       "3      Oestroidea  Sarcophagidae  Sarcophaginae  Sarcophaga             NaN  \n",
       "4         Apoidea         Apidae         Apinae        Apis  Apis mellifera  \n",
       "5  Tettigonioidea            NaN            NaN         NaN             NaN  \n",
       "6      Oestroidea  Calliphoridae  Calliphorinae  Calliphora             NaN  \n",
       "7             NaN            NaN            NaN         NaN             NaN  \n",
       "8         Apoidea         Apidae         Apinae        Apis  Apis mellifera  \n",
       "9             NaN            NaN            NaN         NaN             NaN  "
      ]
     },
     "execution_count": 73,
     "metadata": {},
     "output_type": "execute_result"
    }
   ],
   "source": [
    "merged_df.head(10)"
   ]
  },
  {
   "cell_type": "code",
   "execution_count": 74,
   "metadata": {},
   "outputs": [],
   "source": [
    "merged_df.to_csv('data/insect/insect_classif.csv', index=False)"
   ]
  },
  {
   "cell_type": "markdown",
   "metadata": {},
   "source": [
    "## 5. Comptage des valeurs de chaque colonne"
   ]
  },
  {
   "cell_type": "code",
   "execution_count": 120,
   "metadata": {},
   "outputs": [
    {
     "data": {
      "text/plain": [
       "{'insecte_sc': 580508,\n",
       " 'insecte_fr': 665339,\n",
       " 'Ordre': 658914,\n",
       " 'Super famille': 555788,\n",
       " 'Famille': 569404,\n",
       " 'Sous famille': 405615,\n",
       " 'Genre': 426862,\n",
       " 'Espèce': 125540}"
      ]
     },
     "execution_count": 120,
     "metadata": {},
     "output_type": "execute_result"
    }
   ],
   "source": [
    "count_df = {}\n",
    "length = len(merged_df) \n",
    "col_name = []\n",
    "\n",
    "for column in merged_df.columns[1:]:\n",
    "    count_df[column] = length - merged_df[column].isna().sum()\n",
    "    col_name.append(column)\n",
    "count_df"
   ]
  },
  {
   "cell_type": "code",
   "execution_count": 121,
   "metadata": {},
   "outputs": [
    {
     "data": {
      "image/png": "[encoded data removed]",
      "text/plain": [
       "<Figure size 640x480 with 1 Axes>"
      ]
     },
     "metadata": {},
     "output_type": "display_data"
    }
   ],
   "source": [
    "fig, ax = plt.subplots()\n",
    "\n",
    "for col, value in count_df.items():\n",
    "    p = ax.bar(col, value, label=value)\n",
    "    ax.bar_label(p, padding=3)\n",
    "\n",
    "ax.set_title('Nombre de valeurs non nulles par colonne')\n",
    "ax.set_xlabel('Colonnes')\n",
    "ax.set_xticks(col_name)\n",
    "ax.set_xticklabels([i for i in col_name], rotation=45)\n",
    "ax.set_ylabel('Nombre de valeurs non nulles')\n",
    "ax.set_ylim(0, 720000)\n",
    "\n",
    "plt.show()"
   ]
  },
  {
   "cell_type": "code",
   "execution_count": 122,
   "metadata": {},
   "outputs": [
    {
     "data": {
      "image/png": "[encoded data removed]",
      "text/plain": [
       "<Figure size 640x480 with 1 Axes>"
      ]
     },
     "metadata": {},
     "output_type": "display_data"
    }
   ],
   "source": [
    "fig, ax = plt.subplots()\n",
    "\n",
    "for col, value in count_df.items():\n",
    "    p = ax.bar(col, value/length*100, label=value)\n",
    "    ax.bar_label(p, padding=3)\n",
    "\n",
    "ax.set_title('Proportion de valeurs non nulles par colonne')\n",
    "ax.set_xlabel('Colonnes')\n",
    "ax.set_xticks(col_name)\n",
    "ax.set_xticklabels([i for i in col_name], rotation=45)\n",
    "ax.set_ylabel('Nombre de valeurs non nulles')\n",
    "ax.set_ylim(0, 110)\n",
    "\n",
    "plt.show()"
   ]
  }
 ],
 "metadata": {
  "kernelspec": {
   "display_name": "Python 3",
   "language": "python",
   "name": "python3"
  },
  "language_info": {
   "codemirror_mode": {
    "name": "ipython",
    "version": 3
   },
   "file_extension": ".py",
   "mimetype": "text/x-python",
   "name": "python",
   "nbconvert_exporter": "python",
   "pygments_lexer": "ipython3",
   "version": "3.12.1"
  }
 },
 "nbformat": 4,
 "nbformat_minor": 2
}
