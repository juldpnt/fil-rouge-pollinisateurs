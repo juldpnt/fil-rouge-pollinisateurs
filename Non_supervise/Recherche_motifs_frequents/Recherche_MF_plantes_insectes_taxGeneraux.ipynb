{
 "cells": [
  {
   "cell_type": "markdown",
   "id": "1ad9ab98-8f0e-469c-b0b3-c85a932abf9d",
   "metadata": {},
   "source": [
    "# Introduction"
   ]
  },
  {
   "cell_type": "markdown",
   "id": "7a422459-298a-4fc9-ae64-24b9b44fdc9d",
   "metadata": {},
   "source": [
    "Dans ce notebook, on utilise le jeu de données issus de l'augmentation de données (ajout de taxons, API Plantnet...) afin de rechercher à nouveaux des motifs fréquents et potentielles règles d'associations intéressantes plantes-insectes.\n",
    "\n",
    "Précédemment, nous avions recherché des motifs fréquents et règles d'associations importantes (lift supérieur à 1) plantes-insectes à partir des taxons présents dans la base du SPIPOLL : taxons _sc, _fr, _precision.\n",
    "\n",
    "Pour un seuil de support minimal de 0.5, la recherche n'avait pas permis de mettre en évidence des motifs fréquents intéressants et règles d'associations importantes. L'abaissement du seuil à 0.4 avait permis de mettre en lumière un motif frelon-lierre, sans toutefois soulever une règle d'association importante. \n",
    "\n",
    "On se demande si d'autres motifs fréquents intéressants n'apparaitraient pas à un niveau de granularité plus global, grâce à l'approfondissement de la taxonomie. On va donc tester ici les niveaux de taxonomie suivant : \n",
    "- plante_famille, plante_genre, plante_espece\n",
    "- insecte_ordre, insecte_super_famille, insecte_famille, insecte_sous_famille, insecte_genre, insecte_espece."
   ]
  },
  {
   "cell_type": "markdown",
   "id": "9c94c9cf-5f6f-47f6-9ecc-15bf41ac02b2",
   "metadata": {
    "tags": []
   },
   "source": [
    "# Chargement des données"
   ]
  },
  {
   "cell_type": "code",
   "execution_count": 19,
   "id": "d2b099bd-d301-4f25-b83d-3326f756bede",
   "metadata": {
    "tags": []
   },
   "outputs": [],
   "source": [
    "import pandas as pd"
   ]
  },
  {
   "cell_type": "markdown",
   "id": "df0ba019-9323-4f1f-a316-b059f4333431",
   "metadata": {},
   "source": [
    "Décommentez la cellule suivante si vous avez besoin d'installer la librairie qui nous servira à la recherche de motifs fréquents."
   ]
  },
  {
   "cell_type": "code",
   "execution_count": 20,
   "id": "8abb804a-e738-4ff3-b5f6-c516a03c19e1",
   "metadata": {
    "tags": []
   },
   "outputs": [],
   "source": [
    "# Installation de la librairie permettant la recherche de motifs fréquents \n",
    "#! pip install mlxtend"
   ]
  },
  {
   "cell_type": "code",
   "execution_count": 32,
   "id": "467fe0d4-2353-498b-bed0-05a77150a51c",
   "metadata": {
    "tags": []
   },
   "outputs": [],
   "source": [
    "from mlxtend.frequent_patterns import apriori\n",
    "from mlxtend.frequent_patterns import association_rules"
   ]
  },
  {
   "cell_type": "code",
   "execution_count": 33,
   "id": "d54eceba-e921-4ad8-a0f4-3ed97306ea5a",
   "metadata": {
    "tags": []
   },
   "outputs": [
    {
     "name": "stderr",
     "output_type": "stream",
     "text": [
      "C:\\Users\\guilts0300\\AppData\\Local\\Temp\\ipykernel_20972\\35506862.py:1: DtypeWarning: Columns (16) have mixed types. Specify dtype option on import or set low_memory=False.\n",
      "  df = pd.read_csv(\"./spipoll.csv\")\n"
     ]
    }
   ],
   "source": [
    "df = pd.read_csv(\"./spipoll.csv\")"
   ]
  },
  {
   "cell_type": "code",
   "execution_count": 34,
   "id": "423fce89-8e14-4500-8378-8e87ff71a355",
   "metadata": {
    "tags": []
   },
   "outputs": [],
   "source": [
    "unused_columns = ['collection_nom', 'collection_id', 'protocole_long', 'user_id',\n",
    "       'photo_fleur', 'photo_plante', 'photo_feuille',               \n",
    "       'plante_caractere', 'plante_inconnue',\n",
    "       'photo_fleur', 'photo_plante', 'photo_feuille', 'coordonnees_GPS',\n",
    "       'code_postal', 'fleur_ombre', \n",
    "       'insecte_abondance', 'insecte_commentaire', 'insecte_vu_sur_fleur',\n",
    "       'nb_validation', 'nb_suggestion']"
   ]
  },
  {
   "cell_type": "code",
   "execution_count": 35,
   "id": "3338755f-d3e5-4c52-b2c6-b15992fb58d1",
   "metadata": {
    "tags": []
   },
   "outputs": [],
   "source": [
    "df.drop(columns=unused_columns, inplace=True)"
   ]
  },
  {
   "cell_type": "code",
   "execution_count": 36,
   "id": "a59ab4a0-d85d-4dc5-a001-4a7b97750f02",
   "metadata": {
    "tags": []
   },
   "outputs": [],
   "source": [
    "# Transformation de la variable habitat\n",
    "\n",
    "# One hot encoding après création de nouvelles colonnes pour chacun des habitats spécifiés entre ','\n",
    "habitat_dummies = df['habitat'].str.get_dummies(',')\n",
    "\n",
    "# Concaténation les colonnes de dummies avec le DataFrame d'origine\n",
    "df = pd.concat([df, habitat_dummies], axis=1)"
   ]
  },
  {
   "cell_type": "code",
   "execution_count": 43,
   "id": "2d9a8f15-cd8e-4770-aa53-23ec626fa5be",
   "metadata": {
    "tags": []
   },
   "outputs": [],
   "source": [
    "df.drop(columns=['habitat'], inplace=True)"
   ]
  },
  {
   "cell_type": "code",
   "execution_count": 37,
   "id": "21dfc803-bd15-468a-946f-43c4e9671552",
   "metadata": {
    "tags": []
   },
   "outputs": [
    {
     "data": {
      "text/plain": [
       "Index(['plante_famille', 'plante_genre', 'plante_espece', 'plante_sc',\n",
       "       'plante_fr', 'plante_precision', 'habitat', 'grande_culture',\n",
       "       'collection_date', 'collection_heure_debut', 'nebulosite',\n",
       "       'temperature', 'vent', 'insecte_ordre', 'insecte_super_famille',\n",
       "       'insecte_famille', 'insecte_sous_famille', 'insecte_genre',\n",
       "       'insecte_espece', 'insecte_sc', 'insecte_fr',\n",
       "       'insecte_denominationPlusPrecise', 'insecte_CdNomtaxref',\n",
       "       'bord de l'eau', 'bord de route', 'forêt', 'grande(s) culture(s)',\n",
       "       'jardin privé', 'littoral', 'parc ou jardin public', 'prairie',\n",
       "       'péri-urbain', 'rochers', 'rural', 'urbain'],\n",
       "      dtype='object')"
      ]
     },
     "execution_count": 37,
     "metadata": {},
     "output_type": "execute_result"
    }
   ],
   "source": [
    "df.columns"
   ]
  },
  {
   "cell_type": "markdown",
   "id": "cbe5c76e-625c-41ef-8df1-a32350de8864",
   "metadata": {
    "tags": []
   },
   "source": [
    "# Recherche de motifs fréquents "
   ]
  },
  {
   "cell_type": "code",
   "execution_count": 38,
   "id": "4beb8a61-8a14-4825-b585-3fa7c470b940",
   "metadata": {
    "tags": []
   },
   "outputs": [
    {
     "data": {
      "text/plain": [
       "Index(['plante_famille', 'plante_genre', 'plante_espece', 'plante_sc',\n",
       "       'plante_fr', 'plante_precision', 'habitat', 'grande_culture',\n",
       "       'collection_date', 'collection_heure_debut', 'nebulosite',\n",
       "       'temperature', 'vent', 'insecte_ordre', 'insecte_super_famille',\n",
       "       'insecte_famille', 'insecte_sous_famille', 'insecte_genre',\n",
       "       'insecte_espece', 'insecte_sc', 'insecte_fr',\n",
       "       'insecte_denominationPlusPrecise', 'insecte_CdNomtaxref',\n",
       "       'bord de l'eau', 'bord de route', 'forêt', 'grande(s) culture(s)',\n",
       "       'jardin privé', 'littoral', 'parc ou jardin public', 'prairie',\n",
       "       'péri-urbain', 'rochers', 'rural', 'urbain'],\n",
       "      dtype='object')"
      ]
     },
     "execution_count": 38,
     "metadata": {},
     "output_type": "execute_result"
    }
   ],
   "source": [
    "df.columns"
   ]
  },
  {
   "cell_type": "code",
   "execution_count": 28,
   "id": "e9098df7-528c-4d18-893f-6500e1492e83",
   "metadata": {
    "tags": []
   },
   "outputs": [
    {
     "data": {
      "text/plain": [
       "16"
      ]
     },
     "execution_count": 28,
     "metadata": {},
     "output_type": "execute_result"
    }
   ],
   "source": [
    "df['insecte_ordre'].nunique()"
   ]
  },
  {
   "cell_type": "code",
   "execution_count": 29,
   "id": "83144776-4d50-42a4-b25c-7cf416adce9d",
   "metadata": {
    "tags": []
   },
   "outputs": [
    {
     "data": {
      "text/plain": [
       "Hymenoptera      227499\n",
       "Diptera          212211\n",
       "Coleoptera        79761\n",
       "Lepidoptera       55218\n",
       "Hemiptera         36776\n",
       "Araneae           22221\n",
       "Orthoptera         8089\n",
       "Ericales           5031\n",
       "Neuroptera         1099\n",
       "Opiliones           509\n",
       "Dermaptera          462\n",
       "Mecoptera           424\n",
       "Blattodea           402\n",
       "Siphonophorae       242\n",
       "Ephemeroptera        52\n",
       "Raphidioptera        18\n",
       "Name: insecte_ordre, dtype: int64"
      ]
     },
     "execution_count": 29,
     "metadata": {},
     "output_type": "execute_result"
    }
   ],
   "source": [
    "df['insecte_ordre'].value_counts()"
   ]
  },
  {
   "cell_type": "code",
   "execution_count": 41,
   "id": "5b622f78-39ec-4545-a106-ccb92330121b",
   "metadata": {
    "tags": []
   },
   "outputs": [
    {
     "data": {
      "text/plain": [
       "138"
      ]
     },
     "execution_count": 41,
     "metadata": {},
     "output_type": "execute_result"
    }
   ],
   "source": [
    "df['plante_famille'].nunique()"
   ]
  },
  {
   "cell_type": "code",
   "execution_count": 42,
   "id": "235122eb-e533-401f-8a91-985a003a5b69",
   "metadata": {
    "tags": []
   },
   "outputs": [
    {
     "data": {
      "text/plain": [
       "Asteraceae        197080\n",
       "Apiaceae          108274\n",
       "Rosaceae           54316\n",
       "Lamiaceae          54218\n",
       "Caprifoliaceae     28031\n",
       "                   ...  \n",
       "Zosteraceae            2\n",
       "Cytinaceae             2\n",
       "Droseraceae            1\n",
       "Dicksoniaceae          1\n",
       "Elatinaceae            1\n",
       "Name: plante_famille, Length: 138, dtype: int64"
      ]
     },
     "execution_count": 42,
     "metadata": {},
     "output_type": "execute_result"
    }
   ],
   "source": [
    "df['plante_famille'].value_counts()"
   ]
  },
  {
   "cell_type": "markdown",
   "id": "80a04af0-6f17-4fa5-b809-28e7580e617b",
   "metadata": {
    "tags": []
   },
   "source": [
    "## Vérification sur un exemple courant"
   ]
  },
  {
   "cell_type": "markdown",
   "id": "9aa32afd-8698-4507-b7d8-a4359869f529",
   "metadata": {},
   "source": [
    "On teste ici sur l'ordre incluant les bourdons, abeilles, frelons, etc. On aimerait trouver des motifs fréquents avec une famille de plantes."
   ]
  },
  {
   "cell_type": "code",
   "execution_count": 39,
   "id": "372be64e-d037-4d39-aec6-304a944048a5",
   "metadata": {
    "tags": []
   },
   "outputs": [],
   "source": [
    "data=df.where(df['insecte_ordre']=='Hymenoptera').dropna(subset=['insecte_ordre'])"
   ]
  },
  {
   "cell_type": "code",
   "execution_count": 40,
   "id": "61916ae8-5851-4dd9-9b14-1fee70fab127",
   "metadata": {
    "tags": []
   },
   "outputs": [
    {
     "data": {
      "text/plain": [
       "Index(['plante_famille', 'plante_genre', 'plante_espece', 'plante_sc',\n",
       "       'plante_fr', 'plante_precision', 'habitat', 'grande_culture',\n",
       "       'collection_date', 'collection_heure_debut', 'nebulosite',\n",
       "       'temperature', 'vent', 'insecte_ordre', 'insecte_super_famille',\n",
       "       'insecte_famille', 'insecte_sous_famille', 'insecte_genre',\n",
       "       'insecte_espece', 'insecte_sc', 'insecte_fr',\n",
       "       'insecte_denominationPlusPrecise', 'insecte_CdNomtaxref',\n",
       "       'bord de l'eau', 'bord de route', 'forêt', 'grande(s) culture(s)',\n",
       "       'jardin privé', 'littoral', 'parc ou jardin public', 'prairie',\n",
       "       'péri-urbain', 'rochers', 'rural', 'urbain'],\n",
       "      dtype='object')"
      ]
     },
     "execution_count": 40,
     "metadata": {},
     "output_type": "execute_result"
    }
   ],
   "source": [
    "data.columns"
   ]
  },
  {
   "cell_type": "code",
   "execution_count": 45,
   "id": "94538805-7d99-4929-9dce-66d3c5cca9be",
   "metadata": {
    "tags": []
   },
   "outputs": [],
   "source": [
    "to_drop = ['plante_genre', 'plante_espece', 'plante_sc',\n",
    "       'plante_fr', 'plante_precision', 'grande_culture',\n",
    "       'collection_date', 'collection_heure_debut', \n",
    "        'insecte_super_famille',\n",
    "       'insecte_famille', 'insecte_sous_famille', 'insecte_genre',\n",
    "       'insecte_espece', 'insecte_sc', 'insecte_fr',\n",
    "       'insecte_denominationPlusPrecise', 'insecte_CdNomtaxref']"
   ]
  },
  {
   "cell_type": "code",
   "execution_count": 46,
   "id": "17570f48-a887-4390-aeb1-a321178016b8",
   "metadata": {
    "tags": []
   },
   "outputs": [],
   "source": [
    "data.drop(columns=to_drop, inplace=True)"
   ]
  },
  {
   "cell_type": "code",
   "execution_count": 50,
   "id": "81404ca9-688e-4d8e-a753-d125910c7a41",
   "metadata": {
    "tags": []
   },
   "outputs": [
    {
     "data": {
      "text/plain": [
       "Index(['plante_famille', 'habitat', 'nebulosite', 'temperature', 'vent',\n",
       "       'insecte_ordre', 'bord de l'eau', 'bord de route', 'forêt',\n",
       "       'grande(s) culture(s)', 'jardin privé', 'littoral',\n",
       "       'parc ou jardin public', 'prairie', 'péri-urbain', 'rochers', 'rural',\n",
       "       'urbain'],\n",
       "      dtype='object')"
      ]
     },
     "execution_count": 50,
     "metadata": {},
     "output_type": "execute_result"
    }
   ],
   "source": [
    "data.columns"
   ]
  },
  {
   "cell_type": "code",
   "execution_count": 47,
   "id": "a1cb56ca-71db-432c-b759-d8c12d89c238",
   "metadata": {
    "tags": []
   },
   "outputs": [],
   "source": [
    "# One hot encoding\n",
    "df_encoded = pd.get_dummies(data)\n",
    "df_encoded = df_encoded.astype(bool)"
   ]
  },
  {
   "cell_type": "code",
   "execution_count": 48,
   "id": "7ce2e42c-76ad-494f-b803-59d69eb59f2c",
   "metadata": {
    "tags": []
   },
   "outputs": [
    {
     "data": {
      "text/html": [
       "<div>\n",
       "<style scoped>\n",
       "    .dataframe tbody tr th:only-of-type {\n",
       "        vertical-align: middle;\n",
       "    }\n",
       "\n",
       "    .dataframe tbody tr th {\n",
       "        vertical-align: top;\n",
       "    }\n",
       "\n",
       "    .dataframe thead th {\n",
       "        text-align: right;\n",
       "    }\n",
       "</style>\n",
       "<table border=\"1\" class=\"dataframe\">\n",
       "  <thead>\n",
       "    <tr style=\"text-align: right;\">\n",
       "      <th></th>\n",
       "      <th>support</th>\n",
       "      <th>itemsets</th>\n",
       "    </tr>\n",
       "  </thead>\n",
       "  <tbody>\n",
       "    <tr>\n",
       "      <th>4</th>\n",
       "      <td>0.803467</td>\n",
       "      <td>(insecte_ordre_Hymenoptera, nebulosite_0-25%)</td>\n",
       "    </tr>\n",
       "    <tr>\n",
       "      <th>5</th>\n",
       "      <td>0.604517</td>\n",
       "      <td>(insecte_ordre_Hymenoptera, temperature_20-30ºC)</td>\n",
       "    </tr>\n",
       "    <tr>\n",
       "      <th>6</th>\n",
       "      <td>0.506341</td>\n",
       "      <td>(vent_faible, irrégulier, insecte_ordre_Hymeno...</td>\n",
       "    </tr>\n",
       "  </tbody>\n",
       "</table>\n",
       "</div>"
      ],
      "text/plain": [
       "    support                                           itemsets\n",
       "4  0.803467      (insecte_ordre_Hymenoptera, nebulosite_0-25%)\n",
       "5  0.604517   (insecte_ordre_Hymenoptera, temperature_20-30ºC)\n",
       "6  0.506341  (vent_faible, irrégulier, insecte_ordre_Hymeno..."
      ]
     },
     "execution_count": 48,
     "metadata": {},
     "output_type": "execute_result"
    }
   ],
   "source": [
    "# Recherche des motifs fréquents\n",
    "frequent_itemsets = apriori(df_encoded, min_support=0.5, use_colnames=True)\n",
    "\n",
    "# Filtrage des motifs fréquents de taille minimale égale à 2\n",
    "frequent_itemsets['length'] = frequent_itemsets['itemsets'].apply(lambda x: len(x))\n",
    "frequent_itemsets = frequent_itemsets[frequent_itemsets['length'] >= 2].drop(columns='length')\n",
    "\n",
    "# Classement par ordre décroissant de support \n",
    "frequent_itemsets = frequent_itemsets.sort_values(by='support', ascending=False)\n",
    "frequent_itemsets"
   ]
  },
  {
   "cell_type": "code",
   "execution_count": 49,
   "id": "ffd0e6a0-0945-428c-8499-66f16793fcbb",
   "metadata": {
    "tags": []
   },
   "outputs": [
    {
     "data": {
      "text/plain": [
       "array([frozenset({'insecte_ordre_Hymenoptera', 'nebulosite_0-25%'}),\n",
       "       frozenset({'insecte_ordre_Hymenoptera', 'temperature_20-30ºC'}),\n",
       "       frozenset({'vent_faible, irrégulier', 'insecte_ordre_Hymenoptera'})],\n",
       "      dtype=object)"
      ]
     },
     "execution_count": 49,
     "metadata": {},
     "output_type": "execute_result"
    }
   ],
   "source": [
    "frequent_itemsets['itemsets'].unique()"
   ]
  },
  {
   "cell_type": "markdown",
   "id": "51af2d2b-8726-451f-af0b-1318f8d9f198",
   "metadata": {},
   "source": [
    "Conclusion : Pour un seuil de support minimal de 0.5, nous n'avons pas trouvé de motifs fréquents insectes de l'ordre des hyménoptères avec une famille de plantes.\n",
    "On effectue tout de même cette recherche pour les 16 ordres d'insectes (du tacon insecte_ordre)."
   ]
  },
  {
   "cell_type": "markdown",
   "id": "5912c9b8-3302-4a75-9724-66e33a095af7",
   "metadata": {
    "tags": []
   },
   "source": [
    "## Sur toute la base "
   ]
  },
  {
   "cell_type": "code",
   "execution_count": 61,
   "id": "2ad8f7e3-f2c7-4037-b755-eacafa122f91",
   "metadata": {
    "tags": []
   },
   "outputs": [
    {
     "data": {
      "text/plain": [
       "['Hymenoptera',\n",
       " 'Diptera',\n",
       " 'Orthoptera',\n",
       " nan,\n",
       " 'Coleoptera',\n",
       " 'Hemiptera',\n",
       " 'Araneae',\n",
       " 'Lepidoptera',\n",
       " 'Ericales',\n",
       " 'Neuroptera',\n",
       " 'Opiliones',\n",
       " 'Siphonophorae',\n",
       " 'Mecoptera',\n",
       " 'Dermaptera',\n",
       " 'Raphidioptera',\n",
       " 'Ephemeroptera',\n",
       " 'Blattodea']"
      ]
     },
     "execution_count": 61,
     "metadata": {},
     "output_type": "execute_result"
    }
   ],
   "source": [
    "df['insecte_ordre'].unique().tolist() "
   ]
  },
  {
   "cell_type": "code",
   "execution_count": 75,
   "id": "30226000-2c04-4558-9de3-bb2bfe699a4f",
   "metadata": {
    "tags": []
   },
   "outputs": [
    {
     "name": "stdout",
     "output_type": "stream",
     "text": [
      "     support                                           itemsets\n",
      "10  0.803467      (insecte_ordre_Hymenoptera, nebulosite_0-25%)\n",
      "13  0.604517   (insecte_ordre_Hymenoptera, temperature_20-30ºC)\n",
      "14  0.506341  (vent_faible, irrégulier, insecte_ordre_Hymeno...\n",
      "8   0.484297            (nebulosite_0-25%, temperature_20-30ºC)\n",
      "16  0.484297  (insecte_ordre_Hymenoptera, nebulosite_0-25%, ...\n",
      "7   0.456890                 (rural, insecte_ordre_Hymenoptera)\n",
      "9   0.404811        (vent_faible, irrégulier, nebulosite_0-25%)\n",
      "17  0.404811  (vent_faible, irrégulier, insecte_ordre_Hymeno...\n",
      "6   0.373013                          (rural, nebulosite_0-25%)\n",
      "15  0.373013  (insecte_ordre_Hymenoptera, rural, nebulosite_...\n",
      "12  0.312480     (vent_faible, irrégulier, temperature_20-30ºC)\n",
      "18  0.312480  (vent_faible, irrégulier, insecte_ordre_Hymeno...\n",
      "11  0.304709   (temperature_10-20ºC, insecte_ordre_Hymenoptera)\n",
      "[frozenset({'insecte_ordre_Hymenoptera', 'nebulosite_0-25%'})\n",
      " frozenset({'insecte_ordre_Hymenoptera', 'temperature_20-30ºC'})\n",
      " frozenset({'vent_faible, irrégulier', 'insecte_ordre_Hymenoptera'})\n",
      " frozenset({'nebulosite_0-25%', 'temperature_20-30ºC'})\n",
      " frozenset({'insecte_ordre_Hymenoptera', 'nebulosite_0-25%', 'temperature_20-30ºC'})\n",
      " frozenset({'rural', 'insecte_ordre_Hymenoptera'})\n",
      " frozenset({'vent_faible, irrégulier', 'nebulosite_0-25%'})\n",
      " frozenset({'vent_faible, irrégulier', 'insecte_ordre_Hymenoptera', 'nebulosite_0-25%'})\n",
      " frozenset({'rural', 'nebulosite_0-25%'})\n",
      " frozenset({'insecte_ordre_Hymenoptera', 'rural', 'nebulosite_0-25%'})\n",
      " frozenset({'vent_faible, irrégulier', 'temperature_20-30ºC'})\n",
      " frozenset({'vent_faible, irrégulier', 'insecte_ordre_Hymenoptera', 'temperature_20-30ºC'})\n",
      " frozenset({'temperature_10-20ºC', 'insecte_ordre_Hymenoptera'})]\n",
      "     support                                           itemsets\n",
      "10  0.769757          (insecte_ordre_Diptera, nebulosite_0-25%)\n",
      "12  0.551753       (insecte_ordre_Diptera, temperature_20-30ºC)\n",
      "7   0.516373                     (rural, insecte_ordre_Diptera)\n",
      "13  0.493853   (vent_faible, irrégulier, insecte_ordre_Diptera)\n",
      "8   0.430105            (nebulosite_0-25%, temperature_20-30ºC)\n",
      "15  0.430105  (insecte_ordre_Diptera, nebulosite_0-25%, temp...\n",
      "6   0.403127                          (rural, nebulosite_0-25%)\n",
      "14  0.403127   (rural, insecte_ordre_Diptera, nebulosite_0-25%)\n",
      "11  0.387883       (temperature_10-20ºC, insecte_ordre_Diptera)\n",
      "9   0.375452        (vent_faible, irrégulier, nebulosite_0-25%)\n",
      "16  0.375452  (vent_faible, irrégulier, insecte_ordre_Dipter...\n",
      "[frozenset({'insecte_ordre_Diptera', 'nebulosite_0-25%'})\n",
      " frozenset({'insecte_ordre_Diptera', 'temperature_20-30ºC'})\n",
      " frozenset({'rural', 'insecte_ordre_Diptera'})\n",
      " frozenset({'vent_faible, irrégulier', 'insecte_ordre_Diptera'})\n",
      " frozenset({'nebulosite_0-25%', 'temperature_20-30ºC'})\n",
      " frozenset({'insecte_ordre_Diptera', 'nebulosite_0-25%', 'temperature_20-30ºC'})\n",
      " frozenset({'rural', 'nebulosite_0-25%'})\n",
      " frozenset({'rural', 'insecte_ordre_Diptera', 'nebulosite_0-25%'})\n",
      " frozenset({'temperature_10-20ºC', 'insecte_ordre_Diptera'})\n",
      " frozenset({'vent_faible, irrégulier', 'nebulosite_0-25%'})\n",
      " frozenset({'vent_faible, irrégulier', 'insecte_ordre_Diptera', 'nebulosite_0-25%'})]\n",
      "     support                                           itemsets\n",
      "14  0.766473       (insecte_ordre_Orthoptera, nebulosite_0-25%)\n",
      "16  0.630362    (insecte_ordre_Orthoptera, temperature_20-30ºC)\n",
      "10  0.579552                  (rural, insecte_ordre_Orthoptera)\n",
      "17  0.522932  (vent_faible, irrégulier, insecte_ordre_Orthop...\n",
      "12  0.490048            (nebulosite_0-25%, temperature_20-30ºC)\n",
      "20  0.490048  (insecte_ordre_Orthoptera, nebulosite_0-25%, t...\n",
      "8   0.457164                          (rural, nebulosite_0-25%)\n",
      "18  0.457164  (rural, insecte_ordre_Orthoptera, nebulosite_0...\n",
      "13  0.398319        (vent_faible, irrégulier, nebulosite_0-25%)\n",
      "21  0.398319  (vent_faible, irrégulier, insecte_ordre_Orthop...\n",
      "11  0.365682  (insecte_ordre_Orthoptera, plante_famille_Aste...\n",
      "9   0.360242                       (rural, temperature_20-30ºC)\n",
      "19  0.360242  (insecte_ordre_Orthoptera, rural, temperature_...\n",
      "7   0.337248                (insecte_ordre_Orthoptera, prairie)\n",
      "15  0.336012     (vent_faible, irrégulier, temperature_20-30ºC)\n",
      "22  0.336012  (vent_faible, irrégulier, insecte_ordre_Orthop...\n",
      "[frozenset({'insecte_ordre_Orthoptera', 'nebulosite_0-25%'})\n",
      " frozenset({'insecte_ordre_Orthoptera', 'temperature_20-30ºC'})\n",
      " frozenset({'rural', 'insecte_ordre_Orthoptera'})\n",
      " frozenset({'vent_faible, irrégulier', 'insecte_ordre_Orthoptera'})\n",
      " frozenset({'nebulosite_0-25%', 'temperature_20-30ºC'})\n",
      " frozenset({'insecte_ordre_Orthoptera', 'nebulosite_0-25%', 'temperature_20-30ºC'})\n",
      " frozenset({'rural', 'nebulosite_0-25%'})\n",
      " frozenset({'rural', 'insecte_ordre_Orthoptera', 'nebulosite_0-25%'})\n",
      " frozenset({'vent_faible, irrégulier', 'nebulosite_0-25%'})\n",
      " frozenset({'vent_faible, irrégulier', 'insecte_ordre_Orthoptera', 'nebulosite_0-25%'})\n",
      " frozenset({'insecte_ordre_Orthoptera', 'plante_famille_Asteraceae'})\n",
      " frozenset({'rural', 'temperature_20-30ºC'})\n",
      " frozenset({'insecte_ordre_Orthoptera', 'rural', 'temperature_20-30ºC'})\n",
      " frozenset({'insecte_ordre_Orthoptera', 'prairie'})\n",
      " frozenset({'vent_faible, irrégulier', 'temperature_20-30ºC'})\n",
      " frozenset({'vent_faible, irrégulier', 'insecte_ordre_Orthoptera', 'temperature_20-30ºC'})]\n",
      "     support                                           itemsets\n",
      "12  0.774063       (insecte_ordre_Coleoptera, nebulosite_0-25%)\n",
      "14  0.640363    (insecte_ordre_Coleoptera, temperature_20-30ºC)\n",
      "8   0.509936                  (insecte_ordre_Coleoptera, rural)\n",
      "10  0.506037            (nebulosite_0-25%, temperature_20-30ºC)\n",
      "18  0.506037  (insecte_ordre_Coleoptera, nebulosite_0-25%, t...\n",
      "15  0.501222  (vent_faible, irrégulier, insecte_ordre_Coleop...\n",
      "6   0.398967                          (rural, nebulosite_0-25%)\n",
      "16  0.398967  (insecte_ordre_Coleoptera, rural, nebulosite_0...\n",
      "11  0.385665        (vent_faible, irrégulier, nebulosite_0-25%)\n",
      "19  0.385665  (vent_faible, irrégulier, insecte_ordre_Coleop...\n",
      "13  0.329597     (vent_faible, irrégulier, temperature_20-30ºC)\n",
      "20  0.329597  (vent_faible, irrégulier, insecte_ordre_Coleop...\n",
      "7   0.328256                       (rural, temperature_20-30ºC)\n",
      "17  0.328256  (insecte_ordre_Coleoptera, rural, temperature_...\n",
      "9   0.300260  (insecte_ordre_Coleoptera, plante_famille_Aste...\n",
      "[frozenset({'insecte_ordre_Coleoptera', 'nebulosite_0-25%'})\n",
      " frozenset({'insecte_ordre_Coleoptera', 'temperature_20-30ºC'})\n",
      " frozenset({'insecte_ordre_Coleoptera', 'rural'})\n",
      " frozenset({'nebulosite_0-25%', 'temperature_20-30ºC'})\n",
      " frozenset({'insecte_ordre_Coleoptera', 'nebulosite_0-25%', 'temperature_20-30ºC'})\n",
      " frozenset({'vent_faible, irrégulier', 'insecte_ordre_Coleoptera'})\n",
      " frozenset({'rural', 'nebulosite_0-25%'})\n",
      " frozenset({'insecte_ordre_Coleoptera', 'rural', 'nebulosite_0-25%'})\n",
      " frozenset({'vent_faible, irrégulier', 'nebulosite_0-25%'})\n",
      " frozenset({'vent_faible, irrégulier', 'insecte_ordre_Coleoptera', 'nebulosite_0-25%'})\n",
      " frozenset({'vent_faible, irrégulier', 'temperature_20-30ºC'})\n",
      " frozenset({'vent_faible, irrégulier', 'insecte_ordre_Coleoptera', 'temperature_20-30ºC'})\n",
      " frozenset({'rural', 'temperature_20-30ºC'})\n",
      " frozenset({'insecte_ordre_Coleoptera', 'rural', 'temperature_20-30ºC'})\n",
      " frozenset({'insecte_ordre_Coleoptera', 'plante_famille_Asteraceae'})]\n",
      "     support                                           itemsets\n",
      "12  0.765554        (nebulosite_0-25%, insecte_ordre_Hemiptera)\n",
      "14  0.642647     (insecte_ordre_Hemiptera, temperature_20-30ºC)\n",
      "15  0.512182  (vent_faible, irrégulier, insecte_ordre_Hemipt...\n",
      "10  0.496139            (nebulosite_0-25%, temperature_20-30ºC)\n",
      "18  0.496139  (nebulosite_0-25%, insecte_ordre_Hemiptera, te...\n",
      "8   0.494072                   (rural, insecte_ordre_Hemiptera)\n",
      "11  0.389221        (vent_faible, irrégulier, nebulosite_0-25%)\n",
      "19  0.389221  (vent_faible, irrégulier, nebulosite_0-25%, in...\n",
      "6   0.388351                          (rural, nebulosite_0-25%)\n",
      "16  0.388351  (rural, nebulosite_0-25%, insecte_ordre_Hemipt...\n",
      "9   0.357298  (plante_famille_Asteraceae, insecte_ordre_Hemi...\n",
      "13  0.331765     (vent_faible, irrégulier, temperature_20-30ºC)\n",
      "20  0.331765  (vent_faible, irrégulier, insecte_ordre_Hemipt...\n",
      "7   0.323281                       (rural, temperature_20-30ºC)\n",
      "17  0.323281  (rural, insecte_ordre_Hemiptera, temperature_2...\n",
      "[frozenset({'nebulosite_0-25%', 'insecte_ordre_Hemiptera'})\n",
      " frozenset({'insecte_ordre_Hemiptera', 'temperature_20-30ºC'})\n",
      " frozenset({'vent_faible, irrégulier', 'insecte_ordre_Hemiptera'})\n",
      " frozenset({'nebulosite_0-25%', 'temperature_20-30ºC'})\n",
      " frozenset({'nebulosite_0-25%', 'insecte_ordre_Hemiptera', 'temperature_20-30ºC'})\n",
      " frozenset({'rural', 'insecte_ordre_Hemiptera'})\n",
      " frozenset({'vent_faible, irrégulier', 'nebulosite_0-25%'})\n",
      " frozenset({'vent_faible, irrégulier', 'nebulosite_0-25%', 'insecte_ordre_Hemiptera'})\n",
      " frozenset({'rural', 'nebulosite_0-25%'})\n",
      " frozenset({'rural', 'nebulosite_0-25%', 'insecte_ordre_Hemiptera'})\n",
      " frozenset({'plante_famille_Asteraceae', 'insecte_ordre_Hemiptera'})\n",
      " frozenset({'vent_faible, irrégulier', 'temperature_20-30ºC'})\n",
      " frozenset({'vent_faible, irrégulier', 'insecte_ordre_Hemiptera', 'temperature_20-30ºC'})\n",
      " frozenset({'rural', 'temperature_20-30ºC'})\n",
      " frozenset({'rural', 'insecte_ordre_Hemiptera', 'temperature_20-30ºC'})]\n",
      "     support                                           itemsets\n",
      "13  0.789568          (insecte_ordre_Araneae, nebulosite_0-25%)\n",
      "16  0.592323       (insecte_ordre_Araneae, temperature_20-30ºC)\n",
      "17  0.525494   (vent_faible, irrégulier, insecte_ordre_Araneae)\n",
      "9   0.504973                     (insecte_ordre_Araneae, rural)\n",
      "11  0.475181            (nebulosite_0-25%, temperature_20-30ºC)\n",
      "20  0.475181  (insecte_ordre_Araneae, nebulosite_0-25%, temp...\n",
      "12  0.410243        (vent_faible, irrégulier, nebulosite_0-25%)\n",
      "21  0.410243  (vent_faible, irrégulier, insecte_ordre_Aranea...\n",
      "7   0.408892                          (rural, nebulosite_0-25%)\n",
      "18  0.408892   (insecte_ordre_Araneae, rural, nebulosite_0-25%)\n",
      "14  0.333963       (insecte_ordre_Araneae, temperature_10-20ºC)\n",
      "10  0.326718  (insecte_ordre_Araneae, plante_famille_Asterac...\n",
      "15  0.311732     (vent_faible, irrégulier, temperature_20-30ºC)\n",
      "22  0.311732  (vent_faible, irrégulier, insecte_ordre_Aranea...\n",
      "8   0.310742                       (rural, temperature_20-30ºC)\n",
      "19  0.310742  (insecte_ordre_Araneae, rural, temperature_20-...\n",
      "[frozenset({'insecte_ordre_Araneae', 'nebulosite_0-25%'})\n",
      " frozenset({'insecte_ordre_Araneae', 'temperature_20-30ºC'})\n",
      " frozenset({'vent_faible, irrégulier', 'insecte_ordre_Araneae'})\n",
      " frozenset({'insecte_ordre_Araneae', 'rural'})\n",
      " frozenset({'nebulosite_0-25%', 'temperature_20-30ºC'})\n",
      " frozenset({'insecte_ordre_Araneae', 'nebulosite_0-25%', 'temperature_20-30ºC'})\n",
      " frozenset({'vent_faible, irrégulier', 'nebulosite_0-25%'})\n",
      " frozenset({'vent_faible, irrégulier', 'insecte_ordre_Araneae', 'nebulosite_0-25%'})\n",
      " frozenset({'rural', 'nebulosite_0-25%'})\n",
      " frozenset({'insecte_ordre_Araneae', 'rural', 'nebulosite_0-25%'})\n",
      " frozenset({'insecte_ordre_Araneae', 'temperature_10-20ºC'})\n",
      " frozenset({'insecte_ordre_Araneae', 'plante_famille_Asteraceae'})\n",
      " frozenset({'vent_faible, irrégulier', 'temperature_20-30ºC'})\n",
      " frozenset({'vent_faible, irrégulier', 'insecte_ordre_Araneae', 'temperature_20-30ºC'})\n",
      " frozenset({'rural', 'temperature_20-30ºC'})\n",
      " frozenset({'insecte_ordre_Araneae', 'rural', 'temperature_20-30ºC'})]\n",
      "     support                                           itemsets\n",
      "15  0.841193      (nebulosite_0-25%, insecte_ordre_Lepidoptera)\n",
      "17  0.666377   (insecte_ordre_Lepidoptera, temperature_20-30ºC)\n",
      "11  0.643685                 (rural, insecte_ordre_Lepidoptera)\n",
      "23  0.559165  (nebulosite_0-25%, insecte_ordre_Lepidoptera, ...\n",
      "13  0.559165            (nebulosite_0-25%, temperature_20-30ºC)\n",
      "20  0.548028  (rural, nebulosite_0-25%, insecte_ordre_Lepido...\n",
      "8   0.548028                          (rural, nebulosite_0-25%)\n",
      "18  0.514542  (vent_faible, irrégulier, insecte_ordre_Lepido...\n",
      "24  0.429860  (vent_faible, irrégulier, nebulosite_0-25%, in...\n",
      "14  0.429860        (vent_faible, irrégulier, nebulosite_0-25%)\n",
      "9   0.427578                       (rural, temperature_20-30ºC)\n",
      "21  0.427578  (rural, insecte_ordre_Lepidoptera, temperature...\n",
      "26  0.363939  (rural, nebulosite_0-25%, insecte_ordre_Lepido...\n",
      "19  0.363939     (rural, nebulosite_0-25%, temperature_20-30ºC)\n",
      "16  0.343710     (vent_faible, irrégulier, temperature_20-30ºC)\n",
      "25  0.343710  (vent_faible, irrégulier, insecte_ordre_Lepido...\n",
      "7   0.340269               (prairie, insecte_ordre_Lepidoptera)\n",
      "22  0.319823  (vent_faible, irrégulier, rural, insecte_ordre...\n",
      "10  0.319823                   (vent_faible, irrégulier, rural)\n",
      "12  0.310406  (plante_famille_Asteraceae, insecte_ordre_Lepi...\n",
      "[frozenset({'nebulosite_0-25%', 'insecte_ordre_Lepidoptera'})\n",
      " frozenset({'insecte_ordre_Lepidoptera', 'temperature_20-30ºC'})\n",
      " frozenset({'rural', 'insecte_ordre_Lepidoptera'})\n",
      " frozenset({'nebulosite_0-25%', 'insecte_ordre_Lepidoptera', 'temperature_20-30ºC'})\n",
      " frozenset({'nebulosite_0-25%', 'temperature_20-30ºC'})\n",
      " frozenset({'rural', 'nebulosite_0-25%', 'insecte_ordre_Lepidoptera'})\n",
      " frozenset({'rural', 'nebulosite_0-25%'})\n",
      " frozenset({'vent_faible, irrégulier', 'insecte_ordre_Lepidoptera'})\n",
      " frozenset({'vent_faible, irrégulier', 'nebulosite_0-25%', 'insecte_ordre_Lepidoptera'})\n",
      " frozenset({'vent_faible, irrégulier', 'nebulosite_0-25%'})\n",
      " frozenset({'rural', 'temperature_20-30ºC'})\n",
      " frozenset({'rural', 'insecte_ordre_Lepidoptera', 'temperature_20-30ºC'})\n",
      " frozenset({'rural', 'nebulosite_0-25%', 'insecte_ordre_Lepidoptera', 'temperature_20-30ºC'})\n",
      " frozenset({'rural', 'nebulosite_0-25%', 'temperature_20-30ºC'})\n",
      " frozenset({'vent_faible, irrégulier', 'temperature_20-30ºC'})\n",
      " frozenset({'vent_faible, irrégulier', 'insecte_ordre_Lepidoptera', 'temperature_20-30ºC'})\n",
      " frozenset({'prairie', 'insecte_ordre_Lepidoptera'})\n",
      " frozenset({'vent_faible, irrégulier', 'rural', 'insecte_ordre_Lepidoptera'})\n",
      " frozenset({'vent_faible, irrégulier', 'rural'})\n",
      " frozenset({'plante_famille_Asteraceae', 'insecte_ordre_Lepidoptera'})]\n",
      "     support                                           itemsets\n",
      "12  0.824488         (insecte_ordre_Ericales, nebulosite_0-25%)\n",
      "14  0.693500      (insecte_ordre_Ericales, temperature_20-30ºC)\n",
      "10  0.565693            (nebulosite_0-25%, temperature_20-30ºC)\n",
      "18  0.565693  (insecte_ordre_Ericales, nebulosite_0-25%, tem...\n",
      "15  0.532499  (vent_faible, irrégulier, insecte_ordre_Ericales)\n",
      "8   0.477837                    (rural, insecte_ordre_Ericales)\n",
      "11  0.433313        (vent_faible, irrégulier, nebulosite_0-25%)\n",
      "19  0.433313  (vent_faible, irrégulier, insecte_ordre_Erical...\n",
      "6   0.406679                          (rural, nebulosite_0-25%)\n",
      "16  0.406679  (rural, insecte_ordre_Ericales, nebulosite_0-25%)\n",
      "13  0.370900     (vent_faible, irrégulier, temperature_20-30ºC)\n",
      "20  0.370900  (vent_faible, irrégulier, insecte_ordre_Erical...\n",
      "7   0.326973                       (rural, temperature_20-30ºC)\n",
      "17  0.326973  (rural, insecte_ordre_Ericales, temperature_20...\n",
      "9   0.306698  (insecte_ordre_Ericales, plante_famille_Astera...\n",
      "[frozenset({'insecte_ordre_Ericales', 'nebulosite_0-25%'})\n",
      " frozenset({'insecte_ordre_Ericales', 'temperature_20-30ºC'})\n",
      " frozenset({'nebulosite_0-25%', 'temperature_20-30ºC'})\n",
      " frozenset({'insecte_ordre_Ericales', 'nebulosite_0-25%', 'temperature_20-30ºC'})\n",
      " frozenset({'vent_faible, irrégulier', 'insecte_ordre_Ericales'})\n",
      " frozenset({'rural', 'insecte_ordre_Ericales'})\n",
      " frozenset({'vent_faible, irrégulier', 'nebulosite_0-25%'})\n",
      " frozenset({'vent_faible, irrégulier', 'insecte_ordre_Ericales', 'nebulosite_0-25%'})\n",
      " frozenset({'rural', 'nebulosite_0-25%'})\n",
      " frozenset({'rural', 'insecte_ordre_Ericales', 'nebulosite_0-25%'})\n",
      " frozenset({'vent_faible, irrégulier', 'temperature_20-30ºC'})\n",
      " frozenset({'vent_faible, irrégulier', 'insecte_ordre_Ericales', 'temperature_20-30ºC'})\n",
      " frozenset({'rural', 'temperature_20-30ºC'})\n",
      " frozenset({'rural', 'insecte_ordre_Ericales', 'temperature_20-30ºC'})\n",
      " frozenset({'insecte_ordre_Ericales', 'plante_famille_Asteraceae'})]\n",
      "     support                                           itemsets\n",
      "16  0.782530       (nebulosite_0-25%, insecte_ordre_Neuroptera)\n",
      "18  0.701547    (insecte_ordre_Neuroptera, temperature_20-30ºC)\n",
      "24  0.551410  (nebulosite_0-25%, insecte_ordre_Neuroptera, t...\n",
      "14  0.551410            (nebulosite_0-25%, temperature_20-30ºC)\n",
      "19  0.492266  (vent_faible, irrégulier, insecte_ordre_Neurop...\n",
      "9   0.490446                  (rural, insecte_ordre_Neuroptera)\n",
      "7   0.403094                          (rural, nebulosite_0-25%)\n",
      "20  0.403094  (rural, nebulosite_0-25%, insecte_ordre_Neurop...\n",
      "12  0.398544  (plante_famille_Apiaceae, insecte_ordre_Neurop...\n",
      "25  0.387625  (vent_faible, irrégulier, nebulosite_0-25%, in...\n",
      "15  0.387625        (vent_faible, irrégulier, nebulosite_0-25%)\n",
      "17  0.368517     (vent_faible, irrégulier, temperature_20-30ºC)\n",
      "26  0.368517  (vent_faible, irrégulier, insecte_ordre_Neurop...\n",
      "8   0.329390                       (rural, temperature_20-30ºC)\n",
      "21  0.329390  (rural, insecte_ordre_Neuroptera, temperature_...\n",
      "13  0.323021  (plante_famille_Asteraceae, insecte_ordre_Neur...\n",
      "22  0.317561  (plante_famille_Apiaceae, nebulosite_0-25%, in...\n",
      "10  0.317561        (plante_famille_Apiaceae, nebulosite_0-25%)\n",
      "23  0.306642  (plante_famille_Apiaceae, insecte_ordre_Neurop...\n",
      "11  0.306642     (plante_famille_Apiaceae, temperature_20-30ºC)\n",
      "[frozenset({'nebulosite_0-25%', 'insecte_ordre_Neuroptera'})\n",
      " frozenset({'insecte_ordre_Neuroptera', 'temperature_20-30ºC'})\n",
      " frozenset({'nebulosite_0-25%', 'insecte_ordre_Neuroptera', 'temperature_20-30ºC'})\n",
      " frozenset({'nebulosite_0-25%', 'temperature_20-30ºC'})\n",
      " frozenset({'vent_faible, irrégulier', 'insecte_ordre_Neuroptera'})\n",
      " frozenset({'rural', 'insecte_ordre_Neuroptera'})\n",
      " frozenset({'rural', 'nebulosite_0-25%'})\n",
      " frozenset({'rural', 'nebulosite_0-25%', 'insecte_ordre_Neuroptera'})\n",
      " frozenset({'plante_famille_Apiaceae', 'insecte_ordre_Neuroptera'})\n",
      " frozenset({'vent_faible, irrégulier', 'nebulosite_0-25%', 'insecte_ordre_Neuroptera'})\n",
      " frozenset({'vent_faible, irrégulier', 'nebulosite_0-25%'})\n",
      " frozenset({'vent_faible, irrégulier', 'temperature_20-30ºC'})\n",
      " frozenset({'vent_faible, irrégulier', 'insecte_ordre_Neuroptera', 'temperature_20-30ºC'})\n",
      " frozenset({'rural', 'temperature_20-30ºC'})\n",
      " frozenset({'rural', 'insecte_ordre_Neuroptera', 'temperature_20-30ºC'})\n",
      " frozenset({'plante_famille_Asteraceae', 'insecte_ordre_Neuroptera'})\n",
      " frozenset({'plante_famille_Apiaceae', 'nebulosite_0-25%', 'insecte_ordre_Neuroptera'})\n",
      " frozenset({'plante_famille_Apiaceae', 'nebulosite_0-25%'})\n",
      " frozenset({'plante_famille_Apiaceae', 'insecte_ordre_Neuroptera', 'temperature_20-30ºC'})\n",
      " frozenset({'plante_famille_Apiaceae', 'temperature_20-30ºC'})]\n",
      "     support                                           itemsets\n",
      "14  0.844794        (nebulosite_0-25%, insecte_ordre_Opiliones)\n",
      "16  0.644401     (temperature_20-30ºC, insecte_ordre_Opiliones)\n",
      "8   0.571709                   (rural, insecte_ordre_Opiliones)\n",
      "12  0.548134            (nebulosite_0-25%, temperature_20-30ºC)\n",
      "23  0.548134  (temperature_20-30ºC, nebulosite_0-25%, insect...\n",
      "19  0.487230  (rural, nebulosite_0-25%, insecte_ordre_Opilio...\n",
      "6   0.487230                          (rural, nebulosite_0-25%)\n",
      "17  0.459725  (vent_faible, irrégulier, insecte_ordre_Opilio...\n",
      "11  0.451866  (plante_famille_Asteraceae, insecte_ordre_Opil...\n",
      "13  0.381139        (vent_faible, irrégulier, nebulosite_0-25%)\n",
      "24  0.381139  (vent_faible, irrégulier, nebulosite_0-25%, in...\n",
      "7   0.369352                       (rural, temperature_20-30ºC)\n",
      "20  0.369352  (temperature_20-30ºC, rural, insecte_ordre_Opi...\n",
      "21  0.369352  (plante_famille_Asteraceae, nebulosite_0-25%, ...\n",
      "9   0.369352      (plante_famille_Asteraceae, nebulosite_0-25%)\n",
      "15  0.316306     (vent_faible, irrégulier, temperature_20-30ºC)\n",
      "25  0.316306  (vent_faible, irrégulier, temperature_20-30ºC,...\n",
      "18  0.314342     (rural, nebulosite_0-25%, temperature_20-30ºC)\n",
      "26  0.314342  (temperature_20-30ºC, rural, nebulosite_0-25%,...\n",
      "10  0.308448   (plante_famille_Asteraceae, temperature_20-30ºC)\n",
      "22  0.308448  (temperature_20-30ºC, plante_famille_Asteracea...\n",
      "[frozenset({'nebulosite_0-25%', 'insecte_ordre_Opiliones'})\n",
      " frozenset({'temperature_20-30ºC', 'insecte_ordre_Opiliones'})\n",
      " frozenset({'rural', 'insecte_ordre_Opiliones'})\n",
      " frozenset({'nebulosite_0-25%', 'temperature_20-30ºC'})\n",
      " frozenset({'temperature_20-30ºC', 'nebulosite_0-25%', 'insecte_ordre_Opiliones'})\n",
      " frozenset({'rural', 'nebulosite_0-25%', 'insecte_ordre_Opiliones'})\n",
      " frozenset({'rural', 'nebulosite_0-25%'})\n",
      " frozenset({'vent_faible, irrégulier', 'insecte_ordre_Opiliones'})\n",
      " frozenset({'plante_famille_Asteraceae', 'insecte_ordre_Opiliones'})\n",
      " frozenset({'vent_faible, irrégulier', 'nebulosite_0-25%'})\n",
      " frozenset({'vent_faible, irrégulier', 'nebulosite_0-25%', 'insecte_ordre_Opiliones'})\n",
      " frozenset({'rural', 'temperature_20-30ºC'})\n",
      " frozenset({'temperature_20-30ºC', 'rural', 'insecte_ordre_Opiliones'})\n",
      " frozenset({'plante_famille_Asteraceae', 'nebulosite_0-25%', 'insecte_ordre_Opiliones'})\n",
      " frozenset({'plante_famille_Asteraceae', 'nebulosite_0-25%'})\n",
      " frozenset({'vent_faible, irrégulier', 'temperature_20-30ºC'})\n",
      " frozenset({'vent_faible, irrégulier', 'temperature_20-30ºC', 'insecte_ordre_Opiliones'})\n",
      " frozenset({'rural', 'nebulosite_0-25%', 'temperature_20-30ºC'})\n",
      " frozenset({'temperature_20-30ºC', 'rural', 'nebulosite_0-25%', 'insecte_ordre_Opiliones'})\n",
      " frozenset({'plante_famille_Asteraceae', 'temperature_20-30ºC'})\n",
      " frozenset({'temperature_20-30ºC', 'plante_famille_Asteraceae', 'insecte_ordre_Opiliones'})]\n",
      "     support                                           itemsets\n",
      "15  0.743802    (insecte_ordre_Siphonophorae, nebulosite_0-25%)\n",
      "17  0.723140  (insecte_ordre_Siphonophorae, temperature_20-3...\n",
      "10  0.582645               (rural, insecte_ordre_Siphonophorae)\n",
      "18  0.516529  (vent_faible, irrégulier, insecte_ordre_Siphon...\n",
      "13  0.512397            (nebulosite_0-25%, temperature_20-30ºC)\n",
      "23  0.512397  (insecte_ordre_Siphonophorae, nebulosite_0-25%...\n",
      "8   0.450413                          (rural, nebulosite_0-25%)\n",
      "20  0.450413  (rural, insecte_ordre_Siphonophorae, nebulosit...\n",
      "9   0.413223                       (rural, temperature_20-30ºC)\n",
      "21  0.413223  (rural, insecte_ordre_Siphonophorae, temperatu...\n",
      "12  0.409091  (plante_famille_Apiaceae, insecte_ordre_Siphon...\n",
      "16  0.396694     (vent_faible, irrégulier, temperature_20-30ºC)\n",
      "25  0.396694  (vent_faible, irrégulier, insecte_ordre_Siphon...\n",
      "14  0.380165        (vent_faible, irrégulier, nebulosite_0-25%)\n",
      "24  0.380165  (vent_faible, irrégulier, insecte_ordre_Siphon...\n",
      "11  0.305785        (plante_famille_Apiaceae, nebulosite_0-25%)\n",
      "22  0.305785  (plante_famille_Apiaceae, insecte_ordre_Siphon...\n",
      "7   0.301653        (jardin privé, insecte_ordre_Siphonophorae)\n",
      "19  0.301653     (rural, nebulosite_0-25%, temperature_20-30ºC)\n",
      "26  0.301653  (rural, insecte_ordre_Siphonophorae, nebulosit...\n",
      "[frozenset({'insecte_ordre_Siphonophorae', 'nebulosite_0-25%'})\n",
      " frozenset({'insecte_ordre_Siphonophorae', 'temperature_20-30ºC'})\n",
      " frozenset({'rural', 'insecte_ordre_Siphonophorae'})\n",
      " frozenset({'vent_faible, irrégulier', 'insecte_ordre_Siphonophorae'})\n",
      " frozenset({'nebulosite_0-25%', 'temperature_20-30ºC'})\n",
      " frozenset({'insecte_ordre_Siphonophorae', 'nebulosite_0-25%', 'temperature_20-30ºC'})\n",
      " frozenset({'rural', 'nebulosite_0-25%'})\n",
      " frozenset({'rural', 'insecte_ordre_Siphonophorae', 'nebulosite_0-25%'})\n",
      " frozenset({'rural', 'temperature_20-30ºC'})\n",
      " frozenset({'rural', 'insecte_ordre_Siphonophorae', 'temperature_20-30ºC'})\n",
      " frozenset({'plante_famille_Apiaceae', 'insecte_ordre_Siphonophorae'})\n",
      " frozenset({'vent_faible, irrégulier', 'temperature_20-30ºC'})\n",
      " frozenset({'vent_faible, irrégulier', 'insecte_ordre_Siphonophorae', 'temperature_20-30ºC'})\n",
      " frozenset({'vent_faible, irrégulier', 'nebulosite_0-25%'})\n",
      " frozenset({'vent_faible, irrégulier', 'insecte_ordre_Siphonophorae', 'nebulosite_0-25%'})\n",
      " frozenset({'plante_famille_Apiaceae', 'nebulosite_0-25%'})\n",
      " frozenset({'plante_famille_Apiaceae', 'insecte_ordre_Siphonophorae', 'nebulosite_0-25%'})\n",
      " frozenset({'jardin privé', 'insecte_ordre_Siphonophorae'})\n",
      " frozenset({'rural', 'nebulosite_0-25%', 'temperature_20-30ºC'})\n",
      " frozenset({'rural', 'insecte_ordre_Siphonophorae', 'nebulosite_0-25%', 'temperature_20-30ºC'})]\n",
      "     support                                           itemsets\n",
      "12  0.839623        (insecte_ordre_Mecoptera, nebulosite_0-25%)\n",
      "8   0.577830                   (insecte_ordre_Mecoptera, rural)\n",
      "14  0.558962     (insecte_ordre_Mecoptera, temperature_20-30ºC)\n",
      "6   0.492925                          (rural, nebulosite_0-25%)\n",
      "16  0.492925  (insecte_ordre_Mecoptera, rural, nebulosite_0-...\n",
      "10  0.478774            (nebulosite_0-25%, temperature_20-30ºC)\n",
      "19  0.478774  (insecte_ordre_Mecoptera, nebulosite_0-25%, te...\n",
      "15  0.455189  (vent_faible, irrégulier, insecte_ordre_Mecopt...\n",
      "13  0.393868     (insecte_ordre_Mecoptera, temperature_10-20ºC)\n",
      "11  0.379717        (vent_faible, irrégulier, nebulosite_0-25%)\n",
      "20  0.379717  (vent_faible, irrégulier, insecte_ordre_Mecopt...\n",
      "7   0.320755                       (rural, temperature_20-30ºC)\n",
      "17  0.320755  (insecte_ordre_Mecoptera, rural, temperature_2...\n",
      "9   0.316038            (temperature_10-20ºC, nebulosite_0-25%)\n",
      "18  0.316038  (insecte_ordre_Mecoptera, temperature_10-20ºC,...\n",
      "[frozenset({'insecte_ordre_Mecoptera', 'nebulosite_0-25%'})\n",
      " frozenset({'insecte_ordre_Mecoptera', 'rural'})\n",
      " frozenset({'insecte_ordre_Mecoptera', 'temperature_20-30ºC'})\n",
      " frozenset({'rural', 'nebulosite_0-25%'})\n",
      " frozenset({'insecte_ordre_Mecoptera', 'rural', 'nebulosite_0-25%'})\n",
      " frozenset({'nebulosite_0-25%', 'temperature_20-30ºC'})\n",
      " frozenset({'insecte_ordre_Mecoptera', 'nebulosite_0-25%', 'temperature_20-30ºC'})\n",
      " frozenset({'vent_faible, irrégulier', 'insecte_ordre_Mecoptera'})\n",
      " frozenset({'insecte_ordre_Mecoptera', 'temperature_10-20ºC'})\n",
      " frozenset({'vent_faible, irrégulier', 'nebulosite_0-25%'})\n",
      " frozenset({'vent_faible, irrégulier', 'insecte_ordre_Mecoptera', 'nebulosite_0-25%'})\n",
      " frozenset({'rural', 'temperature_20-30ºC'})\n",
      " frozenset({'insecte_ordre_Mecoptera', 'rural', 'temperature_20-30ºC'})\n",
      " frozenset({'temperature_10-20ºC', 'nebulosite_0-25%'})\n",
      " frozenset({'insecte_ordre_Mecoptera', 'temperature_10-20ºC', 'nebulosite_0-25%'})]\n",
      "     support                                           itemsets\n",
      "12  0.742424       (insecte_ordre_Dermaptera, nebulosite_0-25%)\n",
      "14  0.577922    (insecte_ordre_Dermaptera, temperature_20-30ºC)\n",
      "9   0.489177                  (rural, insecte_ordre_Dermaptera)\n",
      "15  0.452381  (vent_faible, irrégulier, insecte_ordre_Dermap...\n",
      "10  0.441558            (nebulosite_0-25%, temperature_20-30ºC)\n",
      "17  0.441558  (insecte_ordre_Dermaptera, nebulosite_0-25%, t...\n",
      "7   0.370130           (jardin privé, insecte_ordre_Dermaptera)\n",
      "8   0.370130                          (rural, nebulosite_0-25%)\n",
      "16  0.370130  (rural, insecte_ordre_Dermaptera, nebulosite_0...\n",
      "13  0.359307    (temperature_10-20ºC, insecte_ordre_Dermaptera)\n",
      "11  0.337662        (vent_faible, irrégulier, nebulosite_0-25%)\n",
      "18  0.337662  (vent_faible, irrégulier, insecte_ordre_Dermap...\n",
      "[frozenset({'insecte_ordre_Dermaptera', 'nebulosite_0-25%'})\n",
      " frozenset({'insecte_ordre_Dermaptera', 'temperature_20-30ºC'})\n",
      " frozenset({'rural', 'insecte_ordre_Dermaptera'})\n",
      " frozenset({'vent_faible, irrégulier', 'insecte_ordre_Dermaptera'})\n",
      " frozenset({'nebulosite_0-25%', 'temperature_20-30ºC'})\n",
      " frozenset({'insecte_ordre_Dermaptera', 'nebulosite_0-25%', 'temperature_20-30ºC'})\n",
      " frozenset({'jardin privé', 'insecte_ordre_Dermaptera'})\n",
      " frozenset({'rural', 'nebulosite_0-25%'})\n",
      " frozenset({'rural', 'insecte_ordre_Dermaptera', 'nebulosite_0-25%'})\n",
      " frozenset({'temperature_10-20ºC', 'insecte_ordre_Dermaptera'})\n",
      " frozenset({'vent_faible, irrégulier', 'nebulosite_0-25%'})\n",
      " frozenset({'vent_faible, irrégulier', 'insecte_ordre_Dermaptera', 'nebulosite_0-25%'})]\n",
      "     support                                           itemsets\n",
      "12  0.777778    (insecte_ordre_Raphidioptera, nebulosite_0-25%)\n",
      "15  0.611111  (insecte_ordre_Raphidioptera, temperature_20-3...\n",
      "10  0.555556            (nebulosite_0-25%, temperature_20-30ºC)\n",
      "18  0.555556  (insecte_ordre_Raphidioptera, nebulosite_0-25%...\n",
      "17  0.444444  (vent_faible, irrégulier, insecte_ordre_Raphid...\n",
      "8   0.388889       (insecte_ordre_Raphidioptera, bord de route)\n",
      "9   0.388889               (rural, insecte_ordre_Raphidioptera)\n",
      "11  0.388889        (vent_faible, irrégulier, nebulosite_0-25%)\n",
      "13  0.388889  (temperature_10-20ºC, insecte_ordre_Raphidiopt...\n",
      "19  0.388889  (vent_faible, irrégulier, insecte_ordre_Raphid...\n",
      "14  0.333333     (vent_faible, irrégulier, temperature_20-30ºC)\n",
      "16  0.333333  (insecte_ordre_Raphidioptera, vent_faible, con...\n",
      "20  0.333333  (vent_faible, irrégulier, insecte_ordre_Raphid...\n",
      "[frozenset({'insecte_ordre_Raphidioptera', 'nebulosite_0-25%'})\n",
      " frozenset({'insecte_ordre_Raphidioptera', 'temperature_20-30ºC'})\n",
      " frozenset({'nebulosite_0-25%', 'temperature_20-30ºC'})\n",
      " frozenset({'insecte_ordre_Raphidioptera', 'nebulosite_0-25%', 'temperature_20-30ºC'})\n",
      " frozenset({'vent_faible, irrégulier', 'insecte_ordre_Raphidioptera'})\n",
      " frozenset({'insecte_ordre_Raphidioptera', 'bord de route'})\n",
      " frozenset({'rural', 'insecte_ordre_Raphidioptera'})\n",
      " frozenset({'vent_faible, irrégulier', 'nebulosite_0-25%'})\n",
      " frozenset({'temperature_10-20ºC', 'insecte_ordre_Raphidioptera'})\n",
      " frozenset({'vent_faible, irrégulier', 'insecte_ordre_Raphidioptera', 'nebulosite_0-25%'})\n",
      " frozenset({'vent_faible, irrégulier', 'temperature_20-30ºC'})\n",
      " frozenset({'insecte_ordre_Raphidioptera', 'vent_faible, continu'})\n",
      " frozenset({'vent_faible, irrégulier', 'insecte_ordre_Raphidioptera', 'temperature_20-30ºC'})]\n",
      "     support                                           itemsets\n",
      "15  0.807692    (insecte_ordre_Ephemeroptera, nebulosite_0-25%)\n",
      "17  0.576923  (insecte_ordre_Ephemeroptera, temperature_20-3...\n",
      "13  0.500000            (nebulosite_0-25%, temperature_20-30ºC)\n",
      "21  0.500000  (insecte_ordre_Ephemeroptera, nebulosite_0-25%...\n",
      "12  0.442308         (péri-urbain, insecte_ordre_Ephemeroptera)\n",
      "18  0.423077  (vent_faible, irrégulier, insecte_ordre_Epheme...\n",
      "9   0.403846       (insecte_ordre_Ephemeroptera, bord de l'eau)\n",
      "16  0.384615  (temperature_10-20ºC, insecte_ordre_Ephemeropt...\n",
      "11  0.365385                    (péri-urbain, nebulosite_0-25%)\n",
      "14  0.365385        (vent_faible, irrégulier, nebulosite_0-25%)\n",
      "20  0.365385  (péri-urbain, insecte_ordre_Ephemeroptera, neb...\n",
      "22  0.365385  (vent_faible, irrégulier, insecte_ordre_Epheme...\n",
      "8   0.346154                  (nebulosite_0-25%, bord de l'eau)\n",
      "10  0.346154        (jardin privé, insecte_ordre_Ephemeroptera)\n",
      "19  0.346154  (insecte_ordre_Ephemeroptera, nebulosite_0-25%...\n",
      "[frozenset({'insecte_ordre_Ephemeroptera', 'nebulosite_0-25%'})\n",
      " frozenset({'insecte_ordre_Ephemeroptera', 'temperature_20-30ºC'})\n",
      " frozenset({'nebulosite_0-25%', 'temperature_20-30ºC'})\n",
      " frozenset({'insecte_ordre_Ephemeroptera', 'nebulosite_0-25%', 'temperature_20-30ºC'})\n",
      " frozenset({'péri-urbain', 'insecte_ordre_Ephemeroptera'})\n",
      " frozenset({'vent_faible, irrégulier', 'insecte_ordre_Ephemeroptera'})\n",
      " frozenset({'insecte_ordre_Ephemeroptera', \"bord de l'eau\"})\n",
      " frozenset({'temperature_10-20ºC', 'insecte_ordre_Ephemeroptera'})\n",
      " frozenset({'péri-urbain', 'nebulosite_0-25%'})\n",
      " frozenset({'vent_faible, irrégulier', 'nebulosite_0-25%'})\n",
      " frozenset({'péri-urbain', 'insecte_ordre_Ephemeroptera', 'nebulosite_0-25%'})\n",
      " frozenset({'vent_faible, irrégulier', 'insecte_ordre_Ephemeroptera', 'nebulosite_0-25%'})\n",
      " frozenset({'nebulosite_0-25%', \"bord de l'eau\"})\n",
      " frozenset({'jardin privé', 'insecte_ordre_Ephemeroptera'})\n",
      " frozenset({'insecte_ordre_Ephemeroptera', 'nebulosite_0-25%', \"bord de l'eau\"})]\n",
      "     support                                           itemsets\n",
      "13  0.674129        (insecte_ordre_Blattodea, nebulosite_0-25%)\n",
      "15  0.582090     (insecte_ordre_Blattodea, temperature_20-30ºC)\n",
      "9   0.467662            (jardin privé, insecte_ordre_Blattodea)\n",
      "17  0.440299                (insecte_ordre_Blattodea, vent_nul)\n",
      "16  0.395522  (vent_faible, irrégulier, insecte_ordre_Blatto...\n",
      "11  0.385572            (nebulosite_0-25%, temperature_20-30ºC)\n",
      "19  0.385572  (insecte_ordre_Blattodea, nebulosite_0-25%, te...\n",
      "14  0.360697     (insecte_ordre_Blattodea, temperature_10-20ºC)\n",
      "10  0.340796                   (insecte_ordre_Blattodea, rural)\n",
      "8   0.338308                   (jardin privé, nebulosite_0-25%)\n",
      "18  0.338308  (jardin privé, insecte_ordre_Blattodea, nebulo...\n",
      "12  0.303483                       (nebulosite_0-25%, vent_nul)\n",
      "20  0.303483  (insecte_ordre_Blattodea, nebulosite_0-25%, ve...\n",
      "[frozenset({'insecte_ordre_Blattodea', 'nebulosite_0-25%'})\n",
      " frozenset({'insecte_ordre_Blattodea', 'temperature_20-30ºC'})\n",
      " frozenset({'jardin privé', 'insecte_ordre_Blattodea'})\n",
      " frozenset({'insecte_ordre_Blattodea', 'vent_nul'})\n",
      " frozenset({'vent_faible, irrégulier', 'insecte_ordre_Blattodea'})\n",
      " frozenset({'nebulosite_0-25%', 'temperature_20-30ºC'})\n",
      " frozenset({'insecte_ordre_Blattodea', 'nebulosite_0-25%', 'temperature_20-30ºC'})\n",
      " frozenset({'insecte_ordre_Blattodea', 'temperature_10-20ºC'})\n",
      " frozenset({'insecte_ordre_Blattodea', 'rural'})\n",
      " frozenset({'jardin privé', 'nebulosite_0-25%'})\n",
      " frozenset({'jardin privé', 'insecte_ordre_Blattodea', 'nebulosite_0-25%'})\n",
      " frozenset({'nebulosite_0-25%', 'vent_nul'})\n",
      " frozenset({'insecte_ordre_Blattodea', 'nebulosite_0-25%', 'vent_nul'})]\n"
     ]
    }
   ],
   "source": [
    "for insect in ['Hymenoptera', 'Diptera', 'Orthoptera', 'Coleoptera', 'Hemiptera', 'Araneae', \n",
    "               'Lepidoptera', 'Ericales', 'Neuroptera', 'Opiliones', 'Siphonophorae', \n",
    "               'Mecoptera', 'Dermaptera', 'Raphidioptera', 'Ephemeroptera', 'Blattodea']:\n",
    "\n",
    "    data=df.where(df['insecte_ordre']==insect).dropna(subset=['insecte_ordre'])\n",
    "    \n",
    "    #Nettoyage des colonnes inutiles (on ne garde que plante_famille pour les taxons de plantes)\n",
    "    to_drop= ['plante_genre', 'plante_espece', 'plante_sc',\n",
    "       'plante_fr', 'plante_precision', 'grande_culture',\n",
    "       'collection_date', 'collection_heure_debut', \n",
    "        'insecte_super_famille',\n",
    "       'insecte_famille', 'insecte_sous_famille', 'insecte_genre',\n",
    "       'insecte_espece', 'insecte_sc', 'insecte_fr',\n",
    "       'insecte_denominationPlusPrecise', 'insecte_CdNomtaxref']\n",
    "    data.drop(columns=to_drop, inplace=True)\n",
    "    \n",
    "    # One hot encoding\n",
    "    df_encoded = pd.get_dummies(data)\n",
    "    df_encoded = df_encoded.astype(bool)\n",
    "    \n",
    "    # Algo a priori sur le jeu encodé\n",
    "    frequent_itemsets = apriori(df_encoded, min_support=0.3, use_colnames=True)\n",
    "\n",
    "    # Filtrer les motifs fréquents pour une taille minimale de 2\n",
    "    frequent_itemsets['length'] = frequent_itemsets['itemsets'].apply(lambda x: len(x))\n",
    "    frequent_itemsets = frequent_itemsets[frequent_itemsets['length'] >= 2].drop(columns='length')\n",
    "\n",
    "    # Classement par ordre décroissant de support \n",
    "    frequent_itemsets = frequent_itemsets.sort_values(by='support', ascending=False)\n",
    "    print(frequent_itemsets)\n",
    "    print(frequent_itemsets['itemsets'].unique())\n",
    "    \n",
    "    # Recherche de règles d'association avec un lift supérieur à 1 \n",
    "    #rules = association_rules(frequent_itemsets, metric=\"lift\", min_threshold=1, support_only=True)\n",
    "    \n",
    "    # Affichage des règles d'association intéressantes\n",
    "    #if len(rules)>0: \n",
    "        #print(insect, \" : \", rules)"
   ]
  },
  {
   "cell_type": "markdown",
   "id": "8648ae9b-b07d-4be1-9869-60c48027b734",
   "metadata": {},
   "source": [
    "On obtient des motifs fréquents insectes - plantes suivants : \n",
    "- opilions et astéracées : support de 0.45\n",
    "- Neuroptères et Apiacées : support de 0.39\n",
    "- orthoptères et astéracées : support de 0.36\n",
    "- hémiptères et astéracées : 0.35\n",
    "- araignées et astéracées : 0.32\n",
    "- Neuroptères et astéracées : 0.32\n",
    "- lépidoptères et astéracées : 0.31\n",
    "- coléoptères et astéracées : 0.3\n",
    "\n",
    "- (?) siphonophores et apiacées: support de 0.40 (Les siphonophores  forment un ordre d'organismes zooplanctoniques gélatineux (?)...)"
   ]
  },
  {
   "cell_type": "markdown",
   "id": "399a89d9-d7b0-4f68-a58a-887414bba13f",
   "metadata": {},
   "source": [
    "On complète le code ci-dessus afin de rechercher de potentielles règles d'associations importantes à partir de ces motifs fréquents. "
   ]
  },
  {
   "cell_type": "code",
   "execution_count": 80,
   "id": "3c55a366-6b80-4984-ae0b-5cb1a5150960",
   "metadata": {
    "tags": []
   },
   "outputs": [
    {
     "name": "stdout",
     "output_type": "stream",
     "text": [
      "Hymenoptera : no important rules\n",
      "Diptera : no important rules\n",
      "Orthoptera : no important rules\n",
      "Coleoptera : no important rules\n",
      "Hemiptera : no important rules\n",
      "Araneae : no important rules\n",
      "Lepidoptera : no important rules\n",
      "Ericales : no important rules\n",
      "Neuroptera : no important rules\n",
      "Opiliones : no important rules\n",
      "Siphonophorae : no important rules\n",
      "Mecoptera : no important rules\n",
      "Dermaptera : no important rules\n",
      "Raphidioptera : no important rules\n",
      "Ephemeroptera : no important rules\n",
      "Blattodea : no important rules\n"
     ]
    }
   ],
   "source": [
    "for insect in ['Hymenoptera', 'Diptera', 'Orthoptera', 'Coleoptera', 'Hemiptera', 'Araneae', \n",
    "               'Lepidoptera', 'Ericales', 'Neuroptera', 'Opiliones', 'Siphonophorae', \n",
    "               'Mecoptera', 'Dermaptera', 'Raphidioptera', 'Ephemeroptera', 'Blattodea']:\n",
    "\n",
    "    data=df.where(df['insecte_ordre']==insect).dropna(subset=['insecte_ordre'])\n",
    "    \n",
    "    #Nettoyage des colonnes inutiles (on ne garde que plante_famille pour les taxons de plantes)\n",
    "    to_drop= ['plante_genre', 'plante_espece', 'plante_sc',\n",
    "       'plante_fr', 'plante_precision', 'grande_culture',\n",
    "       'collection_date', 'collection_heure_debut', \n",
    "        'insecte_super_famille',\n",
    "       'insecte_famille', 'insecte_sous_famille', 'insecte_genre',\n",
    "       'insecte_espece', 'insecte_sc', 'insecte_fr',\n",
    "       'insecte_denominationPlusPrecise', 'insecte_CdNomtaxref']\n",
    "    data.drop(columns=to_drop, inplace=True)\n",
    "    \n",
    "    # One hot encoding\n",
    "    df_encoded = pd.get_dummies(data)\n",
    "    df_encoded = df_encoded.astype(bool)\n",
    "    \n",
    "    # Algo a priori sur le jeu encodé\n",
    "    frequent_itemsets = apriori(df_encoded, min_support=0.3, use_colnames=True)\n",
    "\n",
    "    # Filtrer les motifs fréquents pour une taille minimale de 2\n",
    "    frequent_itemsets['length'] = frequent_itemsets['itemsets'].apply(lambda x: len(x))\n",
    "    frequent_itemsets = frequent_itemsets[frequent_itemsets['length'] >= 2].drop(columns='length')\n",
    "\n",
    "    # Classement par ordre décroissant de support \n",
    "    frequent_itemsets = frequent_itemsets.sort_values(by='support', ascending=False)\n",
    "    #print(frequent_itemsets)\n",
    "    #print(frequent_itemsets['itemsets'].unique())\n",
    "    \n",
    "    # Recherche de règles d'association avec un lift supérieur à 1 \n",
    "    rules = association_rules(frequent_itemsets, metric=\"lift\", min_threshold=1, support_only=True)\n",
    "    \n",
    "    # Affichage des règles d'association intéressantes\n",
    "    if len(rules)>0: \n",
    "        print(insect, \" : \", rules)\n",
    "    else : print(insect, \": no important rules\")"
   ]
  },
  {
   "cell_type": "markdown",
   "id": "57c664f8-a0c0-4d60-95ef-a0cf2797a621",
   "metadata": {},
   "source": [
    "Malgré les motifs fréquents relevés, aucune règle d'association importante n'a été soulevée (sur la base de la métrique du lift)."
   ]
  },
  {
   "cell_type": "markdown",
   "id": "5c7e8260-56bc-42ee-89b3-7df99461395e",
   "metadata": {},
   "source": [
    "# Interprétations, conclusions et suites"
   ]
  },
  {
   "cell_type": "markdown",
   "id": "332d3992-0fda-4de2-8acf-4ed07d7de962",
   "metadata": {},
   "source": [
    "Résumé des motifs fréquents relevés (support minimal de 0.3) :\n",
    "- opilions et astéracées : support de 0.45. Les opilions se distinguent des araignées par l'absence de venin et de soie.  On les trouve souvent au sol, sur des arbustes, voire des arbres pour certaines espèces arboricoles, sous des objets divers (pierres, morceaux de bois), dans des morceaux de bois, dans les fissures des pierres, etc. \n",
    "    - Fréquents avec astéracées surement due à la sur-représentation des astéracées dans le jeu de données. \n",
    "- Neuroptères et Apiacées : support de 0.39\n",
    "    - Les Neuroptères sont des insectes carnivores et réputés pour s'attaquer aux proies tendres. Certains d'entre eux comme les chrysopes sont des auxiliaires prédateurs efficaces, en particulier contre les pucerons. Or, les plantes de la famille des Apiacées, qui comprennent des espèces telles que le persil, le céleri et la carotte, sont connues pour être la cible de pucerons. Ainsi, la présence fréquente des Neuroptères près de plantes de la famille des Apiacées pourrait indiquer une relation bénéfique, telle que la prédation contre les pucerons. \n",
    "- orthoptères et astéracées : support de 0.36. Ces animaux se caractérisent par des ailes alignées par rapport au corps. On estime à 22 000 le nombre d'espèces présentes sur la planète. La grande majorité de ces espèces sont phytophages (se nourrissent de végétaux), bien que plusieurs soient régulièrement prédatrices. Cet ordre est scindé en deux sous-ordres : les ensifères (grillons et sauterelles) et les caelifères.(criquets). Les criquets ont un grand appétit pour divers types de végétation. Ils consomment une large gamme de plantes, notamment des cultures, des graminées, des feuilles, des fleurs, des fruits, des graines, de l’écorce et des céréales. Leur régime ne se limite pas à un type spécifique de plante mais englobe une sélection diversifiée.(scalecompanions.com) \n",
    "    - Fréquents avec astéracées surement due à la sur-représentation des astéracées dans le jeu de données.\n",
    "- Hémiptères et astéracées : 0.35\n",
    "- araignées et astéracées : 0.32\n",
    "- Neuroptères et astéracées : 0.32\n",
    "- lépidoptères et astéracées : 0.31. Forme adulte (ou imago) est communément appelée papillon.\n",
    "- coléoptères et astéracées : 0.3. Certains sont détritivores, décomposant les débris de végétaux. D'autres se nourrissent de charogne ou d'excréments. D'autres encore se nourrissent de champignons. Certains sont phytophages; spécialistes ou généralistes, ils s'alimentent de pollen, de fleurs et de fruits."
   ]
  }
 ],
 "metadata": {
  "kernelspec": {
   "display_name": "Python 3 (ipykernel)",
   "language": "python",
   "name": "python3"
  },
  "language_info": {
   "codemirror_mode": {
    "name": "ipython",
    "version": 3
   },
   "file_extension": ".py",
   "mimetype": "text/x-python",
   "name": "python",
   "nbconvert_exporter": "python",
   "pygments_lexer": "ipython3",
   "version": "3.11.4"
  }
 },
 "nbformat": 4,
 "nbformat_minor": 5
}
